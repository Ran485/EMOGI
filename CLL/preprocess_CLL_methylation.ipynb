{
 "cells": [
  {
   "cell_type": "markdown",
   "metadata": {},
   "source": [
    "# Preprocessing of CLL DNA Methylation Data\n",
    "The experiment was done with human donors. We have blood from healthly donors (HD), some precursor to CLL called MBL and "
   ]
  },
  {
   "cell_type": "code",
   "execution_count": 1,
   "metadata": {},
   "outputs": [],
   "source": [
    "import pandas as pd\n",
    "import numpy as np\n",
    "import h5py, os, sys\n",
    "import mygene\n",
    "import networkx as nx\n",
    "import umap\n",
    "\n",
    "sys.path.append(os.path.abspath('../GCN'))\n",
    "import gcnPreprocessing\n",
    "import gcnIO\n",
    "\n",
    "import matplotlib.pyplot as plt\n",
    "plt.rc('font', family='Times New Roman')\n",
    "import seaborn as sns\n",
    "%matplotlib inline"
   ]
  },
  {
   "cell_type": "markdown",
   "metadata": {},
   "source": [
    "## Parameters\n",
    "* `ppi_network_to_use`: Which underlying PPI network to use (can be [CPDB](http://cpdb.molgen.mpg.de/CPDB), [IREF](http://irefindex.org/wiki/index.php?title=iRefIndex) or Multinet)\n",
    "* `use_only_blood_cancer_genes`: Whether or not to remove non-blood cancer genes according to [COSMIC CGC](https://cancer.sanger.ac.uk/cosmic/download) from the positive labels (known cancer genes) or not (True for using only blood cancer genes, False for using all known cancer genes)\n",
    "* `label_source`: Which source to use for the positive labels (known cancer genes). This can come from either the [NCG](https://genomebiology.biomedcentral.com/articles/10.1186/s13059-018-1612-0) or a literature mining approach called [DigSEE](http://210.107.182.61/digseeOld/). While the NCG known cancer genes represent a manually curated list with pan-cancer genes, this source is highly biased to over-studied genes and mutations. DigSEE genes, on the other hand, are only mined from PubMed abstracts and therefore much less reliable but on the other hand less biased. DigSEE enables to look for the evidence that leads to a cancer and therefore options for this variable are: _NCG_, _expression_, _mutation_, _digsee_all_\n",
    "* `minimum_degree_negatives`: Set a minimum node degree for the negative examples (non-cancer genes) in order to avoid learning mostly node degrees of genes (can be very informative)"
   ]
  },
  {
   "cell_type": "code",
   "execution_count": 2,
   "metadata": {},
   "outputs": [],
   "source": [
    "# PARAMETERS\n",
    "ppi_network_to_use ='IREF'\n",
    "use_only_blood_cancer_genes = True\n",
    "label_source = 'wu'\n",
    "minimum_degree_negatives = 1\n",
    "average_patients = False"
   ]
  },
  {
   "cell_type": "markdown",
   "metadata": {},
   "source": [
    "## Functions"
   ]
  },
  {
   "cell_type": "code",
   "execution_count": 3,
   "metadata": {},
   "outputs": [],
   "source": [
    "def get_gene_symbols(list_of_ensembl_ids):\n",
    "    # get Ensembl IDs for gene names\n",
    "    mg = mygene.MyGeneInfo()\n",
    "    res = mg.querymany(list_of_ensembl_ids,\n",
    "                       scopes='ensembl.gene',\n",
    "                       fields='symbol',\n",
    "                       species='human', returnall=True\n",
    "                      )\n",
    "\n",
    "    def get_symbol_and_ensembl(d):\n",
    "        if 'symbol' in d:\n",
    "            return [d['query'], d['symbol']]\n",
    "        else:\n",
    "            return [d['query'], None]\n",
    "\n",
    "    node_names = [get_symbol_and_ensembl(d) for d in res['out']]\n",
    "    # now, retrieve the names and IDs from a dictionary and put in DF\n",
    "    node_names = pd.DataFrame(node_names, columns=['Ensembl_ID', 'Symbol']).set_index('Ensembl_ID')\n",
    "    node_names.dropna(axis=0, inplace=True)\n",
    "    return node_names\n",
    "\n",
    "def get_ensembl_ids(list_of_gene_symbols):\n",
    "    # get Ensembl IDs for gene names\n",
    "    mg = mygene.MyGeneInfo()\n",
    "    res = mg.querymany(list_of_gene_symbols,\n",
    "                       scopes='symbol, refseq, uniprot',\n",
    "                       fields='ensembl.gene',\n",
    "                       species='human', returnall=True\n",
    "                      )\n",
    "\n",
    "    # now, retrieve the names and IDs from a dictionary and put in DF\n",
    "    def get_name_and_id(x):\n",
    "        if 'ensembl' in x:\n",
    "            ens_id = x['ensembl'][0]['gene'] if type(x['ensembl']) is list else x['ensembl']['gene']\n",
    "            symbol = x['query']\n",
    "            return [symbol, ens_id]\n",
    "        else:\n",
    "            return [x['query'], None]\n",
    "\n",
    "    ens_ids = [get_name_and_id(x) for x in res['out']]\n",
    "    \n",
    "    node_names = pd.DataFrame(ens_ids, columns=['Symbol', 'Ensembl_ID']).set_index('Ensembl_ID')\n",
    "    node_names.dropna(axis=0, inplace=True)\n",
    "    node_names.drop_duplicates(inplace=True)\n",
    "    return node_names"
   ]
  },
  {
   "cell_type": "markdown",
   "metadata": {},
   "source": [
    "## Load the data and join gene map with DNA methylation"
   ]
  },
  {
   "cell_type": "code",
   "execution_count": 4,
   "metadata": {},
   "outputs": [
    {
     "data": {
      "text/html": [
       "<div>\n",
       "<style scoped>\n",
       "    .dataframe tbody tr th:only-of-type {\n",
       "        vertical-align: middle;\n",
       "    }\n",
       "\n",
       "    .dataframe tbody tr th {\n",
       "        vertical-align: top;\n",
       "    }\n",
       "\n",
       "    .dataframe thead th {\n",
       "        text-align: right;\n",
       "    }\n",
       "</style>\n",
       "<table border=\"1\" class=\"dataframe\">\n",
       "  <thead>\n",
       "    <tr style=\"text-align: right;\">\n",
       "      <th></th>\n",
       "      <th>chr</th>\n",
       "      <th>start</th>\n",
       "      <th>end</th>\n",
       "      <th>HD_1</th>\n",
       "      <th>HD_2</th>\n",
       "      <th>HD_3</th>\n",
       "      <th>HD_4</th>\n",
       "      <th>HD_5</th>\n",
       "      <th>MBL_unmut_1</th>\n",
       "      <th>MBL_unmut_16</th>\n",
       "      <th>...</th>\n",
       "      <th>MBL_2958</th>\n",
       "      <th>MBL_2781</th>\n",
       "      <th>MBL_3036</th>\n",
       "      <th>CLL_2443</th>\n",
       "      <th>CLL_2918</th>\n",
       "      <th>CLL_2958</th>\n",
       "      <th>CLL_2781</th>\n",
       "      <th>CLL_3036</th>\n",
       "      <th>gene</th>\n",
       "      <th>location</th>\n",
       "    </tr>\n",
       "  </thead>\n",
       "  <tbody>\n",
       "    <tr>\n",
       "      <th>0</th>\n",
       "      <td>chr1</td>\n",
       "      <td>10496</td>\n",
       "      <td>10498</td>\n",
       "      <td>0.780</td>\n",
       "      <td>0.820</td>\n",
       "      <td>0.925</td>\n",
       "      <td>1.000</td>\n",
       "      <td>0.885</td>\n",
       "      <td>0.875</td>\n",
       "      <td>1.000</td>\n",
       "      <td>...</td>\n",
       "      <td>0.722</td>\n",
       "      <td>1.000</td>\n",
       "      <td>1.000</td>\n",
       "      <td>0.950</td>\n",
       "      <td>1.000</td>\n",
       "      <td>0.682</td>\n",
       "      <td>1.000</td>\n",
       "      <td>0.966</td>\n",
       "      <td>DDX11L1</td>\n",
       "      <td>promoter</td>\n",
       "    </tr>\n",
       "    <tr>\n",
       "      <th>1</th>\n",
       "      <td>chr1</td>\n",
       "      <td>10524</td>\n",
       "      <td>10526</td>\n",
       "      <td>0.959</td>\n",
       "      <td>0.978</td>\n",
       "      <td>1.000</td>\n",
       "      <td>0.958</td>\n",
       "      <td>0.926</td>\n",
       "      <td>1.000</td>\n",
       "      <td>0.983</td>\n",
       "      <td>...</td>\n",
       "      <td>0.985</td>\n",
       "      <td>1.000</td>\n",
       "      <td>1.000</td>\n",
       "      <td>0.979</td>\n",
       "      <td>0.952</td>\n",
       "      <td>0.956</td>\n",
       "      <td>1.000</td>\n",
       "      <td>1.000</td>\n",
       "      <td>DDX11L1</td>\n",
       "      <td>promoter</td>\n",
       "    </tr>\n",
       "    <tr>\n",
       "      <th>2</th>\n",
       "      <td>chr1</td>\n",
       "      <td>10541</td>\n",
       "      <td>10543</td>\n",
       "      <td>0.982</td>\n",
       "      <td>0.955</td>\n",
       "      <td>0.964</td>\n",
       "      <td>0.916</td>\n",
       "      <td>0.939</td>\n",
       "      <td>0.960</td>\n",
       "      <td>0.951</td>\n",
       "      <td>...</td>\n",
       "      <td>0.985</td>\n",
       "      <td>0.984</td>\n",
       "      <td>0.976</td>\n",
       "      <td>0.980</td>\n",
       "      <td>0.975</td>\n",
       "      <td>0.985</td>\n",
       "      <td>1.000</td>\n",
       "      <td>1.000</td>\n",
       "      <td>DDX11L1</td>\n",
       "      <td>promoter</td>\n",
       "    </tr>\n",
       "    <tr>\n",
       "      <th>3</th>\n",
       "      <td>chr1</td>\n",
       "      <td>10562</td>\n",
       "      <td>10564</td>\n",
       "      <td>0.905</td>\n",
       "      <td>0.922</td>\n",
       "      <td>0.964</td>\n",
       "      <td>0.895</td>\n",
       "      <td>0.839</td>\n",
       "      <td>0.920</td>\n",
       "      <td>0.983</td>\n",
       "      <td>...</td>\n",
       "      <td>0.782</td>\n",
       "      <td>0.809</td>\n",
       "      <td>1.000</td>\n",
       "      <td>0.850</td>\n",
       "      <td>0.951</td>\n",
       "      <td>0.828</td>\n",
       "      <td>0.838</td>\n",
       "      <td>0.984</td>\n",
       "      <td>DDX11L1</td>\n",
       "      <td>promoter</td>\n",
       "    </tr>\n",
       "    <tr>\n",
       "      <th>4</th>\n",
       "      <td>chr1</td>\n",
       "      <td>10570</td>\n",
       "      <td>10572</td>\n",
       "      <td>0.976</td>\n",
       "      <td>0.977</td>\n",
       "      <td>0.982</td>\n",
       "      <td>0.937</td>\n",
       "      <td>0.963</td>\n",
       "      <td>0.960</td>\n",
       "      <td>0.983</td>\n",
       "      <td>...</td>\n",
       "      <td>0.985</td>\n",
       "      <td>0.968</td>\n",
       "      <td>0.952</td>\n",
       "      <td>1.000</td>\n",
       "      <td>0.991</td>\n",
       "      <td>0.985</td>\n",
       "      <td>0.983</td>\n",
       "      <td>1.000</td>\n",
       "      <td>DDX11L1</td>\n",
       "      <td>promoter</td>\n",
       "    </tr>\n",
       "  </tbody>\n",
       "</table>\n",
       "<p>5 rows × 119 columns</p>\n",
       "</div>"
      ],
      "text/plain": [
       "    chr  start    end   HD_1   HD_2   HD_3   HD_4   HD_5  MBL_unmut_1  \\\n",
       "0  chr1  10496  10498  0.780  0.820  0.925  1.000  0.885        0.875   \n",
       "1  chr1  10524  10526  0.959  0.978  1.000  0.958  0.926        1.000   \n",
       "2  chr1  10541  10543  0.982  0.955  0.964  0.916  0.939        0.960   \n",
       "3  chr1  10562  10564  0.905  0.922  0.964  0.895  0.839        0.920   \n",
       "4  chr1  10570  10572  0.976  0.977  0.982  0.937  0.963        0.960   \n",
       "\n",
       "   MBL_unmut_16  ...  MBL_2958  MBL_2781  MBL_3036  CLL_2443  CLL_2918  \\\n",
       "0         1.000  ...     0.722     1.000     1.000     0.950     1.000   \n",
       "1         0.983  ...     0.985     1.000     1.000     0.979     0.952   \n",
       "2         0.951  ...     0.985     0.984     0.976     0.980     0.975   \n",
       "3         0.983  ...     0.782     0.809     1.000     0.850     0.951   \n",
       "4         0.983  ...     0.985     0.968     0.952     1.000     0.991   \n",
       "\n",
       "   CLL_2958  CLL_2781  CLL_3036     gene  location  \n",
       "0     0.682     1.000     0.966  DDX11L1  promoter  \n",
       "1     0.956     1.000     1.000  DDX11L1  promoter  \n",
       "2     0.985     1.000     1.000  DDX11L1  promoter  \n",
       "3     0.828     0.838     0.984  DDX11L1  promoter  \n",
       "4     0.985     0.983     1.000  DDX11L1  promoter  \n",
       "\n",
       "[5 rows x 119 columns]"
      ]
     },
     "execution_count": 4,
     "metadata": {},
     "output_type": "execute_result"
    }
   ],
   "source": [
    "meth_data = pd.read_csv('../data/CLL/all_data.bed', sep='\\t')\n",
    "meth_data.columns = ['chr'] + meth_data.columns[1:].tolist()\n",
    "cpg2gene_map = pd.read_csv('../data/CLL/pos2gene.txt.gz', sep='\\t', compression='gzip', header=None,\n",
    "                           names=['chr', 'start', 'end', 'gene', 'location'])\n",
    "meth_data_genenames = meth_data.merge(cpg2gene_map, left_on=['chr', 'start', 'end'], right_on=['chr', 'start', 'end'])\n",
    "meth_data_genenames.head()"
   ]
  },
  {
   "cell_type": "markdown",
   "metadata": {},
   "source": [
    "## Clean Data"
   ]
  },
  {
   "cell_type": "code",
   "execution_count": 5,
   "metadata": {},
   "outputs": [
    {
     "name": "stdout",
     "output_type": "stream",
     "text": [
      "Selected only unambigous promoter CpG sites. Left with 1546225 CpG sites for 30703 genes\n",
      "\n"
     ]
    }
   ],
   "source": [
    "# select promoters only\n",
    "promonly = meth_data_genenames[meth_data_genenames.location != 'genebody']\n",
    "msg = \"Selected only unambigous promoter CpG sites. Left with {} CpG sites for {} genes\"\n",
    "print (msg.format(promonly.shape[0], promonly.gene.nunique()))\n",
    "\"\"\"\n",
    "# drop CpG sites with more than n percent NAs\n",
    "na_removed = promonly.dropna(axis=0, thresh=imputation_threshold*(promonly.shape[1]-5))\n",
    "msg = \"Dropped {} (left with {}) CpG sites because they contained too many NAs\"\n",
    "print (msg.format(promonly.shape[0]-na_removed.shape[0], na_removed.shape[0]))\n",
    "\"\"\"\n",
    "print ()"
   ]
  },
  {
   "cell_type": "markdown",
   "metadata": {},
   "source": [
    "## Compute Gene $\\times$ Sample Matrix and Impute"
   ]
  },
  {
   "cell_type": "code",
   "execution_count": 6,
   "metadata": {},
   "outputs": [],
   "source": [
    "gene_sample_average = promonly.drop(['start', 'end', 'chr', 'location'], errors='ignore', axis=1).groupby('gene').median()"
   ]
  },
  {
   "cell_type": "code",
   "execution_count": 7,
   "metadata": {},
   "outputs": [
    {
     "data": {
      "text/plain": [
       "<matplotlib.axes._subplots.AxesSubplot at 0x7f70ef317e80>"
      ]
     },
     "execution_count": 7,
     "metadata": {},
     "output_type": "execute_result"
    },
    {
     "data": {
      "image/png": "[encoded data removed]",
      "text/plain": [
       "<Figure size 864x432 with 1 Axes>"
      ]
     },
     "metadata": {
      "needs_background": "light"
     },
     "output_type": "display_data"
    }
   ],
   "source": [
    "sample_gene_average = gene_sample_average.T\n",
    "sample_gene_average['condition'] = [i[0] for i in sample_gene_average.index.str.split('_')]\n",
    "sample_gene_average.groupby('condition').mean().T.plot(kind='kde', figsize=(12, 6), lw=5)"
   ]
  },
  {
   "cell_type": "markdown",
   "metadata": {},
   "source": [
    "## Normalize using the healthy donors"
   ]
  },
  {
   "cell_type": "code",
   "execution_count": 8,
   "metadata": {},
   "outputs": [
    {
     "name": "stdout",
     "output_type": "stream",
     "text": [
      "(30703, 114)\n",
      "(28984, 114)\n"
     ]
    }
   ],
   "source": [
    "print (gene_sample_average.shape)\n",
    "gene_sample_average.dropna(subset=['HD_{}'.format(i) for i in range(1, 6)], axis=0, thresh=0.5, inplace=True)\n",
    "print (gene_sample_average.shape)"
   ]
  },
  {
   "cell_type": "code",
   "execution_count": 9,
   "metadata": {},
   "outputs": [
    {
     "data": {
      "text/plain": [
       "(28984, 109)"
      ]
     },
     "execution_count": 9,
     "metadata": {},
     "output_type": "execute_result"
    }
   ],
   "source": [
    "healthy_donors_cols = ['HD_{}'.format(i) for i in range(1, 6)]\n",
    "healthy_donors_mean = gene_sample_average[healthy_donors_cols].mean(axis=1)\n",
    "\n",
    "gene_sample_average_norm = gene_sample_average.drop(healthy_donors_cols, axis=1).subtract(healthy_donors_mean, axis=0)\n",
    "gene_sample_average_norm.shape"
   ]
  },
  {
   "cell_type": "markdown",
   "metadata": {},
   "source": [
    "## Average patients together\n",
    "At the same time, we want to preserve the condition (MBL, CLL), time points and the IGHV mutation status (here called 'aggressiveness')"
   ]
  },
  {
   "cell_type": "code",
   "execution_count": 10,
   "metadata": {},
   "outputs": [],
   "source": [
    "sample_gene_average = gene_sample_average_norm.T.copy()\n",
    "sample_gene_average['condition'] = [i[0] for i in sample_gene_average.index.str.split('_')]\n",
    "def _get_agressiveness(name):\n",
    "    if 'unmut' in name.split('_')[1]:\n",
    "        return 'unmut' \n",
    "    elif name.split('_')[1] == 'mut':\n",
    "        return 'mut'\n",
    "    else:\n",
    "        return 'unknown'\n",
    "sample_gene_average['aggressiveness'] = [_get_agressiveness(i) for i in sample_gene_average.index]\n",
    "\n",
    "def _get_treatment(name):\n",
    "    i = name.split('_')\n",
    "    if len(i) > 2:\n",
    "        if i[2] in ['pre', 'post']:\n",
    "            return i[2]\n",
    "    return \"Notreat\"\n",
    "sample_gene_average['treatment'] = [_get_treatment(i) for i in sample_gene_average.index]\n",
    "def _get_patient_and_timepoint(name):\n",
    "    val = name.split('_')[-1]\n",
    "    timepoint = 'Z'\n",
    "    if val[-1].upper() in ['A', 'B', 'C', 'D', 'E', 'F']:\n",
    "        timepoint = val[-1]\n",
    "        val = val[:-1]\n",
    "    return val, timepoint\n",
    "sample_gene_average['patient'] = [_get_patient_and_timepoint(i)[0] for i in sample_gene_average.index]\n",
    "sample_gene_average['timepoint'] = [_get_patient_and_timepoint(i)[1] for i in sample_gene_average.index]"
   ]
  },
  {
   "cell_type": "code",
   "execution_count": 11,
   "metadata": {},
   "outputs": [],
   "source": [
    "gene_group_norm = sample_gene_average.groupby(['condition', 'aggressiveness', 'timepoint']).mean().T"
   ]
  },
  {
   "cell_type": "code",
   "execution_count": 12,
   "metadata": {},
   "outputs": [
    {
     "data": {
      "text/plain": [
       "<matplotlib.axes._subplots.AxesSubplot at 0x7f70eea8a630>"
      ]
     },
     "execution_count": 12,
     "metadata": {},
     "output_type": "execute_result"
    },
    {
     "data": {
      "image/png": "[encoded data removed]",
      "text/plain": [
       "<Figure size 864x432 with 1 Axes>"
      ]
     },
     "metadata": {
      "needs_background": "light"
     },
     "output_type": "display_data"
    }
   ],
   "source": [
    "sample_gene_norm = gene_sample_average_norm.T\n",
    "sample_gene_norm['condition'] = [i[0] for i in sample_gene_norm.index.str.split('_')]\n",
    "sample_gene_norm.groupby('condition').mean().T.plot(kind='hist', figsize=(12, 6), lw=5,  bins=np.linspace(-1, 1, 50), density=True, alpha=.5)"
   ]
  },
  {
   "cell_type": "markdown",
   "metadata": {},
   "source": [
    "## Load PPI Network"
   ]
  },
  {
   "cell_type": "code",
   "execution_count": 13,
   "metadata": {},
   "outputs": [
    {
     "name": "stdout",
     "output_type": "stream",
     "text": [
      "querying 1-1000...done.\n",
      "querying 1001-2000...done.\n",
      "querying 2001-3000...done.\n",
      "querying 3001-4000...done.\n",
      "querying 4001-5000...done.\n",
      "querying 5001-6000...done.\n",
      "querying 6001-7000...done.\n",
      "querying 7001-8000...done.\n",
      "querying 8001-9000...done.\n",
      "querying 9001-10000...done.\n",
      "querying 10001-11000...done.\n",
      "querying 11001-12000...done.\n",
      "querying 12001-12129...done.\n",
      "Finished.\n",
      "8 input query terms found dup hits:\n",
      "\t[('AHRR', 2), ('ARMCX5-GPRASP2', 2), ('BIRC8', 2), ('FAM27E3', 2), ('KLRC4-KLRK1', 2), ('MEMO1', 2),\n",
      "784 input query terms found no hit:\n",
      "\t['AARS', 'ABP1', 'ACCN1', 'ACCN2', 'ACCN3', 'ACCN5', 'ACN9', 'ADCK3', 'ADRBK1', 'ADRBK2', 'ADSS', 'A\n",
      "Not translatable: 0\n",
      "Edges: 91809\tNodes: 12129\n"
     ]
    }
   ],
   "source": [
    "ppi_network = None\n",
    "if ppi_network_to_use.upper() == 'IREF':\n",
    "    net_file = '../data/pancancer/hotnet2/networks/irefindex9/irefindex9_edge_list'\n",
    "    name_file = '../data/pancancer/hotnet2/networks/irefindex9/irefindex9_index_gene'\n",
    "    edgelist = pd.read_csv(net_file, sep=' ', header=None,\n",
    "                           names=['from', 'to', 'weight'])\n",
    "    index = pd.read_csv(name_file, sep=' ', header=None, names=['name'])\n",
    "    # build network and relabel nodes to match with real names\n",
    "    ppi_graph = nx.from_pandas_edgelist(edgelist, source='from', target='to', edge_attr=None)\n",
    "    _ = nx.relabel_nodes(ppi_graph, index.to_dict()['name'], copy=False)\n",
    "    ppi_network = nx.to_pandas_adjacency(G=ppi_graph)\n",
    "    symbols_network_genes = get_ensembl_ids(ppi_network.index)\n",
    "    # Remove nodes from network that don't have corresponding gene names\n",
    "    nodes_not_translatable = ppi_network[~ppi_network.index.isin(symbols_network_genes.Symbol)].index\n",
    "    print (\"Not translatable: {}\".format(nodes_not_translatable.shape[0]))\n",
    "    ppi_graph.remove_nodes_from(nodes_not_translatable)\n",
    "    ppi_network = nx.to_pandas_adjacency(G=ppi_graph)\n",
    "    assert ((ppi_network.index == symbols_network_genes.Symbol).all())\n",
    "\n",
    "elif ppi_network_to_use.upper() == 'CPDB':\n",
    "    ppi_network = pd.read_csv('../data/networks/CPDB_symbols_edgelist.tsv', sep='\\t')\n",
    "    ppi_graph = nx.from_pandas_edgelist(df=ppi_network, source='partner1', target='partner2', edge_attr='confidence')\n",
    "    ppi_network = nx.to_pandas_adjacency(G=ppi_graph)\n",
    "else:\n",
    "    print (\"No PPI network named {}\".format(ppi_network_to_use))\n",
    "\n",
    "print (\"Edges: {}\\tNodes: {}\".format(ppi_graph.number_of_edges(), ppi_graph.number_of_nodes()))"
   ]
  },
  {
   "cell_type": "code",
   "execution_count": 14,
   "metadata": {},
   "outputs": [
    {
     "name": "stdout",
     "output_type": "stream",
     "text": [
      "No data for 1617 / 12129 genes. Replacing them with 0\n"
     ]
    }
   ],
   "source": [
    "if average_patients:\n",
    "    features_ppiindex = gene_group_norm.reindex(ppi_network.index, fill_value=0)\n",
    "else:\n",
    "    features_ppiindex = gene_sample_average_norm.reindex(ppi_network.index, fill_value=0)\n",
    "genes_without_data = features_ppiindex.shape[0]-gene_sample_average_norm.index.isin(ppi_network.index).sum()\n",
    "print (\"No data for {} / {} genes. Replacing them with 0\".format(genes_without_data, features_ppiindex.shape[0]))"
   ]
  },
  {
   "cell_type": "code",
   "execution_count": 15,
   "metadata": {},
   "outputs": [
    {
     "data": {
      "text/html": [
       "<div>\n",
       "<style scoped>\n",
       "    .dataframe tbody tr th:only-of-type {\n",
       "        vertical-align: middle;\n",
       "    }\n",
       "\n",
       "    .dataframe tbody tr th {\n",
       "        vertical-align: top;\n",
       "    }\n",
       "\n",
       "    .dataframe thead th {\n",
       "        text-align: right;\n",
       "    }\n",
       "</style>\n",
       "<table border=\"1\" class=\"dataframe\">\n",
       "  <thead>\n",
       "    <tr style=\"text-align: right;\">\n",
       "      <th></th>\n",
       "      <th>MBL_unmut_1</th>\n",
       "      <th>MBL_unmut_16</th>\n",
       "      <th>MBL_mut_2</th>\n",
       "      <th>MBL_mut_3</th>\n",
       "      <th>MBL_mut_4</th>\n",
       "      <th>MBL_mut_5</th>\n",
       "      <th>MBL_mut_6</th>\n",
       "      <th>MBL_mut_7</th>\n",
       "      <th>MBL_mut_8</th>\n",
       "      <th>MBL_mut_9</th>\n",
       "      <th>...</th>\n",
       "      <th>MBL_2443</th>\n",
       "      <th>MBL_2918</th>\n",
       "      <th>MBL_2958</th>\n",
       "      <th>MBL_2781</th>\n",
       "      <th>MBL_3036</th>\n",
       "      <th>CLL_2443</th>\n",
       "      <th>CLL_2918</th>\n",
       "      <th>CLL_2958</th>\n",
       "      <th>CLL_2781</th>\n",
       "      <th>CLL_3036</th>\n",
       "    </tr>\n",
       "  </thead>\n",
       "  <tbody>\n",
       "    <tr>\n",
       "      <th>A1BG</th>\n",
       "      <td>0.0812</td>\n",
       "      <td>0.0812</td>\n",
       "      <td>-0.2858</td>\n",
       "      <td>-0.2188</td>\n",
       "      <td>0.0812</td>\n",
       "      <td>0.0312</td>\n",
       "      <td>0.0812</td>\n",
       "      <td>0.0812</td>\n",
       "      <td>0.0812</td>\n",
       "      <td>0.0812</td>\n",
       "      <td>...</td>\n",
       "      <td>0.0812</td>\n",
       "      <td>0.0812</td>\n",
       "      <td>0.0812</td>\n",
       "      <td>0.0812</td>\n",
       "      <td>0.0812</td>\n",
       "      <td>0.0812</td>\n",
       "      <td>0.0077</td>\n",
       "      <td>0.0812</td>\n",
       "      <td>0.0187</td>\n",
       "      <td>-0.0028</td>\n",
       "    </tr>\n",
       "    <tr>\n",
       "      <th>A1CF</th>\n",
       "      <td>0.0000</td>\n",
       "      <td>0.0000</td>\n",
       "      <td>0.0000</td>\n",
       "      <td>0.0000</td>\n",
       "      <td>0.0000</td>\n",
       "      <td>0.0000</td>\n",
       "      <td>0.0000</td>\n",
       "      <td>0.0000</td>\n",
       "      <td>0.0000</td>\n",
       "      <td>0.0000</td>\n",
       "      <td>...</td>\n",
       "      <td>0.0000</td>\n",
       "      <td>0.0000</td>\n",
       "      <td>0.0000</td>\n",
       "      <td>0.0000</td>\n",
       "      <td>0.0000</td>\n",
       "      <td>0.0000</td>\n",
       "      <td>0.0000</td>\n",
       "      <td>0.0000</td>\n",
       "      <td>0.0000</td>\n",
       "      <td>0.0000</td>\n",
       "    </tr>\n",
       "    <tr>\n",
       "      <th>A2M</th>\n",
       "      <td>0.0000</td>\n",
       "      <td>0.0000</td>\n",
       "      <td>0.0000</td>\n",
       "      <td>0.0000</td>\n",
       "      <td>0.0000</td>\n",
       "      <td>0.0000</td>\n",
       "      <td>0.0000</td>\n",
       "      <td>0.0000</td>\n",
       "      <td>0.0000</td>\n",
       "      <td>0.0000</td>\n",
       "      <td>...</td>\n",
       "      <td>0.0000</td>\n",
       "      <td>0.0000</td>\n",
       "      <td>0.0000</td>\n",
       "      <td>0.0000</td>\n",
       "      <td>0.0000</td>\n",
       "      <td>0.0000</td>\n",
       "      <td>0.0000</td>\n",
       "      <td>0.0000</td>\n",
       "      <td>0.0000</td>\n",
       "      <td>0.0000</td>\n",
       "    </tr>\n",
       "    <tr>\n",
       "      <th>AAAS</th>\n",
       "      <td>0.0000</td>\n",
       "      <td>0.0000</td>\n",
       "      <td>0.0000</td>\n",
       "      <td>0.0000</td>\n",
       "      <td>0.0000</td>\n",
       "      <td>0.0000</td>\n",
       "      <td>0.0000</td>\n",
       "      <td>0.0000</td>\n",
       "      <td>0.0000</td>\n",
       "      <td>0.0000</td>\n",
       "      <td>...</td>\n",
       "      <td>0.0000</td>\n",
       "      <td>0.0000</td>\n",
       "      <td>0.0000</td>\n",
       "      <td>0.0000</td>\n",
       "      <td>0.0000</td>\n",
       "      <td>0.0000</td>\n",
       "      <td>0.0000</td>\n",
       "      <td>0.0000</td>\n",
       "      <td>0.0000</td>\n",
       "      <td>0.0000</td>\n",
       "    </tr>\n",
       "    <tr>\n",
       "      <th>AADAT</th>\n",
       "      <td>0.0056</td>\n",
       "      <td>0.0056</td>\n",
       "      <td>0.0056</td>\n",
       "      <td>0.0056</td>\n",
       "      <td>0.0056</td>\n",
       "      <td>0.0056</td>\n",
       "      <td>0.0056</td>\n",
       "      <td>0.0056</td>\n",
       "      <td>0.0056</td>\n",
       "      <td>0.0056</td>\n",
       "      <td>...</td>\n",
       "      <td>0.0056</td>\n",
       "      <td>0.0056</td>\n",
       "      <td>0.0056</td>\n",
       "      <td>0.0056</td>\n",
       "      <td>0.0056</td>\n",
       "      <td>-0.0344</td>\n",
       "      <td>0.0056</td>\n",
       "      <td>0.0056</td>\n",
       "      <td>0.0056</td>\n",
       "      <td>-0.0784</td>\n",
       "    </tr>\n",
       "  </tbody>\n",
       "</table>\n",
       "<p>5 rows × 109 columns</p>\n",
       "</div>"
      ],
      "text/plain": [
       "       MBL_unmut_1  MBL_unmut_16  MBL_mut_2  MBL_mut_3  MBL_mut_4  MBL_mut_5  \\\n",
       "A1BG        0.0812        0.0812    -0.2858    -0.2188     0.0812     0.0312   \n",
       "A1CF        0.0000        0.0000     0.0000     0.0000     0.0000     0.0000   \n",
       "A2M         0.0000        0.0000     0.0000     0.0000     0.0000     0.0000   \n",
       "AAAS        0.0000        0.0000     0.0000     0.0000     0.0000     0.0000   \n",
       "AADAT       0.0056        0.0056     0.0056     0.0056     0.0056     0.0056   \n",
       "\n",
       "       MBL_mut_6  MBL_mut_7  MBL_mut_8  MBL_mut_9  ...  MBL_2443  MBL_2918  \\\n",
       "A1BG      0.0812     0.0812     0.0812     0.0812  ...    0.0812    0.0812   \n",
       "A1CF      0.0000     0.0000     0.0000     0.0000  ...    0.0000    0.0000   \n",
       "A2M       0.0000     0.0000     0.0000     0.0000  ...    0.0000    0.0000   \n",
       "AAAS      0.0000     0.0000     0.0000     0.0000  ...    0.0000    0.0000   \n",
       "AADAT     0.0056     0.0056     0.0056     0.0056  ...    0.0056    0.0056   \n",
       "\n",
       "       MBL_2958  MBL_2781  MBL_3036  CLL_2443  CLL_2918  CLL_2958  CLL_2781  \\\n",
       "A1BG     0.0812    0.0812    0.0812    0.0812    0.0077    0.0812    0.0187   \n",
       "A1CF     0.0000    0.0000    0.0000    0.0000    0.0000    0.0000    0.0000   \n",
       "A2M      0.0000    0.0000    0.0000    0.0000    0.0000    0.0000    0.0000   \n",
       "AAAS     0.0000    0.0000    0.0000    0.0000    0.0000    0.0000    0.0000   \n",
       "AADAT    0.0056    0.0056    0.0056   -0.0344    0.0056    0.0056    0.0056   \n",
       "\n",
       "       CLL_3036  \n",
       "A1BG    -0.0028  \n",
       "A1CF     0.0000  \n",
       "A2M      0.0000  \n",
       "AAAS     0.0000  \n",
       "AADAT   -0.0784  \n",
       "\n",
       "[5 rows x 109 columns]"
      ]
     },
     "execution_count": 15,
     "metadata": {},
     "output_type": "execute_result"
    }
   ],
   "source": [
    "features_ppiindex.head()"
   ]
  },
  {
   "cell_type": "code",
   "execution_count": 16,
   "metadata": {},
   "outputs": [
    {
     "ename": "KeyError",
     "evalue": "'Level aggressiveness must be same as name (None)'",
     "output_type": "error",
     "traceback": [
      "\u001b[0;31m---------------------------------------------------------------------------\u001b[0m",
      "\u001b[0;31mKeyError\u001b[0m                                  Traceback (most recent call last)",
      "\u001b[0;32m<ipython-input-16-a4220b5b3ad8>\u001b[0m in \u001b[0;36m<module>\u001b[0;34m\u001b[0m\n\u001b[0;32m----> 1\u001b[0;31m \u001b[0mcolors\u001b[0m \u001b[0;34m=\u001b[0m \u001b[0;34m[\u001b[0m\u001b[0;34m'orange'\u001b[0m \u001b[0;32mif\u001b[0m \u001b[0mi\u001b[0m \u001b[0;34m==\u001b[0m\u001b[0;34m'mut'\u001b[0m \u001b[0;32melse\u001b[0m \u001b[0;34m'blue'\u001b[0m \u001b[0;32mfor\u001b[0m \u001b[0mi\u001b[0m \u001b[0;32min\u001b[0m \u001b[0mfeatures_ppiindex\u001b[0m\u001b[0;34m.\u001b[0m\u001b[0mcolumns\u001b[0m\u001b[0;34m.\u001b[0m\u001b[0mget_level_values\u001b[0m\u001b[0;34m(\u001b[0m\u001b[0;34m'aggressiveness'\u001b[0m\u001b[0;34m)\u001b[0m\u001b[0;34m]\u001b[0m\u001b[0;34m\u001b[0m\u001b[0;34m\u001b[0m\u001b[0m\n\u001b[0m\u001b[1;32m      2\u001b[0m \u001b[0mprint\u001b[0m \u001b[0;34m(\u001b[0m\u001b[0mcolors\u001b[0m\u001b[0;34m)\u001b[0m\u001b[0;34m\u001b[0m\u001b[0;34m\u001b[0m\u001b[0m\n\u001b[1;32m      3\u001b[0m \u001b[0m_\u001b[0m \u001b[0;34m=\u001b[0m \u001b[0mplt\u001b[0m\u001b[0;34m.\u001b[0m\u001b[0mscatter\u001b[0m\u001b[0;34m(\u001b[0m\u001b[0mx\u001b[0m\u001b[0;34m=\u001b[0m\u001b[0mrange\u001b[0m\u001b[0;34m(\u001b[0m\u001b[0mfeatures_ppiindex\u001b[0m\u001b[0;34m.\u001b[0m\u001b[0mshape\u001b[0m\u001b[0;34m[\u001b[0m\u001b[0;36m1\u001b[0m\u001b[0;34m]\u001b[0m\u001b[0;34m)\u001b[0m\u001b[0;34m,\u001b[0m \u001b[0my\u001b[0m\u001b[0;34m=\u001b[0m\u001b[0mfeatures_ppiindex\u001b[0m\u001b[0;34m[\u001b[0m\u001b[0mfeatures_ppiindex\u001b[0m\u001b[0;34m.\u001b[0m\u001b[0mindex\u001b[0m \u001b[0;34m==\u001b[0m \u001b[0;34m'CDH2'\u001b[0m\u001b[0;34m]\u001b[0m\u001b[0;34m.\u001b[0m\u001b[0mvalues\u001b[0m\u001b[0;34m,\u001b[0m \u001b[0mc\u001b[0m\u001b[0;34m=\u001b[0m\u001b[0mcolors\u001b[0m\u001b[0;34m)\u001b[0m\u001b[0;34m\u001b[0m\u001b[0;34m\u001b[0m\u001b[0m\n\u001b[1;32m      4\u001b[0m \u001b[0m_\u001b[0m \u001b[0;34m=\u001b[0m \u001b[0mplt\u001b[0m\u001b[0;34m.\u001b[0m\u001b[0mxticks\u001b[0m\u001b[0;34m(\u001b[0m\u001b[0mrange\u001b[0m\u001b[0;34m(\u001b[0m\u001b[0mfeatures_ppiindex\u001b[0m\u001b[0;34m.\u001b[0m\u001b[0mshape\u001b[0m\u001b[0;34m[\u001b[0m\u001b[0;36m1\u001b[0m\u001b[0;34m]\u001b[0m\u001b[0;34m)\u001b[0m\u001b[0;34m,\u001b[0m \u001b[0mfeatures_ppiindex\u001b[0m\u001b[0;34m.\u001b[0m\u001b[0mcolumns\u001b[0m\u001b[0;34m.\u001b[0m\u001b[0mget_level_values\u001b[0m\u001b[0;34m(\u001b[0m\u001b[0;34m'timepoint'\u001b[0m\u001b[0;34m)\u001b[0m\u001b[0;34m)\u001b[0m\u001b[0;34m\u001b[0m\u001b[0;34m\u001b[0m\u001b[0m\n",
      "\u001b[0;32m~/anaconda3/lib/python3.7/site-packages/pandas/core/indexes/base.py\u001b[0m in \u001b[0;36m_get_level_values\u001b[0;34m(self, level)\u001b[0m\n\u001b[1;32m   1484\u001b[0m         \u001b[0mIndex\u001b[0m\u001b[0;34m(\u001b[0m\u001b[0;34m[\u001b[0m\u001b[0;34m'a'\u001b[0m\u001b[0;34m,\u001b[0m \u001b[0;34m'b'\u001b[0m\u001b[0;34m,\u001b[0m \u001b[0;34m'c'\u001b[0m\u001b[0;34m]\u001b[0m\u001b[0;34m,\u001b[0m \u001b[0mdtype\u001b[0m\u001b[0;34m=\u001b[0m\u001b[0;34m'object'\u001b[0m\u001b[0;34m)\u001b[0m\u001b[0;34m\u001b[0m\u001b[0;34m\u001b[0m\u001b[0m\n\u001b[1;32m   1485\u001b[0m         \"\"\"\n\u001b[0;32m-> 1486\u001b[0;31m         \u001b[0mself\u001b[0m\u001b[0;34m.\u001b[0m\u001b[0m_validate_index_level\u001b[0m\u001b[0;34m(\u001b[0m\u001b[0mlevel\u001b[0m\u001b[0;34m)\u001b[0m\u001b[0;34m\u001b[0m\u001b[0;34m\u001b[0m\u001b[0m\n\u001b[0m\u001b[1;32m   1487\u001b[0m         \u001b[0;32mreturn\u001b[0m \u001b[0mself\u001b[0m\u001b[0;34m\u001b[0m\u001b[0;34m\u001b[0m\u001b[0m\n\u001b[1;32m   1488\u001b[0m \u001b[0;34m\u001b[0m\u001b[0m\n",
      "\u001b[0;32m~/anaconda3/lib/python3.7/site-packages/pandas/core/indexes/base.py\u001b[0m in \u001b[0;36m_validate_index_level\u001b[0;34m(self, level)\u001b[0m\n\u001b[1;32m   1422\u001b[0m         \u001b[0;32melif\u001b[0m \u001b[0mlevel\u001b[0m \u001b[0;34m!=\u001b[0m \u001b[0mself\u001b[0m\u001b[0;34m.\u001b[0m\u001b[0mname\u001b[0m\u001b[0;34m:\u001b[0m\u001b[0;34m\u001b[0m\u001b[0;34m\u001b[0m\u001b[0m\n\u001b[1;32m   1423\u001b[0m             raise KeyError('Level %s must be same as name (%s)' %\n\u001b[0;32m-> 1424\u001b[0;31m                            (level, self.name))\n\u001b[0m\u001b[1;32m   1425\u001b[0m \u001b[0;34m\u001b[0m\u001b[0m\n\u001b[1;32m   1426\u001b[0m     \u001b[0;32mdef\u001b[0m \u001b[0m_get_level_number\u001b[0m\u001b[0;34m(\u001b[0m\u001b[0mself\u001b[0m\u001b[0;34m,\u001b[0m \u001b[0mlevel\u001b[0m\u001b[0;34m)\u001b[0m\u001b[0;34m:\u001b[0m\u001b[0;34m\u001b[0m\u001b[0;34m\u001b[0m\u001b[0m\n",
      "\u001b[0;31mKeyError\u001b[0m: 'Level aggressiveness must be same as name (None)'"
     ]
    }
   ],
   "source": [
    "colors = ['orange' if i =='mut' else 'blue' for i in features_ppiindex.columns.get_level_values('aggressiveness')]\n",
    "print (colors)\n",
    "_ = plt.scatter(x=range(features_ppiindex.shape[1]), y=features_ppiindex[features_ppiindex.index == 'CDH2'].values, c=colors)\n",
    "_ = plt.xticks(range(features_ppiindex.shape[1]), features_ppiindex.columns.get_level_values('timepoint'))"
   ]
  },
  {
   "cell_type": "markdown",
   "metadata": {},
   "source": [
    "## Get Labels"
   ]
  },
  {
   "cell_type": "code",
   "execution_count": 17,
   "metadata": {},
   "outputs": [
    {
     "name": "stdout",
     "output_type": "stream",
     "text": [
      "querying 1-1000...done.\n",
      "querying 1001-2000...done.\n",
      "querying 2001-3000...done.\n",
      "querying 3001-4000...done.\n",
      "querying 4001-5000...done.\n",
      "querying 5001-6000...done.\n",
      "querying 6001-7000...done.\n",
      "querying 7001-8000...done.\n",
      "querying 8001-9000...done.\n",
      "querying 9001-10000...done.\n",
      "querying 10001-11000...done.\n",
      "querying 11001-12000...done.\n",
      "querying 12001-12129...done.\n",
      "Finished.\n",
      "8 input query terms found dup hits:\n",
      "\t[('AHRR', 2), ('ARMCX5-GPRASP2', 2), ('BIRC8', 2), ('FAM27E3', 2), ('KLRC4-KLRK1', 2), ('MEMO1', 2),\n",
      "784 input query terms found no hit:\n",
      "\t['AARS', 'ABP1', 'ACCN1', 'ACCN2', 'ACCN3', 'ACCN5', 'ACN9', 'ADCK3', 'ADRBK1', 'ADRBK2', 'ADSS', 'A\n"
     ]
    }
   ],
   "source": [
    "nodes = get_ensembl_ids(ppi_network.index)\n",
    "nodes.columns = ['Name']"
   ]
  },
  {
   "cell_type": "code",
   "execution_count": 18,
   "metadata": {},
   "outputs": [
    {
     "name": "stdout",
     "output_type": "stream",
     "text": [
      "(17,)\n"
     ]
    }
   ],
   "source": [
    "ncg_known_cancer_genes = []\n",
    "ncg_candidate_cancer_genes = []\n",
    "n = 0\n",
    "with open('../data/pancancer/NCG/cancergenes_list.txt', 'r') as f:\n",
    "    for line in f.readlines():\n",
    "        n += 1\n",
    "        if n == 1:\n",
    "            continue\n",
    "        l = line.strip().split('\\t')\n",
    "        if len(l) == 2:\n",
    "            ncg_known_cancer_genes.append(l[0])\n",
    "            ncg_candidate_cancer_genes.append(l[1])\n",
    "        else:\n",
    "            ncg_candidate_cancer_genes.append(l[0])\n",
    "\n",
    "if label_source == 'NCG':\n",
    "    known_cancer_genes_innet = nodes[nodes.Name.isin(ncg_known_cancer_genes)].Name\n",
    "    candidate_cancer_genes_innet = nodes[nodes.Name.isin(ncg_candidate_cancer_genes)].Name\n",
    "    if use_only_blood_cancer_genes:\n",
    "        # load cgc\n",
    "        cgc = pd.read_csv('../data/pancancer/cosmic/cancer_gene_census.csv')\n",
    "        cgc.dropna(subset=['Tissue Type'], inplace=True)\n",
    "        # find blood cancer genes based on these abbreviations (E=Epithelial, M=Mesenchymal, O=Other, L=Leukaemia/lymphoma)\n",
    "        pattern = '|'.join(['E', 'M', 'E;'])\n",
    "        blood_cancer_genes = cgc[~cgc['Tissue Type'].str.contains(pattern)]\n",
    "        known_cancer_genes_innet = blood_cancer_genes[blood_cancer_genes['Gene Symbol'].isin(nodes.Name)]['Gene Symbol']\n",
    "        print (\"Left with {} known blood cancer genes\".format(known_cancer_genes_innet.shape[0]))\n",
    "    print (known_cancer_genes_innet.shape, len(ncg_known_cancer_genes))\n",
    "\n",
    "elif label_source == 'expression':\n",
    "    expression_evidence = pd.read_csv('../data/CLL/digsee_labels/expression_evidence_CLL.txt', sep='\\t')\n",
    "    high_scores = expression_evidence[expression_evidence['EVIDENCE SENTENCE SCORE'] >= 0.4]\n",
    "    print (high_scores.shape, expression_evidence.shape)\n",
    "    known_cancer_genes_innet = nodes[nodes.Name.isin(high_scores['GENE SYMBOL'])].Name\n",
    "    print (known_cancer_genes_innet.shape)\n",
    "\n",
    "elif label_source == 'methylation':\n",
    "    print (\"There is no methylation information for CLL on DigSEE\")\n",
    "elif label_source == 'mutation':\n",
    "    mutation_evidence = pd.read_csv('../data/CLL/digsee_labels/mutation_evidence_CLL.txt', sep='\\t')\n",
    "    high_scores = mutation_evidence[mutation_evidence['EVIDENCE SENTENCE SCORE'] >= 0.4]\n",
    "    print (high_scores.shape, mutation_evidence.shape)\n",
    "    known_cancer_genes_innet = nodes[nodes.Name.isin(high_scores['GENE SYMBOL'])].Name\n",
    "    print (known_cancer_genes_innet.shape)\n",
    "elif label_source == 'digsee_all':\n",
    "    mutation_evidence = pd.read_csv('../data/CLL/digsee_labels/mutation_evidence_CLL.txt', sep='\\t')\n",
    "    high_scores_mut = mutation_evidence[mutation_evidence['EVIDENCE SENTENCE SCORE'] >= 0.4]\n",
    "\n",
    "    expression_evidence = pd.read_csv('../data/CLL/digsee_labels/expression_evidence_CLL.txt', sep='\\t')\n",
    "    high_scores_expr = expression_evidence[expression_evidence['EVIDENCE SENTENCE SCORE'] >= 0.4]\n",
    "\n",
    "    mut_genes_innet = nodes[nodes.Name.isin(high_scores_mut['GENE SYMBOL'])].Name\n",
    "    expr_genes_innet = nodes[nodes.Name.isin(high_scores_expr['GENE SYMBOL'])].Name\n",
    "\n",
    "    known_cancer_genes_innet = pd.concat((mut_genes_innet, expr_genes_innet))\n",
    "    known_cancer_genes_innet = known_cancer_genes_innet.drop_duplicates()\n",
    "    print (known_cancer_genes_innet.shape)\n",
    "\n",
    "elif label_source == 'all':\n",
    "    ncg_cancer_genes_innet = nodes[nodes.Name.isin(ncg_known_cancer_genes)].Name\n",
    "    if use_only_blood_cancer_genes:\n",
    "        # load cgc\n",
    "        cgc = pd.read_csv('../data/pancancer/cosmic/cancer_gene_census.csv')\n",
    "        cgc.dropna(subset=['Tissue Type'], inplace=True)\n",
    "        # find blood cancer genes based on these abbreviations (E=Epithelial, M=Mesenchymal, O=Other, L=Leukaemia/lymphoma)\n",
    "        pattern = '|'.join(['E', 'M', 'E;'])\n",
    "        blood_cancer_genes = cgc[~cgc['Tissue Type'].str.contains(pattern)]\n",
    "        ncg_cancer_genes_innet = nodes[nodes.Name.isin(blood_cancer_genes['Gene Symbol'])].Name\n",
    "        print (\"Left with {} known blood cancer genes\".format(ncg_cancer_genes_innet.shape[0]))\n",
    "\n",
    "    mutation_evidence = pd.read_csv('../data/CLL/digsee_labels/mutation_evidence_CLL.txt', sep='\\t')\n",
    "    high_scores_mut = mutation_evidence[mutation_evidence['EVIDENCE SENTENCE SCORE'] >= 0.4]\n",
    "\n",
    "    expression_evidence = pd.read_csv('../data/CLL/digsee_labels/expression_evidence_CLL.txt', sep='\\t')\n",
    "    high_scores_expr = expression_evidence[expression_evidence['EVIDENCE SENTENCE SCORE'] >= 0.4]\n",
    "\n",
    "    mut_genes_innet = nodes[nodes.Name.isin(high_scores_mut['GENE SYMBOL'])].Name\n",
    "    expr_genes_innet = nodes[nodes.Name.isin(high_scores_expr['GENE SYMBOL'])].Name\n",
    "\n",
    "    known_cancer_genes_innet = pd.concat((ncg_cancer_genes_innet, mut_genes_innet, expr_genes_innet))\n",
    "    known_cancer_genes_innet = known_cancer_genes_innet.drop_duplicates()\n",
    "    print (known_cancer_genes_innet.shape)\n",
    "\n",
    "elif label_source == 'wu':\n",
    "    labels = pd.read_csv('../data/CLL/labels/labels_wu_et_al.txt', header=None, names=['Name'])\n",
    "    known_cancer_genes_innet = nodes[nodes.Name.isin(labels.Name)].Name\n",
    "    print (known_cancer_genes_innet.shape)\n",
    "else:\n",
    "    print (\"Label Source {} not understood.\".format(label_source))"
   ]
  },
  {
   "cell_type": "code",
   "execution_count": 19,
   "metadata": {},
   "outputs": [
    {
     "name": "stdout",
     "output_type": "stream",
     "text": [
      "12129 genes are in network\n",
      "12112 genes are in network but not in positives (known cancer genes from NCG)\n",
      "12085 genes are also not in OMIM cancer genes\n",
      "2136 genes are in network but not in oncogenes and not in OMIM\n",
      "2096 genes are also not in COSMIC cancer gene census\n",
      "2095 genes are also not in COSMIC mutated genes\n",
      "2088 genes are also not in KEGG cancer pathways\n",
      "1979 genes are also not in NCG candidate cancer genes\n",
      "1978 genes are also not in NCG known cancer genes\n",
      "1978 genes have a degree >= 1.\n"
     ]
    }
   ],
   "source": [
    "print (\"{} genes are in network\".format(nodes.shape[0]))\n",
    "\n",
    "# get rid of the positives (known cancer genes)\n",
    "not_positives = nodes[~nodes.Name.isin(known_cancer_genes_innet)]\n",
    "print (\"{} genes are in network but not in positives (known cancer genes from NCG)\".format(not_positives.shape[0]))\n",
    "\n",
    "# get rid of OMIM genes associated with cancer\n",
    "omim_cancer_genes = pd.read_csv('../data/pancancer/OMIM/genemap_search_cancer.txt',\n",
    "                                sep='\\t', comment='#', header=0, skiprows=3)\n",
    "# use fact that nan != nan for filtering out NaN\n",
    "sublists = [sublist for sublist in omim_cancer_genes['Gene/Locus'].str.split(',') if sublist == sublist]\n",
    "omim_cancer_geneset = [item.strip() for sublist in sublists for item in sublist]\n",
    "not_omim_not_pos = not_positives[~not_positives.Name.isin(omim_cancer_geneset)]\n",
    "print (\"{} genes are also not in OMIM cancer genes\".format(not_omim_not_pos.shape[0]))\n",
    "\n",
    "# get rid of all the OMIM disease genes\n",
    "omim_genes = pd.read_csv('../data/pancancer/OMIM/genemap2.txt', sep='\\t', comment='#', header=None)\n",
    "omim_genes.columns = ['Chromosome', 'Genomic Position Start', 'Genomic Position End', 'Cyto Location',\n",
    "                      'Computed Cyto Location', 'Mim Number', 'Gene Symbol', 'Gene Name',\n",
    "                      'Approved Symbol', 'Entrez Gene ID', 'Ensembl Gene ID', 'Comments',\n",
    "                      'Phenotypes', 'Mouse Gene Symbol/ID']\n",
    "omim_gene_names = []\n",
    "for idx, row in omim_genes.iterrows():\n",
    "    gene_names = row['Gene Symbol'].strip().split(',')\n",
    "    omim_gene_names += gene_names\n",
    "omim_gene_names = list(set(omim_gene_names))\n",
    "not_omim_not_pos = not_omim_not_pos[~not_omim_not_pos.Name.isin(omim_gene_names)]\n",
    "print (\"{} genes are in network but not in oncogenes and not in OMIM\".format(not_omim_not_pos.shape[0]))\n",
    "\n",
    "# remove COSMIC cancer gene census genes\n",
    "cosmic_gene_scores = pd.read_csv('../data/pancancer/cosmic/cancer_gene_census.csv', header=0)\n",
    "not_omim_cosmic_pos = not_omim_not_pos[~not_omim_not_pos.Name.isin(cosmic_gene_scores['Gene Symbol'])]\n",
    "print (\"{} genes are also not in COSMIC cancer gene census\".format(not_omim_cosmic_pos.shape[0]))\n",
    "\n",
    "# remove COSMIC highly mutated genes\n",
    "cosmic_prcoding_mutations = pd.read_csv('../data/pancancer/cosmic/CosmicMutantExportCensus.tsv.gz',\n",
    "                                        compression='gzip', sep='\\t')\n",
    "non_pos_omim_cosmiccgc_cosmic_mutated = not_omim_cosmic_pos[~not_omim_cosmic_pos.Name.isin(cosmic_prcoding_mutations['Gene name'])]\n",
    "print (\"{} genes are also not in COSMIC mutated genes\".format(non_pos_omim_cosmiccgc_cosmic_mutated.shape[0]))\n",
    "\n",
    "# remove genes that belong to KEGG pathways in cancer\n",
    "kegg_cancer_pathway_genes = pd.read_csv('../data/pancancer/KEGG/KEGG_genes_in_pathways_in_cancer.txt',\n",
    "                                        skiprows=2, header=None, names=['Name'])\n",
    "not_pos_omim_cosmic_kegg = non_pos_omim_cosmiccgc_cosmic_mutated[~non_pos_omim_cosmiccgc_cosmic_mutated.Name.isin(kegg_cancer_pathway_genes.Name)]\n",
    "print (\"{} genes are also not in KEGG cancer pathways\".format(not_pos_omim_cosmic_kegg.shape[0]))\n",
    "\n",
    "# get rid of genes that are not candidate cancer genes\n",
    "negatives = not_pos_omim_cosmic_kegg[~not_pos_omim_cosmic_kegg.Name.isin(ncg_candidate_cancer_genes)]\n",
    "print (\"{} genes are also not in NCG candidate cancer genes\".format(negatives.shape[0]))\n",
    "\n",
    "\"\"\"\n",
    "# collect genes in KEGG cancer modules\n",
    "kegg_cancer_module_genes = []\n",
    "count = 0\n",
    "with open('../data/pancancer/KEGG/KEGG_cancer_modules.gmt', 'r') as f:\n",
    "    for line in f:\n",
    "        for item in line.split('\\t')[2:]:\n",
    "            kegg_cancer_module_genes.append(item.strip())\n",
    "kegg_cancer_module_genes = list(set(kegg_cancer_module_genes))\n",
    "\n",
    "# collect genes in KEGG cancer gene neighborhoods\n",
    "kegg_cancer_neighborhood_genes = []\n",
    "count = 0\n",
    "with open('../data/pancancer/KEGG/KEGG_cancer_neighborhoods.gmt', 'r') as f:\n",
    "    for line in f:\n",
    "        for item in line.split('\\t')[2:]:\n",
    "            kegg_cancer_neighborhood_genes.append(item.strip())\n",
    "kegg_cancer_neighborhood_genes = list(set(kegg_cancer_neighborhood_genes))\n",
    "negatives = negatives[~negatives.Name.isin(kegg_cancer_module_genes) & ~negatives.Name.isin(kegg_cancer_neighborhood_genes)]\n",
    "print (\"{} genes also not in KEGG cancer modules or KEGG cancer gene neighborhoods\".format(negatives.shape[0]))\n",
    "\"\"\"\n",
    "\n",
    "negatives = negatives[~negatives.Name.isin(ncg_known_cancer_genes)]\n",
    "print (\"{} genes are also not in NCG known cancer genes\".format(negatives.shape[0]))\n",
    "\n",
    "# remove very low degree genes to lower the bias\n",
    "degrees_with_labels = pd.DataFrame(ppi_network.sum(), columns=['Degree'])\n",
    "neg_w_degrees = degrees_with_labels[degrees_with_labels.index.isin(negatives.Name)]\n",
    "negatives = negatives[negatives.Name.isin(neg_w_degrees[neg_w_degrees.Degree >= minimum_degree_negatives].index)]\n",
    "print (\"{} genes have a degree >= {}.\".format(negatives.shape[0], minimum_degree_negatives))"
   ]
  },
  {
   "cell_type": "markdown",
   "metadata": {},
   "source": [
    "## Train Test Split"
   ]
  },
  {
   "cell_type": "code",
   "execution_count": 20,
   "metadata": {},
   "outputs": [],
   "source": [
    "y = nodes.Name.isin(known_cancer_genes_innet).values.reshape(-1, 1)\n",
    "mask = nodes.Name.isin(negatives.Name) | nodes.Name.isin(known_cancer_genes_innet)"
   ]
  },
  {
   "cell_type": "code",
   "execution_count": 21,
   "metadata": {},
   "outputs": [
    {
     "data": {
      "text/plain": [
       "(12, 1346, 4, 499, 1, 150)"
      ]
     },
     "execution_count": 21,
     "metadata": {},
     "output_type": "execute_result"
    }
   ],
   "source": [
    "y_train, train_mask, y_test, test_mask = gcnPreprocessing.train_test_split(y, mask, 0.25)\n",
    "y_train, train_mask, y_val, val_mask = gcnPreprocessing.train_test_split(y_train, train_mask, 0.1)\n",
    "y_train.sum(), train_mask.sum(), y_test.sum(), test_mask.sum(), y_val.sum(), val_mask.sum()"
   ]
  },
  {
   "cell_type": "code",
   "execution_count": 22,
   "metadata": {},
   "outputs": [],
   "source": [
    "features_ppiindex.fillna(0, inplace=True)"
   ]
  },
  {
   "cell_type": "markdown",
   "metadata": {},
   "source": [
    "## Write HDF5 Container"
   ]
  },
  {
   "cell_type": "code",
   "execution_count": 23,
   "metadata": {},
   "outputs": [],
   "source": [
    "def write_hdf5_container(fname, adj, F, node_names, y_train, y_val, y_test, train_mask, val_mask, test_mask, feature_names):\n",
    "    f = h5py.File(fname, 'w')\n",
    "    string_dt = h5py.special_dtype(vlen=str)\n",
    "    f.create_dataset('network', data=adj, shape=adj.shape)\n",
    "    f.create_dataset('features', data=F, shape=F.shape)\n",
    "    f.create_dataset('gene_names', data=node_names, dtype=string_dt)\n",
    "    f.create_dataset('y_train', data=y_train, shape=y_train.shape)\n",
    "    f.create_dataset('y_val', data=y_val, shape=y_val.shape)\n",
    "    f.create_dataset('y_test', data=y_test, shape=y_test.shape)\n",
    "    f.create_dataset('mask_train', data=train_mask, shape=train_mask.shape)\n",
    "    f.create_dataset('mask_val', data=val_mask, shape=val_mask.shape)\n",
    "    f.create_dataset('mask_test', data=test_mask, shape=test_mask.shape)\n",
    "    f.create_dataset('feature_names', data=np.array(feature_names, dtype=object), dtype=string_dt)\n",
    "    f.close()\n",
    "\n",
    "    print (\"Container written to {}\".format(fname))"
   ]
  },
  {
   "cell_type": "code",
   "execution_count": 24,
   "metadata": {},
   "outputs": [
    {
     "name": "stdout",
     "output_type": "stream",
     "text": [
      "Container written to ../data/CLL/methylation_samplewise_wuetallabels.h5\n"
     ]
    }
   ],
   "source": [
    "nodes['ID'] = nodes.index\n",
    "nodes = nodes[['ID', 'Name']]\n",
    "fname = '../data/CLL/methylation_samplewise_wuetallabels.h5'\n",
    "write_hdf5_container(fname, ppi_network.values, features_ppiindex.values, nodes, y_train,\n",
    "                     y_val, y_test, train_mask, val_mask, test_mask, features_ppiindex.columns)"
   ]
  },
  {
   "cell_type": "markdown",
   "metadata": {},
   "source": [
    "## Dimension Reduction"
   ]
  },
  {
   "cell_type": "code",
   "execution_count": 32,
   "metadata": {},
   "outputs": [
    {
     "name": "stderr",
     "output_type": "stream",
     "text": [
      "/home/sasse/anaconda3/lib/python3.7/site-packages/umap/umap_.py:1385: UserWarning: n_neighbors is larger than the dataset size; truncating to X.shape[0] - 1\n",
      "  \"n_neighbors is larger than the dataset size; truncating to \"\n"
     ]
    }
   ],
   "source": [
    "reducer = umap.UMAP()\n",
    "embedding = reducer.fit_transform(features_ppiindex.T)"
   ]
  },
  {
   "cell_type": "code",
   "execution_count": 33,
   "metadata": {},
   "outputs": [
    {
     "data": {
      "text/html": [
       "<div>\n",
       "<style scoped>\n",
       "    .dataframe tbody tr th:only-of-type {\n",
       "        vertical-align: middle;\n",
       "    }\n",
       "\n",
       "    .dataframe tbody tr th {\n",
       "        vertical-align: top;\n",
       "    }\n",
       "\n",
       "    .dataframe thead tr th {\n",
       "        text-align: left;\n",
       "    }\n",
       "</style>\n",
       "<table border=\"1\" class=\"dataframe\">\n",
       "  <thead>\n",
       "    <tr>\n",
       "      <th>condition</th>\n",
       "      <th colspan=\"12\" halign=\"left\">CLL</th>\n",
       "      <th colspan=\"3\" halign=\"left\">MBL</th>\n",
       "    </tr>\n",
       "    <tr>\n",
       "      <th>aggressiveness</th>\n",
       "      <th colspan=\"6\" halign=\"left\">mut</th>\n",
       "      <th>unknown</th>\n",
       "      <th colspan=\"5\" halign=\"left\">unmut</th>\n",
       "      <th>mut</th>\n",
       "      <th>unknown</th>\n",
       "      <th>unmut</th>\n",
       "    </tr>\n",
       "    <tr>\n",
       "      <th>timepoint</th>\n",
       "      <th>A</th>\n",
       "      <th>B</th>\n",
       "      <th>C</th>\n",
       "      <th>D</th>\n",
       "      <th>E</th>\n",
       "      <th>F</th>\n",
       "      <th>Z</th>\n",
       "      <th>A</th>\n",
       "      <th>B</th>\n",
       "      <th>C</th>\n",
       "      <th>D</th>\n",
       "      <th>E</th>\n",
       "      <th>Z</th>\n",
       "      <th>Z</th>\n",
       "      <th>Z</th>\n",
       "    </tr>\n",
       "  </thead>\n",
       "  <tbody>\n",
       "    <tr>\n",
       "      <th>A1BG</th>\n",
       "      <td>1.900000e-02</td>\n",
       "      <td>0.028927</td>\n",
       "      <td>0.048927</td>\n",
       "      <td>-0.017229</td>\n",
       "      <td>0.0719</td>\n",
       "      <td>0.0812</td>\n",
       "      <td>0.0372</td>\n",
       "      <td>0.0285</td>\n",
       "      <td>-0.0022</td>\n",
       "      <td>-0.076943</td>\n",
       "      <td>-0.0206</td>\n",
       "      <td>-0.1413</td>\n",
       "      <td>0.002589</td>\n",
       "      <td>0.0812</td>\n",
       "      <td>0.0812</td>\n",
       "    </tr>\n",
       "    <tr>\n",
       "      <th>A1CF</th>\n",
       "      <td>0.000000e+00</td>\n",
       "      <td>0.000000</td>\n",
       "      <td>0.000000</td>\n",
       "      <td>0.000000</td>\n",
       "      <td>0.0000</td>\n",
       "      <td>0.0000</td>\n",
       "      <td>0.0000</td>\n",
       "      <td>0.0000</td>\n",
       "      <td>0.0000</td>\n",
       "      <td>0.000000</td>\n",
       "      <td>0.0000</td>\n",
       "      <td>0.0000</td>\n",
       "      <td>0.000000</td>\n",
       "      <td>0.0000</td>\n",
       "      <td>0.0000</td>\n",
       "    </tr>\n",
       "    <tr>\n",
       "      <th>A2M</th>\n",
       "      <td>0.000000e+00</td>\n",
       "      <td>0.000000</td>\n",
       "      <td>0.000000</td>\n",
       "      <td>0.000000</td>\n",
       "      <td>0.0000</td>\n",
       "      <td>0.0000</td>\n",
       "      <td>0.0000</td>\n",
       "      <td>0.0000</td>\n",
       "      <td>0.0000</td>\n",
       "      <td>0.000000</td>\n",
       "      <td>0.0000</td>\n",
       "      <td>0.0000</td>\n",
       "      <td>0.000000</td>\n",
       "      <td>0.0000</td>\n",
       "      <td>0.0000</td>\n",
       "    </tr>\n",
       "    <tr>\n",
       "      <th>AAAS</th>\n",
       "      <td>0.000000e+00</td>\n",
       "      <td>0.000000</td>\n",
       "      <td>0.000000</td>\n",
       "      <td>0.000000</td>\n",
       "      <td>0.0000</td>\n",
       "      <td>0.0000</td>\n",
       "      <td>0.0000</td>\n",
       "      <td>0.0000</td>\n",
       "      <td>0.0000</td>\n",
       "      <td>0.000000</td>\n",
       "      <td>0.0000</td>\n",
       "      <td>0.0000</td>\n",
       "      <td>0.000000</td>\n",
       "      <td>0.0000</td>\n",
       "      <td>0.0000</td>\n",
       "    </tr>\n",
       "    <tr>\n",
       "      <th>AADAT</th>\n",
       "      <td>5.551115e-17</td>\n",
       "      <td>0.005600</td>\n",
       "      <td>-0.004582</td>\n",
       "      <td>0.005600</td>\n",
       "      <td>-0.0126</td>\n",
       "      <td>-0.0944</td>\n",
       "      <td>-0.0192</td>\n",
       "      <td>0.0031</td>\n",
       "      <td>-0.0041</td>\n",
       "      <td>-0.021257</td>\n",
       "      <td>-0.0231</td>\n",
       "      <td>-0.0029</td>\n",
       "      <td>0.005600</td>\n",
       "      <td>0.0056</td>\n",
       "      <td>0.0056</td>\n",
       "    </tr>\n",
       "  </tbody>\n",
       "</table>\n",
       "</div>"
      ],
      "text/plain": [
       "condition                CLL                                                \\\n",
       "aggressiveness           mut                                                 \n",
       "timepoint                  A         B         C         D       E       F   \n",
       "A1BG            1.900000e-02  0.028927  0.048927 -0.017229  0.0719  0.0812   \n",
       "A1CF            0.000000e+00  0.000000  0.000000  0.000000  0.0000  0.0000   \n",
       "A2M             0.000000e+00  0.000000  0.000000  0.000000  0.0000  0.0000   \n",
       "AAAS            0.000000e+00  0.000000  0.000000  0.000000  0.0000  0.0000   \n",
       "AADAT           5.551115e-17  0.005600 -0.004582  0.005600 -0.0126 -0.0944   \n",
       "\n",
       "condition                                                              MBL  \\\n",
       "aggressiveness unknown   unmut                                         mut   \n",
       "timepoint            Z       A       B         C       D       E         Z   \n",
       "A1BG            0.0372  0.0285 -0.0022 -0.076943 -0.0206 -0.1413  0.002589   \n",
       "A1CF            0.0000  0.0000  0.0000  0.000000  0.0000  0.0000  0.000000   \n",
       "A2M             0.0000  0.0000  0.0000  0.000000  0.0000  0.0000  0.000000   \n",
       "AAAS            0.0000  0.0000  0.0000  0.000000  0.0000  0.0000  0.000000   \n",
       "AADAT          -0.0192  0.0031 -0.0041 -0.021257 -0.0231 -0.0029  0.005600   \n",
       "\n",
       "condition                       \n",
       "aggressiveness unknown   unmut  \n",
       "timepoint            Z       Z  \n",
       "A1BG            0.0812  0.0812  \n",
       "A1CF            0.0000  0.0000  \n",
       "A2M             0.0000  0.0000  \n",
       "AAAS            0.0000  0.0000  \n",
       "AADAT           0.0056  0.0056  "
      ]
     },
     "execution_count": 33,
     "metadata": {},
     "output_type": "execute_result"
    }
   ],
   "source": [
    "features_ppiindex.head()"
   ]
  },
  {
   "cell_type": "code",
   "execution_count": 56,
   "metadata": {},
   "outputs": [
    {
     "data": {
      "image/png": "[encoded data removed]",
      "text/plain": [
       "<Figure size 1152x864 with 1 Axes>"
      ]
     },
     "metadata": {
      "needs_background": "light"
     },
     "output_type": "display_data"
    }
   ],
   "source": [
    "emb_df = pd.DataFrame(embedding, index=features_ppiindex.columns, columns=['PC1', 'PC2'])\n",
    "emb_df['condition'] = features_ppiindex.columns.get_level_values('condition')\n",
    "emb_df['timepoint'] = features_ppiindex.columns.get_level_values('timepoint')\n",
    "emb_df['aggressiveness'] = features_ppiindex.columns.get_level_values('aggressiveness')\n",
    "fig = plt.figure(figsize=(16, 12))\n",
    "g = sns.scatterplot(data=emb_df, x='PC1', y='PC2', hue='timepoint', style='condition', \n",
    "                    alpha=0.4, s=160, palette=sns.color_palette(\"Blues\", n_colors=emb_df.timepoint.nunique()))\n",
    "g.set_xlabel('UMAP Component 1', fontsize=25)\n",
    "g.set_ylabel('UMAP Component 2', fontsize=25)\n",
    "legend = plt.legend(bbox_to_anchor=(1.01, 1), loc=2, borderaxespad=0., prop={'size': 23.5}, handlelength=1,\n",
    "                    markerscale=1.2)\n",
    "#g.legend_.remove()\n",
    "#legend.texts[0].set_text(r\"$\\bf{Tissue}$\")\n",
    "#legend.texts[17].set_text(r\"$\\bf{Type}$\")\n",
    "#g.set_title('UMAP Embedding (Tumor, Normal, GTEx) for RSEM read counts (no normalization)', fontsize=35)"
   ]
  }
 ],
 "metadata": {
  "kernelspec": {
   "display_name": "Python 3",
   "language": "python",
   "name": "python3"
  },
  "language_info": {
   "codemirror_mode": {
    "name": "ipython",
    "version": 3
   },
   "file_extension": ".py",
   "mimetype": "text/x-python",
   "name": "python",
   "nbconvert_exporter": "python",
   "pygments_lexer": "ipython3",
   "version": "3.7.3"
  }
 },
 "nbformat": 4,
 "nbformat_minor": 2
}
