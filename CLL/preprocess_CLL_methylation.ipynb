{
 "cells": [
  {
   "cell_type": "markdown",
   "metadata": {},
   "source": [
    "# Preprocessing of CLL DNA Methylation Data\n",
    "The experiment was done with human donors. We have blood cells from healthly donors (HD), "
   ]
  },
  {
   "cell_type": "code",
   "execution_count": 22,
   "metadata": {},
   "outputs": [],
   "source": [
    "import pandas as pd\n",
    "import numpy as np\n",
    "import h5py, os, sys\n",
    "import mygene\n",
    "import networkx as nx\n",
    "import umap\n",
    "\n",
    "sys.path.append(os.path.abspath('../GCN'))\n",
    "import gcnPreprocessing\n",
    "import gcnIO\n",
    "\n",
    "import matplotlib.pyplot as plt\n",
    "plt.rc('font', family='Times New Roman')\n",
    "import seaborn as sns\n",
    "%matplotlib inline"
   ]
  },
  {
   "cell_type": "markdown",
   "metadata": {},
   "source": [
    "## Parameters"
   ]
  },
  {
   "cell_type": "code",
   "execution_count": 5,
   "metadata": {},
   "outputs": [],
   "source": [
    "# PARAMETERS\n",
    "ppi_network_to_use ='IREF'\n",
    "use_only_blood_cancer_genes = True\n",
    "imputation_threshold = 0.5"
   ]
  },
  {
   "cell_type": "markdown",
   "metadata": {},
   "source": [
    "## Functions"
   ]
  },
  {
   "cell_type": "code",
   "execution_count": 6,
   "metadata": {},
   "outputs": [],
   "source": [
    "def get_gene_symbols(list_of_ensembl_ids):\n",
    "    # get Ensembl IDs for gene names\n",
    "    mg = mygene.MyGeneInfo()\n",
    "    res = mg.querymany(list_of_ensembl_ids,\n",
    "                       scopes='ensembl.gene',\n",
    "                       fields='symbol',\n",
    "                       species='human', returnall=True\n",
    "                      )\n",
    "\n",
    "    def get_symbol_and_ensembl(d):\n",
    "        if 'symbol' in d:\n",
    "            return [d['query'], d['symbol']]\n",
    "        else:\n",
    "            return [d['query'], None]\n",
    "\n",
    "    node_names = [get_symbol_and_ensembl(d) for d in res['out']]\n",
    "    # now, retrieve the names and IDs from a dictionary and put in DF\n",
    "    node_names = pd.DataFrame(node_names, columns=['Ensembl_ID', 'Symbol']).set_index('Ensembl_ID')\n",
    "    node_names.dropna(axis=0, inplace=True)\n",
    "    return node_names\n",
    "\n",
    "def get_ensembl_ids(list_of_gene_symbols):\n",
    "    # get Ensembl IDs for gene names\n",
    "    mg = mygene.MyGeneInfo()\n",
    "    res = mg.querymany(list_of_gene_symbols,\n",
    "                       scopes='symbol, refseq, uniprot',\n",
    "                       fields='ensembl.gene',\n",
    "                       species='human', returnall=True\n",
    "                      )\n",
    "\n",
    "    # now, retrieve the names and IDs from a dictionary and put in DF\n",
    "    def get_name_and_id(x):\n",
    "        if 'ensembl' in x:\n",
    "            ens_id = x['ensembl'][0]['gene'] if type(x['ensembl']) is list else x['ensembl']['gene']\n",
    "            symbol = x['query']\n",
    "            return [symbol, ens_id]\n",
    "        else:\n",
    "            return [x['query'], None]\n",
    "\n",
    "    ens_ids = [get_name_and_id(x) for x in res['out']]\n",
    "    \n",
    "    node_names = pd.DataFrame(ens_ids, columns=['Symbol', 'Ensembl_ID']).set_index('Ensembl_ID')\n",
    "    node_names.dropna(axis=0, inplace=True)\n",
    "    node_names.drop_duplicates(inplace=True)\n",
    "    return node_names"
   ]
  },
  {
   "cell_type": "markdown",
   "metadata": {},
   "source": [
    "## Load the data and join gene map with DNA methylation"
   ]
  },
  {
   "cell_type": "code",
   "execution_count": 7,
   "metadata": {},
   "outputs": [
    {
     "data": {
      "text/html": [
       "<div>\n",
       "<table border=\"1\" class=\"dataframe\">\n",
       "  <thead>\n",
       "    <tr style=\"text-align: right;\">\n",
       "      <th></th>\n",
       "      <th>chr</th>\n",
       "      <th>start</th>\n",
       "      <th>end</th>\n",
       "      <th>HD_1</th>\n",
       "      <th>HD_2</th>\n",
       "      <th>HD_3</th>\n",
       "      <th>HD_4</th>\n",
       "      <th>HD_5</th>\n",
       "      <th>MBL_unmut_1</th>\n",
       "      <th>MBL_unmut_16</th>\n",
       "      <th>...</th>\n",
       "      <th>MBL_2958</th>\n",
       "      <th>MBL_2781</th>\n",
       "      <th>MBL_3036</th>\n",
       "      <th>CLL_2443</th>\n",
       "      <th>CLL_2918</th>\n",
       "      <th>CLL_2958</th>\n",
       "      <th>CLL_2781</th>\n",
       "      <th>CLL_3036</th>\n",
       "      <th>gene</th>\n",
       "      <th>location</th>\n",
       "    </tr>\n",
       "  </thead>\n",
       "  <tbody>\n",
       "    <tr>\n",
       "      <th>0</th>\n",
       "      <td>chr1</td>\n",
       "      <td>10496</td>\n",
       "      <td>10498</td>\n",
       "      <td>0.780</td>\n",
       "      <td>0.820</td>\n",
       "      <td>0.925</td>\n",
       "      <td>1.000</td>\n",
       "      <td>0.885</td>\n",
       "      <td>0.875</td>\n",
       "      <td>1.000</td>\n",
       "      <td>...</td>\n",
       "      <td>0.722</td>\n",
       "      <td>1.000</td>\n",
       "      <td>1.000</td>\n",
       "      <td>0.950</td>\n",
       "      <td>1.000</td>\n",
       "      <td>0.682</td>\n",
       "      <td>1.000</td>\n",
       "      <td>0.966</td>\n",
       "      <td>DDX11L1</td>\n",
       "      <td>promoter</td>\n",
       "    </tr>\n",
       "    <tr>\n",
       "      <th>1</th>\n",
       "      <td>chr1</td>\n",
       "      <td>10524</td>\n",
       "      <td>10526</td>\n",
       "      <td>0.959</td>\n",
       "      <td>0.978</td>\n",
       "      <td>1.000</td>\n",
       "      <td>0.958</td>\n",
       "      <td>0.926</td>\n",
       "      <td>1.000</td>\n",
       "      <td>0.983</td>\n",
       "      <td>...</td>\n",
       "      <td>0.985</td>\n",
       "      <td>1.000</td>\n",
       "      <td>1.000</td>\n",
       "      <td>0.979</td>\n",
       "      <td>0.952</td>\n",
       "      <td>0.956</td>\n",
       "      <td>1.000</td>\n",
       "      <td>1.000</td>\n",
       "      <td>DDX11L1</td>\n",
       "      <td>promoter</td>\n",
       "    </tr>\n",
       "    <tr>\n",
       "      <th>2</th>\n",
       "      <td>chr1</td>\n",
       "      <td>10541</td>\n",
       "      <td>10543</td>\n",
       "      <td>0.982</td>\n",
       "      <td>0.955</td>\n",
       "      <td>0.964</td>\n",
       "      <td>0.916</td>\n",
       "      <td>0.939</td>\n",
       "      <td>0.960</td>\n",
       "      <td>0.951</td>\n",
       "      <td>...</td>\n",
       "      <td>0.985</td>\n",
       "      <td>0.984</td>\n",
       "      <td>0.976</td>\n",
       "      <td>0.980</td>\n",
       "      <td>0.975</td>\n",
       "      <td>0.985</td>\n",
       "      <td>1.000</td>\n",
       "      <td>1.000</td>\n",
       "      <td>DDX11L1</td>\n",
       "      <td>promoter</td>\n",
       "    </tr>\n",
       "    <tr>\n",
       "      <th>3</th>\n",
       "      <td>chr1</td>\n",
       "      <td>10562</td>\n",
       "      <td>10564</td>\n",
       "      <td>0.905</td>\n",
       "      <td>0.922</td>\n",
       "      <td>0.964</td>\n",
       "      <td>0.895</td>\n",
       "      <td>0.839</td>\n",
       "      <td>0.920</td>\n",
       "      <td>0.983</td>\n",
       "      <td>...</td>\n",
       "      <td>0.782</td>\n",
       "      <td>0.809</td>\n",
       "      <td>1.000</td>\n",
       "      <td>0.850</td>\n",
       "      <td>0.951</td>\n",
       "      <td>0.828</td>\n",
       "      <td>0.838</td>\n",
       "      <td>0.984</td>\n",
       "      <td>DDX11L1</td>\n",
       "      <td>promoter</td>\n",
       "    </tr>\n",
       "    <tr>\n",
       "      <th>4</th>\n",
       "      <td>chr1</td>\n",
       "      <td>10570</td>\n",
       "      <td>10572</td>\n",
       "      <td>0.976</td>\n",
       "      <td>0.977</td>\n",
       "      <td>0.982</td>\n",
       "      <td>0.937</td>\n",
       "      <td>0.963</td>\n",
       "      <td>0.960</td>\n",
       "      <td>0.983</td>\n",
       "      <td>...</td>\n",
       "      <td>0.985</td>\n",
       "      <td>0.968</td>\n",
       "      <td>0.952</td>\n",
       "      <td>1.000</td>\n",
       "      <td>0.991</td>\n",
       "      <td>0.985</td>\n",
       "      <td>0.983</td>\n",
       "      <td>1.000</td>\n",
       "      <td>DDX11L1</td>\n",
       "      <td>promoter</td>\n",
       "    </tr>\n",
       "  </tbody>\n",
       "</table>\n",
       "<p>5 rows × 119 columns</p>\n",
       "</div>"
      ],
      "text/plain": [
       "    chr  start    end   HD_1   HD_2   HD_3   HD_4   HD_5  MBL_unmut_1  \\\n",
       "0  chr1  10496  10498  0.780  0.820  0.925  1.000  0.885        0.875   \n",
       "1  chr1  10524  10526  0.959  0.978  1.000  0.958  0.926        1.000   \n",
       "2  chr1  10541  10543  0.982  0.955  0.964  0.916  0.939        0.960   \n",
       "3  chr1  10562  10564  0.905  0.922  0.964  0.895  0.839        0.920   \n",
       "4  chr1  10570  10572  0.976  0.977  0.982  0.937  0.963        0.960   \n",
       "\n",
       "   MBL_unmut_16    ...     MBL_2958  MBL_2781  MBL_3036  CLL_2443  CLL_2918  \\\n",
       "0         1.000    ...        0.722     1.000     1.000     0.950     1.000   \n",
       "1         0.983    ...        0.985     1.000     1.000     0.979     0.952   \n",
       "2         0.951    ...        0.985     0.984     0.976     0.980     0.975   \n",
       "3         0.983    ...        0.782     0.809     1.000     0.850     0.951   \n",
       "4         0.983    ...        0.985     0.968     0.952     1.000     0.991   \n",
       "\n",
       "   CLL_2958  CLL_2781  CLL_3036     gene  location  \n",
       "0     0.682     1.000     0.966  DDX11L1  promoter  \n",
       "1     0.956     1.000     1.000  DDX11L1  promoter  \n",
       "2     0.985     1.000     1.000  DDX11L1  promoter  \n",
       "3     0.828     0.838     0.984  DDX11L1  promoter  \n",
       "4     0.985     0.983     1.000  DDX11L1  promoter  \n",
       "\n",
       "[5 rows x 119 columns]"
      ]
     },
     "execution_count": 7,
     "metadata": {},
     "output_type": "execute_result"
    }
   ],
   "source": [
    "meth_data = pd.read_csv('../data/CLL/all_data.bed', sep='\\t')\n",
    "meth_data.columns = ['chr'] + meth_data.columns[1:].tolist()\n",
    "cpg2gene_map = pd.read_csv('../data/CLL/pos2gene.txt.gz', sep='\\t', compression='gzip', header=None,\n",
    "                           names=['chr', 'start', 'end', 'gene', 'location'])\n",
    "meth_data_genenames = meth_data.merge(cpg2gene_map, left_on=['chr', 'start', 'end'], right_on=['chr', 'start', 'end'])\n",
    "meth_data_genenames.head()"
   ]
  },
  {
   "cell_type": "markdown",
   "metadata": {},
   "source": [
    "## Clean Data"
   ]
  },
  {
   "cell_type": "code",
   "execution_count": 8,
   "metadata": {},
   "outputs": [
    {
     "name": "stdout",
     "output_type": "stream",
     "text": [
      "Selected only unambigous promoter CpG sites. Left with 955139 CpG sites for 28707 genes\n",
      "Dropped 227960 (left with 727179) CpG sites because they contained too many NAs\n"
     ]
    }
   ],
   "source": [
    "# select promoters only\n",
    "promonly = meth_data_genenames[meth_data_genenames.location == 'promoter']\n",
    "msg = \"Selected only unambigous promoter CpG sites. Left with {} CpG sites for {} genes\"\n",
    "print (msg.format(promonly.shape[0], promonly.gene.nunique()))\n",
    "\n",
    "# drop CpG sites with more than n percent NAs\n",
    "na_removed = promonly.dropna(axis=0, thresh=imputation_threshold*(promonly.shape[1]-5))\n",
    "msg = \"Dropped {} (left with {}) CpG sites because they contained too many NAs\"\n",
    "print (msg.format(promonly.shape[0]-na_removed.shape[0], na_removed.shape[0]))"
   ]
  },
  {
   "cell_type": "markdown",
   "metadata": {},
   "source": [
    "## Compute Gene $\\times$ Sample Matrix and Impute"
   ]
  },
  {
   "cell_type": "code",
   "execution_count": 9,
   "metadata": {},
   "outputs": [],
   "source": [
    "gene_sample_average = na_removed.drop(['start', 'end', 'chr', 'location'], errors='ignore', axis=1).groupby('gene').mean()"
   ]
  },
  {
   "cell_type": "code",
   "execution_count": 10,
   "metadata": {},
   "outputs": [
    {
     "data": {
      "text/plain": [
       "<matplotlib.axes._subplots.AxesSubplot at 0x7f437a87f5f8>"
      ]
     },
     "execution_count": 10,
     "metadata": {},
     "output_type": "execute_result"
    },
    {
     "data": {
      "image/png": "[encoded data removed]",
      "text/plain": [
       "<Figure size 864x432 with 1 Axes>"
      ]
     },
     "metadata": {},
     "output_type": "display_data"
    }
   ],
   "source": [
    "sample_gene_average = gene_sample_average.T\n",
    "sample_gene_average['condition'] = [i[0] for i in sample_gene_average.index.str.split('_')]\n",
    "sample_gene_average.groupby('condition').mean().T.plot(kind='kde', figsize=(12, 6), lw=5)"
   ]
  },
  {
   "cell_type": "code",
   "execution_count": 12,
   "metadata": {},
   "outputs": [
    {
     "data": {
      "text/plain": [
       "<matplotlib.axes._subplots.AxesSubplot at 0x7f43f0b68048>"
      ]
     },
     "execution_count": 12,
     "metadata": {},
     "output_type": "execute_result"
    },
    {
     "data": {
      "image/png": "[encoded data removed]",
      "text/plain": [
       "<Figure size 864x432 with 1 Axes>"
      ]
     },
     "metadata": {},
     "output_type": "display_data"
    }
   ],
   "source": [
    "sample_gene_average.drop('condition', axis=1, errors='ignore', inplace=True)\n",
    "features = sample_gene_average.fillna(sample_gene_average.mean()).T\n",
    "assert (features.isnull().sum().sum() == 0)\n",
    "\n",
    "sample_gene_nona = features.T\n",
    "sample_gene_nona['condition'] = [i[0] for i in sample_gene_nona.index.str.split('_')]\n",
    "sample_gene_nona.groupby('condition').mean().T.plot(kind='kde', figsize=(12, 6), lw=5)"
   ]
  },
  {
   "cell_type": "markdown",
   "metadata": {},
   "source": [
    "## Load PPI Network"
   ]
  },
  {
   "cell_type": "code",
   "execution_count": 13,
   "metadata": {},
   "outputs": [
    {
     "name": "stdout",
     "output_type": "stream",
     "text": [
      "querying 1-1000...done.\n",
      "querying 1001-2000...done.\n",
      "querying 2001-3000...done.\n",
      "querying 3001-4000...done.\n",
      "querying 4001-5000...done.\n",
      "querying 5001-6000...done.\n",
      "querying 6001-7000...done.\n",
      "querying 7001-8000...done.\n",
      "querying 8001-9000...done.\n",
      "querying 9001-10000...done.\n",
      "querying 10001-11000...done.\n",
      "querying 11001-12000...done.\n",
      "querying 12001-12129...done.\n",
      "Finished.\n",
      "8 input query terms found dup hits:\n",
      "\t[('AHRR', 2), ('ARMCX5-GPRASP2', 2), ('BIRC8', 2), ('FAM27E3', 2), ('KLRC4-KLRK1', 2), ('MEMO1', 2),\n",
      "702 input query terms found no hit:\n",
      "\t['ABP1', 'ACCN1', 'ACCN2', 'ACCN3', 'ACCN5', 'ACN9', 'ADCK3', 'ADRBK1', 'ADRBK2', 'AES', 'AGPAT6', '\n",
      "Not translatable: 0\n",
      "Edges: 91809\tNodes: 12129\n"
     ]
    }
   ],
   "source": [
    "ppi_network = None\n",
    "if ppi_network_to_use.upper() == 'IREF':\n",
    "    net_file = '../data/pancancer/hotnet2/networks/irefindex9/irefindex9_edge_list'\n",
    "    name_file = '../data/pancancer/hotnet2/networks/irefindex9/irefindex9_index_gene'\n",
    "    edgelist = pd.read_csv(net_file, sep=' ', header=None,\n",
    "                           names=['from', 'to', 'weight'])\n",
    "    index = pd.read_csv(name_file, sep=' ', header=None, names=['name'])\n",
    "    # build network and relabel nodes to match with real names\n",
    "    ppi_graph = nx.from_pandas_edgelist(edgelist, source='from', target='to', edge_attr=None)\n",
    "    _ = nx.relabel_nodes(ppi_graph, index.to_dict()['name'], copy=False)\n",
    "    ppi_network = nx.to_pandas_adjacency(G=ppi_graph)\n",
    "    symbols_network_genes = get_ensembl_ids(ppi_network.index)\n",
    "    # Remove nodes from network that don't have corresponding gene names\n",
    "    nodes_not_translatable = ppi_network[~ppi_network.index.isin(symbols_network_genes.Symbol)].index\n",
    "    print (\"Not translatable: {}\".format(nodes_not_translatable.shape[0]))\n",
    "    ppi_graph.remove_nodes_from(nodes_not_translatable)\n",
    "    ppi_network = nx.to_pandas_adjacency(G=ppi_graph)\n",
    "    assert ((ppi_network.index == symbols_network_genes.Symbol).all())\n",
    "\n",
    "elif ppi_network_to_use.upper() == 'CPDB':\n",
    "    ppi_network = pd.read_csv('../../data/networks/CPDB_symbols_edgelist.tsv', sep='\\t')\n",
    "    ppi_graph = nx.from_pandas_edgelist(df=ppi_network, source='partner1', target='partner2', edge_attr='confidence')\n",
    "    ppi_network = nx.to_pandas_adjacency(G=ppi_graph)\n",
    "else:\n",
    "    print (\"No PPI network named {}\".format(ppi_network_to_use))\n",
    "\n",
    "print (\"Edges: {}\\tNodes: {}\".format(ppi_graph.number_of_edges(), ppi_graph.number_of_nodes()))\n",
    "\n",
    "#mutations_ppiindex = mutations.reindex(ppi_network.index, fill_value=0)\n"
   ]
  },
  {
   "cell_type": "code",
   "execution_count": 14,
   "metadata": {},
   "outputs": [
    {
     "name": "stdout",
     "output_type": "stream",
     "text": [
      "No data for 2850 / 12129 genes. Replacing them with 0.5\n"
     ]
    }
   ],
   "source": [
    "features_ppiindex = features.reindex(ppi_network.index, fill_value=0.5)\n",
    "genes_without_data = features_ppiindex.shape[0]-features.index.isin(ppi_network.index).sum()\n",
    "print (\"No data for {} / {} genes. Replacing them with 0.5\".format(genes_without_data, features_ppiindex.shape[0]))"
   ]
  },
  {
   "cell_type": "markdown",
   "metadata": {},
   "source": [
    "## Get Labels"
   ]
  },
  {
   "cell_type": "code",
   "execution_count": 15,
   "metadata": {},
   "outputs": [
    {
     "name": "stdout",
     "output_type": "stream",
     "text": [
      "querying 1-1000...done.\n",
      "querying 1001-2000...done.\n",
      "querying 2001-3000...done.\n",
      "querying 3001-4000...done.\n",
      "querying 4001-5000...done.\n",
      "querying 5001-6000...done.\n",
      "querying 6001-7000...done.\n",
      "querying 7001-8000...done.\n",
      "querying 8001-9000...done.\n",
      "querying 9001-10000...done.\n",
      "querying 10001-11000...done.\n",
      "querying 11001-12000...done.\n",
      "querying 12001-12129...done.\n",
      "Finished.\n",
      "8 input query terms found dup hits:\n",
      "\t[('AHRR', 2), ('ARMCX5-GPRASP2', 2), ('BIRC8', 2), ('FAM27E3', 2), ('KLRC4-KLRK1', 2), ('MEMO1', 2),\n",
      "702 input query terms found no hit:\n",
      "\t['ABP1', 'ACCN1', 'ACCN2', 'ACCN3', 'ACCN5', 'ACN9', 'ADCK3', 'ADRBK1', 'ADRBK2', 'AES', 'AGPAT6', '\n"
     ]
    }
   ],
   "source": [
    "nodes = get_ensembl_ids(ppi_network.index)\n",
    "nodes.columns = ['Name']"
   ]
  },
  {
   "cell_type": "code",
   "execution_count": 16,
   "metadata": {},
   "outputs": [
    {
     "name": "stdout",
     "output_type": "stream",
     "text": [
      "Left with 229 known blood cancer genes\n"
     ]
    }
   ],
   "source": [
    "known_cancer_genes = []\n",
    "candidate_cancer_genes = []\n",
    "n = 0\n",
    "with open('../data/pancancer/NCG/cancergenes_list.txt', 'r') as f:\n",
    "    for line in f.readlines():\n",
    "        n += 1\n",
    "        if n == 1:\n",
    "            continue\n",
    "        l = line.strip().split('\\t')\n",
    "        if len(l) == 2:\n",
    "            known_cancer_genes.append(l[0])\n",
    "            candidate_cancer_genes.append(l[1])\n",
    "        else:\n",
    "            candidate_cancer_genes.append(l[0])\n",
    "\n",
    "known_cancer_genes_innet = nodes[nodes.Name.isin(known_cancer_genes)].Name\n",
    "candidate_cancer_genes_innet = nodes[nodes.Name.isin(candidate_cancer_genes)].Name\n",
    "\n",
    "# load cgc\n",
    "cgc = pd.read_csv('../data/pancancer/cosmic/cancer_gene_census.csv')\n",
    "cgc.dropna(subset=['Tissue Type'], inplace=True)\n",
    "\n",
    "if use_only_blood_cancer_genes:\n",
    "    # find blood cancer genes based on these abbreviations (E=Epithelial, M=Mesenchymal, O=Other, L=Leukaemia/lymphoma)\n",
    "    pattern = '|'.join(['E', 'O', 'M', 'E;'])\n",
    "    blood_cancer_genes = cgc[~cgc['Tissue Type'].str.contains(pattern)]\n",
    "    known_cancer_genes_innet = blood_cancer_genes[blood_cancer_genes['Gene Symbol'].isin(nodes.Name)]['Gene Symbol']\n",
    "    print (\"Left with {} known blood cancer genes\".format(known_cancer_genes_innet.shape[0]))"
   ]
  },
  {
   "cell_type": "code",
   "execution_count": 17,
   "metadata": {},
   "outputs": [
    {
     "name": "stdout",
     "output_type": "stream",
     "text": [
      "12129 genes are in network\n",
      "11900 genes are in network but not in positives (known cancer genes from NCG)\n",
      "11873 genes are also not in OMIM cancer genes\n",
      "2121 genes are in network but not in oncogenes and not in OMIM\n",
      "2096 genes are also not in COSMIC cancer gene census\n",
      "2095 genes are also not in COSMIC mutated genes\n",
      "2088 genes are also not in KEGG cancer pathways\n",
      "1979 genes are also not in NCG candidate cancer genes\n",
      "1059 genes also not in KEGG cancer modules or KEGG cancer gene neighborhoods\n"
     ]
    }
   ],
   "source": [
    "print (\"{} genes are in network\".format(nodes.shape[0]))\n",
    "\n",
    "# get rid of the positives (known cancer genes)\n",
    "not_positives = nodes[~nodes.Name.isin(known_cancer_genes_innet)]\n",
    "print (\"{} genes are in network but not in positives (known cancer genes from NCG)\".format(not_positives.shape[0]))\n",
    "\n",
    "# get rid of OMIM genes associated with cancer\n",
    "omim_cancer_genes = pd.read_csv('../data/pancancer/OMIM/genemap_search_cancer.txt',\n",
    "                                sep='\\t', comment='#', header=0, skiprows=3)\n",
    "# use fact that nan != nan for filtering out NaN\n",
    "sublists = [sublist for sublist in omim_cancer_genes['Gene/Locus'].str.split(',') if sublist == sublist]\n",
    "omim_cancer_geneset = [item.strip() for sublist in sublists for item in sublist]\n",
    "not_omim_not_pos = not_positives[~not_positives.Name.isin(omim_cancer_geneset)]\n",
    "print (\"{} genes are also not in OMIM cancer genes\".format(not_omim_not_pos.shape[0]))\n",
    "\n",
    "# get rid of all the OMIM disease genes\n",
    "omim_genes = pd.read_csv('../data/pancancer/OMIM/genemap2.txt', sep='\\t', comment='#', header=None)\n",
    "omim_genes.columns = ['Chromosome', 'Genomic Position Start', 'Genomic Position End', 'Cyto Location',\n",
    "                      'Computed Cyto Location', 'Mim Number', 'Gene Symbol', 'Gene Name',\n",
    "                      'Approved Symbol', 'Entrez Gene ID', 'Ensembl Gene ID', 'Comments',\n",
    "                      'Phenotypes', 'Mouse Gene Symbol/ID']\n",
    "omim_gene_names = []\n",
    "for idx, row in omim_genes.iterrows():\n",
    "    gene_names = row['Gene Symbol'].strip().split(',')\n",
    "    omim_gene_names += gene_names\n",
    "omim_gene_names = list(set(omim_gene_names))\n",
    "not_omim_not_pos = not_omim_not_pos[~not_omim_not_pos.Name.isin(omim_gene_names)]\n",
    "print (\"{} genes are in network but not in oncogenes and not in OMIM\".format(not_omim_not_pos.shape[0]))\n",
    "\n",
    "# remove COSMIC cancer gene census genes\n",
    "cosmic_gene_scores = pd.read_csv('../data/pancancer/cosmic/cancer_gene_census.csv', header=0)\n",
    "not_omim_cosmic_pos = not_omim_not_pos[~not_omim_not_pos.Name.isin(cosmic_gene_scores['Gene Symbol'])]\n",
    "print (\"{} genes are also not in COSMIC cancer gene census\".format(not_omim_cosmic_pos.shape[0]))\n",
    "\n",
    "# remove COSMIC highly mutated genes\n",
    "cosmic_prcoding_mutations = pd.read_csv('../data/pancancer/cosmic/CosmicMutantExportCensus.tsv.gz',\n",
    "                                        compression='gzip', sep='\\t')\n",
    "non_pos_omim_cosmiccgc_cosmic_mutated = not_omim_cosmic_pos[~not_omim_cosmic_pos.Name.isin(cosmic_prcoding_mutations['Gene name'])]\n",
    "print (\"{} genes are also not in COSMIC mutated genes\".format(non_pos_omim_cosmiccgc_cosmic_mutated.shape[0]))\n",
    "\n",
    "# remove genes that belong to KEGG pathways in cancer\n",
    "kegg_cancer_pathway_genes = pd.read_csv('../data/pancancer/KEGG/KEGG_genes_in_pathways_in_cancer.txt',\n",
    "                                        skiprows=2, header=None, names=['Name'])\n",
    "not_pos_omim_cosmic_kegg = non_pos_omim_cosmiccgc_cosmic_mutated[~non_pos_omim_cosmiccgc_cosmic_mutated.Name.isin(kegg_cancer_pathway_genes.Name)]\n",
    "print (\"{} genes are also not in KEGG cancer pathways\".format(not_pos_omim_cosmic_kegg.shape[0]))\n",
    "\n",
    "# get rid of genes that are not candidate cancer genes\n",
    "negatives = not_pos_omim_cosmic_kegg[~not_pos_omim_cosmic_kegg.Name.isin(candidate_cancer_genes)]\n",
    "print (\"{} genes are also not in NCG candidate cancer genes\".format(negatives.shape[0]))\n",
    "\n",
    "# collect genes in KEGG cancer modules\n",
    "kegg_cancer_module_genes = []\n",
    "count = 0\n",
    "with open('../data/pancancer/KEGG/KEGG_cancer_modules.gmt', 'r') as f:\n",
    "    for line in f:\n",
    "        for item in line.split('\\t')[2:]:\n",
    "            kegg_cancer_module_genes.append(item.strip())\n",
    "kegg_cancer_module_genes = list(set(kegg_cancer_module_genes))\n",
    "\n",
    "# collect genes in KEGG cancer gene neighborhoods\n",
    "kegg_cancer_neighborhood_genes = []\n",
    "count = 0\n",
    "with open('../data/pancancer/KEGG/KEGG_cancer_neighborhoods.gmt', 'r') as f:\n",
    "    for line in f:\n",
    "        for item in line.split('\\t')[2:]:\n",
    "            kegg_cancer_neighborhood_genes.append(item.strip())\n",
    "kegg_cancer_neighborhood_genes = list(set(kegg_cancer_neighborhood_genes))\n",
    "\n",
    "negatives = negatives[~negatives.Name.isin(kegg_cancer_module_genes) & ~negatives.Name.isin(kegg_cancer_neighborhood_genes)]\n",
    "print (\"{} genes also not in KEGG cancer modules or KEGG cancer gene neighborhoods\".format(negatives.shape[0]))"
   ]
  },
  {
   "cell_type": "markdown",
   "metadata": {},
   "source": [
    "## Train Test Split"
   ]
  },
  {
   "cell_type": "code",
   "execution_count": 18,
   "metadata": {},
   "outputs": [],
   "source": [
    "y = nodes.Name.isin(known_cancer_genes_innet).values.reshape(-1, 1)\n",
    "mask = nodes.Name.isin(negatives.Name) | nodes.Name.isin(known_cancer_genes_innet)"
   ]
  },
  {
   "cell_type": "code",
   "execution_count": 19,
   "metadata": {},
   "outputs": [
    {
     "data": {
      "text/plain": [
       "((12129, 1), (12129,), (12129, 1), (12129,), (12129, 1), (12129,))"
      ]
     },
     "execution_count": 19,
     "metadata": {},
     "output_type": "execute_result"
    }
   ],
   "source": [
    "y_train, train_mask, y_test, test_mask = gcnPreprocessing.train_test_split(y, mask, 0.25)\n",
    "y_train, train_mask, y_val, val_mask = gcnPreprocessing.train_test_split(y_train, train_mask, 0.1)\n",
    "y_train.shape, train_mask.shape, y_test.shape, test_mask.shape, y_val.shape, val_mask.shape"
   ]
  },
  {
   "cell_type": "markdown",
   "metadata": {},
   "source": [
    "## Write HDF5 Container"
   ]
  },
  {
   "cell_type": "code",
   "execution_count": 20,
   "metadata": {},
   "outputs": [],
   "source": [
    "def write_hdf5_container(fname, adj, F, node_names, y_train, y_val, y_test, train_mask, val_mask, test_mask, feature_names):\n",
    "    f = h5py.File(fname, 'w')\n",
    "    string_dt = h5py.special_dtype(vlen=str)\n",
    "    f.create_dataset('network', data=adj, shape=adj.shape)\n",
    "    f.create_dataset('features', data=F, shape=F.shape)\n",
    "    f.create_dataset('gene_names', data=node_names, dtype=string_dt)\n",
    "    f.create_dataset('y_train', data=y_train, shape=y_train.shape)\n",
    "    f.create_dataset('y_val', data=y_val, shape=y_val.shape)\n",
    "    f.create_dataset('y_test', data=y_test, shape=y_test.shape)\n",
    "    f.create_dataset('mask_train', data=train_mask, shape=train_mask.shape)\n",
    "    f.create_dataset('mask_val', data=val_mask, shape=val_mask.shape)\n",
    "    f.create_dataset('mask_test', data=test_mask, shape=test_mask.shape)\n",
    "    f.create_dataset('feature_names', data=np.array(feature_names, dtype=object), dtype=string_dt)\n",
    "    f.close()\n",
    "\n",
    "    print (\"Container written to {}\".format(fname))"
   ]
  },
  {
   "cell_type": "code",
   "execution_count": 21,
   "metadata": {},
   "outputs": [
    {
     "name": "stdout",
     "output_type": "stream",
     "text": [
      "Container written to ../data/CLL/methylation_samplewise.h5\n"
     ]
    }
   ],
   "source": [
    "nodes['ID'] = nodes.index\n",
    "nodes = nodes[['ID', 'Name']]\n",
    "fname = '../data/CLL/methylation_samplewise.h5'\n",
    "write_hdf5_container(fname, ppi_network.values, features_ppiindex.values, nodes, y_train,\n",
    "                     y_val, y_test, train_mask, val_mask, test_mask, features_ppiindex.columns)"
   ]
  },
  {
   "cell_type": "markdown",
   "metadata": {},
   "source": [
    "## Dimension Reduction"
   ]
  },
  {
   "cell_type": "code",
   "execution_count": 27,
   "metadata": {},
   "outputs": [],
   "source": []
  },
  {
   "cell_type": "code",
   "execution_count": null,
   "metadata": {},
   "outputs": [],
   "source": []
  },
  {
   "cell_type": "code",
   "execution_count": 40,
   "metadata": {},
   "outputs": [
    {
     "name": "stdout",
     "output_type": "stream",
     "text": [
      "HD_1\n",
      "HD_2\n",
      "HD_3\n",
      "HD_4\n",
      "HD_5\n",
      "MBL_unmut_1\n",
      "MBL_unmut_16\n",
      "MBL_mut_2\n",
      "MBL_mut_3\n",
      "MBL_mut_4\n",
      "MBL_mut_5\n",
      "MBL_mut_6\n",
      "MBL_mut_7\n",
      "MBL_mut_8\n",
      "MBL_mut_9\n",
      "MBL_mut_10\n",
      "MBL_mut_11\n",
      "MBL_mut_12\n",
      "MBL_mut_13\n",
      "MBL_mut_14\n",
      "MBL_mut_15\n",
      "MBL_mut_17\n",
      "MBL_mut_18\n",
      "MBL_mut_19\n",
      "MBL_mut_20\n",
      "CLL_unmut_pre_1A\n",
      "CLL_unmut_pre_1B\n",
      "CLL_unmut_pre_1C\n",
      "CLL_unmut_pre_1D\n",
      "CLL_unmut_pre_3A\n",
      "CLL_unmut_pre_3B\n",
      "CLL_unmut_pre_3C\n",
      "CLL_unmut_pre_5A\n",
      "CLL_unmut_pre_5B\n",
      "CLL_unmut_pre_5C\n",
      "CLL_unmut_pre_5D\n",
      "CLL_unmut_post_5E\n",
      "CLL_unmut_pre_6A\n",
      "CLL_unmut_pre_6B\n",
      "CLL_unmut_pre_6C\n",
      "CLL_unmut_pre_11A\n",
      "CLL_unmut_pre_11B\n",
      "CLL_unmut_post_11D\n",
      "CLL_unmut_post_11E\n",
      "CLL_unmut_pre_12A\n",
      "CLL_unmut_pre_12B\n",
      "CLL_unmut_pre_13A\n",
      "CLL_unmut_pre_13B\n",
      "CLL_unmut_post_13C\n",
      "CLL_unmut_post_13D\n",
      "CLL_unmut_pre_14A\n",
      "CLL_unmut_pre_14B\n",
      "CLL_unmut_post_14C\n",
      "CLL_unmut_pre_15A\n",
      "CLL_unmut_pre_15B\n",
      "CLL_unmut_pre_15C\n",
      "CLL_unmut_post_15D\n",
      "CLL_unmut_pre_21A\n",
      "CLL_unmut_pre_21B\n",
      "CLL_mut_pre_2A\n",
      "CLL_mut_pre_2B\n",
      "CLL_mut_pre_2C\n",
      "CLL_mut_pre_4A\n",
      "CLL_mut_pre_4B\n",
      "CLL_mut_pre_4C\n",
      "CLL_mut_pre_4D\n",
      "CLL_mut_pre_7A\n",
      "CLL_mut_pre_7B\n",
      "CLL_mut_pre_7C\n",
      "CLL_mut_pre_8B\n",
      "CLL_mut_pre_8C\n",
      "CLL_mut_pre_8D\n",
      "CLL_mut_pre_9A\n",
      "CLL_mut_pre_9B\n",
      "CLL_mut_pre_9C\n",
      "CLL_mut_pre_10A\n",
      "CLL_mut_pre_10B\n",
      "CLL_mut_pre_10C\n",
      "CLL_mut_post_10D\n",
      "CLL_mut_post_10E\n",
      "CLL_mut_pre_16A\n",
      "CLL_mut_pre_16B\n",
      "CLL_mut_pre_16C\n",
      "CLL_mut_post_16D\n",
      "CLL_mut_post_16E\n",
      "CLL_mut_pre_17A\n",
      "CLL_mut_pre_17B\n",
      "CLL_mut_pre_17C\n",
      "CLL_mut_post_17D\n",
      "CLL_mut_post_17E\n",
      "CLL_mut_pre_18A\n",
      "CLL_mut_pre_18B\n",
      "CLL_mut_pre_18C\n",
      "CLL_mut_pre_18D\n",
      "CLL_mut_pre_18E\n",
      "CLL_mut_pre_19A\n",
      "CLL_mut_pre_19B\n",
      "CLL_mut_pre_19C\n",
      "CLL_mut_pre_19D\n",
      "CLL_mut_pre_19E\n",
      "CLL_mut_pre_19F\n",
      "CLL_mut_pre_20A\n",
      "CLL_mut_pre_20B\n",
      "CLL_mut_post_20C\n",
      "MBL_2443\n",
      "MBL_2918\n",
      "MBL_2958\n",
      "MBL_2781\n",
      "MBL_3036\n",
      "CLL_2443\n",
      "CLL_2918\n",
      "CLL_2958\n",
      "CLL_2781\n",
      "CLL_3036\n",
      "gene\n",
      "location\n"
     ]
    }
   ],
   "source": [
    "for i in meth_data_promonly.columns[3:]:\n",
    "    print (i)"
   ]
  },
  {
   "cell_type": "code",
   "execution_count": 30,
   "metadata": {},
   "outputs": [
    {
     "data": {
      "text/html": [
       "<div>\n",
       "<table border=\"1\" class=\"dataframe\">\n",
       "  <thead>\n",
       "    <tr style=\"text-align: right;\">\n",
       "      <th>gene</th>\n",
       "      <th>5S_rRNA</th>\n",
       "      <th>7SK</th>\n",
       "      <th>A1BG</th>\n",
       "      <th>A1BG-AS1</th>\n",
       "      <th>A2M-AS1</th>\n",
       "      <th>A2ML1</th>\n",
       "      <th>A2ML1-AS1</th>\n",
       "      <th>A2ML1-AS2</th>\n",
       "      <th>A4GALT</th>\n",
       "      <th>AAAS</th>\n",
       "      <th>...</th>\n",
       "      <th>snoU109</th>\n",
       "      <th>snoU13</th>\n",
       "      <th>snoU83B</th>\n",
       "      <th>snoZ6</th>\n",
       "      <th>snosnR60_Z15</th>\n",
       "      <th>condition</th>\n",
       "      <th>aggressiveness</th>\n",
       "      <th>treatment</th>\n",
       "      <th>patient</th>\n",
       "      <th>timepoint</th>\n",
       "    </tr>\n",
       "  </thead>\n",
       "  <tbody>\n",
       "    <tr>\n",
       "      <th>HD_1</th>\n",
       "      <td>0.868138</td>\n",
       "      <td>0.232924</td>\n",
       "      <td>0.854250</td>\n",
       "      <td>0.017617</td>\n",
       "      <td>0.274636</td>\n",
       "      <td>0.933833</td>\n",
       "      <td>0.974909</td>\n",
       "      <td>0.919000</td>\n",
       "      <td>0.9545</td>\n",
       "      <td>0.056716</td>\n",
       "      <td>...</td>\n",
       "      <td>0.232600</td>\n",
       "      <td>0.676746</td>\n",
       "      <td>1.0000</td>\n",
       "      <td>0.921534</td>\n",
       "      <td>0.93175</td>\n",
       "      <td>HD</td>\n",
       "      <td>None</td>\n",
       "      <td>None</td>\n",
       "      <td>1</td>\n",
       "      <td>None</td>\n",
       "    </tr>\n",
       "    <tr>\n",
       "      <th>HD_2</th>\n",
       "      <td>0.875211</td>\n",
       "      <td>0.218803</td>\n",
       "      <td>0.694000</td>\n",
       "      <td>0.018895</td>\n",
       "      <td>0.177744</td>\n",
       "      <td>0.969250</td>\n",
       "      <td>0.903727</td>\n",
       "      <td>1.000000</td>\n",
       "      <td>0.4000</td>\n",
       "      <td>0.053429</td>\n",
       "      <td>...</td>\n",
       "      <td>0.220783</td>\n",
       "      <td>0.625546</td>\n",
       "      <td>0.9285</td>\n",
       "      <td>0.895711</td>\n",
       "      <td>0.92850</td>\n",
       "      <td>HD</td>\n",
       "      <td>None</td>\n",
       "      <td>None</td>\n",
       "      <td>2</td>\n",
       "      <td>None</td>\n",
       "    </tr>\n",
       "    <tr>\n",
       "      <th>HD_3</th>\n",
       "      <td>0.937371</td>\n",
       "      <td>0.220385</td>\n",
       "      <td>0.916500</td>\n",
       "      <td>0.005341</td>\n",
       "      <td>0.191903</td>\n",
       "      <td>0.936111</td>\n",
       "      <td>0.909375</td>\n",
       "      <td>NaN</td>\n",
       "      <td>NaN</td>\n",
       "      <td>0.032037</td>\n",
       "      <td>...</td>\n",
       "      <td>0.087919</td>\n",
       "      <td>0.580229</td>\n",
       "      <td>0.8570</td>\n",
       "      <td>0.905154</td>\n",
       "      <td>NaN</td>\n",
       "      <td>HD</td>\n",
       "      <td>None</td>\n",
       "      <td>None</td>\n",
       "      <td>3</td>\n",
       "      <td>None</td>\n",
       "    </tr>\n",
       "    <tr>\n",
       "      <th>HD_4</th>\n",
       "      <td>0.910809</td>\n",
       "      <td>0.192460</td>\n",
       "      <td>0.770500</td>\n",
       "      <td>0.008864</td>\n",
       "      <td>0.121143</td>\n",
       "      <td>0.970000</td>\n",
       "      <td>0.870333</td>\n",
       "      <td>NaN</td>\n",
       "      <td>0.9165</td>\n",
       "      <td>0.057971</td>\n",
       "      <td>...</td>\n",
       "      <td>0.107714</td>\n",
       "      <td>0.646062</td>\n",
       "      <td>NaN</td>\n",
       "      <td>0.919119</td>\n",
       "      <td>0.96875</td>\n",
       "      <td>HD</td>\n",
       "      <td>None</td>\n",
       "      <td>None</td>\n",
       "      <td>4</td>\n",
       "      <td>None</td>\n",
       "    </tr>\n",
       "    <tr>\n",
       "      <th>HD_5</th>\n",
       "      <td>0.878263</td>\n",
       "      <td>0.219848</td>\n",
       "      <td>0.630333</td>\n",
       "      <td>0.012372</td>\n",
       "      <td>0.243447</td>\n",
       "      <td>0.926846</td>\n",
       "      <td>0.918600</td>\n",
       "      <td>0.944333</td>\n",
       "      <td>0.6995</td>\n",
       "      <td>0.062035</td>\n",
       "      <td>...</td>\n",
       "      <td>0.218705</td>\n",
       "      <td>0.644862</td>\n",
       "      <td>1.0000</td>\n",
       "      <td>0.942074</td>\n",
       "      <td>0.85700</td>\n",
       "      <td>HD</td>\n",
       "      <td>None</td>\n",
       "      <td>None</td>\n",
       "      <td>5</td>\n",
       "      <td>None</td>\n",
       "    </tr>\n",
       "  </tbody>\n",
       "</table>\n",
       "<p>5 rows × 24979 columns</p>\n",
       "</div>"
      ],
      "text/plain": [
       "gene   5S_rRNA       7SK      A1BG  A1BG-AS1   A2M-AS1     A2ML1  A2ML1-AS1  \\\n",
       "HD_1  0.868138  0.232924  0.854250  0.017617  0.274636  0.933833   0.974909   \n",
       "HD_2  0.875211  0.218803  0.694000  0.018895  0.177744  0.969250   0.903727   \n",
       "HD_3  0.937371  0.220385  0.916500  0.005341  0.191903  0.936111   0.909375   \n",
       "HD_4  0.910809  0.192460  0.770500  0.008864  0.121143  0.970000   0.870333   \n",
       "HD_5  0.878263  0.219848  0.630333  0.012372  0.243447  0.926846   0.918600   \n",
       "\n",
       "gene  A2ML1-AS2  A4GALT      AAAS    ...       snoU109    snoU13  snoU83B  \\\n",
       "HD_1   0.919000  0.9545  0.056716    ...      0.232600  0.676746   1.0000   \n",
       "HD_2   1.000000  0.4000  0.053429    ...      0.220783  0.625546   0.9285   \n",
       "HD_3        NaN     NaN  0.032037    ...      0.087919  0.580229   0.8570   \n",
       "HD_4        NaN  0.9165  0.057971    ...      0.107714  0.646062      NaN   \n",
       "HD_5   0.944333  0.6995  0.062035    ...      0.218705  0.644862   1.0000   \n",
       "\n",
       "gene     snoZ6  snosnR60_Z15  condition  aggressiveness  treatment  patient  \\\n",
       "HD_1  0.921534       0.93175         HD            None       None        1   \n",
       "HD_2  0.895711       0.92850         HD            None       None        2   \n",
       "HD_3  0.905154           NaN         HD            None       None        3   \n",
       "HD_4  0.919119       0.96875         HD            None       None        4   \n",
       "HD_5  0.942074       0.85700         HD            None       None        5   \n",
       "\n",
       "gene  timepoint  \n",
       "HD_1       None  \n",
       "HD_2       None  \n",
       "HD_3       None  \n",
       "HD_4       None  \n",
       "HD_5       None  \n",
       "\n",
       "[5 rows x 24979 columns]"
      ]
     },
     "execution_count": 30,
     "metadata": {},
     "output_type": "execute_result"
    }
   ],
   "source": [
    "sample_gene_average = gene_sample_average.T\n",
    "sample_gene_average['condition'] = [i[0] for i in sample_gene_average.index.str.split('_')]\n",
    "def _get_agressiveness(name):\n",
    "    if 'unmut' in name.split('_')[1]:\n",
    "        return 'unmut' \n",
    "    elif name.split('_')[1] == 'mut':\n",
    "        return 'mut'\n",
    "    else:\n",
    "        return None\n",
    "sample_gene_average['aggressiveness'] = [_get_agressiveness(i) for i in sample_gene_average.index]\n",
    "\n",
    "def _get_treatment(name):\n",
    "    i = name.split('_')\n",
    "    if len(i) > 2:\n",
    "        if i[2] in ['pre', 'post']:\n",
    "            return i[2]\n",
    "    return None\n",
    "sample_gene_average['treatment'] = [_get_treatment(i) for i in sample_gene_average.index]\n",
    "def _get_patient_and_timepoint(name):\n",
    "    val = name.split('_')[-1]\n",
    "    timepoint = None\n",
    "    if val[-1].upper() in ['A', 'B', 'C', 'D', 'E', 'F']:\n",
    "        timepoint = val[-1]\n",
    "        val = val[:-1]\n",
    "    return val, timepoint\n",
    "sample_gene_average['patient'] = [_get_patient_and_timepoint(i)[0] for i in sample_gene_average.index]\n",
    "sample_gene_average['timepoint'] = [_get_patient_and_timepoint(i)[1] for i in sample_gene_average.index]\n",
    "sample_gene_average.head()"
   ]
  },
  {
   "cell_type": "code",
   "execution_count": 36,
   "metadata": {},
   "outputs": [],
   "source": [
    "reducer = umap.UMAP()\n",
    "embedding = reducer.fit_transform(features_ppiindex.T)"
   ]
  },
  {
   "cell_type": "code",
   "execution_count": 41,
   "metadata": {},
   "outputs": [
    {
     "data": {
      "image/png": "[encoded data removed]",
      "text/plain": [
       "<Figure size 2160x1440 with 1 Axes>"
      ]
     },
     "metadata": {},
     "output_type": "display_data"
    }
   ],
   "source": [
    "emb_df = pd.DataFrame(embedding, index=features_ppiindex.columns, columns=['PC1', 'PC2'])\n",
    "emb_df['condition'] = sample_gene_average.condition\n",
    "emb_df['timepoint'] = sample_gene_average.timepoint\n",
    "fig = plt.figure(figsize=(30, 20))\n",
    "g = sns.scatterplot(data=emb_df, x='PC1', y='PC2', hue='condition',\n",
    "                    alpha=0.4, s=100)\n",
    "g.set_xlabel('UMAP Component 1', fontsize=25)\n",
    "g.set_ylabel('UMAP Component 2', fontsize=25)\n",
    "legend = plt.legend(fontsize=20)\n",
    "#legend.texts[0].set_text(r\"$\\bf{Tissue}$\")\n",
    "#legend.texts[17].set_text(r\"$\\bf{Type}$\")\n",
    "#g.set_title('UMAP Embedding (Tumor, Normal, GTEx) for RSEM read counts (no normalization)', fontsize=35)"
   ]
  },
  {
   "cell_type": "code",
   "execution_count": null,
   "metadata": {},
   "outputs": [],
   "source": []
  }
 ],
 "metadata": {
  "kernelspec": {
   "display_name": "Python 3",
   "language": "python",
   "name": "python3"
  },
  "language_info": {
   "codemirror_mode": {
    "name": "ipython",
    "version": 3
   },
   "file_extension": ".py",
   "mimetype": "text/x-python",
   "name": "python",
   "nbconvert_exporter": "python",
   "pygments_lexer": "ipython3",
   "version": "3.6.8"
  }
 },
 "nbformat": 4,
 "nbformat_minor": 2
}
