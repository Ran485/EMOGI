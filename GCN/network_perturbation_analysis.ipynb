{
 "cells": [
  {
   "cell_type": "markdown",
   "metadata": {
    "deletable": true,
    "editable": true
   },
   "source": [
    "# Analysis of Network Perturbation"
   ]
  },
  {
   "cell_type": "code",
   "execution_count": 1,
   "metadata": {
    "collapsed": true,
    "deletable": true,
    "editable": true
   },
   "outputs": [],
   "source": [
    "import pandas as pd\n",
    "import numpy as np"
   ]
  },
  {
   "cell_type": "code",
   "execution_count": 2,
   "metadata": {
    "collapsed": false,
    "deletable": true,
    "editable": true
   },
   "outputs": [],
   "source": [
    "CLASSIFICATION_THRESHOLD = 0.5\n",
    "little_pred = pd.read_csv('../data/GCN/training/cancer_gevec_little_perturbed/predictions.tsv', sep='\\t')\n",
    "medium_pred = pd.read_csv('../data/GCN/training/cancer_gevec_medium_perturbed/predictions.tsv', sep='\\t')\n",
    "heavily_pred = pd.read_csv('../data/GCN/training/cancer_gevec_heavily_perturbed/predictions.tsv', sep='\\t')"
   ]
  },
  {
   "cell_type": "code",
   "execution_count": 3,
   "metadata": {
    "collapsed": false,
    "deletable": true,
    "editable": true
   },
   "outputs": [],
   "source": [
    "pos_little = little_pred[little_pred.Prob_pos >= CLASSIFICATION_THRESHOLD]\n",
    "pos_medium = medium_pred[medium_pred.Prob_pos >= CLASSIFICATION_THRESHOLD]\n",
    "pos_heavy = heavily_pred[heavily_pred.Prob_pos >= CLASSIFICATION_THRESHOLD]"
   ]
  },
  {
   "cell_type": "code",
   "execution_count": 4,
   "metadata": {
    "collapsed": false,
    "deletable": true,
    "editable": true
   },
   "outputs": [
    {
     "name": "stdout",
     "output_type": "stream",
     "text": [
      "\n"
     ]
    },
    {
     "data": {
      "text/plain": [
       "0.24242424242424243"
      ]
     },
     "execution_count": 4,
     "metadata": {},
     "output_type": "execute_result"
    }
   ],
   "source": [
    "overlap = set(pos_little.ID).intersection(set(pos_medium.ID))\n",
    "jaccard_idx = len(overlap) / float(len(set(pos_little.ID).union(set(pos_medium.ID))))\n",
    "print (\"\")\n",
    "jaccard_idx"
   ]
  },
  {
   "cell_type": "markdown",
   "metadata": {
    "collapsed": true,
    "deletable": true,
    "editable": true
   },
   "source": [
    "## ROC curves for perturbations"
   ]
  },
  {
   "cell_type": "code",
   "execution_count": 10,
   "metadata": {
    "collapsed": false
   },
   "outputs": [
    {
     "data": {
      "text/plain": [
       "101"
      ]
     },
     "execution_count": 10,
     "metadata": {},
     "output_type": "execute_result"
    }
   ],
   "source": [
    "x = '1007_s_at\t5219.5\t4254.6\t5919.4\t5994.9\t4873.4\t8273.7\t3779.7\t5250\t6708.3\t4875.4\t4690.5\t4891.2\t2178.3\t4817.3\t5869.5\t5189.5\t2003.6\t3557.6\t4454.4\t4167.6\t2808.2\t4044.9\t1333.2\t3093.4\t2671.4\t6900.8\t5937\t5574.3\t3904.9\t3484\t4320.1\t8418\t4102\t4162.7\t1122.7\t6804.2\t1791.8\t5495.3\t5521.3\t4926.8\t5197.5\t5874.9\t4928.1\t7319.3\t4793.4\t6077.3\t8400.8\t2761.5\t4554.2\t4991.1\t4593.4\t6090.2\t2457.8\t2746.5\t5109.7\t5802\t3692.1\t2012\t7094.7\t7477.3\t4643.6\t6935.2\t5982.6\t3474.5\t6365.2\t3147\t5176.5\t8192.3\t4045.3\t8521.4\t5554\t9374.5\t5805.2\t3631.9\t4512.7\t6524\t6980.4\t6639.5\t3752.7\t6657.7\t4239\t3026.3\t5812.6\t4641.4\t5470.9\t4761.2\t7591.7\t3537.2\t8063.7\t5522.7\t7553\t4933.3\t8237.1\t6503.9\t4118.8\t5094.6\t3959.6\t3760.6\t2926.3\t2320.1'\n",
    "len(x.split('\\t'))"
   ]
  },
  {
   "cell_type": "code",
   "execution_count": 9,
   "metadata": {
    "collapsed": false
   },
   "outputs": [
    {
     "data": {
      "text/plain": [
       "101"
      ]
     },
     "execution_count": 9,
     "metadata": {},
     "output_type": "execute_result"
    }
   ],
   "source": [
    "len(x.split('\\t'))"
   ]
  },
  {
   "cell_type": "code",
   "execution_count": null,
   "metadata": {
    "collapsed": true
   },
   "outputs": [],
   "source": []
  }
 ],
 "metadata": {
  "kernelspec": {
   "display_name": "Python 3",
   "language": "python",
   "name": "python3"
  },
  "language_info": {
   "codemirror_mode": {
    "name": "ipython",
    "version": 3
   },
   "file_extension": ".py",
   "mimetype": "text/x-python",
   "name": "python",
   "nbconvert_exporter": "python",
   "pygments_lexer": "ipython3",
   "version": "3.6.1"
  }
 },
 "nbformat": 4,
 "nbformat_minor": 2
}
