{
 "cells": [
  {
   "cell_type": "markdown",
   "metadata": {},
   "source": [
    "# Finding Strongly-Connected Components (SCCs) in Interaction Contribution\n",
    "This notebook computes SCCs from the interaction contributions $E^I$ in the article. It requires a successful computation of LRP for all genes using:\n",
    "```\n",
    "python lrp.py -m <path-to-EMOGI-model> --all\n",
    "```\n",
    "The notebook features several analyses of the SCCs like their correlation with betweenness, which features are mainly altered and also writes the SCCs to file as gml which can be read by Cytoscape.\n",
    "It also estimates a threshold for the edges that maximizes the number of SCCs and does pathway & GO enrichment analysis."
   ]
  },
  {
   "cell_type": "markdown",
   "metadata": {},
   "source": [
    "## Imports"
   ]
  },
  {
   "cell_type": "code",
   "execution_count": 1,
   "metadata": {},
   "outputs": [],
   "source": [
    "# data science & classics\n",
    "import pandas as pd\n",
    "import numpy as np\n",
    "import h5py\n",
    "import networkx as nx\n",
    "import os, sys\n",
    "import subprocess\n",
    "import scipy\n",
    "\n",
    "# clustering & embedding\n",
    "from sklearn.cluster import SpectralBiclustering\n",
    "from sklearn.decomposition import PCA\n",
    "from sklearn.manifold import TSNE\n",
    "from scipy.cluster import hierarchy\n",
    "import umap\n",
    "import sklearn\n",
    "from sklearn import preprocessing\n",
    "\n",
    "# other modules of mine\n",
    "sys.path.append(os.path.abspath('../EMOGI'))\n",
    "import gcnIO, postprocessing, utils\n",
    "sys.path.append(os.path.abspath('../pancancer/preprocessing'))\n",
    "import preprocessing_utils as pre_utils\n",
    "\n",
    "# GO enrichment analysis\n",
    "from goatools.base import download_go_basic_obo\n",
    "from goatools.base import download_ncbi_associations\n",
    "from goatools.obo_parser import GODag\n",
    "from goatools.anno.genetogo_reader import Gene2GoReader\n",
    "from goatools.test_data.genes_NCBI_9606_ProteinCoding import GENEID2NT as GeneID2nt_human\n",
    "from goatools.godag_plot import plot_gos, plot_results, plot_goid2goobj\n",
    "from goatools.goea.go_enrichment_ns import GOEnrichmentStudyNS\n",
    "\n",
    "sys.path.append(os.path.abspath('../pancancer'))\n",
    "import preprocessing_utils as ut\n",
    "\n",
    "# plotting\n",
    "import matplotlib.pyplot as plt\n",
    "import matplotlib.gridspec as gridspec\n",
    "import seaborn as sns\n",
    "plt.rc('font', family='Arial')\n",
    "%matplotlib inline"
   ]
  },
  {
   "cell_type": "markdown",
   "metadata": {},
   "source": [
    "## Parameters:\n",
    "\n",
    "* `compute_optimal_cutoff`: Whether to compute the cutoff for the number of SCCs"
   ]
  },
  {
   "cell_type": "code",
   "execution_count": 2,
   "metadata": {},
   "outputs": [],
   "source": [
    "compute_optimal_cutoff = False"
   ]
  },
  {
   "cell_type": "markdown",
   "metadata": {},
   "source": [
    "## Relevant Paths\n",
    "* `achilles_data_path`: Path to the achilles CRSIPR gene effect csv file that can be downloaded [here](https://depmap.org/portal/download/)\n",
    "* `model_dir`: Path to the training directory where both, the model and the LRP contributions are stored."
   ]
  },
  {
   "cell_type": "code",
   "execution_count": 3,
   "metadata": {},
   "outputs": [],
   "source": [
    "achilles_data_path = '../data/pancancer/Achilles/Achilles_gene_effect.csv'\n",
    "model_dir = '../data/GCN/training/final_TCGA_all_networks/CPDB/multiomics/'\n",
    "ncg_cancer_genes_path = '../data/pancancer/NCG/cancergenes_list.txt'\n",
    "oncokb_path = '../data/pancancer/oncoKB/cancerGeneList.txt'\n",
    "cgc_path = '../data/pancancer/cosmic/cancer_gene_census.csv'\n",
    "ongene_path = '../data/pancancer/ongene_tsgene/Human_Oncogenes.txt'\n",
    "tsgene_path = '../data/pancancer/ongene_tsgene/Human_TSGs.txt'\n",
    "driverdb_path = '../data/pancancer/driverdb/{}_download_tab.txt' # needs formatting for evidence type\n",
    "baileyetal_path = '../data/pancancer/comprehensive_characterization_of_cancer_driver_genes_and_mutations/comprehensive_characterization_cancer_genes.csv'"
   ]
  },
  {
   "cell_type": "markdown",
   "metadata": {},
   "source": [
    "## Functions"
   ]
  },
  {
   "cell_type": "code",
   "execution_count": 4,
   "metadata": {},
   "outputs": [],
   "source": [
    "def get_pathway_enrichment(genes, universe, cluster_idx, out_dir, clean_up=True):\n",
    "    # write cluster information to disk\n",
    "    genes.set_index('ID').to_csv(os.path.join(out_dir, 'cluster_{}.tsv'.format(cluster_idx)), sep='\\t')\n",
    "    universe.set_index('ID').to_csv(os.path.join(out_dir, 'universe_cluster_{}.tsv'.format(cluster_idx)), sep='\\t')\n",
    "\n",
    "    # formulate command to hand to R script\n",
    "    cmd = 'Rscript KEGG.R {} {} {} {}'.format(os.path.join(out_dir, 'cluster_{}.tsv'.format(cluster_idx)),\n",
    "                                              os.path.join(out_dir, 'universe_cluster_{}.tsv'.format(cluster_idx)),\n",
    "                                              os.path.join(out_dir, 'cluster_{}_pathways.txt'.format(cluster_idx)),\n",
    "                                              genes.shape[0]\n",
    "                                          )\n",
    "    res = subprocess.call(cmd, shell=True)\n",
    "    # read pathways and return\n",
    "    top_pathways = pd.read_csv(os.path.join(model_dir, 'cluster_{}_pathways.txt'.format(cluster_idx)),\n",
    "                               sep='\\t')[['Pvalue', 'Count', 'Size', 'Term']].head(5)\n",
    "    \n",
    "    if clean_up:\n",
    "        os.remove(os.path.join(out_dir, 'cluster_{}.tsv'.format(cluster_idx)))\n",
    "        os.remove(os.path.join(out_dir, 'universe_cluster_{}.tsv'.format(cluster_idx)))\n",
    "\n",
    "    return top_pathways\n",
    "\n",
    "\n",
    "def plot_representative(ax, rep, rep_std, xlabels, title=None):\n",
    "    ax.bar(x=np.arange(len(xlabels)), height=rep.values, tick_label=xlabels)#, yerr=rep_std.values)\n",
    "    #ax.spines['right'].set_visible(False)\n",
    "    #ax.spines['top'].set_visible(False)\n",
    "    #ax.spines['bottom'].set_visible(False)\n",
    "    ax.tick_params(axis='both', labelsize=16)\n",
    "    for tick in ax.get_xticklabels():\n",
    "        tick.set_rotation(90)\n",
    "    if not title is None:\n",
    "        ax.set_title(title, fontsize=18)\n",
    "    ax.set_ylabel('Feature\\nContribution', fontsize=18)\n",
    "    utils.colorize_by_omics(ax, xlabels)\n",
    "\n",
    "\n",
    "def plot_representative_heatmap(ax, rep, xlabels, title=None):\n",
    "    vmax = rep.max()\n",
    "    vmin = rep.min()\n",
    "    print (\"Max and min \", vmax, vmin)\n",
    "    rep = rep.reshape(16, 3, order='F')\n",
    "    inner = gridspec.GridSpecFromSubplotSpec(3, 1, hspace=0, subplot_spec=ax)\n",
    "    omics = ['Mutation', 'Methylation', 'Expression']\n",
    "    cmaps = [sns.color_palette(\"Reds\"), sns.color_palette(\"Blues\"), sns.color_palette(\"Greens\")]\n",
    "\n",
    "    for c in range(3):\n",
    "        ax = plt.Subplot(fig, inner[c])\n",
    "        xticklabels = False\n",
    "        if c == 2:\n",
    "            xticklabels = [i.split(':')[1] for i in xlabels[:16]]\n",
    "        sns.heatmap(rep[:, c].reshape(1, -1), ax=ax, xticklabels=xticklabels,\n",
    "                    cbar=False, cmap=cmaps[c],\n",
    "                    cbar_kws={'use_gridspec': False, 'orientation': 'vertical'},\n",
    "                    vmax=vmax, vmin=vmin)\n",
    "        ax.set_yticklabels([omics[c]], rotation=0, fontsize=10)\n",
    "        if not title is None and c == 0:\n",
    "            ax.set_title(title, fontsize=16)\n",
    "        fig.add_subplot(ax)\n",
    "    plt.subplots_adjust(bottom=0.05, hspace=0.05, wspace=0)\n",
    "\n",
    "\n",
    "def plot_pathway_information(ax, pathways):\n",
    "    for i in range(pathways.shape[0]):\n",
    "        ax.text(0, 0.9-i*0.2, '{0:.0E}  {1}  {2}  {3}'.format(pathways.iloc[i]['Pvalue'],\n",
    "                                                              pathways.iloc[i]['Count'],\n",
    "                                                              pathways.iloc[i]['Size'],\n",
    "                                                              pathways.iloc[i]['Term']\n",
    "                                                             ), fontsize=12\n",
    "               )\n",
    "        ax.get_xaxis().set_visible(False)\n",
    "        ax.get_yaxis().set_visible(False)\n",
    "        ax.spines['right'].set_visible(False)\n",
    "        ax.spines['top'].set_visible(False)\n",
    "        ax.spines['left'].set_visible(False)\n",
    "        ax.spines['bottom'].set_visible(False)"
   ]
  },
  {
   "cell_type": "markdown",
   "metadata": {},
   "source": [
    "### Load PPI Edge Contributions"
   ]
  },
  {
   "cell_type": "code",
   "execution_count": 5,
   "metadata": {},
   "outputs": [
    {
     "name": "stdout",
     "output_type": "stream",
     "text": [
      "Loaded and added neighbor contributions with support 0\n",
      "Loaded and added neighbor contributions with support 1\n"
     ]
    },
    {
     "data": {
      "text/plain": [
       "(-78.10830990555824, 72.98056168227582)"
      ]
     },
     "execution_count": 5,
     "metadata": {},
     "output_type": "execute_result"
    }
   ],
   "source": [
    "lrp_neighbor_matrix = np.load(os.path.join(model_dir, 'lrp_sigmoid', 'support_0_mean_sum.npy'))\n",
    "count = 1\n",
    "for i in range(5):\n",
    "    p = os.path.join(model_dir, 'lrp_sigmoid', 'support_{}_mean_sum.npy'.format(i))\n",
    "    if os.path.isfile(p):\n",
    "        lrp_neighbor_matrix += np.load(p)\n",
    "        count += 1\n",
    "        print (\"Loaded and added neighbor contributions with support {}\".format(i))\n",
    "lrp_neighbor_matrix = lrp_neighbor_matrix / float(count)\n",
    "lrp_neighbor_matrix.min(), lrp_neighbor_matrix.max()"
   ]
  },
  {
   "cell_type": "code",
   "execution_count": 6,
   "metadata": {},
   "outputs": [
    {
     "data": {
      "text/plain": [
       "246189"
      ]
     },
     "execution_count": 6,
     "metadata": {},
     "output_type": "execute_result"
    }
   ],
   "source": [
    "(lrp_neighbor_matrix < 0).sum()"
   ]
  },
  {
   "cell_type": "markdown",
   "metadata": {},
   "source": [
    "### Load Feature LRP Results & EMOGI Predictions"
   ]
  },
  {
   "cell_type": "code",
   "execution_count": 7,
   "metadata": {},
   "outputs": [],
   "source": [
    "# get the relevant data from the input container\n",
    "args, _ = gcnIO.load_hyper_params(model_dir)\n",
    "with h5py.File(os.path.join(model_dir, args['data']), 'r') as f:\n",
    "    node_names = f['gene_names'][:]\n",
    "    feature_names = f['feature_names'][:]\n",
    "    adjacency = f['network'][:]\n",
    "    features = f['features'][:]\n",
    "\n",
    "# Load the LRP feature results for all genes\n",
    "feature_contributions = np.load(os.path.join(model_dir, 'lrp_sigmoid', 'feat_mean_all.npy'))\n",
    "# replace 0 values with small random ones to prevent numerical issues\n",
    "feat_contrib_df = pd.DataFrame(feature_contributions, index=node_names[:feature_contributions.shape[0], 1], columns=feature_names)\n",
    "zero_rows = feat_contrib_df[(feat_contrib_df == 0).all(axis=1)]\n",
    "feat_contrib_df.loc[(feat_contrib_df == 0).all(axis=1)] = np.random.randn(*zero_rows.shape)*0.00001\n",
    "nodes = pd.DataFrame(node_names, columns=['ID', 'Name'])\n",
    "\n",
    "# get the predictions of the model\n",
    "pred = postprocessing.load_predictions(model_dir)"
   ]
  },
  {
   "cell_type": "code",
   "execution_count": 8,
   "metadata": {},
   "outputs": [
    {
     "data": {
      "text/plain": [
       "[('RITA1', 'NEK2', {'weight': 5.848961219825749}),\n",
       " ('ATMIN', 'WRNIP1', {'weight': 5.719151518863786}),\n",
       " ('EXOSC2', 'ST6GALNAC1', {'weight': 4.395462125936763}),\n",
       " ('ARID3B', 'HELZ', {'weight': 3.3453603560771814}),\n",
       " ('CRAT', 'PEX5', {'weight': 3.2524595724024263}),\n",
       " ('ZNF181', 'DDX46', {'weight': 3.145780644502213}),\n",
       " ('MXD1', 'VDR', {'weight': 3.030064549193373}),\n",
       " ('PLA2R1', 'PLA2G10', {'weight': 2.920743430950946}),\n",
       " ('HIST2H4B', 'HIST2H3A', {'weight': 2.8685326444259185}),\n",
       " ('HIST2H4B', 'HIST2H3C', {'weight': 2.828029795970691})]"
      ]
     },
     "execution_count": 8,
     "metadata": {},
     "output_type": "execute_result"
    }
   ],
   "source": [
    "lrp_neighbor_matrix_abs = lrp_neighbor_matrix.copy()\n",
    "#lrp_neighbor_matrix_abs = np.abs(lrp_neighbor_matrix_abs)\n",
    "lrp_neighbor_matrix_abs[lrp_neighbor_matrix_abs < 0] = 0\n",
    "\n",
    "C_abs = nx.from_pandas_adjacency(pd.DataFrame(lrp_neighbor_matrix_abs, index=node_names[:, 1],\n",
    "                                              columns=node_names[:, 1]),\n",
    "                                 create_using=nx.MultiDiGraph)\n",
    "\n",
    "C_abs.remove_edges_from(list(nx.selfloop_edges(C_abs)))\n",
    "sorted(C_abs.edges(data=True), key=lambda x: x[2]['weight'], reverse=True)[:10]"
   ]
  },
  {
   "cell_type": "markdown",
   "metadata": {},
   "source": [
    "### Compute Optimal Threshold\n",
    "This only executes if the flag is set earlier because it is time-consuming"
   ]
  },
  {
   "cell_type": "code",
   "execution_count": 9,
   "metadata": {},
   "outputs": [],
   "source": [
    "def get_number_of_modules(threshold):\n",
    "    to_remove = []\n",
    "    for u, v, weight in C_abs.edges(data='weight'):\n",
    "        if weight < threshold:\n",
    "            to_remove.append((u, v))\n",
    "    C_abs_copy = C_abs.copy()\n",
    "    C_abs_copy.remove_edges_from(to_remove)\n",
    "    module_sizes = [len(c) for c in sorted(nx.strongly_connected_components(C_abs_copy), key=len, reverse=True) if len(c) > 5]\n",
    "    return len(module_sizes)\n",
    "\n",
    "if compute_optimal_cutoff:\n",
    "    thresholds = np.arange(0.01, 0.35, 0.02)\n",
    "    number_of_modules = []\n",
    "    for thr in thresholds:\n",
    "        number_of_modules.append(get_number_of_modules(thr))\n",
    "    number_of_modules\n",
    "    \n",
    "    fig = plt.figure(figsize=(14, 8))\n",
    "    plt.bar(x=list(range(len(number_of_modules))), height=number_of_modules)\n",
    "    _ = plt.xticks(ticks=list(range(len(number_of_modules))), labels=['{0:.2f}'.format(i) for i in thresholds], fontsize=15)\n",
    "    plt.xlabel('Thresholds for Edge Weight', fontsize=20)\n",
    "    plt.ylabel('Number of Modules of Size > 5', fontsize=20)\n",
    "    print (number_of_modules)\n",
    "    plt.gca().tick_params(axis='y', which='major', labelsize=20)\n",
    "    #fig.savefig(os.path.join(model_dir, 'SCCs', 'module_sizes_posonly.svg'))"
   ]
  },
  {
   "cell_type": "markdown",
   "metadata": {},
   "source": [
    "### Compute the SCCs"
   ]
  },
  {
   "cell_type": "code",
   "execution_count": 10,
   "metadata": {},
   "outputs": [],
   "source": [
    "min_edge_weight = 0.19\n",
    "\n",
    "nw_thr = np.where(lrp_neighbor_matrix_abs <= min_edge_weight, 0, lrp_neighbor_matrix)\n",
    "nw_thr_df = pd.DataFrame(data=nw_thr, index=node_names[:, 1], columns=node_names[:, 1])\n",
    "G = nx.from_pandas_adjacency(nw_thr_df, create_using=nx.MultiDiGraph)"
   ]
  },
  {
   "cell_type": "code",
   "execution_count": 11,
   "metadata": {},
   "outputs": [
    {
     "name": "stdout",
     "output_type": "stream",
     "text": [
      "[47, 16, 11, 11, 9, 9, 7, 6, 6, 6, 5, 5, 5, 5, 4, 4, 4, 4, 4, 4, 4, 4, 4, 3, 3, 3, 3, 3, 3, 3, 3, 3, 3, 3, 3, 3, 3, 3, 3, 3, 3, 3, 3, 3, 3, 2, 2, 2, 2, 2, 2, 2, 2, 2, 2, 2, 2, 2, 2, 2, 2, 2, 2, 2, 2, 2, 2, 2, 2, 2, 2, 2, 2, 2, 2, 2, 2, 2, 2, 2, 2, 2, 2, 2, 2, 2, 2, 2, 2, 2, 2, 2, 2, 2, 2, 2, 2, 2, 2, 2, 2, 2, 2, 2, 2, 2, 2, 2, 2, 2, 2, 2, 2, 2, 2, 2, 2, 2, 2, 2, 2, 2, 2, 2, 2, 2, 2, 2, 2, 2, 2, 2, 2, 2, 2, 2, 2, 2, 2, 2, 2, 2, 2, 2, 2, 2, 2, 2, 2, 2, 2, 2, 2, 2, 2, 2, 2, 2, 2, 2, 2, 2, 2, 2, 2, 2, 2, 2]\n",
      "47\n"
     ]
    }
   ],
   "source": [
    "\"\"\"\n",
    "nx.set_node_attributes(G=G, values=pred.set_index('Name')['Prob_pos'].to_dict(), name='OutputProb')\n",
    "#nx.set_node_attributes(G=G, values=pred.set_index('Name')['label'].to_dict(), name='KnownCancerGene')\n",
    "nx.set_node_attributes(G=G, values=pred.set_index('Name')['Pred_Cancer_Gene'].to_dict(), name='PredictedCancerGene')\n",
    "nx.set_node_attributes(G=G, values=pred.set_index('Name')['essentiality'].to_dict(), name='Essentiality')\n",
    "nx.set_node_attributes(G=G, values=pred.set_index('Name')['DatabaseKnowledge'].to_dict(), name='DatabaseKnowledge')\n",
    "\n",
    "nx.set_node_attributes(G=G, values=pred.set_index('Name')['CGC'].to_dict(), name='CGC')\n",
    "nx.set_node_attributes(G=G, values=pred.set_index('Name')['Bailey'].to_dict(), name='BaileyEtAl')\n",
    "nx.set_node_attributes(G=G, values=pred.set_index('Name')['NCGCandidates'].to_dict(), name='NCGCandidates')\n",
    "nx.set_node_attributes(G=G, values=pred.set_index('Name')['OncoKB'].to_dict(), name='OncoKB')\n",
    "nx.set_node_attributes(G=G, values=pred.set_index('Name')['DriverDB'].to_dict(), name='DriverDB')\n",
    "nx.set_node_attributes(G=G, values=pred.set_index('Name')['ONGene_TSGene'].to_dict(), name='ONGeneTSGene')\n",
    "\"\"\"\n",
    "print ([len(c) for c in sorted(nx.strongly_connected_components(G), key=len, reverse=True) if len(c) > 1])\n",
    "print (len(max(nx.strongly_connected_components(G), key=len)))\n",
    "nodes_component = list(max(nx.strongly_connected_components(G), key=len))\n",
    "x = pd.DataFrame(nodes_component, columns=['Name'])\n",
    "all_components = [list(c) for c in sorted(nx.strongly_connected_components(G), key=len, reverse=True) if len(c) > 1]"
   ]
  },
  {
   "cell_type": "markdown",
   "metadata": {},
   "source": [
    "### Are the SCCs Enriched with Essential Genes?"
   ]
  },
  {
   "cell_type": "code",
   "execution_count": 12,
   "metadata": {},
   "outputs": [
    {
     "data": {
      "text/plain": [
       "(102.578125, 1.0, 87.51751981628269, 2.0)"
      ]
     },
     "execution_count": 12,
     "metadata": {},
     "output_type": "execute_result"
    },
    {
     "data": {
      "image/png": "[encoded data removed]",
      "text/plain": [
       "<Figure size 432x288 with 1 Axes>"
      ]
     },
     "metadata": {
      "needs_background": "light"
     },
     "output_type": "display_data"
    }
   ],
   "source": [
    "pred['Pred_Cancer_Gene'] = False\n",
    "pred.loc[pred.Prob_pos >= 0.89, 'Pred_Cancer_Gene'] = True\n",
    "\n",
    "# get essentiality from Achilles data\n",
    "essential_genes = pd.read_csv(achilles_data_path).T\n",
    "essential_genes.columns = essential_genes.loc['Unnamed: 0']\n",
    "essential_genes.drop('Unnamed: 0', inplace=True)\n",
    "essential_genes['Name'] = [i.split('(')[0].strip() for i in essential_genes.index]\n",
    "essential_genes.set_index('Name', inplace=True)\n",
    "essentiality = (essential_genes < -0.5).sum(axis=1)\n",
    "\n",
    "# join essentiality with the predictions\n",
    "pred = pred.join(essentiality.rename('essentiality'), on='Name', how='left')\n",
    "pred.essentiality.fillna(0, inplace=True)\n",
    "pred.essentiality = pred.essentiality.astype('int32')\n",
    "\n",
    "# get all genes somewhere in the 10 largest SCCs\n",
    "all_genes_in_sccs = []\n",
    "for i in range(10):\n",
    "    all_genes_in_sccs += all_components[i]\n",
    "\n",
    "l1 = pred[pred.Name.isin(all_genes_in_sccs)].essentiality\n",
    "l2 = pred[~pred.Name.isin(all_genes_in_sccs)].essentiality\n",
    "_ = plt.boxplot([l1, l2], showfliers=False, labels=['Genes in SCCs', 'Other Genes'])\n",
    "_ = plt.xticks([1,2], ['Genes in SCCs', 'Other Genes'], fontsize=15)\n",
    "plt.ylabel('# of tumor cell lines\\nin which the gene is essential', fontsize=16)\n",
    "l1.mean(), l1.median(), l2.mean(), l2.median()"
   ]
  },
  {
   "cell_type": "code",
   "execution_count": 13,
   "metadata": {},
   "outputs": [
    {
     "data": {
      "text/plain": [
       "Text(0, 0.5, 'Average Essentiality')"
      ]
     },
     "execution_count": 13,
     "metadata": {},
     "output_type": "execute_result"
    },
    {
     "data": {
      "image/png": "[encoded data removed]",
      "text/plain": [
       "<Figure size 576x360 with 1 Axes>"
      ]
     },
     "metadata": {
      "needs_background": "light"
     },
     "output_type": "display_data"
    }
   ],
   "source": [
    "essentiality_for_sccs = []\n",
    "essentiality_err = []\n",
    "for i in range(10):\n",
    "    mean_ess = pred[pred.Name.isin(all_components[i])].essentiality\n",
    "    essentiality_for_sccs.append(mean_ess)\n",
    "    essentiality_err.append(mean_ess.std())\n",
    "\n",
    "fig = plt.figure(figsize=(8, 5))\n",
    "_ = plt.boxplot(essentiality_for_sccs, showfliers=False)\n",
    "_ = plt.xticks(ticks=np.arange(1, 11), labels=['SCC {}'.format(j+1) for j in range(10)], fontsize=15, rotation=90)\n",
    "plt.ylabel('Average Essentiality', fontsize=20)"
   ]
  },
  {
   "cell_type": "markdown",
   "metadata": {},
   "source": [
    "### Add Database Knowledge to SCCs"
   ]
  },
  {
   "cell_type": "code",
   "execution_count": 14,
   "metadata": {},
   "outputs": [
    {
     "data": {
      "text/html": [
       "<div>\n",
       "<style scoped>\n",
       "    .dataframe tbody tr th:only-of-type {\n",
       "        vertical-align: middle;\n",
       "    }\n",
       "\n",
       "    .dataframe tbody tr th {\n",
       "        vertical-align: top;\n",
       "    }\n",
       "\n",
       "    .dataframe thead th {\n",
       "        text-align: right;\n",
       "    }\n",
       "</style>\n",
       "<table border=\"1\" class=\"dataframe\">\n",
       "  <thead>\n",
       "    <tr style=\"text-align: right;\">\n",
       "      <th></th>\n",
       "      <th>Name</th>\n",
       "      <th>label</th>\n",
       "      <th>Num_Pos</th>\n",
       "      <th>Prob_pos</th>\n",
       "      <th>Std_Pred</th>\n",
       "      <th>Pred_Cancer_Gene</th>\n",
       "      <th>essentiality</th>\n",
       "      <th>DatabaseKnowledge</th>\n",
       "    </tr>\n",
       "    <tr>\n",
       "      <th>ID</th>\n",
       "      <th></th>\n",
       "      <th></th>\n",
       "      <th></th>\n",
       "      <th></th>\n",
       "      <th></th>\n",
       "      <th></th>\n",
       "      <th></th>\n",
       "      <th></th>\n",
       "    </tr>\n",
       "  </thead>\n",
       "  <tbody>\n",
       "    <tr>\n",
       "      <th>ENSG00000284792</th>\n",
       "      <td>PTEN</td>\n",
       "      <td>True</td>\n",
       "      <td>10</td>\n",
       "      <td>1.000</td>\n",
       "      <td>0.000</td>\n",
       "      <td>True</td>\n",
       "      <td>2</td>\n",
       "      <td>CGC</td>\n",
       "    </tr>\n",
       "    <tr>\n",
       "      <th>ENSG00000136997</th>\n",
       "      <td>MYC</td>\n",
       "      <td>True</td>\n",
       "      <td>10</td>\n",
       "      <td>1.000</td>\n",
       "      <td>0.000</td>\n",
       "      <td>True</td>\n",
       "      <td>622</td>\n",
       "      <td>CGC</td>\n",
       "    </tr>\n",
       "    <tr>\n",
       "      <th>ENSG00000141646</th>\n",
       "      <td>SMAD4</td>\n",
       "      <td>True</td>\n",
       "      <td>10</td>\n",
       "      <td>1.000</td>\n",
       "      <td>0.000</td>\n",
       "      <td>True</td>\n",
       "      <td>1</td>\n",
       "      <td>CGC</td>\n",
       "    </tr>\n",
       "    <tr>\n",
       "      <th>ENSG00000141510</th>\n",
       "      <td>TP53</td>\n",
       "      <td>True</td>\n",
       "      <td>10</td>\n",
       "      <td>1.000</td>\n",
       "      <td>0.000</td>\n",
       "      <td>True</td>\n",
       "      <td>32</td>\n",
       "      <td>CGC</td>\n",
       "    </tr>\n",
       "    <tr>\n",
       "      <th>ENSG00000146648</th>\n",
       "      <td>EGFR</td>\n",
       "      <td>True</td>\n",
       "      <td>10</td>\n",
       "      <td>1.000</td>\n",
       "      <td>0.000</td>\n",
       "      <td>True</td>\n",
       "      <td>69</td>\n",
       "      <td>CGC</td>\n",
       "    </tr>\n",
       "  </tbody>\n",
       "</table>\n",
       "</div>"
      ],
      "text/plain": [
       "                  Name  label  Num_Pos  Prob_pos  Std_Pred  Pred_Cancer_Gene  \\\n",
       "ID                                                                             \n",
       "ENSG00000284792   PTEN   True       10     1.000     0.000              True   \n",
       "ENSG00000136997    MYC   True       10     1.000     0.000              True   \n",
       "ENSG00000141646  SMAD4   True       10     1.000     0.000              True   \n",
       "ENSG00000141510   TP53   True       10     1.000     0.000              True   \n",
       "ENSG00000146648   EGFR   True       10     1.000     0.000              True   \n",
       "\n",
       "                 essentiality DatabaseKnowledge  \n",
       "ID                                               \n",
       "ENSG00000284792             2               CGC  \n",
       "ENSG00000136997           622               CGC  \n",
       "ENSG00000141646             1               CGC  \n",
       "ENSG00000141510            32               CGC  \n",
       "ENSG00000146648            69               CGC  "
      ]
     },
     "execution_count": 14,
     "metadata": {},
     "output_type": "execute_result"
    }
   ],
   "source": [
    "# get the NCG cancer genes\n",
    "known_cancer_genes = []\n",
    "candidate_cancer_genes = []\n",
    "n = 0\n",
    "with open(ncg_cancer_genes_path, 'r') as f:\n",
    "    for line in f.readlines():\n",
    "        n += 1\n",
    "        if n == 1:\n",
    "            continue\n",
    "        l = line.strip().split('\\t')\n",
    "        if len(l) == 2:\n",
    "            known_cancer_genes.append(l[0])\n",
    "            candidate_cancer_genes.append(l[1])\n",
    "        else:\n",
    "            candidate_cancer_genes.append(l[0])\n",
    "\n",
    "oncokb_genes = pd.read_csv(oncokb_path, sep='\\t')\n",
    "# remove low confidence genes\n",
    "oncokb_no_ncg_highconf = oncokb_genes[oncokb_genes['# of occurrence within resources (Column D-J)'] >= 3]\n",
    "\n",
    "# comprehensive characterization paper genes\n",
    "cancer_genes_paper = pd.read_csv(baileyetal_path, sep='\\t', header=3)\n",
    "cancer_genes_paper = pd.Series(cancer_genes_paper.Gene.unique())\n",
    "\n",
    "# driverDB\n",
    "driverdb_genes = []\n",
    "thresholds_study = {'mutation': 25, 'CNV': 5, 'methylation': 2}\n",
    "for evidence in ['mutation', 'CNV', 'methylation']:\n",
    "    driverdb_data = pd.read_csv(driverdb_path.format(evidence), sep='\\t')\n",
    "    all_driver_genes = []\n",
    "    for index, row in driverdb_data.iterrows():\n",
    "        all_driver_genes += [i.strip() for i in row.driver_gene.split(',') if not i.strip() == '']\n",
    "    study_counts = pd.Series(all_driver_genes).value_counts()\n",
    "    driverdb_genes += list(study_counts[study_counts > thresholds_study[evidence]].index)\n",
    "driverdb_genes = pd.Series(list(set(driverdb_genes)))\n",
    "\n",
    "# OnGene + TSGene\n",
    "oncogenes = pd.read_csv(ongene_path, sep='\\t')\n",
    "tsgs = pd.read_csv(tsgene_path, sep='\\t')\n",
    "cancer_genes = list(set(list(oncogenes.OncogeneName) + list(tsgs.GeneSymbol)))\n",
    "\n",
    "# COSMIC CGC\n",
    "cgc = pd.read_csv(cgc_path)\n",
    "cgc = list(set(cgc['Gene Symbol']))\n",
    "\n",
    "pred['DatabaseKnowledge'] = \"None\"\n",
    "pred.loc[pred.Name.isin(candidate_cancer_genes), 'DatabaseKnowledge'] = \"NCGCandidates\"\n",
    "pred.loc[pred.Name.isin(oncokb_genes['Hugo Symbol']), 'DatabaseKnowledge'] = \"OncoKB\"\n",
    "pred.loc[pred.Name.isin(driverdb_genes), 'DatabaseKnowledge'] = \"DriverDB\"\n",
    "pred.loc[pred.Name.isin(cancer_genes), 'DatabaseKnowledge'] = \"ONGeneTSGene\"\n",
    "pred.loc[pred.Name.isin(cancer_genes_paper), 'DatabaseKnowledge'] = \"Bailey\"\n",
    "pred.loc[pred.Name.isin(cgc), 'DatabaseKnowledge'] = \"CGC\"\n",
    "\"\"\"\n",
    "pred['CGC'] = False\n",
    "pred.loc[pred.Name.isin(cgc), 'CGC'] = True\n",
    "pred['Bailey'] = False\n",
    "pred.loc[pred.Name.isin(cancer_genes_paper), 'Bailey'] = True\n",
    "pred['NCGCandidates'] = False\n",
    "pred.loc[pred.Name.isin(candidate_cancer_genes), 'NCGCandidates'] = True\n",
    "pred['OncoKB'] = False\n",
    "pred.loc[pred.Name.isin(oncokb_genes['Hugo Symbol']), 'OncoKB'] = True\n",
    "pred['DriverDB'] = False\n",
    "pred.loc[pred.Name.isin(driverdb_genes), 'DriverDB'] = True\n",
    "pred['ONGene_TSGene'] = False\n",
    "pred.loc[pred.Name.isin(cancer_genes), 'ONGene_TSGene'] = True\n",
    "\"\"\"\n",
    "pred.head()"
   ]
  },
  {
   "cell_type": "code",
   "execution_count": 15,
   "metadata": {},
   "outputs": [
    {
     "data": {
      "text/plain": [
       "None             10545\n",
       "ONGeneTSGene      1092\n",
       "NCGCandidates      919\n",
       "CGC                630\n",
       "OncoKB             238\n",
       "Bailey             102\n",
       "DriverDB           101\n",
       "Name: DatabaseKnowledge, dtype: int64"
      ]
     },
     "execution_count": 15,
     "metadata": {},
     "output_type": "execute_result"
    }
   ],
   "source": [
    "pred.DatabaseKnowledge.value_counts()"
   ]
  },
  {
   "cell_type": "code",
   "execution_count": 16,
   "metadata": {},
   "outputs": [
    {
     "name": "stdout",
     "output_type": "stream",
     "text": [
      "All SCCs (> 2) contain 250 genes in total\n",
      "The first 10 SCCs (>5) contain 128 genes in total\n"
     ]
    }
   ],
   "source": [
    "all_components_larger2 = [i for i in all_components if len(i) > 2]\n",
    "flat_list = [gene for scc in all_components_larger2 for gene in scc]\n",
    "print (\"All SCCs (> 2) contain {} genes in total\".format(len(set(flat_list))))\n",
    "print (\"The first 10 SCCs (>5) contain {} genes in total\".format(len(set(all_genes_in_sccs))))"
   ]
  },
  {
   "cell_type": "markdown",
   "metadata": {},
   "source": [
    "### Which Omics Levels are Important in SCCs"
   ]
  },
  {
   "cell_type": "code",
   "execution_count": 17,
   "metadata": {},
   "outputs": [
    {
     "data": {
      "image/png": "[encoded data removed]",
      "text/plain": [
       "<Figure size 720x576 with 1 Axes>"
      ]
     },
     "metadata": {
      "needs_background": "light"
     },
     "output_type": "display_data"
    }
   ],
   "source": [
    "# group the feature contributions by omics level\n",
    "contrib_df_copy = feat_contrib_df.copy()\n",
    "contrib_df_copy[contrib_df_copy < 0] = 0\n",
    "contrib_df_copy.loc['Omics_Type', :] = [i[0] for i in feat_contrib_df.columns.str.split(':')]\n",
    "omics_contributions = contrib_df_copy.T.groupby('Omics_Type').sum(axis=1).T\n",
    "\n",
    "# turn that into probabilities\n",
    "def minmax(x):\n",
    "    return x / x.sum(axis=0)\n",
    "omics_contributions_probs = omics_contributions.apply(minmax, axis=1)\n",
    "\n",
    "#compute a stacked barplot from that\n",
    "stacked_barplot_vals = {}\n",
    "groups = list(range(10))\n",
    "for omics in ['MF', 'METH', 'GE']:\n",
    "    omics_vals = []\n",
    "    for scc in all_components[:10]:\n",
    "        omics_vals.append(omics_contributions_probs.loc[omics_contributions_probs.index.isin(scc), omics].mean())\n",
    "    stacked_barplot_vals[omics] = omics_vals\n",
    "\n",
    "df = pd.DataFrame(stacked_barplot_vals)\n",
    "totals = [i+j+k for i,j,k in zip(df['MF'], df['METH'], df['GE'])]\n",
    "mutation_bars = [i / j * 100 for i,j in zip(df['MF'], totals)]\n",
    "methylation_bars = [i / j * 100 for i,j in zip(df['METH'], totals)]\n",
    "expression_bars = [i / j * 100 for i,j in zip(df['GE'], totals)]\n",
    "\n",
    "fig = plt.figure(figsize=(10, 8))\n",
    "plt.bar(groups, mutation_bars, color='darkred', label='Mutation Frequency')\n",
    "plt.bar(groups, methylation_bars, bottom=mutation_bars, color='darkblue', label='DNA Methylation')\n",
    "plt.bar(groups, expression_bars, bottom=[i+j for i,j in zip(mutation_bars, methylation_bars)],\n",
    "        color='darkgreen', label='Gene Expression')\n",
    "\n",
    "plt.legend(loc='upper left', ncol=1, fontsize=20)\n",
    "plt.ylabel('Percent Feature Contribution', fontsize=20)\n",
    "_ = plt.xticks(groups, ['SCC {}'.format(i+1) for i in range(10)], fontsize=15, rotation=90)\n",
    "plt.gca().tick_params(axis='both', which='major', labelsize=20)\n",
    "#fig.savefig(os.path.join(model_dir, 'SCCs', 'omics_contributions_sccs.svg'))"
   ]
  },
  {
   "cell_type": "markdown",
   "metadata": {},
   "source": [
    "### Write SCCs to Disk"
   ]
  },
  {
   "cell_type": "code",
   "execution_count": 18,
   "metadata": {},
   "outputs": [
    {
     "name": "stdout",
     "output_type": "stream",
     "text": [
      "Graph written to: ../data/GCN/training/final_TCGA_all_networks/CPDB/multiomics/SCCs/thr_019_noneg/lrp_neighbors_new_comp_1_thr_0.19.gml\n",
      "Graph written to: ../data/GCN/training/final_TCGA_all_networks/CPDB/multiomics/SCCs/thr_019_noneg/lrp_neighbors_new_comp_2_thr_0.19.gml\n",
      "Graph written to: ../data/GCN/training/final_TCGA_all_networks/CPDB/multiomics/SCCs/thr_019_noneg/lrp_neighbors_new_comp_3_thr_0.19.gml\n",
      "Graph written to: ../data/GCN/training/final_TCGA_all_networks/CPDB/multiomics/SCCs/thr_019_noneg/lrp_neighbors_new_comp_4_thr_0.19.gml\n",
      "Graph written to: ../data/GCN/training/final_TCGA_all_networks/CPDB/multiomics/SCCs/thr_019_noneg/lrp_neighbors_new_comp_5_thr_0.19.gml\n",
      "Graph written to: ../data/GCN/training/final_TCGA_all_networks/CPDB/multiomics/SCCs/thr_019_noneg/lrp_neighbors_new_comp_6_thr_0.19.gml\n",
      "Graph written to: ../data/GCN/training/final_TCGA_all_networks/CPDB/multiomics/SCCs/thr_019_noneg/lrp_neighbors_new_comp_7_thr_0.19.gml\n",
      "Graph written to: ../data/GCN/training/final_TCGA_all_networks/CPDB/multiomics/SCCs/thr_019_noneg/lrp_neighbors_new_comp_8_thr_0.19.gml\n",
      "Graph written to: ../data/GCN/training/final_TCGA_all_networks/CPDB/multiomics/SCCs/thr_019_noneg/lrp_neighbors_new_comp_9_thr_0.19.gml\n",
      "Graph written to: ../data/GCN/training/final_TCGA_all_networks/CPDB/multiomics/SCCs/thr_019_noneg/lrp_neighbors_new_comp_10_thr_0.19.gml\n"
     ]
    }
   ],
   "source": [
    "node_names_df = pd.DataFrame(node_names, columns=['ID', 'Name']).set_index('ID')\n",
    "for i in range(10):\n",
    "    fname = os.path.join(model_dir, 'SCCs', 'thr_019_noneg',\n",
    "                         'lrp_neighbors_new_comp_{}_thr_{}.gml'.format(i+1, min_edge_weight))\n",
    "    comp = all_components[i]\n",
    "    nx.write_gml(G.subgraph(comp), path=fname)\n",
    "    fname_nodes = os.path.join(model_dir, 'lrp_neighbors_new_comp_{}_thr_{}_nodes.csv'.format(i+1, min_edge_weight))\n",
    "    nodes[nodes.Name.isin(comp)].to_csv(fname_nodes, sep='\\t')\n",
    "    print (\"Graph written to: {}\".format(fname))"
   ]
  },
  {
   "cell_type": "markdown",
   "metadata": {},
   "source": [
    "### Which Features are Most Altered in Each SCC\n",
    "This can also be used to compute the feature contribution averages per SCC and determine if any of the SCCs is specific for a tissue or cancer type."
   ]
  },
  {
   "cell_type": "code",
   "execution_count": 19,
   "metadata": {},
   "outputs": [
    {
     "data": {
      "image/png": "[encoded data removed]",
      "text/plain": [
       "<Figure size 432x288 with 1 Axes>"
      ]
     },
     "metadata": {
      "needs_background": "light"
     },
     "output_type": "display_data"
    }
   ],
   "source": [
    "lrp_I = pd.DataFrame(lrp_neighbor_matrix, index=node_names[:, 1], columns=node_names[:, 1])\n",
    "feat_importance_sccs = []\n",
    "for i in range(len(all_components)):\n",
    "    v = feat_contrib_df[feat_contrib_df.index.isin(all_components[i])].sum(axis=1).mean()\n",
    "    feat_importance_sccs.append(v)\n",
    "_ = plt.hist(feat_importance_sccs, bins=np.linspace(-10, 10, 100))"
   ]
  },
  {
   "cell_type": "code",
   "execution_count": 20,
   "metadata": {},
   "outputs": [
    {
     "data": {
      "image/png": "[encoded data removed]",
      "text/plain": [
       "<Figure size 864x1656 with 30 Axes>"
      ]
     },
     "metadata": {
      "needs_background": "light"
     },
     "output_type": "display_data"
    }
   ],
   "source": [
    "features_df = pd.DataFrame(features, index=node_names[:, 1], columns=feature_names)\n",
    "\n",
    "n_to_plot = 10\n",
    "feat_contrib_capped = feat_contrib_df.copy()\n",
    "feat_contrib_capped[feat_contrib_capped < 0] = 0\n",
    "fig = plt.figure(figsize=(12, n_to_plot*2+3), frameon=False)\n",
    "outer_grid = gridspec.GridSpec(nrows=n_to_plot, ncols=1, figure=fig)\n",
    "\n",
    "for scc_no in range(n_to_plot):\n",
    "    # compute the representative for that SCC\n",
    "    #representative = feat_contrib_capped[feat_contrib_capped.index.isin(all_components[scc_no])]\n",
    "    representative = features_df[features_df.index.isin(all_components[scc_no])]\n",
    "    # plot barplot for representative\n",
    "    utils.lrp_heatmap_plot(fig, outer_grid[scc_no], representative.mean(axis=0).values,\n",
    "                        title='SCC {0} (#Genes: {1})'.format(scc_no+1, representative.shape[0]),\n",
    "                        xlabels=representative.columns\n",
    "            )\n",
    "fig.tight_layout()\n",
    "#fig.savefig(os.path.join(model_dir, 'SCCs', 'thr_019_noneg', 'representatives_sccs_input_heatmap.pdf'))"
   ]
  },
  {
   "cell_type": "markdown",
   "metadata": {},
   "source": [
    "### Are Some SCCs Enriched With Cancer Genes"
   ]
  },
  {
   "cell_type": "code",
   "execution_count": 21,
   "metadata": {},
   "outputs": [
    {
     "data": {
      "text/plain": [
       "Text(0, 0.5, '# of Known Cancer Genes')"
      ]
     },
     "execution_count": 21,
     "metadata": {},
     "output_type": "execute_result"
    },
    {
     "data": {
      "image/png": "[encoded data removed]",
      "text/plain": [
       "<Figure size 432x288 with 1 Axes>"
      ]
     },
     "metadata": {
      "needs_background": "light"
     },
     "output_type": "display_data"
    }
   ],
   "source": [
    "sum_known_comp = []\n",
    "for i in range(10):\n",
    "    comp_stats = pred[pred.Name.isin(all_components[i])].label\n",
    "    sum_known_comp.append(comp_stats.mean())\n",
    "\n",
    "plt.bar(x=np.arange(10), height=sum_known_comp)\n",
    "_ = plt.xticks(ticks=np.arange(10), labels=['SCC {}'.format(j+1) for j in range(10)], fontsize=15, rotation=90)\n",
    "plt.ylabel('# of Known Cancer Genes')"
   ]
  },
  {
   "cell_type": "markdown",
   "metadata": {},
   "source": [
    "## Run Pathway/Enrichment Analyses for SCCs"
   ]
  },
  {
   "cell_type": "markdown",
   "metadata": {},
   "source": [
    "### KEGG Pathway Analysis"
   ]
  },
  {
   "cell_type": "code",
   "execution_count": 23,
   "metadata": {},
   "outputs": [],
   "source": [
    "pathway_sccs = []\n",
    "for i in range(10):\n",
    "    pathway_sccs.append(get_pathway_enrichment(nodes[nodes.Name.isin(all_components[i])], nodes, i, model_dir))"
   ]
  },
  {
   "cell_type": "markdown",
   "metadata": {},
   "source": [
    "### GO Enrichment Analysis"
   ]
  },
  {
   "cell_type": "code",
   "execution_count": 24,
   "metadata": {},
   "outputs": [
    {
     "name": "stdout",
     "output_type": "stream",
     "text": [
      "  EXISTS: go-basic.obo\n",
      "  EXISTS: gene2go\n",
      "go-basic.obo: fmt(1.2) rel(2020-07-16) 47,259 GO Terms\n",
      "HMS:0:00:04.570226 338,121 annotations READ: gene2go \n",
      "1 taxids stored: 9606\n",
      "MF 18,162 annotated human genes\n",
      "CC 19,414 annotated human genes\n",
      "BP 18,597 annotated human genes\n",
      "\n",
      "Load BP Gene Ontology Analysis ...\n",
      "fisher module not installed.  Falling back on scipy.stats.fisher_exact\n",
      " 81% 16,864 of 20,913 population items found in association\n",
      "\n",
      "Load CC Gene Ontology Analysis ...\n",
      "fisher module not installed.  Falling back on scipy.stats.fisher_exact\n",
      " 85% 17,853 of 20,913 population items found in association\n",
      "\n",
      "Load MF Gene Ontology Analysis ...\n",
      "fisher module not installed.  Falling back on scipy.stats.fisher_exact\n",
      " 83% 17,359 of 20,913 population items found in association\n"
     ]
    }
   ],
   "source": [
    "# Get the data\n",
    "obo_fname = download_go_basic_obo()\n",
    "fin_gene2go = download_ncbi_associations()\n",
    "obodag = GODag(\"go-basic.obo\")\n",
    "\n",
    "# Read NCBI's gene2go. Store annotations in a list of namedtuples\n",
    "objanno = Gene2GoReader(fin_gene2go, taxids=[9606])\n",
    "\n",
    "# Get namespace2association where:\n",
    "#    namespace is:\n",
    "#        BP: biological_process               \n",
    "#        MF: molecular_function\n",
    "#        CC: cellular_component\n",
    "#    assocation is a dict:\n",
    "#        key: NCBI GeneID\n",
    "#        value: A set of GO IDs associated with that gene\n",
    "ns2assoc = objanno.get_ns2assc()\n",
    "\n",
    "for nspc, id2gos in ns2assoc.items():\n",
    "    print(\"{NS} {N:,} annotated human genes\".format(NS=nspc, N=len(id2gos)))\n",
    "\n",
    "goeaobj = GOEnrichmentStudyNS(\n",
    "        GeneID2nt_human.keys(), # List of human protein-coding genes\n",
    "        ns2assoc, # geneid/GO associations\n",
    "        obodag, # Ontologies\n",
    "        propagate_counts = False,\n",
    "        alpha = 0.05, # default significance cut-off\n",
    "        methods = ['fdr_bh']) # defult multipletest correction method"
   ]
  },
  {
   "cell_type": "code",
   "execution_count": 25,
   "metadata": {},
   "outputs": [
    {
     "name": "stdout",
     "output_type": "stream",
     "text": [
      "querying 1-47...done.\n",
      "Finished.\n",
      "1 input query terms found no hit:\n",
      "\t['SEPT3']\n",
      "\n",
      "Run BP Gene Ontology Analysis: current study set of 46 IDs ...\n",
      " 98%     45 of     46 study items found in association\n",
      "100%     46 of     46 study items found in population(20913)\n",
      "Calculating 12,274 uncorrected p-values using fisher_scipy_stats\n",
      "  12,274 GO terms are associated with 16,864 of 20,913 population items\n",
      "     556 GO terms are associated with     45 of     46 study items\n",
      "  METHOD fdr_bh:\n",
      "       4 GO terms found significant (< 0.05=alpha) (  4 enriched +   0 purified): statsmodels fdr_bh\n",
      "       7 study items associated with significant GO IDs (enriched)\n",
      "       0 study items associated with significant GO IDs (purified)\n",
      "\n",
      "Run CC Gene Ontology Analysis: current study set of 46 IDs ...\n",
      " 98%     45 of     46 study items found in association\n",
      "100%     46 of     46 study items found in population(20913)\n",
      "Calculating 1,754 uncorrected p-values using fisher_scipy_stats\n",
      "   1,754 GO terms are associated with 17,853 of 20,913 population items\n",
      "     150 GO terms are associated with     45 of     46 study items\n",
      "  METHOD fdr_bh:\n",
      "       9 GO terms found significant (< 0.05=alpha) (  9 enriched +   0 purified): statsmodels fdr_bh\n",
      "      38 study items associated with significant GO IDs (enriched)\n",
      "       0 study items associated with significant GO IDs (purified)\n",
      "\n",
      "Run MF Gene Ontology Analysis: current study set of 46 IDs ...\n",
      "100%     46 of     46 study items found in association\n",
      "100%     46 of     46 study items found in population(20913)\n",
      "Calculating 4,239 uncorrected p-values using fisher_scipy_stats\n",
      "   4,239 GO terms are associated with 17,359 of 20,913 population items\n",
      "     159 GO terms are associated with     46 of     46 study items\n",
      "  METHOD fdr_bh:\n",
      "       0 GO terms found significant (< 0.05=alpha) (  0 enriched +   0 purified): statsmodels fdr_bh\n",
      "       0 study items associated with significant GO IDs (enriched)\n",
      "       0 study items associated with significant GO IDs (purified)\n",
      "     13 items WROTE: ../data/GCN/training/final_TCGA_all_networks/CPDB/multiomics/SCCs/thr_019_noneg/SCC_1_goenrichment.xlsx\n",
      "querying 1-16...done.\n",
      "Finished.\n",
      "\n",
      "Run BP Gene Ontology Analysis: current study set of 16 IDs ...\n",
      " 88%     14 of     16 study items found in association\n",
      "100%     16 of     16 study items found in population(20913)\n",
      "Calculating 12,274 uncorrected p-values using fisher_scipy_stats\n",
      "  12,274 GO terms are associated with 16,864 of 20,913 population items\n",
      "      92 GO terms are associated with     14 of     16 study items\n",
      "  METHOD fdr_bh:\n",
      "       3 GO terms found significant (< 0.05=alpha) (  3 enriched +   0 purified): statsmodels fdr_bh\n",
      "       8 study items associated with significant GO IDs (enriched)\n",
      "       0 study items associated with significant GO IDs (purified)\n",
      "\n",
      "Run CC Gene Ontology Analysis: current study set of 16 IDs ...\n",
      "100%     16 of     16 study items found in association\n",
      "100%     16 of     16 study items found in population(20913)\n",
      "Calculating 1,754 uncorrected p-values using fisher_scipy_stats\n",
      "   1,754 GO terms are associated with 17,853 of 20,913 population items\n",
      "      14 GO terms are associated with     16 of     16 study items\n",
      "  METHOD fdr_bh:\n",
      "       6 GO terms found significant (< 0.05=alpha) (  6 enriched +   0 purified): statsmodels fdr_bh\n",
      "      16 study items associated with significant GO IDs (enriched)\n",
      "       0 study items associated with significant GO IDs (purified)\n",
      "\n",
      "Run MF Gene Ontology Analysis: current study set of 16 IDs ...\n",
      " 94%     15 of     16 study items found in association\n",
      "100%     16 of     16 study items found in population(20913)\n",
      "Calculating 4,239 uncorrected p-values using fisher_scipy_stats\n",
      "   4,239 GO terms are associated with 17,359 of 20,913 population items\n",
      "      23 GO terms are associated with     15 of     16 study items\n",
      "  METHOD fdr_bh:\n",
      "       4 GO terms found significant (< 0.05=alpha) (  4 enriched +   0 purified): statsmodels fdr_bh\n",
      "      12 study items associated with significant GO IDs (enriched)\n",
      "       0 study items associated with significant GO IDs (purified)\n",
      "     13 items WROTE: ../data/GCN/training/final_TCGA_all_networks/CPDB/multiomics/SCCs/thr_019_noneg/SCC_2_goenrichment.xlsx\n",
      "querying 1-11...done.\n",
      "Finished.\n",
      "\n",
      "Run BP Gene Ontology Analysis: current study set of 11 IDs ...\n",
      "100%     11 of     11 study items found in association\n",
      "100%     11 of     11 study items found in population(20913)\n",
      "Calculating 12,274 uncorrected p-values using fisher_scipy_stats\n",
      "  12,274 GO terms are associated with 16,864 of 20,913 population items\n",
      "      60 GO terms are associated with     11 of     11 study items\n",
      "  METHOD fdr_bh:\n",
      "       3 GO terms found significant (< 0.05=alpha) (  3 enriched +   0 purified): statsmodels fdr_bh\n",
      "       4 study items associated with significant GO IDs (enriched)\n",
      "       0 study items associated with significant GO IDs (purified)\n",
      "\n",
      "Run CC Gene Ontology Analysis: current study set of 11 IDs ...\n",
      "100%     11 of     11 study items found in association\n",
      "100%     11 of     11 study items found in population(20913)\n",
      "Calculating 1,754 uncorrected p-values using fisher_scipy_stats\n",
      "   1,754 GO terms are associated with 17,853 of 20,913 population items\n",
      "      36 GO terms are associated with     11 of     11 study items\n",
      "  METHOD fdr_bh:\n",
      "       0 GO terms found significant (< 0.05=alpha) (  0 enriched +   0 purified): statsmodels fdr_bh\n",
      "       0 study items associated with significant GO IDs (enriched)\n",
      "       0 study items associated with significant GO IDs (purified)\n",
      "\n",
      "Run MF Gene Ontology Analysis: current study set of 11 IDs ...\n",
      " 91%     10 of     11 study items found in association\n",
      "100%     11 of     11 study items found in population(20913)\n",
      "Calculating 4,239 uncorrected p-values using fisher_scipy_stats\n",
      "   4,239 GO terms are associated with 17,359 of 20,913 population items\n",
      "      18 GO terms are associated with     10 of     11 study items\n",
      "  METHOD fdr_bh:\n",
      "       0 GO terms found significant (< 0.05=alpha) (  0 enriched +   0 purified): statsmodels fdr_bh\n",
      "       0 study items associated with significant GO IDs (enriched)\n",
      "       0 study items associated with significant GO IDs (purified)\n",
      "      3 items WROTE: ../data/GCN/training/final_TCGA_all_networks/CPDB/multiomics/SCCs/thr_019_noneg/SCC_3_goenrichment.xlsx\n",
      "querying 1-11...done.\n",
      "Finished.\n",
      "\n",
      "Run BP Gene Ontology Analysis: current study set of 11 IDs ...\n",
      "100%     11 of     11 study items found in association\n",
      "100%     11 of     11 study items found in population(20913)\n",
      "Calculating 12,274 uncorrected p-values using fisher_scipy_stats\n",
      "  12,274 GO terms are associated with 16,864 of 20,913 population items\n",
      "     246 GO terms are associated with     11 of     11 study items\n",
      "  METHOD fdr_bh:\n",
      "       0 GO terms found significant (< 0.05=alpha) (  0 enriched +   0 purified): statsmodels fdr_bh\n",
      "       0 study items associated with significant GO IDs (enriched)\n",
      "       0 study items associated with significant GO IDs (purified)\n",
      "\n",
      "Run CC Gene Ontology Analysis: current study set of 11 IDs ...\n",
      "100%     11 of     11 study items found in association\n",
      "100%     11 of     11 study items found in population(20913)\n",
      "Calculating 1,754 uncorrected p-values using fisher_scipy_stats\n",
      "   1,754 GO terms are associated with 17,853 of 20,913 population items\n",
      "      76 GO terms are associated with     11 of     11 study items\n",
      "  METHOD fdr_bh:\n",
      "       1 GO terms found significant (< 0.05=alpha) (  1 enriched +   0 purified): statsmodels fdr_bh\n",
      "       2 study items associated with significant GO IDs (enriched)\n",
      "       0 study items associated with significant GO IDs (purified)\n",
      "\n",
      "Run MF Gene Ontology Analysis: current study set of 11 IDs ...\n",
      " 91%     10 of     11 study items found in association\n",
      "100%     11 of     11 study items found in population(20913)\n",
      "Calculating 4,239 uncorrected p-values using fisher_scipy_stats\n",
      "   4,239 GO terms are associated with 17,359 of 20,913 population items\n",
      "      57 GO terms are associated with     10 of     11 study items\n",
      "  METHOD fdr_bh:\n",
      "       0 GO terms found significant (< 0.05=alpha) (  0 enriched +   0 purified): statsmodels fdr_bh\n",
      "       0 study items associated with significant GO IDs (enriched)\n",
      "       0 study items associated with significant GO IDs (purified)\n",
      "      1 items WROTE: ../data/GCN/training/final_TCGA_all_networks/CPDB/multiomics/SCCs/thr_019_noneg/SCC_4_goenrichment.xlsx\n",
      "querying 1-9...done.\n",
      "Finished.\n",
      "\n",
      "Run BP Gene Ontology Analysis: current study set of 9 IDs ...\n",
      " 89%      8 of      9 study items found in association\n",
      "100%      9 of      9 study items found in population(20913)\n",
      "Calculating 12,274 uncorrected p-values using fisher_scipy_stats\n",
      "  12,274 GO terms are associated with 16,864 of 20,913 population items\n",
      "     169 GO terms are associated with      8 of      9 study items\n",
      "  METHOD fdr_bh:\n",
      "       0 GO terms found significant (< 0.05=alpha) (  0 enriched +   0 purified): statsmodels fdr_bh\n",
      "       0 study items associated with significant GO IDs (enriched)\n",
      "       0 study items associated with significant GO IDs (purified)\n",
      "\n",
      "Run CC Gene Ontology Analysis: current study set of 9 IDs ...\n",
      "100%      9 of      9 study items found in association\n",
      "100%      9 of      9 study items found in population(20913)\n",
      "Calculating 1,754 uncorrected p-values using fisher_scipy_stats\n",
      "   1,754 GO terms are associated with 17,853 of 20,913 population items\n",
      "      43 GO terms are associated with      9 of      9 study items\n",
      "  METHOD fdr_bh:\n",
      "       0 GO terms found significant (< 0.05=alpha) (  0 enriched +   0 purified): statsmodels fdr_bh\n",
      "       0 study items associated with significant GO IDs (enriched)\n",
      "       0 study items associated with significant GO IDs (purified)\n",
      "\n",
      "Run MF Gene Ontology Analysis: current study set of 9 IDs ...\n",
      "100%      9 of      9 study items found in association\n",
      "100%      9 of      9 study items found in population(20913)\n",
      "Calculating 4,239 uncorrected p-values using fisher_scipy_stats\n",
      "   4,239 GO terms are associated with 17,359 of 20,913 population items\n",
      "      55 GO terms are associated with      9 of      9 study items\n",
      "  METHOD fdr_bh:\n",
      "       0 GO terms found significant (< 0.05=alpha) (  0 enriched +   0 purified): statsmodels fdr_bh\n",
      "       0 study items associated with significant GO IDs (enriched)\n",
      "       0 study items associated with significant GO IDs (purified)\n",
      "      0 items. NOT WRITING ../data/GCN/training/final_TCGA_all_networks/CPDB/multiomics/SCCs/thr_019_noneg/SCC_5_goenrichment.xlsx\n",
      "querying 1-9...done.\n",
      "Finished.\n",
      "\n",
      "Run BP Gene Ontology Analysis: current study set of 9 IDs ...\n",
      "100%      9 of      9 study items found in association\n",
      "100%      9 of      9 study items found in population(20913)\n",
      "Calculating 12,274 uncorrected p-values using fisher_scipy_stats\n",
      "  12,274 GO terms are associated with 16,864 of 20,913 population items\n",
      "     198 GO terms are associated with      9 of      9 study items\n",
      "  METHOD fdr_bh:\n",
      "       0 GO terms found significant (< 0.05=alpha) (  0 enriched +   0 purified): statsmodels fdr_bh\n",
      "       0 study items associated with significant GO IDs (enriched)\n",
      "       0 study items associated with significant GO IDs (purified)\n",
      "\n",
      "Run CC Gene Ontology Analysis: current study set of 9 IDs ...\n",
      "100%      9 of      9 study items found in association\n",
      "100%      9 of      9 study items found in population(20913)\n",
      "Calculating 1,754 uncorrected p-values using fisher_scipy_stats\n",
      "   1,754 GO terms are associated with 17,853 of 20,913 population items\n",
      "      40 GO terms are associated with      9 of      9 study items\n",
      "  METHOD fdr_bh:\n",
      "       0 GO terms found significant (< 0.05=alpha) (  0 enriched +   0 purified): statsmodels fdr_bh\n",
      "       0 study items associated with significant GO IDs (enriched)\n",
      "       0 study items associated with significant GO IDs (purified)\n",
      "\n",
      "Run MF Gene Ontology Analysis: current study set of 9 IDs ...\n",
      "100%      9 of      9 study items found in association\n",
      "100%      9 of      9 study items found in population(20913)\n",
      "Calculating 4,239 uncorrected p-values using fisher_scipy_stats\n",
      "   4,239 GO terms are associated with 17,359 of 20,913 population items\n",
      "      25 GO terms are associated with      9 of      9 study items\n",
      "  METHOD fdr_bh:\n",
      "       0 GO terms found significant (< 0.05=alpha) (  0 enriched +   0 purified): statsmodels fdr_bh\n",
      "       0 study items associated with significant GO IDs (enriched)\n",
      "       0 study items associated with significant GO IDs (purified)\n",
      "      0 items. NOT WRITING ../data/GCN/training/final_TCGA_all_networks/CPDB/multiomics/SCCs/thr_019_noneg/SCC_6_goenrichment.xlsx\n",
      "querying 1-7...done.\n",
      "Finished.\n",
      "\n",
      "Run BP Gene Ontology Analysis: current study set of 7 IDs ...\n",
      "100%      7 of      7 study items found in association\n",
      "100%      7 of      7 study items found in population(20913)\n",
      "Calculating 12,274 uncorrected p-values using fisher_scipy_stats\n",
      "  12,274 GO terms are associated with 16,864 of 20,913 population items\n",
      "     179 GO terms are associated with      7 of      7 study items\n",
      "  METHOD fdr_bh:\n",
      "      15 GO terms found significant (< 0.05=alpha) ( 15 enriched +   0 purified): statsmodels fdr_bh\n",
      "       7 study items associated with significant GO IDs (enriched)\n",
      "       0 study items associated with significant GO IDs (purified)\n",
      "\n",
      "Run CC Gene Ontology Analysis: current study set of 7 IDs ...\n",
      "100%      7 of      7 study items found in association\n",
      "100%      7 of      7 study items found in population(20913)\n",
      "Calculating 1,754 uncorrected p-values using fisher_scipy_stats\n",
      "   1,754 GO terms are associated with 17,853 of 20,913 population items\n",
      "      39 GO terms are associated with      7 of      7 study items\n",
      "  METHOD fdr_bh:\n",
      "       3 GO terms found significant (< 0.05=alpha) (  3 enriched +   0 purified): statsmodels fdr_bh\n",
      "       4 study items associated with significant GO IDs (enriched)\n",
      "       0 study items associated with significant GO IDs (purified)\n",
      "\n",
      "Run MF Gene Ontology Analysis: current study set of 7 IDs ...\n",
      "100%      7 of      7 study items found in association\n",
      "100%      7 of      7 study items found in population(20913)\n",
      "Calculating 4,239 uncorrected p-values using fisher_scipy_stats\n",
      "   4,239 GO terms are associated with 17,359 of 20,913 population items\n",
      "      24 GO terms are associated with      7 of      7 study items\n",
      "  METHOD fdr_bh:\n",
      "       1 GO terms found significant (< 0.05=alpha) (  1 enriched +   0 purified): statsmodels fdr_bh\n",
      "       3 study items associated with significant GO IDs (enriched)\n",
      "       0 study items associated with significant GO IDs (purified)\n",
      "     19 items WROTE: ../data/GCN/training/final_TCGA_all_networks/CPDB/multiomics/SCCs/thr_019_noneg/SCC_7_goenrichment.xlsx\n",
      "querying 1-6...done.\n",
      "Finished.\n",
      "\n",
      "Run BP Gene Ontology Analysis: current study set of 6 IDs ...\n",
      "100%      6 of      6 study items found in association\n",
      "100%      6 of      6 study items found in population(20913)\n",
      "Calculating 12,274 uncorrected p-values using fisher_scipy_stats\n",
      "  12,274 GO terms are associated with 16,864 of 20,913 population items\n",
      "     130 GO terms are associated with      6 of      6 study items\n",
      "  METHOD fdr_bh:\n",
      "       0 GO terms found significant (< 0.05=alpha) (  0 enriched +   0 purified): statsmodels fdr_bh\n",
      "       0 study items associated with significant GO IDs (enriched)\n",
      "       0 study items associated with significant GO IDs (purified)\n",
      "\n",
      "Run CC Gene Ontology Analysis: current study set of 6 IDs ...\n",
      "100%      6 of      6 study items found in association\n",
      "100%      6 of      6 study items found in population(20913)\n",
      "Calculating 1,754 uncorrected p-values using fisher_scipy_stats\n",
      "   1,754 GO terms are associated with 17,853 of 20,913 population items\n",
      "      47 GO terms are associated with      6 of      6 study items\n",
      "  METHOD fdr_bh:\n",
      "       0 GO terms found significant (< 0.05=alpha) (  0 enriched +   0 purified): statsmodels fdr_bh\n",
      "       0 study items associated with significant GO IDs (enriched)\n",
      "       0 study items associated with significant GO IDs (purified)\n",
      "\n",
      "Run MF Gene Ontology Analysis: current study set of 6 IDs ...\n",
      "100%      6 of      6 study items found in association\n",
      "100%      6 of      6 study items found in population(20913)\n",
      "Calculating 4,239 uncorrected p-values using fisher_scipy_stats\n",
      "   4,239 GO terms are associated with 17,359 of 20,913 population items\n",
      "      25 GO terms are associated with      6 of      6 study items\n",
      "  METHOD fdr_bh:\n",
      "       0 GO terms found significant (< 0.05=alpha) (  0 enriched +   0 purified): statsmodels fdr_bh\n",
      "       0 study items associated with significant GO IDs (enriched)\n",
      "       0 study items associated with significant GO IDs (purified)\n",
      "      0 items. NOT WRITING ../data/GCN/training/final_TCGA_all_networks/CPDB/multiomics/SCCs/thr_019_noneg/SCC_8_goenrichment.xlsx\n",
      "querying 1-6...done.\n",
      "Finished.\n",
      "\n",
      "Run BP Gene Ontology Analysis: current study set of 6 IDs ...\n",
      "100%      6 of      6 study items found in association\n",
      "100%      6 of      6 study items found in population(20913)\n",
      "Calculating 12,274 uncorrected p-values using fisher_scipy_stats\n",
      "  12,274 GO terms are associated with 16,864 of 20,913 population items\n",
      "      55 GO terms are associated with      6 of      6 study items\n",
      "  METHOD fdr_bh:\n",
      "       0 GO terms found significant (< 0.05=alpha) (  0 enriched +   0 purified): statsmodels fdr_bh\n",
      "       0 study items associated with significant GO IDs (enriched)\n",
      "       0 study items associated with significant GO IDs (purified)\n",
      "\n",
      "Run CC Gene Ontology Analysis: current study set of 6 IDs ...\n",
      "100%      6 of      6 study items found in association\n",
      "100%      6 of      6 study items found in population(20913)\n",
      "Calculating 1,754 uncorrected p-values using fisher_scipy_stats\n",
      "   1,754 GO terms are associated with 17,853 of 20,913 population items\n",
      "      47 GO terms are associated with      6 of      6 study items\n",
      "  METHOD fdr_bh:\n",
      "       0 GO terms found significant (< 0.05=alpha) (  0 enriched +   0 purified): statsmodels fdr_bh\n",
      "       0 study items associated with significant GO IDs (enriched)\n",
      "       0 study items associated with significant GO IDs (purified)\n",
      "\n",
      "Run MF Gene Ontology Analysis: current study set of 6 IDs ...\n",
      "100%      6 of      6 study items found in association\n",
      "100%      6 of      6 study items found in population(20913)\n",
      "Calculating 4,239 uncorrected p-values using fisher_scipy_stats\n",
      "   4,239 GO terms are associated with 17,359 of 20,913 population items\n",
      "      26 GO terms are associated with      6 of      6 study items\n",
      "  METHOD fdr_bh:\n",
      "       0 GO terms found significant (< 0.05=alpha) (  0 enriched +   0 purified): statsmodels fdr_bh\n",
      "       0 study items associated with significant GO IDs (enriched)\n",
      "       0 study items associated with significant GO IDs (purified)\n",
      "      0 items. NOT WRITING ../data/GCN/training/final_TCGA_all_networks/CPDB/multiomics/SCCs/thr_019_noneg/SCC_9_goenrichment.xlsx\n",
      "querying 1-6...done.\n",
      "Finished.\n",
      "\n",
      "Run BP Gene Ontology Analysis: current study set of 6 IDs ...\n",
      "100%      6 of      6 study items found in association\n",
      "100%      6 of      6 study items found in population(20913)\n",
      "Calculating 12,274 uncorrected p-values using fisher_scipy_stats\n",
      "  12,274 GO terms are associated with 16,864 of 20,913 population items\n",
      "      29 GO terms are associated with      6 of      6 study items\n",
      "  METHOD fdr_bh:\n",
      "       1 GO terms found significant (< 0.05=alpha) (  1 enriched +   0 purified): statsmodels fdr_bh\n",
      "       5 study items associated with significant GO IDs (enriched)\n",
      "       0 study items associated with significant GO IDs (purified)\n",
      "\n",
      "Run CC Gene Ontology Analysis: current study set of 6 IDs ...\n",
      "100%      6 of      6 study items found in association\n",
      "100%      6 of      6 study items found in population(20913)\n",
      "Calculating 1,754 uncorrected p-values using fisher_scipy_stats\n",
      "   1,754 GO terms are associated with 17,853 of 20,913 population items\n",
      "       8 GO terms are associated with      6 of      6 study items\n",
      "  METHOD fdr_bh:\n",
      "       1 GO terms found significant (< 0.05=alpha) (  1 enriched +   0 purified): statsmodels fdr_bh\n",
      "       6 study items associated with significant GO IDs (enriched)\n",
      "       0 study items associated with significant GO IDs (purified)\n",
      "\n",
      "Run MF Gene Ontology Analysis: current study set of 6 IDs ...\n",
      "100%      6 of      6 study items found in association\n",
      "100%      6 of      6 study items found in population(20913)\n",
      "Calculating 4,239 uncorrected p-values using fisher_scipy_stats\n",
      "   4,239 GO terms are associated with 17,359 of 20,913 population items\n",
      "      12 GO terms are associated with      6 of      6 study items\n",
      "  METHOD fdr_bh:\n",
      "       4 GO terms found significant (< 0.05=alpha) (  4 enriched +   0 purified): statsmodels fdr_bh\n",
      "       6 study items associated with significant GO IDs (enriched)\n",
      "       0 study items associated with significant GO IDs (purified)\n",
      "      6 items WROTE: ../data/GCN/training/final_TCGA_all_networks/CPDB/multiomics/SCCs/thr_019_noneg/SCC_10_goenrichment.xlsx\n"
     ]
    }
   ],
   "source": [
    "for comp in range(10):\n",
    "    geneids_study = [int(i) for i in list(ut.get_entrez_from_symbol(all_components[comp]).index) if not i is None]\n",
    "    goea_results_all = goeaobj.run_study(geneids_study)\n",
    "    goea_results_sig = [r for r in goea_results_all if r.p_fdr_bh < 0.05]\n",
    "    out_dir = os.path.join(model_dir, 'SCCs', 'thr_019_noneg')\n",
    "    #plot_results(os.path.join(out_dir, 'SCC_{}_goenrichment.png'.format(comp+1)), goea_results_sig)\n",
    "    goeaobj.wr_xlsx(os.path.join(out_dir, 'SCC_{}_goenrichment.xlsx'.format(comp+1)), goea_results_sig)"
   ]
  },
  {
   "cell_type": "markdown",
   "metadata": {},
   "source": [
    "## LRP Neighbor Contributions Introduce no New Interactions"
   ]
  },
  {
   "cell_type": "code",
   "execution_count": null,
   "metadata": {},
   "outputs": [],
   "source": [
    "import lrp"
   ]
  },
  {
   "cell_type": "code",
   "execution_count": null,
   "metadata": {},
   "outputs": [],
   "source": [
    "interpreter = lrp.LRP(model_dir=model_dir)"
   ]
  },
  {
   "cell_type": "code",
   "execution_count": null,
   "metadata": {},
   "outputs": [],
   "source": [
    "lrp_scores = interpreter.compute_lrp('APC')\n",
    "mean_feat, std_feat, mean_neighbors, std_neighbors = lrp_scores"
   ]
  },
  {
   "cell_type": "code",
   "execution_count": null,
   "metadata": {},
   "outputs": [],
   "source": [
    "nn_contrib_s0 = pd.DataFrame(mean_neighbors[1], index=node_names[:, 1], columns=node_names[:, 1])\n",
    "G = nx.from_pandas_adjacency(nn_contrib_s0)\n",
    "A = nx.from_pandas_adjacency(pd.DataFrame(adjacency, index=node_names[:, 1], columns=node_names[:, 1]))\n",
    "G.remove_edges_from(G.selfloop_edges())\n",
    "G.number_of_edges()"
   ]
  },
  {
   "cell_type": "code",
   "execution_count": null,
   "metadata": {},
   "outputs": [],
   "source": [
    "gene_name = 'APC'\n",
    "contributers_tp53 = list(G.neighbors(gene_name))\n",
    "same = 0\n",
    "for neighbor in A.neighbors(gene_name):\n",
    "    if not neighbor in contributers_tp53:\n",
    "        print (neighbor)\n",
    "    else:\n",
    "        same += 1\n",
    "same"
   ]
  },
  {
   "cell_type": "code",
   "execution_count": null,
   "metadata": {},
   "outputs": [],
   "source": [
    "A.number_of_edges(), G.number_of_edges()"
   ]
  },
  {
   "cell_type": "code",
   "execution_count": null,
   "metadata": {},
   "outputs": [],
   "source": [
    "len(list(contrib_all.neighbors('APC')))"
   ]
  },
  {
   "cell_type": "code",
   "execution_count": null,
   "metadata": {},
   "outputs": [],
   "source": [
    "\n",
    "def edge_exists(source, target):\n",
    "    if A.has_edge(source, target):"
   ]
  },
  {
   "cell_type": "code",
   "execution_count": null,
   "metadata": {},
   "outputs": [],
   "source": [
    "count = 0\n",
    "for (u, v) in A.edges():\n",
    "    count += 1\n",
    "    if not contrib_all.has_edge(u, v):\n",
    "        print (u, v)"
   ]
  },
  {
   "cell_type": "code",
   "execution_count": null,
   "metadata": {},
   "outputs": [],
   "source": [
    "A.number_of_edges(), G.number_of_edges(), contrib_all.number_of_edges()"
   ]
  },
  {
   "cell_type": "code",
   "execution_count": null,
   "metadata": {},
   "outputs": [],
   "source": [
    "A = nx.from_pandas_adjacency(pd.DataFrame(adjacency, index=node_names[:, 1], columns=node_names[:, 1]))\n",
    "len(list(A.neighbors('ZHX2')))"
   ]
  },
  {
   "cell_type": "code",
   "execution_count": null,
   "metadata": {},
   "outputs": [],
   "source": [
    "feat_contrib_df[feat_contrib_df.sum(axis=1).abs() > 2.5].shape"
   ]
  },
  {
   "cell_type": "code",
   "execution_count": null,
   "metadata": {},
   "outputs": [],
   "source": [
    "fig = plt.figure(figsize=(14, 8))\n",
    "_= plt.hist(feat_contrib_df.sum(axis=1), bins=np.linspace(-10, 10, 100))"
   ]
  },
  {
   "cell_type": "markdown",
   "metadata": {},
   "source": [
    "### Betweenness & LRP Edge Weight Correlation"
   ]
  },
  {
   "cell_type": "code",
   "execution_count": null,
   "metadata": {},
   "outputs": [],
   "source": [
    "edge_betweenness = nx.edge_betweenness(C_abs)\n",
    "\n",
    "sources = []\n",
    "targets = []\n",
    "betweenness = []\n",
    "for source, target in edge_betweenness:\n",
    "    sources.append(source)\n",
    "    targets.append(target)\n",
    "    betweenness.append(edge_betweenness[(source, target)])\n",
    "edge_bet_df = pd.DataFrame([sources, targets, betweenness]).T\n",
    "edge_bet_df.columns = ['Source', 'Target', 'Betweenness']\n",
    "edge_bet_df['Betweenness'] = edge_bet_df.Betweenness.astype('float')\n",
    "\n",
    "weights = []\n",
    "for index, row in edge_bet_df.iterrows():\n",
    "    edge_data = G.get_edge_data(row.Source, row.Target)\n",
    "    if not edge_data is None:\n",
    "        weight = G.get_edge_data(row.Source, row.Target)[0]['weight']\n",
    "    else:\n",
    "        weight = 0\n",
    "    weights.append(weight)\n",
    "edge_bet_df['weight'] = weights\n",
    "\n",
    "edge_bet_df_sub = edge_bet_df[edge_bet_df.weight != 0]\n",
    "\n",
    "fig = plt.figure(figsize=(8, 8))\n",
    "sns.kdeplot(edge_bet_df_sub.Betweenness.rank(ascending=False), edge_bet_df_sub.weight.rank(ascending=False), cmap='Reds',\n",
    "            shade=True, shade_lowest=False)\n",
    "#correlation = pred_with_interactions.Prob_pos.rank().corr(pred_with_interactions.Cancer_Gene_Interactions.rank())\n",
    "correlation, pvalue = scipy.stats.pearsonr(edge_bet_df_sub.Betweenness,\n",
    "                                           edge_bet_df_sub.weight\n",
    "                                          )\n",
    "print (\"Pearson Correlation: {}\\tP-value: {}\".format(correlation, pvalue))\n",
    "#plt.title('Correlation Output Probability & Cancer Gene Interactions(R = {0:.2f})'.format(correlation),\n",
    "#          fontsize=25)\n",
    "plt.xlabel('Edge Betweenness in CPDB PPI Network (Ranked)', fontsize=16)\n",
    "plt.ylabel('EMOGI Edge Weight (Ranked)', fontsize=16)\n",
    "plt.gca().tick_params(axis='both', labelsize=12)\n",
    "#fig.savefig(os.path.join(all_models_dir, 'correlation_cginteractions.svg'))\n",
    "\n",
    "edge_bet_df.sort_values(by='Betweenness').head(10)\n",
    "pd.set_option('float_format', '{:f}'.format)\n",
    "test = edge_bet_df[edge_bet_df.Source.isin(all_components[0]) & edge_bet_df.Target.isin(all_components[0])]\n",
    "test = test[test.Betweenness > 0.00001]\n",
    "test.sort_values(by='Betweenness', ascending=False)\n",
    "edge_bet_df.Betweenness.max()"
   ]
  }
 ],
 "metadata": {
  "kernelspec": {
   "display_name": "Python 3",
   "language": "python",
   "name": "python3"
  },
  "language_info": {
   "codemirror_mode": {
    "name": "ipython",
    "version": 3
   },
   "file_extension": ".py",
   "mimetype": "text/x-python",
   "name": "python",
   "nbconvert_exporter": "python",
   "pygments_lexer": "ipython3",
   "version": "3.7.3"
  }
 },
 "nbformat": 4,
 "nbformat_minor": 2
}
