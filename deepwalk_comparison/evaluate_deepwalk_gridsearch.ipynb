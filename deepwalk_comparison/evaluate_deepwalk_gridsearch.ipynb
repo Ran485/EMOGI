{
 "cells": [
  {
   "cell_type": "code",
   "execution_count": 1,
   "metadata": {},
   "outputs": [
    {
     "name": "stderr",
     "output_type": "stream",
     "text": [
      "/home/sasse/.local/lib/python3.6/site-packages/matplotlib/__init__.py:886: MatplotlibDeprecationWarning: \n",
      "examples.directory is deprecated; in the future, examples will be found relative to the 'datapath' directory.\n",
      "  \"found relative to the 'datapath' directory.\".format(key))\n",
      "/home/sasse/.local/lib/python3.6/site-packages/h5py/__init__.py:34: FutureWarning: Conversion of the second argument of issubdtype from `float` to `np.floating` is deprecated. In future, it will be treated as `np.float64 == np.dtype(float).type`.\n",
      "  from ._conv import register_converters as _register_converters\n"
     ]
    }
   ],
   "source": [
    "import pandas as pd\n",
    "import numpy as np\n",
    "import os, sys\n",
    "from sklearn.linear_model import LogisticRegression\n",
    "from sklearn.svm import SVC\n",
    "from sklearn.ensemble import RandomForestClassifier\n",
    "from sklearn.metrics import average_precision_score, precision_recall_curve\n",
    "sys.path.append(os.path.abspath('../GCN'))\n",
    "\n",
    "import matplotlib.pyplot as plt\n",
    "import seaborn as sns\n",
    "import matplotlib_venn\n",
    "import gcnIO, postprocessing\n",
    "\n",
    "%matplotlib inline"
   ]
  },
  {
   "cell_type": "code",
   "execution_count": 2,
   "metadata": {},
   "outputs": [
    {
     "name": "stdout",
     "output_type": "stream",
     "text": [
      "(156, 2)\n",
      "embedding_0 -> AUPR: 0.76\n",
      "(156, 2)\n",
      "embedding_1 -> AUPR: 0.84\n",
      "(156, 2)\n",
      "embedding_2 -> AUPR: 0.82\n",
      "(156, 2)\n",
      "embedding_3 -> AUPR: 0.77\n",
      "(156, 2)\n",
      "embedding_4 -> AUPR: 0.79\n",
      "(156, 2)\n",
      "embedding_5 -> AUPR: 0.86\n",
      "(156, 2)\n",
      "embedding_6 -> AUPR: 0.75\n",
      "(156, 2)\n",
      "embedding_7 -> AUPR: 0.80\n",
      "(156, 2)\n",
      "embedding_8 -> AUPR: 0.85\n",
      "(156, 2)\n",
      "embedding_9 -> AUPR: 0.78\n",
      "(156, 2)\n",
      "embedding_10 -> AUPR: 0.79\n",
      "(156, 2)\n",
      "embedding_11 -> AUPR: 0.82\n",
      "(156, 2)\n",
      "embedding_12 -> AUPR: 0.77\n",
      "(156, 2)\n",
      "embedding_13 -> AUPR: 0.79\n",
      "(156, 2)\n",
      "embedding_14 -> AUPR: 0.83\n",
      "(156, 2)\n",
      "embedding_15 -> AUPR: 0.82\n",
      "(156, 2)\n",
      "embedding_16 -> AUPR: 0.82\n",
      "(156, 2)\n",
      "embedding_17 -> AUPR: 0.81\n",
      "(156, 2)\n",
      "embedding_18 -> AUPR: 0.79\n",
      "(156, 2)\n",
      "embedding_19 -> AUPR: 0.78\n",
      "(156, 2)\n",
      "embedding_20 -> AUPR: 0.77\n",
      "(156, 2)\n",
      "embedding_21 -> AUPR: 0.79\n",
      "(156, 2)\n",
      "embedding_22 -> AUPR: 0.78\n",
      "(156, 2)\n",
      "embedding_23 -> AUPR: 0.78\n",
      "(156, 2)\n",
      "embedding_24 -> AUPR: 0.83\n",
      "(156, 2)\n",
      "embedding_25 -> AUPR: 0.81\n",
      "(156, 2)\n",
      "embedding_26 -> AUPR: 0.80\n"
     ]
    }
   ],
   "source": [
    "gridsearch_dir = '/project/gcn/deepwalk/deepwalk_gridsearch/'\n",
    "data_file = '/project/gcn/diseasegcn/data/pancancer/CPDB_multiomics_omimallneg.h5'\n",
    "\n",
    "def get_model_performance(embedding_file, features, node_names, y_train, train_mask, y_test, test_mask, out_file=None):\n",
    "    deepwalk_embeddings = pd.read_csv(embedding_file, header=None, skiprows=1, sep=' ')\n",
    "    deepwalk_embeddings.columns = ['Node_Id'] + deepwalk_embeddings.columns[1:].tolist()\n",
    "    deepwalk_embeddings.set_index('Node_Id', inplace=True)\n",
    "    nodes = pd.DataFrame(node_names, columns=['ID', 'Name'])\n",
    "    embedding_with_names = deepwalk_embeddings.join(nodes)\n",
    "\n",
    "    X_dw = embedding_with_names.set_index('Name').reindex(nodes.Name).drop('ID', axis=1)\n",
    "    X_train_dw = X_dw[train_mask.astype(np.bool)]\n",
    "    X_test_dw = X_dw[test_mask.astype(np.bool)]\n",
    "    y_train_dw = y_train[train_mask.astype(np.bool)]\n",
    "    y_test_dw = y_test[test_mask.astype(np.bool)]\n",
    "\n",
    "    clf = SVC(kernel='rbf', class_weight='balanced', probability=True)\n",
    "    #clf = RandomForestClassifier()\n",
    "    #clf = LogisticRegression(class_weight='balanced')\n",
    "    clf.fit(X_train_dw, y_train_dw.reshape(-1))\n",
    "    pred_deepwalk = clf.predict_proba(X_test_dw)\n",
    "    print (pred_deepwalk.shape)\n",
    "    pr_dw, rec_dw, thresholds_dw = precision_recall_curve(y_true=y_test_dw,\n",
    "                                                          probas_pred=pred_deepwalk[:, 1])\n",
    "    aupr_dw = average_precision_score(y_true=y_test_dw, y_score=pred_deepwalk[:, 1])\n",
    "    if not out_file is None:\n",
    "        fig = plt.figure(figsize=(14, 8))\n",
    "        plt.plot(rec_dw, pr_dw, lw=6, label='DeepWalk (AUPR = {0:.2f})'.format(aupr_dw))\n",
    "        plt.legend()\n",
    "        print (os.path.dirname(embedding_file))\n",
    "        fig.savefig(os.path.join(os.path.dirname(embedding_file), out_file))\n",
    "    return aupr_dw\n",
    "\n",
    "\n",
    "data = gcnIO.load_hdf_data(path=data_file)\n",
    "network, features, y_train, y_val, y_test, train_mask, val_mask, test_mask, node_names, feat_names = data\n",
    "\n",
    "performances = []\n",
    "for param_file in os.listdir(gridsearch_dir):\n",
    "    if param_file.startswith('embedding_') and os.path.isfile(os.path.join(gridsearch_dir, param_file)):\n",
    "        perf = get_model_performance(embedding_file=os.path.join(gridsearch_dir, param_file),\n",
    "                                     features=features,\n",
    "                                     node_names=node_names,\n",
    "                                     y_train=y_train,\n",
    "                                     train_mask=train_mask,\n",
    "                                     y_test=y_val,\n",
    "                                     test_mask=val_mask,\n",
    "                                     out_file=None\n",
    "                                     #out_file='pr_curve_{}.svg'.format(param_file.split('_')[1])\n",
    "                                    )\n",
    "        print (\"{0} -> AUPR: {1:.2f}\".format(param_file, perf))\n",
    "        performances.append(perf)"
   ]
  },
  {
   "cell_type": "code",
   "execution_count": 29,
   "metadata": {},
   "outputs": [
    {
     "data": {
      "text/plain": [
       "(0.6, 0.85)"
      ]
     },
     "execution_count": 29,
     "metadata": {},
     "output_type": "execute_result"
    },
    {
     "data": {
      "image/png": "[encoded data removed]",
      "text/plain": [
       "<Figure size 1440x576 with 1 Axes>"
      ]
     },
     "metadata": {},
     "output_type": "display_data"
    }
   ],
   "source": [
    "num_to_print = 45\n",
    "aupr_sorted = sorted(performances, reverse=True)\n",
    "indices = np.argsort(performances)[::-1]\n",
    "\n",
    "fig, ax = plt.subplots(figsize=(20, 8))\n",
    "x = sns.barplot(x=indices, y=aupr_sorted)\n",
    "#x.set_xticklabels(indices)\n",
    "ax.set_ylabel('Area Under Precision Recall Curve')\n",
    "ax.set_xlabel('Indices of Grid Search Run')\n",
    "ax.set_ylim([0.6, 0.85])\n",
    "#fig.savefig(os.path.join(training_dir, 'boxplot_best_{}_aupr.png'.format(num_to_print)), dpi=300)"
   ]
  },
  {
   "cell_type": "markdown",
   "metadata": {},
   "source": [
    "## Overlap with Candidate Cancer Genes"
   ]
  },
  {
   "cell_type": "code",
   "execution_count": 17,
   "metadata": {},
   "outputs": [],
   "source": [
    "deepwalk_embeddings = pd.read_csv(os.path.join(gridsearch_dir, 'embedding_5'), header=None, skiprows=1, sep=' ')\n",
    "deepwalk_embeddings.columns = ['Node_Id'] + deepwalk_embeddings.columns[1:].tolist()\n",
    "deepwalk_embeddings.set_index('Node_Id', inplace=True)\n",
    "nodes = pd.DataFrame(node_names, columns=['ID', 'Name'])\n",
    "embedding_with_names = deepwalk_embeddings.join(nodes)\n",
    "\n",
    "X_dw = embedding_with_names.set_index('Name').reindex(nodes.Name).drop('ID', axis=1)\n",
    "X_train_dw = X_dw[train_mask.astype(np.bool)]\n",
    "X_test_dw = X_dw[test_mask.astype(np.bool)]\n",
    "y_train_dw = y_train[train_mask.astype(np.bool)]\n",
    "y_test_dw = y_test[test_mask.astype(np.bool)]\n",
    "\n",
    "clf = SVC(kernel='rbf', class_weight='balanced', probability=True)\n",
    "#clf = RandomForestClassifier()\n",
    "#clf = LogisticRegression(class_weight='balanced')\n",
    "clf.fit(X_train_dw, y_train_dw.reshape(-1))\n",
    "pred_deepwalk = clf.predict_proba(X_test_dw)\n",
    "\n",
    "pr, rec, thresholds = precision_recall_curve(y_true=y_test_dw,\n",
    "                                                      probas_pred=pred_deepwalk[:, 1])\n",
    "distances = np.sqrt(np.sum((np.array([1, 1]) - np.array([rec, pr]).T)**2, axis=1))\n",
    "idx = np.argmin(distances)\n",
    "best_threshold_pr = thresholds[idx]\n",
    "\n",
    "pred_all = clf.predict_proba(X_dw)\n",
    "nodes['Prob_Pos'] = pred_all[:, 1]"
   ]
  },
  {
   "cell_type": "code",
   "execution_count": 9,
   "metadata": {},
   "outputs": [
    {
     "data": {
      "text/plain": [
       "((654,), 711)"
      ]
     },
     "execution_count": 9,
     "metadata": {},
     "output_type": "execute_result"
    }
   ],
   "source": [
    "nodes = pd.DataFrame(node_names, columns=['ID', 'Name'])\n",
    "\n",
    "known_cancer_genes = []\n",
    "candidate_cancer_genes = []\n",
    "n = 0\n",
    "with open('../data/pancancer/NCG/cancergenes_list.txt', 'r') as f:\n",
    "    for line in f.readlines():\n",
    "        n += 1\n",
    "        if n == 1:\n",
    "            continue\n",
    "        l = line.strip().split('\\t')\n",
    "        if len(l) == 2:\n",
    "            known_cancer_genes.append(l[0])\n",
    "            candidate_cancer_genes.append(l[1])\n",
    "        else:\n",
    "            candidate_cancer_genes.append(l[0])\n",
    "\n",
    "known_cancer_genes_innet = nodes[nodes.Name.isin(known_cancer_genes)].Name\n",
    "candidate_cancer_genes_innet = nodes[nodes.Name.isin(candidate_cancer_genes)].Name\n",
    "known_cancer_genes_innet.shape, len(known_cancer_genes)"
   ]
  },
  {
   "cell_type": "code",
   "execution_count": 19,
   "metadata": {},
   "outputs": [
    {
     "data": {
      "image/png": "[encoded data removed]",
      "text/plain": [
       "<Figure size 1008x576 with 1 Axes>"
      ]
     },
     "metadata": {},
     "output_type": "display_data"
    }
   ],
   "source": [
    "fig = plt.figure(figsize=(14, 8))\n",
    "v = matplotlib_venn.venn3([set(known_cancer_genes_innet),\n",
    "                        set(nodes[nodes.Prob_Pos >= best_threshold_pr].Name),\n",
    "                        set(candidate_cancer_genes_innet)],\n",
    "        set_labels=['Known Cancer Genes', 'DeepWalk Predictions', 'Candidate Cancer Genes'])\n",
    "v.get_patch_by_id('10').set_color('#3d3e3d')\n",
    "if not v.get_patch_by_id('11') is None:\n",
    "    v.get_patch_by_id('11').set_color('#37652d')\n",
    "    v.get_label_by_id('11').set_fontsize(20)\n",
    "v.get_patch_by_id('01').set_color('#ee7600')\n",
    "v.get_patch_by_id('011').set_color('#4d2600')\n",
    "v.get_patch_by_id('001').set_color('#031F6F')\n",
    "v.get_label_by_id('A').set_fontsize(20)\n",
    "v.get_label_by_id('B').set_fontsize(20)\n",
    "v.get_label_by_id('C').set_fontsize(20)\n",
    "v.get_label_by_id('10').set_fontsize(20)\n",
    "v.get_label_by_id('01').set_fontsize(20)\n",
    "if not v.get_patch_by_id('111') is None and not v.get_patch_by_id('101') is None:\n",
    "    v.get_label_by_id('111').set_fontsize(20)\n",
    "    v.get_label_by_id('101').set_fontsize(20)\n",
    "    v.get_patch_by_id('111').set_color('#890707')\n",
    "    v.get_patch_by_id('101').set_color('#6E80B7')\n",
    "v.get_label_by_id('011').set_fontsize(20)\n",
    "v.get_label_by_id('001').set_fontsize(20)"
   ]
  },
  {
   "cell_type": "code",
   "execution_count": 22,
   "metadata": {},
   "outputs": [
    {
     "data": {
      "text/html": [
       "<div>\n",
       "<table border=\"1\" class=\"dataframe\">\n",
       "  <thead>\n",
       "    <tr style=\"text-align: right;\">\n",
       "      <th></th>\n",
       "      <th>ID</th>\n",
       "      <th>Name</th>\n",
       "      <th>Prob_Pos</th>\n",
       "      <th>degree</th>\n",
       "    </tr>\n",
       "  </thead>\n",
       "  <tbody>\n",
       "    <tr>\n",
       "      <th>0</th>\n",
       "      <td>ENSG00000167323</td>\n",
       "      <td>STIM1</td>\n",
       "      <td>0.191</td>\n",
       "      <td>40.000</td>\n",
       "    </tr>\n",
       "    <tr>\n",
       "      <th>1</th>\n",
       "      <td>ENSG00000144935</td>\n",
       "      <td>TRPC1</td>\n",
       "      <td>0.303</td>\n",
       "      <td>17.000</td>\n",
       "    </tr>\n",
       "    <tr>\n",
       "      <th>2</th>\n",
       "      <td>ENSG00000089250</td>\n",
       "      <td>NOS1</td>\n",
       "      <td>0.512</td>\n",
       "      <td>39.000</td>\n",
       "    </tr>\n",
       "    <tr>\n",
       "      <th>3</th>\n",
       "      <td>ENSG00000058668</td>\n",
       "      <td>ATP2B4</td>\n",
       "      <td>0.179</td>\n",
       "      <td>42.000</td>\n",
       "    </tr>\n",
       "    <tr>\n",
       "      <th>4</th>\n",
       "      <td>ENSG00000069431</td>\n",
       "      <td>ABCC9</td>\n",
       "      <td>0.021</td>\n",
       "      <td>3.000</td>\n",
       "    </tr>\n",
       "  </tbody>\n",
       "</table>\n",
       "</div>"
      ],
      "text/plain": [
       "                ID    Name  Prob_Pos  degree\n",
       "0  ENSG00000167323   STIM1     0.191  40.000\n",
       "1  ENSG00000144935   TRPC1     0.303  17.000\n",
       "2  ENSG00000089250    NOS1     0.512  39.000\n",
       "3  ENSG00000058668  ATP2B4     0.179  42.000\n",
       "4  ENSG00000069431   ABCC9     0.021   3.000"
      ]
     },
     "execution_count": 22,
     "metadata": {},
     "output_type": "execute_result"
    }
   ],
   "source": [
    "nodes['degree'] = network.sum(axis=0)\n",
    "nodes.head()"
   ]
  },
  {
   "cell_type": "code",
   "execution_count": 23,
   "metadata": {},
   "outputs": [
    {
     "data": {
      "text/plain": [
       "20.0"
      ]
     },
     "execution_count": 23,
     "metadata": {},
     "output_type": "execute_result"
    }
   ],
   "source": [
    "nodes[nodes.Name.isin(candidate_cancer_genes_innet)].degree.median()"
   ]
  },
  {
   "cell_type": "code",
   "execution_count": 24,
   "metadata": {},
   "outputs": [
    {
     "data": {
      "text/plain": [
       "53.0"
      ]
     },
     "execution_count": 24,
     "metadata": {},
     "output_type": "execute_result"
    }
   ],
   "source": [
    "nodes[nodes.Name.isin(known_cancer_genes_innet)].degree.median()"
   ]
  },
  {
   "cell_type": "code",
   "execution_count": null,
   "metadata": {},
   "outputs": [],
   "source": []
  }
 ],
 "metadata": {
  "kernelspec": {
   "display_name": "Python 3",
   "language": "python",
   "name": "python3"
  },
  "language_info": {
   "codemirror_mode": {
    "name": "ipython",
    "version": 3
   },
   "file_extension": ".py",
   "mimetype": "text/x-python",
   "name": "python",
   "nbconvert_exporter": "python",
   "pygments_lexer": "ipython3",
   "version": "3.6.8"
  }
 },
 "nbformat": 4,
 "nbformat_minor": 2
}
