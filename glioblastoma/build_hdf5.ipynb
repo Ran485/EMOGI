{
 "cells": [
  {
   "cell_type": "markdown",
   "metadata": {
    "deletable": true,
    "editable": true
   },
   "source": [
    "# Preprocessing Glioblastoma Data\n",
    "In this notebook, I preprocess the original glioblastoma gene expression for 200 patients to be in the correct format for me to use. That means, I have to derive a csv table with the genes as rows and the patient samples as columns.\n",
    "However, I first have to join the two different dataframes (the gene expression data was delivered as two separate files) and convert the affymatrix IDs to Ensembl IDs."
   ]
  },
  {
   "cell_type": "code",
   "execution_count": 1,
   "metadata": {
    "collapsed": false,
    "deletable": true,
    "editable": true
   },
   "outputs": [
    {
     "name": "stderr",
     "output_type": "stream",
     "text": [
      "/home/sasse/.local/lib/python3.6/site-packages/h5py/__init__.py:34: FutureWarning: Conversion of the second argument of issubdtype from `float` to `np.floating` is deprecated. In future, it will be treated as `np.float64 == np.dtype(float).type`.\n",
      "  from ._conv import register_converters as _register_converters\n"
     ]
    }
   ],
   "source": [
    "import pandas as pd\n",
    "import numpy as np\n",
    "import matplotlib.pyplot as plt\n",
    "import csv\n",
    "import mygene\n",
    "import h5py\n",
    "%matplotlib inline"
   ]
  },
  {
   "cell_type": "markdown",
   "metadata": {
    "deletable": true,
    "editable": true
   },
   "source": [
    "## 1. Read the Gene Expression"
   ]
  },
  {
   "cell_type": "code",
   "execution_count": 2,
   "metadata": {
    "collapsed": true,
    "deletable": true,
    "editable": true
   },
   "outputs": [],
   "source": [
    "ge1 = pd.read_csv('GSE4271-GPL96_series_matrix.txt',\n",
    "                  sep='\\t', quoting=csv.QUOTE_NONE,\n",
    "                  comment='!', skiprows=85, encoding='utf-8')\n",
    "ge1.columns = [x.strip('\"') for x in ge1.columns] # remove quotes around column names\n",
    "ge1['ID_REF'] = ge1['ID_REF'].map(lambda x: x.strip('\"'))"
   ]
  },
  {
   "cell_type": "code",
   "execution_count": 3,
   "metadata": {
    "collapsed": true,
    "deletable": true,
    "editable": true
   },
   "outputs": [],
   "source": [
    "ge2 = pd.read_csv('GSE4271-GPL97_series_matrix.txt',\n",
    "                  sep='\\t', quoting=csv.QUOTE_NONE,\n",
    "                  comment='!', skiprows=84, encoding='utf-8')\n",
    "ge2.columns = [x.strip('\"') for x in ge2.columns] # remove quotes around column names\n",
    "ge2['ID_REF'] = ge2['ID_REF'].map(lambda x: x.strip('\"'))"
   ]
  },
  {
   "cell_type": "code",
   "execution_count": 4,
   "metadata": {
    "collapsed": false,
    "deletable": true,
    "editable": true
   },
   "outputs": [
    {
     "data": {
      "text/plain": [
       "<matplotlib.axes._subplots.AxesSubplot at 0x7fabb510efd0>"
      ]
     },
     "execution_count": 4,
     "metadata": {},
     "output_type": "execute_result"
    },
    {
     "data": {
      "image/png": "[encoded data removed]",
      "text/plain": [
       "<matplotlib.figure.Figure at 0x7fabb510e160>"
      ]
     },
     "metadata": {},
     "output_type": "display_data"
    }
   ],
   "source": [
    "pd.Series(ge1[ge1.ID_REF.isin(ge2.ID_REF)].index).plot('hist', bins=np.arange(0,\n",
    "                                                                              max(ge1.shape[0], ge2.shape[0]),\n",
    "                                                                              100)\n",
    "                                                      )"
   ]
  },
  {
   "cell_type": "markdown",
   "metadata": {
    "deletable": true,
    "editable": true
   },
   "source": [
    "## 2. Convert Affymatrix IDs to Ensembl-IDs"
   ]
  },
  {
   "cell_type": "code",
   "execution_count": 8,
   "metadata": {
    "collapsed": false,
    "deletable": true,
    "editable": true
   },
   "outputs": [
    {
     "name": "stdout",
     "output_type": "stream",
     "text": [
      "Got full expression (202 samples) for 12167 genes\n",
      "Got any expression for 35514 genes\n"
     ]
    }
   ],
   "source": [
    "# read conversion tables (exported from R hgu133a.db, hgu133b.db)\n",
    "# these are two tables which map the Affymatrix probes to ensembl ids\n",
    "mapping_a = pd.read_csv('hgu133a_to_ensembl.csv', names=['num', 'probe_id', 'ensembl_id'], header=0)\n",
    "mapping_a.set_index('probe_id', inplace=True)\n",
    "mapping_a.drop('num', axis=1, inplace=True)\n",
    "\n",
    "mapping_b = pd.read_csv('hgu133b_to_ensembl.csv', names=['num', 'probe_id', 'ensembl_id'], header=0)\n",
    "mapping_b.set_index('probe_id', inplace=True)\n",
    "mapping_b.drop('num', axis=1, inplace=True)\n",
    "\n",
    "# join mappings with gene expression\n",
    "ge1_with_ens = ge1.join(mapping_a, on='ID_REF')\n",
    "ge1_with_ens.dropna(inplace=True)\n",
    "\n",
    "ge2_with_ens = ge2.join(mapping_b, on='ID_REF')\n",
    "ge2_with_ens.dropna(inplace=True)\n",
    "\n",
    "# set index of both data sets to ensembl id for easy joining\n",
    "ge1_with_ens.set_index('ensembl_id', inplace=True)\n",
    "ge2_with_ens.set_index('ensembl_id', inplace=True)\n",
    "\n",
    "# join\n",
    "gene_expression = ge1_with_ens.join(ge2_with_ens, lsuffix='l_', how='outer')\n",
    "gene_expression.drop('ID_REFl_', axis=1, inplace=True)\n",
    "num_genes_with_full_expr = gene_expression[~gene_expression.isnull().any(axis=1)].shape[0]\n",
    "num_of_total_samples = ge1.shape[1] + ge2.shape[1]\n",
    "print (\"Got full expression ({} samples) for {} genes\".format(num_of_total_samples,\n",
    "                                                              num_genes_with_full_expr))\n",
    "print (\"Got any expression for {} genes\".format(gene_expression.shape[0]))\n",
    "\n",
    "# clean the data and make it nice\n",
    "gene_expression.fillna(value=0, inplace=True)\n",
    "gene_expression.drop('ID_REF', axis=1, inplace=True)"
   ]
  },
  {
   "cell_type": "code",
   "execution_count": 9,
   "metadata": {
    "collapsed": true,
    "deletable": true,
    "editable": true
   },
   "outputs": [],
   "source": [
    "# use mygene to get ensembl IDs for the affymatrix genes\n",
    "def add_ids_to_ge(ge):\n",
    "    mg = mygene.MyGeneInfo()\n",
    "    res = mg.querymany(pd.unique(ge.ID_REF),\n",
    "                       scopes='all',\n",
    "                       fields='ensembl.gene, symbol',\n",
    "                       species='human', returnall=True\n",
    "                      )\n",
    "\n",
    "    # now, retrieve the names and IDs from a dictionary and put in DF\n",
    "    def get_name_and_id(x):\n",
    "        ens_id = x['ensembl'][0]['gene'] if type(x['ensembl']) is list else x['ensembl']['gene']\n",
    "        affy = x['query']\n",
    "        name = x['symbol']\n",
    "        return [affy, ens_id, name]\n",
    "\n",
    "    ens_ids = [get_name_and_id(x) for x in res['out'] if 'ensembl' in x]\n",
    "    gene_affy_ens = pd.DataFrame(ens_ids, columns=['affy_ID', 'Ensembl_ID', 'Name'])\n",
    "    gene_affy_ens.set_index('affy_ID', inplace=True)\n",
    "    gene_affy_ens = gene_affy_ens[~gene_affy_ens.index.duplicated(keep='first')]\n",
    "\n",
    "    # join with node list to have the correct order and derive gene names\n",
    "    gene_affy_ens = ge.join(gene_affy_ens, on='ID_REF')\n",
    "    print (\"{} gene names (symbols) mapped successfully\".format(len(ens_ids)))\n",
    "    return gene_affy_ens"
   ]
  },
  {
   "cell_type": "code",
   "execution_count": 10,
   "metadata": {
    "collapsed": true,
    "deletable": true,
    "editable": true
   },
   "outputs": [],
   "source": [
    "#ge1 = add_ids_to_ge(ge1)\n",
    "#ge2 = add_ids_to_ge(ge2)\n",
    "#ge1.set_index('Ensembl_ID', inplace=True)\n",
    "#ge2.set_index('Ensembl_ID', inplace=True)"
   ]
  },
  {
   "cell_type": "markdown",
   "metadata": {
    "deletable": true,
    "editable": true
   },
   "source": [
    "## 3. Load PPI network and match features with it"
   ]
  },
  {
   "cell_type": "code",
   "execution_count": 22,
   "metadata": {
    "collapsed": true,
    "deletable": true,
    "editable": true
   },
   "outputs": [],
   "source": [
    "data_file = '../data/cancer/hotnet_iref_vec_input_unbalanced.h5'\n",
    "\n",
    "with h5py.File(data_file, 'r') as f:\n",
    "    network = f['network'][:]\n",
    "    features = f['features'][:]\n",
    "    node_names = f['gene_names'][:]\n",
    "    y_train = f['y_train'][:]\n",
    "    y_test = f['y_test'][:]\n",
    "    if 'y_val' in f:\n",
    "        y_val = f['y_val'][:]\n",
    "    else:\n",
    "        y_val = None\n",
    "    train_mask = f['mask_train'][:]\n",
    "    test_mask = f['mask_test'][:]\n",
    "    if 'mask_val' in f:\n",
    "        val_mask = f['mask_val'][:]\n",
    "    else:\n",
    "        val_mask = None"
   ]
  },
  {
   "cell_type": "code",
   "execution_count": 24,
   "metadata": {
    "collapsed": false,
    "deletable": true,
    "editable": true
   },
   "outputs": [
    {
     "name": "stdout",
     "output_type": "stream",
     "text": [
      "1259 out of 12129 nodes don't have any gene expression\n"
     ]
    }
   ],
   "source": [
    "# first, bring node names to DF\n",
    "nodes_df = pd.DataFrame(node_names, columns=['ensembl_id', 'name'])\n",
    "nodes_df.set_index('ensembl_id', inplace=True)\n",
    "\n",
    "# clean gene expression\n",
    "gene_expression = gene_expression[~gene_expression.index.duplicated()] # remove duplicate IDs\n",
    "ge_occuring_in_net = gene_expression[gene_expression.index.isin(nodes_df.index)] # remove IDs not present in network\n",
    "\n",
    "# build feature matrix using reindexing\n",
    "features_df = ge_occuring_in_net.reindex(index=nodes_df.index)\n",
    "num_of_zero_nodes = features_df.isnull().any(axis=1).sum()\n",
    "print (\"{} out of {} nodes don't have any gene expression\".format(num_of_zero_nodes, network.shape[0]))\n",
    "\n",
    "# put 0 for missing data\n",
    "features_df.fillna(0, inplace=True)"
   ]
  },
  {
   "cell_type": "markdown",
   "metadata": {
    "deletable": true,
    "editable": true
   },
   "source": [
    "## 4. Write out HDF5 container with feature vector"
   ]
  },
  {
   "cell_type": "code",
   "execution_count": 36,
   "metadata": {
    "collapsed": false,
    "deletable": true,
    "editable": true
   },
   "outputs": [
    {
     "name": "stdout",
     "output_type": "stream",
     "text": [
      "(12129, 200)\n",
      "Container written to ../data/cancer/glioblastoma_iref_unbalanced.h5\n"
     ]
    }
   ],
   "source": [
    "features = features_df.as_matrix()\n",
    "string_dt = h5py.special_dtype(vlen=str)\n",
    "\n",
    "# determine file name by parameters\n",
    "fname = '../data/cancer/glioblastoma_iref_unbalanced.h5'\n",
    "f = h5py.File(fname, 'w')\n",
    "\n",
    "# add ppi network\n",
    "f.create_dataset('network', data=network, shape=network.shape)\n",
    "\n",
    "# add features\n",
    "f.create_dataset('features', data=features, shape=features.shape)\n",
    "# add gene names (same order as features & network)\n",
    "f.create_dataset('gene_names', data=node_names, dtype=string_dt)\n",
    "# add labels\n",
    "f.create_dataset('y_train', data=y_train, shape=y_train.shape)\n",
    "f.create_dataset('y_test', data=y_test, shape=y_test.shape)\n",
    "if y_val is not None:\n",
    "    f.create_dataset('y_val', data=y_val, shape=y_val.shape)\n",
    "\n",
    "f.create_dataset('mask_train', data=train_mask, shape=train_mask.shape)\n",
    "f.create_dataset('mask_test', data=test_mask, shape=test_mask.shape)\n",
    "if y_val is not None:\n",
    "    f.create_dataset('mask_val', data=val_mask, shape=val_mask.shape)\n",
    "f.close()\n",
    "print (\"Container written to {}\".format(fname))"
   ]
  }
 ],
 "metadata": {
  "kernelspec": {
   "display_name": "Python 3",
   "language": "python",
   "name": "python3"
  },
  "language_info": {
   "codemirror_mode": {
    "name": "ipython",
    "version": 3
   },
   "file_extension": ".py",
   "mimetype": "text/x-python",
   "name": "python",
   "nbconvert_exporter": "python",
   "pygments_lexer": "ipython3",
   "version": "3.6.1"
  }
 },
 "nbformat": 4,
 "nbformat_minor": 2
}
