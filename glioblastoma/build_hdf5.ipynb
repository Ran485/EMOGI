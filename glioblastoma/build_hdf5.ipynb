{
 "cells": [
  {
   "cell_type": "markdown",
   "metadata": {},
   "source": [
    "# Preprocessing Glioblastoma Data\n",
    "In this notebook, I preprocess the original glioblastoma gene expression for 200 patients to be in the correct format for me to use. That means, I have to derive a csv table with the genes as rows and the patient samples as columns.\n",
    "However, I first have to join the two different dataframes (the gene expression data was delivered as two separate files) and convert the affymatrix IDs to Ensembl IDs."
   ]
  },
  {
   "cell_type": "code",
   "execution_count": 51,
   "metadata": {
    "collapsed": true
   },
   "outputs": [],
   "source": [
    "import pandas as pd\n",
    "import numpy as np\n",
    "import matplotlib.pyplot as plt\n",
    "import csv\n",
    "import mygene\n",
    "%matplotlib inline"
   ]
  },
  {
   "cell_type": "markdown",
   "metadata": {},
   "source": [
    "## 1. Read the Gene Expression"
   ]
  },
  {
   "cell_type": "code",
   "execution_count": 33,
   "metadata": {
    "collapsed": false
   },
   "outputs": [],
   "source": [
    "ge1 = pd.read_csv('GSE4271-GPL96_series_matrix.txt',\n",
    "                  sep='\\t', quoting=csv.QUOTE_NONE,\n",
    "                  comment='!', skiprows=85, encoding='utf-8')\n",
    "ge1.columns = [x.strip('\"') for x in ge1.columns] # remove quotes around column names\n",
    "ge1['ID_REF'] = ge1['ID_REF'].map(lambda x: x.strip('\"'))"
   ]
  },
  {
   "cell_type": "code",
   "execution_count": 34,
   "metadata": {
    "collapsed": false
   },
   "outputs": [],
   "source": [
    "ge2 = pd.read_csv('GSE4271-GPL97_series_matrix.txt',\n",
    "                  sep='\\t', quoting=csv.QUOTE_NONE,\n",
    "                  comment='!', skiprows=84, encoding='utf-8')\n",
    "ge2.columns = [x.strip('\"') for x in ge2.columns] # remove quotes around column names\n",
    "ge2['ID_REF'] = ge2['ID_REF'].map(lambda x: x.strip('\"'))"
   ]
  },
  {
   "cell_type": "code",
   "execution_count": 36,
   "metadata": {
    "collapsed": false
   },
   "outputs": [
    {
     "data": {
      "text/plain": [
       "((22283, 101), (22645, 101))"
      ]
     },
     "execution_count": 36,
     "metadata": {},
     "output_type": "execute_result"
    }
   ],
   "source": [
    "ge1.shape, ge2.shape"
   ]
  },
  {
   "cell_type": "markdown",
   "metadata": {},
   "source": [
    "## 2. Convert Affymatrix IDs to Ensembl-IDs"
   ]
  },
  {
   "cell_type": "code",
   "execution_count": 89,
   "metadata": {
    "collapsed": false
   },
   "outputs": [],
   "source": [
    "# use mygene to get ensembl IDs for the affymatrix genes\n",
    "def add_ids_to_ge(ge):\n",
    "    mg = mygene.MyGeneInfo()\n",
    "    res = mg.querymany(pd.unique(ge.ID_REF),\n",
    "                       scopes='all',\n",
    "                       fields='ensembl.gene, symbol',\n",
    "                       species='human', returnall=True\n",
    "                      )\n",
    "\n",
    "    # now, retrieve the names and IDs from a dictionary and put in DF\n",
    "    def get_name_and_id(x):\n",
    "        ens_id = x['ensembl'][0]['gene'] if type(x['ensembl']) is list else x['ensembl']['gene']\n",
    "        affy = x['query']\n",
    "        name = x['symbol']\n",
    "        return [affy, ens_id, name]\n",
    "\n",
    "    ens_ids = [get_name_and_id(x) for x in res['out'] if 'ensembl' in x]\n",
    "    gene_affy_ens = pd.DataFrame(ens_ids, columns=['affy_ID', 'Ensembl_ID', 'Name'])\n",
    "    gene_affy_ens.set_index('affy_ID', inplace=True)\n",
    "    gene_affy_ens = gene_affy_ens[~gene_affy_ens.index.duplicated(keep='first')]\n",
    "\n",
    "    # join with node list to have the correct order and derive gene names\n",
    "    gene_affy_ens = ge.join(gene_affy_ens, on='ID_REF')\n",
    "    print (\"{} gene names (symbols) mapped successfully\".format(len(ens_ids)))\n",
    "    return gene_affy_ens"
   ]
  },
  {
   "cell_type": "code",
   "execution_count": 90,
   "metadata": {
    "collapsed": false
   },
   "outputs": [
    {
     "name": "stdout",
     "output_type": "stream",
     "text": [
      "querying 1-1000...done.\n",
      "querying 1001-2000...done.\n",
      "querying 2001-3000...done.\n",
      "querying 3001-4000...done.\n",
      "querying 4001-5000...done.\n",
      "querying 5001-6000...done.\n",
      "querying 6001-7000...done.\n",
      "querying 7001-8000...done.\n",
      "querying 8001-9000...done.\n",
      "querying 9001-10000...done.\n",
      "querying 10001-11000...done.\n",
      "querying 11001-12000...done.\n",
      "querying 12001-13000...done.\n",
      "querying 13001-14000...done.\n",
      "querying 14001-15000...done.\n",
      "querying 15001-16000...done.\n",
      "querying 16001-17000...done.\n",
      "querying 17001-18000...done.\n",
      "querying 18001-19000...done.\n",
      "querying 19001-20000...done.\n",
      "querying 20001-21000...done.\n",
      "querying 21001-22000...done.\n",
      "querying 22001-22283...done.\n",
      "Finished.\n",
      "1125 input query terms found dup hits:\n",
      "\t[('1007_s_at', 2), ('1294_at', 2), ('1773_at', 2), ('200003_s_at', 2), ('200012_x_at', 4), ('200016_\n",
      "1371 input query terms found no hit:\n",
      "\t['201205_at', '201265_at', '202015_x_at', '202091_at', '202280_at', '202881_x_at', '203326_x_at', '2\n",
      "21934 gene names (symbols) mapped successfully\n",
      "querying 1-1000...done.\n",
      "querying 1001-2000...done.\n",
      "querying 2001-3000...done.\n",
      "querying 3001-4000...done.\n",
      "querying 4001-5000...done.\n",
      "querying 5001-6000...done.\n",
      "querying 6001-7000...done.\n",
      "querying 7001-8000...done.\n",
      "querying 8001-9000...done.\n",
      "querying 9001-10000...done.\n",
      "querying 10001-11000...done.\n",
      "querying 11001-12000...done.\n",
      "querying 12001-13000...done.\n",
      "querying 13001-14000...done.\n",
      "querying 14001-15000...done.\n",
      "querying 15001-16000...done.\n",
      "querying 16001-17000...done.\n",
      "querying 17001-18000...done.\n",
      "querying 18001-19000...done.\n",
      "querying 19001-20000...done.\n",
      "querying 20001-21000...done.\n",
      "querying 21001-22000...done.\n",
      "querying 22001-22645...done.\n",
      "Finished.\n",
      "584 input query terms found dup hits:\n",
      "\t[('200003_s_at', 2), ('200012_x_at', 4), ('200016_x_at', 2), ('200018_at', 2), ('200031_s_at', 2), (\n",
      "6642 input query terms found no hit:\n",
      "\t['222539_at', '222614_at', '222677_x_at', '222965_at', '222968_at', '222970_at', '222973_at', '22305\n",
      "15787 gene names (symbols) mapped successfully\n"
     ]
    }
   ],
   "source": [
    "ge1 = add_ids_to_ge(ge1)\n",
    "ge2 = add_ids_to_ge(ge2)"
   ]
  },
  {
   "cell_type": "code",
   "execution_count": 96,
   "metadata": {
    "collapsed": false
   },
   "outputs": [],
   "source": [
    "ge1.set_index('Ensembl_ID', inplace=True)\n",
    "ge2.set_index('Ensembl_ID', inplace=True)"
   ]
  },
  {
   "cell_type": "code",
   "execution_count": 101,
   "metadata": {
    "collapsed": false
   },
   "outputs": [
    {
     "data": {
      "text/plain": [
       "9123"
      ]
     },
     "execution_count": 101,
     "metadata": {},
     "output_type": "execute_result"
    }
   ],
   "source": [
    "ge1.index.isin(ge2.index).sum()"
   ]
  },
  {
   "cell_type": "code",
   "execution_count": null,
   "metadata": {
    "collapsed": false
   },
   "outputs": [],
   "source": []
  },
  {
   "cell_type": "code",
   "execution_count": null,
   "metadata": {
    "collapsed": true
   },
   "outputs": [],
   "source": []
  }
 ],
 "metadata": {
  "kernelspec": {
   "display_name": "Python 3",
   "language": "python",
   "name": "python3"
  },
  "language_info": {
   "codemirror_mode": {
    "name": "ipython",
    "version": 3
   },
   "file_extension": ".py",
   "mimetype": "text/x-python",
   "name": "python",
   "nbconvert_exporter": "python",
   "pygments_lexer": "ipython3",
   "version": "3.6.1"
  }
 },
 "nbformat": 4,
 "nbformat_minor": 2
}
