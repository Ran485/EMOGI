{
 "cells": [
  {
   "cell_type": "markdown",
   "metadata": {},
   "source": [
    "# Preprocessing Glioblastoma Data\n",
    "In this notebook, I preprocess the original glioblastoma gene expression for 200 patients to be in the correct format for me to use. That means, I have to derive a csv table with the genes as rows and the patient samples as columns.\n",
    "However, I first have to join the two different dataframes (the gene expression data was delivered as two separate files) and convert the affymatrix IDs to Ensembl IDs."
   ]
  },
  {
   "cell_type": "code",
   "execution_count": 121,
   "metadata": {},
   "outputs": [
    {
     "name": "stderr",
     "output_type": "stream",
     "text": [
      "/usr/local/lib/python3.5/dist-packages/h5py/__init__.py:34: FutureWarning: Conversion of the second argument of issubdtype from `float` to `np.floating` is deprecated. In future, it will be treated as `np.float64 == np.dtype(float).type`.\n",
      "  from ._conv import register_converters as _register_converters\n"
     ]
    }
   ],
   "source": [
    "import pandas as pd\n",
    "import numpy as np\n",
    "import matplotlib.pyplot as plt\n",
    "import csv\n",
    "import mygene\n",
    "import h5py\n",
    "%matplotlib inline"
   ]
  },
  {
   "cell_type": "markdown",
   "metadata": {},
   "source": [
    "## 1. Read the Gene Expression"
   ]
  },
  {
   "cell_type": "code",
   "execution_count": 7,
   "metadata": {},
   "outputs": [],
   "source": [
    "ge1 = pd.read_csv('GSE4271-GPL96_series_matrix.txt',\n",
    "                  sep='\\t', quoting=csv.QUOTE_NONE,\n",
    "                  comment='!', skiprows=85, encoding='utf-8')\n",
    "ge1.columns = [x.strip('\"') for x in ge1.columns] # remove quotes around column names\n",
    "ge1['ID_REF'] = ge1['ID_REF'].map(lambda x: x.strip('\"'))"
   ]
  },
  {
   "cell_type": "code",
   "execution_count": 8,
   "metadata": {},
   "outputs": [],
   "source": [
    "ge2 = pd.read_csv('GSE4271-GPL97_series_matrix.txt',\n",
    "                  sep='\\t', quoting=csv.QUOTE_NONE,\n",
    "                  comment='!', skiprows=84, encoding='utf-8')\n",
    "ge2.columns = [x.strip('\"') for x in ge2.columns] # remove quotes around column names\n",
    "ge2['ID_REF'] = ge2['ID_REF'].map(lambda x: x.strip('\"'))"
   ]
  },
  {
   "cell_type": "code",
   "execution_count": 79,
   "metadata": {},
   "outputs": [
    {
     "data": {
      "text/plain": [
       "<matplotlib.axes._subplots.AxesSubplot at 0x7fd0b79b45c0>"
      ]
     },
     "execution_count": 79,
     "metadata": {},
     "output_type": "execute_result"
    },
    {
     "data": {
      "image/png": "[encoded data removed]",
      "text/plain": [
       "<matplotlib.figure.Figure at 0x7fd0b5320550>"
      ]
     },
     "metadata": {},
     "output_type": "display_data"
    }
   ],
   "source": [
    "pd.Series(ge1[ge1.ID_REF.isin(ge2.ID_REF)].index).plot('hist', bins=np.arange(0,\n",
    "                                                                              max(ge1.shape[0], ge2.shape[0]),\n",
    "                                                                              100)\n",
    "                                                      )"
   ]
  },
  {
   "cell_type": "markdown",
   "metadata": {},
   "source": [
    "## 2. Convert Affymatrix IDs to Ensembl-IDs"
   ]
  },
  {
   "cell_type": "code",
   "execution_count": 152,
   "metadata": {},
   "outputs": [
    {
     "name": "stdout",
     "output_type": "stream",
     "text": [
      "Got full expression (202 samples) for 12167 genes\n",
      "Got any expression for 35514 genes\n"
     ]
    }
   ],
   "source": [
    "# read conversion tables (exported from R hgu133a.db, hgu133b.db)\n",
    "# these are two tables which map the Affymatrix probes to ensembl ids\n",
    "mapping_a = pd.read_csv('hgu133a_to_ensembl.csv', names=['num', 'probe_id', 'ensembl_id'], header=0)\n",
    "mapping_a.set_index('probe_id', inplace=True)\n",
    "mapping_a.drop('num', axis=1, inplace=True)\n",
    "\n",
    "mapping_b = pd.read_csv('hgu133b_to_ensembl.csv', names=['num', 'probe_id', 'ensembl_id'], header=0)\n",
    "mapping_b.set_index('probe_id', inplace=True)\n",
    "mapping_b.drop('num', axis=1, inplace=True)\n",
    "\n",
    "# join mappings with gene expression\n",
    "ge1_with_ens = ge1.join(mapping_a, on='ID_REF')\n",
    "ge1_with_ens.dropna(inplace=True)\n",
    "\n",
    "ge2_with_ens = ge2.join(mapping_b, on='ID_REF')\n",
    "ge2_with_ens.dropna(inplace=True)\n",
    "\n",
    "# set index of both data sets to ensembl id for easy joining\n",
    "ge1_with_ens.set_index('ensembl_id', inplace=True)\n",
    "ge2_with_ens.set_index('ensembl_id', inplace=True)\n",
    "\n",
    "# join\n",
    "gene_expression = ge1_with_ens.join(ge2_with_ens, lsuffix='l_', how='outer')\n",
    "gene_expression.drop('ID_REFl_', axis=1, inplace=True)\n",
    "num_genes_with_full_expr = gene_expression[~gene_expression.isnull().any(axis=1)].shape[0]\n",
    "num_of_total_samples = ge1.shape[1] + ge2.shape[1]\n",
    "print (\"Got full expression ({} samples) for {} genes\".format(num_of_total_samples,\n",
    "                                                              num_genes_with_full_expr))\n",
    "print (\"Got any expression for {} genes\".format(gene_expression.shape[0]))\n",
    "\n",
    "# clean the data and make it nice\n",
    "gene_expression.fillna(value=0, inplace=True)\n",
    "gene_expression.drop('ID_REF', axis=1, inplace=True)"
   ]
  },
  {
   "cell_type": "code",
   "execution_count": 5,
   "metadata": {},
   "outputs": [],
   "source": [
    "# use mygene to get ensembl IDs for the affymatrix genes\n",
    "def add_ids_to_ge(ge):\n",
    "    mg = mygene.MyGeneInfo()\n",
    "    res = mg.querymany(pd.unique(ge.ID_REF),\n",
    "                       scopes='all',\n",
    "                       fields='ensembl.gene, symbol',\n",
    "                       species='human', returnall=True\n",
    "                      )\n",
    "\n",
    "    # now, retrieve the names and IDs from a dictionary and put in DF\n",
    "    def get_name_and_id(x):\n",
    "        ens_id = x['ensembl'][0]['gene'] if type(x['ensembl']) is list else x['ensembl']['gene']\n",
    "        affy = x['query']\n",
    "        name = x['symbol']\n",
    "        return [affy, ens_id, name]\n",
    "\n",
    "    ens_ids = [get_name_and_id(x) for x in res['out'] if 'ensembl' in x]\n",
    "    gene_affy_ens = pd.DataFrame(ens_ids, columns=['affy_ID', 'Ensembl_ID', 'Name'])\n",
    "    gene_affy_ens.set_index('affy_ID', inplace=True)\n",
    "    gene_affy_ens = gene_affy_ens[~gene_affy_ens.index.duplicated(keep='first')]\n",
    "\n",
    "    # join with node list to have the correct order and derive gene names\n",
    "    gene_affy_ens = ge.join(gene_affy_ens, on='ID_REF')\n",
    "    print (\"{} gene names (symbols) mapped successfully\".format(len(ens_ids)))\n",
    "    return gene_affy_ens"
   ]
  },
  {
   "cell_type": "code",
   "execution_count": 119,
   "metadata": {},
   "outputs": [],
   "source": [
    "#ge1 = add_ids_to_ge(ge1)\n",
    "#ge2 = add_ids_to_ge(ge2)\n",
    "#ge1.set_index('Ensembl_ID', inplace=True)\n",
    "#ge2.set_index('Ensembl_ID', inplace=True)"
   ]
  },
  {
   "cell_type": "markdown",
   "metadata": {},
   "source": [
    "## 3. Load PPI network and match features with it"
   ]
  },
  {
   "cell_type": "code",
   "execution_count": 128,
   "metadata": {},
   "outputs": [],
   "source": [
    "data_file = '../data/cancer/hotnet_iref_vec_input_unbalanced.h5'\n",
    "\n",
    "with h5py.File(data_file, 'r') as f:\n",
    "    network = f['network'][:]\n",
    "    #features = f['features'][:]\n",
    "    node_names = f['gene_names'][:]"
   ]
  },
  {
   "cell_type": "code",
   "execution_count": 207,
   "metadata": {},
   "outputs": [
    {
     "name": "stdout",
     "output_type": "stream",
     "text": [
      "1546 out of 12129 nodes don't have any gene expression\n"
     ]
    }
   ],
   "source": [
    "# first, bring node names to DF\n",
    "nodes_df = pd.DataFrame(node_names, columns=['ensembl_id', 'name'])\n",
    "nodes_df.set_index('ensembl_id', inplace=True)\n",
    "\n",
    "# clean gene expression\n",
    "gene_expression = gene_expression[~gene_expression.index.duplicated()] # remove duplicate IDs\n",
    "ge_occuring_in_net = gene_expression[gene_expression.index.isin(nodes_df.index)] # remove IDs not present in network\n",
    "\n",
    "# build feature matrix using reindexing\n",
    "features_df = ge_occuring_in_net.reindex(index=nodes_df.index)\n",
    "num_of_zero_nodes = features_df.isnull().any(axis=1).sum()\n",
    "print (\"{} out of {} nodes don't have any gene expression\".format(num_of_zero_nodes, network.shape[0]))\n",
    "\n",
    "# put 0 for missing data\n",
    "features_df.fillna(0, inplace=True)"
   ]
  },
  {
   "cell_type": "markdown",
   "metadata": {},
   "source": [
    "## 4. Write out HDF5 container with feature vector"
   ]
  },
  {
   "cell_type": "code",
   "execution_count": null,
   "metadata": {},
   "outputs": [],
   "source": [
    "ppi_network = nx.to_numpy_array(G)\n",
    "# test if ppi_network (A) has the same degree as the graph\n",
    "# this should test if the features have the same ordering as the network\n",
    "assert (np.all(np.equal(ppi_network.sum(axis=0), np.array([d[1] for d in list(nx.degree(G))]))))\n",
    "\n",
    "# only one dim output (not one-hot)\n",
    "#y_train = np.array([y_train[:, 0]]).T\n",
    "#y_test = np.array([y_test[:, 0]]).T\n",
    "#if X_val is not None:\n",
    "#    y_val = np.array([y_val[:, 0]]).T\n",
    "\n",
    "# build feature vector\n",
    "node_index = nx.to_pandas_adjacency(G).index\n",
    "if USE_HEAT_SCORES:\n",
    "    attributes = nx.get_node_attributes(G, 'heat')\n",
    "    features = np.array([[attributes[i] for i in node_index]]).T\n",
    "else:\n",
    "    attributes = nx.get_node_attributes(G, 'features')\n",
    "    features = np.array([attributes[i] for i in node_index])\n",
    "\n",
    "# create gene names\n",
    "string_dt = h5py.special_dtype(vlen=str)\n",
    "\n",
    "# determine file name by parameters\n",
    "b = 'balanced' if BALANCE else 'unbalanced'\n",
    "f = 'heat' if USE_HEAT_SCORES else 'vec'\n",
    "fname = '../data/cancer/hotnet_iref_{}_input_{}.h5'.format(f, b)\n",
    "f = h5py.File(fname, 'w')\n",
    "\n",
    "# add ppi network\n",
    "f.create_dataset('network', data=ppi_network, shape=ppi_network.shape)\n",
    "\n",
    "# add features\n",
    "f.create_dataset('features', data=features, shape=features.shape)\n",
    "# add gene names (same order as features & network)\n",
    "f.create_dataset('gene_names', data=gene_names, dtype=string_dt)\n",
    "# add labels\n",
    "f.create_dataset('y_train', data=y_train, shape=y_train.shape)\n",
    "f.create_dataset('y_test', data=y_test, shape=y_test.shape)\n",
    "if X_val is not None:\n",
    "    f.create_dataset('y_val', data=y_val, shape=y_val.shape)\n",
    "\n",
    "f.create_dataset('mask_train', data=train_mask, shape=train_mask.shape)\n",
    "f.create_dataset('mask_test', data=test_mask, shape=test_mask.shape)\n",
    "if X_val is not None:\n",
    "    f.create_dataset('mask_val', data=val_mask, shape=val_mask.shape)\n",
    "f.close()\n",
    "print (\"Container written to {}\".format(fname))"
   ]
  },
  {
   "cell_type": "code",
   "execution_count": null,
   "metadata": {},
   "outputs": [],
   "source": []
  },
  {
   "cell_type": "code",
   "execution_count": 200,
   "metadata": {},
   "outputs": [
    {
     "data": {
      "text/html": [
       "<div>\n",
       "<style>\n",
       "    .dataframe thead tr:only-child th {\n",
       "        text-align: right;\n",
       "    }\n",
       "\n",
       "    .dataframe thead th {\n",
       "        text-align: left;\n",
       "    }\n",
       "\n",
       "    .dataframe tbody tr th {\n",
       "        vertical-align: top;\n",
       "    }\n",
       "</style>\n",
       "<table border=\"1\" class=\"dataframe\">\n",
       "  <thead>\n",
       "    <tr style=\"text-align: right;\">\n",
       "      <th></th>\n",
       "      <th>GSM96950</th>\n",
       "      <th>GSM96951</th>\n",
       "      <th>GSM96952</th>\n",
       "      <th>GSM96953</th>\n",
       "      <th>GSM96954</th>\n",
       "      <th>GSM96955</th>\n",
       "      <th>GSM96956</th>\n",
       "      <th>GSM96957</th>\n",
       "      <th>GSM96958</th>\n",
       "      <th>GSM96959</th>\n",
       "      <th>...</th>\n",
       "      <th>GSM97140</th>\n",
       "      <th>GSM97141</th>\n",
       "      <th>GSM97142</th>\n",
       "      <th>GSM97143</th>\n",
       "      <th>GSM97144</th>\n",
       "      <th>GSM97145</th>\n",
       "      <th>GSM97146</th>\n",
       "      <th>GSM97147</th>\n",
       "      <th>GSM97148</th>\n",
       "      <th>GSM97149</th>\n",
       "    </tr>\n",
       "    <tr>\n",
       "      <th>ensembl_id</th>\n",
       "      <th></th>\n",
       "      <th></th>\n",
       "      <th></th>\n",
       "      <th></th>\n",
       "      <th></th>\n",
       "      <th></th>\n",
       "      <th></th>\n",
       "      <th></th>\n",
       "      <th></th>\n",
       "      <th></th>\n",
       "      <th></th>\n",
       "      <th></th>\n",
       "      <th></th>\n",
       "      <th></th>\n",
       "      <th></th>\n",
       "      <th></th>\n",
       "      <th></th>\n",
       "      <th></th>\n",
       "      <th></th>\n",
       "      <th></th>\n",
       "      <th></th>\n",
       "    </tr>\n",
       "  </thead>\n",
       "  <tbody>\n",
       "    <tr>\n",
       "      <th>ENSG00000000003</th>\n",
       "      <td>2821.9</td>\n",
       "      <td>2744.2</td>\n",
       "      <td>1346.1</td>\n",
       "      <td>1240.7</td>\n",
       "      <td>876.8</td>\n",
       "      <td>1330.5</td>\n",
       "      <td>949.5</td>\n",
       "      <td>1096.3</td>\n",
       "      <td>2091.5</td>\n",
       "      <td>1245.9</td>\n",
       "      <td>...</td>\n",
       "      <td>0.0</td>\n",
       "      <td>0.0</td>\n",
       "      <td>0.0</td>\n",
       "      <td>0.0</td>\n",
       "      <td>0.0</td>\n",
       "      <td>0.0</td>\n",
       "      <td>0.0</td>\n",
       "      <td>0.0</td>\n",
       "      <td>0.0</td>\n",
       "      <td>0.0</td>\n",
       "    </tr>\n",
       "    <tr>\n",
       "      <th>ENSG00000000419</th>\n",
       "      <td>1668.4</td>\n",
       "      <td>1605.0</td>\n",
       "      <td>1226.1</td>\n",
       "      <td>1135.4</td>\n",
       "      <td>879.8</td>\n",
       "      <td>939.8</td>\n",
       "      <td>1255.3</td>\n",
       "      <td>1599.2</td>\n",
       "      <td>1386.0</td>\n",
       "      <td>889.3</td>\n",
       "      <td>...</td>\n",
       "      <td>0.0</td>\n",
       "      <td>0.0</td>\n",
       "      <td>0.0</td>\n",
       "      <td>0.0</td>\n",
       "      <td>0.0</td>\n",
       "      <td>0.0</td>\n",
       "      <td>0.0</td>\n",
       "      <td>0.0</td>\n",
       "      <td>0.0</td>\n",
       "      <td>0.0</td>\n",
       "    </tr>\n",
       "    <tr>\n",
       "      <th>ENSG00000000457</th>\n",
       "      <td>172.1</td>\n",
       "      <td>31.4</td>\n",
       "      <td>162.2</td>\n",
       "      <td>123.9</td>\n",
       "      <td>186.8</td>\n",
       "      <td>209.9</td>\n",
       "      <td>159.5</td>\n",
       "      <td>161.1</td>\n",
       "      <td>187.0</td>\n",
       "      <td>179.8</td>\n",
       "      <td>...</td>\n",
       "      <td>105.5</td>\n",
       "      <td>64.5</td>\n",
       "      <td>207.5</td>\n",
       "      <td>142.7</td>\n",
       "      <td>264.0</td>\n",
       "      <td>248.3</td>\n",
       "      <td>174.8</td>\n",
       "      <td>88.8</td>\n",
       "      <td>143.5</td>\n",
       "      <td>180.2</td>\n",
       "    </tr>\n",
       "    <tr>\n",
       "      <th>ENSG00000000938</th>\n",
       "      <td>151.2</td>\n",
       "      <td>140.2</td>\n",
       "      <td>331.8</td>\n",
       "      <td>125.3</td>\n",
       "      <td>97.5</td>\n",
       "      <td>209.2</td>\n",
       "      <td>91.0</td>\n",
       "      <td>181.3</td>\n",
       "      <td>115.1</td>\n",
       "      <td>84.3</td>\n",
       "      <td>...</td>\n",
       "      <td>0.0</td>\n",
       "      <td>0.0</td>\n",
       "      <td>0.0</td>\n",
       "      <td>0.0</td>\n",
       "      <td>0.0</td>\n",
       "      <td>0.0</td>\n",
       "      <td>0.0</td>\n",
       "      <td>0.0</td>\n",
       "      <td>0.0</td>\n",
       "      <td>0.0</td>\n",
       "    </tr>\n",
       "    <tr>\n",
       "      <th>ENSG00000000971</th>\n",
       "      <td>94.4</td>\n",
       "      <td>84.5</td>\n",
       "      <td>229.9</td>\n",
       "      <td>53.4</td>\n",
       "      <td>83.2</td>\n",
       "      <td>26.7</td>\n",
       "      <td>44.9</td>\n",
       "      <td>16.7</td>\n",
       "      <td>190.2</td>\n",
       "      <td>73.8</td>\n",
       "      <td>...</td>\n",
       "      <td>0.0</td>\n",
       "      <td>0.0</td>\n",
       "      <td>0.0</td>\n",
       "      <td>0.0</td>\n",
       "      <td>0.0</td>\n",
       "      <td>0.0</td>\n",
       "      <td>0.0</td>\n",
       "      <td>0.0</td>\n",
       "      <td>0.0</td>\n",
       "      <td>0.0</td>\n",
       "    </tr>\n",
       "  </tbody>\n",
       "</table>\n",
       "<p>5 rows × 200 columns</p>\n",
       "</div>"
      ],
      "text/plain": [
       "                 GSM96950  GSM96951  GSM96952  GSM96953  GSM96954  GSM96955  \\\n",
       "ensembl_id                                                                    \n",
       "ENSG00000000003    2821.9    2744.2    1346.1    1240.7     876.8    1330.5   \n",
       "ENSG00000000419    1668.4    1605.0    1226.1    1135.4     879.8     939.8   \n",
       "ENSG00000000457     172.1      31.4     162.2     123.9     186.8     209.9   \n",
       "ENSG00000000938     151.2     140.2     331.8     125.3      97.5     209.2   \n",
       "ENSG00000000971      94.4      84.5     229.9      53.4      83.2      26.7   \n",
       "\n",
       "                 GSM96956  GSM96957  GSM96958  GSM96959    ...     GSM97140  \\\n",
       "ensembl_id                                                 ...                \n",
       "ENSG00000000003     949.5    1096.3    2091.5    1245.9    ...          0.0   \n",
       "ENSG00000000419    1255.3    1599.2    1386.0     889.3    ...          0.0   \n",
       "ENSG00000000457     159.5     161.1     187.0     179.8    ...        105.5   \n",
       "ENSG00000000938      91.0     181.3     115.1      84.3    ...          0.0   \n",
       "ENSG00000000971      44.9      16.7     190.2      73.8    ...          0.0   \n",
       "\n",
       "                 GSM97141  GSM97142  GSM97143  GSM97144  GSM97145  GSM97146  \\\n",
       "ensembl_id                                                                    \n",
       "ENSG00000000003       0.0       0.0       0.0       0.0       0.0       0.0   \n",
       "ENSG00000000419       0.0       0.0       0.0       0.0       0.0       0.0   \n",
       "ENSG00000000457      64.5     207.5     142.7     264.0     248.3     174.8   \n",
       "ENSG00000000938       0.0       0.0       0.0       0.0       0.0       0.0   \n",
       "ENSG00000000971       0.0       0.0       0.0       0.0       0.0       0.0   \n",
       "\n",
       "                 GSM97147  GSM97148  GSM97149  \n",
       "ensembl_id                                     \n",
       "ENSG00000000003       0.0       0.0       0.0  \n",
       "ENSG00000000419       0.0       0.0       0.0  \n",
       "ENSG00000000457      88.8     143.5     180.2  \n",
       "ENSG00000000938       0.0       0.0       0.0  \n",
       "ENSG00000000971       0.0       0.0       0.0  \n",
       "\n",
       "[5 rows x 200 columns]"
      ]
     },
     "execution_count": 200,
     "metadata": {},
     "output_type": "execute_result"
    }
   ],
   "source": [
    "ge_occuring_in_net.reindex(index=nodes_df.index).tail()"
   ]
  },
  {
   "cell_type": "code",
   "execution_count": null,
   "metadata": {
    "collapsed": true
   },
   "outputs": [],
   "source": []
  }
 ],
 "metadata": {
  "kernelspec": {
   "display_name": "Python 3",
   "language": "python",
   "name": "python3"
  },
  "language_info": {
   "codemirror_mode": {
    "name": "ipython",
    "version": 3
   },
   "file_extension": ".py",
   "mimetype": "text/x-python",
   "name": "python",
   "nbconvert_exporter": "python",
   "pygments_lexer": "ipython3",
   "version": "3.5.2"
  }
 },
 "nbformat": 4,
 "nbformat_minor": 2
}
