{
 "cells": [
  {
   "cell_type": "markdown",
   "metadata": {
    "deletable": true,
    "editable": true
   },
   "source": [
    "# Build Hotnet2 Network Container\n",
    "In this notebook, I want to construct the network container for the Hotnet2 data. In order to do that, I have to do the following:\n",
    "1. Construct a network from heat scores and edgelist (data in Hotnet2 github repo)\n",
    "2. Get labels (positive and negative) from OMIM\n",
    "3. Do train/test split and save the whole thing\n"
   ]
  },
  {
   "cell_type": "code",
   "execution_count": 33,
   "metadata": {
    "collapsed": false,
    "deletable": true,
    "editable": true
   },
   "outputs": [],
   "source": [
    "import pandas as pd\n",
    "import numpy as np\n",
    "import h5py\n",
    "import networkx as nx\n",
    "import matplotlib.pyplot as plt\n",
    "import seaborn\n",
    "%matplotlib inline"
   ]
  },
  {
   "cell_type": "markdown",
   "metadata": {
    "deletable": true,
    "editable": true
   },
   "source": [
    "## 1. Construct Network"
   ]
  },
  {
   "cell_type": "code",
   "execution_count": 31,
   "metadata": {
    "collapsed": false,
    "deletable": true,
    "editable": true
   },
   "outputs": [
    {
     "name": "stdout",
     "output_type": "stream",
     "text": [
      "91809 12129\n"
     ]
    },
    {
     "data": {
      "text/plain": [
       "(91809, 12129)"
      ]
     },
     "execution_count": 31,
     "metadata": {},
     "output_type": "execute_result"
    }
   ],
   "source": [
    "# read edgelist and names\n",
    "net_file = '../data/cancer/hotnet2/networks/irefindex9/irefindex9_edge_list'\n",
    "name_file = '../data/cancer/hotnet2/networks/irefindex9/irefindex9_index_gene'\n",
    "edgelist = pd.read_csv(net_file, sep=' ', header=None,\n",
    "                       names=['from', 'to', 'weight'])\n",
    "index = pd.read_csv(name_file, sep=' ', header=None, names=['name'])\n",
    "\n",
    "# build network and relabel nodes to match with real names\n",
    "G = nx.from_pandas_dataframe(edgelist, source='from', target='to', edge_attr=None)\n",
    "print (G.number_of_edges(), G.number_of_nodes())\n",
    "nx.relabel_nodes(G, index.to_dict()['name'], copy=False)\n",
    "\n",
    "G.number_of_edges(), G.number_of_nodes()"
   ]
  },
  {
   "cell_type": "code",
   "execution_count": 44,
   "metadata": {
    "collapsed": false
   },
   "outputs": [
    {
     "data": {
      "text/plain": [
       "<matplotlib.text.Text at 0x7fc738307d30>"
      ]
     },
     "execution_count": 44,
     "metadata": {},
     "output_type": "execute_result"
    },
    {
     "data": {
      "image/png": "[encoded data removed]",
      "text/plain": [
       "<matplotlib.figure.Figure at 0x7fc7385c3780>"
      ]
     },
     "metadata": {},
     "output_type": "display_data"
    }
   ],
   "source": [
    "# plot node degree to check if distribution follows power law\n",
    "node_degrees = np.array([i[1] for i in list(G.degree())])\n",
    "fig = plt.figure(figsize=(14, 8))\n",
    "bins = np.linspace(1, 100, 100)\n",
    "ax = plt.hist(node_degrees, bins)\n",
    "plt.xlabel('Node Degree')\n",
    "plt.ylabel('Number of genes with node degree')\n",
    "plt.title('Node Degree Distribution of Genes in PPI')"
   ]
  },
  {
   "cell_type": "code",
   "execution_count": 71,
   "metadata": {
    "collapsed": false
   },
   "outputs": [],
   "source": [
    "# self interactions?\n",
    "assert (np.diag(nx.to_numpy_array(G)).sum() == 0)"
   ]
  },
  {
   "cell_type": "code",
   "execution_count": 48,
   "metadata": {
    "collapsed": false,
    "deletable": true,
    "editable": true
   },
   "outputs": [],
   "source": [
    "# get edgelist with names from the networkx graph\n",
    "l = nx.to_edgelist(G)\n",
    "f = [i[0] for i in l]\n",
    "t = [i[1] for i in l]\n",
    "edges_names = pd.DataFrame(np.array([f, t]).T, columns=['from_node', 'to_node'])\n",
    "\n",
    "# get heat scores and see which ones are in our network\n",
    "heat_file = '../data/cancer/hotnet2/heats/pan12.gene2mutsig.txt'\n",
    "heat_scores = pd.read_csv(heat_file, header=None, sep=' ',\n",
    "                          names=['gene_name', 'heat'], index_col=0)\n",
    "nx.set_node_attributes(G, heat_scores.to_dict()['heat'], name='heat')"
   ]
  },
  {
   "cell_type": "code",
   "execution_count": 65,
   "metadata": {
    "collapsed": false
   },
   "outputs": [
    {
     "data": {
      "text/plain": [
       "0.221192881382"
      ]
     },
     "execution_count": 65,
     "metadata": {},
     "output_type": "execute_result"
    }
   ],
   "source": [
    "G.nodes['ABLIM1']['heat']"
   ]
  },
  {
   "cell_type": "code",
   "execution_count": 66,
   "metadata": {
    "collapsed": false,
    "deletable": true,
    "editable": true
   },
   "outputs": [
    {
     "data": {
      "text/plain": [
       "(2557, 1)"
      ]
     },
     "execution_count": 66,
     "metadata": {},
     "output_type": "execute_result"
    }
   ],
   "source": [
    "heat_scores[~(heat_scores.index.isin(edges_names.from_node) | heat_scores.index.isin(edges_names.to_node))].shape"
   ]
  },
  {
   "cell_type": "code",
   "execution_count": 67,
   "metadata": {
    "collapsed": false
   },
   "outputs": [
    {
     "data": {
      "text/plain": [
       "(8658, 1)"
      ]
     },
     "execution_count": 67,
     "metadata": {},
     "output_type": "execute_result"
    }
   ],
   "source": [
    "heat_scores[heat_scores.index.isin(edges_names.from_node) | heat_scores.index.isin(edges_names.to_node)].shape"
   ]
  },
  {
   "cell_type": "markdown",
   "metadata": {
    "collapsed": false,
    "deletable": true,
    "editable": true
   },
   "source": [
    "## 2. Get Labels from OMIM"
   ]
  },
  {
   "cell_type": "code",
   "execution_count": null,
   "metadata": {
    "collapsed": true
   },
   "outputs": [],
   "source": []
  }
 ],
 "metadata": {
  "kernelspec": {
   "display_name": "Python 3",
   "language": "python",
   "name": "python3"
  },
  "language_info": {
   "codemirror_mode": {
    "name": "ipython",
    "version": 3
   },
   "file_extension": ".py",
   "mimetype": "text/x-python",
   "name": "python",
   "nbconvert_exporter": "python",
   "pygments_lexer": "ipython3",
   "version": "3.6.1"
  }
 },
 "nbformat": 4,
 "nbformat_minor": 2
}
