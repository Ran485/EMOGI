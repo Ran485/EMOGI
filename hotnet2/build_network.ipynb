{
 "cells": [
  {
   "cell_type": "markdown",
   "metadata": {
    "deletable": true,
    "editable": true
   },
   "source": [
    "# Build Hotnet2 Network Container\n",
    "In this notebook, I want to construct the network container for the Hotnet2 data. In order to do that, I have to do the following:\n",
    "1. Construct a network from heat scores and edgelist (data in Hotnet2 github repo) or from network and mutation frequencies directly from TCGA.\n",
    "2. Get labels (positive and negative) from OMIM\n",
    "3. Do train/test split and save the whole thing\n"
   ]
  },
  {
   "cell_type": "code",
   "execution_count": 15,
   "metadata": {
    "collapsed": false,
    "deletable": true,
    "editable": true
   },
   "outputs": [],
   "source": [
    "import pandas as pd\n",
    "import numpy as np\n",
    "import h5py\n",
    "import networkx as nx\n",
    "import matplotlib.pyplot as plt\n",
    "import seaborn\n",
    "from sklearn.model_selection import train_test_split\n",
    "\n",
    "import mygene\n",
    "from goatools.base import download_go_basic_obo, download_ncbi_associations\n",
    "from goatools.associations import read_ncbi_gene2go\n",
    "from goatools.go_search import GoSearch\n",
    "\n",
    "%matplotlib inline"
   ]
  },
  {
   "cell_type": "code",
   "execution_count": 208,
   "metadata": {
    "collapsed": true,
    "deletable": true,
    "editable": true
   },
   "outputs": [],
   "source": [
    "VAL_SIZE = 0\n",
    "TEST_RATIO = 0.4\n",
    "BALANCE = False\n",
    "USE_HEAT_SCORES = False"
   ]
  },
  {
   "cell_type": "markdown",
   "metadata": {
    "deletable": true,
    "editable": true
   },
   "source": [
    "## 1. Construct Network"
   ]
  },
  {
   "cell_type": "code",
   "execution_count": 209,
   "metadata": {
    "collapsed": false,
    "deletable": true,
    "editable": true
   },
   "outputs": [
    {
     "name": "stdout",
     "output_type": "stream",
     "text": [
      "91809 12129\n"
     ]
    },
    {
     "data": {
      "text/plain": [
       "(91809, 12129)"
      ]
     },
     "execution_count": 209,
     "metadata": {},
     "output_type": "execute_result"
    }
   ],
   "source": [
    "# read edgelist and names\n",
    "net_file = '../data/cancer/hotnet2/networks/irefindex9/irefindex9_edge_list'\n",
    "name_file = '../data/cancer/hotnet2/networks/irefindex9/irefindex9_index_gene'\n",
    "edgelist = pd.read_csv(net_file, sep=' ', header=None,\n",
    "                       names=['from', 'to', 'weight'])\n",
    "index = pd.read_csv(name_file, sep=' ', header=None, names=['name'])\n",
    "\n",
    "# build network and relabel nodes to match with real names\n",
    "G = nx.from_pandas_dataframe(edgelist, source='from', target='to', edge_attr=None)\n",
    "print (G.number_of_edges(), G.number_of_nodes())\n",
    "nx.relabel_nodes(G, index.to_dict()['name'], copy=False)\n",
    "\n",
    "G.number_of_edges(), G.number_of_nodes()"
   ]
  },
  {
   "cell_type": "code",
   "execution_count": null,
   "metadata": {
    "collapsed": false,
    "deletable": true,
    "editable": true
   },
   "outputs": [],
   "source": []
  },
  {
   "cell_type": "code",
   "execution_count": 210,
   "metadata": {
    "collapsed": false,
    "deletable": true,
    "editable": true
   },
   "outputs": [
    {
     "data": {
      "text/plain": [
       "<matplotlib.text.Text at 0x7fe71ac27390>"
      ]
     },
     "execution_count": 210,
     "metadata": {},
     "output_type": "execute_result"
    },
    {
     "data": {
      "image/png": "[encoded data removed]",
      "text/plain": [
       "<matplotlib.figure.Figure at 0x7fe722085eb8>"
      ]
     },
     "metadata": {},
     "output_type": "display_data"
    }
   ],
   "source": [
    "# plot node degree to check if distribution follows power law\n",
    "node_degrees = np.array([i[1] for i in list(G.degree())])\n",
    "fig = plt.figure(figsize=(14, 8))\n",
    "bins = np.linspace(1, 100, 100)\n",
    "ax = plt.hist(node_degrees, bins)\n",
    "plt.xlabel('Node Degree')\n",
    "plt.ylabel('Number of genes with node degree')\n",
    "plt.title('Node Degree Distribution of Genes in PPI')"
   ]
  },
  {
   "cell_type": "code",
   "execution_count": 211,
   "metadata": {
    "collapsed": false,
    "deletable": true,
    "editable": true
   },
   "outputs": [],
   "source": [
    "# self interactions?\n",
    "assert (np.diag(nx.to_numpy_array(G)).sum() == 0)"
   ]
  },
  {
   "cell_type": "code",
   "execution_count": 212,
   "metadata": {
    "collapsed": false,
    "deletable": true,
    "editable": true
   },
   "outputs": [
    {
     "data": {
      "text/plain": [
       "11565"
      ]
     },
     "execution_count": 212,
     "metadata": {},
     "output_type": "execute_result"
    }
   ],
   "source": [
    "# get edgelist with names from the networkx graph\n",
    "l = nx.to_edgelist(G)\n",
    "f = [i[0] for i in l]\n",
    "t = [i[1] for i in l]\n",
    "edges_names = pd.DataFrame(np.array([f, t]).T, columns=['from_node', 'to_node'])\n",
    "node_list = pd.DataFrame(list(set().union(f, t)), columns=['name'])\n",
    "\n",
    "# get features and see which ones are in the network\n",
    "\n",
    "# get heat scores and see which ones are in our network\n",
    "heat_file = '../data/cancer/hotnet2/heats/pan12.gene2freq.txt'\n",
    "heat_scores = pd.read_csv(heat_file, header=None, sep=' ',\n",
    "                          names=['gene_name', 'heat'], index_col=0)\n",
    "nx.set_node_attributes(G, 0, name='heat')\n",
    "nx.set_node_attributes(G, heat_scores.to_dict()['heat'], name='heat')\n",
    "len(heat_scores)"
   ]
  },
  {
   "cell_type": "code",
   "execution_count": 213,
   "metadata": {
    "collapsed": false,
    "deletable": true,
    "editable": true
   },
   "outputs": [],
   "source": [
    "features = pd.read_csv('../data/cancer/TCGA/pancan12_rsem_matrix_tumor_type_means.tsv', sep='\\t')\n",
    "features.set_index('#Gene', inplace=True)\n",
    "genes_with_features = features[features.index.isin(node_list.name)]\n",
    "default_val = np.zeros(12)\n",
    "nx.set_node_attributes(G, default_val, 'features')\n",
    "nx.set_node_attributes(G, genes_with_features.T.to_dict('list'), 'features')"
   ]
  },
  {
   "cell_type": "code",
   "execution_count": 214,
   "metadata": {
    "collapsed": false,
    "deletable": true,
    "editable": true
   },
   "outputs": [],
   "source": [
    "assert (len(nx.get_node_attributes(G, 'features')) == len(G.nodes()))"
   ]
  },
  {
   "cell_type": "code",
   "execution_count": 215,
   "metadata": {
    "collapsed": false,
    "deletable": true,
    "editable": true
   },
   "outputs": [
    {
     "data": {
      "text/plain": [
       "(2969, 1)"
      ]
     },
     "execution_count": 215,
     "metadata": {},
     "output_type": "execute_result"
    }
   ],
   "source": [
    "heat_scores[~(heat_scores.index.isin(edges_names.from_node) | heat_scores.index.isin(edges_names.to_node))].shape"
   ]
  },
  {
   "cell_type": "code",
   "execution_count": 216,
   "metadata": {
    "collapsed": false,
    "deletable": true,
    "editable": true
   },
   "outputs": [
    {
     "data": {
      "text/plain": [
       "(8596, 1)"
      ]
     },
     "execution_count": 216,
     "metadata": {},
     "output_type": "execute_result"
    }
   ],
   "source": [
    "heat_scores[heat_scores.index.isin(edges_names.from_node) | heat_scores.index.isin(edges_names.to_node)].shape"
   ]
  },
  {
   "cell_type": "markdown",
   "metadata": {
    "collapsed": false,
    "deletable": true,
    "editable": true
   },
   "source": [
    "## 2. Get Labels\n",
    "The positives can come from the list of Vogelstein et al. while the negatives can be those genes not present in OMIM, not in the list of Vogelstein and with a low score in COSMIC."
   ]
  },
  {
   "cell_type": "code",
   "execution_count": 217,
   "metadata": {
    "collapsed": false,
    "deletable": true,
    "editable": true,
    "scrolled": true
   },
   "outputs": [
    {
     "name": "stdout",
     "output_type": "stream",
     "text": [
      "Got 125 cancer genes\n",
      "Got 52 oncogenes and 71 tumour suppressors\n"
     ]
    }
   ],
   "source": [
    "cancer_gene_list = pd.read_csv('../data/cancer/vogelstein/table_s2a.csv', sep='\\t', header=0)\n",
    "print (\"Got {} cancer genes\".format(cancer_gene_list.shape[0]))\n",
    "cancer_gene_list.columns = [i.strip('*') for i in cancer_gene_list.columns]\n",
    "cancer_genes = cancer_gene_list[cancer_gene_list['Gene Symbol'].isin(node_list.name)]\n",
    "oncogenes = cancer_genes[cancer_genes.Classification == \"Oncogene\"]\n",
    "suppressors = cancer_genes[cancer_genes.Classification == \"TSG\"]\n",
    "print (\"Got {} oncogenes and {} tumour suppressors\".format(oncogenes.shape[0], suppressors.shape[0]))"
   ]
  },
  {
   "cell_type": "code",
   "execution_count": 218,
   "metadata": {
    "collapsed": false,
    "deletable": true,
    "editable": true
   },
   "outputs": [
    {
     "data": {
      "text/html": [
       "<div>\n",
       "<table border=\"1\" class=\"dataframe\">\n",
       "  <thead>\n",
       "    <tr style=\"text-align: right;\">\n",
       "      <th></th>\n",
       "      <th>Gene Symbol</th>\n",
       "      <th>Gene Name</th>\n",
       "      <th># Mutated Tumor Samples</th>\n",
       "      <th>Ocogene score*</th>\n",
       "      <th>Tumor Suppressor Gene score*</th>\n",
       "      <th>Classification</th>\n",
       "      <th>Core pathway</th>\n",
       "      <th>Process</th>\n",
       "    </tr>\n",
       "  </thead>\n",
       "  <tbody>\n",
       "    <tr>\n",
       "      <th>0</th>\n",
       "      <td>ABL1</td>\n",
       "      <td>c-abl oncogene 1, receptor tyrosine kinase</td>\n",
       "      <td>851</td>\n",
       "      <td>93%</td>\n",
       "      <td>0%</td>\n",
       "      <td>Oncogene</td>\n",
       "      <td>Cell Cycle/Apoptosis</td>\n",
       "      <td>Cell Survival</td>\n",
       "    </tr>\n",
       "    <tr>\n",
       "      <th>1</th>\n",
       "      <td>ACVR1B</td>\n",
       "      <td>activin A receptor, type IB</td>\n",
       "      <td>17</td>\n",
       "      <td>0%</td>\n",
       "      <td>42%</td>\n",
       "      <td>TSG</td>\n",
       "      <td>TGF-b</td>\n",
       "      <td>Cell Survival</td>\n",
       "    </tr>\n",
       "    <tr>\n",
       "      <th>2</th>\n",
       "      <td>AKT1</td>\n",
       "      <td>v-akt murine thymoma viral oncogene homolog 1</td>\n",
       "      <td>155</td>\n",
       "      <td>93%</td>\n",
       "      <td>1%</td>\n",
       "      <td>Oncogene</td>\n",
       "      <td>PI3K</td>\n",
       "      <td>Cell Survival</td>\n",
       "    </tr>\n",
       "    <tr>\n",
       "      <th>3</th>\n",
       "      <td>ALK</td>\n",
       "      <td>anaplastic lymphoma receptor tyrosine kinase</td>\n",
       "      <td>189</td>\n",
       "      <td>72%</td>\n",
       "      <td>1%</td>\n",
       "      <td>Oncogene</td>\n",
       "      <td>PI3K; RAS</td>\n",
       "      <td>Cell Survival</td>\n",
       "    </tr>\n",
       "    <tr>\n",
       "      <th>4</th>\n",
       "      <td>APC</td>\n",
       "      <td>adenomatous polyposis coli</td>\n",
       "      <td>2561</td>\n",
       "      <td>2%</td>\n",
       "      <td>92%</td>\n",
       "      <td>TSG</td>\n",
       "      <td>APC</td>\n",
       "      <td>Cell Fate</td>\n",
       "    </tr>\n",
       "    <tr>\n",
       "      <th>5</th>\n",
       "      <td>AR</td>\n",
       "      <td>androgen receptor</td>\n",
       "      <td>23</td>\n",
       "      <td>54%</td>\n",
       "      <td>0%</td>\n",
       "      <td>Oncogene</td>\n",
       "      <td>Transcriptional Regulation</td>\n",
       "      <td>Cell Fate</td>\n",
       "    </tr>\n",
       "    <tr>\n",
       "      <th>6</th>\n",
       "      <td>ARID1A</td>\n",
       "      <td>AT rich interactive domain 1A (SWI-like)</td>\n",
       "      <td>234</td>\n",
       "      <td>1%</td>\n",
       "      <td>83%</td>\n",
       "      <td>TSG</td>\n",
       "      <td>Chromatin Modification</td>\n",
       "      <td>Cell Fate</td>\n",
       "    </tr>\n",
       "    <tr>\n",
       "      <th>7</th>\n",
       "      <td>ARID1B</td>\n",
       "      <td>AT rich interactive domain 1B (SWI1-like)</td>\n",
       "      <td>17</td>\n",
       "      <td>0%</td>\n",
       "      <td>50%</td>\n",
       "      <td>TSG</td>\n",
       "      <td>Chromatin Modification</td>\n",
       "      <td>Cell Fate</td>\n",
       "    </tr>\n",
       "    <tr>\n",
       "      <th>8</th>\n",
       "      <td>ARID2</td>\n",
       "      <td>AT rich interactive domain 2 (ARID, RFX-like)</td>\n",
       "      <td>45</td>\n",
       "      <td>0%</td>\n",
       "      <td>56%</td>\n",
       "      <td>TSG</td>\n",
       "      <td>Chromatin Modification</td>\n",
       "      <td>Cell Fate</td>\n",
       "    </tr>\n",
       "    <tr>\n",
       "      <th>9</th>\n",
       "      <td>ASXL1</td>\n",
       "      <td>additional sex combs like 1 (Drosophila)</td>\n",
       "      <td>442</td>\n",
       "      <td>5%</td>\n",
       "      <td>87%</td>\n",
       "      <td>TSG</td>\n",
       "      <td>Chromatin Modification</td>\n",
       "      <td>Cell Fate</td>\n",
       "    </tr>\n",
       "  </tbody>\n",
       "</table>\n",
       "</div>"
      ],
      "text/plain": [
       "  Gene Symbol                                      Gene Name  \\\n",
       "0        ABL1     c-abl oncogene 1, receptor tyrosine kinase   \n",
       "1      ACVR1B                    activin A receptor, type IB   \n",
       "2        AKT1  v-akt murine thymoma viral oncogene homolog 1   \n",
       "3         ALK   anaplastic lymphoma receptor tyrosine kinase   \n",
       "4         APC                     adenomatous polyposis coli   \n",
       "5          AR                              androgen receptor   \n",
       "6      ARID1A       AT rich interactive domain 1A (SWI-like)   \n",
       "7      ARID1B      AT rich interactive domain 1B (SWI1-like)   \n",
       "8       ARID2  AT rich interactive domain 2 (ARID, RFX-like)   \n",
       "9       ASXL1       additional sex combs like 1 (Drosophila)   \n",
       "\n",
       "   # Mutated Tumor Samples Ocogene score*  Tumor Suppressor Gene score*   \\\n",
       "0                      851             93%                            0%   \n",
       "1                       17              0%                           42%   \n",
       "2                      155             93%                            1%   \n",
       "3                      189             72%                            1%   \n",
       "4                     2561              2%                           92%   \n",
       "5                       23             54%                            0%   \n",
       "6                      234              1%                           83%   \n",
       "7                       17              0%                           50%   \n",
       "8                       45              0%                           56%   \n",
       "9                      442              5%                           87%   \n",
       "\n",
       "  Classification                Core pathway        Process  \n",
       "0       Oncogene        Cell Cycle/Apoptosis  Cell Survival  \n",
       "1            TSG                      TGF-b   Cell Survival  \n",
       "2       Oncogene                        PI3K  Cell Survival  \n",
       "3       Oncogene                   PI3K; RAS  Cell Survival  \n",
       "4            TSG                         APC      Cell Fate  \n",
       "5       Oncogene  Transcriptional Regulation      Cell Fate  \n",
       "6            TSG      Chromatin Modification      Cell Fate  \n",
       "7            TSG      Chromatin Modification      Cell Fate  \n",
       "8            TSG      Chromatin Modification      Cell Fate  \n",
       "9            TSG      Chromatin Modification      Cell Fate  "
      ]
     },
     "execution_count": 218,
     "metadata": {},
     "output_type": "execute_result"
    }
   ],
   "source": [
    "cancer_gene_list.head(10)"
   ]
  },
  {
   "cell_type": "code",
   "execution_count": 219,
   "metadata": {
    "collapsed": false,
    "deletable": true,
    "editable": true,
    "scrolled": true
   },
   "outputs": [
    {
     "name": "stdout",
     "output_type": "stream",
     "text": [
      "12006 genes are in network but not in Vogelstein list (oncogenes)\n",
      "2300 genes are in network but not in oncogenes and not in OMIM\n",
      "2257 genes in network but not in oncogenes, OMIM and COSMIC cancer gene census.\n"
     ]
    }
   ],
   "source": [
    "# get rid of the vogelstein cancer genes\n",
    "not_positives = node_list[~node_list.name.isin(cancer_gene_list['Gene Symbol'])]\n",
    "print (\"{} genes are in network but not in Vogelstein list (oncogenes)\".format(not_positives.shape[0]))\n",
    "\n",
    "# get rid of the OMIM disease genes\n",
    "omim_genes = pd.read_csv('../data/cancer/OMIM/genemap2.txt', sep='\\t', comment='#', header=None)\n",
    "omim_genes.columns = ['Chromosome', 'Genomic Position Start', 'Genomic Position End', 'Cyto Location',\n",
    "                      'Computed Cyto Location', 'Mim Number', 'Gene Symbol', 'Gene Name',\n",
    "                      'Approved Symbol', 'Entrez Gene ID', 'Ensembl Gene ID', 'Comments',\n",
    "                      'Phenotypes', 'Mouse Gene Symbol/ID']\n",
    "omim_gene_names = []\n",
    "for idx, row in omim_genes.iterrows():\n",
    "    gene_names = row['Gene Symbol'].strip().split(',')\n",
    "    omim_gene_names += gene_names\n",
    "omim_gene_names = list(set(omim_gene_names))\n",
    "not_omim_not_pos = not_positives[~not_positives.name.isin(omim_gene_names)]\n",
    "print (\"{} genes are in network but not in oncogenes and not in OMIM\".format(not_omim_not_pos.shape[0]))\n",
    "\n",
    "# get rid of genes below a certain COSMIC mutation frequency\n",
    "cosmic_gene_scores = pd.read_csv('../data/cancer/cosmic/cancer_gene_census.csv', header=0)\n",
    "negatives = not_omim_not_pos[~not_omim_not_pos.name.isin(cosmic_gene_scores['Gene Symbol'])]\n",
    "print (\"{} genes in network but not in oncogenes, OMIM and COSMIC cancer gene census.\".format(negatives.shape[0]))"
   ]
  },
  {
   "cell_type": "markdown",
   "metadata": {
    "deletable": true,
    "editable": true
   },
   "source": [
    "## 3. Train / Test Split"
   ]
  },
  {
   "cell_type": "code",
   "execution_count": 220,
   "metadata": {
    "collapsed": false,
    "deletable": true,
    "editable": true
   },
   "outputs": [],
   "source": [
    "def build_mask(nodes_with_labels, X):\n",
    "    mask = np.array(nodes_with_labels.name.isin(X.name), dtype=np.uint8)\n",
    "    # verify that all nodes from mask are in X and vice versa\n",
    "    t = nodes_with_labels[mask.astype(bool)] # df for the mask\n",
    "    assert (np.all(t.name.isin(X.name)) and np.all(X.name.isin(t.name)))\n",
    "    return mask\n",
    "\n",
    "def build_y(nodes_with_labels, X):\n",
    "    y_t = np.array([node_list.name.isin(X.name) & node_list.cancer_gene], dtype=np.uint8).T\n",
    "    return y_t\n",
    "\n",
    "def balanced_stratified_split(X, test_ratio):\n",
    "    # calculate number of labels for both sets\n",
    "    num_labels_total = X.label.sum()\n",
    "    num_labels_train = int(num_labels_total * (1-test_ratio))\n",
    "    num_labels_test = num_labels_total - num_labels_train\n",
    "    num_positives = X.cancer_gene.sum()\n",
    "    num_pos_train = int(num_positives*(1-test_ratio))\n",
    "    num_pos_test = num_positives - num_pos_train\n",
    "    # select random training set (size 2*num_labels_train)\n",
    "    X_train = X[X.cancer_gene].sample(n=num_pos_train)\n",
    "    X_train = X_train.append(X[X.non_cancer_gene].sample(n=num_pos_train))\n",
    "    # rest is test\n",
    "    X_test = X[X.label & ~X.index.isin(X_train.index)]\n",
    "    return X_train, X_test"
   ]
  },
  {
   "cell_type": "code",
   "execution_count": 221,
   "metadata": {
    "collapsed": false,
    "deletable": true,
    "editable": true
   },
   "outputs": [
    {
     "data": {
      "text/plain": [
       "name               A1BGA1CFA2MAAASAADATAAGABAAMPAANATAARSAARS2AAR...\n",
       "cancer_gene                                                      123\n",
       "non_cancer_gene                                                 2257\n",
       "label                                                           2380\n",
       "dtype: object"
      ]
     },
     "execution_count": 221,
     "metadata": {},
     "output_type": "execute_result"
    }
   ],
   "source": [
    "# add columns for positives and negatives\n",
    "node_list = pd.DataFrame(nx.to_pandas_adjacency(G).index, columns=['name'])\n",
    "node_list['cancer_gene'] = node_list.name.isin(cancer_gene_list['Gene Symbol'])\n",
    "node_list['non_cancer_gene'] = node_list.name.isin(negatives.name)\n",
    "# add column for label in general\n",
    "node_list['label'] = node_list.cancer_gene | node_list.non_cancer_gene\n",
    "# assert that labels are set correctly\n",
    "assert (node_list[node_list.cancer_gene | node_list.non_cancer_gene].equals(node_list[node_list.label]))\n",
    "node_list.sum() # print some stats"
   ]
  },
  {
   "cell_type": "code",
   "execution_count": 222,
   "metadata": {
    "collapsed": false,
    "deletable": true,
    "editable": true
   },
   "outputs": [
    {
     "name": "stdout",
     "output_type": "stream",
     "text": [
      "Split Training and Testing with 40.0% test nodes\n",
      "Training Nodes: 1428\t#Positive Genes in Train Set: 74\n",
      "Testing Nodes: 952\t#Positive Genes in Test Set: 49\n"
     ]
    }
   ],
   "source": [
    "# split for training, testing & validation\n",
    "if BALANCE:\n",
    "    X_train, X_test = balanced_stratified_split(node_list, TEST_RATIO)\n",
    "else:\n",
    "    X_train, X_test = train_test_split(node_list[node_list.label],\n",
    "                                       test_size=TEST_RATIO,\n",
    "                                       stratify=node_list[node_list.label].cancer_gene\n",
    "                                      )\n",
    "if VAL_SIZE > 0:\n",
    "    X_val = X_train[-VAL_SIZE:]\n",
    "    X_train = X_train[:-VAL_SIZE]\n",
    "else:\n",
    "    X_val = None\n",
    "print (\"Split Training and Testing with {}% test nodes\".format(TEST_RATIO*100.))\n",
    "print (\"Training Nodes: {}\\t#Positive Genes in Train Set: {}\".format(X_train.shape[0],\n",
    "                                                                 X_train.cancer_gene.sum())\n",
    "      )\n",
    "print (\"Testing Nodes: {}\\t#Positive Genes in Test Set: {}\".format(X_test.shape[0],\n",
    "                                                               X_test.cancer_gene.sum())\n",
    "      )\n",
    "\n",
    "# construct masks\n",
    "train_mask = build_mask(node_list, X_train)\n",
    "test_mask = build_mask(node_list, X_test)\n",
    "if X_val is not None:\n",
    "    val_mask = build_mask(node_list, X_val)\n",
    "\n",
    "# construct labels\n",
    "y_train = build_y(node_list, X_train)\n",
    "y_test = build_y(node_list, X_test)\n",
    "if X_val is not None:\n",
    "    y_val = build_y(node_list, X_val)"
   ]
  },
  {
   "cell_type": "markdown",
   "metadata": {
    "collapsed": false,
    "deletable": true,
    "editable": true
   },
   "source": [
    "## Get Ensembl IDs for Gene Names"
   ]
  },
  {
   "cell_type": "code",
   "execution_count": 227,
   "metadata": {
    "collapsed": false,
    "deletable": true,
    "editable": true
   },
   "outputs": [
    {
     "name": "stdout",
     "output_type": "stream",
     "text": [
      "querying 1-1000...done.\n",
      "querying 1001-2000...done.\n",
      "querying 2001-3000...done.\n",
      "querying 3001-4000...done.\n",
      "querying 4001-5000...done.\n",
      "querying 5001-6000...done.\n",
      "querying 6001-7000...done.\n",
      "querying 7001-8000...done.\n",
      "querying 8001-9000...done.\n",
      "querying 9001-10000...done.\n",
      "querying 10001-11000...done.\n",
      "querying 11001-12000...done.\n",
      "querying 12001-12129...done.\n",
      "Finished.\n",
      "32 input query terms found dup hits:\n",
      "\t[('ARMCX5-GPRASP2', 2), ('C9orf163', 2), ('CCL27', 2), ('COG8', 2), ('CRX', 2), ('DNAJB3', 2), ('EMG\n",
      "633 input query terms found no hit:\n",
      "\t['ABP1', 'ACCN1', 'ACCN2', 'ACCN3', 'ACCN5', 'ACN9', 'ADCK3', 'ADRBK1', 'ADRBK2', 'AGPAT6', 'AGPAT9'\n",
      "11504 gene names (symbols) mapped successfully\n"
     ]
    }
   ],
   "source": [
    "# get Ensembl IDs for gene names\n",
    "mg = mygene.MyGeneInfo()\n",
    "res = mg.querymany(node_list.name,\n",
    "                   scopes='symbol, refseq, uniprot',\n",
    "                   fields='ensembl.gene',\n",
    "                   species='human', returnall=True\n",
    "                  )\n",
    "\n",
    "# now, retrieve the names and IDs from a dictionary and put in DF\n",
    "def get_name_and_id(x):\n",
    "    ens_id = x['ensembl'][0]['gene'] if type(x['ensembl']) is list else x['ensembl']['gene']\n",
    "    name = x['query']\n",
    "    return [name, ens_id]\n",
    "\n",
    "ens_ids = [get_name_and_id(x) for x in res['out'] if 'ensembl' in x]\n",
    "node_names_ids = pd.DataFrame(ens_ids, columns=['name', 'ID'])\n",
    "node_names_ids.set_index('name', inplace=True)\n",
    "node_names_ids = node_names_ids[~node_names_ids.index.duplicated(keep='first')]\n",
    "\n",
    "# join with node list to have the correct order and derive gene names\n",
    "nodes_with_ids = node_list.join(node_names_ids, on='name')\n",
    "nodes_with_ids.loc[nodes_with_ids.ID.isnull(), 'ID'] = nodes_with_ids[nodes_with_ids.ID.isnull()].name\n",
    "gene_names = np.vstack((np.array(nodes_with_ids.ID), np.array(nodes_with_ids.name))).transpose(1, 0)\n",
    "\n",
    "print (\"{} gene names (symbols) mapped successfully\".format(len(ens_ids)))"
   ]
  },
  {
   "cell_type": "markdown",
   "metadata": {
    "deletable": true,
    "editable": true
   },
   "source": [
    "## 4. Save To hdf5"
   ]
  },
  {
   "cell_type": "code",
   "execution_count": 228,
   "metadata": {
    "collapsed": false,
    "deletable": true,
    "editable": true,
    "scrolled": false
   },
   "outputs": [
    {
     "name": "stdout",
     "output_type": "stream",
     "text": [
      "Container written to ../data/cancer/hotnet_iref_vec_input_unbalanced.h5\n"
     ]
    }
   ],
   "source": [
    "ppi_network = nx.to_numpy_array(G)\n",
    "# test if ppi_network (A) has the same degree as the graph\n",
    "# this should test if the features have the same ordering as the network\n",
    "assert (np.all(np.equal(ppi_network.sum(axis=0), np.array([d[1] for d in list(nx.degree(G))]))))\n",
    "\n",
    "# only one dim output (not one-hot)\n",
    "#y_train = np.array([y_train[:, 0]]).T\n",
    "#y_test = np.array([y_test[:, 0]]).T\n",
    "#if X_val is not None:\n",
    "#    y_val = np.array([y_val[:, 0]]).T\n",
    "\n",
    "# build feature vector\n",
    "node_index = nx.to_pandas_adjacency(G).index\n",
    "if USE_HEAT_SCORES:\n",
    "    attributes = nx.get_node_attributes(G, 'heat')\n",
    "    features = np.array([[attributes[i] for i in node_index]]).T\n",
    "else:\n",
    "    attributes = nx.get_node_attributes(G, 'features')\n",
    "    features = np.array([attributes[i] for i in node_index])\n",
    "\n",
    "# create gene names\n",
    "string_dt = h5py.special_dtype(vlen=str)\n",
    "\n",
    "# determine file name by parameters\n",
    "b = 'balanced' if BALANCE else 'unbalanced'\n",
    "f = 'heat' if USE_HEAT_SCORES else 'vec'\n",
    "fname = '../data/cancer/hotnet_iref_{}_input_{}.h5'.format(f, b)\n",
    "f = h5py.File(fname, 'w')\n",
    "\n",
    "# add ppi network\n",
    "f.create_dataset('network', data=ppi_network, shape=ppi_network.shape)\n",
    "# add features\n",
    "f.create_dataset('features', data=features, shape=features.shape)\n",
    "# add gene names (same order as features & network)\n",
    "f.create_dataset('gene_names', data=gene_names, dtype=string_dt)\n",
    "# add labels\n",
    "f.create_dataset('y_train', data=y_train, shape=y_train.shape)\n",
    "f.create_dataset('y_test', data=y_test, shape=y_test.shape)\n",
    "if X_val is not None:\n",
    "    f.create_dataset('y_val', data=y_val, shape=y_val.shape)\n",
    "\n",
    "f.create_dataset('mask_train', data=train_mask, shape=train_mask.shape)\n",
    "f.create_dataset('mask_test', data=test_mask, shape=test_mask.shape)\n",
    "if X_val is not None:\n",
    "    f.create_dataset('mask_val', data=val_mask, shape=val_mask.shape)\n",
    "f.close()\n",
    "print (\"Container written to {}\".format(fname))"
   ]
  },
  {
   "cell_type": "code",
   "execution_count": 58,
   "metadata": {
    "collapsed": false,
    "deletable": true,
    "editable": true
   },
   "outputs": [
    {
     "data": {
      "text/plain": [
       "(1428, 952, (12129,), (12129,), (12129, 1), (12129, 1))"
      ]
     },
     "execution_count": 58,
     "metadata": {},
     "output_type": "execute_result"
    }
   ],
   "source": [
    "train_mask.sum(), test_mask.sum(), train_mask.shape, test_mask.shape, y_train.shape, y_test.shape"
   ]
  },
  {
   "cell_type": "code",
   "execution_count": 59,
   "metadata": {
    "collapsed": false,
    "deletable": true,
    "editable": true
   },
   "outputs": [],
   "source": [
    "assert (np.alltrue([gene_names[i] == node_index[i] for i in range(node_index.shape[0])]))"
   ]
  },
  {
   "cell_type": "code",
   "execution_count": 80,
   "metadata": {
    "collapsed": false,
    "deletable": true,
    "editable": true
   },
   "outputs": [
    {
     "data": {
      "text/html": [
       "<div>\n",
       "<table border=\"1\" class=\"dataframe\">\n",
       "  <thead>\n",
       "    <tr style=\"text-align: right;\">\n",
       "      <th></th>\n",
       "      <th>name</th>\n",
       "      <th>cancer_gene</th>\n",
       "      <th>non_cancer_gene</th>\n",
       "      <th>label</th>\n",
       "    </tr>\n",
       "  </thead>\n",
       "  <tbody>\n",
       "    <tr>\n",
       "      <th>10921</th>\n",
       "      <td>TP53</td>\n",
       "      <td>True</td>\n",
       "      <td>False</td>\n",
       "      <td>True</td>\n",
       "    </tr>\n",
       "  </tbody>\n",
       "</table>\n",
       "</div>"
      ],
      "text/plain": [
       "       name cancer_gene non_cancer_gene label\n",
       "10921  TP53        True           False  True"
      ]
     },
     "execution_count": 80,
     "metadata": {},
     "output_type": "execute_result"
    }
   ],
   "source": [
    "node_list[node_list.name == 'TP53']"
   ]
  },
  {
   "cell_type": "code",
   "execution_count": 74,
   "metadata": {
    "collapsed": false,
    "deletable": true,
    "editable": true
   },
   "outputs": [],
   "source": [
    "node_index = nx.to_pandas_adjacency(G).index\n",
    "if USE_HEAT_SCORES:\n",
    "    attributes = nx.get_node_attributes(G, 'heat')\n",
    "    features = np.array([[attributes[i] for i in node_index]]).T\n",
    "else:\n",
    "    attributes = nx.get_node_attributes(G, 'features')\n",
    "    features = np.array([attributes[i] for i in node_index])\n",
    "\n",
    "# create gene names\n",
    "gene_names = np.vstack((np.array(node_index), np.array(node_index))).transpose(1, 0)"
   ]
  },
  {
   "cell_type": "code",
   "execution_count": 204,
   "metadata": {
    "collapsed": false,
    "deletable": true,
    "editable": true
   },
   "outputs": [
    {
     "data": {
      "text/plain": [
       "array(['SIK2', 'ENSG00000170145'], dtype=object)"
      ]
     },
     "execution_count": 204,
     "metadata": {},
     "output_type": "execute_result"
    }
   ],
   "source": [
    "gene_names[9587]"
   ]
  },
  {
   "cell_type": "code",
   "execution_count": 203,
   "metadata": {
    "collapsed": false,
    "deletable": true,
    "editable": true,
    "scrolled": true
   },
   "outputs": [
    {
     "data": {
      "text/plain": [
       "5.0"
      ]
     },
     "execution_count": 203,
     "metadata": {},
     "output_type": "execute_result"
    }
   ],
   "source": [
    "ppi_network.sum(axis=0)[9587]"
   ]
  },
  {
   "cell_type": "code",
   "execution_count": 163,
   "metadata": {
    "collapsed": false,
    "deletable": true,
    "editable": true
   },
   "outputs": [
    {
     "data": {
      "text/plain": [
       "((12138, 5), (11505, 1), (12129, 4))"
      ]
     },
     "execution_count": 163,
     "metadata": {},
     "output_type": "execute_result"
    }
   ],
   "source": [
    "nodes_with_ids = node_list.join(node_names_ids, on='name', how='left')\n",
    "nodes_with_ids.shape, node_names_ids.shape, node_list.shape"
   ]
  },
  {
   "cell_type": "code",
   "execution_count": 205,
   "metadata": {
    "collapsed": false,
    "deletable": true,
    "editable": true
   },
   "outputs": [
    {
     "data": {
      "text/plain": [
       "(74, 49)"
      ]
     },
     "execution_count": 205,
     "metadata": {},
     "output_type": "execute_result"
    }
   ],
   "source": [
    "y_train.sum(), y_test.sum()"
   ]
  },
  {
   "cell_type": "code",
   "execution_count": 242,
   "metadata": {
    "collapsed": false,
    "deletable": true,
    "editable": true,
    "scrolled": false
   },
   "outputs": [
    {
     "data": {
      "text/plain": [
       "True"
      ]
     },
     "execution_count": 242,
     "metadata": {},
     "output_type": "execute_result"
    }
   ],
   "source": [
    "\n",
    "np.all(node_list.name == gene_names[:,0])"
   ]
  },
  {
   "cell_type": "code",
   "execution_count": null,
   "metadata": {
    "collapsed": false,
    "deletable": true,
    "editable": true,
    "scrolled": false
   },
   "outputs": [],
   "source": []
  },
  {
   "cell_type": "code",
   "execution_count": 57,
   "metadata": {
    "collapsed": false,
    "deletable": true,
    "editable": true
   },
   "outputs": [],
   "source": [
    "del df"
   ]
  },
  {
   "cell_type": "code",
   "execution_count": null,
   "metadata": {
    "collapsed": true
   },
   "outputs": [],
   "source": []
  }
 ],
 "metadata": {
  "kernelspec": {
   "display_name": "Python 3",
   "language": "python",
   "name": "python3"
  },
  "language_info": {
   "codemirror_mode": {
    "name": "ipython",
    "version": 3
   },
   "file_extension": ".py",
   "mimetype": "text/x-python",
   "name": "python",
   "nbconvert_exporter": "python",
   "pygments_lexer": "ipython3",
   "version": "3.6.1"
  }
 },
 "nbformat": 4,
 "nbformat_minor": 2
}
