{
 "cells": [
  {
   "cell_type": "markdown",
   "metadata": {},
   "source": [
    "# Build Hotnet2 Network Container\n",
    "In this notebook, I want to construct the network container for the Hotnet2 data. In order to do that, I have to do the following:\n",
    "1. Construct a network from heat scores and edgelist (data in Hotnet2 github repo) or from network and mutation frequencies directly from TCGA.\n",
    "2. Get labels (positive and negative) from OMIM\n",
    "3. Do train/test split and save the whole thing\n"
   ]
  },
  {
   "cell_type": "code",
   "execution_count": 26,
   "metadata": {},
   "outputs": [],
   "source": [
    "import pandas as pd\n",
    "import numpy as np\n",
    "import h5py\n",
    "import networkx as nx\n",
    "import matplotlib.pyplot as plt\n",
    "import seaborn\n",
    "from sklearn.model_selection import train_test_split\n",
    "\n",
    "import mygene\n",
    "from goatools.base import download_go_basic_obo, download_ncbi_associations\n",
    "from goatools.associations import read_ncbi_gene2go\n",
    "from goatools.go_search import GoSearch\n",
    "\n",
    "%matplotlib inline"
   ]
  },
  {
   "cell_type": "code",
   "execution_count": 27,
   "metadata": {
    "collapsed": true
   },
   "outputs": [],
   "source": [
    "VAL_SIZE = 0\n",
    "TEST_RATIO = 0.4\n",
    "BALANCE = False\n",
    "USE_HEAT_SCORES = False"
   ]
  },
  {
   "cell_type": "markdown",
   "metadata": {},
   "source": [
    "## 1. Construct Network"
   ]
  },
  {
   "cell_type": "code",
   "execution_count": 29,
   "metadata": {},
   "outputs": [
    {
     "name": "stdout",
     "output_type": "stream",
     "text": [
      "Edges: 91809\tNodes: 12129\n"
     ]
    }
   ],
   "source": [
    "# read edgelist and names\n",
    "net_file = '../data/cancer/hotnet2/networks/irefindex9/irefindex9_edge_list'\n",
    "name_file = '../data/cancer/hotnet2/networks/irefindex9/irefindex9_index_gene'\n",
    "edgelist = pd.read_csv(net_file, sep=' ', header=None,\n",
    "                       names=['from', 'to', 'weight'])\n",
    "index = pd.read_csv(name_file, sep=' ', header=None, names=['name'])\n",
    "\n",
    "# build network and relabel nodes to match with real names\n",
    "G = nx.from_pandas_dataframe(edgelist, source='from', target='to', edge_attr=None)\n",
    "print (\"Edges: {}\\tNodes: {}\".format(G.number_of_edges(), G.number_of_nodes()))\n",
    "_ = nx.relabel_nodes(G, index.to_dict()['name'], copy=False)"
   ]
  },
  {
   "cell_type": "code",
   "execution_count": 30,
   "metadata": {},
   "outputs": [
    {
     "data": {
      "text/plain": [
       "<matplotlib.text.Text at 0x7f53787102e8>"
      ]
     },
     "execution_count": 30,
     "metadata": {},
     "output_type": "execute_result"
    },
    {
     "data": {
      "image/png": "[encoded data removed]",
      "text/plain": [
       "<matplotlib.figure.Figure at 0x7f5379f3aa90>"
      ]
     },
     "metadata": {},
     "output_type": "display_data"
    }
   ],
   "source": [
    "# plot node degree to check if distribution follows power law\n",
    "node_degrees = np.array([i[1] for i in list(G.degree())])\n",
    "fig = plt.figure(figsize=(14, 8))\n",
    "bins = np.linspace(1, 100, 100)\n",
    "ax = plt.hist(node_degrees, bins)\n",
    "plt.xlabel('Node Degree')\n",
    "plt.ylabel('Number of genes with node degree')\n",
    "plt.title('Node Degree Distribution of Genes in PPI')"
   ]
  },
  {
   "cell_type": "code",
   "execution_count": 31,
   "metadata": {
    "collapsed": true
   },
   "outputs": [],
   "source": [
    "# self interactions?\n",
    "assert (np.diag(nx.to_numpy_array(G)).sum() == 0)"
   ]
  },
  {
   "cell_type": "code",
   "execution_count": 33,
   "metadata": {},
   "outputs": [
    {
     "name": "stdout",
     "output_type": "stream",
     "text": [
      "# genes with heat scores: 11565\n"
     ]
    }
   ],
   "source": [
    "# get edgelist with names from the networkx graph\n",
    "l = nx.to_edgelist(G)\n",
    "f = [i[0] for i in l]\n",
    "t = [i[1] for i in l]\n",
    "edges_names = pd.DataFrame(np.array([f, t]).T, columns=['from_node', 'to_node'])\n",
    "node_list = pd.DataFrame(list(set().union(f, t)), columns=['name'])\n",
    "\n",
    "# get features and see which ones are in the network\n",
    "\n",
    "# get heat scores and see which ones are in our network\n",
    "heat_file = '../data/cancer/hotnet2/heats/pan12.gene2freq.txt'\n",
    "heat_scores = pd.read_csv(heat_file, header=None, sep=' ',\n",
    "                          names=['gene_name', 'heat'], index_col=0)\n",
    "nx.set_node_attributes(G, 0, name='heat')\n",
    "nx.set_node_attributes(G, heat_scores.to_dict()['heat'], name='heat')\n",
    "print (\"# genes with heat scores: {}\".format(len(heat_scores)))"
   ]
  },
  {
   "cell_type": "code",
   "execution_count": 34,
   "metadata": {},
   "outputs": [
    {
     "name": "stdout",
     "output_type": "stream",
     "text": [
      "# genes with gene expression: 8822\n"
     ]
    }
   ],
   "source": [
    "features = pd.read_csv('../data/cancer/TCGA/pancan12_rsem_matrix_tumor_type_means.tsv', sep='\\t')\n",
    "features.set_index('#Gene', inplace=True)\n",
    "genes_with_features = features[features.index.isin(node_list.name)]\n",
    "print (\"# genes with gene expression: {}\".format(genes_with_features.shape[0]))\n",
    "default_val = np.zeros(12) # 12 different cancers\n",
    "nx.set_node_attributes(G, default_val, 'features')\n",
    "nx.set_node_attributes(G, genes_with_features.T.to_dict('list'), 'features')\n",
    "assert (len(nx.get_node_attributes(G, 'features')) == len(G.nodes()))"
   ]
  },
  {
   "cell_type": "markdown",
   "metadata": {},
   "source": [
    "## 2. Network perturbations"
   ]
  },
  {
   "cell_type": "code",
   "execution_count": 15,
   "metadata": {
    "collapsed": true
   },
   "outputs": [],
   "source": [
    "def perturb_network(A, proportion_to_change):\n",
    "    # calculate proportions\n",
    "    to_keep = int(round(A.sum() * (1 - proportion_to_change)))\n",
    "    to_add = int(round(A.sum() * proportion_to_change))\n",
    "\n",
    "    # remove edges by building new graph with less edges\n",
    "    row_idx, col_idx = np.where(A == 1) # all edge indices\n",
    "    edges_to_keep = np.random.choice(np.indices(row_idx.shape)[0],\n",
    "                                     size=to_keep,\n",
    "                                     replace=False)\n",
    "    A_perturbed = np.zeros_like(A)\n",
    "    A_perturbed[row_idx[edges_to_keep], col_idx[edges_to_keep]] = 1\n",
    "    \n",
    "    # now, randomly add edges\n",
    "    row_idx, col_idx = np.where(A_perturbed == 0) # possible edges to add\n",
    "    edges_to_add = np.random.choice(np.indices(row_idx.shape)[0],\n",
    "                                    size=to_add,\n",
    "                                    replace=False)\n",
    "    A_perturbed[row_idx[edges_to_add], col_idx[edges_to_add]] = 1\n",
    "    \n",
    "    return A_perturbed"
   ]
  },
  {
   "cell_type": "code",
   "execution_count": 24,
   "metadata": {},
   "outputs": [],
   "source": [
    "ppi_network = nx.to_numpy_array(G)\n",
    "ppi = np.random.choice([True, False], size=(500, 500), p=[0.01, 1-0.01])\n",
    "ppi_little_perturbed = perturb_network(ppi, .15)\n",
    "ppi_medium_perturbed = perturb_network(ppi, .30)\n",
    "ppi_largely_perturbed = perturb_network(ppi, .60)"
   ]
  },
  {
   "cell_type": "code",
   "execution_count": 35,
   "metadata": {
    "scrolled": false
   },
   "outputs": [
    {
     "data": {
      "image/png": "[encoded data removed]",
      "text/plain": [
       "<matplotlib.figure.Figure at 0x7f537903c9b0>"
      ]
     },
     "metadata": {},
     "output_type": "display_data"
    }
   ],
   "source": [
    "# plot node degree to check if distribution follows power law\n",
    "fig = plt.figure(figsize=(14, 8))\n",
    "bins = np.linspace(1, 100, 100)\n",
    "\n",
    "plt.subplot(2, 2, 1)\n",
    "ax = plt.hist(ppi.sum(axis=0), bins)\n",
    "#plt.xlabel('Node Degree')\n",
    "plt.ylabel('Number of genes with node degree')\n",
    "plt.title('Node Degree Distribution Original')\n",
    "\n",
    "plt.subplot(2, 2, 2)\n",
    "ax = plt.hist(ppi_little_perturbed.sum(axis=0), bins)\n",
    "#plt.xlabel('Node Degree')\n",
    "#plt.ylabel('Number of genes with node degree')\n",
    "plt.title('Node Degree Distribution Little Perturbed')\n",
    "              \n",
    "plt.subplot(2, 2, 3)\n",
    "ax = plt.hist(ppi_medium_perturbed.sum(axis=0), bins)\n",
    "plt.xlabel('Node Degree')\n",
    "plt.ylabel('Number of genes with node degree')\n",
    "plt.title('Node Degree Distribution Medium Perturbed')\n",
    "\n",
    "plt.subplot(2, 2, 4)\n",
    "ax = plt.hist(ppi_largely_perturbed.sum(axis=0), bins)\n",
    "plt.xlabel('Node Degree')\n",
    "#plt.ylabel('Number of genes with node degree')\n",
    "plt.title('Node Degree Distribution Heavily Perturbed')"
   ]
  },
  {
   "cell_type": "markdown",
   "metadata": {},
   "source": [
    "## 3. Get Labels\n",
    "The positives can come from the list of Vogelstein et al. while the negatives can be those genes not present in OMIM, not in the list of Vogelstein and with a low score in COSMIC."
   ]
  },
  {
   "cell_type": "code",
   "execution_count": 11,
   "metadata": {
    "scrolled": true
   },
   "outputs": [
    {
     "name": "stdout",
     "output_type": "stream",
     "text": [
      "Got 125 cancer genes\n",
      "Got 52 oncogenes and 71 tumour suppressors\n"
     ]
    }
   ],
   "source": [
    "cancer_gene_list = pd.read_csv('../data/cancer/vogelstein/table_s2a.csv', sep='\\t', header=0)\n",
    "print (\"Got {} cancer genes\".format(cancer_gene_list.shape[0]))\n",
    "cancer_gene_list.columns = [i.strip('*') for i in cancer_gene_list.columns]\n",
    "cancer_genes = cancer_gene_list[cancer_gene_list['Gene Symbol'].isin(node_list.name)]\n",
    "oncogenes = cancer_genes[cancer_genes.Classification == \"Oncogene\"]\n",
    "suppressors = cancer_genes[cancer_genes.Classification == \"TSG\"]\n",
    "print (\"Got {} oncogenes and {} tumour suppressors\".format(oncogenes.shape[0], suppressors.shape[0]))"
   ]
  },
  {
   "cell_type": "code",
   "execution_count": 36,
   "metadata": {},
   "outputs": [],
   "source": [
    "#cancer_gene_list.head(10)"
   ]
  },
  {
   "cell_type": "code",
   "execution_count": 13,
   "metadata": {
    "scrolled": true
   },
   "outputs": [
    {
     "name": "stdout",
     "output_type": "stream",
     "text": [
      "12006 genes are in network but not in Vogelstein list (oncogenes)\n",
      "2300 genes are in network but not in oncogenes and not in OMIM\n",
      "2257 genes in network but not in oncogenes, OMIM and COSMIC cancer gene census.\n"
     ]
    }
   ],
   "source": [
    "# get rid of the vogelstein cancer genes\n",
    "not_positives = node_list[~node_list.name.isin(cancer_gene_list['Gene Symbol'])]\n",
    "print (\"{} genes are in network but not in Vogelstein list (oncogenes)\".format(not_positives.shape[0]))\n",
    "\n",
    "# get rid of the OMIM disease genes\n",
    "omim_genes = pd.read_csv('../data/cancer/OMIM/genemap2.txt', sep='\\t', comment='#', header=None)\n",
    "omim_genes.columns = ['Chromosome', 'Genomic Position Start', 'Genomic Position End', 'Cyto Location',\n",
    "                      'Computed Cyto Location', 'Mim Number', 'Gene Symbol', 'Gene Name',\n",
    "                      'Approved Symbol', 'Entrez Gene ID', 'Ensembl Gene ID', 'Comments',\n",
    "                      'Phenotypes', 'Mouse Gene Symbol/ID']\n",
    "omim_gene_names = []\n",
    "for idx, row in omim_genes.iterrows():\n",
    "    gene_names = row['Gene Symbol'].strip().split(',')\n",
    "    omim_gene_names += gene_names\n",
    "omim_gene_names = list(set(omim_gene_names))\n",
    "not_omim_not_pos = not_positives[~not_positives.name.isin(omim_gene_names)]\n",
    "print (\"{} genes are in network but not in oncogenes and not in OMIM\".format(not_omim_not_pos.shape[0]))\n",
    "\n",
    "# get rid of genes that are not in COSMIC\n",
    "cosmic_gene_scores = pd.read_csv('../data/cancer/cosmic/cancer_gene_census.csv', header=0)\n",
    "negatives = not_omim_not_pos[~not_omim_not_pos.name.isin(cosmic_gene_scores['Gene Symbol'])]\n",
    "print (\"{} genes in network but not in oncogenes, OMIM and COSMIC cancer gene census.\".format(negatives.shape[0]))"
   ]
  },
  {
   "cell_type": "markdown",
   "metadata": {},
   "source": [
    "## 3. Train / Test Split"
   ]
  },
  {
   "cell_type": "code",
   "execution_count": 14,
   "metadata": {
    "collapsed": true
   },
   "outputs": [],
   "source": [
    "def build_mask(nodes_with_labels, X):\n",
    "    mask = np.array(nodes_with_labels.name.isin(X.name), dtype=np.uint8)\n",
    "    # verify that all nodes from mask are in X and vice versa\n",
    "    t = nodes_with_labels[mask.astype(bool)] # df for the mask\n",
    "    assert (np.all(t.name.isin(X.name)) and np.all(X.name.isin(t.name)))\n",
    "    return mask\n",
    "\n",
    "def build_y(nodes_with_labels, X):\n",
    "    y_t = np.array([node_list.name.isin(X.name) & node_list.cancer_gene], dtype=np.uint8).T\n",
    "    return y_t\n",
    "\n",
    "def balanced_stratified_split(X, test_ratio):\n",
    "    # calculate number of labels for both sets\n",
    "    num_labels_total = X.label.sum()\n",
    "    num_labels_train = int(num_labels_total * (1-test_ratio))\n",
    "    num_labels_test = num_labels_total - num_labels_train\n",
    "    num_positives = X.cancer_gene.sum()\n",
    "    num_pos_train = int(num_positives*(1-test_ratio))\n",
    "    num_pos_test = num_positives - num_pos_train\n",
    "    # select random training set (size 2*num_labels_train)\n",
    "    X_train = X[X.cancer_gene].sample(n=num_pos_train)\n",
    "    X_train = X_train.append(X[X.non_cancer_gene].sample(n=num_pos_train))\n",
    "    # rest is test\n",
    "    X_test = X[X.label & ~X.index.isin(X_train.index)]\n",
    "    return X_train, X_test"
   ]
  },
  {
   "cell_type": "code",
   "execution_count": 16,
   "metadata": {},
   "outputs": [
    {
     "name": "stdout",
     "output_type": "stream",
     "text": [
      "Split Training and Testing with 40.0% test nodes\n",
      "Training Nodes: 1428\t#Positive Genes in Train Set: 74\n",
      "Testing Nodes: 952\t#Positive Genes in Test Set: 49\n"
     ]
    }
   ],
   "source": [
    "# add columns for positives and negatives\n",
    "node_list = pd.DataFrame(nx.to_pandas_adjacency(G).index, columns=['name'])\n",
    "node_list['cancer_gene'] = node_list.name.isin(cancer_gene_list['Gene Symbol'])\n",
    "node_list['non_cancer_gene'] = node_list.name.isin(negatives.name)\n",
    "# add column for label in general\n",
    "node_list['label'] = node_list.cancer_gene | node_list.non_cancer_gene\n",
    "# assert that labels are set correctly\n",
    "assert (node_list[node_list.cancer_gene | node_list.non_cancer_gene].equals(node_list[node_list.label]))\n",
    "\n",
    "# split for training, testing & validation\n",
    "if BALANCE:\n",
    "    X_train, X_test = balanced_stratified_split(node_list, TEST_RATIO)\n",
    "else:\n",
    "    X_train, X_test = train_test_split(node_list[node_list.label],\n",
    "                                       test_size=TEST_RATIO,\n",
    "                                       stratify=node_list[node_list.label].cancer_gene\n",
    "                                      )\n",
    "if VAL_SIZE > 0:\n",
    "    X_val = X_train[-VAL_SIZE:]\n",
    "    X_train = X_train[:-VAL_SIZE]\n",
    "else:\n",
    "    X_val = None\n",
    "print (\"Split Training and Testing with {}% test nodes\".format(TEST_RATIO*100.))\n",
    "print (\"Training Nodes: {}\\t#Positive Genes in Train Set: {}\".format(X_train.shape[0],\n",
    "                                                                 X_train.cancer_gene.sum())\n",
    "      )\n",
    "print (\"Testing Nodes: {}\\t#Positive Genes in Test Set: {}\".format(X_test.shape[0],\n",
    "                                                               X_test.cancer_gene.sum())\n",
    "      )\n",
    "\n",
    "# construct masks\n",
    "train_mask = build_mask(node_list, X_train)\n",
    "test_mask = build_mask(node_list, X_test)\n",
    "if X_val is not None:\n",
    "    val_mask = build_mask(node_list, X_val)\n",
    "\n",
    "# construct labels\n",
    "y_train = build_y(node_list, X_train)\n",
    "y_test = build_y(node_list, X_test)\n",
    "if X_val is not None:\n",
    "    y_val = build_y(node_list, X_val)"
   ]
  },
  {
   "cell_type": "markdown",
   "metadata": {},
   "source": [
    "## 4. Get Ensembl IDs for Gene Names"
   ]
  },
  {
   "cell_type": "code",
   "execution_count": 17,
   "metadata": {},
   "outputs": [
    {
     "name": "stdout",
     "output_type": "stream",
     "text": [
      "querying 1-1000...done.\n",
      "querying 1001-2000...done.\n",
      "querying 2001-3000...done.\n",
      "querying 3001-4000...done.\n",
      "querying 4001-5000...done.\n",
      "querying 5001-6000...done.\n",
      "querying 6001-7000...done.\n",
      "querying 7001-8000...done.\n",
      "querying 8001-9000...done.\n",
      "querying 9001-10000...done.\n",
      "querying 10001-11000...done.\n",
      "querying 11001-12000...done.\n",
      "querying 12001-12129...done.\n",
      "Finished.\n",
      "32 input query terms found dup hits:\n",
      "\t[('FCN1', 2), ('RPS27', 2), ('DNAJB3', 2), ('RMI2', 2), ('SGCZ', 2), ('SRD5A1', 2), ('CCL27', 2), ('\n",
      "633 input query terms found no hit:\n",
      "\t['TCEB3C', 'C12orf44', 'HMP19', 'BZRAP1', 'LECT1', 'C1orf182', 'KIAA0226L', 'GCET2', 'C12orf12', 'SE\n",
      "11504 gene names (symbols) mapped successfully\n"
     ]
    }
   ],
   "source": [
    "# get Ensembl IDs for gene names\n",
    "mg = mygene.MyGeneInfo()\n",
    "res = mg.querymany(node_list.name,\n",
    "                   scopes='symbol, refseq, uniprot',\n",
    "                   fields='ensembl.gene',\n",
    "                   species='human', returnall=True\n",
    "                  )\n",
    "\n",
    "# now, retrieve the names and IDs from a dictionary and put in DF\n",
    "def get_name_and_id(x):\n",
    "    ens_id = x['ensembl'][0]['gene'] if type(x['ensembl']) is list else x['ensembl']['gene']\n",
    "    name = x['query']\n",
    "    return [name, ens_id]\n",
    "\n",
    "ens_ids = [get_name_and_id(x) for x in res['out'] if 'ensembl' in x]\n",
    "node_names_ids = pd.DataFrame(ens_ids, columns=['name', 'ID'])\n",
    "node_names_ids.set_index('name', inplace=True)\n",
    "node_names_ids = node_names_ids[~node_names_ids.index.duplicated(keep='first')]\n",
    "\n",
    "# join with node list to have the correct order and derive gene names\n",
    "nodes_with_ids = node_list.join(node_names_ids, on='name')\n",
    "nodes_with_ids.loc[nodes_with_ids.ID.isnull(), 'ID'] = nodes_with_ids[nodes_with_ids.ID.isnull()].name\n",
    "gene_names = np.vstack((np.array(nodes_with_ids.ID), np.array(nodes_with_ids.name))).transpose(1, 0)\n",
    "\n",
    "print (\"{} gene names (symbols) mapped successfully\".format(len(ens_ids)))"
   ]
  },
  {
   "cell_type": "markdown",
   "metadata": {},
   "source": [
    "## 5. Save To hdf5"
   ]
  },
  {
   "cell_type": "code",
   "execution_count": 228,
   "metadata": {
    "scrolled": false
   },
   "outputs": [
    {
     "name": "stdout",
     "output_type": "stream",
     "text": [
      "Container written to ../data/cancer/hotnet_iref_vec_input_unbalanced.h5\n"
     ]
    }
   ],
   "source": [
    "ppi_network = nx.to_numpy_array(G)\n",
    "# test if ppi_network (A) has the same degree as the graph\n",
    "# this should test if the features have the same ordering as the network\n",
    "assert (np.all(np.equal(ppi_network.sum(axis=0), np.array([d[1] for d in list(nx.degree(G))]))))\n",
    "\n",
    "# only one dim output (not one-hot)\n",
    "#y_train = np.array([y_train[:, 0]]).T\n",
    "#y_test = np.array([y_test[:, 0]]).T\n",
    "#if X_val is not None:\n",
    "#    y_val = np.array([y_val[:, 0]]).T\n",
    "\n",
    "# build feature vector\n",
    "node_index = nx.to_pandas_adjacency(G).index\n",
    "if USE_HEAT_SCORES:\n",
    "    attributes = nx.get_node_attributes(G, 'heat')\n",
    "    features = np.array([[attributes[i] for i in node_index]]).T\n",
    "else:\n",
    "    attributes = nx.get_node_attributes(G, 'features')\n",
    "    features = np.array([attributes[i] for i in node_index])\n",
    "\n",
    "# create gene names\n",
    "string_dt = h5py.special_dtype(vlen=str)\n",
    "\n",
    "# determine file name by parameters\n",
    "b = 'balanced' if BALANCE else 'unbalanced'\n",
    "f = 'heat' if USE_HEAT_SCORES else 'vec'\n",
    "fname = '../data/cancer/hotnet_iref_{}_input_{}.h5'.format(f, b)\n",
    "f = h5py.File(fname, 'w')\n",
    "\n",
    "# add ppi network\n",
    "f.create_dataset('network', data=ppi_network, shape=ppi_network.shape)\n",
    "# add features\n",
    "f.create_dataset('features', data=features, shape=features.shape)\n",
    "# add gene names (same order as features & network)\n",
    "f.create_dataset('gene_names', data=gene_names, dtype=string_dt)\n",
    "# add labels\n",
    "f.create_dataset('y_train', data=y_train, shape=y_train.shape)\n",
    "f.create_dataset('y_test', data=y_test, shape=y_test.shape)\n",
    "if X_val is not None:\n",
    "    f.create_dataset('y_val', data=y_val, shape=y_val.shape)\n",
    "\n",
    "f.create_dataset('mask_train', data=train_mask, shape=train_mask.shape)\n",
    "f.create_dataset('mask_test', data=test_mask, shape=test_mask.shape)\n",
    "if X_val is not None:\n",
    "    f.create_dataset('mask_val', data=val_mask, shape=val_mask.shape)\n",
    "f.close()\n",
    "print (\"Container written to {}\".format(fname))"
   ]
  },
  {
   "cell_type": "code",
   "execution_count": 59,
   "metadata": {
    "collapsed": true
   },
   "outputs": [],
   "source": [
    "assert (np.alltrue([gene_names[i] == node_index[i] for i in range(node_index.shape[0])]))"
   ]
  }
 ],
 "metadata": {
  "kernelspec": {
   "display_name": "Python 3",
   "language": "python",
   "name": "python3"
  },
  "language_info": {
   "codemirror_mode": {
    "name": "ipython",
    "version": 3
   },
   "file_extension": ".py",
   "mimetype": "text/x-python",
   "name": "python",
   "nbconvert_exporter": "python",
   "pygments_lexer": "ipython3",
   "version": "3.5.2"
  }
 },
 "nbformat": 4,
 "nbformat_minor": 2
}
