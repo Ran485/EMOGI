{
 "cells": [
  {
   "cell_type": "markdown",
   "metadata": {},
   "source": [
    "# Preprocess CNAs\n",
    "In this notebook, I want to preprocess all the CNA data that Hotnet2 used for their identification of significant submodules. I already downloaded the the output from GISTIC2 from Firehose, using the firehose_get tool. This was cumbersome and now I have one folder, containing gzipped folders for each cancer type.\n",
    "This will be a bit complicated."
   ]
  },
  {
   "cell_type": "code",
   "execution_count": 1,
   "metadata": {
    "collapsed": true
   },
   "outputs": [],
   "source": [
    "import pandas as pd\n",
    "import numpy as np\n",
    "import gzip\n",
    "import os, sys\n",
    "import tarfile\n",
    "import itertools\n",
    "\n",
    "# Parameters\n",
    "GISTIC_THRESHOLD = 1"
   ]
  },
  {
   "cell_type": "code",
   "execution_count": 5,
   "metadata": {
    "collapsed": false,
    "scrolled": false
   },
   "outputs": [
    {
     "name": "stdout",
     "output_type": "stream",
     "text": [
      "For Cancer BLCA:\n",
      "Found 3687 genes for 408 samples with avg 1477.5931372549019 mutated genes\n",
      "40.08% mutations across all samples\n",
      "-----------------------------------------\n",
      "For Cancer BRCA:\n",
      "Found 2920 genes for 1080 samples with avg 937.887962962963 mutated genes\n",
      "32.12% mutations across all samples\n",
      "-----------------------------------------\n",
      "For Cancer COADREAD:\n",
      "Found 4812 genes for 616 samples with avg 1405.5974025974026 mutated genes\n",
      "29.21% mutations across all samples\n",
      "-----------------------------------------\n",
      "For Cancer GBM:\n",
      "Found 2618 genes for 577 samples with avg 570.0606585788562 mutated genes\n",
      "21.77% mutations across all samples\n",
      "-----------------------------------------\n",
      "For Cancer HNSC:\n",
      "Found 3566 genes for 522 samples with avg 860.8122605363984 mutated genes\n",
      "24.14% mutations across all samples\n",
      "-----------------------------------------\n",
      "For Cancer KIRC:\n",
      "Found 5524 genes for 528 samples with avg 1288.7121212121212 mutated genes\n",
      "23.33% mutations across all samples\n",
      "-----------------------------------------\n",
      "For Cancer LAML:\n",
      "Found 2658 genes for 191 samples with avg 143.00523560209425 mutated genes\n",
      "5.38% mutations across all samples\n",
      "-----------------------------------------\n",
      "For Cancer LUAD:\n",
      "Found 6125 genes for 516 samples with avg 2073.3527131782944 mutated genes\n",
      "33.85% mutations across all samples\n",
      "-----------------------------------------\n",
      "For Cancer LUSC:\n",
      "Found 4496 genes for 501 samples with avg 2012.8622754491018 mutated genes\n",
      "44.77% mutations across all samples\n",
      "-----------------------------------------\n",
      "For Cancer OV:\n",
      "Found 2389 genes for 579 samples with avg 1119.504317789292 mutated genes\n",
      "46.86% mutations across all samples\n",
      "-----------------------------------------\n",
      "For Cancer UCEC:\n",
      "Found 3414 genes for 539 samples with avg 694.3543599257885 mutated genes\n",
      "20.34% mutations across all samples\n",
      "-----------------------------------------\n"
     ]
    }
   ],
   "source": [
    "def get_target_genes(fname):\n",
    "    \"\"\"Extract all genes per CNA from file\n",
    "    \n",
    "    This method extracts the target genes for all CNAs (either amps or dels) from GISTIC2 output files.\n",
    "    Parameters:\n",
    "    ---------\n",
    "    fname:            The file to read from\n",
    "    \n",
    "    Returns:\n",
    "    A dictionary with the descriptors of the CNAs as keys. The values are lists of target genes.\n",
    "    \"\"\"\n",
    "    cna_genes_df = pd.read_csv(fname, sep='\\t')\n",
    "    relevant_cols = cna_genes_df.iloc[3:, 1:].dropna(how='all', axis=1)\n",
    "    genes_per_cna = {}\n",
    "    for col in relevant_cols.columns:\n",
    "        genes_per_cna[col] = [i.split('|')[0] for i in relevant_cols[col].dropna().tolist()]\n",
    "    return genes_per_cna\n",
    "\n",
    "def get_genes_from_target_dict(genes_per_cna):\n",
    "    return list(set({x for v in genes_per_cna.values() for x in v}))\n",
    "\n",
    "def get_samples(lesions):\n",
    "    return lesions.iloc[:, 9:].dropna(how='all', axis=1).columns\n",
    "\n",
    "\n",
    "def get_target_genes_from_gistic(lesions, amps, dels):\n",
    "    # first, get the target genes for all CNAs\n",
    "    amp_targets = get_target_genes(amps)\n",
    "    del_targets = get_target_genes(dels)\n",
    "    all_targets = {**amp_targets, **del_targets} # no duplicate keys possible\n",
    "    list_of_targets = get_genes_from_target_dict(all_targets)\n",
    "    \n",
    "    # Next, get the sample IDs\n",
    "    all_lesions = pd.read_csv(lesions, sep='\\t')\n",
    "    samples = get_samples(all_lesions)\n",
    "    \n",
    "    # construct target matrix (genes x samples; 1 indicates that sample has CNA affecting the gene)\n",
    "    target_gene_matrix = pd.DataFrame(0, index=list_of_targets, columns=samples)\n",
    "    all_lesions = all_lesions[~all_lesions['Unique Name'].str.contains(\"CN values\")]\n",
    "    for sample in samples:\n",
    "        cnas = all_lesions[all_lesions.loc[:, sample] >= GISTIC_THRESHOLD].Descriptor\n",
    "        genes_subset = dict((k, all_targets[k.strip()]) for k in cnas)\n",
    "        target_genes_for_sample = get_genes_from_target_dict(genes_subset)\n",
    "        target_gene_matrix.loc[target_gene_matrix.index.isin(target_genes_for_sample), sample] = 1\n",
    "    return target_gene_matrix\n",
    "    \n",
    "\n",
    "def get_target_genes_per_sample(root_dir, cancer_type, analysis_date):\n",
    "    analysis_dir = 'gdac.broadinstitute.org_{}-T{}.CopyNumber_Gistic2.Level_4.{}00.0.0.tar.gz'\n",
    "    p = os.path.join(root_dir, analysis_dir.format(cancer_type, 'B' if cancer_type is 'LAML' else 'P', analysis_date))\n",
    "    if os.path.isfile(p):\n",
    "        #print (\"Extracting target genes from {}\".format(p))\n",
    "        dir_prefix = analysis_dir.rstrip(\".tar.gz\").format(cancer_type, 'B' if cancer_type is 'LAML' else 'P', analysis_date)\n",
    "        tar = tarfile.open(p, \"r:gz\")\n",
    "        lesions_tar = tar.extractfile(tar.getmember(os.path.join(dir_prefix, 'all_lesions.conf_99.txt')))\n",
    "        amp_tar = tar.extractfile(tar.getmember(os.path.join(dir_prefix, 'amp_genes.conf_99.txt')))\n",
    "        del_tar = tar.extractfile(tar.getmember(os.path.join(dir_prefix, 'del_genes.conf_99.txt')))\n",
    "        return get_target_genes_from_gistic(lesions_tar, amp_tar, del_tar)\n",
    "    else:\n",
    "        print (\"Error. Path {} does not exist\".format(p))\n",
    "\n",
    "def extract_targets_all_cancers(root_dir, analysis_date, cancer_types):\n",
    "    result = None\n",
    "    for cancer_type in cancer_types:\n",
    "        m = get_target_genes_per_sample(os.path.join(root_dir, cancer_type, analysis_date), cancer_type, analysis_date)\n",
    "        print (\"For Cancer {}:\".format(cancer_type))\n",
    "        print (\"Found {} genes for {} samples with avg {} mutated genes\".format(m.shape[0], m.shape[1],\n",
    "                                                                                m.sum().sum() / m.shape[1]))\n",
    "        print (\"{0:.2f}% mutations across all samples\".format((m.sum().sum() / np.prod(m.shape))*100))\n",
    "        print (\"-----------------------------------------\")\n",
    "        if result is None:\n",
    "            result = m\n",
    "        else:\n",
    "            result = result.append(m)\n",
    "    result.fillna(0, inplace=True)\n",
    "    return result\n",
    "    \n",
    "date_string = '20160128'\n",
    "cancer_type = 'UVM'\n",
    "root_dir = '/home/sasse/bin/firehose/analyses__2016_01_28/'\n",
    "test_dir = os.path.join('/home/sasse/bin/firehose/analyses__2016_01_28/UVM/', date_string)\n",
    "analysis_dir = 'gdac.broadinstitute.org_{}-TP.CopyNumber_Gistic2.Level_4.{}00.0.0.tar.gz'.format(cancer_type, date_string)\n",
    "#t = get_target_genes_per_sample(test_dir, cancer_type, date_string)\n",
    "cancer_types = ['BLCA', 'BRCA', 'COADREAD', 'GBM', 'HNSC', 'KIRC', 'LAML', 'LUAD', 'LUSC', 'OV', 'UCEC']\n",
    "cna_feature_matrix = extract_targets_all_cancers(root_dir, date_string, cancer_types)"
   ]
  },
  {
   "cell_type": "code",
   "execution_count": 6,
   "metadata": {
    "collapsed": false,
    "scrolled": false
   },
   "outputs": [
    {
     "data": {
      "text/plain": [
       "(7068392.0, (42209, 6057))"
      ]
     },
     "execution_count": 6,
     "metadata": {},
     "output_type": "execute_result"
    }
   ],
   "source": [
    "cna_feature_matrix.sum().sum(), cna_feature_matrix.shape"
   ]
  },
  {
   "cell_type": "code",
   "execution_count": null,
   "metadata": {
    "collapsed": false,
    "scrolled": false
   },
   "outputs": [],
   "source": [
    "cna_feature_matrix.to_csv('../data/cancer/TCGA/firehose_cnas_mean_{}.tsv'.format(date_string), sep='\\t')"
   ]
  },
  {
   "cell_type": "code",
   "execution_count": null,
   "metadata": {
    "collapsed": false
   },
   "outputs": [],
   "source": []
  },
  {
   "cell_type": "code",
   "execution_count": null,
   "metadata": {
    "collapsed": false
   },
   "outputs": [],
   "source": []
  },
  {
   "cell_type": "code",
   "execution_count": null,
   "metadata": {
    "collapsed": false
   },
   "outputs": [],
   "source": []
  },
  {
   "cell_type": "code",
   "execution_count": null,
   "metadata": {
    "collapsed": true
   },
   "outputs": [],
   "source": []
  }
 ],
 "metadata": {
  "kernelspec": {
   "display_name": "Python 3",
   "language": "python",
   "name": "python3"
  },
  "language_info": {
   "codemirror_mode": {
    "name": "ipython",
    "version": 3
   },
   "file_extension": ".py",
   "mimetype": "text/x-python",
   "name": "python",
   "nbconvert_exporter": "python",
   "pygments_lexer": "ipython3",
   "version": "3.6.1"
  }
 },
 "nbformat": 4,
 "nbformat_minor": 2
}
