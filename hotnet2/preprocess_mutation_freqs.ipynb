{
 "cells": [
  {
   "cell_type": "markdown",
   "metadata": {},
   "source": [
    "# Preprocessing of Mutation Frequencies\n",
    "This notebook is devoted to the preprocessing of TCGA mutation frequencies. I will derive a matrix, containing the mutation frequencies per samples (columns) and genes (rows).\n",
    "This matrix will later be the feature matrix used by another notebook to form a hdf5 container."
   ]
  },
  {
   "cell_type": "code",
   "execution_count": 21,
   "metadata": {
    "collapsed": false
   },
   "outputs": [],
   "source": [
    "import pandas as pd\n",
    "import numpy as np\n",
    "import matplotlib.pyplot as plt\n",
    "import seaborn\n",
    "import mygene\n",
    "import h5py\n",
    "%matplotlib inline"
   ]
  },
  {
   "cell_type": "markdown",
   "metadata": {},
   "source": [
    "## Loading high confidence MAF file"
   ]
  },
  {
   "cell_type": "code",
   "execution_count": 2,
   "metadata": {
    "collapsed": false
   },
   "outputs": [],
   "source": [
    "mutations = pd.read_csv('../data/cancer/TCGA/pancan12_cleaned.maf', sep='\\t')"
   ]
  },
  {
   "cell_type": "code",
   "execution_count": 3,
   "metadata": {
    "collapsed": false,
    "scrolled": false
   },
   "outputs": [
    {
     "name": "stdout",
     "output_type": "stream",
     "text": [
      "Found 3277 samples in MAF file\n"
     ]
    }
   ],
   "source": [
    "print (\"Found {} samples in MAF file\".format(mutations.Tumor_Sample_Barcode.nunique()))"
   ]
  },
  {
   "cell_type": "markdown",
   "metadata": {},
   "source": [
    "## Removing Silent Mutations and Hyper-Mutated Samples"
   ]
  },
  {
   "cell_type": "code",
   "execution_count": 4,
   "metadata": {
    "collapsed": false
   },
   "outputs": [
    {
     "name": "stdout",
     "output_type": "stream",
     "text": [
      "Removed 134636 (of 633377) mutations because they are silent\n"
     ]
    }
   ],
   "source": [
    "# remove silent mutations\n",
    "non_silent = mutations[mutations.Variant_Classification != 'Silent']\n",
    "print (\"Removed {} (of {}) mutations because they are silent\".format(mutations.shape[0]-non_silent.shape[0],\n",
    "                                                                     mutations.shape[0]))"
   ]
  },
  {
   "cell_type": "code",
   "execution_count": 5,
   "metadata": {
    "collapsed": false,
    "scrolled": false
   },
   "outputs": [],
   "source": [
    "# remove ultra-mutated samples\n",
    "ultra_mutators = pd.read_csv('../data/cancer/TCGA/ultramutated_tumor_ids', header=None, names=['Tumor_IDs'])\n",
    "mutations_no_ultra = non_silent[~non_silent.Tumor_Sample_Barcode.isin(ultra_mutators.Tumor_IDs)]"
   ]
  },
  {
   "cell_type": "code",
   "execution_count": 6,
   "metadata": {
    "collapsed": false
   },
   "outputs": [
    {
     "name": "stdout",
     "output_type": "stream",
     "text": [
      "Left with 3206 samples after removing 71 hyper-mutated samples\n",
      "--> 315333 Mutations left\n"
     ]
    }
   ],
   "source": [
    "mutations_no_ultra.shape, non_silent.shape\n",
    "no_hyp = ultra_mutators.Tumor_IDs.nunique()\n",
    "left = mutations_no_ultra.Tumor_Sample_Barcode.nunique()\n",
    "print (\"Left with {} samples after removing {} hyper-mutated samples\".format(left, no_hyp))\n",
    "print (\"--> {} Mutations left\".format(mutations_no_ultra.shape[0]))"
   ]
  },
  {
   "cell_type": "markdown",
   "metadata": {},
   "source": [
    "## Removing Genes with not much Gene Expression"
   ]
  },
  {
   "cell_type": "code",
   "execution_count": 7,
   "metadata": {
    "collapsed": false
   },
   "outputs": [
    {
     "name": "stdout",
     "output_type": "stream",
     "text": [
      "Removed 8578 of 20294 genes because of no gene expression. Left with 11716 genes\n",
      "--> 180709 Mutations left\n"
     ]
    }
   ],
   "source": [
    "# all genes in here already have more than 3 reads in more than 30% of tumors of each cancer type\n",
    "ge = pd.read_csv('../data/cancer/TCGA/pancan12_rsem_matrix_tumor_type_means.tsv', sep='\\t')\n",
    "mutations_with_ge = mutations_no_ultra[mutations_no_ultra.Hugo_Symbol.isin(ge['#Gene'])]\n",
    "no_before = mutations_no_ultra.Hugo_Symbol.nunique()\n",
    "no_left = mutations_with_ge.Hugo_Symbol.nunique()\n",
    "no_removed = no_before - no_left\n",
    "print (\"Removed {} of {} genes because of no gene expression. Left with {} genes\".format(no_removed, no_before, no_left))\n",
    "print (\"--> {} Mutations left\".format(mutations_with_ge.shape[0]))"
   ]
  },
  {
   "cell_type": "markdown",
   "metadata": {},
   "source": [
    "## Creating Matrix with Samples (cols) and Genes (rows)"
   ]
  },
  {
   "cell_type": "code",
   "execution_count": 11,
   "metadata": {
    "collapsed": false
   },
   "outputs": [
    {
     "name": "stdout",
     "output_type": "stream",
     "text": [
      "37269724 out of 37444336 elements in matrix are 0\n",
      "--> Only 174612 elements are > 0\n"
     ]
    }
   ],
   "source": [
    "relevant_only = mutations_with_ge[['Hugo_Symbol', 'Tumor_Sample_Barcode']]\n",
    "x = relevant_only.groupby(['Hugo_Symbol', 'Tumor_Sample_Barcode']).size().reset_index().rename(columns={0:'count'})\n",
    "final_matrix = x.pivot(index='Hugo_Symbol', columns='Tumor_Sample_Barcode', values='count')\n",
    "no_nas = final_matrix.isnull().sum().sum()\n",
    "final_matrix.fillna(0, inplace=True)\n",
    "print (\"{} out of {} elements in matrix are 0\".format(no_nas, np.prod(final_matrix.shape)))\n",
    "print (\"--> Only {} elements are > 0\".format(np.prod(final_matrix.shape) - no_nas))"
   ]
  },
  {
   "cell_type": "code",
   "execution_count": 12,
   "metadata": {
    "collapsed": false
   },
   "outputs": [
    {
     "data": {
      "text/plain": [
       "<matplotlib.text.Text at 0x7fac1b8ffa20>"
      ]
     },
     "execution_count": 12,
     "metadata": {},
     "output_type": "execute_result"
    },
    {
     "data": {
      "image/png": "[encoded data removed]",
      "text/plain": [
       "<matplotlib.figure.Figure at 0x7fac0a12d080>"
      ]
     },
     "metadata": {},
     "output_type": "display_data"
    }
   ],
   "source": [
    "ax = final_matrix.mean().plot('hist', bins=np.linspace(0, .1, 700), figsize=(14, 8))\n",
    "ax.set_ylabel('Number of Samples', fontsize=15)\n",
    "ax.set_title('Distribution of Mutation Frequencies', fontsize=20)\n",
    "ax.set_xlabel('Mutation Frequency', fontsize=15)"
   ]
  },
  {
   "cell_type": "code",
   "execution_count": 13,
   "metadata": {
    "collapsed": false
   },
   "outputs": [],
   "source": [
    "final_matrix.to_csv('../data/cancer/TCGA/mut_freqs_samples.tsv', sep='\\t')"
   ]
  },
  {
   "cell_type": "markdown",
   "metadata": {},
   "source": [
    "## Convert Gene Names to Ensembl IDs"
   ]
  },
  {
   "cell_type": "code",
   "execution_count": null,
   "metadata": {
    "collapsed": false
   },
   "outputs": [],
   "source": []
  },
  {
   "cell_type": "code",
   "execution_count": 27,
   "metadata": {
    "collapsed": false
   },
   "outputs": [
    {
     "name": "stdout",
     "output_type": "stream",
     "text": [
      "querying 1-1000...done.\n",
      "querying 1001-2000...done.\n",
      "querying 2001-3000...done.\n",
      "querying 3001-4000...done.\n",
      "querying 4001-5000...done.\n",
      "querying 5001-6000...done.\n",
      "querying 6001-7000...done.\n",
      "querying 7001-8000...done.\n",
      "querying 8001-9000...done.\n",
      "querying 9001-10000...done.\n",
      "querying 10001-11000...done.\n",
      "querying 11001-11716...done.\n",
      "Finished.\n",
      "79 input query terms found dup hits:\n",
      "\t[('ANKRD19P', 2), ('ANKRD20A9P', 3), ('ANKRD36', 2), ('ASMTL-AS1', 2), ('BMS1P4', 2), ('C10orf25', 2\n",
      "498 input query terms found no hit:\n",
      "\t['ABP1', 'ACN9', 'ACPL2', 'ACRC', 'ADC', 'ADCK3', 'ADCK4', 'ADRBK1', 'ADRBK2', 'AGAP8', 'AGPAT6', 'A\n"
     ]
    }
   ],
   "source": [
    "# use mygene to get ensembl IDs from Hugo Symbols\n",
    "mg = mygene.MyGeneInfo()\n",
    "res = mg.querymany(final_matrix.index,\n",
    "                   scopes='symbol',\n",
    "                   fields='ensembl.gene, symbol',\n",
    "                   species='human', returnall=True\n",
    "                  )\n",
    "\n",
    "# now, retrieve the names and IDs from a dictionary and put in DF\n",
    "def get_name_and_id(x):\n",
    "    ens_id = x['ensembl'][0]['gene'] if type(x['ensembl']) is list else x['ensembl']['gene']\n",
    "    name = x['symbol']\n",
    "    query = x['query']\n",
    "    assert (name == query)\n",
    "    return [ens_id, name]\n",
    "\n",
    "ens_ids = [get_name_and_id(x) for x in res['out'] if 'ensembl' in x]\n",
    "mapping = pd.DataFrame(ens_ids, columns=['Ensembl_ID', 'Name'])\n",
    "mapping.set_index('Name', inplace=True)\n",
    "mapping = mapping[~mapping.index.duplicated(keep='first')]\n",
    "\n",
    "# join mutation frequencies with our derived mapping\n",
    "mut_freq_sample = final_matrix.join(mapping)\n",
    "print (\"{} (of {}) genes had no mapping Ensembl ID\".format(mut_freq_sample.Ensembl_ID.isnull().sum(),\n",
    "                                                           mut_freq_sample.shape[0]))\n",
    "mut_freq_sample.dropna(inplace=True) # remove unmapped genes simply\n",
    "\n",
    "# make Ensembl ID the index and move Hugo Symbols to column\n",
    "mut_freq_sample['Name'] = mut_freq_sample.index\n",
    "mut_freq_sample.set_index('Ensembl_ID', inplace=True)"
   ]
  },
  {
   "cell_type": "code",
   "execution_count": null,
   "metadata": {
    "collapsed": false
   },
   "outputs": [],
   "source": []
  },
  {
   "cell_type": "markdown",
   "metadata": {},
   "source": [
    "## Mean Across Cancer Types"
   ]
  },
  {
   "cell_type": "code",
   "execution_count": 41,
   "metadata": {
    "collapsed": false
   },
   "outputs": [],
   "source": [
    "samples_to_cancer_types = pd.read_csv('../data/cancer/TCGA/pancan12_tumor_ids.tsv', sep='\\t', header=None,\n",
    "                                     names=['sample', 'cancer_type'])\n",
    "samples_to_cancer_types.set_index('sample', inplace=True)"
   ]
  },
  {
   "cell_type": "code",
   "execution_count": 45,
   "metadata": {
    "collapsed": false
   },
   "outputs": [],
   "source": [
    "no_names = mut_freq_sample.drop('Name', axis=1)\n",
    "matrix_with_cancer_types = no_names.T.join(samples_to_cancer_types)\n",
    "mean_mut_freqs = matrix_with_cancer_types.groupby('cancer_type').mean().T\n",
    "mean_mut_freqs.to_csv('../data/cancer/TCGA/mean_mut_freqs_cancer_types.tsv', sep='\\t')"
   ]
  },
  {
   "cell_type": "code",
   "execution_count": 46,
   "metadata": {
    "collapsed": false
   },
   "outputs": [
    {
     "data": {
      "text/plain": [
       "<matplotlib.text.Text at 0x7fabcb6dc7f0>"
      ]
     },
     "execution_count": 46,
     "metadata": {},
     "output_type": "execute_result"
    },
    {
     "data": {
      "image/png": "[encoded data removed]",
      "text/plain": [
       "<matplotlib.figure.Figure at 0x7fabcb9f7a90>"
      ]
     },
     "metadata": {},
     "output_type": "display_data"
    }
   ],
   "source": [
    "ax = mean_mut_freqs.plot.box(figsize=(14, 8), ylim=[-.01, .06], fontsize=13)\n",
    "ax.set_ylabel('Mean Frequency Across Samples', fontsize=20)\n",
    "ax.set_title('Mutation Frequencies Across Cancer Types', fontsize=20)"
   ]
  },
  {
   "cell_type": "code",
   "execution_count": 49,
   "metadata": {
    "collapsed": false
   },
   "outputs": [
    {
     "data": {
      "text/html": [
       "<div>\n",
       "<table border=\"1\" class=\"dataframe\">\n",
       "  <thead>\n",
       "    <tr style=\"text-align: right;\">\n",
       "      <th>cancer_type</th>\n",
       "      <th>blca</th>\n",
       "      <th>brca</th>\n",
       "      <th>coadread</th>\n",
       "      <th>gbm</th>\n",
       "      <th>hnsc</th>\n",
       "      <th>kirc</th>\n",
       "      <th>laml</th>\n",
       "      <th>luad</th>\n",
       "      <th>lusc</th>\n",
       "      <th>ov</th>\n",
       "      <th>ucec</th>\n",
       "    </tr>\n",
       "  </thead>\n",
       "  <tbody>\n",
       "    <tr>\n",
       "      <th>count</th>\n",
       "      <td>11217.000000</td>\n",
       "      <td>11217.000000</td>\n",
       "      <td>11217.000000</td>\n",
       "      <td>11217.000000</td>\n",
       "      <td>11217.000000</td>\n",
       "      <td>11217.000000</td>\n",
       "      <td>11217.000000</td>\n",
       "      <td>11217.000000</td>\n",
       "      <td>11217.000000</td>\n",
       "      <td>11217.000000</td>\n",
       "      <td>11217.000000</td>\n",
       "    </tr>\n",
       "    <tr>\n",
       "      <th>mean</th>\n",
       "      <td>0.012519</td>\n",
       "      <td>0.002295</td>\n",
       "      <td>0.004001</td>\n",
       "      <td>0.002627</td>\n",
       "      <td>0.006790</td>\n",
       "      <td>0.003175</td>\n",
       "      <td>0.000536</td>\n",
       "      <td>0.011714</td>\n",
       "      <td>0.011614</td>\n",
       "      <td>0.002511</td>\n",
       "      <td>0.008819</td>\n",
       "    </tr>\n",
       "    <tr>\n",
       "      <th>std</th>\n",
       "      <td>0.021653</td>\n",
       "      <td>0.006001</td>\n",
       "      <td>0.014749</td>\n",
       "      <td>0.007225</td>\n",
       "      <td>0.014415</td>\n",
       "      <td>0.007763</td>\n",
       "      <td>0.005211</td>\n",
       "      <td>0.021204</td>\n",
       "      <td>0.023742</td>\n",
       "      <td>0.009920</td>\n",
       "      <td>0.017285</td>\n",
       "    </tr>\n",
       "    <tr>\n",
       "      <th>min</th>\n",
       "      <td>0.000000</td>\n",
       "      <td>0.000000</td>\n",
       "      <td>0.000000</td>\n",
       "      <td>0.000000</td>\n",
       "      <td>0.000000</td>\n",
       "      <td>0.000000</td>\n",
       "      <td>0.000000</td>\n",
       "      <td>0.000000</td>\n",
       "      <td>0.000000</td>\n",
       "      <td>0.000000</td>\n",
       "      <td>0.000000</td>\n",
       "    </tr>\n",
       "    <tr>\n",
       "      <th>25%</th>\n",
       "      <td>0.000000</td>\n",
       "      <td>0.000000</td>\n",
       "      <td>0.000000</td>\n",
       "      <td>0.000000</td>\n",
       "      <td>0.000000</td>\n",
       "      <td>0.000000</td>\n",
       "      <td>0.000000</td>\n",
       "      <td>0.004405</td>\n",
       "      <td>0.000000</td>\n",
       "      <td>0.000000</td>\n",
       "      <td>0.000000</td>\n",
       "    </tr>\n",
       "    <tr>\n",
       "      <th>50%</th>\n",
       "      <td>0.010204</td>\n",
       "      <td>0.001311</td>\n",
       "      <td>0.000000</td>\n",
       "      <td>0.000000</td>\n",
       "      <td>0.003322</td>\n",
       "      <td>0.002398</td>\n",
       "      <td>0.000000</td>\n",
       "      <td>0.008811</td>\n",
       "      <td>0.005747</td>\n",
       "      <td>0.000000</td>\n",
       "      <td>0.004348</td>\n",
       "    </tr>\n",
       "    <tr>\n",
       "      <th>75%</th>\n",
       "      <td>0.020408</td>\n",
       "      <td>0.002621</td>\n",
       "      <td>0.005181</td>\n",
       "      <td>0.003448</td>\n",
       "      <td>0.009967</td>\n",
       "      <td>0.004796</td>\n",
       "      <td>0.000000</td>\n",
       "      <td>0.013216</td>\n",
       "      <td>0.017241</td>\n",
       "      <td>0.003165</td>\n",
       "      <td>0.013043</td>\n",
       "    </tr>\n",
       "    <tr>\n",
       "      <th>max</th>\n",
       "      <td>1.102041</td>\n",
       "      <td>0.369594</td>\n",
       "      <td>1.108808</td>\n",
       "      <td>0.341379</td>\n",
       "      <td>0.837209</td>\n",
       "      <td>0.561151</td>\n",
       "      <td>0.304813</td>\n",
       "      <td>1.392070</td>\n",
       "      <td>1.729885</td>\n",
       "      <td>0.955696</td>\n",
       "      <td>0.986957</td>\n",
       "    </tr>\n",
       "  </tbody>\n",
       "</table>\n",
       "</div>"
      ],
      "text/plain": [
       "cancer_type          blca          brca      coadread           gbm  \\\n",
       "count        11217.000000  11217.000000  11217.000000  11217.000000   \n",
       "mean             0.012519      0.002295      0.004001      0.002627   \n",
       "std              0.021653      0.006001      0.014749      0.007225   \n",
       "min              0.000000      0.000000      0.000000      0.000000   \n",
       "25%              0.000000      0.000000      0.000000      0.000000   \n",
       "50%              0.010204      0.001311      0.000000      0.000000   \n",
       "75%              0.020408      0.002621      0.005181      0.003448   \n",
       "max              1.102041      0.369594      1.108808      0.341379   \n",
       "\n",
       "cancer_type          hnsc          kirc          laml          luad  \\\n",
       "count        11217.000000  11217.000000  11217.000000  11217.000000   \n",
       "mean             0.006790      0.003175      0.000536      0.011714   \n",
       "std              0.014415      0.007763      0.005211      0.021204   \n",
       "min              0.000000      0.000000      0.000000      0.000000   \n",
       "25%              0.000000      0.000000      0.000000      0.004405   \n",
       "50%              0.003322      0.002398      0.000000      0.008811   \n",
       "75%              0.009967      0.004796      0.000000      0.013216   \n",
       "max              0.837209      0.561151      0.304813      1.392070   \n",
       "\n",
       "cancer_type          lusc            ov          ucec  \n",
       "count        11217.000000  11217.000000  11217.000000  \n",
       "mean             0.011614      0.002511      0.008819  \n",
       "std              0.023742      0.009920      0.017285  \n",
       "min              0.000000      0.000000      0.000000  \n",
       "25%              0.000000      0.000000      0.000000  \n",
       "50%              0.005747      0.000000      0.004348  \n",
       "75%              0.017241      0.003165      0.013043  \n",
       "max              1.729885      0.955696      0.986957  "
      ]
     },
     "execution_count": 49,
     "metadata": {},
     "output_type": "execute_result"
    }
   ],
   "source": [
    "mean_mut_freqs.describe()"
   ]
  },
  {
   "cell_type": "markdown",
   "metadata": {},
   "source": [
    "## Put Feature Matrices into HDF5 Container"
   ]
  },
  {
   "cell_type": "code",
   "execution_count": 50,
   "metadata": {
    "collapsed": true
   },
   "outputs": [],
   "source": [
    "# load Container\n",
    "data_file = '../data/cancer/hotnet_iref_vec_input_unbalanced.h5'\n",
    "\n",
    "with h5py.File(data_file, 'r') as f:\n",
    "    network = f['network'][:]\n",
    "    features = f['features'][:]\n",
    "    node_names = f['gene_names'][:]\n",
    "    y_train = f['y_train'][:]\n",
    "    y_test = f['y_test'][:]\n",
    "    if 'y_val' in f:\n",
    "        y_val = f['y_val'][:]\n",
    "    else:\n",
    "        y_val = None\n",
    "    train_mask = f['mask_train'][:]\n",
    "    test_mask = f['mask_test'][:]\n",
    "    if 'mask_val' in f:\n",
    "        val_mask = f['mask_val'][:]\n",
    "    else:\n",
    "        val_mask = None"
   ]
  },
  {
   "cell_type": "code",
   "execution_count": 91,
   "metadata": {
    "collapsed": false
   },
   "outputs": [
    {
     "name": "stdout",
     "output_type": "stream",
     "text": [
      "3725 out of 12129 nodes don't have any gene expression\n",
      "--> left with valid scores for 8404 genes\n"
     ]
    }
   ],
   "source": [
    "# first, bring node names to DF\n",
    "nodes_df = pd.DataFrame(node_names, columns=['ensembl_id', 'name'])\n",
    "nodes_df.set_index('ensembl_id', inplace=True)\n",
    "\n",
    "# clean mutation frequencies from genes which are not in network\n",
    "mutfreq_in_network = mut_freq_sample[mut_freq_sample.index.isin(nodes_df.index)]\n",
    "mean_mutfreq_in_network = mean_mut_freqs[mean_mut_freqs.index.isin(nodes_df.index)]\n",
    "\n",
    "# remove duplicates in index\n",
    "mutfreq_in_network = mutfreq_in_network[~mutfreq_in_network.index.duplicated(keep='first')]\n",
    "mean_mutfreq_in_network = mean_mutfreq_in_network[~mean_mutfreq_in_network.index.duplicated(keep='first')]\n",
    "\n",
    "# build feature matrix using reindexing\n",
    "features_df = mutfreq_in_network.reindex(index=nodes_df.index)\n",
    "features_df_mean = mean_mutfreq_in_network.reindex(index=nodes_df.index)\n",
    "\n",
    "num_of_zero_nodes = features_df.isnull().any(axis=1).sum()\n",
    "print (\"{} out of {} nodes don't have any gene expression\".format(num_of_zero_nodes, network.shape[0]))\n",
    "print (\"--> left with valid scores for {} genes\".format(network.shape[0]-num_of_zero_nodes))\n",
    "\n",
    "# put 0 for missing data and remove name columns\n",
    "features_df.fillna(0, inplace=True)\n",
    "features_df.drop('Name', axis=1, inplace=True)\n",
    "features_df_mean.fillna(0, inplace=True)"
   ]
  },
  {
   "cell_type": "code",
   "execution_count": null,
   "metadata": {
    "collapsed": false
   },
   "outputs": [],
   "source": []
  },
  {
   "cell_type": "code",
   "execution_count": 97,
   "metadata": {
    "collapsed": false
   },
   "outputs": [
    {
     "name": "stdout",
     "output_type": "stream",
     "text": [
      "Container written to ../data/cancer/mutfreq_iref_unbalanced.h5\n"
     ]
    }
   ],
   "source": [
    "features = features_df.as_matrix()\n",
    "features_mean = features_df_mean.as_matrix()\n",
    "\n",
    "string_dt = h5py.special_dtype(vlen=str)\n",
    "\n",
    "# determine file name by parameters\n",
    "fname = '../data/cancer/mutfreq_iref_unbalanced.h5'\n",
    "f = h5py.File(fname, 'w')\n",
    "\n",
    "# add ppi network\n",
    "f.create_dataset('network', data=network, shape=network.shape)\n",
    "\n",
    "# add features\n",
    "f.create_dataset('features', data=features, shape=features.shape)\n",
    "f.create_dataset('features_mean', data=features_mean, shape=features_mean.shape)\n",
    "\n",
    "# add gene names (same order as features & network)\n",
    "f.create_dataset('gene_names', data=node_names, dtype=string_dt)\n",
    "# add labels\n",
    "f.create_dataset('y_train', data=y_train, shape=y_train.shape)\n",
    "f.create_dataset('y_test', data=y_test, shape=y_test.shape)\n",
    "if y_val is not None:\n",
    "    f.create_dataset('y_val', data=y_val, shape=y_val.shape)\n",
    "\n",
    "f.create_dataset('mask_train', data=train_mask, shape=train_mask.shape)\n",
    "f.create_dataset('mask_test', data=test_mask, shape=test_mask.shape)\n",
    "if y_val is not None:\n",
    "    f.create_dataset('mask_val', data=val_mask, shape=val_mask.shape)\n",
    "f.close()\n",
    "print (\"Container written to {}\".format(fname))"
   ]
  },
  {
   "cell_type": "code",
   "execution_count": 95,
   "metadata": {
    "collapsed": true
   },
   "outputs": [],
   "source": [
    "f.close()"
   ]
  },
  {
   "cell_type": "code",
   "execution_count": 96,
   "metadata": {
    "collapsed": false
   },
   "outputs": [
    {
     "data": {
      "text/plain": [
       "(dtype('float64'), dtype('float64'))"
      ]
     },
     "execution_count": 96,
     "metadata": {},
     "output_type": "execute_result"
    }
   ],
   "source": [
    "features.dtype, features_mean.dtype"
   ]
  },
  {
   "cell_type": "code",
   "execution_count": null,
   "metadata": {
    "collapsed": true
   },
   "outputs": [],
   "source": []
  }
 ],
 "metadata": {
  "kernelspec": {
   "display_name": "Python 3",
   "language": "python",
   "name": "python3"
  },
  "language_info": {
   "codemirror_mode": {
    "name": "ipython",
    "version": 3
   },
   "file_extension": ".py",
   "mimetype": "text/x-python",
   "name": "python",
   "nbconvert_exporter": "python",
   "pygments_lexer": "ipython3",
   "version": "3.6.1"
  }
 },
 "nbformat": 4,
 "nbformat_minor": 2
}
