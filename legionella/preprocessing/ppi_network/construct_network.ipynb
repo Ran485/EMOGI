{
 "cells": [
  {
   "cell_type": "markdown",
   "metadata": {
    "deletable": true,
    "editable": true
   },
   "source": [
    "# Prepare PPI Network\n",
    "In this notebook, I want to collect the protein-protein-interaction (PPI) network from ConsensusPathDB and preprocess it.\n",
    "The preprocessing contains the following steps:\n",
    "* Filter out \"complex\" interactions (more than two partners)\n",
    "* Filter out interactions with score < 0.5\n",
    "* Map the strange uniprot gene names to ENSEMBL IDs (either protein IDs or gene IDs)\n",
    "* Convert the resulting edgelist to an adjacency matrix\n",
    "* Export the edgelist to .sif (can be read by cytoscape directly)"
   ]
  },
  {
   "cell_type": "code",
   "execution_count": 1,
   "metadata": {
    "collapsed": false,
    "deletable": true,
    "editable": true
   },
   "outputs": [],
   "source": [
    "import pandas as pd\n",
    "import numpy as np\n",
    "import matplotlib.pyplot as plt\n",
    "import mygene\n",
    "import h5py\n",
    "%matplotlib inline"
   ]
  },
  {
   "cell_type": "code",
   "execution_count": 2,
   "metadata": {
    "collapsed": false,
    "deletable": true,
    "editable": true
   },
   "outputs": [],
   "source": [
    "def save_sif(edgelist, outfile):\n",
    "    print (\"Saving edgelist to {}\".format(outfile))\n",
    "    with open(outfile, 'w') as out:\n",
    "        for idx, row in edgelist.iterrows():\n",
    "            out.write('{} (interacts) {}\\n'.format(row.partner1, row.partner2))\n",
    "    print (\".sif successfully saved!\")"
   ]
  },
  {
   "cell_type": "markdown",
   "metadata": {
    "deletable": true,
    "editable": true
   },
   "source": [
    "## Get  all interactions\n",
    "Now I want to load all the interactions and build an edgelist from them. Once I have that edgelist, I can construct an adjacency matrix from it."
   ]
  },
  {
   "cell_type": "code",
   "execution_count": 3,
   "metadata": {
    "collapsed": false,
    "deletable": true,
    "editable": true
   },
   "outputs": [
    {
     "data": {
      "text/html": [
       "<div>\n",
       "<table border=\"1\" class=\"dataframe\">\n",
       "  <thead>\n",
       "    <tr style=\"text-align: right;\">\n",
       "      <th></th>\n",
       "      <th>interaction_publications</th>\n",
       "      <th>interaction_participants</th>\n",
       "      <th>interaction_confidence</th>\n",
       "    </tr>\n",
       "    <tr>\n",
       "      <th>#  source_databases</th>\n",
       "      <th></th>\n",
       "      <th></th>\n",
       "      <th></th>\n",
       "    </tr>\n",
       "  </thead>\n",
       "  <tbody>\n",
       "    <tr>\n",
       "      <th>Spike,PhosphoPOINT,Biogrid,HPRD,Reactome</th>\n",
       "      <td>1660465,16713569,12547834</td>\n",
       "      <td>ANF_HUMAN,ANPRA_HUMAN</td>\n",
       "      <td>0.026242</td>\n",
       "    </tr>\n",
       "    <tr>\n",
       "      <th>Biogrid,HPRD,Reactome,PhosphoPOINT</th>\n",
       "      <td>12709393,1672777,1309330,1660465</td>\n",
       "      <td>ANFC_HUMAN,ANPRB_HUMAN</td>\n",
       "      <td>0.008239</td>\n",
       "    </tr>\n",
       "    <tr>\n",
       "      <th>DIP,Reactome</th>\n",
       "      <td>22210847,17486119,21408196,16906149,19897728</td>\n",
       "      <td>STIM1_HUMAN,TRPC1_HUMAN</td>\n",
       "      <td>0.998803</td>\n",
       "    </tr>\n",
       "    <tr>\n",
       "      <th>Reactome,HPRD</th>\n",
       "      <td>11591728</td>\n",
       "      <td>AT2B4_HUMAN,NOS1_HUMAN</td>\n",
       "      <td>0.798424</td>\n",
       "    </tr>\n",
       "    <tr>\n",
       "      <th>Reactome,HPRD,BIND,MIPS-MPPI,IntAct</th>\n",
       "      <td>10093054,23587463</td>\n",
       "      <td>KCJ11_HUMAN,ABCC9_HUMAN</td>\n",
       "      <td>0.999998</td>\n",
       "    </tr>\n",
       "  </tbody>\n",
       "</table>\n",
       "</div>"
      ],
      "text/plain": [
       "                                                              interaction_publications  \\\n",
       "#  source_databases                                                                      \n",
       "Spike,PhosphoPOINT,Biogrid,HPRD,Reactome                     1660465,16713569,12547834   \n",
       "Biogrid,HPRD,Reactome,PhosphoPOINT                    12709393,1672777,1309330,1660465   \n",
       "DIP,Reactome                              22210847,17486119,21408196,16906149,19897728   \n",
       "Reactome,HPRD                                                                 11591728   \n",
       "Reactome,HPRD,BIND,MIPS-MPPI,IntAct                                  10093054,23587463   \n",
       "\n",
       "                                         interaction_participants  \\\n",
       "#  source_databases                                                 \n",
       "Spike,PhosphoPOINT,Biogrid,HPRD,Reactome    ANF_HUMAN,ANPRA_HUMAN   \n",
       "Biogrid,HPRD,Reactome,PhosphoPOINT         ANFC_HUMAN,ANPRB_HUMAN   \n",
       "DIP,Reactome                              STIM1_HUMAN,TRPC1_HUMAN   \n",
       "Reactome,HPRD                              AT2B4_HUMAN,NOS1_HUMAN   \n",
       "Reactome,HPRD,BIND,MIPS-MPPI,IntAct       KCJ11_HUMAN,ABCC9_HUMAN   \n",
       "\n",
       "                                          interaction_confidence  \n",
       "#  source_databases                                               \n",
       "Spike,PhosphoPOINT,Biogrid,HPRD,Reactome                0.026242  \n",
       "Biogrid,HPRD,Reactome,PhosphoPOINT                      0.008239  \n",
       "DIP,Reactome                                            0.998803  \n",
       "Reactome,HPRD                                           0.798424  \n",
       "Reactome,HPRD,BIND,MIPS-MPPI,IntAct                     0.999998  "
      ]
     },
     "execution_count": 3,
     "metadata": {},
     "output_type": "execute_result"
    }
   ],
   "source": [
    "interactions = pd.DataFrame.from_csv('../../data/networks/ConsensusPathDB_human_PPI.csv',\n",
    "                                     header=1,\n",
    "                                     sep='\\t',\n",
    "                                     encoding='utf8'\n",
    "                                    )\n",
    "interactions_nona = interactions.dropna()\n",
    "interactions_nona.head()"
   ]
  },
  {
   "cell_type": "code",
   "execution_count": 4,
   "metadata": {
    "collapsed": false,
    "deletable": true,
    "editable": true
   },
   "outputs": [
    {
     "data": {
      "text/plain": [
       "<matplotlib.text.Text at 0x7fa0fa011ba8>"
      ]
     },
     "execution_count": 4,
     "metadata": {},
     "output_type": "execute_result"
    },
    {
     "data": {
      "image/png": "[encoded data removed]",
      "text/plain": [
       "<matplotlib.figure.Figure at 0x7fa0fa27f208>"
      ]
     },
     "metadata": {},
     "output_type": "display_data"
    }
   ],
   "source": [
    "bins = np.linspace(0, 1, 200)\n",
    "fig = plt.figure(figsize=(14, 8))\n",
    "ax = plt.hist(interactions_nona.interaction_confidence, bins)\n",
    "plt.xlabel('Interaction Score')\n",
    "plt.ylabel('Frequency')\n",
    "plt.title('Interaction Score Distribution')"
   ]
  },
  {
   "cell_type": "markdown",
   "metadata": {
    "deletable": true,
    "editable": true
   },
   "source": [
    "## Remove \"complex\" interactions & low confidence"
   ]
  },
  {
   "cell_type": "code",
   "execution_count": 5,
   "metadata": {
    "collapsed": false,
    "deletable": true,
    "editable": true
   },
   "outputs": [
    {
     "data": {
      "text/html": [
       "<div>\n",
       "<table border=\"1\" class=\"dataframe\">\n",
       "  <thead>\n",
       "    <tr style=\"text-align: right;\">\n",
       "      <th></th>\n",
       "      <th>partner1</th>\n",
       "      <th>partner2</th>\n",
       "      <th>confidence</th>\n",
       "    </tr>\n",
       "  </thead>\n",
       "  <tbody>\n",
       "    <tr>\n",
       "      <th>0</th>\n",
       "      <td>ANF_HUMAN</td>\n",
       "      <td>ANPRA_HUMAN</td>\n",
       "      <td>0.026242</td>\n",
       "    </tr>\n",
       "    <tr>\n",
       "      <th>1</th>\n",
       "      <td>ANFC_HUMAN</td>\n",
       "      <td>ANPRB_HUMAN</td>\n",
       "      <td>0.008239</td>\n",
       "    </tr>\n",
       "    <tr>\n",
       "      <th>2</th>\n",
       "      <td>STIM1_HUMAN</td>\n",
       "      <td>TRPC1_HUMAN</td>\n",
       "      <td>0.998803</td>\n",
       "    </tr>\n",
       "    <tr>\n",
       "      <th>3</th>\n",
       "      <td>AT2B4_HUMAN</td>\n",
       "      <td>NOS1_HUMAN</td>\n",
       "      <td>0.798424</td>\n",
       "    </tr>\n",
       "    <tr>\n",
       "      <th>4</th>\n",
       "      <td>KCJ11_HUMAN</td>\n",
       "      <td>ABCC9_HUMAN</td>\n",
       "      <td>0.999998</td>\n",
       "    </tr>\n",
       "  </tbody>\n",
       "</table>\n",
       "</div>"
      ],
      "text/plain": [
       "      partner1     partner2  confidence\n",
       "0    ANF_HUMAN  ANPRA_HUMAN    0.026242\n",
       "1   ANFC_HUMAN  ANPRB_HUMAN    0.008239\n",
       "2  STIM1_HUMAN  TRPC1_HUMAN    0.998803\n",
       "3  AT2B4_HUMAN   NOS1_HUMAN    0.798424\n",
       "4  KCJ11_HUMAN  ABCC9_HUMAN    0.999998"
      ]
     },
     "execution_count": 5,
     "metadata": {},
     "output_type": "execute_result"
    }
   ],
   "source": [
    "# select interactions with exactly two partners\n",
    "binary_inter = interactions_nona[interactions_nona.interaction_participants.str.count(',') == 1]\n",
    "# split the interactions columns into interaction partners\n",
    "edgelist = pd.concat([binary_inter.interaction_participants.str.split(',', expand=True),\n",
    "                                binary_inter.interaction_confidence], axis=1\n",
    "                              )\n",
    "# make the dataframe beautiful\n",
    "edgelist.set_index([np.arange(edgelist.shape[0])], inplace=True)\n",
    "edgelist.columns = ['partner1', 'partner2', 'confidence']\n",
    "edgelist.to_csv('../../data/networks/CPDB_uni_edgelist.tsv', sep='\\t')\n",
    "\n",
    "# select interactions with confidence score above threshold\n",
    "high_conf_edgelist = edgelist[edgelist.confidence > .5]\n",
    "\n",
    "edgelist.head()"
   ]
  },
  {
   "cell_type": "code",
   "execution_count": 13,
   "metadata": {
    "collapsed": false,
    "deletable": true,
    "editable": true
   },
   "outputs": [
    {
     "data": {
      "text/plain": [
       "((291415, 3), (272744, 3), (272744, 3), (178345, 3))"
      ]
     },
     "execution_count": 13,
     "metadata": {},
     "output_type": "execute_result"
    }
   ],
   "source": [
    "interactions.shape, interactions_nona.shape, edgelist.shape, high_conf_edgelist.shape"
   ]
  },
  {
   "cell_type": "markdown",
   "metadata": {
    "deletable": true,
    "editable": true
   },
   "source": [
    "## Map from Uniprot Name to Ensembl ID\n",
    "This is not simple at all. We have to write both columns with the interaction partners to file and then use the uniprot webservice (http://www.uniprot.org/mapping/) to do the mapping. The resulting csv files then have to be read again to form the correct edgelist for us."
   ]
  },
  {
   "cell_type": "code",
   "execution_count": 33,
   "metadata": {
    "collapsed": false,
    "deletable": true,
    "editable": true,
    "scrolled": true
   },
   "outputs": [],
   "source": [
    "# write involved uniprot names to file\n",
    "uniprot_names = edgelist.partner1.append(edgelist.partner2).unique()\n",
    "np.savetxt('../../data/networks/uniprot_names.txt', uniprot_names, fmt='%s')"
   ]
  },
  {
   "cell_type": "code",
   "execution_count": 50,
   "metadata": {
    "collapsed": false,
    "deletable": true,
    "editable": true
   },
   "outputs": [
    {
     "name": "stdout",
     "output_type": "stream",
     "text": [
      "We were unable to map 0 source and 0 target genes.\n",
      "We lost 0 interactions this way.\n",
      "Final edge list has 218372 interactions\n"
     ]
    },
    {
     "data": {
      "text/html": [
       "<div>\n",
       "<table border=\"1\" class=\"dataframe\">\n",
       "  <thead>\n",
       "    <tr style=\"text-align: right;\">\n",
       "      <th></th>\n",
       "      <th>partner1</th>\n",
       "      <th>partner2</th>\n",
       "      <th>confidence</th>\n",
       "    </tr>\n",
       "  </thead>\n",
       "  <tbody>\n",
       "    <tr>\n",
       "      <th>2</th>\n",
       "      <td>ENSG00000167323</td>\n",
       "      <td>ENSG00000144935</td>\n",
       "      <td>0.998803</td>\n",
       "    </tr>\n",
       "    <tr>\n",
       "      <th>3</th>\n",
       "      <td>ENSG00000058668</td>\n",
       "      <td>ENSG00000089250</td>\n",
       "      <td>0.798424</td>\n",
       "    </tr>\n",
       "    <tr>\n",
       "      <th>4</th>\n",
       "      <td>ENSG00000187486</td>\n",
       "      <td>ENSG00000069431</td>\n",
       "      <td>0.999998</td>\n",
       "    </tr>\n",
       "    <tr>\n",
       "      <th>5</th>\n",
       "      <td>ENSG00000084754</td>\n",
       "      <td>ENSG00000138029</td>\n",
       "      <td>1.000000</td>\n",
       "    </tr>\n",
       "    <tr>\n",
       "      <th>6</th>\n",
       "      <td>ENSG00000153767</td>\n",
       "      <td>ENSG00000197265</td>\n",
       "      <td>0.999970</td>\n",
       "    </tr>\n",
       "  </tbody>\n",
       "</table>\n",
       "</div>"
      ],
      "text/plain": [
       "          partner1         partner2  confidence\n",
       "2  ENSG00000167323  ENSG00000144935    0.998803\n",
       "3  ENSG00000058668  ENSG00000089250    0.798424\n",
       "4  ENSG00000187486  ENSG00000069431    0.999998\n",
       "5  ENSG00000084754  ENSG00000138029    1.000000\n",
       "6  ENSG00000153767  ENSG00000197265    0.999970"
      ]
     },
     "execution_count": 50,
     "metadata": {},
     "output_type": "execute_result"
    }
   ],
   "source": [
    "# Build a uniprot mapping manually using the webservice :-(\n",
    "# load the mapped partners\n",
    "mapping = pd.read_csv('../../data/networks/uniprot_ensg_mapping.tsv',\n",
    "                              sep='\\t',\n",
    "                              header=0,\n",
    "                              names=['ensembl']\n",
    "                             )\n",
    "\n",
    "# get them into our dataframe (size increases because of duplicates in mapping)\n",
    "# that is, one uniprot gene name has multiple ensembl gene names, hence we have to add those interactions\n",
    "p1_incl = high_conf_edgelist.join(mapping, on='partner1', how='inner', rsuffix='_p1')\n",
    "both_incl = p1_incl.join(mapping, on='partner2', how='inner', rsuffix='_p2')\n",
    "both_incl.columns = ['partner1', 'partner2', 'confidence', 'partner1_ensembl', 'partner2_ensembl']\n",
    "\n",
    "# collect statistics on how many interactions we lost\n",
    "num_unmaps = both_incl[both_incl.partner1_ensembl.isnull() | both_incl.partner2_ensembl.isnull()].shape[0]\n",
    "num_p1_unmaps = p1_incl[p1_incl.ensembl.isnull()].partner1.unique().shape[0]\n",
    "num_p2_unmaps = both_incl[both_incl.partner2_ensembl.isnull()].partner2.unique().shape[0]\n",
    "print (\"We were unable to map {} source and {} target genes.\".format(num_p1_unmaps, num_p2_unmaps))\n",
    "print (\"We lost {} interactions this way.\".format(num_unmaps))\n",
    "\n",
    "# kick out the NaNs and remove uniprot names (hate them)\n",
    "final_edgelist = both_incl.dropna(axis=0)\n",
    "final_edgelist.drop(['partner1', 'partner2'], axis=1, inplace=True)\n",
    "print (\"Final edge list has {} interactions\".format(final_edgelist.shape[0]))\n",
    "\n",
    "# sort by number and put confidence at last and rename columns\n",
    "final_edgelist.sort_index(inplace=True)\n",
    "cols = final_edgelist.columns.tolist()\n",
    "cols = cols[1:] + [cols[0]]\n",
    "final_edgelist = final_edgelist[cols]\n",
    "final_edgelist.columns = ['partner1', 'partner2', 'confidence']\n",
    "\n",
    "# write to file and look at the first rows\n",
    "final_edgelist.to_csv('../../data/networks/CPDB_ensg_edgelist.tsv', sep='\\t')\n",
    "save_sif(final_edgelist, '../../data/networks/CPDB_ensg_edgelist.sif')\n",
    "final_edgelist.head()"
   ]
  },
  {
   "cell_type": "markdown",
   "metadata": {
    "deletable": true,
    "editable": true
   },
   "source": [
    "## Construct Adjacency Matrix"
   ]
  },
  {
   "cell_type": "code",
   "execution_count": 52,
   "metadata": {
    "collapsed": false,
    "deletable": true,
    "editable": true
   },
   "outputs": [],
   "source": [
    "adjacency_matrix = final_edgelist.pivot('partner1', 'partner2', 'confidence')\n",
    "adjacency_matrix[~adjacency_matrix.isnull()] = 1\n",
    "adjacency_matrix[adjacency_matrix.isnull()] = 0"
   ]
  },
  {
   "cell_type": "code",
   "execution_count": 53,
   "metadata": {
    "collapsed": false,
    "deletable": true,
    "editable": true
   },
   "outputs": [
    {
     "name": "stdout",
     "output_type": "stream",
     "text": [
      "Constructed Adjacency Matrix with average node degree of: 17.67621822891371\n",
      "Adjacency matrix has 218372.0 edges in total\n"
     ]
    }
   ],
   "source": [
    "avg_node_degree = adjacency_matrix.sum().mean()\n",
    "total_num_of_connections = adjacency_matrix.sum().sum()\n",
    "print (\"Constructed Adjacency Matrix with average node degree of: {}\".format(avg_node_degree))\n",
    "print (\"Adjacency matrix has {} edges in total\".format(total_num_of_connections))"
   ]
  },
  {
   "cell_type": "markdown",
   "metadata": {
    "deletable": true,
    "editable": true
   },
   "source": [
    "## Store Adjacency matrix on Disk"
   ]
  },
  {
   "cell_type": "code",
   "execution_count": 54,
   "metadata": {
    "collapsed": false,
    "deletable": true,
    "editable": true
   },
   "outputs": [],
   "source": [
    "f = h5py.File('../../data/networks/CPDB_ppi_ens.h5', 'w')\n",
    "f.create_dataset('consensusPathDB_ppi', data=adjacency_matrix, shape=adjacency_matrix.shape)\n",
    "f.close()"
   ]
  },
  {
   "cell_type": "code",
   "execution_count": null,
   "metadata": {
    "collapsed": false,
    "deletable": true,
    "editable": true
   },
   "outputs": [],
   "source": []
  },
  {
   "cell_type": "code",
   "execution_count": null,
   "metadata": {
    "collapsed": true,
    "deletable": true,
    "editable": true
   },
   "outputs": [],
   "source": []
  }
 ],
 "metadata": {
  "kernelspec": {
   "display_name": "Python 3",
   "language": "python",
   "name": "python3"
  },
  "language_info": {
   "codemirror_mode": {
    "name": "ipython",
    "version": 3
   },
   "file_extension": ".py",
   "mimetype": "text/x-python",
   "name": "python",
   "nbconvert_exporter": "python",
   "pygments_lexer": "ipython3",
   "version": "3.6.1"
  }
 },
 "nbformat": 4,
 "nbformat_minor": 2
}
