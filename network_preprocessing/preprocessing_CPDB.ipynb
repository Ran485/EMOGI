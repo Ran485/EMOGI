{
 "cells": [
  {
   "cell_type": "markdown",
   "metadata": {
    "deletable": true,
    "editable": true
   },
   "source": [
    "# Preprocessing of the CPDB network\n",
    "In this notebook, I want to collect the protein-protein-interaction (PPI) network from ConsensusPathDB and preprocess it.\n",
    "The preprocessing contains the following steps:\n",
    "* Filter out \"complex\" interactions (more than two partners)\n",
    "* Filter out interactions with score < 0.5\n",
    "* Map the strange uniprot gene names to ENSEMBL IDs (either protein IDs or gene IDs)\n",
    "* Convert the resulting edgelist to an adjacency matrix\n",
    "* Export the edgelist to .sif (can be read by cytoscape directly)\n",
    "\n",
    "I downloaded the CPDB network from [here](http://cpdb.molgen.mpg.de/download/ConsensusPathDB_human_PPI.gz) on the 29th of January 2019."
   ]
  },
  {
   "cell_type": "code",
   "execution_count": 1,
   "metadata": {
    "collapsed": false,
    "deletable": true,
    "editable": true
   },
   "outputs": [],
   "source": [
    "import pandas as pd\n",
    "import numpy as np\n",
    "import matplotlib.pyplot as plt\n",
    "import mygene\n",
    "import h5py\n",
    "import networkx as nx\n",
    "import seaborn as sns\n",
    "%matplotlib inline"
   ]
  },
  {
   "cell_type": "code",
   "execution_count": 2,
   "metadata": {
    "collapsed": false,
    "deletable": true,
    "editable": true
   },
   "outputs": [],
   "source": [
    "def save_sif(edgelist, outfile):\n",
    "    print (\"Saving edgelist to {}\".format(outfile))\n",
    "    with open(outfile, 'w') as out:\n",
    "        for idx, row in edgelist.iterrows():\n",
    "            out.write('{} (interacts) {}\\n'.format(row.partner1, row.partner2))\n",
    "    print (\".sif successfully saved!\")\n",
    "\n",
    "\n",
    "def get_gene_symbols(list_of_ensembl_ids):\n",
    "    # get Ensembl IDs for gene names\n",
    "    mg = mygene.MyGeneInfo()\n",
    "    res = mg.querymany(list_of_ensembl_ids,\n",
    "                       scopes='ensembl.gene',\n",
    "                       fields='symbol',\n",
    "                       species='human', returnall=True\n",
    "                      )\n",
    "\n",
    "    def get_symbol_and_ensembl(d):\n",
    "        if 'symbol' in d:\n",
    "            return [d['query'], d['symbol']]\n",
    "        else:\n",
    "            return [d['query'], None]\n",
    "\n",
    "    node_names = [get_symbol_and_ensembl(d) for d in res['out']]\n",
    "    # now, retrieve the names and IDs from a dictionary and put in DF\n",
    "    node_names = pd.DataFrame(node_names, columns=['Ensembl_ID', 'Symbol']).set_index('Ensembl_ID')\n",
    "    node_names.dropna(axis=0, inplace=True)\n",
    "    return node_names\n",
    "\n",
    "def get_gene_symbols_from_proteins(list_of_ensembl_ids):\n",
    "    # get Ensembl IDs for gene names\n",
    "    mg = mygene.MyGeneInfo()\n",
    "    res = mg.querymany(list_of_ensembl_ids,\n",
    "                       scopes='ensembl.protein',\n",
    "                       fields='symbol',\n",
    "                       species='human', returnall=True\n",
    "                      )\n",
    "\n",
    "    def get_symbol_and_ensembl(d):\n",
    "        if 'symbol' in d:\n",
    "            return [d['query'], d['symbol']]\n",
    "        else:\n",
    "            return [d['query'], None]\n",
    "\n",
    "    node_names = [get_symbol_and_ensembl(d) for d in res['out']]\n",
    "    # now, retrieve the names and IDs from a dictionary and put in DF\n",
    "    node_names = pd.DataFrame(node_names, columns=['Ensembl_ID', 'Symbol']).set_index('Ensembl_ID')\n",
    "    node_names.dropna(axis=0, inplace=True)\n",
    "    return node_names"
   ]
  },
  {
   "cell_type": "code",
   "execution_count": 3,
   "metadata": {
    "collapsed": false,
    "deletable": true,
    "editable": true
   },
   "outputs": [
    {
     "data": {
      "text/html": [
       "<div>\n",
       "<style scoped>\n",
       "    .dataframe tbody tr th:only-of-type {\n",
       "        vertical-align: middle;\n",
       "    }\n",
       "\n",
       "    .dataframe tbody tr th {\n",
       "        vertical-align: top;\n",
       "    }\n",
       "\n",
       "    .dataframe thead th {\n",
       "        text-align: right;\n",
       "    }\n",
       "</style>\n",
       "<table border=\"1\" class=\"dataframe\">\n",
       "  <thead>\n",
       "    <tr style=\"text-align: right;\">\n",
       "      <th></th>\n",
       "      <th>#  source_databases</th>\n",
       "      <th>interaction_publications</th>\n",
       "      <th>interaction_participants</th>\n",
       "      <th>interaction_confidence</th>\n",
       "    </tr>\n",
       "  </thead>\n",
       "  <tbody>\n",
       "    <tr>\n",
       "      <th>8</th>\n",
       "      <td>Reactome,Biogrid,Spike,HPRD,PhosphoPOINT</td>\n",
       "      <td>1660465,16713569,12547834</td>\n",
       "      <td>ANF_HUMAN,ANPRA_HUMAN</td>\n",
       "      <td>0.342234</td>\n",
       "    </tr>\n",
       "    <tr>\n",
       "      <th>9</th>\n",
       "      <td>PhosphoPOINT,HPRD,Reactome,Biogrid</td>\n",
       "      <td>1660465,12709393,1672777,1309330</td>\n",
       "      <td>ANPRB_HUMAN,ANFC_HUMAN</td>\n",
       "      <td>0.119181</td>\n",
       "    </tr>\n",
       "    <tr>\n",
       "      <th>24</th>\n",
       "      <td>DIP,Reactome,IntAct</td>\n",
       "      <td>22210847,17486119,21408196,16906149,19897728</td>\n",
       "      <td>STIM1_HUMAN,TRPC1_HUMAN</td>\n",
       "      <td>0.998166</td>\n",
       "    </tr>\n",
       "    <tr>\n",
       "      <th>25</th>\n",
       "      <td>Reactome,HPRD</td>\n",
       "      <td>11591728</td>\n",
       "      <td>NOS1_HUMAN,AT2B4_HUMAN</td>\n",
       "      <td>0.694108</td>\n",
       "    </tr>\n",
       "    <tr>\n",
       "      <th>26</th>\n",
       "      <td>CORUM,HPRD,BIND,Reactome,IntAct,MIPS-MPPI</td>\n",
       "      <td>10093054,9831708,23587463</td>\n",
       "      <td>ABCC9_HUMAN,KCJ11_HUMAN</td>\n",
       "      <td>0.999997</td>\n",
       "    </tr>\n",
       "  </tbody>\n",
       "</table>\n",
       "</div>"
      ],
      "text/plain": [
       "                          #  source_databases  \\\n",
       "8    Reactome,Biogrid,Spike,HPRD,PhosphoPOINT   \n",
       "9          PhosphoPOINT,HPRD,Reactome,Biogrid   \n",
       "24                        DIP,Reactome,IntAct   \n",
       "25                              Reactome,HPRD   \n",
       "26  CORUM,HPRD,BIND,Reactome,IntAct,MIPS-MPPI   \n",
       "\n",
       "                        interaction_publications interaction_participants  \\\n",
       "8                      1660465,16713569,12547834    ANF_HUMAN,ANPRA_HUMAN   \n",
       "9               1660465,12709393,1672777,1309330   ANPRB_HUMAN,ANFC_HUMAN   \n",
       "24  22210847,17486119,21408196,16906149,19897728  STIM1_HUMAN,TRPC1_HUMAN   \n",
       "25                                      11591728   NOS1_HUMAN,AT2B4_HUMAN   \n",
       "26                     10093054,9831708,23587463  ABCC9_HUMAN,KCJ11_HUMAN   \n",
       "\n",
       "    interaction_confidence  \n",
       "8                 0.342234  \n",
       "9                 0.119181  \n",
       "24                0.998166  \n",
       "25                0.694108  \n",
       "26                0.999997  "
      ]
     },
     "execution_count": 3,
     "metadata": {},
     "output_type": "execute_result"
    }
   ],
   "source": [
    "interactions = pd.read_csv('../data/networks/ConsensusPathDB_human_PPI.29012019.gz',\n",
    "                           compression='gzip',\n",
    "                           header=1,\n",
    "                           sep='\\t',\n",
    "                           encoding='utf8'\n",
    "                          )\n",
    "interactions_nona = interactions.dropna()\n",
    "interactions_nona.head()"
   ]
  },
  {
   "cell_type": "code",
   "execution_count": 4,
   "metadata": {
    "collapsed": false,
    "deletable": true,
    "editable": true
   },
   "outputs": [
    {
     "data": {
      "text/plain": [
       "(372507, 4)"
      ]
     },
     "execution_count": 4,
     "metadata": {},
     "output_type": "execute_result"
    },
    {
     "data": {
      "image/png": "[encoded data removed]",
      "text/plain": [
       "<Figure size 1008x576 with 1 Axes>"
      ]
     },
     "metadata": {
      "needs_background": "light"
     },
     "output_type": "display_data"
    }
   ],
   "source": [
    "bins = np.linspace(0, 1, 200)\n",
    "fig = plt.figure(figsize=(14, 8))\n",
    "ax = plt.hist(interactions_nona.interaction_confidence, bins)\n",
    "plt.xlabel('Interaction Score')\n",
    "plt.ylabel('Frequency')\n",
    "plt.title('Interaction Score Distribution')\n",
    "interactions_nona.shape"
   ]
  },
  {
   "cell_type": "markdown",
   "metadata": {
    "deletable": true,
    "editable": true
   },
   "source": [
    "### Remove \"complex\" interactions & low confidence"
   ]
  },
  {
   "cell_type": "code",
   "execution_count": 5,
   "metadata": {
    "collapsed": false,
    "deletable": true,
    "editable": true
   },
   "outputs": [
    {
     "data": {
      "text/html": [
       "<div>\n",
       "<style scoped>\n",
       "    .dataframe tbody tr th:only-of-type {\n",
       "        vertical-align: middle;\n",
       "    }\n",
       "\n",
       "    .dataframe tbody tr th {\n",
       "        vertical-align: top;\n",
       "    }\n",
       "\n",
       "    .dataframe thead th {\n",
       "        text-align: right;\n",
       "    }\n",
       "</style>\n",
       "<table border=\"1\" class=\"dataframe\">\n",
       "  <thead>\n",
       "    <tr style=\"text-align: right;\">\n",
       "      <th></th>\n",
       "      <th>partner1</th>\n",
       "      <th>partner2</th>\n",
       "      <th>confidence</th>\n",
       "    </tr>\n",
       "  </thead>\n",
       "  <tbody>\n",
       "    <tr>\n",
       "      <th>0</th>\n",
       "      <td>ANF_HUMAN</td>\n",
       "      <td>ANPRA_HUMAN</td>\n",
       "      <td>0.342234</td>\n",
       "    </tr>\n",
       "    <tr>\n",
       "      <th>1</th>\n",
       "      <td>ANPRB_HUMAN</td>\n",
       "      <td>ANFC_HUMAN</td>\n",
       "      <td>0.119181</td>\n",
       "    </tr>\n",
       "    <tr>\n",
       "      <th>2</th>\n",
       "      <td>STIM1_HUMAN</td>\n",
       "      <td>TRPC1_HUMAN</td>\n",
       "      <td>0.998166</td>\n",
       "    </tr>\n",
       "    <tr>\n",
       "      <th>3</th>\n",
       "      <td>NOS1_HUMAN</td>\n",
       "      <td>AT2B4_HUMAN</td>\n",
       "      <td>0.694108</td>\n",
       "    </tr>\n",
       "    <tr>\n",
       "      <th>4</th>\n",
       "      <td>ABCC9_HUMAN</td>\n",
       "      <td>KCJ11_HUMAN</td>\n",
       "      <td>0.999997</td>\n",
       "    </tr>\n",
       "  </tbody>\n",
       "</table>\n",
       "</div>"
      ],
      "text/plain": [
       "      partner1     partner2  confidence\n",
       "0    ANF_HUMAN  ANPRA_HUMAN    0.342234\n",
       "1  ANPRB_HUMAN   ANFC_HUMAN    0.119181\n",
       "2  STIM1_HUMAN  TRPC1_HUMAN    0.998166\n",
       "3   NOS1_HUMAN  AT2B4_HUMAN    0.694108\n",
       "4  ABCC9_HUMAN  KCJ11_HUMAN    0.999997"
      ]
     },
     "execution_count": 5,
     "metadata": {},
     "output_type": "execute_result"
    }
   ],
   "source": [
    "# select interactions with exactly two partners\n",
    "binary_inter = interactions_nona[interactions_nona.interaction_participants.str.count(',') == 1]\n",
    "# split the interactions columns into interaction partners\n",
    "edgelist = pd.concat([binary_inter.interaction_participants.str.split(',', expand=True),\n",
    "                                binary_inter.interaction_confidence], axis=1\n",
    "                              )\n",
    "# make the dataframe beautiful\n",
    "edgelist.set_index([np.arange(edgelist.shape[0])], inplace=True)\n",
    "edgelist.columns = ['partner1', 'partner2', 'confidence']\n",
    "edgelist.to_csv('../data/networks/CPDB_uni_edgelist.tsv', sep='\\t')\n",
    "\n",
    "# select interactions with confidence score above threshold\n",
    "high_conf_edgelist = edgelist[edgelist.confidence > .5]\n",
    "\n",
    "edgelist.head()"
   ]
  },
  {
   "cell_type": "code",
   "execution_count": 6,
   "metadata": {
    "collapsed": false,
    "deletable": true,
    "editable": true
   },
   "outputs": [
    {
     "data": {
      "text/plain": [
       "((397053, 4), (372507, 4), (372507, 3), (247746, 3))"
      ]
     },
     "execution_count": 6,
     "metadata": {},
     "output_type": "execute_result"
    }
   ],
   "source": [
    "interactions.shape, interactions_nona.shape, edgelist.shape, high_conf_edgelist.shape"
   ]
  },
  {
   "cell_type": "markdown",
   "metadata": {
    "deletable": true,
    "editable": true
   },
   "source": [
    "### Map from Uniprot Name to Ensembl ID\n",
    "This is not simple at all. We have to write both columns with the interaction partners to file and then use the uniprot webservice (http://www.uniprot.org/mapping/) to do the mapping. The resulting csv files then have to be read again to form the correct edgelist for us."
   ]
  },
  {
   "cell_type": "code",
   "execution_count": 7,
   "metadata": {
    "collapsed": false,
    "deletable": true,
    "editable": true,
    "scrolled": true
   },
   "outputs": [],
   "source": [
    "# write involved uniprot names to file\n",
    "uniprot_names = edgelist.partner1.append(edgelist.partner2).unique()\n",
    "np.savetxt('../data/networks/uniprot_names.txt', uniprot_names, fmt='%s')"
   ]
  },
  {
   "cell_type": "code",
   "execution_count": 8,
   "metadata": {
    "collapsed": false,
    "deletable": true,
    "editable": true
   },
   "outputs": [
    {
     "name": "stdout",
     "output_type": "stream",
     "text": [
      "We were unable to map 0 source and 0 target genes.\n",
      "We lost 0 interactions this way.\n",
      "Final edge list has 305196 interactions\n"
     ]
    },
    {
     "data": {
      "text/html": [
       "<div>\n",
       "<style scoped>\n",
       "    .dataframe tbody tr th:only-of-type {\n",
       "        vertical-align: middle;\n",
       "    }\n",
       "\n",
       "    .dataframe tbody tr th {\n",
       "        vertical-align: top;\n",
       "    }\n",
       "\n",
       "    .dataframe thead th {\n",
       "        text-align: right;\n",
       "    }\n",
       "</style>\n",
       "<table border=\"1\" class=\"dataframe\">\n",
       "  <thead>\n",
       "    <tr style=\"text-align: right;\">\n",
       "      <th></th>\n",
       "      <th>partner1</th>\n",
       "      <th>partner2</th>\n",
       "      <th>confidence</th>\n",
       "    </tr>\n",
       "  </thead>\n",
       "  <tbody>\n",
       "    <tr>\n",
       "      <th>2</th>\n",
       "      <td>ENSG00000167323</td>\n",
       "      <td>ENSG00000144935</td>\n",
       "      <td>0.998166</td>\n",
       "    </tr>\n",
       "    <tr>\n",
       "      <th>3</th>\n",
       "      <td>ENSG00000089250</td>\n",
       "      <td>ENSG00000058668</td>\n",
       "      <td>0.694108</td>\n",
       "    </tr>\n",
       "    <tr>\n",
       "      <th>4</th>\n",
       "      <td>ENSG00000069431</td>\n",
       "      <td>ENSG00000187486</td>\n",
       "      <td>0.999997</td>\n",
       "    </tr>\n",
       "    <tr>\n",
       "      <th>5</th>\n",
       "      <td>ENSG00000084754</td>\n",
       "      <td>ENSG00000138029</td>\n",
       "      <td>1.000000</td>\n",
       "    </tr>\n",
       "    <tr>\n",
       "      <th>6</th>\n",
       "      <td>ENSG00000197265</td>\n",
       "      <td>ENSG00000153767</td>\n",
       "      <td>0.999969</td>\n",
       "    </tr>\n",
       "  </tbody>\n",
       "</table>\n",
       "</div>"
      ],
      "text/plain": [
       "          partner1         partner2  confidence\n",
       "2  ENSG00000167323  ENSG00000144935    0.998166\n",
       "3  ENSG00000089250  ENSG00000058668    0.694108\n",
       "4  ENSG00000069431  ENSG00000187486    0.999997\n",
       "5  ENSG00000084754  ENSG00000138029    1.000000\n",
       "6  ENSG00000197265  ENSG00000153767    0.999969"
      ]
     },
     "execution_count": 8,
     "metadata": {},
     "output_type": "execute_result"
    }
   ],
   "source": [
    "# Build a uniprot mapping manually using the webservice :-(\n",
    "# load the mapped partners\n",
    "mapping = pd.read_csv('../data/networks/uniprot_ensg_mapping.tsv',\n",
    "                      sep='\\t',\n",
    "                      header=0,\n",
    "                      names=['ensembl']\n",
    "                     )\n",
    "\n",
    "# get them into our dataframe (size increases because of duplicates in mapping)\n",
    "# that is, one uniprot gene name has multiple ensembl gene names, hence we have to add those interactions\n",
    "p1_incl = high_conf_edgelist.join(mapping, on='partner1', how='inner', rsuffix='_p1')\n",
    "both_incl = p1_incl.join(mapping, on='partner2', how='inner', rsuffix='_p2')\n",
    "both_incl.columns = ['partner1', 'partner2', 'confidence', 'partner1_ensembl', 'partner2_ensembl']\n",
    "\n",
    "# collect statistics on how many interactions we lost\n",
    "num_unmaps = both_incl[both_incl.partner1_ensembl.isnull() | both_incl.partner2_ensembl.isnull()].shape[0]\n",
    "num_p1_unmaps = p1_incl[p1_incl.ensembl.isnull()].partner1.unique().shape[0]\n",
    "num_p2_unmaps = both_incl[both_incl.partner2_ensembl.isnull()].partner2.unique().shape[0]\n",
    "print (\"We were unable to map {} source and {} target genes.\".format(num_p1_unmaps, num_p2_unmaps))\n",
    "print (\"We lost {} interactions this way.\".format(num_unmaps))\n",
    "\n",
    "# kick out the NaNs and remove uniprot names\n",
    "final_edgelist = both_incl.dropna(axis=0)\n",
    "final_edgelist.drop(['partner1', 'partner2'], axis=1, inplace=True)\n",
    "print (\"Final edge list has {} interactions\".format(final_edgelist.shape[0]))\n",
    "\n",
    "# sort by number and put confidence at last and rename columns\n",
    "final_edgelist.sort_index(inplace=True)\n",
    "cols = final_edgelist.columns.tolist()\n",
    "cols = cols[1:] + [cols[0]]\n",
    "final_edgelist = final_edgelist[cols]\n",
    "final_edgelist.columns = ['partner1', 'partner2', 'confidence']\n",
    "\n",
    "# write to file and look at the first rows\n",
    "final_edgelist.to_csv('../data/networks/CPDB_ensg_edgelist.tsv', sep='\\t')\n",
    "save_sif(final_edgelist, '../data/networks/CPDB_ensg_edgelist.sif')\n",
    "final_edgelist.head()"
   ]
  },
  {
   "cell_type": "markdown",
   "metadata": {},
   "source": [
    "### Map from Ensembl IDs to Hugo Symbols\n",
    "Additionally to the edgelists for Uniprot and Ensembl IDs, I also want an edgelist containing the gene names (regular Hugo Symbols).\n",
    "\n",
    "**I derive it here using the *mygene* webservice**"
   ]
  },
  {
   "cell_type": "code",
   "execution_count": 9,
   "metadata": {},
   "outputs": [
    {
     "name": "stdout",
     "output_type": "stream",
     "text": [
      "querying 1-1000...done.\n",
      "querying 1001-2000...done.\n",
      "querying 2001-3000...done.\n",
      "querying 3001-4000...done.\n",
      "querying 4001-5000...done.\n",
      "querying 5001-6000...done.\n",
      "querying 6001-7000...done.\n",
      "querying 7001-8000...done.\n",
      "querying 8001-9000...done.\n",
      "querying 9001-10000...done.\n",
      "querying 10001-11000...done.\n",
      "querying 11001-12000...done.\n",
      "querying 12001-13000...done.\n",
      "querying 13001-14000...done.\n",
      "querying 14001-14956...done.\n",
      "Finished.\n",
      "2 input query terms found no hit:\n",
      "\t['ENSG00000243444', 'ENSG00000189144']\n",
      "We were unable to map 0 source and 0 target genes.\n",
      "We lost 0 interactions this way.\n",
      "Final edge list has 305186 interactions\n",
      "Dropping 52719 interactions because the are redundant for gene names\n"
     ]
    },
    {
     "data": {
      "text/html": [
       "<div>\n",
       "<style scoped>\n",
       "    .dataframe tbody tr th:only-of-type {\n",
       "        vertical-align: middle;\n",
       "    }\n",
       "\n",
       "    .dataframe tbody tr th {\n",
       "        vertical-align: top;\n",
       "    }\n",
       "\n",
       "    .dataframe thead th {\n",
       "        text-align: right;\n",
       "    }\n",
       "</style>\n",
       "<table border=\"1\" class=\"dataframe\">\n",
       "  <thead>\n",
       "    <tr style=\"text-align: right;\">\n",
       "      <th></th>\n",
       "      <th>partner1</th>\n",
       "      <th>partner2</th>\n",
       "      <th>confidence</th>\n",
       "    </tr>\n",
       "  </thead>\n",
       "  <tbody>\n",
       "    <tr>\n",
       "      <th>2</th>\n",
       "      <td>STIM1</td>\n",
       "      <td>TRPC1</td>\n",
       "      <td>0.998166</td>\n",
       "    </tr>\n",
       "    <tr>\n",
       "      <th>3</th>\n",
       "      <td>NOS1</td>\n",
       "      <td>ATP2B4</td>\n",
       "      <td>0.694108</td>\n",
       "    </tr>\n",
       "    <tr>\n",
       "      <th>4</th>\n",
       "      <td>ABCC9</td>\n",
       "      <td>KCNJ11</td>\n",
       "      <td>0.999997</td>\n",
       "    </tr>\n",
       "    <tr>\n",
       "      <th>5</th>\n",
       "      <td>HADHA</td>\n",
       "      <td>HADHB</td>\n",
       "      <td>1.000000</td>\n",
       "    </tr>\n",
       "    <tr>\n",
       "      <th>6</th>\n",
       "      <td>GTF2E2</td>\n",
       "      <td>GTF2E1</td>\n",
       "      <td>0.999969</td>\n",
       "    </tr>\n",
       "  </tbody>\n",
       "</table>\n",
       "</div>"
      ],
      "text/plain": [
       "  partner1 partner2  confidence\n",
       "2    STIM1    TRPC1    0.998166\n",
       "3     NOS1   ATP2B4    0.694108\n",
       "4    ABCC9   KCNJ11    0.999997\n",
       "5    HADHA    HADHB    1.000000\n",
       "6   GTF2E2   GTF2E1    0.999969"
      ]
     },
     "execution_count": 9,
     "metadata": {},
     "output_type": "execute_result"
    }
   ],
   "source": [
    "ens_names = final_edgelist.partner1.append(final_edgelist.partner2).unique()\n",
    "ens_to_symbol = get_gene_symbols(ens_names)\n",
    "\n",
    "p1_incl = final_edgelist.join(ens_to_symbol, on='partner1', how='inner', rsuffix='_p1')\n",
    "both_incl = p1_incl.join(ens_to_symbol, on='partner2', how='inner', rsuffix='_p2')\n",
    "both_incl.columns = ['partner1', 'partner2', 'confidence', 'partner1_symbol', 'partner2_symbol']\n",
    "\n",
    "# collect statistics on how many interactions we lost\n",
    "num_unmaps = both_incl[both_incl.partner1_symbol.isnull() | both_incl.partner2_symbol.isnull()].shape[0]\n",
    "num_p1_unmaps = p1_incl[p1_incl.Symbol.isnull()].partner1.unique().shape[0]\n",
    "num_p2_unmaps = both_incl[both_incl.partner2_symbol.isnull()].partner2.unique().shape[0]\n",
    "print (\"We were unable to map {} source and {} target genes.\".format(num_p1_unmaps, num_p2_unmaps))\n",
    "print (\"We lost {} interactions this way.\".format(num_unmaps))\n",
    "\n",
    "# kick out the NaNs and remove ensembl IDs\n",
    "final_edgelist_symbols = both_incl.dropna(axis=0)\n",
    "final_edgelist_symbols.drop(['partner1', 'partner2'], axis=1, inplace=True)\n",
    "print (\"Final edge list has {} interactions\".format(final_edgelist_symbols.shape[0]))\n",
    "\n",
    "# sort by number and put confidence at last and rename columns\n",
    "final_edgelist_symbols.sort_index(inplace=True)\n",
    "cols = final_edgelist_symbols.columns.tolist()\n",
    "cols = cols[1:] + [cols[0]]\n",
    "final_edgelist_symbols = final_edgelist_symbols[cols]\n",
    "final_edgelist_symbols.columns = ['partner1', 'partner2', 'confidence']\n",
    "\n",
    "# remove duplicated interactions (can happen due to multiple Ensembl IDs mapping to the same gene name)\n",
    "no_interactions = final_edgelist_symbols.shape[0]\n",
    "final_edgelist_symbols.drop_duplicates(inplace=True)\n",
    "print (\"Dropping {} interactions because the are redundant for gene names\".format(no_interactions - final_edgelist_symbols.shape[0]))\n",
    "\n",
    "# write to file and look at the first rows\n",
    "final_edgelist_symbols.to_csv('../data/networks/CPDB_symbols_edgelist.tsv', sep='\\t')\n",
    "final_edgelist_symbols.head()"
   ]
  },
  {
   "cell_type": "markdown",
   "metadata": {
    "deletable": true,
    "editable": true
   },
   "source": [
    "### Construct Adjacency Matrix"
   ]
  },
  {
   "cell_type": "code",
   "execution_count": 10,
   "metadata": {
    "collapsed": false,
    "deletable": true,
    "editable": true
   },
   "outputs": [
    {
     "name": "stdout",
     "output_type": "stream",
     "text": [
      "Constructed Adjacency Matrix with average node degree of: 37.03022300469483\n",
      "Adjacency matrix has 252398 edges and 13632 nodes in total\n"
     ]
    }
   ],
   "source": [
    "G = nx.from_pandas_edgelist(df=final_edgelist_symbols, source='partner1', target='partner2', edge_attr='confidence')\n",
    "adj_pd = nx.to_pandas_adjacency(G)\n",
    "adjacency_matrix = adj_pd.values\n",
    "node_names = adj_pd.index.values\n",
    "\n",
    "avg_node_degree = np.mean([value for key, value in G.degree()])\n",
    "print (\"Constructed Adjacency Matrix with average node degree of: {}\".format(avg_node_degree))\n",
    "print (\"Adjacency matrix has {} edges and {} nodes in total\".format(G.number_of_edges(), G.number_of_nodes()))"
   ]
  },
  {
   "cell_type": "code",
   "execution_count": 11,
   "metadata": {},
   "outputs": [
    {
     "data": {
      "text/plain": [
       "Text(0.5, 1.0, 'Node Degree Distribution of Genes in PPI')"
      ]
     },
     "execution_count": 11,
     "metadata": {},
     "output_type": "execute_result"
    },
    {
     "data": {
      "image/png": "[encoded data removed]",
      "text/plain": [
       "<Figure size 1008x576 with 1 Axes>"
      ]
     },
     "metadata": {
      "needs_background": "light"
     },
     "output_type": "display_data"
    }
   ],
   "source": [
    "node_degrees = np.array([i[1] for i in list(G.degree())])\n",
    "fig = plt.figure(figsize=(14, 8))\n",
    "bins = np.linspace(1, 400, 400)\n",
    "sns.distplot(node_degrees, kde=False, bins=bins)\n",
    "\n",
    "#ax = plt.hist(node_degrees, bins)\n",
    "plt.xlabel('Node Degree')\n",
    "plt.ylabel('Number of genes with node degree')\n",
    "plt.title('Node Degree Distribution of Genes in PPI')"
   ]
  },
  {
   "cell_type": "markdown",
   "metadata": {
    "deletable": true,
    "editable": true
   },
   "source": [
    "### Store Adjacency matrix on Disk"
   ]
  },
  {
   "cell_type": "code",
   "execution_count": 12,
   "metadata": {
    "collapsed": false,
    "deletable": true,
    "editable": true
   },
   "outputs": [],
   "source": [
    "f = h5py.File('../data/networks/CPDB_ppi_ens.h5', 'w')\n",
    "f.create_dataset('consensusPathDB_ppi', data=adjacency_matrix, shape=adjacency_matrix.shape)\n",
    "string_dt = h5py.special_dtype(vlen=str)\n",
    "f.create_dataset('gene_names', data=node_names, dtype=string_dt)\n",
    "f.close()"
   ]
  }
 ],
 "metadata": {
  "kernelspec": {
   "display_name": "Python 3",
   "language": "python",
   "name": "python3"
  },
  "language_info": {
   "codemirror_mode": {
    "name": "ipython",
    "version": 3
   },
   "file_extension": ".py",
   "mimetype": "text/x-python",
   "name": "python",
   "nbconvert_exporter": "python",
   "pygments_lexer": "ipython3",
   "version": "3.7.3"
  }
 },
 "nbformat": 4,
 "nbformat_minor": 2
}
