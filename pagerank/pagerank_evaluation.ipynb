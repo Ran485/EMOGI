{
 "cells": [
  {
   "cell_type": "markdown",
   "metadata": {
    "deletable": true,
    "editable": true
   },
   "source": [
    "# Analysis of PageRank Algorithm on PPI network\n",
    "I created a PPI network using the interactions from ConsensusPathDB and I joined it with gene expression data (dual RNA-seq) obtained for the legionella infection setting.\n",
    "\n",
    "In the dual RNA-seq, we have the following groups:\n",
    "* *Control* (not treated)\n",
    "* *GFP+* (cells with legionella infection)\n",
    "* *GFP-* (cells without legionella)\n",
    "* *PAM3* (inflammatory substance treatment. Should produce results similar to GFP+)\n",
    "\n",
    "The gene expression for ~40.000 genes was preprocessing in the following way:\n",
    "* Kick out genes whose average gene expression was higher than $10 \\times$ the standard deviation\n",
    "* Kick out genes with only less than 50% of the gene expressions being different from 0\n",
    "* Scaled using a standard scaler\n",
    "\n",
    "The network was then constructed for those genes only. That is, an edge is drawn between two genes only if both of them are in the list of genes for which we have gene expression and if the confidence of the interactions exceed $0.5$.\n",
    "\n",
    "After network construction, isolated genes (no edges for gene) got kicked out as well. I am afterwards left with a network of 4862 genes.\n",
    "\n",
    "On this network I applied the well-known PageRank algorithm. This resulted in a score for each gene and a higher score means that the gene is more important in the network.\n",
    "\n",
    "**The goal of this notebook is to evaluate the results from PageRank, look into correlations with gene expression/differential expression, pathways and finally visualize the important genes in the network.**"
   ]
  },
  {
   "cell_type": "code",
   "execution_count": 56,
   "metadata": {
    "collapsed": true,
    "deletable": true,
    "editable": true
   },
   "outputs": [],
   "source": [
    "import pandas as pd\n",
    "import numpy as np\n",
    "import matplotlib.pyplot as plt\n",
    "import h5py\n",
    "%matplotlib inline"
   ]
  },
  {
   "cell_type": "markdown",
   "metadata": {
    "deletable": true,
    "editable": true
   },
   "source": [
    "## Load PageRank scores & Indices\n",
    "This loads the gene expression data as well as the raw network from our hdf5 container."
   ]
  },
  {
   "cell_type": "code",
   "execution_count": 57,
   "metadata": {
    "collapsed": false,
    "deletable": true,
    "editable": true
   },
   "outputs": [],
   "source": [
    "# load gene expression values and network\n",
    "fname = '../data/preprocessing/ppi_networks.h5'\n",
    "with h5py.File(fname, 'r') as f:\n",
    "    gene_expression_data = pd.DataFrame(f['gene_expression'][:])\n",
    "    ppi_network = f['consensusPathDB_ppi'][:]\n",
    "    gene_names = f['gene_names'][:]\n",
    "\n",
    "# load pagerank scores and ranks\n",
    "pagerank_scores = pd.DataFrame.from_csv('../data/pagerank/pagerank_scores.txt',\n",
    "                                        encoding='utf-8',\n",
    "                                        sep='\\t',\n",
    "                                        index_col=0\n",
    "                                       )"
   ]
  },
  {
   "cell_type": "code",
   "execution_count": 58,
   "metadata": {
    "collapsed": false,
    "deletable": true,
    "editable": true
   },
   "outputs": [
    {
     "name": "stdout",
     "output_type": "stream",
     "text": [
      "(4862, 3) (4862, 4862)\n"
     ]
    }
   ],
   "source": [
    "print (pagerank_scores.shape, ppi_network.shape)"
   ]
  },
  {
   "cell_type": "markdown",
   "metadata": {
    "deletable": true,
    "editable": true
   },
   "source": [
    "## Correlations between PageRank & Gene Expression Variance\n",
    "Let's check the correlations between the PageRank and the variance of the gene expression. Trivially, one would expect that the high variance genes would be more prominent in the network.\n",
    "\n",
    "However, there are a couple of factors that introduce noise here:\n",
    "* The variance is calculated over 3 replicates of GFP+, GFP-, Control and PAM3. A couple of these groups are not expected to change during the time course of the infection so looking at the variance doesn't nessessarily make sense.\n",
    "* There is experimental bias in here as well. Sometimes the replicates have very high variance, even though the gene is not at all differentially expressed."
   ]
  },
  {
   "cell_type": "code",
   "execution_count": 59,
   "metadata": {
    "collapsed": false,
    "deletable": true,
    "editable": true,
    "scrolled": true
   },
   "outputs": [],
   "source": [
    "# get the IDs from file and set them as index axis for the expression\n",
    "expr_with_names = gene_expression_data.set_index(gene_names[:, 0]) #they have the same ordering\n",
    "\n",
    "# set gene expression variance, mean and median and add to dataframe\n",
    "expr_var = pd.DataFrame(expr_with_names.var(axis=1))\n",
    "expr_var.columns = ['Gene_Expression_Variance']\n",
    "expr_mean = pd.DataFrame(expr_with_names.mean(axis=1))\n",
    "expr_mean.columns = ['Gene_Expression_Mean']\n",
    "expr_median = pd.DataFrame(expr_with_names.median(axis=1))\n",
    "expr_median.columns = ['Gene_Expression_Median']\n",
    "pagerank_with_ge = pagerank_scores.join([expr_var, expr_mean, expr_median])\n",
    "\n",
    "# write that to file\n",
    "pagerank_with_ge.to_csv('../pagerank/pagerank_scores_with_ge.txt', sep='\\t')"
   ]
  },
  {
   "cell_type": "code",
   "execution_count": 60,
   "metadata": {
    "collapsed": false,
    "deletable": true,
    "editable": true
   },
   "outputs": [
    {
     "name": "stdout",
     "output_type": "stream",
     "text": [
      "Correlation between PageRank & GE Mean: 0.2360149447405269\n",
      "Correlation between PageRank & GE Variance: 0.20305139680097462\n",
      "Correlation between PageRank & GE Median: 0.2268122548392066\n"
     ]
    }
   ],
   "source": [
    "# compute correlation between gene expression and pagerank\n",
    "#sorted_gene_expression = pagerank_with_ge.sort_values(by='Gene_Expression_Median', ascending=False)\n",
    "print (\"Correlation between PageRank & GE Mean: {}\". \\\n",
    "       format(pagerank_with_ge.Gene_Expression_Mean.corr(pagerank_with_ge.PageRank_Score)))\n",
    "print (\"Correlation between PageRank & GE Variance: {}\". \\\n",
    "       format(pagerank_with_ge.Gene_Expression_Variance.corr(pagerank_with_ge.PageRank_Score)))\n",
    "print (\"Correlation between PageRank & GE Median: {}\". \\\n",
    "       format(pagerank_with_ge.Gene_Expression_Median.corr(pagerank_with_ge.PageRank_Score)))"
   ]
  },
  {
   "cell_type": "code",
   "execution_count": 61,
   "metadata": {
    "collapsed": false,
    "deletable": true,
    "editable": true
   },
   "outputs": [
    {
     "data": {
      "image/png": "[encoded data removed]",
      "text/plain": [
       "<matplotlib.figure.Figure at 0x7f5b1d4d8ef0>"
      ]
     },
     "metadata": {},
     "output_type": "display_data"
    }
   ],
   "source": [
    "fig = plt.figure(figsize=(14, 8))\n",
    "ax = plt.scatter(pagerank_with_ge.Rank, pagerank_with_ge.Gene_Expression_Variance)\n",
    "#plt.xlim([0, 0.004])\n",
    "t = plt.xlabel('Pagerank Index')\n",
    "t = plt.ylabel('Variance in Gene Expression')"
   ]
  },
  {
   "cell_type": "code",
   "execution_count": 62,
   "metadata": {
    "collapsed": false,
    "deletable": true,
    "editable": true
   },
   "outputs": [
    {
     "data": {
      "image/png": "[encoded data removed]",
      "text/plain": [
       "<matplotlib.figure.Figure at 0x7f5b68700470>"
      ]
     },
     "metadata": {},
     "output_type": "display_data"
    }
   ],
   "source": [
    "fig = plt.figure(figsize=(14, 8))\n",
    "ax = plt.scatter(pagerank_with_ge.Rank, pagerank_with_ge.Gene_Expression_Mean)\n",
    "#plt.xlim([0, 0.004])\n",
    "t = plt.xlabel('Pagerank Index')\n",
    "t = plt.ylabel('Variance in Gene Expression')"
   ]
  },
  {
   "cell_type": "markdown",
   "metadata": {
    "deletable": true,
    "editable": true
   },
   "source": [
    "## Correlations between PageRank & Differential Expression\n",
    "Because of the flaws of using only the variance, let's try having a look at the differentially expressed genes.\n",
    "This should overcome the issues and maybe reveal some correlation between PageRank and DE.\n",
    "\n",
    "Unfortunately, we only have GE data for the differentially expressed genes, while for all others, the p-values are $<0.05$"
   ]
  },
  {
   "cell_type": "code",
   "execution_count": 63,
   "metadata": {
    "collapsed": false,
    "deletable": true,
    "editable": true
   },
   "outputs": [
    {
     "data": {
      "text/plain": [
       "(1016, 7)"
      ]
     },
     "execution_count": 63,
     "metadata": {},
     "output_type": "execute_result"
    }
   ],
   "source": [
    "# load DE for GFP+ after 8 hours. Unfortunately, we only get DE for pval < .05\n",
    "differential_expression = pd.DataFrame.from_csv('../data/differential_expression/GFPplusT8vsControlT805.tsv',\n",
    "                                                sep='\\t',\n",
    "                                                index_col=2\n",
    "                                               )\n",
    "# remove gene name (already there)\n",
    "differential_expression.drop('Gene-name', axis=1, inplace=True)\n",
    "differential_expression.shape"
   ]
  },
  {
   "cell_type": "code",
   "execution_count": 64,
   "metadata": {
    "collapsed": false,
    "deletable": true,
    "editable": true
   },
   "outputs": [
    {
     "name": "stdout",
     "output_type": "stream",
     "text": [
      "Correlation between PageRank & DE pvalue: -0.003988536785308605\n",
      "Correlation between PageRank & DE log2FoldChange: 0.006537348528490422\n",
      "Correlation between PageRank & GE baseMean: 0.11620311558924651\n"
     ]
    }
   ],
   "source": [
    "pagerank_ge_and_de = pagerank_with_ge.join(differential_expression)\n",
    "\n",
    "# compute correlation between differential expression and pagerank\n",
    "print (\"Correlation between PageRank & DE pvalue: {}\". \\\n",
    "       format(pagerank_ge_and_de.pvalue.corr(pagerank_ge_and_de.PageRank_Score)))\n",
    "print (\"Correlation between PageRank & DE log2FoldChange: {}\". \\\n",
    "       format(pagerank_ge_and_de.log2FoldChange.corr(pagerank_with_ge.PageRank_Score)))\n",
    "print (\"Correlation between PageRank & GE baseMean: {}\". \\\n",
    "       format(pagerank_ge_and_de.baseMean.corr(pagerank_with_ge.PageRank_Score)))"
   ]
  },
  {
   "cell_type": "code",
   "execution_count": 65,
   "metadata": {
    "collapsed": false,
    "deletable": true,
    "editable": true
   },
   "outputs": [
    {
     "data": {
      "image/png": "[encoded data removed]",
      "text/plain": [
       "<matplotlib.figure.Figure at 0x7f5b1d325cc0>"
      ]
     },
     "metadata": {},
     "output_type": "display_data"
    }
   ],
   "source": [
    "fig = plt.figure(figsize=(14, 8))\n",
    "ax = plt.scatter(pagerank_ge_and_de.Rank, pagerank_ge_and_de.pvalue)\n",
    "#plt.xlim([0, 0.004])\n",
    "t = plt.xlabel('Pagerank Index')\n",
    "t = plt.ylabel('Differential Expression')"
   ]
  },
  {
   "cell_type": "markdown",
   "metadata": {
    "deletable": true,
    "editable": true
   },
   "source": [
    "## Correlations between PageRank & Gene Expression PCA Loadings\n",
    "When the variance/mean of the gene expression doesn't correlate with the PageRank, let's try something different.\n",
    "I want to see if there is a correlation between the PCA loadings from the 20% most varying  genes and the PageRank."
   ]
  },
  {
   "cell_type": "code",
   "execution_count": 67,
   "metadata": {
    "collapsed": false,
    "deletable": true,
    "editable": true
   },
   "outputs": [],
   "source": [
    "loadings_pc1 = pd.DataFrame.from_csv('../data/preprocessing/loadings_comp_1.tsv',\n",
    "                                     sep='\\t'\n",
    "                                    )\n",
    "loadings_pc1 = loadings_pc1.drop(['Abs_Loadings', 'Gene_Name'], axis=1)\n",
    "\n",
    "loadings_pc2 = pd.DataFrame.from_csv('../data/preprocessing/loadings_comp_2.tsv',\n",
    "                                     sep='\\t'\n",
    "                                    )\n",
    "loadings_pc2 = loadings_pc2.drop(['Abs_Loadings', 'Gene_Name'], axis=1)\n",
    "\n",
    "loadings_pc3 = pd.DataFrame.from_csv('../data/preprocessing/loadings_comp_3.tsv',\n",
    "                                     sep='\\t'\n",
    "                                    )\n",
    "loadings_pc3 = loadings_pc3.drop(['Abs_Loadings', 'Gene_Name'], axis=1)"
   ]
  },
  {
   "cell_type": "code",
   "execution_count": 68,
   "metadata": {
    "collapsed": false,
    "deletable": true,
    "editable": true,
    "scrolled": true
   },
   "outputs": [
    {
     "name": "stdout",
     "output_type": "stream",
     "text": [
      "(4862, 14)\n",
      "(4862, 15)\n",
      "(4862, 16)\n"
     ]
    },
    {
     "data": {
      "text/html": [
       "<div>\n",
       "<table border=\"1\" class=\"dataframe\">\n",
       "  <thead>\n",
       "    <tr style=\"text-align: right;\">\n",
       "      <th></th>\n",
       "      <th>Gene_Name</th>\n",
       "      <th>Rank</th>\n",
       "      <th>PageRank_Score</th>\n",
       "      <th>Gene_Expression_Variance</th>\n",
       "      <th>Gene_Expression_Mean</th>\n",
       "      <th>Gene_Expression_Median</th>\n",
       "      <th>Gene-type</th>\n",
       "      <th>baseMean</th>\n",
       "      <th>log2FoldChange</th>\n",
       "      <th>lfcSE</th>\n",
       "      <th>stat</th>\n",
       "      <th>pvalue</th>\n",
       "      <th>padj</th>\n",
       "      <th>Loadings_Comp1</th>\n",
       "      <th>Loadings_Comp2</th>\n",
       "      <th>Loadings_Comp3</th>\n",
       "    </tr>\n",
       "    <tr>\n",
       "      <th>Gene_ID</th>\n",
       "      <th></th>\n",
       "      <th></th>\n",
       "      <th></th>\n",
       "      <th></th>\n",
       "      <th></th>\n",
       "      <th></th>\n",
       "      <th></th>\n",
       "      <th></th>\n",
       "      <th></th>\n",
       "      <th></th>\n",
       "      <th></th>\n",
       "      <th></th>\n",
       "      <th></th>\n",
       "      <th></th>\n",
       "      <th></th>\n",
       "      <th></th>\n",
       "    </tr>\n",
       "  </thead>\n",
       "  <tbody>\n",
       "    <tr>\n",
       "      <th>ENSG00000198400</th>\n",
       "      <td>NTRK1</td>\n",
       "      <td>1</td>\n",
       "      <td>0.006285</td>\n",
       "      <td>0.000842</td>\n",
       "      <td>-0.105612</td>\n",
       "      <td>-0.114468</td>\n",
       "      <td>NaN</td>\n",
       "      <td>NaN</td>\n",
       "      <td>NaN</td>\n",
       "      <td>NaN</td>\n",
       "      <td>NaN</td>\n",
       "      <td>NaN</td>\n",
       "      <td>NaN</td>\n",
       "      <td>NaN</td>\n",
       "      <td>NaN</td>\n",
       "      <td>NaN</td>\n",
       "    </tr>\n",
       "    <tr>\n",
       "      <th>ENSG00000082898</th>\n",
       "      <td>XPO1</td>\n",
       "      <td>2</td>\n",
       "      <td>0.005032</td>\n",
       "      <td>0.094383</td>\n",
       "      <td>0.634362</td>\n",
       "      <td>0.731523</td>\n",
       "      <td>NaN</td>\n",
       "      <td>NaN</td>\n",
       "      <td>NaN</td>\n",
       "      <td>NaN</td>\n",
       "      <td>NaN</td>\n",
       "      <td>NaN</td>\n",
       "      <td>NaN</td>\n",
       "      <td>-0.004233</td>\n",
       "      <td>-0.004978</td>\n",
       "      <td>-0.001615</td>\n",
       "    </tr>\n",
       "    <tr>\n",
       "      <th>ENSG00000150991</th>\n",
       "      <td>UBC</td>\n",
       "      <td>3</td>\n",
       "      <td>0.004158</td>\n",
       "      <td>1005.958932</td>\n",
       "      <td>37.256122</td>\n",
       "      <td>22.989679</td>\n",
       "      <td>NaN</td>\n",
       "      <td>NaN</td>\n",
       "      <td>NaN</td>\n",
       "      <td>NaN</td>\n",
       "      <td>NaN</td>\n",
       "      <td>NaN</td>\n",
       "      <td>NaN</td>\n",
       "      <td>0.533175</td>\n",
       "      <td>-0.256197</td>\n",
       "      <td>0.005203</td>\n",
       "    </tr>\n",
       "    <tr>\n",
       "      <th>ENSG00000146648</th>\n",
       "      <td>EGFR</td>\n",
       "      <td>4</td>\n",
       "      <td>0.004000</td>\n",
       "      <td>0.000809</td>\n",
       "      <td>-0.098163</td>\n",
       "      <td>-0.105476</td>\n",
       "      <td>NaN</td>\n",
       "      <td>NaN</td>\n",
       "      <td>NaN</td>\n",
       "      <td>NaN</td>\n",
       "      <td>NaN</td>\n",
       "      <td>NaN</td>\n",
       "      <td>NaN</td>\n",
       "      <td>NaN</td>\n",
       "      <td>NaN</td>\n",
       "      <td>NaN</td>\n",
       "    </tr>\n",
       "    <tr>\n",
       "      <th>ENSG00000177885</th>\n",
       "      <td>GRB2</td>\n",
       "      <td>5</td>\n",
       "      <td>0.003489</td>\n",
       "      <td>0.102209</td>\n",
       "      <td>0.594980</td>\n",
       "      <td>0.607916</td>\n",
       "      <td>NaN</td>\n",
       "      <td>NaN</td>\n",
       "      <td>NaN</td>\n",
       "      <td>NaN</td>\n",
       "      <td>NaN</td>\n",
       "      <td>NaN</td>\n",
       "      <td>NaN</td>\n",
       "      <td>-0.001742</td>\n",
       "      <td>-0.006932</td>\n",
       "      <td>0.001507</td>\n",
       "    </tr>\n",
       "  </tbody>\n",
       "</table>\n",
       "</div>"
      ],
      "text/plain": [
       "                Gene_Name  Rank  PageRank_Score  Gene_Expression_Variance  \\\n",
       "Gene_ID                                                                     \n",
       "ENSG00000198400     NTRK1     1        0.006285                  0.000842   \n",
       "ENSG00000082898      XPO1     2        0.005032                  0.094383   \n",
       "ENSG00000150991       UBC     3        0.004158               1005.958932   \n",
       "ENSG00000146648      EGFR     4        0.004000                  0.000809   \n",
       "ENSG00000177885      GRB2     5        0.003489                  0.102209   \n",
       "\n",
       "                 Gene_Expression_Mean  Gene_Expression_Median Gene-type  \\\n",
       "Gene_ID                                                                   \n",
       "ENSG00000198400             -0.105612               -0.114468       NaN   \n",
       "ENSG00000082898              0.634362                0.731523       NaN   \n",
       "ENSG00000150991             37.256122               22.989679       NaN   \n",
       "ENSG00000146648             -0.098163               -0.105476       NaN   \n",
       "ENSG00000177885              0.594980                0.607916       NaN   \n",
       "\n",
       "                 baseMean  log2FoldChange  lfcSE  stat  pvalue  padj  \\\n",
       "Gene_ID                                                                \n",
       "ENSG00000198400       NaN             NaN    NaN   NaN     NaN   NaN   \n",
       "ENSG00000082898       NaN             NaN    NaN   NaN     NaN   NaN   \n",
       "ENSG00000150991       NaN             NaN    NaN   NaN     NaN   NaN   \n",
       "ENSG00000146648       NaN             NaN    NaN   NaN     NaN   NaN   \n",
       "ENSG00000177885       NaN             NaN    NaN   NaN     NaN   NaN   \n",
       "\n",
       "                 Loadings_Comp1  Loadings_Comp2  Loadings_Comp3  \n",
       "Gene_ID                                                          \n",
       "ENSG00000198400             NaN             NaN             NaN  \n",
       "ENSG00000082898       -0.004233       -0.004978       -0.001615  \n",
       "ENSG00000150991        0.533175       -0.256197        0.005203  \n",
       "ENSG00000146648             NaN             NaN             NaN  \n",
       "ENSG00000177885       -0.001742       -0.006932        0.001507  "
      ]
     },
     "execution_count": 68,
     "metadata": {},
     "output_type": "execute_result"
    }
   ],
   "source": [
    "pagerank_de_ge_loadings = pagerank_ge_and_de\n",
    "for comp in range(1, 4):\n",
    "    loadings = pd.DataFrame.from_csv('../data/preprocessing/loadings_comp_{}.tsv'.format(comp),\n",
    "                                         sep='\\t'\n",
    "                                        )\n",
    "    loadings.drop('Abs_Loadings', axis=1, inplace=True)\n",
    "    loadings.drop('Gene_Name', axis=1, inplace=True) # gene name is already there\n",
    "    loadings.columns = ['Loadings_Comp{}'.format(comp)]\n",
    "    pagerank_de_ge_loadings = pagerank_de_ge_loadings.join(loadings, how='left')\n",
    "    print (pagerank_de_ge_loadings.shape)\n",
    "pagerank_de_ge_loadings.head()"
   ]
  },
  {
   "cell_type": "code",
   "execution_count": 69,
   "metadata": {
    "collapsed": false,
    "deletable": true,
    "editable": true,
    "scrolled": false
   },
   "outputs": [
    {
     "data": {
      "text/plain": [
       "<matplotlib.text.Text at 0x7f5b2b9e24a8>"
      ]
     },
     "execution_count": 69,
     "metadata": {},
     "output_type": "execute_result"
    },
    {
     "data": {
      "image/png": "[encoded data removed]",
      "text/plain": [
       "<matplotlib.figure.Figure at 0x7f5b2b8b8d68>"
      ]
     },
     "metadata": {},
     "output_type": "display_data"
    }
   ],
   "source": [
    "fig = plt.figure(figsize=(14, 8))\n",
    "pc1_df = loadings_pc1.join(pagerank_ge_and_de)\n",
    "pc1_df.shape\n",
    "plt.scatter(pc1_df.Rank, pc1_df.Loadings)\n",
    "plt.xlabel('PageRank')\n",
    "plt.ylabel('Loadings')"
   ]
  },
  {
   "cell_type": "code",
   "execution_count": 70,
   "metadata": {
    "collapsed": false,
    "deletable": true,
    "editable": true
   },
   "outputs": [
    {
     "data": {
      "text/plain": [
       "<matplotlib.text.Text at 0x7f5b1d2c4550>"
      ]
     },
     "execution_count": 70,
     "metadata": {},
     "output_type": "execute_result"
    },
    {
     "data": {
      "image/png": "[encoded data removed]",
      "text/plain": [
       "<matplotlib.figure.Figure at 0x7f5b2b9c3e80>"
      ]
     },
     "metadata": {},
     "output_type": "display_data"
    }
   ],
   "source": [
    "fig = plt.figure(figsize=(14, 8))\n",
    "pc2_df = loadings_pc2.join(pagerank_ge_and_de)\n",
    "plt.scatter(pc2_df.Rank, pc2_df.Loadings)\n",
    "plt.xlabel('PageRank')\n",
    "plt.ylabel('Loadings')"
   ]
  },
  {
   "cell_type": "code",
   "execution_count": 71,
   "metadata": {
    "collapsed": false,
    "deletable": true,
    "editable": true
   },
   "outputs": [
    {
     "data": {
      "text/plain": [
       "<matplotlib.text.Text at 0x7f5b2b8384e0>"
      ]
     },
     "execution_count": 71,
     "metadata": {},
     "output_type": "execute_result"
    },
    {
     "data": {
      "image/png": "[encoded data removed]",
      "text/plain": [
       "<matplotlib.figure.Figure at 0x7f5b2b833fd0>"
      ]
     },
     "metadata": {},
     "output_type": "display_data"
    }
   ],
   "source": [
    "fig = plt.figure(figsize=(14, 8))\n",
    "pc3_df = loadings_pc3.join(pagerank_ge_and_de)\n",
    "plt.scatter(pc3_df.Rank, pc3_df.Loadings)\n",
    "plt.xlabel('PageRank')\n",
    "plt.ylabel('Loadings')"
   ]
  },
  {
   "cell_type": "markdown",
   "metadata": {
    "collapsed": true,
    "deletable": true,
    "editable": true
   },
   "source": [
    "## Correlations of PageRank and Network Properties\n",
    "Next, I'd like to do a sanity check. The PageRank should somehow correlate with basic network properties, such as:\n",
    "* Node Degree\n",
    "* Betweenness\n",
    "* etc."
   ]
  },
  {
   "cell_type": "code",
   "execution_count": 72,
   "metadata": {
    "collapsed": false,
    "deletable": true,
    "editable": true
   },
   "outputs": [],
   "source": [
    "import networkx as nx"
   ]
  },
  {
   "cell_type": "code",
   "execution_count": 73,
   "metadata": {
    "collapsed": false,
    "deletable": true,
    "editable": true
   },
   "outputs": [],
   "source": [
    "G = nx.from_numpy_matrix(A=ppi_network)\n",
    "node_degree = nx.degree(G)\n",
    "degree_np = np.zeros(len(node_degree))\n",
    "for key, val in node_degree.items():\n",
    "    degree_np[key] = val"
   ]
  },
  {
   "cell_type": "code",
   "execution_count": 74,
   "metadata": {
    "collapsed": false,
    "deletable": true,
    "editable": true
   },
   "outputs": [
    {
     "name": "stdout",
     "output_type": "stream",
     "text": [
      "Mean Node Degree in PPI Network: 17.944055944055943\n"
     ]
    }
   ],
   "source": [
    "print (\"Mean Node Degree in PPI Network: {}\".format(degree_np.mean()))"
   ]
  },
  {
   "cell_type": "code",
   "execution_count": 75,
   "metadata": {
    "collapsed": false,
    "deletable": true,
    "editable": true
   },
   "outputs": [
    {
     "data": {
      "text/plain": [
       "<matplotlib.text.Text at 0x7f5b1d3ece48>"
      ]
     },
     "execution_count": 75,
     "metadata": {},
     "output_type": "execute_result"
    },
    {
     "data": {
      "image/png": "[encoded data removed]",
      "text/plain": [
       "<matplotlib.figure.Figure at 0x7f5b240d6518>"
      ]
     },
     "metadata": {},
     "output_type": "display_data"
    }
   ],
   "source": [
    "fig = plt.figure(figsize=(14, 8))\n",
    "plt.scatter(pagerank_ge_and_de.Rank, degree_np)\n",
    "plt.title('PageRank vs Node Degree (Genes connected with other genes)')\n",
    "plt.xlabel('PageRank')\n",
    "plt.ylabel('Node Degree')"
   ]
  },
  {
   "cell_type": "code",
   "execution_count": 76,
   "metadata": {
    "collapsed": false,
    "deletable": true,
    "editable": true,
    "scrolled": true
   },
   "outputs": [],
   "source": [
    "# centrality now (takes time)\n",
    "betweenness_centrality = nx.betweenness_centrality(G)"
   ]
  },
  {
   "cell_type": "code",
   "execution_count": 108,
   "metadata": {
    "collapsed": false,
    "deletable": true,
    "editable": true
   },
   "outputs": [
    {
     "data": {
      "text/plain": [
       "<matplotlib.text.Text at 0x7fee5722e6d8>"
      ]
     },
     "execution_count": 108,
     "metadata": {},
     "output_type": "execute_result"
    },
    {
     "data": {
      "image/png": "[encoded data removed]",
      "text/plain": [
       "<matplotlib.figure.Figure at 0x7fee571fc278>"
      ]
     },
     "metadata": {},
     "output_type": "display_data"
    }
   ],
   "source": [
    "betweenness_np = np.zeros(len(node_degree))\n",
    "for key, val in betweenness_centrality.items():\n",
    "    betweenness_np[key] = val\n",
    "\n",
    "fig = plt.figure(figsize=(14, 8))\n",
    "plt.scatter(pagerank_with_ge_varmean.Rank, betweenness_np)\n",
    "plt.title('PageRank vs Node Degree (Genes connected with other genes)')\n",
    "plt.xlabel('PageRank')\n",
    "plt.ylabel('Node Degree')"
   ]
  },
  {
   "cell_type": "markdown",
   "metadata": {
    "deletable": true,
    "editable": true
   },
   "source": [
    "### Fuse Dataframe with gene expression, differential expression, loadings and network properties"
   ]
  },
  {
   "cell_type": "code",
   "execution_count": 55,
   "metadata": {
    "collapsed": false,
    "deletable": true,
    "editable": true
   },
   "outputs": [
    {
     "ename": "NameError",
     "evalue": "name 'betweenness_np' is not defined",
     "output_type": "error",
     "traceback": [
      "\u001b[0;31m---------------------------------------------------------------------------\u001b[0m",
      "\u001b[0;31mNameError\u001b[0m                                 Traceback (most recent call last)",
      "\u001b[0;32m<ipython-input-55-35e11f653c6a>\u001b[0m in \u001b[0;36m<module>\u001b[0;34m()\u001b[0m\n\u001b[0;32m----> 1\u001b[0;31m \u001b[0mnetwork_props\u001b[0m \u001b[0;34m=\u001b[0m \u001b[0mpd\u001b[0m\u001b[0;34m.\u001b[0m\u001b[0mDataFrame\u001b[0m\u001b[0;34m(\u001b[0m\u001b[0mnp\u001b[0m\u001b[0;34m.\u001b[0m\u001b[0mvstack\u001b[0m\u001b[0;34m(\u001b[0m\u001b[0;34m[\u001b[0m\u001b[0mdegree_np\u001b[0m\u001b[0;34m,\u001b[0m \u001b[0mbetweenness_np\u001b[0m\u001b[0;34m]\u001b[0m\u001b[0;34m)\u001b[0m\u001b[0;34m.\u001b[0m\u001b[0mT\u001b[0m\u001b[0;34m)\u001b[0m\u001b[0;34m\u001b[0m\u001b[0m\n\u001b[0m\u001b[1;32m      2\u001b[0m \u001b[0mnetwork_props\u001b[0m\u001b[0;34m.\u001b[0m\u001b[0mcolumns\u001b[0m \u001b[0;34m=\u001b[0m \u001b[0;34m[\u001b[0m\u001b[0;34m'Node_Degree'\u001b[0m\u001b[0;34m,\u001b[0m \u001b[0;34m'Node_Betweenness'\u001b[0m\u001b[0;34m]\u001b[0m\u001b[0;34m\u001b[0m\u001b[0m\n\u001b[1;32m      3\u001b[0m \u001b[0mnetwork_props\u001b[0m \u001b[0;34m=\u001b[0m \u001b[0mnetwork_props\u001b[0m\u001b[0;34m.\u001b[0m\u001b[0mset_index\u001b[0m\u001b[0;34m(\u001b[0m\u001b[0mgene_names\u001b[0m\u001b[0;34m[\u001b[0m\u001b[0;34m:\u001b[0m\u001b[0;34m,\u001b[0m \u001b[0;36m0\u001b[0m\u001b[0;34m]\u001b[0m\u001b[0;34m)\u001b[0m\u001b[0;34m\u001b[0m\u001b[0m\n\u001b[1;32m      4\u001b[0m \u001b[0mpagerank_whole_props\u001b[0m \u001b[0;34m=\u001b[0m \u001b[0mpagerank_de_ge_loadings\u001b[0m\u001b[0;34m.\u001b[0m\u001b[0mjoin\u001b[0m\u001b[0;34m(\u001b[0m\u001b[0mnetwork_props\u001b[0m\u001b[0;34m)\u001b[0m\u001b[0;34m\u001b[0m\u001b[0m\n",
      "\u001b[0;31mNameError\u001b[0m: name 'betweenness_np' is not defined"
     ]
    }
   ],
   "source": [
    "network_props = pd.DataFrame(np.vstack([degree_np, betweenness_np]).T)\n",
    "network_props.columns = ['Node_Degree', 'Node_Betweenness']\n",
    "network_props = network_props.set_index(gene_names[:, 0])\n",
    "pagerank_whole_props = pagerank_de_ge_loadings.join(network_props)"
   ]
  },
  {
   "cell_type": "code",
   "execution_count": 223,
   "metadata": {
    "collapsed": false,
    "deletable": true,
    "editable": true
   },
   "outputs": [
    {
     "name": "stdout",
     "output_type": "stream",
     "text": [
      "Correlation between PageRank & Node Degree: 0.9875784200087704\n",
      "Correlation between PageRank & Node Betweenness: 0.8620914212811688\n"
     ]
    }
   ],
   "source": [
    "# compute correlation between gene expression and pagerank\n",
    "print (\"Correlation between PageRank & Node Degree: {}\". \\\n",
    "       format(pagerank_whole_props.Node_Degree.corr(pagerank_whole_props.PageRank_Score)))\n",
    "print (\"Correlation between PageRank & Node Betweenness: {}\". \\\n",
    "       format(pagerank_whole_props.Node_Betweenness.corr(pagerank_whole_props.PageRank_Score)))"
   ]
  },
  {
   "cell_type": "markdown",
   "metadata": {
    "deletable": true,
    "editable": true
   },
   "source": [
    "## Write Whole Dataframe to Disk"
   ]
  },
  {
   "cell_type": "code",
   "execution_count": 221,
   "metadata": {
    "collapsed": false,
    "deletable": true,
    "editable": true
   },
   "outputs": [],
   "source": [
    "pagerank_whole_props.to_csv('../data/pagerank/network_properties.tsv', sep='\\t')"
   ]
  },
  {
   "cell_type": "markdown",
   "metadata": {
    "collapsed": true,
    "deletable": true,
    "editable": true
   },
   "source": [
    "## Do Wigos genes pop up in my top candidates?\n",
    "I found some high correlation between network properties, differential expression and gene expression with the results from PageRank.\n",
    "\n",
    "Next, I want to know if any of the high ranked genes also pop up in the list that I got from Wigo."
   ]
  },
  {
   "cell_type": "code",
   "execution_count": 34,
   "metadata": {
    "collapsed": false
   },
   "outputs": [
    {
     "data": {
      "text/html": [
       "<div>\n",
       "<table border=\"1\" class=\"dataframe\">\n",
       "  <thead>\n",
       "    <tr style=\"text-align: right;\">\n",
       "      <th></th>\n",
       "      <th>Unnamed: 0</th>\n",
       "      <th>Gene-type</th>\n",
       "      <th>Gene-name</th>\n",
       "      <th>baseMean</th>\n",
       "      <th>log2FoldChange</th>\n",
       "      <th>lfcSE</th>\n",
       "      <th>stat</th>\n",
       "      <th>pvalue</th>\n",
       "      <th>padj</th>\n",
       "      <th>Unnamed: 10</th>\n",
       "    </tr>\n",
       "    <tr>\n",
       "      <th>Ensembl</th>\n",
       "      <th></th>\n",
       "      <th></th>\n",
       "      <th></th>\n",
       "      <th></th>\n",
       "      <th></th>\n",
       "      <th></th>\n",
       "      <th></th>\n",
       "      <th></th>\n",
       "      <th></th>\n",
       "      <th></th>\n",
       "    </tr>\n",
       "  </thead>\n",
       "  <tbody>\n",
       "    <tr>\n",
       "      <th>ENSG00000225206</th>\n",
       "      <td>3.0</td>\n",
       "      <td>lincRNA</td>\n",
       "      <td>MIR137HG</td>\n",
       "      <td>52.633304</td>\n",
       "      <td>3.960701</td>\n",
       "      <td>0.463280</td>\n",
       "      <td>8.549260</td>\n",
       "      <td>1.240000e-17</td>\n",
       "      <td>1.280000e-15</td>\n",
       "      <td>8h</td>\n",
       "    </tr>\n",
       "    <tr>\n",
       "      <th>ENSG00000228065</th>\n",
       "      <td>172.0</td>\n",
       "      <td>lincRNA</td>\n",
       "      <td>LINC01515</td>\n",
       "      <td>39.461913</td>\n",
       "      <td>-2.723455</td>\n",
       "      <td>0.478758</td>\n",
       "      <td>-5.688578</td>\n",
       "      <td>1.280000e-08</td>\n",
       "      <td>2.780000e-07</td>\n",
       "      <td>NaN</td>\n",
       "    </tr>\n",
       "    <tr>\n",
       "      <th>ENSG00000259820</th>\n",
       "      <td>27.0</td>\n",
       "      <td>lincRNA</td>\n",
       "      <td>AC083843.1</td>\n",
       "      <td>81.103451</td>\n",
       "      <td>2.265429</td>\n",
       "      <td>0.353440</td>\n",
       "      <td>6.409661</td>\n",
       "      <td>1.460000e-10</td>\n",
       "      <td>4.490000e-09</td>\n",
       "      <td>NaN</td>\n",
       "    </tr>\n",
       "    <tr>\n",
       "      <th>ENSG00000280721</th>\n",
       "      <td>17.0</td>\n",
       "      <td>lincRNA</td>\n",
       "      <td>AC133644.2</td>\n",
       "      <td>60.786125</td>\n",
       "      <td>3.019979</td>\n",
       "      <td>0.381553</td>\n",
       "      <td>7.914972</td>\n",
       "      <td>2.470000e-15</td>\n",
       "      <td>2.270000e-13</td>\n",
       "      <td>16h</td>\n",
       "    </tr>\n",
       "    <tr>\n",
       "      <th>ENSG00000235244</th>\n",
       "      <td>177.0</td>\n",
       "      <td>lincRNA</td>\n",
       "      <td>RP11-761E20.1</td>\n",
       "      <td>28.341391</td>\n",
       "      <td>-2.127854</td>\n",
       "      <td>0.467060</td>\n",
       "      <td>-4.555848</td>\n",
       "      <td>5.220000e-06</td>\n",
       "      <td>7.380000e-05</td>\n",
       "      <td>NaN</td>\n",
       "    </tr>\n",
       "    <tr>\n",
       "      <th>ENSG00000266411</th>\n",
       "      <td>9.0</td>\n",
       "      <td>lincRNA</td>\n",
       "      <td>RP11-180P8.3</td>\n",
       "      <td>19.185870</td>\n",
       "      <td>3.627501</td>\n",
       "      <td>0.569187</td>\n",
       "      <td>6.373122</td>\n",
       "      <td>1.850000e-10</td>\n",
       "      <td>7.370000e-09</td>\n",
       "      <td>NaN</td>\n",
       "    </tr>\n",
       "    <tr>\n",
       "      <th>ENSG00000144381</th>\n",
       "      <td>101.0</td>\n",
       "      <td>protein_coding</td>\n",
       "      <td>HSPD1</td>\n",
       "      <td>6096.255665</td>\n",
       "      <td>4.162276</td>\n",
       "      <td>0.303424</td>\n",
       "      <td>13.717679</td>\n",
       "      <td>7.960000e-43</td>\n",
       "      <td>1.270000e-39</td>\n",
       "      <td>8h</td>\n",
       "    </tr>\n",
       "    <tr>\n",
       "      <th>ENSG00000149257</th>\n",
       "      <td>47.0</td>\n",
       "      <td>protein_coding</td>\n",
       "      <td>SERPINH1</td>\n",
       "      <td>3240.130038</td>\n",
       "      <td>4.779545</td>\n",
       "      <td>0.296223</td>\n",
       "      <td>16.134950</td>\n",
       "      <td>1.450000e-58</td>\n",
       "      <td>8.660000e-55</td>\n",
       "      <td>NaN</td>\n",
       "    </tr>\n",
       "    <tr>\n",
       "      <th>ENSG00000086061</th>\n",
       "      <td>161.0</td>\n",
       "      <td>protein_coding</td>\n",
       "      <td>DNAJA1</td>\n",
       "      <td>2578.233778</td>\n",
       "      <td>3.633003</td>\n",
       "      <td>0.292479</td>\n",
       "      <td>12.421422</td>\n",
       "      <td>2.000000e-35</td>\n",
       "      <td>1.370000e-32</td>\n",
       "      <td>NaN</td>\n",
       "    </tr>\n",
       "    <tr>\n",
       "      <th>ENSG00000110172</th>\n",
       "      <td>90.0</td>\n",
       "      <td>protein_coding</td>\n",
       "      <td>CHORDC1</td>\n",
       "      <td>1652.672338</td>\n",
       "      <td>4.230463</td>\n",
       "      <td>0.291365</td>\n",
       "      <td>14.519466</td>\n",
       "      <td>9.120000e-48</td>\n",
       "      <td>2.420000e-44</td>\n",
       "      <td>NaN</td>\n",
       "    </tr>\n",
       "    <tr>\n",
       "      <th>ENSG00000105993</th>\n",
       "      <td>118.0</td>\n",
       "      <td>protein_coding</td>\n",
       "      <td>DNAJB6</td>\n",
       "      <td>1244.225445</td>\n",
       "      <td>3.992842</td>\n",
       "      <td>0.286106</td>\n",
       "      <td>13.955823</td>\n",
       "      <td>2.900000e-44</td>\n",
       "      <td>4.950000e-41</td>\n",
       "      <td>NaN</td>\n",
       "    </tr>\n",
       "    <tr>\n",
       "      <th>ENSG00000170606</th>\n",
       "      <td>425.0</td>\n",
       "      <td>protein_coding</td>\n",
       "      <td>HSPA4</td>\n",
       "      <td>1223.378613</td>\n",
       "      <td>2.625705</td>\n",
       "      <td>0.204361</td>\n",
       "      <td>12.848392</td>\n",
       "      <td>8.780000e-38</td>\n",
       "      <td>8.400000e-35</td>\n",
       "      <td>NaN</td>\n",
       "    </tr>\n",
       "    <tr>\n",
       "      <th>ENSG00000087074</th>\n",
       "      <td>63.0</td>\n",
       "      <td>protein_coding</td>\n",
       "      <td>PPP1R15A</td>\n",
       "      <td>1296.121660</td>\n",
       "      <td>4.541492</td>\n",
       "      <td>0.408101</td>\n",
       "      <td>11.128351</td>\n",
       "      <td>9.130000e-29</td>\n",
       "      <td>5.370000e-26</td>\n",
       "      <td>16h</td>\n",
       "    </tr>\n",
       "    <tr>\n",
       "      <th>ENSG00000013441</th>\n",
       "      <td>175.0</td>\n",
       "      <td>protein_coding</td>\n",
       "      <td>CLK1</td>\n",
       "      <td>962.694445</td>\n",
       "      <td>3.567384</td>\n",
       "      <td>0.282301</td>\n",
       "      <td>12.636821</td>\n",
       "      <td>1.320000e-36</td>\n",
       "      <td>1.420000e-33</td>\n",
       "      <td>NaN</td>\n",
       "    </tr>\n",
       "    <tr>\n",
       "      <th>ENSG00000168439</th>\n",
       "      <td>211.0</td>\n",
       "      <td>protein_coding</td>\n",
       "      <td>STIP1</td>\n",
       "      <td>848.061922</td>\n",
       "      <td>3.333059</td>\n",
       "      <td>0.261143</td>\n",
       "      <td>12.763359</td>\n",
       "      <td>2.630000e-37</td>\n",
       "      <td>2.950000e-34</td>\n",
       "      <td>NaN</td>\n",
       "    </tr>\n",
       "    <tr>\n",
       "      <th>ENSG00000114416</th>\n",
       "      <td>325.0</td>\n",
       "      <td>protein_coding</td>\n",
       "      <td>FXR1</td>\n",
       "      <td>777.814239</td>\n",
       "      <td>2.905035</td>\n",
       "      <td>0.227350</td>\n",
       "      <td>12.777804</td>\n",
       "      <td>2.180000e-37</td>\n",
       "      <td>2.570000e-34</td>\n",
       "      <td>NaN</td>\n",
       "    </tr>\n",
       "    <tr>\n",
       "      <th>ENSG00000004478</th>\n",
       "      <td>86.0</td>\n",
       "      <td>protein_coding</td>\n",
       "      <td>FKBP4</td>\n",
       "      <td>771.592997</td>\n",
       "      <td>4.294658</td>\n",
       "      <td>0.329669</td>\n",
       "      <td>13.027173</td>\n",
       "      <td>8.570000e-39</td>\n",
       "      <td>1.180000e-35</td>\n",
       "      <td>NaN</td>\n",
       "    </tr>\n",
       "    <tr>\n",
       "      <th>ENSG00000163376</th>\n",
       "      <td>112.0</td>\n",
       "      <td>protein_coding</td>\n",
       "      <td>KBTBD8</td>\n",
       "      <td>725.224687</td>\n",
       "      <td>4.002675</td>\n",
       "      <td>0.327013</td>\n",
       "      <td>12.240117</td>\n",
       "      <td>1.900000e-34</td>\n",
       "      <td>1.680000e-31</td>\n",
       "      <td>NaN</td>\n",
       "    </tr>\n",
       "    <tr>\n",
       "      <th>NaN</th>\n",
       "      <td>NaN</td>\n",
       "      <td>protein_coding</td>\n",
       "      <td>DDX58</td>\n",
       "      <td>NaN</td>\n",
       "      <td>NaN</td>\n",
       "      <td>NaN</td>\n",
       "      <td>NaN</td>\n",
       "      <td>NaN</td>\n",
       "      <td>NaN</td>\n",
       "      <td>NaN</td>\n",
       "    </tr>\n",
       "    <tr>\n",
       "      <th>NaN</th>\n",
       "      <td>NaN</td>\n",
       "      <td>protein_coding</td>\n",
       "      <td>MX1</td>\n",
       "      <td>NaN</td>\n",
       "      <td>NaN</td>\n",
       "      <td>NaN</td>\n",
       "      <td>NaN</td>\n",
       "      <td>NaN</td>\n",
       "      <td>NaN</td>\n",
       "      <td>NaN</td>\n",
       "    </tr>\n",
       "  </tbody>\n",
       "</table>\n",
       "</div>"
      ],
      "text/plain": [
       "                 Unnamed: 0       Gene-type      Gene-name     baseMean  \\\n",
       "Ensembl                                                                   \n",
       "ENSG00000225206         3.0         lincRNA       MIR137HG    52.633304   \n",
       "ENSG00000228065       172.0         lincRNA      LINC01515    39.461913   \n",
       "ENSG00000259820        27.0         lincRNA     AC083843.1    81.103451   \n",
       "ENSG00000280721        17.0         lincRNA     AC133644.2    60.786125   \n",
       "ENSG00000235244       177.0         lincRNA  RP11-761E20.1    28.341391   \n",
       "ENSG00000266411         9.0         lincRNA   RP11-180P8.3    19.185870   \n",
       "ENSG00000144381       101.0  protein_coding          HSPD1  6096.255665   \n",
       "ENSG00000149257        47.0  protein_coding       SERPINH1  3240.130038   \n",
       "ENSG00000086061       161.0  protein_coding         DNAJA1  2578.233778   \n",
       "ENSG00000110172        90.0  protein_coding        CHORDC1  1652.672338   \n",
       "ENSG00000105993       118.0  protein_coding         DNAJB6  1244.225445   \n",
       "ENSG00000170606       425.0  protein_coding          HSPA4  1223.378613   \n",
       "ENSG00000087074        63.0  protein_coding       PPP1R15A  1296.121660   \n",
       "ENSG00000013441       175.0  protein_coding           CLK1   962.694445   \n",
       "ENSG00000168439       211.0  protein_coding          STIP1   848.061922   \n",
       "ENSG00000114416       325.0  protein_coding           FXR1   777.814239   \n",
       "ENSG00000004478        86.0  protein_coding          FKBP4   771.592997   \n",
       "ENSG00000163376       112.0  protein_coding         KBTBD8   725.224687   \n",
       "NaN                     NaN  protein_coding          DDX58          NaN   \n",
       "NaN                     NaN  protein_coding            MX1          NaN   \n",
       "\n",
       "                 log2FoldChange     lfcSE       stat        pvalue  \\\n",
       "Ensembl                                                              \n",
       "ENSG00000225206        3.960701  0.463280   8.549260  1.240000e-17   \n",
       "ENSG00000228065       -2.723455  0.478758  -5.688578  1.280000e-08   \n",
       "ENSG00000259820        2.265429  0.353440   6.409661  1.460000e-10   \n",
       "ENSG00000280721        3.019979  0.381553   7.914972  2.470000e-15   \n",
       "ENSG00000235244       -2.127854  0.467060  -4.555848  5.220000e-06   \n",
       "ENSG00000266411        3.627501  0.569187   6.373122  1.850000e-10   \n",
       "ENSG00000144381        4.162276  0.303424  13.717679  7.960000e-43   \n",
       "ENSG00000149257        4.779545  0.296223  16.134950  1.450000e-58   \n",
       "ENSG00000086061        3.633003  0.292479  12.421422  2.000000e-35   \n",
       "ENSG00000110172        4.230463  0.291365  14.519466  9.120000e-48   \n",
       "ENSG00000105993        3.992842  0.286106  13.955823  2.900000e-44   \n",
       "ENSG00000170606        2.625705  0.204361  12.848392  8.780000e-38   \n",
       "ENSG00000087074        4.541492  0.408101  11.128351  9.130000e-29   \n",
       "ENSG00000013441        3.567384  0.282301  12.636821  1.320000e-36   \n",
       "ENSG00000168439        3.333059  0.261143  12.763359  2.630000e-37   \n",
       "ENSG00000114416        2.905035  0.227350  12.777804  2.180000e-37   \n",
       "ENSG00000004478        4.294658  0.329669  13.027173  8.570000e-39   \n",
       "ENSG00000163376        4.002675  0.327013  12.240117  1.900000e-34   \n",
       "NaN                         NaN       NaN        NaN           NaN   \n",
       "NaN                         NaN       NaN        NaN           NaN   \n",
       "\n",
       "                         padj Unnamed: 10  \n",
       "Ensembl                                    \n",
       "ENSG00000225206  1.280000e-15          8h  \n",
       "ENSG00000228065  2.780000e-07         NaN  \n",
       "ENSG00000259820  4.490000e-09         NaN  \n",
       "ENSG00000280721  2.270000e-13         16h  \n",
       "ENSG00000235244  7.380000e-05         NaN  \n",
       "ENSG00000266411  7.370000e-09         NaN  \n",
       "ENSG00000144381  1.270000e-39          8h  \n",
       "ENSG00000149257  8.660000e-55         NaN  \n",
       "ENSG00000086061  1.370000e-32         NaN  \n",
       "ENSG00000110172  2.420000e-44         NaN  \n",
       "ENSG00000105993  4.950000e-41         NaN  \n",
       "ENSG00000170606  8.400000e-35         NaN  \n",
       "ENSG00000087074  5.370000e-26         16h  \n",
       "ENSG00000013441  1.420000e-33         NaN  \n",
       "ENSG00000168439  2.950000e-34         NaN  \n",
       "ENSG00000114416  2.570000e-34         NaN  \n",
       "ENSG00000004478  1.180000e-35         NaN  \n",
       "ENSG00000163376  1.680000e-31         NaN  \n",
       "NaN                       NaN         NaN  \n",
       "NaN                       NaN         NaN  "
      ]
     },
     "execution_count": 34,
     "metadata": {},
     "output_type": "execute_result"
    }
   ],
   "source": [
    "infection_genes = pd.DataFrame.from_csv('../data/labels/labels_wigo.csv', sep='\\t', index_col=3)\n",
    "infection_genes"
   ]
  },
  {
   "cell_type": "code",
   "execution_count": 40,
   "metadata": {
    "collapsed": false
   },
   "outputs": [],
   "source": [
    "for index, row in pagerank_scores[:100].iterrows():\n",
    "    if index in infection_genes:\n",
    "        print (\"Found Gene with Rank {} and ID {} ({}) in Wigos list of infection genes\"\\\n",
    "               .format(row['Rank'], index, row['Gene_Name'])\n",
    "              )"
   ]
  },
  {
   "cell_type": "code",
   "execution_count": 54,
   "metadata": {
    "collapsed": false
   },
   "outputs": [
    {
     "name": "stdout",
     "output_type": "stream",
     "text": [
      "Found Ensembl ID ENSG00000013441 (CLK1)\tPageRank: 555\n",
      "Found Ensembl ID ENSG00000168439 (STIP1)\tPageRank: 339\n",
      "Found Ensembl ID ENSG00000114416 (FXR1)\tPageRank: 475\n",
      "Found Ensembl ID ENSG00000004478 (FKBP4)\tPageRank: 715\n"
     ]
    }
   ],
   "source": [
    "for index, row in infection_genes.iterrows():\n",
    "    if index in pagerank_scores.index:\n",
    "        print ('Found Ensembl ID {} ({})\\tPageRank: {}'\\\n",
    "               .format(index, row['Gene-name'], pagerank_scores.loc[index]['Rank'])\n",
    "              )"
   ]
  },
  {
   "cell_type": "code",
   "execution_count": null,
   "metadata": {
    "collapsed": true
   },
   "outputs": [],
   "source": []
  }
 ],
 "metadata": {
  "kernelspec": {
   "display_name": "Python 3",
   "language": "python",
   "name": "python3"
  },
  "language_info": {
   "codemirror_mode": {
    "name": "ipython",
    "version": 3
   },
   "file_extension": ".py",
   "mimetype": "text/x-python",
   "name": "python",
   "nbconvert_exporter": "python",
   "pygments_lexer": "ipython3",
   "version": "3.6.1"
  }
 },
 "nbformat": 4,
 "nbformat_minor": 2
}
