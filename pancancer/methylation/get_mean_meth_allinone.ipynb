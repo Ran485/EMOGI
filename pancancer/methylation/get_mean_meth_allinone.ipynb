{
 "cells": [
  {
   "cell_type": "markdown",
   "metadata": {},
   "source": [
    "# Get One DataFrame containing the mean Methylation level across all Samples"
   ]
  },
  {
   "cell_type": "code",
   "execution_count": 1,
   "metadata": {},
   "outputs": [],
   "source": [
    "import os, subprocess\n",
    "import pandas as pd\n",
    "import numpy as np"
   ]
  },
  {
   "cell_type": "code",
   "execution_count": 2,
   "metadata": {},
   "outputs": [],
   "source": [
    "def file_len(fname):\n",
    "    p = subprocess.Popen(['wc', '-l', fname], stdout=subprocess.PIPE, \n",
    "                                              stderr=subprocess.PIPE)\n",
    "    result, err = p.communicate()\n",
    "    if p.returncode != 0:\n",
    "        raise IOError(err)\n",
    "    return int(result.strip().split()[0])"
   ]
  },
  {
   "cell_type": "code",
   "execution_count": 3,
   "metadata": {},
   "outputs": [
    {
     "name": "stdout",
     "output_type": "stream",
     "text": [
      "Processed 100 methylation profiles\n",
      "Processed 200 methylation profiles\n",
      "Processed 300 methylation profiles\n",
      "Processed 400 methylation profiles\n",
      "Processed 500 methylation profiles\n",
      "Processed 600 methylation profiles\n",
      "Processed 700 methylation profiles\n",
      "Processed 800 methylation profiles\n",
      "Processed 900 methylation profiles\n",
      "Processed 1000 methylation profiles\n",
      "Processed 1100 methylation profiles\n",
      "Processed 1200 methylation profiles\n",
      "Processed 1300 methylation profiles\n",
      "Processed 1400 methylation profiles\n",
      "Processed 1500 methylation profiles\n",
      "Processed 1600 methylation profiles\n",
      "Processed 1700 methylation profiles\n",
      "Processed 1800 methylation profiles\n",
      "Processed 1900 methylation profiles\n",
      "Processed 2000 methylation profiles\n",
      "Processed 2100 methylation profiles\n",
      "Processed 2200 methylation profiles\n",
      "Processed 2300 methylation profiles\n",
      "Processed 2400 methylation profiles\n",
      "Processed 2500 methylation profiles\n",
      "Processed 2600 methylation profiles\n",
      "Processed 2700 methylation profiles\n",
      "Processed 2800 methylation profiles\n",
      "Processed 2900 methylation profiles\n",
      "Processed 3000 methylation profiles\n",
      "Processed 3100 methylation profiles\n",
      "Processed 3200 methylation profiles\n",
      "Processed 3300 methylation profiles\n",
      "Processed 3400 methylation profiles\n",
      "Processed 3500 methylation profiles\n",
      "Processed 3600 methylation profiles\n",
      "Processed 3700 methylation profiles\n",
      "Processed 3800 methylation profiles\n",
      "Processed 3900 methylation profiles\n",
      "Processed 4000 methylation profiles\n",
      "Processed 4100 methylation profiles\n",
      "Processed 4200 methylation profiles\n",
      "Processed 4300 methylation profiles\n",
      "Processed 4400 methylation profiles\n",
      "Processed 4500 methylation profiles\n",
      "Processed 4600 methylation profiles\n",
      "Processed 4700 methylation profiles\n",
      "Processed 4800 methylation profiles\n",
      "Processed 4900 methylation profiles\n",
      "Processed 5000 methylation profiles\n",
      "Processed 5100 methylation profiles\n",
      "Processed 5200 methylation profiles\n",
      "Processed 5300 methylation profiles\n",
      "Processed 5400 methylation profiles\n",
      "Processed 5500 methylation profiles\n",
      "Processed 5600 methylation profiles\n",
      "Processed 5700 methylation profiles\n",
      "Processed 5800 methylation profiles\n",
      "Processed 5900 methylation profiles\n",
      "Processed 6000 methylation profiles\n",
      "Processed 6100 methylation profiles\n",
      "Processed 6200 methylation profiles\n",
      "Processed 6300 methylation profiles\n",
      "Processed 6400 methylation profiles\n",
      "Processed 6500 methylation profiles\n",
      "Processed 6600 methylation profiles\n",
      "Processed 6700 methylation profiles\n",
      "Processed 6800 methylation profiles\n",
      "Processed 6900 methylation profiles\n",
      "Processed 7000 methylation profiles\n",
      "7074\n"
     ]
    }
   ],
   "source": [
    "download_dir = '/project/gcn/diseasegcn/data/pancancer/TCGA/methylation/download/'\n",
    "count = 0\n",
    "sum_df = None\n",
    "evidence = None\n",
    "abort = False\n",
    "no_profiles_read = 0\n",
    "for dname in os.listdir(download_dir):\n",
    "    sub_dirname = os.path.join(download_dir, dname)\n",
    "    if os.path.isdir(sub_dirname):\n",
    "        for fname in os.listdir(sub_dirname):\n",
    "            if fname.endswith('gdc_hg38.txt'):\n",
    "                count += 1\n",
    "                m_df = pd.read_csv(os.path.join(sub_dirname, fname), sep='\\t')\n",
    "                m_df.fillna(0, inplace=True)\n",
    "                if sum_df is None:\n",
    "                    sum_df = m_df\n",
    "                    no_profiles_read += 1\n",
    "                else:\n",
    "                    if sum_df.shape[0] == m_df.shape[0]:\n",
    "                        sum_df.loc[:, 'Beta_value'] = sum_df.Beta_value + m_df.Beta_value\n",
    "                        no_profiles_read += 1\n",
    "                if count % 100 == 0:\n",
    "                    print (\"Processed {} methylation profiles\".format(count))\n",
    "print (count)"
   ]
  },
  {
   "cell_type": "code",
   "execution_count": 17,
   "metadata": {},
   "outputs": [
    {
     "ename": "AttributeError",
     "evalue": "'DataFrame' object has no attribute 'Beta_value'",
     "output_type": "error",
     "traceback": [
      "\u001b[0;31m---------------------------------------------------------------------------\u001b[0m",
      "\u001b[0;31mAttributeError\u001b[0m                            Traceback (most recent call last)",
      "\u001b[0;32m<ipython-input-17-ba85c32ebf08>\u001b[0m in \u001b[0;36m<module>\u001b[0;34m()\u001b[0m\n\u001b[1;32m      1\u001b[0m \u001b[0msum_df\u001b[0m\u001b[0;34m[\u001b[0m\u001b[0;34m'Beta_value_mean'\u001b[0m\u001b[0;34m]\u001b[0m \u001b[0;34m=\u001b[0m \u001b[0msum_df\u001b[0m\u001b[0;34m.\u001b[0m\u001b[0mBeta_value\u001b[0m \u001b[0;34m/\u001b[0m \u001b[0mno_profiles_read\u001b[0m\u001b[0;34m\u001b[0m\u001b[0m\n\u001b[1;32m      2\u001b[0m \u001b[0msum_df\u001b[0m\u001b[0;34m.\u001b[0m\u001b[0mrename\u001b[0m\u001b[0;34m(\u001b[0m\u001b[0mcolumns\u001b[0m\u001b[0;34m=\u001b[0m\u001b[0;34m{\u001b[0m\u001b[0;34m'Beta_value'\u001b[0m\u001b[0;34m:\u001b[0m\u001b[0;34m'Beta_value_sum'\u001b[0m\u001b[0;34m}\u001b[0m\u001b[0;34m,\u001b[0m \u001b[0minplace\u001b[0m\u001b[0;34m=\u001b[0m\u001b[0;32mTrue\u001b[0m\u001b[0;34m)\u001b[0m\u001b[0;34m\u001b[0m\u001b[0m\n\u001b[0;32m----> 3\u001b[0;31m \u001b[0msum_df\u001b[0m\u001b[0;34m.\u001b[0m\u001b[0mBeta_value\u001b[0m\u001b[0;34m.\u001b[0m\u001b[0mmedian\u001b[0m\u001b[0;34m(\u001b[0m\u001b[0;34m)\u001b[0m\u001b[0;34m,\u001b[0m \u001b[0mno_profiles_read\u001b[0m\u001b[0;34m\u001b[0m\u001b[0m\n\u001b[0m",
      "\u001b[0;32m/pkg/python-3.6.0-0/lib/python3.6/site-packages/pandas/core/generic.py\u001b[0m in \u001b[0;36m__getattr__\u001b[0;34m(self, name)\u001b[0m\n\u001b[1;32m   2742\u001b[0m             \u001b[0;32mif\u001b[0m \u001b[0mname\u001b[0m \u001b[0;32min\u001b[0m \u001b[0mself\u001b[0m\u001b[0;34m.\u001b[0m\u001b[0m_info_axis\u001b[0m\u001b[0;34m:\u001b[0m\u001b[0;34m\u001b[0m\u001b[0m\n\u001b[1;32m   2743\u001b[0m                 \u001b[0;32mreturn\u001b[0m \u001b[0mself\u001b[0m\u001b[0;34m[\u001b[0m\u001b[0mname\u001b[0m\u001b[0;34m]\u001b[0m\u001b[0;34m\u001b[0m\u001b[0m\n\u001b[0;32m-> 2744\u001b[0;31m             \u001b[0;32mreturn\u001b[0m \u001b[0mobject\u001b[0m\u001b[0;34m.\u001b[0m\u001b[0m__getattribute__\u001b[0m\u001b[0;34m(\u001b[0m\u001b[0mself\u001b[0m\u001b[0;34m,\u001b[0m \u001b[0mname\u001b[0m\u001b[0;34m)\u001b[0m\u001b[0;34m\u001b[0m\u001b[0m\n\u001b[0m\u001b[1;32m   2745\u001b[0m \u001b[0;34m\u001b[0m\u001b[0m\n\u001b[1;32m   2746\u001b[0m     \u001b[0;32mdef\u001b[0m \u001b[0m__setattr__\u001b[0m\u001b[0;34m(\u001b[0m\u001b[0mself\u001b[0m\u001b[0;34m,\u001b[0m \u001b[0mname\u001b[0m\u001b[0;34m,\u001b[0m \u001b[0mvalue\u001b[0m\u001b[0;34m)\u001b[0m\u001b[0;34m:\u001b[0m\u001b[0;34m\u001b[0m\u001b[0m\n",
      "\u001b[0;31mAttributeError\u001b[0m: 'DataFrame' object has no attribute 'Beta_value'"
     ]
    }
   ],
   "source": [
    "sum_df['Beta_value_mean'] = sum_df.Beta_value / no_profiles_read\n",
    "sum_df.rename(columns={'Beta_value':'Beta_value_sum'}, inplace=True)\n",
    "sum_df.Beta_value.median(), no_profiles_read"
   ]
  },
  {
   "cell_type": "code",
   "execution_count": 11,
   "metadata": {},
   "outputs": [],
   "source": [
    "colnames = sum_df.columns\n",
    "colnames[1] = 'Beta_value_sum'\n",
    "sum_df.columns = colnames"
   ]
  },
  {
   "cell_type": "code",
   "execution_count": 19,
   "metadata": {},
   "outputs": [],
   "source": [
    "fname = '../../data/pancancer/TCGA/methylation/mean_450k_methylation_profile.tsv'\n",
    "sum_df.to_csv(fname, sep='\\t')"
   ]
  },
  {
   "cell_type": "code",
   "execution_count": 21,
   "metadata": {},
   "outputs": [
    {
     "data": {
      "text/plain": [
       "Index(['Composite Element REF', 'Beta_value_sum', 'Chromosome', 'Start', 'End',\n",
       "       'Gene_Symbol', 'Gene_Type', 'Transcript_ID', 'Position_to_TSS',\n",
       "       'CGI_Coordinate', 'Feature_Type', 'Beta_value_mean'],\n",
       "      dtype='object')"
      ]
     },
     "execution_count": 21,
     "metadata": {},
     "output_type": "execute_result"
    }
   ],
   "source": []
  },
  {
   "cell_type": "code",
   "execution_count": null,
   "metadata": {},
   "outputs": [],
   "source": []
  }
 ],
 "metadata": {
  "kernelspec": {
   "display_name": "Python 3",
   "language": "python",
   "name": "python3"
  },
  "language_info": {
   "codemirror_mode": {
    "name": "ipython",
    "version": 3
   },
   "file_extension": ".py",
   "mimetype": "text/x-python",
   "name": "python",
   "nbconvert_exporter": "python",
   "pygments_lexer": "ipython3",
   "version": "3.6.1"
  }
 },
 "nbformat": 4,
 "nbformat_minor": 2
}
