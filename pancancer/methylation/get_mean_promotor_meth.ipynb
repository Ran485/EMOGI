{
 "cells": [
  {
   "cell_type": "markdown",
   "metadata": {},
   "source": [
    "# Preprocessing of Methylation Data"
   ]
  },
  {
   "cell_type": "code",
   "execution_count": 1,
   "metadata": {},
   "outputs": [
    {
     "name": "stderr",
     "output_type": "stream",
     "text": [
      "/home/sasse/.local/lib/python3.6/site-packages/h5py/__init__.py:34: FutureWarning: Conversion of the second argument of issubdtype from `float` to `np.floating` is deprecated. In future, it will be treated as `np.float64 == np.dtype(float).type`.\n",
      "  from ._conv import register_converters as _register_converters\n"
     ]
    }
   ],
   "source": [
    "import numpy as np\n",
    "import pandas as pd\n",
    "import matplotlib.pyplot as plt\n",
    "import seaborn, h5py\n",
    "%matplotlib inline"
   ]
  },
  {
   "cell_type": "code",
   "execution_count": 50,
   "metadata": {},
   "outputs": [],
   "source": [
    "LOAD_ANNOTATION_WITH_PROM = True\n",
    "m_file = '/project/gcn/diseasegcn/data/pancancer/TCGA/methylation/download/ff41e5fe-2564-4f23-942b-60fbdd33b596/jhu-usc.edu_BRCA.HumanMethylation27.2.lvl-3.TCGA-BH-A0HW-01A-11D-A032-05.gdc_hg38.txt'\n",
    "m_file2 = '/project/gcn/diseasegcn/data/pancancer/TCGA/methylation/download/fff8ff71-7c4d-4f25-a611-7843b8b84b45/jhu-usc.edu_LUAD.HumanMethylation450.2.lvl-3.TCGA-35-5375-01A-01D-1626-05.gdc_hg38.txt'"
   ]
  },
  {
   "cell_type": "code",
   "execution_count": 52,
   "metadata": {},
   "outputs": [],
   "source": [
    "m_df_1 = pd.read_csv(m_file, sep='\\t')\n",
    "m_df_1.dropna(axis=0, inplace=True)\n",
    "m_df_2 = pd.read_csv(m_file2, sep='\\t')\n",
    "m_df_2.dropna(axis=0, inplace=True)"
   ]
  },
  {
   "cell_type": "code",
   "execution_count": 41,
   "metadata": {},
   "outputs": [
    {
     "data": {
      "text/html": [
       "<div>\n",
       "<table border=\"1\" class=\"dataframe\">\n",
       "  <thead>\n",
       "    <tr style=\"text-align: right;\">\n",
       "      <th></th>\n",
       "      <th>Unnamed: 0</th>\n",
       "      <th>chr</th>\n",
       "      <th>source</th>\n",
       "      <th>type</th>\n",
       "      <th>start</th>\n",
       "      <th>end</th>\n",
       "      <th>score</th>\n",
       "      <th>strand</th>\n",
       "      <th>phase</th>\n",
       "      <th>attr</th>\n",
       "      <th>ID</th>\n",
       "      <th>Symbol</th>\n",
       "      <th>promoter_start</th>\n",
       "      <th>promoter_end</th>\n",
       "    </tr>\n",
       "  </thead>\n",
       "  <tbody>\n",
       "    <tr>\n",
       "      <th>0</th>\n",
       "      <td>1062</td>\n",
       "      <td>chr1</td>\n",
       "      <td>HAVANA</td>\n",
       "      <td>gene</td>\n",
       "      <td>944204.0</td>\n",
       "      <td>959309.0</td>\n",
       "      <td>.</td>\n",
       "      <td>-</td>\n",
       "      <td>.</td>\n",
       "      <td>ID=ENSG00000188976.10;gene_id=ENSG00000188976....</td>\n",
       "      <td>ENSG00000188976</td>\n",
       "      <td>NOC2L</td>\n",
       "      <td>959059.0</td>\n",
       "      <td>959559.0</td>\n",
       "    </tr>\n",
       "    <tr>\n",
       "      <th>1</th>\n",
       "      <td>1144</td>\n",
       "      <td>chr1</td>\n",
       "      <td>HAVANA</td>\n",
       "      <td>gene</td>\n",
       "      <td>960587.0</td>\n",
       "      <td>965715.0</td>\n",
       "      <td>.</td>\n",
       "      <td>+</td>\n",
       "      <td>.</td>\n",
       "      <td>ID=ENSG00000187961.13;gene_id=ENSG00000187961....</td>\n",
       "      <td>ENSG00000187961</td>\n",
       "      <td>KLHL17</td>\n",
       "      <td>960337.0</td>\n",
       "      <td>960837.0</td>\n",
       "    </tr>\n",
       "    <tr>\n",
       "      <th>2</th>\n",
       "      <td>1375</td>\n",
       "      <td>chr1</td>\n",
       "      <td>HAVANA</td>\n",
       "      <td>gene</td>\n",
       "      <td>998962.0</td>\n",
       "      <td>1000172.0</td>\n",
       "      <td>.</td>\n",
       "      <td>-</td>\n",
       "      <td>.</td>\n",
       "      <td>ID=ENSG00000188290.10;gene_id=ENSG00000188290....</td>\n",
       "      <td>ENSG00000188290</td>\n",
       "      <td>HES4</td>\n",
       "      <td>999922.0</td>\n",
       "      <td>1000422.0</td>\n",
       "    </tr>\n",
       "    <tr>\n",
       "      <th>3</th>\n",
       "      <td>1414</td>\n",
       "      <td>chr1</td>\n",
       "      <td>HAVANA</td>\n",
       "      <td>gene</td>\n",
       "      <td>1001138.0</td>\n",
       "      <td>1014541.0</td>\n",
       "      <td>.</td>\n",
       "      <td>+</td>\n",
       "      <td>.</td>\n",
       "      <td>ID=ENSG00000187608.8;gene_id=ENSG00000187608.8...</td>\n",
       "      <td>ENSG00000187608</td>\n",
       "      <td>ISG15</td>\n",
       "      <td>1000888.0</td>\n",
       "      <td>1001388.0</td>\n",
       "    </tr>\n",
       "    <tr>\n",
       "      <th>4</th>\n",
       "      <td>1451</td>\n",
       "      <td>chr1</td>\n",
       "      <td>HAVANA</td>\n",
       "      <td>gene</td>\n",
       "      <td>1020123.0</td>\n",
       "      <td>1056118.0</td>\n",
       "      <td>.</td>\n",
       "      <td>+</td>\n",
       "      <td>.</td>\n",
       "      <td>ID=ENSG00000188157.14;gene_id=ENSG00000188157....</td>\n",
       "      <td>ENSG00000188157</td>\n",
       "      <td>AGRN</td>\n",
       "      <td>1019873.0</td>\n",
       "      <td>1020373.0</td>\n",
       "    </tr>\n",
       "  </tbody>\n",
       "</table>\n",
       "</div>"
      ],
      "text/plain": [
       "   Unnamed: 0   chr  source  type      start        end score strand phase  \\\n",
       "0        1062  chr1  HAVANA  gene   944204.0   959309.0     .      -     .   \n",
       "1        1144  chr1  HAVANA  gene   960587.0   965715.0     .      +     .   \n",
       "2        1375  chr1  HAVANA  gene   998962.0  1000172.0     .      -     .   \n",
       "3        1414  chr1  HAVANA  gene  1001138.0  1014541.0     .      +     .   \n",
       "4        1451  chr1  HAVANA  gene  1020123.0  1056118.0     .      +     .   \n",
       "\n",
       "                                                attr               ID  Symbol  \\\n",
       "0  ID=ENSG00000188976.10;gene_id=ENSG00000188976....  ENSG00000188976   NOC2L   \n",
       "1  ID=ENSG00000187961.13;gene_id=ENSG00000187961....  ENSG00000187961  KLHL17   \n",
       "2  ID=ENSG00000188290.10;gene_id=ENSG00000188290....  ENSG00000188290    HES4   \n",
       "3  ID=ENSG00000187608.8;gene_id=ENSG00000187608.8...  ENSG00000187608   ISG15   \n",
       "4  ID=ENSG00000188157.14;gene_id=ENSG00000188157....  ENSG00000188157    AGRN   \n",
       "\n",
       "   promoter_start  promoter_end  \n",
       "0        959059.0      959559.0  \n",
       "1        960337.0      960837.0  \n",
       "2        999922.0     1000422.0  \n",
       "3       1000888.0     1001388.0  \n",
       "4       1019873.0     1020373.0  "
      ]
     },
     "execution_count": 41,
     "metadata": {},
     "output_type": "execute_result"
    }
   ],
   "source": [
    "if LOAD_ANNOTATION_WITH_PROM:\n",
    "    anno_file = '/project/gcn/diseasegcn/data/pancancer/TCGA/methylation/annotation_with_promoters_500bp.tsv'\n",
    "    a_df = pd.read_csv(anno_file, sep='\\t')\n",
    "else:\n",
    "    anno_file = '/project/gcn/diseasegcn/data/pancancer/TCGA/methylation/gencode.v28.annotation.gff3'\n",
    "    a_df = pd.read_csv(anno_file, sep='\\t', skiprows=7, header=None, names=['chr', 'source', 'type', 'start', 'end', 'score', 'strand', 'phase', 'attr'])\n",
    "    a_df.dropna(axis=0, inplace=True)\n",
    "    a_df = a_df[a_df.type == 'gene']\n",
    "    annotated_gene_ids = [i[0].strip().split('=')[1].strip().split('.')[0].strip() for i in a_df.attr.str.split(';')]\n",
    "    annotated_gene_names = [i[3].strip().split('=')[1].strip() for i in a_df.attr.str.split(';')]\n",
    "    a_df['ID'] = annotated_gene_ids\n",
    "    a_df['Symbol'] = annotated_gene_names\n",
    "    a_df.drop_duplicates(subset='Symbol', inplace=True) # remove duplicate genes (not interested in transcript level)\n",
    "a_df.head()"
   ]
  },
  {
   "cell_type": "code",
   "execution_count": 55,
   "metadata": {},
   "outputs": [
    {
     "name": "stdout",
     "output_type": "stream",
     "text": [
      "#genes in network but without annotation: 519\n"
     ]
    }
   ],
   "source": [
    "# load Container\n",
    "data_file = '../../data/pancancer/hotnet_iref_vec_input_unbalanced.h5'\n",
    "\n",
    "with h5py.File(data_file, 'r') as f:\n",
    "    network = f['network'][:]\n",
    "    features = f['features'][:]\n",
    "    node_names = f['gene_names'][:]\n",
    "    y_train = f['y_train'][:]\n",
    "    y_test = f['y_test'][:]\n",
    "    if 'y_val' in f:\n",
    "        y_val = f['y_val'][:]\n",
    "    else:\n",
    "        y_val = None\n",
    "    train_mask = f['mask_train'][:]\n",
    "    test_mask = f['mask_test'][:]\n",
    "    if 'mask_val' in f:\n",
    "        val_mask = f['mask_val'][:]\n",
    "    else:\n",
    "        val_mask = None\n",
    "\n",
    "# build data frame for node names\n",
    "node_names_df = pd.DataFrame(node_names, columns=['ID', 'Symbol'])\n",
    "print (\"#genes in network but without annotation: {}\".format(node_names_df[~node_names_df.Symbol.isin(a_df.Symbol)].shape[0]))"
   ]
  },
  {
   "cell_type": "code",
   "execution_count": 7,
   "metadata": {},
   "outputs": [
    {
     "name": "stdout",
     "output_type": "stream",
     "text": [
      "(11610, 11)\n"
     ]
    }
   ],
   "source": [
    "a_df = a_df[a_df.Symbol.isin(node_names_df.Symbol)]\n",
    "print (a_df.shape)\n",
    "a_df.drop_duplicates(subset='Symbol', inplace=True)"
   ]
  },
  {
   "cell_type": "code",
   "execution_count": 137,
   "metadata": {},
   "outputs": [],
   "source": [
    "mean_meth = pd.read_csv('../../data/pancancer/TCGA/methylation/mean_450k_methylation_profile.tsv', sep='\\t')"
   ]
  },
  {
   "cell_type": "code",
   "execution_count": 138,
   "metadata": {},
   "outputs": [
    {
     "data": {
      "text/html": [
       "<div>\n",
       "<table border=\"1\" class=\"dataframe\">\n",
       "  <thead>\n",
       "    <tr style=\"text-align: right;\">\n",
       "      <th></th>\n",
       "      <th>Unnamed: 0</th>\n",
       "      <th>Composite Element REF</th>\n",
       "      <th>Beta_value_sum</th>\n",
       "      <th>Chromosome</th>\n",
       "      <th>Start</th>\n",
       "      <th>End</th>\n",
       "      <th>Gene_Symbol</th>\n",
       "      <th>Gene_Type</th>\n",
       "      <th>Transcript_ID</th>\n",
       "      <th>Position_to_TSS</th>\n",
       "      <th>CGI_Coordinate</th>\n",
       "      <th>Feature_Type</th>\n",
       "      <th>Beta_value_mean</th>\n",
       "    </tr>\n",
       "  </thead>\n",
       "  <tbody>\n",
       "    <tr>\n",
       "      <th>0</th>\n",
       "      <td>0</td>\n",
       "      <td>cg00000029</td>\n",
       "      <td>1305.707632</td>\n",
       "      <td>chr16</td>\n",
       "      <td>53434200</td>\n",
       "      <td>53434201</td>\n",
       "      <td>RBL2;RBL2;RBL2</td>\n",
       "      <td>protein_coding;protein_coding;protein_coding</td>\n",
       "      <td>ENST00000262133.9;ENST00000544405.5;ENST000005...</td>\n",
       "      <td>-221;-1420;222</td>\n",
       "      <td>CGI:chr16:53434489-53435297</td>\n",
       "      <td>N_Shore</td>\n",
       "      <td>0.286026</td>\n",
       "    </tr>\n",
       "    <tr>\n",
       "      <th>1</th>\n",
       "      <td>1</td>\n",
       "      <td>cg00000108</td>\n",
       "      <td>0.000000</td>\n",
       "      <td>chr3</td>\n",
       "      <td>37417715</td>\n",
       "      <td>37417716</td>\n",
       "      <td>C3orf35;C3orf35;C3orf35;C3orf35;C3orf35;C3orf3...</td>\n",
       "      <td>lincRNA;lincRNA;lincRNA;lincRNA;lincRNA;lincRN...</td>\n",
       "      <td>ENST00000328376.8;ENST00000332506.6;ENST000004...</td>\n",
       "      <td>18552;18552;6505;31445;18143;447;18552;18552</td>\n",
       "      <td>CGI:chr3:37451927-37453047</td>\n",
       "      <td>.</td>\n",
       "      <td>0.000000</td>\n",
       "    </tr>\n",
       "    <tr>\n",
       "      <th>2</th>\n",
       "      <td>2</td>\n",
       "      <td>cg00000109</td>\n",
       "      <td>0.000000</td>\n",
       "      <td>chr3</td>\n",
       "      <td>172198247</td>\n",
       "      <td>172198248</td>\n",
       "      <td>FNDC3B;FNDC3B;FNDC3B;FNDC3B;FNDC3B;FNDC3B</td>\n",
       "      <td>protein_coding;protein_coding;protein_coding;p...</td>\n",
       "      <td>ENST00000336824.7;ENST00000415807.5;ENST000004...</td>\n",
       "      <td>157692;158618;151333;71272;158587;71273</td>\n",
       "      <td>CGI:chr3:172039703-172040934</td>\n",
       "      <td>.</td>\n",
       "      <td>0.000000</td>\n",
       "    </tr>\n",
       "    <tr>\n",
       "      <th>3</th>\n",
       "      <td>3</td>\n",
       "      <td>cg00000165</td>\n",
       "      <td>1931.894856</td>\n",
       "      <td>chr1</td>\n",
       "      <td>90729117</td>\n",
       "      <td>90729118</td>\n",
       "      <td>.</td>\n",
       "      <td>.</td>\n",
       "      <td>.</td>\n",
       "      <td>.</td>\n",
       "      <td>CGI:chr1:90724932-90727247</td>\n",
       "      <td>S_Shore</td>\n",
       "      <td>0.423197</td>\n",
       "    </tr>\n",
       "    <tr>\n",
       "      <th>4</th>\n",
       "      <td>4</td>\n",
       "      <td>cg00000236</td>\n",
       "      <td>4043.750654</td>\n",
       "      <td>chr8</td>\n",
       "      <td>42405776</td>\n",
       "      <td>42405777</td>\n",
       "      <td>VDAC3</td>\n",
       "      <td>protein_coding</td>\n",
       "      <td>ENST00000022615.7</td>\n",
       "      <td>13872</td>\n",
       "      <td>CGI:chr8:42410918-42411241</td>\n",
       "      <td>.</td>\n",
       "      <td>0.885816</td>\n",
       "    </tr>\n",
       "  </tbody>\n",
       "</table>\n",
       "</div>"
      ],
      "text/plain": [
       "   Unnamed: 0 Composite Element REF  Beta_value_sum Chromosome      Start  \\\n",
       "0           0            cg00000029     1305.707632      chr16   53434200   \n",
       "1           1            cg00000108        0.000000       chr3   37417715   \n",
       "2           2            cg00000109        0.000000       chr3  172198247   \n",
       "3           3            cg00000165     1931.894856       chr1   90729117   \n",
       "4           4            cg00000236     4043.750654       chr8   42405776   \n",
       "\n",
       "         End                                        Gene_Symbol  \\\n",
       "0   53434201                                     RBL2;RBL2;RBL2   \n",
       "1   37417716  C3orf35;C3orf35;C3orf35;C3orf35;C3orf35;C3orf3...   \n",
       "2  172198248          FNDC3B;FNDC3B;FNDC3B;FNDC3B;FNDC3B;FNDC3B   \n",
       "3   90729118                                                  .   \n",
       "4   42405777                                              VDAC3   \n",
       "\n",
       "                                           Gene_Type  \\\n",
       "0       protein_coding;protein_coding;protein_coding   \n",
       "1  lincRNA;lincRNA;lincRNA;lincRNA;lincRNA;lincRN...   \n",
       "2  protein_coding;protein_coding;protein_coding;p...   \n",
       "3                                                  .   \n",
       "4                                     protein_coding   \n",
       "\n",
       "                                       Transcript_ID  \\\n",
       "0  ENST00000262133.9;ENST00000544405.5;ENST000005...   \n",
       "1  ENST00000328376.8;ENST00000332506.6;ENST000004...   \n",
       "2  ENST00000336824.7;ENST00000415807.5;ENST000004...   \n",
       "3                                                  .   \n",
       "4                                  ENST00000022615.7   \n",
       "\n",
       "                                Position_to_TSS                CGI_Coordinate  \\\n",
       "0                                -221;-1420;222   CGI:chr16:53434489-53435297   \n",
       "1  18552;18552;6505;31445;18143;447;18552;18552    CGI:chr3:37451927-37453047   \n",
       "2       157692;158618;151333;71272;158587;71273  CGI:chr3:172039703-172040934   \n",
       "3                                             .    CGI:chr1:90724932-90727247   \n",
       "4                                         13872    CGI:chr8:42410918-42411241   \n",
       "\n",
       "  Feature_Type  Beta_value_mean  \n",
       "0      N_Shore         0.286026  \n",
       "1            .         0.000000  \n",
       "2            .         0.000000  \n",
       "3      S_Shore         0.423197  \n",
       "4            .         0.885816  "
      ]
     },
     "execution_count": 138,
     "metadata": {},
     "output_type": "execute_result"
    }
   ],
   "source": [
    "mean_meth.head()"
   ]
  },
  {
   "cell_type": "code",
   "execution_count": 141,
   "metadata": {},
   "outputs": [],
   "source": [
    "def promoter_window_wrapper(row):\n",
    "    start, end = get_promotor_window(row['start'], row['end'], row['strand'], mean_meth)\n",
    "    return start, end\n",
    "\n",
    "\n",
    "def get_promotor_window(start, end, strand, meth_data=None):\n",
    "    if strand == '+':\n",
    "        tss = start\n",
    "    else:\n",
    "        tss = end\n",
    "    if not meth_data is None: # fancy method to get promoter\n",
    "        scan_region = (np.max(tss-1000, 0), tss + 1000)\n",
    "        return calculate_promoter_window(scan_region[0], scan_region[1], meth_data)\n",
    "    else:\n",
    "        return np.max(tss-250, 0), tss + 250\n",
    "\n",
    "\n",
    "def calculate_promoter_window(scan_start, scan_end, meth_data, shift=50, size=200):\n",
    "    best_mean_meth = None\n",
    "    best_window = (None, None)\n",
    "    for i in range(int(scan_start), int(scan_end-size+1), shift):\n",
    "        # get mean meth for window\n",
    "        m_sites_window = meth_data[meth_data.Start.between(i, i+size)]\n",
    "        m_mean_window = m_sites_window.Beta_value_mean.mean()\n",
    "        \n",
    "        # decide on best window\n",
    "        if best_mean_meth is None: # first window\n",
    "            best_mean_meth = m_mean_window\n",
    "            best_window = i, i+size\n",
    "        else: # any of the later windows\n",
    "            if abs(best_mean_meth-m_mean_window) > 0.25: # large change in mean detected\n",
    "                break\n",
    "            else: # make the current window the best one\n",
    "                best_mean_meth = m_mean_window\n",
    "                best_window = i, i+size\n",
    "    return best_window\n",
    "promoter_vec = np.vectorize(get_promotor_window)"
   ]
  },
  {
   "cell_type": "code",
   "execution_count": 55,
   "metadata": {},
   "outputs": [],
   "source": [
    "%load_ext line_profiler"
   ]
  },
  {
   "cell_type": "code",
   "execution_count": 142,
   "metadata": {},
   "outputs": [],
   "source": [
    "x = a_df.apply(promoter_window_wrapper, axis=1)"
   ]
  },
  {
   "cell_type": "code",
   "execution_count": 143,
   "metadata": {},
   "outputs": [],
   "source": [
    "p_starts = np.array([i[0] for i in x])\n",
    "p_ends = np.array([i[1] for i in x])\n"
   ]
  },
  {
   "cell_type": "code",
   "execution_count": 144,
   "metadata": {},
   "outputs": [
    {
     "data": {
      "text/plain": [
       "(array([   0.,    0., 5325.,   66.,   73.,    0.,   81.,   94.,  114.,\n",
       "         109.,    0.,  105.,   93.,  128.,  124.,  139.,    0.,  133.,\n",
       "         133.,  153.,  157.,    0.,  144.,  138.,  153.,  139.,  154.,\n",
       "           0.,  158.,  148.,  190.,  232.,    0.,  223.,  257.,  228.,\n",
       "         266.,  252.,    0.,  239.,  218.,  226.,  277.,    0.,  262.,\n",
       "         297.,  382.,    0.,    0.]),\n",
       " array([-1000.        ,  -959.18367347,  -918.36734694,  -877.55102041,\n",
       "         -836.73469388,  -795.91836735,  -755.10204082,  -714.28571429,\n",
       "         -673.46938776,  -632.65306122,  -591.83673469,  -551.02040816,\n",
       "         -510.20408163,  -469.3877551 ,  -428.57142857,  -387.75510204,\n",
       "         -346.93877551,  -306.12244898,  -265.30612245,  -224.48979592,\n",
       "         -183.67346939,  -142.85714286,  -102.04081633,   -61.2244898 ,\n",
       "          -20.40816327,    20.40816327,    61.2244898 ,   102.04081633,\n",
       "          142.85714286,   183.67346939,   224.48979592,   265.30612245,\n",
       "          306.12244898,   346.93877551,   387.75510204,   428.57142857,\n",
       "          469.3877551 ,   510.20408163,   551.02040816,   591.83673469,\n",
       "          632.65306122,   673.46938776,   714.28571429,   755.10204082,\n",
       "          795.91836735,   836.73469388,   877.55102041,   918.36734694,\n",
       "          959.18367347,  1000.        ]),\n",
       " <a list of 49 Patch objects>)"
      ]
     },
     "execution_count": 144,
     "metadata": {},
     "output_type": "execute_result"
    },
    {
     "data": {
      "image/png": "[encoded data removed]",
      "text/plain": [
       "<matplotlib.figure.Figure at 0x7fd033c1fbe0>"
      ]
     },
     "metadata": {},
     "output_type": "display_data"
    }
   ],
   "source": [
    "a_df['TSS'] = 0\n",
    "a_df.loc[a_df.strand == '+', 'TSS'] = a_df[a_df.strand == '+'].start\n",
    "a_df.loc[a_df.strand == '-', 'TSS'] = a_df[a_df.strand == '-'].end\n",
    "d_to_prom = a_df.TSS - (p_ends+p_starts)/2\n",
    "fig = plt.figure(figsize=(14, 8))\n",
    "bins = np.linspace(-1000, 1000, 50)\n",
    "plt.hist(d_to_prom, bins=bins)"
   ]
  },
  {
   "cell_type": "code",
   "execution_count": 145,
   "metadata": {},
   "outputs": [],
   "source": [
    "a_df['promoter_start'] = p_starts\n",
    "a_df['promoter_end'] = p_ends\n",
    "a_df.to_csv('../../data/pancancer/TCGA/methylation/annotation_with_promoters.tsv', sep='\\t')"
   ]
  },
  {
   "cell_type": "code",
   "execution_count": 42,
   "metadata": {},
   "outputs": [],
   "source": [
    "def get_mean_betaval_for_promoters(annotation_genes, methylation_levels):\n",
    "    \"\"\"Extract the mean methylation level at promoters for each gene in the annotation.\n",
    "    \n",
    "    This function looks for all the methylation sites that fall\n",
    "    inside all the promoters in the annotation genes df.\n",
    "    The annotation_genes df is expected to contain the columns\n",
    "    'promoter_start' and 'promoter_end'.\n",
    "    \n",
    "    Parameters:\n",
    "    ----------\n",
    "    annotation_genes:                 A dataframe containing a gene per row.\n",
    "                                      It needs to have columns for promoter_start\n",
    "                                      and promoter_end.\n",
    "    methylation_levels:               A dataframe that contains cpg sites per row.\n",
    "                                      The sites are expected to be one bp long and\n",
    "                                      should have the columns: 'Start', 'End' and \n",
    "                                      'Beta_value'.\n",
    "    Returns:\n",
    "    Two lists with the mean beta values for each promoter and the number of cpg sites\n",
    "    that support the promoter. The first list contains the mean beta values and\n",
    "    the second list contains the support.\n",
    "    \"\"\"\n",
    "    beta_vals_prom = []\n",
    "    beta_vals_gene = []\n",
    "    n_supports_prom = []\n",
    "    n_supports_gene = []\n",
    "    count = 0\n",
    "    for _, row in annotation_genes.iterrows():\n",
    "        # promoter\n",
    "        m_sites_in_promoter = methylation_levels[methylation_levels.Start.between(row.promoter_start, row.promoter_end)]\n",
    "        beta_vals_prom.append(m_sites_in_promoter.Beta_value.mean())\n",
    "        n_supports_prom.append(m_sites_in_promoter.shape[0])\n",
    "        # gene body\n",
    "        if row.strand == '+':\n",
    "            m_sites_gene = methylation_levels[methylation_levels.Start.between(row.promoter_end, row.end)]\n",
    "        else:\n",
    "            m_sites_gene = methylation_levels[methylation_levels.Start.between(row.start, row.promoter_start)]\n",
    "        beta_vals_gene.append(m_sites_gene.Beta_value.mean())\n",
    "        n_supports_gene.append(m_sites_gene.shape[0])\n",
    "        if count % 1000 == 0:\n",
    "            print (count)\n",
    "        count += 1\n",
    "\n",
    "    return beta_vals_prom, beta_vals_gene, n_supports_prom, n_supports_gene"
   ]
  },
  {
   "cell_type": "code",
   "execution_count": 79,
   "metadata": {},
   "outputs": [],
   "source": [
    "def get_preprocessed_sample(a_df, m_df):\n",
    "    beta_vals_p, beta_vals_g, n_supports_p, n_supports_g = get_mean_betaval_for_promoters(a_df, m_df)\n",
    "    res = pd.DataFrame([beta_vals_p, n_supports_p, beta_vals_g, n_supports_g]).T\n",
    "    res.columns = ['mean_beta_value_promoter', 'support_promoter',\n",
    "                   'mean_beta_value_gene', 'support_gene']\n",
    "    res.set_index(a_df.Symbol, inplace=True)\n",
    "    return res"
   ]
  },
  {
   "cell_type": "code",
   "execution_count": 80,
   "metadata": {},
   "outputs": [
    {
     "name": "stdout",
     "output_type": "stream",
     "text": [
      "0\n",
      "1000\n",
      "2000\n",
      "3000\n",
      "4000\n",
      "5000\n",
      "6000\n",
      "7000\n",
      "8000\n",
      "9000\n",
      "10000\n",
      "11000\n",
      "0\n",
      "1000\n",
      "2000\n",
      "3000\n",
      "4000\n",
      "5000\n",
      "6000\n",
      "7000\n",
      "8000\n",
      "9000\n",
      "10000\n",
      "11000\n"
     ]
    }
   ],
   "source": [
    "gene_names_df = node_names_df[node_names_df.Symbol.isin(a_df.Symbol)]\n",
    "s1 = get_preprocessed_sample(a_df, m_df_1)\n",
    "s2 = get_preprocessed_sample(a_df, m_df_2)"
   ]
  },
  {
   "cell_type": "code",
   "execution_count": 82,
   "metadata": {},
   "outputs": [
    {
     "data": {
      "text/plain": [
       "(11610, 8)"
      ]
     },
     "execution_count": 82,
     "metadata": {},
     "output_type": "execute_result"
    }
   ],
   "source": [
    "samples = [s1, s2]\n",
    "total_df = pd.concat(samples, axis=1)\n",
    "total_df.shape"
   ]
  },
  {
   "cell_type": "code",
   "execution_count": 83,
   "metadata": {},
   "outputs": [
    {
     "data": {
      "text/html": [
       "<div>\n",
       "<table border=\"1\" class=\"dataframe\">\n",
       "  <thead>\n",
       "    <tr style=\"text-align: right;\">\n",
       "      <th></th>\n",
       "      <th>mean_beta_value_promoter</th>\n",
       "      <th>support_promoter</th>\n",
       "      <th>mean_beta_value_gene</th>\n",
       "      <th>support_gene</th>\n",
       "      <th>mean_beta_value_promoter</th>\n",
       "      <th>support_promoter</th>\n",
       "      <th>mean_beta_value_gene</th>\n",
       "      <th>support_gene</th>\n",
       "    </tr>\n",
       "    <tr>\n",
       "      <th>Symbol</th>\n",
       "      <th></th>\n",
       "      <th></th>\n",
       "      <th></th>\n",
       "      <th></th>\n",
       "      <th></th>\n",
       "      <th></th>\n",
       "      <th></th>\n",
       "      <th></th>\n",
       "    </tr>\n",
       "  </thead>\n",
       "  <tbody>\n",
       "    <tr>\n",
       "      <th>NOC2L</th>\n",
       "      <td>0.019981</td>\n",
       "      <td>1.0</td>\n",
       "      <td>0.434695</td>\n",
       "      <td>4.0</td>\n",
       "      <td>0.440941</td>\n",
       "      <td>5.0</td>\n",
       "      <td>0.654141</td>\n",
       "      <td>144.0</td>\n",
       "    </tr>\n",
       "    <tr>\n",
       "      <th>KLHL17</th>\n",
       "      <td>NaN</td>\n",
       "      <td>0.0</td>\n",
       "      <td>NaN</td>\n",
       "      <td>0.0</td>\n",
       "      <td>0.576905</td>\n",
       "      <td>5.0</td>\n",
       "      <td>0.755519</td>\n",
       "      <td>56.0</td>\n",
       "    </tr>\n",
       "    <tr>\n",
       "      <th>HES4</th>\n",
       "      <td>NaN</td>\n",
       "      <td>0.0</td>\n",
       "      <td>0.011724</td>\n",
       "      <td>1.0</td>\n",
       "      <td>0.632186</td>\n",
       "      <td>4.0</td>\n",
       "      <td>0.237125</td>\n",
       "      <td>7.0</td>\n",
       "    </tr>\n",
       "    <tr>\n",
       "      <th>ISG15</th>\n",
       "      <td>0.017603</td>\n",
       "      <td>1.0</td>\n",
       "      <td>0.017380</td>\n",
       "      <td>5.0</td>\n",
       "      <td>0.460140</td>\n",
       "      <td>9.0</td>\n",
       "      <td>0.609222</td>\n",
       "      <td>249.0</td>\n",
       "    </tr>\n",
       "    <tr>\n",
       "      <th>AGRN</th>\n",
       "      <td>NaN</td>\n",
       "      <td>0.0</td>\n",
       "      <td>0.163072</td>\n",
       "      <td>10.0</td>\n",
       "      <td>0.545893</td>\n",
       "      <td>12.0</td>\n",
       "      <td>0.661636</td>\n",
       "      <td>512.0</td>\n",
       "    </tr>\n",
       "  </tbody>\n",
       "</table>\n",
       "</div>"
      ],
      "text/plain": [
       "        mean_beta_value_promoter  support_promoter  mean_beta_value_gene  \\\n",
       "Symbol                                                                     \n",
       "NOC2L                   0.019981               1.0              0.434695   \n",
       "KLHL17                       NaN               0.0                   NaN   \n",
       "HES4                         NaN               0.0              0.011724   \n",
       "ISG15                   0.017603               1.0              0.017380   \n",
       "AGRN                         NaN               0.0              0.163072   \n",
       "\n",
       "        support_gene  mean_beta_value_promoter  support_promoter  \\\n",
       "Symbol                                                             \n",
       "NOC2L            4.0                  0.440941               5.0   \n",
       "KLHL17           0.0                  0.576905               5.0   \n",
       "HES4             1.0                  0.632186               4.0   \n",
       "ISG15            5.0                  0.460140               9.0   \n",
       "AGRN            10.0                  0.545893              12.0   \n",
       "\n",
       "        mean_beta_value_gene  support_gene  \n",
       "Symbol                                      \n",
       "NOC2L               0.654141         144.0  \n",
       "KLHL17              0.755519          56.0  \n",
       "HES4                0.237125           7.0  \n",
       "ISG15               0.609222         249.0  \n",
       "AGRN                0.661636         512.0  "
      ]
     },
     "execution_count": 83,
     "metadata": {},
     "output_type": "execute_result"
    }
   ],
   "source": [
    "total_df.head()"
   ]
  },
  {
   "cell_type": "code",
   "execution_count": 46,
   "metadata": {},
   "outputs": [
    {
     "data": {
      "image/png": "[encoded data removed]",
      "text/plain": [
       "<matplotlib.figure.Figure at 0x7ff28cbdf3c8>"
      ]
     },
     "metadata": {},
     "output_type": "display_data"
    }
   ],
   "source": [
    "fig = plt.figure(figsize=(14, 14))\n",
    "bins_beta = np.linspace(0, 1, 100)\n",
    "bins_sup = np.linspace(0, 100, 100)\n",
    "plt.subplot(2, 1, 1)\n",
    "plt.hist(res.mean_beta_value_promoter.fillna(0), bins=bins_beta,\n",
    "         label='Promoter', alpha=0.5)\n",
    "plt.hist(res.mean_beta_value_gene.fillna(0), bins=bins_beta,\n",
    "         label='Gene Body', alpha=0.5)\n",
    "plt.xlabel('Average Methylation Level Genome-Wide')\n",
    "plt.ylabel('Frequency')\n",
    "plt.title('Methylation Beta Values Across Promoters and Gene Bodies')\n",
    "plt.legend(loc='upper right')\n",
    "plt.subplot(2, 1, 2)\n",
    "plt.hist(res.support_promoter, label='Promoter', bins=bins_sup, alpha=0.5)\n",
    "plt.hist(res.support_gene, label='Gene Body', bins=bins_sup, alpha=0.5)\n",
    "plt.xlabel('Average # of CpG Sites Genome-Wide')\n",
    "plt.ylabel('Frequency')\n",
    "plt.title('Number of CpG Sites Across Promoters and Gene Bodies')\n",
    "plt.legend(loc='upper right')\n",
    "plt.savefig('beta_value_distribution_sample.png')"
   ]
  },
  {
   "cell_type": "code",
   "execution_count": 165,
   "metadata": {},
   "outputs": [
    {
     "data": {
      "text/plain": [
       "0.0"
      ]
     },
     "execution_count": 165,
     "metadata": {},
     "output_type": "execute_result"
    }
   ],
   "source": [
    "node_names_df.meth_beta.min()"
   ]
  },
  {
   "cell_type": "code",
   "execution_count": 34,
   "metadata": {},
   "outputs": [
    {
     "data": {
      "text/plain": [
       "<matplotlib.axes._subplots.AxesSubplot at 0x7fbc8fde80b8>"
      ]
     },
     "execution_count": 34,
     "metadata": {},
     "output_type": "execute_result"
    },
    {
     "data": {
      "image/png": "[encoded data removed]",
      "text/plain": [
       "<matplotlib.figure.Figure at 0x7fbc7e7fa780>"
      ]
     },
     "metadata": {},
     "output_type": "display_data"
    }
   ],
   "source": [
    "a_df.meth_support.plot(kind='hist', bins=np.linspace(-1, 20, 21), figsize=(14, 8))"
   ]
  },
  {
   "cell_type": "code",
   "execution_count": 35,
   "metadata": {},
   "outputs": [
    {
     "data": {
      "text/plain": [
       "((18518, 13), 18518)"
      ]
     },
     "execution_count": 35,
     "metadata": {},
     "output_type": "execute_result"
    }
   ],
   "source": [
    "a_df[a_df.meth_support <= 0].shape, a_df.beta_value.isnull().sum()"
   ]
  },
  {
   "cell_type": "code",
   "execution_count": 37,
   "metadata": {},
   "outputs": [
    {
     "name": "stdout",
     "output_type": "stream",
     "text": [
      "1000 loops, best of 3: 1.63 ms per loop\n"
     ]
    }
   ],
   "source": [
    "%%timeit\n",
    "m_df[m_df.Start.between(a_df.iloc[0].promoter_start, a_df.iloc[0].promoter_end)]"
   ]
  },
  {
   "cell_type": "code",
   "execution_count": 73,
   "metadata": {},
   "outputs": [
    {
     "data": {
      "text/plain": [
       "'TCGA-BH-A0HW-01A-11D-A032-05'"
      ]
     },
     "execution_count": 73,
     "metadata": {},
     "output_type": "execute_result"
    }
   ],
   "source": [
    "sample_id = m_file.split('.')[-3].strip()\n",
    "sample_id"
   ]
  },
  {
   "cell_type": "code",
   "execution_count": null,
   "metadata": {},
   "outputs": [],
   "source": []
  },
  {
   "cell_type": "code",
   "execution_count": null,
   "metadata": {},
   "outputs": [],
   "source": []
  }
 ],
 "metadata": {
  "kernelspec": {
   "display_name": "Python 3",
   "language": "python",
   "name": "python3"
  },
  "language_info": {
   "codemirror_mode": {
    "name": "ipython",
    "version": 3
   },
   "file_extension": ".py",
   "mimetype": "text/x-python",
   "name": "python",
   "nbconvert_exporter": "python",
   "pygments_lexer": "ipython3",
   "version": "3.6.1"
  }
 },
 "nbformat": 4,
 "nbformat_minor": 2
}
