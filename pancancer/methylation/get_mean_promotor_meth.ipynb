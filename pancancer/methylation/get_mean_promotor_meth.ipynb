{
 "cells": [
  {
   "cell_type": "markdown",
   "metadata": {},
   "source": [
    "# Preprocessing of Methylation Data"
   ]
  },
  {
   "cell_type": "code",
   "execution_count": 1,
   "metadata": {},
   "outputs": [
    {
     "name": "stderr",
     "output_type": "stream",
     "text": [
      "/home/sasse/.local/lib/python3.6/site-packages/h5py/__init__.py:34: FutureWarning: Conversion of the second argument of issubdtype from `float` to `np.floating` is deprecated. In future, it will be treated as `np.float64 == np.dtype(float).type`.\n",
      "  from ._conv import register_converters as _register_converters\n"
     ]
    }
   ],
   "source": [
    "import numpy as np\n",
    "import pandas as pd\n",
    "import matplotlib.pyplot as plt\n",
    "import seaborn, h5py\n",
    "%matplotlib inline"
   ]
  },
  {
   "cell_type": "code",
   "execution_count": 2,
   "metadata": {},
   "outputs": [],
   "source": [
    "#m_file = '/project/gcn/diseasegcn/data/pancancer/TCGA/methylation/download/ff41e5fe-2564-4f23-942b-60fbdd33b596/jhu-usc.edu_BRCA.HumanMethylation27.2.lvl-3.TCGA-BH-A0HW-01A-11D-A032-05.gdc_hg38.txt'\n",
    "m_file = '/project/gcn/diseasegcn/data/pancancer/TCGA/methylation/download/fff8ff71-7c4d-4f25-a611-7843b8b84b45/jhu-usc.edu_LUAD.HumanMethylation450.2.lvl-3.TCGA-35-5375-01A-01D-1626-05.gdc_hg38.txt'"
   ]
  },
  {
   "cell_type": "code",
   "execution_count": 4,
   "metadata": {},
   "outputs": [
    {
     "data": {
      "text/html": [
       "<div>\n",
       "<table border=\"1\" class=\"dataframe\">\n",
       "  <thead>\n",
       "    <tr style=\"text-align: right;\">\n",
       "      <th></th>\n",
       "      <th>Composite Element REF</th>\n",
       "      <th>Beta_value</th>\n",
       "      <th>Chromosome</th>\n",
       "      <th>Start</th>\n",
       "      <th>End</th>\n",
       "      <th>Gene_Symbol</th>\n",
       "      <th>Gene_Type</th>\n",
       "      <th>Transcript_ID</th>\n",
       "      <th>Position_to_TSS</th>\n",
       "      <th>CGI_Coordinate</th>\n",
       "      <th>Feature_Type</th>\n",
       "    </tr>\n",
       "  </thead>\n",
       "  <tbody>\n",
       "    <tr>\n",
       "      <th>0</th>\n",
       "      <td>cg00000029</td>\n",
       "      <td>0.228952</td>\n",
       "      <td>chr16</td>\n",
       "      <td>53434200</td>\n",
       "      <td>53434201</td>\n",
       "      <td>RBL2;RBL2;RBL2</td>\n",
       "      <td>protein_coding;protein_coding;protein_coding</td>\n",
       "      <td>ENST00000262133.9;ENST00000544405.5;ENST000005...</td>\n",
       "      <td>-221;-1420;222</td>\n",
       "      <td>CGI:chr16:53434489-53435297</td>\n",
       "      <td>N_Shore</td>\n",
       "    </tr>\n",
       "    <tr>\n",
       "      <th>3</th>\n",
       "      <td>cg00000165</td>\n",
       "      <td>0.712635</td>\n",
       "      <td>chr1</td>\n",
       "      <td>90729117</td>\n",
       "      <td>90729118</td>\n",
       "      <td>.</td>\n",
       "      <td>.</td>\n",
       "      <td>.</td>\n",
       "      <td>.</td>\n",
       "      <td>CGI:chr1:90724932-90727247</td>\n",
       "      <td>S_Shore</td>\n",
       "    </tr>\n",
       "    <tr>\n",
       "      <th>4</th>\n",
       "      <td>cg00000236</td>\n",
       "      <td>0.842424</td>\n",
       "      <td>chr8</td>\n",
       "      <td>42405776</td>\n",
       "      <td>42405777</td>\n",
       "      <td>VDAC3</td>\n",
       "      <td>protein_coding</td>\n",
       "      <td>ENST00000022615.7</td>\n",
       "      <td>13872</td>\n",
       "      <td>CGI:chr8:42410918-42411241</td>\n",
       "      <td>.</td>\n",
       "    </tr>\n",
       "    <tr>\n",
       "      <th>5</th>\n",
       "      <td>cg00000289</td>\n",
       "      <td>0.660062</td>\n",
       "      <td>chr14</td>\n",
       "      <td>68874422</td>\n",
       "      <td>68874423</td>\n",
       "      <td>ACTN1;ACTN1;ACTN1;ACTN1</td>\n",
       "      <td>protein_coding;protein_coding;protein_coding;p...</td>\n",
       "      <td>ENST00000193403.9;ENST00000394419.7;ENST000005...</td>\n",
       "      <td>105019;104818;4601;13842</td>\n",
       "      <td>CGI:chr14:68874710-68875103</td>\n",
       "      <td>N_Shore</td>\n",
       "    </tr>\n",
       "    <tr>\n",
       "      <th>6</th>\n",
       "      <td>cg00000292</td>\n",
       "      <td>0.627412</td>\n",
       "      <td>chr16</td>\n",
       "      <td>28878779</td>\n",
       "      <td>28878780</td>\n",
       "      <td>ATP2A1;ATP2A1;ATP2A1;ATP2A1;ATP2A1</td>\n",
       "      <td>protein_coding;protein_coding;protein_coding;p...</td>\n",
       "      <td>ENST00000357084.6;ENST00000395503.7;ENST000005...</td>\n",
       "      <td>373;290;-1275;-465;-83</td>\n",
       "      <td>CGI:chr16:28879633-28880547</td>\n",
       "      <td>N_Shore</td>\n",
       "    </tr>\n",
       "  </tbody>\n",
       "</table>\n",
       "</div>"
      ],
      "text/plain": [
       "  Composite Element REF  Beta_value Chromosome     Start       End  \\\n",
       "0            cg00000029    0.228952      chr16  53434200  53434201   \n",
       "3            cg00000165    0.712635       chr1  90729117  90729118   \n",
       "4            cg00000236    0.842424       chr8  42405776  42405777   \n",
       "5            cg00000289    0.660062      chr14  68874422  68874423   \n",
       "6            cg00000292    0.627412      chr16  28878779  28878780   \n",
       "\n",
       "                          Gene_Symbol  \\\n",
       "0                      RBL2;RBL2;RBL2   \n",
       "3                                   .   \n",
       "4                               VDAC3   \n",
       "5             ACTN1;ACTN1;ACTN1;ACTN1   \n",
       "6  ATP2A1;ATP2A1;ATP2A1;ATP2A1;ATP2A1   \n",
       "\n",
       "                                           Gene_Type  \\\n",
       "0       protein_coding;protein_coding;protein_coding   \n",
       "3                                                  .   \n",
       "4                                     protein_coding   \n",
       "5  protein_coding;protein_coding;protein_coding;p...   \n",
       "6  protein_coding;protein_coding;protein_coding;p...   \n",
       "\n",
       "                                       Transcript_ID  \\\n",
       "0  ENST00000262133.9;ENST00000544405.5;ENST000005...   \n",
       "3                                                  .   \n",
       "4                                  ENST00000022615.7   \n",
       "5  ENST00000193403.9;ENST00000394419.7;ENST000005...   \n",
       "6  ENST00000357084.6;ENST00000395503.7;ENST000005...   \n",
       "\n",
       "            Position_to_TSS               CGI_Coordinate Feature_Type  \n",
       "0            -221;-1420;222  CGI:chr16:53434489-53435297      N_Shore  \n",
       "3                         .   CGI:chr1:90724932-90727247      S_Shore  \n",
       "4                     13872   CGI:chr8:42410918-42411241            .  \n",
       "5  105019;104818;4601;13842  CGI:chr14:68874710-68875103      N_Shore  \n",
       "6    373;290;-1275;-465;-83  CGI:chr16:28879633-28880547      N_Shore  "
      ]
     },
     "execution_count": 4,
     "metadata": {},
     "output_type": "execute_result"
    }
   ],
   "source": [
    "m_df = pd.read_csv(m_file, sep='\\t')\n",
    "m_df.dropna(axis=0, inplace=True)\n",
    "m_df.head()"
   ]
  },
  {
   "cell_type": "code",
   "execution_count": 5,
   "metadata": {},
   "outputs": [
    {
     "data": {
      "text/html": [
       "<div>\n",
       "<table border=\"1\" class=\"dataframe\">\n",
       "  <thead>\n",
       "    <tr style=\"text-align: right;\">\n",
       "      <th></th>\n",
       "      <th>chr</th>\n",
       "      <th>source</th>\n",
       "      <th>type</th>\n",
       "      <th>start</th>\n",
       "      <th>end</th>\n",
       "      <th>score</th>\n",
       "      <th>strand</th>\n",
       "      <th>phase</th>\n",
       "      <th>attr</th>\n",
       "      <th>ID</th>\n",
       "      <th>Symbol</th>\n",
       "    </tr>\n",
       "  </thead>\n",
       "  <tbody>\n",
       "    <tr>\n",
       "      <th>0</th>\n",
       "      <td>chr1</td>\n",
       "      <td>HAVANA</td>\n",
       "      <td>gene</td>\n",
       "      <td>11869.0</td>\n",
       "      <td>14409.0</td>\n",
       "      <td>.</td>\n",
       "      <td>+</td>\n",
       "      <td>.</td>\n",
       "      <td>ID=ENSG00000223972.5;gene_id=ENSG00000223972.5...</td>\n",
       "      <td>ENSG00000223972</td>\n",
       "      <td>DDX11L1</td>\n",
       "    </tr>\n",
       "    <tr>\n",
       "      <th>12</th>\n",
       "      <td>chr1</td>\n",
       "      <td>HAVANA</td>\n",
       "      <td>gene</td>\n",
       "      <td>14404.0</td>\n",
       "      <td>29570.0</td>\n",
       "      <td>.</td>\n",
       "      <td>-</td>\n",
       "      <td>.</td>\n",
       "      <td>ID=ENSG00000227232.5;gene_id=ENSG00000227232.5...</td>\n",
       "      <td>ENSG00000227232</td>\n",
       "      <td>WASH7P</td>\n",
       "    </tr>\n",
       "    <tr>\n",
       "      <th>25</th>\n",
       "      <td>chr1</td>\n",
       "      <td>ENSEMBL</td>\n",
       "      <td>gene</td>\n",
       "      <td>17369.0</td>\n",
       "      <td>17436.0</td>\n",
       "      <td>.</td>\n",
       "      <td>-</td>\n",
       "      <td>.</td>\n",
       "      <td>ID=ENSG00000278267.1;gene_id=ENSG00000278267.1...</td>\n",
       "      <td>ENSG00000278267</td>\n",
       "      <td>MIR6859-1</td>\n",
       "    </tr>\n",
       "    <tr>\n",
       "      <th>28</th>\n",
       "      <td>chr1</td>\n",
       "      <td>HAVANA</td>\n",
       "      <td>gene</td>\n",
       "      <td>29554.0</td>\n",
       "      <td>31109.0</td>\n",
       "      <td>.</td>\n",
       "      <td>+</td>\n",
       "      <td>.</td>\n",
       "      <td>ID=ENSG00000243485.5;gene_id=ENSG00000243485.5...</td>\n",
       "      <td>ENSG00000243485</td>\n",
       "      <td>RP11-34P13.3</td>\n",
       "    </tr>\n",
       "    <tr>\n",
       "      <th>36</th>\n",
       "      <td>chr1</td>\n",
       "      <td>ENSEMBL</td>\n",
       "      <td>gene</td>\n",
       "      <td>30366.0</td>\n",
       "      <td>30503.0</td>\n",
       "      <td>.</td>\n",
       "      <td>+</td>\n",
       "      <td>.</td>\n",
       "      <td>ID=ENSG00000284332.1;gene_id=ENSG00000284332.1...</td>\n",
       "      <td>ENSG00000284332</td>\n",
       "      <td>MIR1302-2</td>\n",
       "    </tr>\n",
       "  </tbody>\n",
       "</table>\n",
       "</div>"
      ],
      "text/plain": [
       "     chr   source  type    start      end score strand phase  \\\n",
       "0   chr1   HAVANA  gene  11869.0  14409.0     .      +     .   \n",
       "12  chr1   HAVANA  gene  14404.0  29570.0     .      -     .   \n",
       "25  chr1  ENSEMBL  gene  17369.0  17436.0     .      -     .   \n",
       "28  chr1   HAVANA  gene  29554.0  31109.0     .      +     .   \n",
       "36  chr1  ENSEMBL  gene  30366.0  30503.0     .      +     .   \n",
       "\n",
       "                                                 attr               ID  \\\n",
       "0   ID=ENSG00000223972.5;gene_id=ENSG00000223972.5...  ENSG00000223972   \n",
       "12  ID=ENSG00000227232.5;gene_id=ENSG00000227232.5...  ENSG00000227232   \n",
       "25  ID=ENSG00000278267.1;gene_id=ENSG00000278267.1...  ENSG00000278267   \n",
       "28  ID=ENSG00000243485.5;gene_id=ENSG00000243485.5...  ENSG00000243485   \n",
       "36  ID=ENSG00000284332.1;gene_id=ENSG00000284332.1...  ENSG00000284332   \n",
       "\n",
       "          Symbol  \n",
       "0        DDX11L1  \n",
       "12        WASH7P  \n",
       "25     MIR6859-1  \n",
       "28  RP11-34P13.3  \n",
       "36     MIR1302-2  "
      ]
     },
     "execution_count": 5,
     "metadata": {},
     "output_type": "execute_result"
    }
   ],
   "source": [
    "anno_file = '/project/gcn/diseasegcn/data/pancancer/TCGA/methylation/gencode.v28.annotation.gff3'\n",
    "a_df = pd.read_csv(anno_file, sep='\\t', skiprows=7, header=None, names=['chr', 'source', 'type', 'start', 'end', 'score', 'strand', 'phase', 'attr'])\n",
    "a_df.dropna(axis=0, inplace=True)\n",
    "a_df = a_df[a_df.type == 'gene']\n",
    "annotated_gene_ids = [i[0].strip().split('=')[1].strip().split('.')[0].strip() for i in a_df.attr.str.split(';')]\n",
    "annotated_gene_names = [i[3].strip().split('=')[1].strip() for i in a_df.attr.str.split(';')]\n",
    "a_df['ID'] = annotated_gene_ids\n",
    "a_df['Symbol'] = annotated_gene_names\n",
    "a_df.drop_duplicates(subset='Symbol', inplace=True) # remove duplicate genes (not interested in transcript level)\n",
    "a_df.head()"
   ]
  },
  {
   "cell_type": "code",
   "execution_count": 6,
   "metadata": {},
   "outputs": [
    {
     "name": "stdout",
     "output_type": "stream",
     "text": [
      "#genes in network but without annotation: 519\n"
     ]
    }
   ],
   "source": [
    "# load Container\n",
    "data_file = '../../data/pancancer/hotnet_iref_vec_input_unbalanced.h5'\n",
    "\n",
    "with h5py.File(data_file, 'r') as f:\n",
    "    network = f['network'][:]\n",
    "    features = f['features'][:]\n",
    "    node_names = f['gene_names'][:]\n",
    "    y_train = f['y_train'][:]\n",
    "    y_test = f['y_test'][:]\n",
    "    if 'y_val' in f:\n",
    "        y_val = f['y_val'][:]\n",
    "    else:\n",
    "        y_val = None\n",
    "    train_mask = f['mask_train'][:]\n",
    "    test_mask = f['mask_test'][:]\n",
    "    if 'mask_val' in f:\n",
    "        val_mask = f['mask_val'][:]\n",
    "    else:\n",
    "        val_mask = None\n",
    "\n",
    "# build data frame for node names\n",
    "node_names_df = pd.DataFrame(node_names, columns=['ID', 'Symbol'])\n",
    "print (\"#genes in network but without annotation: {}\".format(node_names_df[~node_names_df.Symbol.isin(a_df.Symbol)].shape[0]))"
   ]
  },
  {
   "cell_type": "code",
   "execution_count": 7,
   "metadata": {},
   "outputs": [
    {
     "name": "stdout",
     "output_type": "stream",
     "text": [
      "(11610, 11)\n"
     ]
    }
   ],
   "source": [
    "a_df = a_df[a_df.Symbol.isin(node_names_df.Symbol)]\n",
    "print (a_df.shape)\n",
    "a_df.drop_duplicates(subset='Symbol', inplace=True)"
   ]
  },
  {
   "cell_type": "code",
   "execution_count": 137,
   "metadata": {},
   "outputs": [],
   "source": [
    "mean_meth = pd.read_csv('../../data/pancancer/TCGA/methylation/mean_450k_methylation_profile.tsv', sep='\\t')"
   ]
  },
  {
   "cell_type": "code",
   "execution_count": 138,
   "metadata": {},
   "outputs": [
    {
     "data": {
      "text/html": [
       "<div>\n",
       "<table border=\"1\" class=\"dataframe\">\n",
       "  <thead>\n",
       "    <tr style=\"text-align: right;\">\n",
       "      <th></th>\n",
       "      <th>Unnamed: 0</th>\n",
       "      <th>Composite Element REF</th>\n",
       "      <th>Beta_value_sum</th>\n",
       "      <th>Chromosome</th>\n",
       "      <th>Start</th>\n",
       "      <th>End</th>\n",
       "      <th>Gene_Symbol</th>\n",
       "      <th>Gene_Type</th>\n",
       "      <th>Transcript_ID</th>\n",
       "      <th>Position_to_TSS</th>\n",
       "      <th>CGI_Coordinate</th>\n",
       "      <th>Feature_Type</th>\n",
       "      <th>Beta_value_mean</th>\n",
       "    </tr>\n",
       "  </thead>\n",
       "  <tbody>\n",
       "    <tr>\n",
       "      <th>0</th>\n",
       "      <td>0</td>\n",
       "      <td>cg00000029</td>\n",
       "      <td>1305.707632</td>\n",
       "      <td>chr16</td>\n",
       "      <td>53434200</td>\n",
       "      <td>53434201</td>\n",
       "      <td>RBL2;RBL2;RBL2</td>\n",
       "      <td>protein_coding;protein_coding;protein_coding</td>\n",
       "      <td>ENST00000262133.9;ENST00000544405.5;ENST000005...</td>\n",
       "      <td>-221;-1420;222</td>\n",
       "      <td>CGI:chr16:53434489-53435297</td>\n",
       "      <td>N_Shore</td>\n",
       "      <td>0.286026</td>\n",
       "    </tr>\n",
       "    <tr>\n",
       "      <th>1</th>\n",
       "      <td>1</td>\n",
       "      <td>cg00000108</td>\n",
       "      <td>0.000000</td>\n",
       "      <td>chr3</td>\n",
       "      <td>37417715</td>\n",
       "      <td>37417716</td>\n",
       "      <td>C3orf35;C3orf35;C3orf35;C3orf35;C3orf35;C3orf3...</td>\n",
       "      <td>lincRNA;lincRNA;lincRNA;lincRNA;lincRNA;lincRN...</td>\n",
       "      <td>ENST00000328376.8;ENST00000332506.6;ENST000004...</td>\n",
       "      <td>18552;18552;6505;31445;18143;447;18552;18552</td>\n",
       "      <td>CGI:chr3:37451927-37453047</td>\n",
       "      <td>.</td>\n",
       "      <td>0.000000</td>\n",
       "    </tr>\n",
       "    <tr>\n",
       "      <th>2</th>\n",
       "      <td>2</td>\n",
       "      <td>cg00000109</td>\n",
       "      <td>0.000000</td>\n",
       "      <td>chr3</td>\n",
       "      <td>172198247</td>\n",
       "      <td>172198248</td>\n",
       "      <td>FNDC3B;FNDC3B;FNDC3B;FNDC3B;FNDC3B;FNDC3B</td>\n",
       "      <td>protein_coding;protein_coding;protein_coding;p...</td>\n",
       "      <td>ENST00000336824.7;ENST00000415807.5;ENST000004...</td>\n",
       "      <td>157692;158618;151333;71272;158587;71273</td>\n",
       "      <td>CGI:chr3:172039703-172040934</td>\n",
       "      <td>.</td>\n",
       "      <td>0.000000</td>\n",
       "    </tr>\n",
       "    <tr>\n",
       "      <th>3</th>\n",
       "      <td>3</td>\n",
       "      <td>cg00000165</td>\n",
       "      <td>1931.894856</td>\n",
       "      <td>chr1</td>\n",
       "      <td>90729117</td>\n",
       "      <td>90729118</td>\n",
       "      <td>.</td>\n",
       "      <td>.</td>\n",
       "      <td>.</td>\n",
       "      <td>.</td>\n",
       "      <td>CGI:chr1:90724932-90727247</td>\n",
       "      <td>S_Shore</td>\n",
       "      <td>0.423197</td>\n",
       "    </tr>\n",
       "    <tr>\n",
       "      <th>4</th>\n",
       "      <td>4</td>\n",
       "      <td>cg00000236</td>\n",
       "      <td>4043.750654</td>\n",
       "      <td>chr8</td>\n",
       "      <td>42405776</td>\n",
       "      <td>42405777</td>\n",
       "      <td>VDAC3</td>\n",
       "      <td>protein_coding</td>\n",
       "      <td>ENST00000022615.7</td>\n",
       "      <td>13872</td>\n",
       "      <td>CGI:chr8:42410918-42411241</td>\n",
       "      <td>.</td>\n",
       "      <td>0.885816</td>\n",
       "    </tr>\n",
       "  </tbody>\n",
       "</table>\n",
       "</div>"
      ],
      "text/plain": [
       "   Unnamed: 0 Composite Element REF  Beta_value_sum Chromosome      Start  \\\n",
       "0           0            cg00000029     1305.707632      chr16   53434200   \n",
       "1           1            cg00000108        0.000000       chr3   37417715   \n",
       "2           2            cg00000109        0.000000       chr3  172198247   \n",
       "3           3            cg00000165     1931.894856       chr1   90729117   \n",
       "4           4            cg00000236     4043.750654       chr8   42405776   \n",
       "\n",
       "         End                                        Gene_Symbol  \\\n",
       "0   53434201                                     RBL2;RBL2;RBL2   \n",
       "1   37417716  C3orf35;C3orf35;C3orf35;C3orf35;C3orf35;C3orf3...   \n",
       "2  172198248          FNDC3B;FNDC3B;FNDC3B;FNDC3B;FNDC3B;FNDC3B   \n",
       "3   90729118                                                  .   \n",
       "4   42405777                                              VDAC3   \n",
       "\n",
       "                                           Gene_Type  \\\n",
       "0       protein_coding;protein_coding;protein_coding   \n",
       "1  lincRNA;lincRNA;lincRNA;lincRNA;lincRNA;lincRN...   \n",
       "2  protein_coding;protein_coding;protein_coding;p...   \n",
       "3                                                  .   \n",
       "4                                     protein_coding   \n",
       "\n",
       "                                       Transcript_ID  \\\n",
       "0  ENST00000262133.9;ENST00000544405.5;ENST000005...   \n",
       "1  ENST00000328376.8;ENST00000332506.6;ENST000004...   \n",
       "2  ENST00000336824.7;ENST00000415807.5;ENST000004...   \n",
       "3                                                  .   \n",
       "4                                  ENST00000022615.7   \n",
       "\n",
       "                                Position_to_TSS                CGI_Coordinate  \\\n",
       "0                                -221;-1420;222   CGI:chr16:53434489-53435297   \n",
       "1  18552;18552;6505;31445;18143;447;18552;18552    CGI:chr3:37451927-37453047   \n",
       "2       157692;158618;151333;71272;158587;71273  CGI:chr3:172039703-172040934   \n",
       "3                                             .    CGI:chr1:90724932-90727247   \n",
       "4                                         13872    CGI:chr8:42410918-42411241   \n",
       "\n",
       "  Feature_Type  Beta_value_mean  \n",
       "0      N_Shore         0.286026  \n",
       "1            .         0.000000  \n",
       "2            .         0.000000  \n",
       "3      S_Shore         0.423197  \n",
       "4            .         0.885816  "
      ]
     },
     "execution_count": 138,
     "metadata": {},
     "output_type": "execute_result"
    }
   ],
   "source": [
    "mean_meth.head()"
   ]
  },
  {
   "cell_type": "code",
   "execution_count": 141,
   "metadata": {},
   "outputs": [],
   "source": [
    "def promoter_window_wrapper(row):\n",
    "    start, end = get_promotor_window(row['start'], row['end'], row['strand'], mean_meth)\n",
    "    return start, end\n",
    "\n",
    "\n",
    "def get_promotor_window(start, end, strand, meth_data=None):\n",
    "    if strand == '+':\n",
    "        tss = start\n",
    "    else:\n",
    "        tss = end\n",
    "    if not meth_data is None: # fancy method to get promoter\n",
    "        scan_region = (np.max(tss-1000, 0), tss + 1000)\n",
    "        return calculate_promoter_window(scan_region[0], scan_region[1], meth_data)\n",
    "    else:\n",
    "        return np.max(tss-250, 0), tss + 250\n",
    "\n",
    "\n",
    "def calculate_promoter_window(scan_start, scan_end, meth_data, shift=50, size=200):\n",
    "    best_mean_meth = None\n",
    "    best_window = (None, None)\n",
    "    for i in range(int(scan_start), int(scan_end-size+1), shift):\n",
    "        # get mean meth for window\n",
    "        m_sites_window = meth_data[meth_data.Start.between(i, i+size)]\n",
    "        m_mean_window = m_sites_window.Beta_value_mean.mean()\n",
    "        \n",
    "        # decide on best window\n",
    "        if best_mean_meth is None: # first window\n",
    "            best_mean_meth = m_mean_window\n",
    "            best_window = i, i+size\n",
    "        else: # any of the later windows\n",
    "            if abs(best_mean_meth-m_mean_window) > 0.25: # large change in mean detected\n",
    "                break\n",
    "            else: # make the current window the best one\n",
    "                best_mean_meth = m_mean_window\n",
    "                best_window = i, i+size\n",
    "    return best_window\n",
    "promoter_vec = np.vectorize(get_promotor_window)"
   ]
  },
  {
   "cell_type": "code",
   "execution_count": 55,
   "metadata": {},
   "outputs": [],
   "source": [
    "%load_ext line_profiler"
   ]
  },
  {
   "cell_type": "code",
   "execution_count": 142,
   "metadata": {},
   "outputs": [],
   "source": [
    "x = a_df.apply(promoter_window_wrapper, axis=1)"
   ]
  },
  {
   "cell_type": "code",
   "execution_count": 143,
   "metadata": {},
   "outputs": [],
   "source": [
    "p_starts = np.array([i[0] for i in x])\n",
    "p_ends = np.array([i[1] for i in x])\n"
   ]
  },
  {
   "cell_type": "code",
   "execution_count": 144,
   "metadata": {},
   "outputs": [
    {
     "data": {
      "text/plain": [
       "(array([   0.,    0., 5325.,   66.,   73.,    0.,   81.,   94.,  114.,\n",
       "         109.,    0.,  105.,   93.,  128.,  124.,  139.,    0.,  133.,\n",
       "         133.,  153.,  157.,    0.,  144.,  138.,  153.,  139.,  154.,\n",
       "           0.,  158.,  148.,  190.,  232.,    0.,  223.,  257.,  228.,\n",
       "         266.,  252.,    0.,  239.,  218.,  226.,  277.,    0.,  262.,\n",
       "         297.,  382.,    0.,    0.]),\n",
       " array([-1000.        ,  -959.18367347,  -918.36734694,  -877.55102041,\n",
       "         -836.73469388,  -795.91836735,  -755.10204082,  -714.28571429,\n",
       "         -673.46938776,  -632.65306122,  -591.83673469,  -551.02040816,\n",
       "         -510.20408163,  -469.3877551 ,  -428.57142857,  -387.75510204,\n",
       "         -346.93877551,  -306.12244898,  -265.30612245,  -224.48979592,\n",
       "         -183.67346939,  -142.85714286,  -102.04081633,   -61.2244898 ,\n",
       "          -20.40816327,    20.40816327,    61.2244898 ,   102.04081633,\n",
       "          142.85714286,   183.67346939,   224.48979592,   265.30612245,\n",
       "          306.12244898,   346.93877551,   387.75510204,   428.57142857,\n",
       "          469.3877551 ,   510.20408163,   551.02040816,   591.83673469,\n",
       "          632.65306122,   673.46938776,   714.28571429,   755.10204082,\n",
       "          795.91836735,   836.73469388,   877.55102041,   918.36734694,\n",
       "          959.18367347,  1000.        ]),\n",
       " <a list of 49 Patch objects>)"
      ]
     },
     "execution_count": 144,
     "metadata": {},
     "output_type": "execute_result"
    },
    {
     "data": {
      "image/png": "[encoded data removed]",
      "text/plain": [
       "<matplotlib.figure.Figure at 0x7fd033c1fbe0>"
      ]
     },
     "metadata": {},
     "output_type": "display_data"
    }
   ],
   "source": [
    "a_df['TSS'] = 0\n",
    "a_df.loc[a_df.strand == '+', 'TSS'] = a_df[a_df.strand == '+'].start\n",
    "a_df.loc[a_df.strand == '-', 'TSS'] = a_df[a_df.strand == '-'].end\n",
    "d_to_prom = a_df.TSS - (p_ends+p_starts)/2\n",
    "fig = plt.figure(figsize=(14, 8))\n",
    "bins = np.linspace(-1000, 1000, 50)\n",
    "plt.hist(d_to_prom, bins=bins)"
   ]
  },
  {
   "cell_type": "code",
   "execution_count": 145,
   "metadata": {},
   "outputs": [],
   "source": [
    "a_df['promoter_start'] = p_starts\n",
    "a_df['promoter_end'] = p_ends\n",
    "a_df.to_csv('../../data/pancancer/TCGA/methylation/annotation_with_promoters.tsv', sep='\\t')"
   ]
  },
  {
   "cell_type": "code",
   "execution_count": 135,
   "metadata": {},
   "outputs": [],
   "source": [
    "def get_mean_betaval_for_promoters(annotation_genes, methylation_levels):\n",
    "    \"\"\"Extract the mean methylation level at promoters for each gene in the annotation.\n",
    "    \n",
    "    This function looks for all the methylation sites that fall\n",
    "    inside all the promoters in the annotation genes df.\n",
    "    The annotation_genes df is expected to contain the columns\n",
    "    'promoter_start' and 'promoter_end'.\n",
    "    WARNING: The function is time consuming; for one methylation\n",
    "    profile it takes around 4 minutes.\n",
    "    \n",
    "    Parameters:\n",
    "    ----------\n",
    "    annotation_genes:                 A dataframe containing a gene per row.\n",
    "                                      It needs to have columns for promoter_start\n",
    "                                      and promoter_end.\n",
    "    methylation_levels:               A dataframe that contains cpg sites per row.\n",
    "                                      The sites are expected to be one bp long and\n",
    "                                      should have the columns: 'Start', 'End' and \n",
    "                                      'Beta_value'.\n",
    "    Returns:\n",
    "    Two lists with the mean beta values for each promoter and the number of cpg sites\n",
    "    that support the promoter. The first list contains the mean beta values and\n",
    "    the second list contains the support.\n",
    "    \"\"\"\n",
    "    beta_vals = []\n",
    "    beta_std = []\n",
    "    n_supports = []\n",
    "    count = 0\n",
    "    for idx, row in annotation_genes.iterrows():\n",
    "        m_sites_in_promoter = methylation_levels[methylation_levels.Start.between(row.promoter_start, row.promoter_end)]\n",
    "        beta_vals.append(m_sites_in_promoter.Beta_value.mean())\n",
    "        beta_std.append(m_sites_in_promoter.Beta_value.std())\n",
    "        n_supports.append(m_sites_in_promoter.shape[0])\n",
    "        if count % 1000 == 0:\n",
    "            print (count)\n",
    "        count += 1\n",
    "    return beta_vals, beta_std, n_supports"
   ]
  },
  {
   "cell_type": "code",
   "execution_count": 136,
   "metadata": {},
   "outputs": [
    {
     "name": "stdout",
     "output_type": "stream",
     "text": [
      "0\n",
      "1000\n",
      "2000\n",
      "3000\n",
      "4000\n",
      "5000\n",
      "6000\n",
      "7000\n",
      "8000\n",
      "9000\n",
      "10000\n",
      "11000\n"
     ]
    }
   ],
   "source": [
    "beta_vals, beta_std, n_supports = get_mean_betaval_for_promoters(a_df, m_df)"
   ]
  },
  {
   "cell_type": "code",
   "execution_count": 156,
   "metadata": {},
   "outputs": [],
   "source": [
    "node_names_df['meth_beta'] = 0\n",
    "node_names_df.loc[node_names_df.Symbol.isin(a_df.Symbol), 'meth_beta'] = beta_vals\n",
    "print (node_names_df.meth_beta.isnull().sum())\n",
    "node_names_df.loc[node_names_df.meth_beta.isnull(), 'meth_beta'] = 0"
   ]
  },
  {
   "cell_type": "code",
   "execution_count": 165,
   "metadata": {},
   "outputs": [
    {
     "data": {
      "text/plain": [
       "0.0"
      ]
     },
     "execution_count": 165,
     "metadata": {},
     "output_type": "execute_result"
    }
   ],
   "source": [
    "node_names_df.meth_beta.min()"
   ]
  },
  {
   "cell_type": "code",
   "execution_count": 34,
   "metadata": {},
   "outputs": [
    {
     "data": {
      "text/plain": [
       "<matplotlib.axes._subplots.AxesSubplot at 0x7fbc8fde80b8>"
      ]
     },
     "execution_count": 34,
     "metadata": {},
     "output_type": "execute_result"
    },
    {
     "data": {
      "image/png": "[encoded data removed]",
      "text/plain": [
       "<matplotlib.figure.Figure at 0x7fbc7e7fa780>"
      ]
     },
     "metadata": {},
     "output_type": "display_data"
    }
   ],
   "source": [
    "a_df.meth_support.plot(kind='hist', bins=np.linspace(-1, 20, 21), figsize=(14, 8))"
   ]
  },
  {
   "cell_type": "code",
   "execution_count": 35,
   "metadata": {},
   "outputs": [
    {
     "data": {
      "text/plain": [
       "((18518, 13), 18518)"
      ]
     },
     "execution_count": 35,
     "metadata": {},
     "output_type": "execute_result"
    }
   ],
   "source": [
    "a_df[a_df.meth_support <= 0].shape, a_df.beta_value.isnull().sum()"
   ]
  },
  {
   "cell_type": "code",
   "execution_count": 37,
   "metadata": {},
   "outputs": [
    {
     "name": "stdout",
     "output_type": "stream",
     "text": [
      "1000 loops, best of 3: 1.63 ms per loop\n"
     ]
    }
   ],
   "source": [
    "%%timeit\n",
    "m_df[m_df.Start.between(a_df.iloc[0].promoter_start, a_df.iloc[0].promoter_end)]"
   ]
  },
  {
   "cell_type": "code",
   "execution_count": 174,
   "metadata": {},
   "outputs": [],
   "source": [
    "t = pd.DataFrame(a_df.Symbol)\n",
    "t['avg_meth_beta'] = beta_vals\n",
    "t['meth_support'] = n_supports\n",
    "t.set_index('Symbol', inplace=True)"
   ]
  },
  {
   "cell_type": "code",
   "execution_count": 133,
   "metadata": {},
   "outputs": [
    {
     "data": {
      "text/html": [
       "<div>\n",
       "<table border=\"1\" class=\"dataframe\">\n",
       "  <thead>\n",
       "    <tr style=\"text-align: right;\">\n",
       "      <th></th>\n",
       "      <th>chr</th>\n",
       "      <th>source</th>\n",
       "      <th>type</th>\n",
       "      <th>start</th>\n",
       "      <th>end</th>\n",
       "      <th>score</th>\n",
       "      <th>strand</th>\n",
       "      <th>phase</th>\n",
       "      <th>attr</th>\n",
       "      <th>ID</th>\n",
       "      <th>Symbol</th>\n",
       "      <th>TSS</th>\n",
       "    </tr>\n",
       "  </thead>\n",
       "  <tbody>\n",
       "    <tr>\n",
       "      <th>1062</th>\n",
       "      <td>chr1</td>\n",
       "      <td>HAVANA</td>\n",
       "      <td>gene</td>\n",
       "      <td>944204.0</td>\n",
       "      <td>959309.0</td>\n",
       "      <td>.</td>\n",
       "      <td>-</td>\n",
       "      <td>.</td>\n",
       "      <td>ID=ENSG00000188976.10;gene_id=ENSG00000188976....</td>\n",
       "      <td>ENSG00000188976</td>\n",
       "      <td>NOC2L</td>\n",
       "      <td>959309.0</td>\n",
       "    </tr>\n",
       "    <tr>\n",
       "      <th>1144</th>\n",
       "      <td>chr1</td>\n",
       "      <td>HAVANA</td>\n",
       "      <td>gene</td>\n",
       "      <td>960587.0</td>\n",
       "      <td>965715.0</td>\n",
       "      <td>.</td>\n",
       "      <td>+</td>\n",
       "      <td>.</td>\n",
       "      <td>ID=ENSG00000187961.13;gene_id=ENSG00000187961....</td>\n",
       "      <td>ENSG00000187961</td>\n",
       "      <td>KLHL17</td>\n",
       "      <td>960587.0</td>\n",
       "    </tr>\n",
       "    <tr>\n",
       "      <th>1375</th>\n",
       "      <td>chr1</td>\n",
       "      <td>HAVANA</td>\n",
       "      <td>gene</td>\n",
       "      <td>998962.0</td>\n",
       "      <td>1000172.0</td>\n",
       "      <td>.</td>\n",
       "      <td>-</td>\n",
       "      <td>.</td>\n",
       "      <td>ID=ENSG00000188290.10;gene_id=ENSG00000188290....</td>\n",
       "      <td>ENSG00000188290</td>\n",
       "      <td>HES4</td>\n",
       "      <td>1000172.0</td>\n",
       "    </tr>\n",
       "    <tr>\n",
       "      <th>1414</th>\n",
       "      <td>chr1</td>\n",
       "      <td>HAVANA</td>\n",
       "      <td>gene</td>\n",
       "      <td>1001138.0</td>\n",
       "      <td>1014541.0</td>\n",
       "      <td>.</td>\n",
       "      <td>+</td>\n",
       "      <td>.</td>\n",
       "      <td>ID=ENSG00000187608.8;gene_id=ENSG00000187608.8...</td>\n",
       "      <td>ENSG00000187608</td>\n",
       "      <td>ISG15</td>\n",
       "      <td>1001138.0</td>\n",
       "    </tr>\n",
       "    <tr>\n",
       "      <th>1451</th>\n",
       "      <td>chr1</td>\n",
       "      <td>HAVANA</td>\n",
       "      <td>gene</td>\n",
       "      <td>1020123.0</td>\n",
       "      <td>1056118.0</td>\n",
       "      <td>.</td>\n",
       "      <td>+</td>\n",
       "      <td>.</td>\n",
       "      <td>ID=ENSG00000188157.14;gene_id=ENSG00000188157....</td>\n",
       "      <td>ENSG00000188157</td>\n",
       "      <td>AGRN</td>\n",
       "      <td>1020123.0</td>\n",
       "    </tr>\n",
       "  </tbody>\n",
       "</table>\n",
       "</div>"
      ],
      "text/plain": [
       "       chr  source  type      start        end score strand phase  \\\n",
       "1062  chr1  HAVANA  gene   944204.0   959309.0     .      -     .   \n",
       "1144  chr1  HAVANA  gene   960587.0   965715.0     .      +     .   \n",
       "1375  chr1  HAVANA  gene   998962.0  1000172.0     .      -     .   \n",
       "1414  chr1  HAVANA  gene  1001138.0  1014541.0     .      +     .   \n",
       "1451  chr1  HAVANA  gene  1020123.0  1056118.0     .      +     .   \n",
       "\n",
       "                                                   attr               ID  \\\n",
       "1062  ID=ENSG00000188976.10;gene_id=ENSG00000188976....  ENSG00000188976   \n",
       "1144  ID=ENSG00000187961.13;gene_id=ENSG00000187961....  ENSG00000187961   \n",
       "1375  ID=ENSG00000188290.10;gene_id=ENSG00000188290....  ENSG00000188290   \n",
       "1414  ID=ENSG00000187608.8;gene_id=ENSG00000187608.8...  ENSG00000187608   \n",
       "1451  ID=ENSG00000188157.14;gene_id=ENSG00000188157....  ENSG00000188157   \n",
       "\n",
       "      Symbol        TSS  \n",
       "1062   NOC2L   959309.0  \n",
       "1144  KLHL17   960587.0  \n",
       "1375    HES4  1000172.0  \n",
       "1414   ISG15  1001138.0  \n",
       "1451    AGRN  1020123.0  "
      ]
     },
     "execution_count": 133,
     "metadata": {},
     "output_type": "execute_result"
    }
   ],
   "source": [
    "a_df.head()"
   ]
  },
  {
   "cell_type": "code",
   "execution_count": null,
   "metadata": {},
   "outputs": [],
   "source": []
  }
 ],
 "metadata": {
  "kernelspec": {
   "display_name": "Python 3",
   "language": "python",
   "name": "python3"
  },
  "language_info": {
   "codemirror_mode": {
    "name": "ipython",
    "version": 3
   },
   "file_extension": ".py",
   "mimetype": "text/x-python",
   "name": "python",
   "nbconvert_exporter": "python",
   "pygments_lexer": "ipython3",
   "version": "3.6.1"
  }
 },
 "nbformat": 4,
 "nbformat_minor": 2
}
