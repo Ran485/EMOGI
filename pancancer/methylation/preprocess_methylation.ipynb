{
 "cells": [
  {
   "cell_type": "markdown",
   "metadata": {},
   "source": [
    "# Preprocessing of Methylation Data\n",
    "This notebook does some preprocessing for a script that takes annotation and downloaded methylation arrays and transforms it to one matrix $S \\in \\mathbb{R}^{p \\times s}$ where $p$ is the number of genes and $s$ is the number of samples.\n",
    "\n",
    "This matrix can then be used by yet another notebook to derive the final mean cancer type matrix."
   ]
  },
  {
   "cell_type": "code",
   "execution_count": 1,
   "metadata": {},
   "outputs": [
    {
     "name": "stderr",
     "output_type": "stream",
     "text": [
      "/home/sasse/.local/lib/python3.6/site-packages/h5py/__init__.py:34: FutureWarning: Conversion of the second argument of issubdtype from `float` to `np.floating` is deprecated. In future, it will be treated as `np.float64 == np.dtype(float).type`.\n",
      "  from ._conv import register_converters as _register_converters\n"
     ]
    }
   ],
   "source": [
    "import numpy as np\n",
    "import pandas as pd\n",
    "import matplotlib.pyplot as plt\n",
    "import seaborn, h5py, os\n",
    "from joblib import Parallel, delayed\n",
    "%matplotlib inline"
   ]
  },
  {
   "cell_type": "code",
   "execution_count": 2,
   "metadata": {},
   "outputs": [],
   "source": [
    "LOAD_ANNOTATION_WITH_PROM = False\n",
    "m_file = '/project/gcn/diseasegcn/data/pancancer/TCGA/methylation/download/ff41e5fe-2564-4f23-942b-60fbdd33b596/jhu-usc.edu_BRCA.HumanMethylation27.2.lvl-3.TCGA-BH-A0HW-01A-11D-A032-05.gdc_hg38.txt'\n",
    "m_file2 = '/project/gcn/diseasegcn/data/pancancer/TCGA/methylation/download/fff8ff71-7c4d-4f25-a611-7843b8b84b45/jhu-usc.edu_LUAD.HumanMethylation450.2.lvl-3.TCGA-35-5375-01A-01D-1626-05.gdc_hg38.txt'"
   ]
  },
  {
   "cell_type": "markdown",
   "metadata": {},
   "source": [
    "## Load Methylation Array Data & Container\n",
    "The methylation data gives us beta values per cpg sites. Each row corresponds to one cpg site. On the other hand, the annotation file gives us a list of genes and their genomic coordinates. It's wise to remove all the genes that we are not really interested in prior to calculating the mean beta values per gene because we then have to do less work."
   ]
  },
  {
   "cell_type": "code",
   "execution_count": 3,
   "metadata": {},
   "outputs": [],
   "source": [
    "m_df_1 = pd.read_csv(m_file, sep='\\t')\n",
    "m_df_1.dropna(axis=0, inplace=True)\n",
    "m_df_2 = pd.read_csv(m_file2, sep='\\t')\n",
    "m_df_2.dropna(axis=0, inplace=True)"
   ]
  },
  {
   "cell_type": "code",
   "execution_count": 4,
   "metadata": {},
   "outputs": [
    {
     "data": {
      "text/html": [
       "<div>\n",
       "<table border=\"1\" class=\"dataframe\">\n",
       "  <thead>\n",
       "    <tr style=\"text-align: right;\">\n",
       "      <th></th>\n",
       "      <th>chr</th>\n",
       "      <th>source</th>\n",
       "      <th>type</th>\n",
       "      <th>start</th>\n",
       "      <th>end</th>\n",
       "      <th>score</th>\n",
       "      <th>strand</th>\n",
       "      <th>phase</th>\n",
       "      <th>attr</th>\n",
       "      <th>ID</th>\n",
       "      <th>Symbol</th>\n",
       "    </tr>\n",
       "  </thead>\n",
       "  <tbody>\n",
       "    <tr>\n",
       "      <th>0</th>\n",
       "      <td>chr1</td>\n",
       "      <td>HAVANA</td>\n",
       "      <td>gene</td>\n",
       "      <td>11869.0</td>\n",
       "      <td>14409.0</td>\n",
       "      <td>.</td>\n",
       "      <td>+</td>\n",
       "      <td>.</td>\n",
       "      <td>ID=ENSG00000223972.5;gene_id=ENSG00000223972.5...</td>\n",
       "      <td>ENSG00000223972</td>\n",
       "      <td>DDX11L1</td>\n",
       "    </tr>\n",
       "    <tr>\n",
       "      <th>12</th>\n",
       "      <td>chr1</td>\n",
       "      <td>HAVANA</td>\n",
       "      <td>gene</td>\n",
       "      <td>14404.0</td>\n",
       "      <td>29570.0</td>\n",
       "      <td>.</td>\n",
       "      <td>-</td>\n",
       "      <td>.</td>\n",
       "      <td>ID=ENSG00000227232.5;gene_id=ENSG00000227232.5...</td>\n",
       "      <td>ENSG00000227232</td>\n",
       "      <td>WASH7P</td>\n",
       "    </tr>\n",
       "    <tr>\n",
       "      <th>25</th>\n",
       "      <td>chr1</td>\n",
       "      <td>ENSEMBL</td>\n",
       "      <td>gene</td>\n",
       "      <td>17369.0</td>\n",
       "      <td>17436.0</td>\n",
       "      <td>.</td>\n",
       "      <td>-</td>\n",
       "      <td>.</td>\n",
       "      <td>ID=ENSG00000278267.1;gene_id=ENSG00000278267.1...</td>\n",
       "      <td>ENSG00000278267</td>\n",
       "      <td>MIR6859-1</td>\n",
       "    </tr>\n",
       "    <tr>\n",
       "      <th>28</th>\n",
       "      <td>chr1</td>\n",
       "      <td>HAVANA</td>\n",
       "      <td>gene</td>\n",
       "      <td>29554.0</td>\n",
       "      <td>31109.0</td>\n",
       "      <td>.</td>\n",
       "      <td>+</td>\n",
       "      <td>.</td>\n",
       "      <td>ID=ENSG00000243485.5;gene_id=ENSG00000243485.5...</td>\n",
       "      <td>ENSG00000243485</td>\n",
       "      <td>RP11-34P13.3</td>\n",
       "    </tr>\n",
       "    <tr>\n",
       "      <th>36</th>\n",
       "      <td>chr1</td>\n",
       "      <td>ENSEMBL</td>\n",
       "      <td>gene</td>\n",
       "      <td>30366.0</td>\n",
       "      <td>30503.0</td>\n",
       "      <td>.</td>\n",
       "      <td>+</td>\n",
       "      <td>.</td>\n",
       "      <td>ID=ENSG00000284332.1;gene_id=ENSG00000284332.1...</td>\n",
       "      <td>ENSG00000284332</td>\n",
       "      <td>MIR1302-2</td>\n",
       "    </tr>\n",
       "  </tbody>\n",
       "</table>\n",
       "</div>"
      ],
      "text/plain": [
       "     chr   source  type    start      end score strand phase  \\\n",
       "0   chr1   HAVANA  gene  11869.0  14409.0     .      +     .   \n",
       "12  chr1   HAVANA  gene  14404.0  29570.0     .      -     .   \n",
       "25  chr1  ENSEMBL  gene  17369.0  17436.0     .      -     .   \n",
       "28  chr1   HAVANA  gene  29554.0  31109.0     .      +     .   \n",
       "36  chr1  ENSEMBL  gene  30366.0  30503.0     .      +     .   \n",
       "\n",
       "                                                 attr               ID  \\\n",
       "0   ID=ENSG00000223972.5;gene_id=ENSG00000223972.5...  ENSG00000223972   \n",
       "12  ID=ENSG00000227232.5;gene_id=ENSG00000227232.5...  ENSG00000227232   \n",
       "25  ID=ENSG00000278267.1;gene_id=ENSG00000278267.1...  ENSG00000278267   \n",
       "28  ID=ENSG00000243485.5;gene_id=ENSG00000243485.5...  ENSG00000243485   \n",
       "36  ID=ENSG00000284332.1;gene_id=ENSG00000284332.1...  ENSG00000284332   \n",
       "\n",
       "          Symbol  \n",
       "0        DDX11L1  \n",
       "12        WASH7P  \n",
       "25     MIR6859-1  \n",
       "28  RP11-34P13.3  \n",
       "36     MIR1302-2  "
      ]
     },
     "execution_count": 4,
     "metadata": {},
     "output_type": "execute_result"
    }
   ],
   "source": [
    "if LOAD_ANNOTATION_WITH_PROM:\n",
    "    anno_file = '/project/gcn/diseasegcn/data/pancancer/TCGA/methylation/annotation_with_promoters_500bp.tsv'\n",
    "    a_df = pd.read_csv(anno_file, sep='\\t')\n",
    "else:\n",
    "    anno_file = '/project/gcn/diseasegcn/data/pancancer/TCGA/methylation/gencode.v28.annotation.gff3'\n",
    "    a_df = pd.read_csv(anno_file, sep='\\t', skiprows=7, header=None, names=['chr', 'source', 'type', 'start', 'end', 'score', 'strand', 'phase', 'attr'])\n",
    "    a_df.dropna(axis=0, inplace=True)\n",
    "    a_df = a_df[a_df.type == 'gene']\n",
    "    annotated_gene_ids = [i[0].strip().split('=')[1].strip().split('.')[0].strip() for i in a_df.attr.str.split(';')]\n",
    "    annotated_gene_names = [i[3].strip().split('=')[1].strip() for i in a_df.attr.str.split(';')]\n",
    "    a_df['ID'] = annotated_gene_ids\n",
    "    a_df['Symbol'] = annotated_gene_names\n",
    "    a_df.drop_duplicates(subset='Symbol', inplace=True) # remove duplicate genes (not interested in transcript level)\n",
    "a_df.head()"
   ]
  },
  {
   "cell_type": "code",
   "execution_count": 5,
   "metadata": {},
   "outputs": [
    {
     "name": "stdout",
     "output_type": "stream",
     "text": [
      "#genes in network but without annotation: 519\n"
     ]
    }
   ],
   "source": [
    "# load Container\n",
    "data_file = '../../data/pancancer/hotnet_iref_vec_input_unbalanced.h5'\n",
    "\n",
    "with h5py.File(data_file, 'r') as f:\n",
    "    network = f['network'][:]\n",
    "    features = f['features'][:]\n",
    "    node_names = f['gene_names'][:]\n",
    "    y_train = f['y_train'][:]\n",
    "    y_test = f['y_test'][:]\n",
    "    if 'y_val' in f:\n",
    "        y_val = f['y_val'][:]\n",
    "    else:\n",
    "        y_val = None\n",
    "    train_mask = f['mask_train'][:]\n",
    "    test_mask = f['mask_test'][:]\n",
    "    if 'mask_val' in f:\n",
    "        val_mask = f['mask_val'][:]\n",
    "    else:\n",
    "        val_mask = None\n",
    "\n",
    "# build data frame for node names\n",
    "node_names_df = pd.DataFrame(node_names, columns=['ID', 'Symbol'])\n",
    "print (\"#genes in network but without annotation: {}\".format(node_names_df[~node_names_df.Symbol.isin(a_df.Symbol)].shape[0]))\n",
    "a_df = a_df[a_df.Symbol.isin(node_names_df.Symbol)]\n",
    "print (a_df.shape)\n",
    "a_df.drop_duplicates(subset='Symbol', inplace=True)"
   ]
  },
  {
   "cell_type": "markdown",
   "metadata": {},
   "source": [
    "## Get Promoter Start and End"
   ]
  },
  {
   "cell_type": "code",
   "execution_count": 7,
   "metadata": {},
   "outputs": [],
   "source": [
    "def promoter_window_wrapper(row):\n",
    "    start, end = get_promotor_window(row['start'], row['end'], row['strand'])\n",
    "    return start, end\n",
    "\n",
    "\n",
    "def get_promotor_window(start, end, strand, meth_data=None):\n",
    "    if strand == '+':\n",
    "        tss = start\n",
    "    else:\n",
    "        tss = end\n",
    "    if not meth_data is None: # fancy method to get promoter\n",
    "        scan_region = (np.max(tss-1000, 0), tss + 1000)\n",
    "        return calculate_promoter_window(scan_region[0], scan_region[1], meth_data)\n",
    "    else:\n",
    "        return np.max(tss-500, 0), tss + 500\n",
    "\n",
    "\n",
    "def calculate_promoter_window(scan_start, scan_end, meth_data, shift=50, size=200):\n",
    "    best_mean_meth = None\n",
    "    best_window = (None, None)\n",
    "    for i in range(int(scan_start), int(scan_end-size+1), shift):\n",
    "        # get mean meth for window\n",
    "        m_sites_window = meth_data[meth_data.Start.between(i, i+size)]\n",
    "        m_mean_window = m_sites_window.Beta_value_mean.mean()\n",
    "        \n",
    "        # decide on best window\n",
    "        if best_mean_meth is None: # first window\n",
    "            best_mean_meth = m_mean_window\n",
    "            best_window = i, i+size\n",
    "        else: # any of the later windows\n",
    "            if abs(best_mean_meth-m_mean_window) > 0.25: # large change in mean detected\n",
    "                break\n",
    "            else: # make the current window the best one\n",
    "                best_mean_meth = m_mean_window\n",
    "                best_window = i, i+size\n",
    "    return best_window\n",
    "promoter_vec = np.vectorize(get_promotor_window)"
   ]
  },
  {
   "cell_type": "code",
   "execution_count": 9,
   "metadata": {},
   "outputs": [],
   "source": [
    "# get promoter start and end\n",
    "x = a_df.apply(promoter_window_wrapper, axis=1)\n",
    "\n",
    "# set it in the annotation dataframe and save that back to file\n",
    "p_starts = np.array([i[0] for i in x])\n",
    "p_ends = np.array([i[1] for i in x])\n",
    "a_df['promoter_start'] = p_starts\n",
    "a_df['promoter_end'] = p_ends\n",
    "a_df.to_csv('../../data/pancancer/TCGA/methylation/annotation_with_promoters_1000bp.tsv', sep='\\t')\n",
    "\n",
    "# do a plot of the distribution\n",
    "a_df['TSS'] = 0\n",
    "a_df.loc[a_df.strand == '+', 'TSS'] = a_df[a_df.strand == '+'].promoter_start\n",
    "a_df.loc[a_df.strand == '-', 'TSS'] = a_df[a_df.strand == '-'].promoter_end\n",
    "d_to_prom = a_df.TSS - (p_ends+p_starts)/2\n",
    "fig = plt.figure(figsize=(14, 8))\n",
    "bins = np.linspace(-1000, 1000, 50)\n",
    "plt.hist(d_to_prom, bins=bins)"
   ]
  },
  {
   "cell_type": "markdown",
   "metadata": {},
   "source": [
    "## Get Experimental Strategy & Number of Samples"
   ]
  },
  {
   "cell_type": "code",
   "execution_count": 17,
   "metadata": {},
   "outputs": [],
   "source": [
    "def get_filenames(meth_raw_dir):\n",
    "    all_filenames = []\n",
    "    for dname in os.listdir(meth_raw_dir):\n",
    "        sub_dirname = os.path.join(meth_raw_dir, dname)\n",
    "        if os.path.isdir(sub_dirname):\n",
    "            for fname in os.listdir(sub_dirname):\n",
    "                if fname.endswith('gdc_hg38.txt'):\n",
    "                    all_filenames.append(os.path.join(sub_dirname, fname))\n",
    "    return all_filenames\n",
    "\n",
    "all_files = get_filenames('../../data/pancancer/TCGA/methylation/download/')\n",
    "\n",
    "ctype_prots = {}\n",
    "for f in all_files:\n",
    "    fname = os.path.basename(f)\n",
    "    protocol = fname.split('.')[2]\n",
    "    cancer_type = fname.split('.')[1].split('_')[1].strip().lower()\n",
    "    if not cancer_type in ctype_prots:\n",
    "        ctype_prots[cancer_type] = [protocol]\n",
    "    else:\n",
    "        ctype_prots[cancer_type] = ctype_prots[cancer_type] + [protocol]"
   ]
  },
  {
   "cell_type": "code",
   "execution_count": 18,
   "metadata": {},
   "outputs": [
    {
     "name": "stdout",
     "output_type": "stream",
     "text": [
      "laml -> Total #Samples: 280\t#27k Arrays: 140\tProportion: 0.5\n",
      "ucec -> Total #Samples: 603\t#27k Arrays: 118\tProportion: 0.1956882255389718\n",
      "hnsc -> Total #Samples: 580\t#27k Arrays: 0\tProportion: 0.0\n",
      "luad -> Total #Samples: 657\t#27k Arrays: 150\tProportion: 0.228310502283105\n",
      "kirc -> Total #Samples: 899\t#27k Arrays: 414\tProportion: 0.46051167964404893\n",
      "ov -> Total #Samples: 623\t#27k Arrays: 613\tProportion: 0.9839486356340289\n",
      "gbm -> Total #Samples: 450\t#27k Arrays: 295\tProportion: 0.6555555555555556\n",
      "brca -> Total #Samples: 1234\t#27k Arrays: 342\tProportion: 0.2771474878444084\n",
      "lusc -> Total #Samples: 573\t#27k Arrays: 161\tProportion: 0.28097731239092494\n",
      "blca -> Total #Samples: 440\t#27k Arrays: 0\tProportion: 0.0\n",
      "coad -> Total #Samples: 556\t#27k Arrays: 203\tProportion: 0.36510791366906475\n",
      "read -> Total #Samples: 179\t#27k Arrays: 73\tProportion: 0.40782122905027934\n"
     ]
    }
   ],
   "source": [
    "for c in ctype_prots:\n",
    "    no_27k = len([i for i in ctype_prots[c] if i.endswith('27')])\n",
    "    prop = no_27k / len(ctype_prots[c])\n",
    "    print (\"{} -> Total #Samples: {}\\t#27k Arrays: {}\\tProportion: {}\".format(c, len(ctype_prots[c]), no_27k, prop))"
   ]
  }
 ],
 "metadata": {
  "kernelspec": {
   "display_name": "Python 3",
   "language": "python",
   "name": "python3"
  },
  "language_info": {
   "codemirror_mode": {
    "name": "ipython",
    "version": 3
   },
   "file_extension": ".py",
   "mimetype": "text/x-python",
   "name": "python",
   "nbconvert_exporter": "python",
   "pygments_lexer": "ipython3",
   "version": "3.6.1"
  }
 },
 "nbformat": 4,
 "nbformat_minor": 2
}
