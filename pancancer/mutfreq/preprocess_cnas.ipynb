{
 "cells": [
  {
   "cell_type": "markdown",
   "metadata": {
    "deletable": true,
    "editable": true
   },
   "source": [
    "# Preprocess CNAs from Firehose\n",
    "In this notebook, I want to preprocess all the CNA data that Hotnet2 used for their identification of significant submodules. I already downloaded the the output from GISTIC2 from Firehose, using the firehose_get tool with:\n",
    "\n",
    "`./firehose_get -tasks gistic analysis latest`\n",
    "\n",
    "This was cumbersome and now I have one folder, containing gzipped folders for each cancer type.\n",
    "The result are two matrices that are written to disk.\n",
    "\n",
    "* The first matrix has shape $\\big(genes \\times cancertypes\\big) \\in \\mathrm{R}$ and contains the mean number of samples for which the gene was affected.\n",
    "* The second matrix $\\big(genes \\times samples\\big) \\in \\{0, 1\\}$ contains a $1$ if the gene in the sample is affected by a CNA and $0$ otherwise."
   ]
  },
  {
   "cell_type": "code",
   "execution_count": 1,
   "metadata": {
    "collapsed": true,
    "deletable": true,
    "editable": true
   },
   "outputs": [],
   "source": [
    "import pandas as pd\n",
    "import numpy as np\n",
    "import gzip\n",
    "import os, sys\n",
    "import tarfile\n",
    "\n",
    "import matplotlib.pyplot as plt\n",
    "import seaborn\n",
    "%matplotlib inline"
   ]
  },
  {
   "cell_type": "markdown",
   "metadata": {
    "deletable": true,
    "editable": true
   },
   "source": [
    "## Parameters for the Script\n",
    "The parameters have the following meaning:\n",
    "* `GISTIC_THRESHOLD`: GISTIC2 writes for each sample if a CNA is affecting the gene with a high probability (2) and medium probability (1) or not (0). Setting the threshold to 1 means that you also use CNAs with medium probability. Setting it to 2 means that you use only high confidence CNAs.\n",
    "* `REMOVE_INCONSISTENT_CNAS`: Don't consider CNAs that are not at least present in 75% of samples. This was done in the Hotnet2 preprocessing.\n",
    "* `ANALYSIS_DATE`: Firehose has multiple analyses done and they can be downloaded at different time points. Currently (April 2018), `latest` in the firehose_get command refers to 20160128.\n",
    "* `ROOT_DIR`: The directory in which the firehose data can be found.\n",
    "* `CANCER_TYPES`: The cancer types you are interested in as a list."
   ]
  },
  {
   "cell_type": "code",
   "execution_count": 2,
   "metadata": {
    "collapsed": true,
    "deletable": true,
    "editable": true
   },
   "outputs": [],
   "source": [
    "GISTIC_THRESHOLD = 2\n",
    "REMOVE_INCONSISTENT_CNAS = False\n",
    "ANALYSIS_DATE = '20160128' # latest\n",
    "ROOT_DIR = '/home/sasse/bin/firehose/analyses__2016_01_28/' # where the firehose download is located\n",
    "# CANCER_TYPES describes the cancer types, I am interested in\n",
    "CANCER_TYPES = ['BLCA', 'BRCA', 'COADREAD', 'GBM', 'HNSC', 'KIRC', 'LAML', 'LUAD', 'LUSC', 'OV', 'UCEC']"
   ]
  },
  {
   "cell_type": "code",
   "execution_count": 6,
   "metadata": {
    "collapsed": false,
    "deletable": true,
    "editable": true,
    "scrolled": false
   },
   "outputs": [],
   "source": [
    "def get_target_genes(fname):\n",
    "    \"\"\"Extract all genes per CNA from file\n",
    "    \n",
    "    This method extracts the target genes for all CNAs (either amps or dels) from GISTIC2 output files.\n",
    "    Parameters:\n",
    "    ---------\n",
    "    fname:            The file to read from\n",
    "    \n",
    "    Returns:\n",
    "    A dictionary with the descriptors of the CNAs as keys. The values are lists of target genes.\n",
    "    \"\"\"\n",
    "    cna_genes_df = pd.read_csv(fname, sep='\\t')\n",
    "    relevant_cols = cna_genes_df.iloc[3:, 1:].dropna(how='all', axis=1)\n",
    "    genes_per_cna = {}\n",
    "    for col in relevant_cols.columns:\n",
    "        genes_per_cna[col] = [i.split('|')[0].lstrip('[').rstrip(']') for i in relevant_cols[col].dropna().tolist()]\n",
    "    return genes_per_cna\n",
    "\n",
    "def get_genes_from_target_dict(genes_per_cna):\n",
    "    return list(set({x for v in genes_per_cna.values() for x in v}))\n",
    "\n",
    "def get_samples(lesions):\n",
    "    return lesions.iloc[:, 9:].dropna(how='all', axis=1).columns\n",
    "\n",
    "\n",
    "def get_target_genes_from_gistic(lesions, amps, dels):\n",
    "    # first, get the target genes for all CNAs\n",
    "    amp_targets = get_target_genes(amps)\n",
    "    del_targets = get_target_genes(dels)\n",
    "    all_targets = {**amp_targets, **del_targets} # no duplicate keys possible\n",
    "    list_of_targets = get_genes_from_target_dict(all_targets)\n",
    "    \n",
    "    # Next, get the sample IDs\n",
    "    all_lesions = pd.read_csv(lesions, sep='\\t')\n",
    "    if REMOVE_INCONSISTENT_CNAS:\n",
    "        mean_cnas = (all_lesions.iloc[:, 9:] >= GISTIC_THRESHOLD).mean(axis=1)\n",
    "        all_lesions = all_lesions[mean_cnas >= .75]\n",
    "    samples = get_samples(all_lesions)\n",
    "    \n",
    "    # construct target matrix (genes x samples; 1 indicates that sample has CNA affecting the gene)\n",
    "    target_gene_matrix = pd.DataFrame(0, index=list_of_targets, columns=samples)\n",
    "    all_lesions = all_lesions[~all_lesions['Unique Name'].str.contains(\"CN values\")]\n",
    "    for sample in samples:\n",
    "        cnas = all_lesions[all_lesions.loc[:, sample] >= GISTIC_THRESHOLD].Descriptor\n",
    "        genes_subset = dict((k, all_targets[k.strip()]) for k in cnas)\n",
    "        target_genes_for_sample = get_genes_from_target_dict(genes_subset)\n",
    "        target_gene_matrix.loc[target_gene_matrix.index.isin(target_genes_for_sample), sample] = 1\n",
    "    return target_gene_matrix\n",
    "    \n",
    "\n",
    "def get_target_genes_per_sample(root_dir, cancer_type, analysis_date):\n",
    "    analysis_dir = 'gdac.broadinstitute.org_{}-T{}.CopyNumber_Gistic2.Level_4.{}00.0.0.tar.gz'\n",
    "    p = os.path.join(root_dir, analysis_dir.format(cancer_type, 'B' if cancer_type is 'LAML' else 'P', analysis_date))\n",
    "    if os.path.isfile(p):\n",
    "        #print (\"Extracting target genes from {}\".format(p))\n",
    "        dir_prefix = analysis_dir.rstrip(\".tar.gz\").format(cancer_type,\n",
    "                                                           'B' if cancer_type is 'LAML' else 'P',\n",
    "                                                           analysis_date)\n",
    "        tar = tarfile.open(p, \"r:gz\")\n",
    "        lesions_tar = tar.extractfile(tar.getmember(os.path.join(dir_prefix, 'all_lesions.conf_99.txt')))\n",
    "        amp_tar = tar.extractfile(tar.getmember(os.path.join(dir_prefix, 'amp_genes.conf_99.txt')))\n",
    "        del_tar = tar.extractfile(tar.getmember(os.path.join(dir_prefix, 'del_genes.conf_99.txt')))\n",
    "        return get_target_genes_from_gistic(lesions_tar, amp_tar, del_tar)\n",
    "    else:\n",
    "        print (\"Error. Path {} does not exist\".format(p))\n",
    "\n",
    "def extract_targets_all_cancers(root_dir, analysis_date, cancer_types):\n",
    "    result_samples = None\n",
    "    result_cancertype = None\n",
    "    for cancer_type in cancer_types:\n",
    "        sample_matrix = get_target_genes_per_sample(os.path.join(root_dir, cancer_type, analysis_date),\n",
    "                                                    cancer_type, analysis_date)\n",
    "        mean_matrix = pd.DataFrame(sample_matrix.mean(axis=1), columns=[cancer_type])\n",
    "        print (\"For Cancer {}:\".format(cancer_type))\n",
    "        print (\"Found {} genes for {} samples with avg {} mutated genes\".format(sample_matrix.shape[0],\n",
    "                                                                                sample_matrix.shape[1],\n",
    "                                                                                sample_matrix.sum().sum() / sample_matrix.shape[1]))\n",
    "        print (\"{0:.2f}% mutations across all samples\".format((sample_matrix.sum().sum() / np.prod(sample_matrix.shape))*100))\n",
    "        print (\"-----------------------------------------\")\n",
    "        if result_samples is None:\n",
    "            result_samples = sample_matrix\n",
    "            result_cancertype = mean_matrix\n",
    "            \n",
    "        else:\n",
    "            result_samples = result_samples.append(sample_matrix)\n",
    "            result_cancertype = result_cancertype.append(mean_matrix)\n",
    "            \n",
    "    result_samples.fillna(0, inplace=True)\n",
    "    result_cancertype.fillna(0, inplace=True)\n",
    "    result_samples = result_samples.groupby(result_samples.index).sum()\n",
    "    result_cancertype = result_cancertype.groupby(result_cancertype.index).sum()\n",
    "    return result_samples, result_cancertype"
   ]
  },
  {
   "cell_type": "code",
   "execution_count": 7,
   "metadata": {
    "collapsed": false,
    "deletable": true,
    "editable": true
   },
   "outputs": [
    {
     "name": "stdout",
     "output_type": "stream",
     "text": [
      "For Cancer BLCA:\n",
      "Found 3687 genes for 408 samples with avg 81.5 mutated genes\n",
      "2.21% mutations across all samples\n",
      "-----------------------------------------\n",
      "For Cancer BRCA:\n",
      "Found 2920 genes for 1080 samples with avg 51.06296296296296 mutated genes\n",
      "1.75% mutations across all samples\n",
      "-----------------------------------------\n",
      "For Cancer COADREAD:\n",
      "Found 4812 genes for 616 samples with avg 134.2840909090909 mutated genes\n",
      "2.79% mutations across all samples\n",
      "-----------------------------------------\n",
      "For Cancer GBM:\n",
      "Found 2618 genes for 577 samples with avg 11.466204506065857 mutated genes\n",
      "0.44% mutations across all samples\n",
      "-----------------------------------------\n",
      "For Cancer HNSC:\n",
      "Found 3566 genes for 522 samples with avg 24.93295019157088 mutated genes\n",
      "0.70% mutations across all samples\n",
      "-----------------------------------------\n",
      "For Cancer KIRC:\n",
      "Found 5524 genes for 528 samples with avg 38.32954545454545 mutated genes\n",
      "0.69% mutations across all samples\n",
      "-----------------------------------------\n",
      "For Cancer LAML:\n",
      "Found 2658 genes for 191 samples with avg 1.1465968586387434 mutated genes\n",
      "0.04% mutations across all samples\n",
      "-----------------------------------------\n",
      "For Cancer LUAD:\n",
      "Found 6125 genes for 516 samples with avg 54.88178294573643 mutated genes\n",
      "0.90% mutations across all samples\n",
      "-----------------------------------------\n",
      "For Cancer LUSC:\n",
      "Found 4496 genes for 501 samples with avg 93.19760479041916 mutated genes\n",
      "2.07% mutations across all samples\n",
      "-----------------------------------------\n",
      "For Cancer OV:\n",
      "Found 2389 genes for 579 samples with avg 98.70811744386874 mutated genes\n",
      "4.13% mutations across all samples\n",
      "-----------------------------------------\n",
      "For Cancer UCEC:\n",
      "Found 3414 genes for 539 samples with avg 66.36363636363636 mutated genes\n",
      "1.94% mutations across all samples\n",
      "-----------------------------------------\n"
     ]
    }
   ],
   "source": [
    "cna_sample_matrix, cna_mean_matrix = extract_targets_all_cancers(ROOT_DIR, ANALYSIS_DATE, CANCER_TYPES)"
   ]
  },
  {
   "cell_type": "code",
   "execution_count": 9,
   "metadata": {
    "collapsed": false,
    "deletable": true,
    "editable": true,
    "scrolled": false
   },
   "outputs": [
    {
     "data": {
      "text/plain": [
       "<matplotlib.text.Text at 0x7fb0d80da4a8>"
      ]
     },
     "execution_count": 9,
     "metadata": {},
     "output_type": "execute_result"
    },
    {
     "data": {
      "image/png": "[encoded data removed]",
      "text/plain": [
       "<matplotlib.figure.Figure at 0x7fb0d8057f60>"
      ]
     },
     "metadata": {},
     "output_type": "display_data"
    }
   ],
   "source": [
    "ax = cna_mean_matrix.plot(kind='box', figsize=(16, 10), title='CNAs across different cancer types')\n",
    "ax.set_ylabel('Frequency of genes affected by CNAs')"
   ]
  },
  {
   "cell_type": "code",
   "execution_count": 10,
   "metadata": {
    "collapsed": false,
    "deletable": true,
    "editable": true
   },
   "outputs": [],
   "source": [
    "cna_mean_matrix.to_csv('../data/pancancer/TCGA/firehose_cnas_meancancertypes_{}.tsv'.format(ANALYSIS_DATE), sep='\\t')\n",
    "cna_sample_matrix_int = cna_sample_matrix.astype(np.uint8) # saves space and time\n",
    "cna_sample_matrix_int.to_csv('../data/pancancer/TCGA/firehose_cnas_sample_{}.tsv'.format(ANALYSIS_DATE), sep='\\t')"
   ]
  },
  {
   "cell_type": "code",
   "execution_count": 11,
   "metadata": {
    "collapsed": false,
    "deletable": true,
    "editable": true
   },
   "outputs": [
    {
     "data": {
      "text/plain": [
       "BLCA         81.500000\n",
       "BRCA         51.062963\n",
       "COADREAD    134.284091\n",
       "GBM          11.466205\n",
       "HNSC         24.932950\n",
       "KIRC         38.329545\n",
       "LAML          1.146597\n",
       "LUAD         54.881783\n",
       "LUSC         93.197605\n",
       "OV           98.708117\n",
       "UCEC         66.363636\n",
       "dtype: float64"
      ]
     },
     "execution_count": 11,
     "metadata": {},
     "output_type": "execute_result"
    }
   ],
   "source": [
    "cna_mean_matrix.sum()"
   ]
  },
  {
   "cell_type": "code",
   "execution_count": null,
   "metadata": {
    "collapsed": true,
    "deletable": true,
    "editable": true
   },
   "outputs": [],
   "source": []
  }
 ],
 "metadata": {
  "kernelspec": {
   "display_name": "Python 3",
   "language": "python",
   "name": "python3"
  },
  "language_info": {
   "codemirror_mode": {
    "name": "ipython",
    "version": 3
   },
   "file_extension": ".py",
   "mimetype": "text/x-python",
   "name": "python",
   "nbconvert_exporter": "python",
   "pygments_lexer": "ipython3",
   "version": "3.6.1"
  }
 },
 "nbformat": 4,
 "nbformat_minor": 2
}
