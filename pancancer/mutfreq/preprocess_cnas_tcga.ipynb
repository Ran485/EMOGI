{
 "cells": [
  {
   "cell_type": "markdown",
   "metadata": {},
   "source": [
    "# Preprocessing of Project-level TCGA CNA Files"
   ]
  },
  {
   "cell_type": "code",
   "execution_count": 1,
   "metadata": {},
   "outputs": [],
   "source": [
    "import pandas as pd\n",
    "import numpy as np\n",
    "import numpy.matlib\n",
    "import matplotlib.pyplot as plt\n",
    "import seaborn as sns\n",
    "import mygene\n",
    "import h5py\n",
    "import os, sys, math\n",
    "import umap\n",
    "from functools import reduce\n",
    "\n",
    "sys.path.append(os.path.abspath('../preprocessing/'))\n",
    "import preprocessing_utils as utils\n",
    "\n",
    "bestSplit = lambda x: (round(math.sqrt(x)), math.ceil(x / round(math.sqrt(x))))\n",
    "\n",
    "%matplotlib inline"
   ]
  },
  {
   "cell_type": "code",
   "execution_count": 17,
   "metadata": {},
   "outputs": [],
   "source": [
    "NORMALIZE_FOR_GENE_LENGTH = True\n",
    "\n",
    "gencode_annotation_path = '../../data/pancancer/gencode/gencode.v28.basic.annotation.gff3'\n",
    "cna_base_dir = '../../data/pancancer/TCGA/mutation/CNA/'\n",
    "ultra_mutated_samples_path = '../../data/pancancer/TCGA/mutation/ultramutated_tumor_ids'"
   ]
  },
  {
   "cell_type": "markdown",
   "metadata": {},
   "source": [
    "## Step 1: Compute Exonic Gene Length for all Genes"
   ]
  },
  {
   "cell_type": "code",
   "execution_count": 18,
   "metadata": {},
   "outputs": [
    {
     "data": {
      "image/png": "[encoded data removed]",
      "text/plain": [
       "<Figure size 1008x576 with 1 Axes>"
      ]
     },
     "metadata": {
      "needs_background": "light"
     },
     "output_type": "display_data"
    }
   ],
   "source": [
    "if NORMALIZE_FOR_GENE_LENGTH:\n",
    "    annotation_gencode = pd.read_csv(gencode_annotation_path,\n",
    "                                 comment='#', sep='\\t', skiprows=7,header=None,\n",
    "                                 names=['chr', 'source', 'type', 'start', 'end', 'score', 'strand', 'phase', 'attr']\n",
    "                                )\n",
    "    # derive length of all exons\n",
    "    annotation_gencode = annotation_gencode[annotation_gencode.type == 'exon']\n",
    "    annotation_gencode['length'] = np.abs(annotation_gencode.end - annotation_gencode.start)\n",
    "    # extract the gene name for each exon\n",
    "    def get_hugo_symbol(row):\n",
    "        s = row.attr\n",
    "        for elem in s.split(';'):\n",
    "            if elem.startswith('gene_name'):\n",
    "                return elem.split('=')[1].strip()\n",
    "        return None\n",
    "    annotation_gencode['Hugo_Symbol'] = annotation_gencode.apply(get_hugo_symbol, axis=1)\n",
    "    # add length of exons together for each gene\n",
    "    exonic_gene_lengths = annotation_gencode.groupby('Hugo_Symbol').length.sum()\n",
    "\n",
    "    # plot the longest proteins at the end\n",
    "    fig = plt.figure(figsize=(14, 8))\n",
    "    plt.barh(y = range(20), width=exonic_gene_lengths.sort_values(ascending=False).head(20), tick_label=exonic_gene_lengths.sort_values(ascending=False).head(20).index)\n",
    "    plt.xlabel('Exonic Length in Base Pairs')\n",
    "    plt.title('20 Longest Proteins')"
   ]
  },
  {
   "cell_type": "markdown",
   "metadata": {},
   "source": [
    "## Step 2: Load CNAs from Disk and Preprocess\n",
    "In this step, we load the CNAs from TCGA per cancer type/study. We next normalize for gene length (if requested) and then average across samples."
   ]
  },
  {
   "cell_type": "code",
   "execution_count": 21,
   "metadata": {},
   "outputs": [
    {
     "name": "stdout",
     "output_type": "stream",
     "text": [
      "4.095333275757464e-06\n",
      "Processed PRAD\n",
      "6.477790068766598e-06\n",
      "Processed LIHC\n",
      "1.0517950324668259e-05\n",
      "Processed LUSC\n",
      "9.681745411548166e-06\n",
      "Processed BLCA\n",
      "6.557614652885231e-06\n",
      "Processed CESC\n",
      "1.2031022330974295e-06\n",
      "Processed KIRP\n",
      "9.865853516213125e-06\n",
      "Processed BRCA\n",
      "7.720146798420783e-06\n",
      "Processed STAD\n",
      "6.593935821214601e-06\n",
      "Processed HNSC\n",
      "5.006320353770443e-06\n",
      "Processed READ\n",
      "6.377408905760918e-06\n",
      "Processed UCEC\n",
      "7.849189345944306e-06\n",
      "Processed LUAD\n",
      "1.7644882185580586e-07\n",
      "Processed THCA\n",
      "3.5685833097423506e-06\n",
      "Processed COAD\n",
      "1.999203630805188e-06\n",
      "Processed KIRC\n",
      "1.1196488330553018e-05\n",
      "Processed ESCA\n"
     ]
    }
   ],
   "source": [
    "def process_cna_for_ctype(fname, gene_lengths=None):\n",
    "    # load data for cancer type\n",
    "    gene_sample_matrix = pd.read_csv(fname, sep='\\t')\n",
    "    # remove the isoform from ensembl IDs\n",
    "    gene_sample_matrix.set_index(gene_sample_matrix['Gene Symbol'].str.split('.').str[0], inplace=True)\n",
    "    # drop uninformative columns\n",
    "    gene_sample_matrix.drop(['Gene Symbol', 'Gene ID', 'Cytoband'], axis=1, inplace=True)\n",
    "    if not gene_lengths is None:\n",
    "        bpmr = gene_sample_matrix.abs().sum() / float(gene_lengths.sum()) # mutation rate per base per patient (vector)\n",
    "        print (bpmr.mean())\n",
    "        expected_mutation_rates = pd.DataFrame(np.matlib.repmat(bpmr, gene_lengths.shape[0], 1) * gene_lengths.values.reshape(-1, 1),\n",
    "                                               index=gene_lengths.index,\n",
    "                                               columns=bpmr.index\n",
    "                                              ) # expected mutation frequency per gene and patient\n",
    "        denom = 1 + expected_mutation_rates.reindex_like(gene_sample_matrix).fillna(expected_mutation_rates.median(axis=0))\n",
    "        normalized_gene_sample_matrix = gene_sample_matrix.abs() / denom\n",
    "        cna_mean_matrix = normalized_gene_sample_matrix.mean(axis=1)\n",
    "    else:\n",
    "        # compute average of absolute CNAs (no cancelling out)\n",
    "        cna_mean_matrix = gene_sample_matrix.abs().mean(axis=1)\n",
    "    # get cancer type from file name\n",
    "    ctype = os.path.basename(fname).split('.')[0].strip()\n",
    "    # rename series to cancer type\n",
    "    cna_mean_matrix.rename(ctype, inplace=True)\n",
    "\n",
    "    return cna_mean_matrix, ctype\n",
    "\n",
    "cna_all_matrices = []\n",
    "cna_ctypes = []\n",
    "for dname in os.listdir(cna_base_dir):\n",
    "    ctype_dir = os.path.join(cna_base_dir, dname)\n",
    "    if os.path.isdir(ctype_dir):\n",
    "        for cna_gene_scores in os.listdir(ctype_dir):\n",
    "            if cna_gene_scores.endswith('focal_score_by_genes.txt'):\n",
    "                if NORMALIZE_FOR_GENE_LENGTH:\n",
    "                    avg_cna, ctype = process_cna_for_ctype(os.path.join(ctype_dir, cna_gene_scores),\n",
    "                                                           gene_lengths=exonic_gene_lengths)\n",
    "                else:\n",
    "                    avg_cna, ctype = process_cna_for_ctype(os.path.join(ctype_dir, cna_gene_scores), gene_lengths=None)\n",
    "                cna_all_matrices.append(avg_cna)\n",
    "                cna_ctypes.append(ctype)\n",
    "                print (\"Processed {}\".format(ctype))"
   ]
  },
  {
   "cell_type": "markdown",
   "metadata": {},
   "source": [
    "## Step 3: Merge and Provide Gene Symbols"
   ]
  },
  {
   "cell_type": "code",
   "execution_count": 12,
   "metadata": {},
   "outputs": [],
   "source": [
    "cna_mean_matrix2 = reduce(lambda left, right: pd.merge(left, right, left_index=True, right_index=True), cna_all_matrices)"
   ]
  },
  {
   "cell_type": "code",
   "execution_count": 25,
   "metadata": {},
   "outputs": [
    {
     "data": {
      "text/plain": [
       "Gene Symbol\n",
       "ENSG00000177694    0.195310\n",
       "ENSG00000186153    0.173605\n",
       "ENSG00000168702    0.157173\n",
       "ENSG00000145012    0.155726\n",
       "ENSG00000264545    0.154464\n",
       "                     ...   \n",
       "ENSG00000183035    0.021962\n",
       "ENSG00000153779    0.021880\n",
       "ENSG00000147138    0.021800\n",
       "ENSG00000147183    0.021416\n",
       "ENSG00000102271    0.021127\n",
       "Length: 19729, dtype: float64"
      ]
     },
     "execution_count": 25,
     "metadata": {},
     "output_type": "execute_result"
    }
   ],
   "source": [
    "cna_mean_matrix2.mean(axis=1).sort_values(ascending=False)"
   ]
  },
  {
   "cell_type": "code",
   "execution_count": 14,
   "metadata": {},
   "outputs": [
    {
     "data": {
      "text/html": [
       "<div>\n",
       "<style scoped>\n",
       "    .dataframe tbody tr th:only-of-type {\n",
       "        vertical-align: middle;\n",
       "    }\n",
       "\n",
       "    .dataframe tbody tr th {\n",
       "        vertical-align: top;\n",
       "    }\n",
       "\n",
       "    .dataframe thead th {\n",
       "        text-align: right;\n",
       "    }\n",
       "</style>\n",
       "<table border=\"1\" class=\"dataframe\">\n",
       "  <thead>\n",
       "    <tr style=\"text-align: right;\">\n",
       "      <th>Gene Symbol</th>\n",
       "      <th>ENSG00000141510</th>\n",
       "    </tr>\n",
       "  </thead>\n",
       "  <tbody>\n",
       "    <tr>\n",
       "      <th>PRAD</th>\n",
       "      <td>0.181275</td>\n",
       "    </tr>\n",
       "    <tr>\n",
       "      <th>LIHC</th>\n",
       "      <td>0.097625</td>\n",
       "    </tr>\n",
       "    <tr>\n",
       "      <th>UCEC</th>\n",
       "      <td>0.065693</td>\n",
       "    </tr>\n",
       "    <tr>\n",
       "      <th>BLCA</th>\n",
       "      <td>0.057831</td>\n",
       "    </tr>\n",
       "    <tr>\n",
       "      <th>BRCA</th>\n",
       "      <td>0.056962</td>\n",
       "    </tr>\n",
       "    <tr>\n",
       "      <th>ESCA</th>\n",
       "      <td>0.054054</td>\n",
       "    </tr>\n",
       "    <tr>\n",
       "      <th>LUAD</th>\n",
       "      <td>0.050450</td>\n",
       "    </tr>\n",
       "    <tr>\n",
       "      <th>STAD</th>\n",
       "      <td>0.045455</td>\n",
       "    </tr>\n",
       "    <tr>\n",
       "      <th>HNSC</th>\n",
       "      <td>0.041825</td>\n",
       "    </tr>\n",
       "    <tr>\n",
       "      <th>LUSC</th>\n",
       "      <td>0.036260</td>\n",
       "    </tr>\n",
       "    <tr>\n",
       "      <th>CESC</th>\n",
       "      <td>0.030303</td>\n",
       "    </tr>\n",
       "    <tr>\n",
       "      <th>COAD</th>\n",
       "      <td>0.023715</td>\n",
       "    </tr>\n",
       "    <tr>\n",
       "      <th>READ</th>\n",
       "      <td>0.023529</td>\n",
       "    </tr>\n",
       "    <tr>\n",
       "      <th>KIRC</th>\n",
       "      <td>0.008489</td>\n",
       "    </tr>\n",
       "    <tr>\n",
       "      <th>KIRP</th>\n",
       "      <td>0.006601</td>\n",
       "    </tr>\n",
       "    <tr>\n",
       "      <th>THCA</th>\n",
       "      <td>0.003906</td>\n",
       "    </tr>\n",
       "  </tbody>\n",
       "</table>\n",
       "</div>"
      ],
      "text/plain": [
       "Gene Symbol  ENSG00000141510\n",
       "PRAD                0.181275\n",
       "LIHC                0.097625\n",
       "UCEC                0.065693\n",
       "BLCA                0.057831\n",
       "BRCA                0.056962\n",
       "ESCA                0.054054\n",
       "LUAD                0.050450\n",
       "STAD                0.045455\n",
       "HNSC                0.041825\n",
       "LUSC                0.036260\n",
       "CESC                0.030303\n",
       "COAD                0.023715\n",
       "READ                0.023529\n",
       "KIRC                0.008489\n",
       "KIRP                0.006601\n",
       "THCA                0.003906"
      ]
     },
     "execution_count": 14,
     "metadata": {},
     "output_type": "execute_result"
    }
   ],
   "source": [
    "cna_mean_matrix2[cna_mean_matrix2.index == 'ENSG00000141510'].T.sort_values(by='ENSG00000141510', ascending=False)"
   ]
  },
  {
   "cell_type": "code",
   "execution_count": 26,
   "metadata": {},
   "outputs": [
    {
     "data": {
      "text/plain": [
       "Gene Symbol\n",
       "ENSG00000177694    0.192954\n",
       "ENSG00000186153    0.171760\n",
       "ENSG00000168702    0.155265\n",
       "ENSG00000145012    0.153694\n",
       "ENSG00000172264    0.152814\n",
       "                     ...   \n",
       "ENSG00000183035    0.021589\n",
       "ENSG00000153779    0.021508\n",
       "ENSG00000147138    0.021429\n",
       "ENSG00000147183    0.021066\n",
       "ENSG00000102271    0.020768\n",
       "Length: 19729, dtype: float64"
      ]
     },
     "execution_count": 26,
     "metadata": {},
     "output_type": "execute_result"
    }
   ],
   "source": [
    "cna_mean_matrix[cna_mean_matrix.index == 'ENSG00000141510'].T.sort_values(by='ENSG00000141510', ascending=False)\n",
    "cna_mean_matrix.mean(axis=1).sort_values(ascending=False)"
   ]
  },
  {
   "cell_type": "code",
   "execution_count": 52,
   "metadata": {},
   "outputs": [
    {
     "name": "stdout",
     "output_type": "stream",
     "text": [
      "querying 1-1000...done.\n",
      "querying 1001-2000...done.\n",
      "querying 2001-3000...done.\n",
      "querying 3001-4000...done.\n",
      "querying 4001-5000...done.\n",
      "querying 5001-6000...done.\n",
      "querying 6001-7000...done.\n",
      "querying 7001-8000...done.\n",
      "querying 8001-9000...done.\n",
      "querying 9001-10000...done.\n",
      "querying 10001-11000...done.\n",
      "querying 11001-12000...done.\n",
      "querying 12001-13000...done.\n",
      "querying 13001-14000...done.\n",
      "querying 14001-15000...done.\n",
      "querying 15001-16000...done.\n",
      "querying 16001-17000...done.\n",
      "querying 17001-18000...done.\n",
      "querying 18001-19000...done.\n",
      "querying 19001-19729...done.\n",
      "Finished.\n",
      "280 input query terms found no hit:\n",
      "\t['ENSG00000273547', 'ENSG00000278566', 'ENSG00000279244', 'ENSG00000237847', 'ENSG00000268991', 'ENS\n"
     ]
    }
   ],
   "source": [
    "cna_mean_matrix = reduce(lambda left, right: pd.merge(left, right, left_index=True, right_index=True), cna_all_matrices)\n",
    "# get gene symbols\n",
    "ensembl_symbol_map = utils.get_symbols_from_ensembl(cna_mean_matrix.index)\n",
    "cna_mean_with_names = cna_mean_matrix.join(ensembl_symbol_map)\n",
    "cna_mean_with_names.dropna(axis=0, inplace=True)\n",
    "cna_mean_with_names.set_index('Symbol', inplace=True)"
   ]
  },
  {
   "cell_type": "code",
   "execution_count": 55,
   "metadata": {},
   "outputs": [
    {
     "data": {
      "text/html": [
       "<div>\n",
       "<style scoped>\n",
       "    .dataframe tbody tr th:only-of-type {\n",
       "        vertical-align: middle;\n",
       "    }\n",
       "\n",
       "    .dataframe tbody tr th {\n",
       "        vertical-align: top;\n",
       "    }\n",
       "\n",
       "    .dataframe thead th {\n",
       "        text-align: right;\n",
       "    }\n",
       "</style>\n",
       "<table border=\"1\" class=\"dataframe\">\n",
       "  <thead>\n",
       "    <tr style=\"text-align: right;\">\n",
       "      <th>Symbol</th>\n",
       "      <th>SOX2</th>\n",
       "    </tr>\n",
       "  </thead>\n",
       "  <tbody>\n",
       "    <tr>\n",
       "      <th>LUSC</th>\n",
       "      <td>0.503304</td>\n",
       "    </tr>\n",
       "    <tr>\n",
       "      <th>ESCA</th>\n",
       "      <td>0.314683</td>\n",
       "    </tr>\n",
       "    <tr>\n",
       "      <th>HNSC</th>\n",
       "      <td>0.267196</td>\n",
       "    </tr>\n",
       "    <tr>\n",
       "      <th>CESC</th>\n",
       "      <td>0.199848</td>\n",
       "    </tr>\n",
       "    <tr>\n",
       "      <th>UCEC</th>\n",
       "      <td>0.144982</td>\n",
       "    </tr>\n",
       "    <tr>\n",
       "      <th>BRCA</th>\n",
       "      <td>0.135574</td>\n",
       "    </tr>\n",
       "    <tr>\n",
       "      <th>STAD</th>\n",
       "      <td>0.131980</td>\n",
       "    </tr>\n",
       "    <tr>\n",
       "      <th>BLCA</th>\n",
       "      <td>0.113631</td>\n",
       "    </tr>\n",
       "    <tr>\n",
       "      <th>LUAD</th>\n",
       "      <td>0.106456</td>\n",
       "    </tr>\n",
       "    <tr>\n",
       "      <th>LIHC</th>\n",
       "      <td>0.075662</td>\n",
       "    </tr>\n",
       "    <tr>\n",
       "      <th>READ</th>\n",
       "      <td>0.058429</td>\n",
       "    </tr>\n",
       "    <tr>\n",
       "      <th>PRAD</th>\n",
       "      <td>0.045427</td>\n",
       "    </tr>\n",
       "    <tr>\n",
       "      <th>KIRC</th>\n",
       "      <td>0.043919</td>\n",
       "    </tr>\n",
       "    <tr>\n",
       "      <th>COAD</th>\n",
       "      <td>0.033183</td>\n",
       "    </tr>\n",
       "    <tr>\n",
       "      <th>KIRP</th>\n",
       "      <td>0.019682</td>\n",
       "    </tr>\n",
       "    <tr>\n",
       "      <th>THCA</th>\n",
       "      <td>0.000000</td>\n",
       "    </tr>\n",
       "  </tbody>\n",
       "</table>\n",
       "</div>"
      ],
      "text/plain": [
       "Symbol      SOX2\n",
       "LUSC    0.503304\n",
       "ESCA    0.314683\n",
       "HNSC    0.267196\n",
       "CESC    0.199848\n",
       "UCEC    0.144982\n",
       "BRCA    0.135574\n",
       "STAD    0.131980\n",
       "BLCA    0.113631\n",
       "LUAD    0.106456\n",
       "LIHC    0.075662\n",
       "READ    0.058429\n",
       "PRAD    0.045427\n",
       "KIRC    0.043919\n",
       "COAD    0.033183\n",
       "KIRP    0.019682\n",
       "THCA    0.000000"
      ]
     },
     "execution_count": 55,
     "metadata": {},
     "output_type": "execute_result"
    }
   ],
   "source": [
    "cna_mean_with_names[cna_mean_with_names.index == 'SOX2'].T.sort_values(by='SOX2', ascending=False)"
   ]
  },
  {
   "cell_type": "markdown",
   "metadata": {},
   "source": [
    "## Step 4: Write to Disk"
   ]
  },
  {
   "cell_type": "code",
   "execution_count": 67,
   "metadata": {},
   "outputs": [],
   "source": [
    "cna_mean_with_names = cna_mean_with_names[~cna_mean_with_names.index.duplicated(keep='first')]\n",
    "cna_mean_with_names.to_csv('../../data/pancancer/TCGA/mutation/CNA_mean_TCGA.tsv', sep='\\t')"
   ]
  }
 ],
 "metadata": {
  "kernelspec": {
   "display_name": "Python 3",
   "language": "python",
   "name": "python3"
  },
  "language_info": {
   "codemirror_mode": {
    "name": "ipython",
    "version": 3
   },
   "file_extension": ".py",
   "mimetype": "text/x-python",
   "name": "python",
   "nbconvert_exporter": "python",
   "pygments_lexer": "ipython3",
   "version": "3.7.7"
  }
 },
 "nbformat": 4,
 "nbformat_minor": 4
}
