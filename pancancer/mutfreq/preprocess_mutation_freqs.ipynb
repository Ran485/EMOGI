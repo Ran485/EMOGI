{
 "cells": [
  {
   "cell_type": "markdown",
   "metadata": {
    "deletable": true,
    "editable": true
   },
   "source": [
    "# Preprocessing of Mutation Frequencies\n",
    "This notebook is devoted to the preprocessing of TCGA mutation frequencies. I will derive a matrix, containing the mutation frequencies per samples (columns) and genes (rows).\n",
    "This matrix will later be the feature matrix used by another notebook to form a hdf5 container."
   ]
  },
  {
   "cell_type": "code",
   "execution_count": 2,
   "metadata": {
    "collapsed": false,
    "deletable": true,
    "editable": true
   },
   "outputs": [
    {
     "name": "stderr",
     "output_type": "stream",
     "text": [
      "/home/sasse/.local/lib/python3.6/site-packages/h5py/__init__.py:34: FutureWarning: Conversion of the second argument of issubdtype from `float` to `np.floating` is deprecated. In future, it will be treated as `np.float64 == np.dtype(float).type`.\n",
      "  from ._conv import register_converters as _register_converters\n"
     ]
    }
   ],
   "source": [
    "import pandas as pd\n",
    "import numpy as np\n",
    "import matplotlib.pyplot as plt\n",
    "import seaborn\n",
    "import mygene\n",
    "import h5py\n",
    "%matplotlib inline"
   ]
  },
  {
   "cell_type": "markdown",
   "metadata": {
    "deletable": true,
    "editable": true
   },
   "source": [
    "## Parameters\n",
    "* `USE_PRECOMPILED_MAF`: The flag indicates if the mutations to be used here should be the ones downloaded from synapse (https://www.synapse.org/#!Synapse:syn1729383) or own downloaded mafs across all cancers. The synapse data was also used by Hotnet2 while the other data is more recent but also maybe more error prone."
   ]
  },
  {
   "cell_type": "code",
   "execution_count": 3,
   "metadata": {
    "collapsed": true,
    "deletable": true,
    "editable": true
   },
   "outputs": [],
   "source": [
    "USE_PRECOMPILED_MAF = True"
   ]
  },
  {
   "cell_type": "markdown",
   "metadata": {
    "deletable": true,
    "editable": true
   },
   "source": [
    "## Loading high confidence MAF file & CNAs"
   ]
  },
  {
   "cell_type": "code",
   "execution_count": 4,
   "metadata": {
    "collapsed": false,
    "deletable": true,
    "editable": true
   },
   "outputs": [],
   "source": [
    "trim_fun = lambda x: '-'.join(str(x).split('-')[:4]) # TCGA barcode including sample\n",
    "\n",
    "# load MAF\n",
    "if USE_PRECOMPILED_MAF:\n",
    "    sn_mutations = pd.read_csv('../data/pancancer/TCGA/pancan12_cleaned.maf', sep='\\t')\n",
    "else:\n",
    "    sn_mutations = pd.read_csv('../data/pancancer/TCGA/all_mutations.maf')\n",
    "sn_mutations.Tumor_Sample_Barcode = sn_mutations.Tumor_Sample_Barcode.map(trim_fun)\n",
    "\n",
    "# load CNAs\n",
    "cna_sample_matrix = pd.read_csv('../data/pancancer/TCGA/firehose_cnas_sample_20160128.tsv', sep='\\t')\n",
    "cna_sample_matrix.rename(columns={'Unnamed: 0':'Name'}, inplace=True)\n",
    "cna_sample_matrix.set_index('Name', inplace=True)\n",
    "cna_sample_matrix.rename(columns=trim_fun, inplace=True)\n",
    "\n",
    "cna_mean_matrix = pd.read_csv('../data/pancancer/TCGA/firehose_cnas_meancancertypes_20160128.tsv', sep='\\t')"
   ]
  },
  {
   "cell_type": "code",
   "execution_count": 5,
   "metadata": {
    "collapsed": false,
    "deletable": true,
    "editable": true,
    "scrolled": false
   },
   "outputs": [
    {
     "name": "stdout",
     "output_type": "stream",
     "text": [
      "Found 3277 samples in MAF file\n",
      "Found 6057 samples in CNA file\n",
      "Found 2999 samples in both, CNA and MAF\n"
     ]
    }
   ],
   "source": [
    "print (\"Found {} samples in MAF file\".format(sn_mutations.Tumor_Sample_Barcode.nunique()))\n",
    "print (\"Found {} samples in CNA file\".format(cna_sample_matrix.shape[1]))\n",
    "samples_in_both = sn_mutations[sn_mutations.Tumor_Sample_Barcode.isin(cna_sample_matrix.columns)].Tumor_Sample_Barcode.nunique()\n",
    "print (\"Found {} samples in both, CNA and MAF\".format(samples_in_both))"
   ]
  },
  {
   "cell_type": "markdown",
   "metadata": {
    "deletable": true,
    "editable": true
   },
   "source": [
    "## Removing Silent Mutations and Hyper-Mutated Samples\n",
    "This corresponds to step calling 2.ii and filtering 1.i of the Hotnet2 preprocessing."
   ]
  },
  {
   "cell_type": "code",
   "execution_count": 6,
   "metadata": {
    "collapsed": false,
    "deletable": true,
    "editable": true
   },
   "outputs": [
    {
     "name": "stdout",
     "output_type": "stream",
     "text": [
      "Removed 134636 (of 633377) mutations because they are silent\n"
     ]
    }
   ],
   "source": [
    "# remove silent mutations\n",
    "non_silent = sn_mutations[sn_mutations.Variant_Classification != 'Silent']\n",
    "print (\"Removed {} (of {}) mutations because they are silent\".format(sn_mutations.shape[0]-non_silent.shape[0],\n",
    "                                                                     sn_mutations.shape[0]))"
   ]
  },
  {
   "cell_type": "code",
   "execution_count": 7,
   "metadata": {
    "collapsed": false,
    "deletable": true,
    "editable": true,
    "scrolled": false
   },
   "outputs": [],
   "source": [
    "# remove ultra-mutated samples\n",
    "ultra_mutators = pd.read_csv('../data/pancancer/TCGA/ultramutated_tumor_ids', header=None, names=['Tumor_IDs'])\n",
    "ultra_mutators.Tumor_IDs = ultra_mutators.Tumor_IDs.map(trim_fun)\n",
    "sn_mutations_no_ultra = non_silent[~non_silent.Tumor_Sample_Barcode.isin(ultra_mutators.Tumor_IDs)]\n",
    "cna_sample_matrix_no_ultra = cna_sample_matrix.loc[:, ~cna_sample_matrix.columns.isin(ultra_mutators.Tumor_IDs)]"
   ]
  },
  {
   "cell_type": "code",
   "execution_count": 8,
   "metadata": {
    "collapsed": false,
    "deletable": true,
    "editable": true
   },
   "outputs": [
    {
     "name": "stdout",
     "output_type": "stream",
     "text": [
      "Left with 3206 samples for SNVs after removing 71 hyper-mutated samples\n",
      "--> 315333 SN mutations left\n",
      "--> 5988 samples with CNAs left\n"
     ]
    }
   ],
   "source": [
    "no_hyp = ultra_mutators.Tumor_IDs.nunique()\n",
    "left = sn_mutations_no_ultra.Tumor_Sample_Barcode.nunique()\n",
    "print (\"Left with {} samples for SNVs after removing {} hyper-mutated samples\".format(left, no_hyp))\n",
    "print (\"--> {} SN mutations left\".format(sn_mutations_no_ultra.shape[0]))\n",
    "print (\"--> {} samples with CNAs left\".format(cna_sample_matrix_no_ultra.shape[1]))"
   ]
  },
  {
   "cell_type": "markdown",
   "metadata": {
    "deletable": true,
    "editable": true
   },
   "source": [
    "## Removing Samples with more than 400 mutated genes\n",
    "This corresponds to step filtering 1.ii of the Hotnet2 preprocessing."
   ]
  },
  {
   "cell_type": "code",
   "execution_count": 9,
   "metadata": {
    "collapsed": false,
    "deletable": true,
    "editable": true
   },
   "outputs": [
    {
     "name": "stdout",
     "output_type": "stream",
     "text": [
      "Removing 237 samples because they have more than 400 CNAs + SNVs\n",
      "--> Left with 229817 SNVs\n",
      "--> 5751 samples with CNAs left\n"
     ]
    }
   ],
   "source": [
    "sn_mutcount_sample = sn_mutations_no_ultra.groupby('Tumor_Sample_Barcode').count().Hugo_Symbol\n",
    "mut_counts = cna_sample_matrix_no_ultra.sum(axis=0) + sn_mutcount_sample\n",
    "mut_counts.fillna(0, inplace=True)\n",
    "mut_counts = pd.DataFrame(mut_counts, columns=['num_mutations'])\n",
    "mut_counts = mut_counts.groupby(mut_counts.index).sum() # sum duplicate samples\n",
    "larger_400_muts = mut_counts[mut_counts.num_mutations > 400]\n",
    "print (\"Removing {} samples because they have more than 400 CNAs + SNVs\".format(larger_400_muts.shape[0]))\n",
    "sn_mutations_filtered = sn_mutations_no_ultra[~sn_mutations_no_ultra.Tumor_Sample_Barcode.isin(larger_400_muts.index)]\n",
    "cna_sample_matrix_filtered = cna_sample_matrix_no_ultra.loc[:, ~cna_sample_matrix_no_ultra.columns.isin(larger_400_muts.index)]\n",
    "print (\"--> Left with {} SNVs\".format(sn_mutations_filtered.shape[0]))\n",
    "print (\"--> {} samples with CNAs left\".format(cna_sample_matrix_filtered.shape[1]))"
   ]
  },
  {
   "cell_type": "markdown",
   "metadata": {
    "deletable": true,
    "editable": true
   },
   "source": [
    "## Removing Genes with not much Gene Expression\n",
    "This corresponds to step filtering 5.i of the Hotnet2 preprocessing."
   ]
  },
  {
   "cell_type": "code",
   "execution_count": 10,
   "metadata": {
    "collapsed": false,
    "deletable": true,
    "editable": true
   },
   "outputs": [
    {
     "name": "stdout",
     "output_type": "stream",
     "text": [
      "Removed 8303 of 19856 genes because of no gene expression. Left with 11553 genes\n",
      "--> 132424 Mutations left\n",
      "Removed 3063 samples with CNAs because they had no SNVs\n",
      "--> 2688 CNA samples left\n"
     ]
    }
   ],
   "source": [
    "# all genes in here already have more than 3 reads in more than 30% of tumors of each cancer type\n",
    "ge = pd.read_csv('../data/pancancer/TCGA/pancan12_rsem_matrix_tumor_type_means.tsv', sep='\\t')\n",
    "sn_mutations_with_ge = sn_mutations_filtered[sn_mutations_filtered.Hugo_Symbol.isin(ge['#Gene'])]\n",
    "no_before = sn_mutations_filtered.Hugo_Symbol.nunique()\n",
    "no_left = sn_mutations_with_ge.Hugo_Symbol.nunique()\n",
    "no_removed = no_before - no_left\n",
    "print (\"Removed {} of {} genes because of no gene expression. Left with {} genes\".format(no_removed, no_before, no_left))\n",
    "print (\"--> {} Mutations left\".format(sn_mutations_with_ge.shape[0]))\n",
    "\n",
    "# remove CNAs that have no SNVs\n",
    "final_cna_matrix = cna_sample_matrix_filtered.loc[:, cna_sample_matrix_filtered.columns.isin(sn_mutations_with_ge.Tumor_Sample_Barcode)]\n",
    "print (\"Removed {} samples with CNAs because they had no SNVs\".format(cna_sample_matrix_filtered.shape[1] - final_cna_matrix.shape[1]))\n",
    "print (\"--> {} CNA samples left\".format(final_cna_matrix.shape[1]))"
   ]
  },
  {
   "cell_type": "markdown",
   "metadata": {
    "deletable": true,
    "editable": true
   },
   "source": [
    "## Creating Matrix with Samples (cols) and Genes (rows)"
   ]
  },
  {
   "cell_type": "code",
   "execution_count": null,
   "metadata": {
    "collapsed": false
   },
   "outputs": [],
   "source": []
  },
  {
   "cell_type": "code",
   "execution_count": 11,
   "metadata": {
    "collapsed": false,
    "deletable": true,
    "editable": true
   },
   "outputs": [
    {
     "name": "stdout",
     "output_type": "stream",
     "text": [
      "34056307 out of 34185327 elements in matrix are 0\n",
      "--> Only 129020 elements are > 0\n"
     ]
    }
   ],
   "source": [
    "relevant_only = sn_mutations_with_ge[['Hugo_Symbol', 'Tumor_Sample_Barcode']]\n",
    "x = relevant_only.groupby(['Hugo_Symbol', 'Tumor_Sample_Barcode']).size().reset_index().rename(columns={0:'count'})\n",
    "final_matrix_sn = x.pivot(index='Hugo_Symbol', columns='Tumor_Sample_Barcode', values='count')\n",
    "no_nas = final_matrix_sn.isnull().sum().sum()\n",
    "final_matrix_sn.fillna(0, inplace=True)\n",
    "print (\"{} out of {} elements in matrix are 0\".format(no_nas, np.prod(final_matrix_sn.shape)))\n",
    "print (\"--> Only {} elements are > 0\".format(np.prod(final_matrix_sn.shape) - no_nas))"
   ]
  },
  {
   "cell_type": "code",
   "execution_count": 12,
   "metadata": {
    "collapsed": false
   },
   "outputs": [
    {
     "data": {
      "text/plain": [
       "<matplotlib.text.Text at 0x7f50aeffd550>"
      ]
     },
     "execution_count": 12,
     "metadata": {},
     "output_type": "execute_result"
    },
    {
     "data": {
      "image/png": "[encoded data removed]",
      "text/plain": [
       "<matplotlib.figure.Figure at 0x7f50adb64358>"
      ]
     },
     "metadata": {},
     "output_type": "display_data"
    }
   ],
   "source": [
    "ax = final_cna_matrix.sum(axis=1).plot('hist', bins=np.linspace(0, 100, 100), figsize=(14, 8))\n",
    "ax.set_ylabel('Number of Genes', fontsize=15)\n",
    "ax.set_title('Distribution of CNA Mutation Frequencies', fontsize=20)\n",
    "ax.set_xlabel('Mutation Frequency', fontsize=15)"
   ]
  },
  {
   "cell_type": "code",
   "execution_count": 13,
   "metadata": {
    "collapsed": false,
    "deletable": true,
    "editable": true
   },
   "outputs": [
    {
     "data": {
      "text/plain": [
       "<matplotlib.text.Text at 0x7f50b2d52f28>"
      ]
     },
     "execution_count": 13,
     "metadata": {},
     "output_type": "execute_result"
    },
    {
     "data": {
      "image/png": "[encoded data removed]",
      "text/plain": [
       "<matplotlib.figure.Figure at 0x7f5104a204a8>"
      ]
     },
     "metadata": {},
     "output_type": "display_data"
    }
   ],
   "source": [
    "ax = final_matrix_sn.sum(axis=1).plot('hist', bins=np.linspace(0, 200, 200), figsize=(14, 8))\n",
    "ax.set_ylabel('Number of Genes', fontsize=15)\n",
    "ax.set_title('Distribution of SNV Mutation Frequencies', fontsize=20)\n",
    "ax.set_xlabel('Number of Mutations', fontsize=15)"
   ]
  },
  {
   "cell_type": "markdown",
   "metadata": {
    "deletable": true,
    "editable": true
   },
   "source": [
    "## Add SNVs and CNAs\n",
    "Finally, let's add the CNAs and SNVs for the genes together by using the sum of CNAs and SNVs for each gene and sample.\n",
    "\n",
    "This corresponds somwhow to step filtering 4.i of the hotnet2 preprocessing."
   ]
  },
  {
   "cell_type": "code",
   "execution_count": null,
   "metadata": {
    "collapsed": false,
    "scrolled": false
   },
   "outputs": [],
   "source": []
  },
  {
   "cell_type": "code",
   "execution_count": 14,
   "metadata": {
    "collapsed": false,
    "deletable": true,
    "editable": true,
    "scrolled": true
   },
   "outputs": [],
   "source": [
    "#cna_snv_sample_mat = final_matrix_sn.append(final_cna_matrix)\n",
    "#cna_snv_sample_mat.fillna(0, inplace=True)\n",
    "#cna_snv_sample_mat = cna_snv_sample_mat.groupby(cna_snv_sample_mat.index).sum()\n",
    "#cna_snv_sample_mat.shape, final_matrix_sn.index.isin(final_cna_matrix.index).sum()\n",
    "final_cnas_with_muts = final_cna_matrix[final_cna_matrix.sum(axis=1) > 0]\n",
    "final_matrix_sn.index.rename('Name', inplace=True)\n",
    "cna_snv_sample_mat = pd.concat((final_matrix_sn, final_cnas_with_muts))"
   ]
  },
  {
   "cell_type": "code",
   "execution_count": 15,
   "metadata": {
    "collapsed": false
   },
   "outputs": [
    {
     "data": {
      "text/plain": [
       "<matplotlib.text.Text at 0x7f50ee29eac8>"
      ]
     },
     "execution_count": 15,
     "metadata": {},
     "output_type": "execute_result"
    },
    {
     "data": {
      "image/png": "[encoded data removed]",
      "text/plain": [
       "<matplotlib.figure.Figure at 0x7f50b1ae0710>"
      ]
     },
     "metadata": {},
     "output_type": "display_data"
    }
   ],
   "source": [
    "ax = cna_snv_sample_mat.sum(axis=1).plot('hist', bins=np.linspace(0, 200, 200), figsize=(14, 8))\n",
    "ax.set_ylabel('Number of Genes', fontsize=15)\n",
    "ax.set_title('Distribution of both Mutation Frequencies', fontsize=20)\n",
    "ax.set_xlabel('Mutation Frequency', fontsize=15)\n",
    "print (\"Number of genes in joint matrix: {}\".format(cna_snv_sample_mat.shape[0]))"
   ]
  },
  {
   "cell_type": "code",
   "execution_count": 16,
   "metadata": {
    "collapsed": false,
    "deletable": true,
    "editable": true
   },
   "outputs": [],
   "source": [
    "final_matrix = cna_snv_sample_mat"
   ]
  },
  {
   "cell_type": "code",
   "execution_count": 17,
   "metadata": {
    "collapsed": false,
    "deletable": true,
    "editable": true
   },
   "outputs": [],
   "source": [
    "if USE_PRECOMPILED_MAF:\n",
    "    final_matrix_sn.to_csv('../data/pancancer/TCGA/snv_samples_syn.tsv', sep='\\t')\n",
    "    final_cna_matrix.to_csv('../data/pancancer/TCGA/cna_samples_syn.tsv', sep='\\t')\n",
    "    cna_snv_sample_mat.to_csv('../data/pancancer/TCGA/mut_freqs_samples_syn.tsv', sep='\\t')\n",
    "else:\n",
    "    final_matrix_sn.to_csv('../data/pancancer/TCGA/snv_samples_own.tsv', sep='\\t')\n",
    "    final_cna_matrix.to_csv('../data/pancancer/TCGA/cna_samples_own.tsv', sep='\\t')\n",
    "    cna_snv_sample_mat.to_csv('../data/pancancer/TCGA/mut_freqs_samples_own.tsv', sep='\\t')"
   ]
  },
  {
   "cell_type": "markdown",
   "metadata": {
    "deletable": true,
    "editable": true
   },
   "source": [
    "## Convert Gene Names to Ensembl IDs"
   ]
  },
  {
   "cell_type": "code",
   "execution_count": 18,
   "metadata": {
    "collapsed": false,
    "deletable": true,
    "editable": true
   },
   "outputs": [
    {
     "name": "stdout",
     "output_type": "stream",
     "text": [
      "querying 1-1000...done.\n",
      "querying 1001-2000...done.\n",
      "querying 2001-3000...done.\n",
      "querying 3001-4000...done.\n",
      "querying 4001-5000...done.\n",
      "querying 5001-6000...done.\n",
      "querying 6001-7000...done.\n",
      "querying 7001-8000...done.\n",
      "querying 8001-9000...done.\n",
      "querying 9001-10000...done.\n",
      "querying 10001-11000...done.\n",
      "querying 11001-12000...done.\n",
      "querying 12001-13000...done.\n",
      "querying 13001-14000...done.\n",
      "querying 14001-15000...done.\n",
      "querying 15001-15809...done.\n",
      "Finished.\n",
      "2505 input query terms found dup hits:\n",
      "\t[('AARS2', 2), ('AASDH', 2), ('ABAT', 2), ('ABCA11P', 2), ('ABCA2', 2), ('ABCB10', 2), ('ABCB8', 2),\n",
      "680 input query terms found no hit:\n",
      "\t['ABP1', 'ACN9', 'ACPL2', 'ACRC', 'ADC', 'ADCK3', 'ADCK4', 'ADRBK1', 'ADRBK2', 'AGAP8', 'AGPAT6', 'A\n",
      "697 (of 15809) genes had no mapping Ensembl ID\n"
     ]
    }
   ],
   "source": [
    "# use mygene to get ensembl IDs from Hugo Symbols\n",
    "mg = mygene.MyGeneInfo()\n",
    "res = mg.querymany(final_matrix.index,\n",
    "                   scopes='symbol',\n",
    "                   fields='ensembl.gene, symbol',\n",
    "                   species='human', returnall=True\n",
    "                  )\n",
    "\n",
    "# now, retrieve the names and IDs from a dictionary and put in DF\n",
    "def get_name_and_id(x):\n",
    "    ens_id = x['ensembl'][0]['gene'] if type(x['ensembl']) is list else x['ensembl']['gene']\n",
    "    name = x['symbol']\n",
    "    query = x['query']\n",
    "    if not name == query:\n",
    "        print (\"Error: \", name, query)\n",
    "    return [ens_id, name]\n",
    "\n",
    "ens_ids = [get_name_and_id(x) for x in res['out'] if 'ensembl' in x]\n",
    "mapping = pd.DataFrame(ens_ids, columns=['Ensembl_ID', 'Name'])\n",
    "mapping.set_index('Name', inplace=True)\n",
    "mapping = mapping[~mapping.index.duplicated(keep='first')]\n",
    "\n",
    "# join mutation frequencies with our derived mapping\n",
    "mut_freq_sample = final_matrix.join(mapping)\n",
    "print (\"{} (of {}) genes had no mapping Ensembl ID\".format(mut_freq_sample.Ensembl_ID.isnull().sum(),\n",
    "                                                           mut_freq_sample.shape[0]))\n",
    "mut_freq_sample.dropna(inplace=True) # remove unmapped genes simply\n",
    "\n",
    "# make Ensembl ID the index and move Hugo Symbols to column\n",
    "mut_freq_sample['Name'] = mut_freq_sample.index\n",
    "mut_freq_sample.set_index('Ensembl_ID', inplace=True)"
   ]
  },
  {
   "cell_type": "code",
   "execution_count": 19,
   "metadata": {
    "collapsed": false,
    "deletable": true,
    "editable": true
   },
   "outputs": [
    {
     "data": {
      "text/plain": [
       "127077.0"
      ]
     },
     "execution_count": 19,
     "metadata": {},
     "output_type": "execute_result"
    }
   ],
   "source": [
    "mut_freq_sample.drop('Name', axis=1).sum().sum()"
   ]
  },
  {
   "cell_type": "markdown",
   "metadata": {
    "deletable": true,
    "editable": true
   },
   "source": [
    "## Mean Across Cancer Types"
   ]
  },
  {
   "cell_type": "code",
   "execution_count": 20,
   "metadata": {
    "collapsed": false,
    "deletable": true,
    "editable": true
   },
   "outputs": [],
   "source": [
    "samples_to_cancer_types = pd.read_csv('../data/pancancer/TCGA/pancan12_tumor_ids.tsv', sep='\\t', header=None,\n",
    "                                     names=['sample', 'cancer_type'])\n",
    "samples_to_cancer_types['sample'] = samples_to_cancer_types['sample'].map(trim_fun)\n",
    "samples_to_cancer_types.set_index('sample', inplace=True)"
   ]
  },
  {
   "cell_type": "code",
   "execution_count": null,
   "metadata": {
    "collapsed": false,
    "deletable": true,
    "editable": true
   },
   "outputs": [],
   "source": []
  },
  {
   "cell_type": "code",
   "execution_count": 21,
   "metadata": {
    "collapsed": false,
    "deletable": true,
    "editable": true
   },
   "outputs": [
    {
     "name": "stdout",
     "output_type": "stream",
     "text": [
      "127077.0\n",
      "597.5677529963008\n"
     ]
    }
   ],
   "source": [
    "no_names = mut_freq_sample.drop('Name', axis=1)\n",
    "matrix_with_cancer_types = no_names.T.join(samples_to_cancer_types)\n",
    "print (matrix_with_cancer_types.drop('cancer_type', axis=1).sum().sum())\n",
    "mean_mut_freqs = matrix_with_cancer_types.groupby('cancer_type').mean().T\n",
    "print (mean_mut_freqs.sum().sum())\n",
    "if USE_PRECOMPILED_MAF:\n",
    "    mean_mut_freqs.to_csv('../data/pancancer/TCGA/mean_mut_freqs_cancer_types_syn.tsv', sep='\\t')\n",
    "else:\n",
    "    mean_mut_freqs.to_csv('../data/pancancer/TCGA/mean_mut_freqs_cancer_types_own.tsv', sep='\\t')"
   ]
  },
  {
   "cell_type": "code",
   "execution_count": 22,
   "metadata": {
    "collapsed": false,
    "deletable": true,
    "editable": true
   },
   "outputs": [
    {
     "data": {
      "text/plain": [
       "<matplotlib.text.Text at 0x7f50b09b31d0>"
      ]
     },
     "execution_count": 22,
     "metadata": {},
     "output_type": "execute_result"
    },
    {
     "data": {
      "image/png": "[encoded data removed]",
      "text/plain": [
       "<matplotlib.figure.Figure at 0x7f50b0d926d8>"
      ]
     },
     "metadata": {},
     "output_type": "display_data"
    }
   ],
   "source": [
    "ax = mean_mut_freqs.plot.box(figsize=(14, 8), ylim=[-.01, .06], fontsize=13)\n",
    "ax.set_ylabel('Mean Frequency Across Samples', fontsize=20)\n",
    "ax.set_title('Mutation Frequencies Across Cancer Types', fontsize=20)"
   ]
  },
  {
   "cell_type": "code",
   "execution_count": 23,
   "metadata": {
    "collapsed": false,
    "deletable": true,
    "editable": true,
    "scrolled": true
   },
   "outputs": [
    {
     "data": {
      "text/html": [
       "<div>\n",
       "<table border=\"1\" class=\"dataframe\">\n",
       "  <thead>\n",
       "    <tr style=\"text-align: right;\">\n",
       "      <th>cancer_type</th>\n",
       "      <th>blca</th>\n",
       "      <th>brca</th>\n",
       "      <th>coadread</th>\n",
       "      <th>gbm</th>\n",
       "      <th>hnsc</th>\n",
       "      <th>kirc</th>\n",
       "      <th>laml</th>\n",
       "      <th>luad</th>\n",
       "      <th>lusc</th>\n",
       "      <th>ov</th>\n",
       "      <th>ucec</th>\n",
       "    </tr>\n",
       "  </thead>\n",
       "  <tbody>\n",
       "    <tr>\n",
       "      <th>ENSG00000121410</th>\n",
       "      <td>0.014493</td>\n",
       "      <td>0.002635</td>\n",
       "      <td>0.000000</td>\n",
       "      <td>0.003448</td>\n",
       "      <td>0.010490</td>\n",
       "      <td>0.0025</td>\n",
       "      <td>0.0</td>\n",
       "      <td>0.000000</td>\n",
       "      <td>0.008475</td>\n",
       "      <td>0.000000</td>\n",
       "      <td>0.000000</td>\n",
       "    </tr>\n",
       "    <tr>\n",
       "      <th>ENSG00000175899</th>\n",
       "      <td>0.043478</td>\n",
       "      <td>0.009223</td>\n",
       "      <td>0.012270</td>\n",
       "      <td>0.010345</td>\n",
       "      <td>0.003497</td>\n",
       "      <td>0.0075</td>\n",
       "      <td>0.0</td>\n",
       "      <td>0.044444</td>\n",
       "      <td>0.059322</td>\n",
       "      <td>0.003215</td>\n",
       "      <td>0.010204</td>\n",
       "    </tr>\n",
       "    <tr>\n",
       "      <th>ENSG00000128274</th>\n",
       "      <td>0.000000</td>\n",
       "      <td>0.001318</td>\n",
       "      <td>0.006135</td>\n",
       "      <td>0.000000</td>\n",
       "      <td>0.000000</td>\n",
       "      <td>0.0000</td>\n",
       "      <td>0.0</td>\n",
       "      <td>0.000000</td>\n",
       "      <td>0.000000</td>\n",
       "      <td>0.000000</td>\n",
       "      <td>0.000000</td>\n",
       "    </tr>\n",
       "    <tr>\n",
       "      <th>ENSG00000094914</th>\n",
       "      <td>0.000000</td>\n",
       "      <td>0.002635</td>\n",
       "      <td>0.000000</td>\n",
       "      <td>0.000000</td>\n",
       "      <td>0.017483</td>\n",
       "      <td>0.0000</td>\n",
       "      <td>0.0</td>\n",
       "      <td>0.000000</td>\n",
       "      <td>0.008475</td>\n",
       "      <td>0.003215</td>\n",
       "      <td>0.005102</td>\n",
       "    </tr>\n",
       "    <tr>\n",
       "      <th>ENSG00000081760</th>\n",
       "      <td>0.000000</td>\n",
       "      <td>0.002635</td>\n",
       "      <td>0.000000</td>\n",
       "      <td>0.006897</td>\n",
       "      <td>0.003497</td>\n",
       "      <td>0.0000</td>\n",
       "      <td>0.0</td>\n",
       "      <td>0.005556</td>\n",
       "      <td>0.008475</td>\n",
       "      <td>0.006431</td>\n",
       "      <td>0.005102</td>\n",
       "    </tr>\n",
       "  </tbody>\n",
       "</table>\n",
       "</div>"
      ],
      "text/plain": [
       "cancer_type          blca      brca  coadread       gbm      hnsc    kirc  \\\n",
       "ENSG00000121410  0.014493  0.002635  0.000000  0.003448  0.010490  0.0025   \n",
       "ENSG00000175899  0.043478  0.009223  0.012270  0.010345  0.003497  0.0075   \n",
       "ENSG00000128274  0.000000  0.001318  0.006135  0.000000  0.000000  0.0000   \n",
       "ENSG00000094914  0.000000  0.002635  0.000000  0.000000  0.017483  0.0000   \n",
       "ENSG00000081760  0.000000  0.002635  0.000000  0.006897  0.003497  0.0000   \n",
       "\n",
       "cancer_type      laml      luad      lusc        ov      ucec  \n",
       "ENSG00000121410   0.0  0.000000  0.008475  0.000000  0.000000  \n",
       "ENSG00000175899   0.0  0.044444  0.059322  0.003215  0.010204  \n",
       "ENSG00000128274   0.0  0.000000  0.000000  0.000000  0.000000  \n",
       "ENSG00000094914   0.0  0.000000  0.008475  0.003215  0.005102  \n",
       "ENSG00000081760   0.0  0.005556  0.008475  0.006431  0.005102  "
      ]
     },
     "execution_count": 23,
     "metadata": {},
     "output_type": "execute_result"
    }
   ],
   "source": [
    "mean_mut_freqs.head()"
   ]
  },
  {
   "cell_type": "markdown",
   "metadata": {
    "deletable": true,
    "editable": true
   },
   "source": [
    "## Put Feature Matrices into HDF5 Container"
   ]
  },
  {
   "cell_type": "code",
   "execution_count": 24,
   "metadata": {
    "collapsed": true,
    "deletable": true,
    "editable": true
   },
   "outputs": [],
   "source": [
    "# load Container\n",
    "data_file = '../data/pancancer/hotnet_iref_vec_input_unbalanced.h5'\n",
    "\n",
    "with h5py.File(data_file, 'r') as f:\n",
    "    network = f['network'][:]\n",
    "    features = f['features'][:]\n",
    "    node_names = f['gene_names'][:]\n",
    "    y_train = f['y_train'][:]\n",
    "    y_test = f['y_test'][:]\n",
    "    if 'y_val' in f:\n",
    "        y_val = f['y_val'][:]\n",
    "    else:\n",
    "        y_val = None\n",
    "    train_mask = f['mask_train'][:]\n",
    "    test_mask = f['mask_test'][:]\n",
    "    if 'mask_val' in f:\n",
    "        val_mask = f['mask_val'][:]\n",
    "    else:\n",
    "        val_mask = None"
   ]
  },
  {
   "cell_type": "code",
   "execution_count": 35,
   "metadata": {
    "collapsed": false
   },
   "outputs": [
    {
     "data": {
      "text/plain": [
       "((8303, 2960), (8311, 2960))"
      ]
     },
     "execution_count": 35,
     "metadata": {},
     "output_type": "execute_result"
    }
   ],
   "source": [
    "mut_freq_sample[mut_freq_sample.Name.isin(nodes_df.name)].shape, mut_freq_sample[mut_freq_sample.index.isin(nodes_df.index)].shape"
   ]
  },
  {
   "cell_type": "code",
   "execution_count": 32,
   "metadata": {
    "collapsed": false,
    "deletable": true,
    "editable": true
   },
   "outputs": [
    {
     "name": "stdout",
     "output_type": "stream",
     "text": [
      "(8311, 2960) (8311, 11)\n",
      "(8303, 2960) (8303, 11)\n",
      "3823 out of 12129 nodes don't have any features assigned\n",
      "--> left with valid scores for 8306 genes\n"
     ]
    }
   ],
   "source": [
    "# first, bring node names to DF\n",
    "nodes_df = pd.DataFrame(node_names, columns=['ensembl_id', 'name'])\n",
    "nodes_df.set_index('ensembl_id', inplace=True)\n",
    "\n",
    "# clean mutation frequencies from genes which are not in network\n",
    "mutfreq_in_network = mut_freq_sample[mut_freq_sample.index.isin(nodes_df.index)]\n",
    "mean_mutfreq_in_network = mean_mut_freqs[mean_mut_freqs.index.isin(nodes_df.index)]\n",
    "print (mutfreq_in_network.shape, mean_mutfreq_in_network.shape)\n",
    "\n",
    "# remove duplicates in index\n",
    "mutfreq_in_network = mutfreq_in_network[~mutfreq_in_network.index.duplicated(keep='first')]\n",
    "mean_mutfreq_in_network = mean_mutfreq_in_network[~mean_mutfreq_in_network.index.duplicated(keep='first')]\n",
    "print (mutfreq_in_network.shape, mean_mutfreq_in_network.shape)\n",
    "\n",
    "# build feature matrix using reindexing\n",
    "features_df = mutfreq_in_network.reindex(index=nodes_df.index)\n",
    "features_df_mean = mean_mutfreq_in_network.reindex(index=nodes_df.index)\n",
    "\n",
    "num_of_zero_nodes = features_df.isnull().any(axis=1).sum()\n",
    "print (\"{} out of {} nodes don't have any features assigned\".format(num_of_zero_nodes, network.shape[0]))\n",
    "print (\"--> left with valid scores for {} genes\".format(network.shape[0]-num_of_zero_nodes))\n",
    "\n",
    "# put 0 for missing data and remove name columns\n",
    "features_df.fillna(0, inplace=True)\n",
    "features_df.drop('Name', axis=1, inplace=True)\n",
    "features_df_mean.fillna(0, inplace=True)"
   ]
  },
  {
   "cell_type": "code",
   "execution_count": 26,
   "metadata": {
    "collapsed": false,
    "deletable": true,
    "editable": true
   },
   "outputs": [
    {
     "data": {
      "text/plain": [
       "<matplotlib.text.Text at 0x7f50ae41a2e8>"
      ]
     },
     "execution_count": 26,
     "metadata": {},
     "output_type": "execute_result"
    },
    {
     "data": {
      "image/png": "[encoded data removed]",
      "text/plain": [
       "<matplotlib.figure.Figure at 0x7f50aef359e8>"
      ]
     },
     "metadata": {},
     "output_type": "display_data"
    }
   ],
   "source": [
    "ax = features_df.sum(axis=1).plot('hist', bins=np.linspace(0, 200, 200), figsize=(14, 8))\n",
    "ax.set_ylabel('Number of Genes', fontsize=15)\n",
    "ax.set_title('Distribution of both Mutation Frequencies', fontsize=20)\n",
    "ax.set_xlabel('Mutation Frequency', fontsize=15)"
   ]
  },
  {
   "cell_type": "code",
   "execution_count": 36,
   "metadata": {
    "collapsed": false,
    "deletable": true,
    "editable": true
   },
   "outputs": [
    {
     "name": "stdout",
     "output_type": "stream",
     "text": [
      "Container written to ../data/cancer/mutfreq_iref_unbalanced_syn.h5\n"
     ]
    }
   ],
   "source": [
    "features = features_df.as_matrix()\n",
    "features_mean = features_df_mean.as_matrix()\n",
    "\n",
    "string_dt = h5py.special_dtype(vlen=str)\n",
    "\n",
    "# determine file name by parameters\n",
    "if USE_PRECOMPILED_MAF:\n",
    "    fname = '../data/pancancer/mutfreq_iref_unbalanced_syn.h5'\n",
    "else:\n",
    "    fname = '../data/pancancer/mutfreq_iref_unbalanced_own.h5'\n",
    "f = h5py.File(fname, 'w')\n",
    "\n",
    "# add ppi network\n",
    "f.create_dataset('network', data=network, shape=network.shape)\n",
    "\n",
    "# add features\n",
    "f.create_dataset('features', data=features, shape=features.shape)\n",
    "f.create_dataset('features_mean', data=features_mean, shape=features_mean.shape)\n",
    "\n",
    "# add gene names (same order as features & network)\n",
    "f.create_dataset('gene_names', data=node_names, dtype=string_dt)\n",
    "# add labels\n",
    "f.create_dataset('y_train', data=y_train, shape=y_train.shape)\n",
    "f.create_dataset('y_test', data=y_test, shape=y_test.shape)\n",
    "if y_val is not None:\n",
    "    f.create_dataset('y_val', data=y_val, shape=y_val.shape)\n",
    "\n",
    "f.create_dataset('mask_train', data=train_mask, shape=train_mask.shape)\n",
    "f.create_dataset('mask_test', data=test_mask, shape=test_mask.shape)\n",
    "if y_val is not None:\n",
    "    f.create_dataset('mask_val', data=val_mask, shape=val_mask.shape)\n",
    "f.close()\n",
    "print (\"Container written to {}\".format(fname))"
   ]
  },
  {
   "cell_type": "code",
   "execution_count": null,
   "metadata": {
    "collapsed": false,
    "deletable": true,
    "editable": true
   },
   "outputs": [],
   "source": []
  },
  {
   "cell_type": "code",
   "execution_count": 27,
   "metadata": {
    "collapsed": false,
    "deletable": true,
    "editable": true
   },
   "outputs": [
    {
     "ename": "NameError",
     "evalue": "name 'features_mean' is not defined",
     "output_type": "error",
     "traceback": [
      "\u001b[0;31m---------------------------------------------------------------------------\u001b[0m",
      "\u001b[0;31mNameError\u001b[0m                                 Traceback (most recent call last)",
      "\u001b[0;32m<ipython-input-27-5aab7bfde8db>\u001b[0m in \u001b[0;36m<module>\u001b[0;34m()\u001b[0m\n\u001b[0;32m----> 1\u001b[0;31m \u001b[0mfeatures\u001b[0m\u001b[0;34m.\u001b[0m\u001b[0mdtype\u001b[0m\u001b[0;34m,\u001b[0m \u001b[0mfeatures_mean\u001b[0m\u001b[0;34m.\u001b[0m\u001b[0mdtype\u001b[0m\u001b[0;34m\u001b[0m\u001b[0m\n\u001b[0m",
      "\u001b[0;31mNameError\u001b[0m: name 'features_mean' is not defined"
     ]
    }
   ],
   "source": []
  },
  {
   "cell_type": "code",
   "execution_count": null,
   "metadata": {
    "collapsed": true,
    "deletable": true,
    "editable": true
   },
   "outputs": [],
   "source": []
  }
 ],
 "metadata": {
  "kernelspec": {
   "display_name": "Python 3",
   "language": "python",
   "name": "python3"
  },
  "language_info": {
   "codemirror_mode": {
    "name": "ipython",
    "version": 3
   },
   "file_extension": ".py",
   "mimetype": "text/x-python",
   "name": "python",
   "nbconvert_exporter": "python",
   "pygments_lexer": "ipython3",
   "version": "3.6.1"
  }
 },
 "nbformat": 4,
 "nbformat_minor": 2
}
