{
 "cells": [
  {
   "cell_type": "markdown",
   "metadata": {
    "deletable": true,
    "editable": true
   },
   "source": [
    "# Preprocessing of Mutation Frequencies\n",
    "This notebook is devoted to the preprocessing of TCGA mutation frequencies. I will derive a matrix, containing the mutation frequencies per samples (columns) and genes (rows).\n",
    "This matrix will later be the feature matrix used by another notebook to form a hdf5 container."
   ]
  },
  {
   "cell_type": "code",
   "execution_count": 1,
   "metadata": {
    "collapsed": false,
    "deletable": true,
    "editable": true
   },
   "outputs": [
    {
     "name": "stderr",
     "output_type": "stream",
     "text": [
      "/home/sasse/.local/lib/python3.6/site-packages/matplotlib/__init__.py:886: MatplotlibDeprecationWarning: \n",
      "examples.directory is deprecated; in the future, examples will be found relative to the 'datapath' directory.\n",
      "  \"found relative to the 'datapath' directory.\".format(key))\n",
      "/home/sasse/.local/lib/python3.6/site-packages/h5py/__init__.py:34: FutureWarning: Conversion of the second argument of issubdtype from `float` to `np.floating` is deprecated. In future, it will be treated as `np.float64 == np.dtype(float).type`.\n",
      "  from ._conv import register_converters as _register_converters\n"
     ]
    }
   ],
   "source": [
    "import pandas as pd\n",
    "import numpy as np\n",
    "import matplotlib.pyplot as plt\n",
    "import seaborn as sns\n",
    "import mygene\n",
    "import h5py\n",
    "import os, sys\n",
    "from sklearn.manifold import TSNE\n",
    "%matplotlib inline"
   ]
  },
  {
   "cell_type": "markdown",
   "metadata": {
    "deletable": true,
    "editable": true
   },
   "source": [
    "## Parameters\n",
    "* `ULTRA_MUTATED_SAMPLES_THRESHOLD`: This value tells us how many mutations (CNAs + SNVs) a sample is allowed to have before we remove it. The reason behind this filtering step is that there are some samples with accumulated mutations that do not neccessarily contribute\n",
    "* `USE_CNAS`: Use CNA information or only SNVs\n",
    "* `NORMALIZE_FOR_GENE_LENGTH`: Whether dividing SNV frequencies by the length of the gene or not"
   ]
  },
  {
   "cell_type": "code",
   "execution_count": null,
   "metadata": {
    "collapsed": true,
    "deletable": true,
    "editable": true
   },
   "outputs": [],
   "source": [
    "ULTRA_MUTATED_SAMPLES_THRESHOLD = 1000\n",
    "USE_CNAS = False\n",
    "NORMALIZE_FOR_GENE_LENGTH = True"
   ]
  },
  {
   "cell_type": "markdown",
   "metadata": {
    "deletable": true,
    "editable": true
   },
   "source": [
    "## Preprocessing SNVs\n",
    "I downloaded one MAF file from TCGA. Those files have to be pre-processed, roughly following the data processing from HotNet2.\n",
    "I decided to do the following steps:\n",
    "1. Loading the MAF as `DataFrame`\n",
    "2. Removing non-silent mutations (_step 2.ii in calling from HotNet2 preprocessing_)\n",
    "3. Removing ultra-mutators (_step 1.i in filtering from HotNet2 preprocessing._)\n",
    "4. Compute $Gene \\times Sample$ matrix $S_c$ for each cancer type $c$\n",
    "5. Normalize for the gene length using the [GENCODE basic annotation](ftp://ftp.ebi.ac.uk/pub/databases/gencode/Gencode_human/release_29/gencode.v29.basic.annotation.gff3.gz)"
   ]
  },
  {
   "cell_type": "code",
   "execution_count": 6,
   "metadata": {},
   "outputs": [],
   "source": [
    "trim_fun = lambda x: '-'.join(str(x).split('-')[:4]) # TCGA barcode including sample\n",
    "\n",
    "def get_gene_sample_matrix(path, ultra_mutators, gene_lengths=None):\n",
    "    maf = pd.read_csv(path, compression='gzip', sep='\\t', comment='#', header=0, low_memory=)\n",
    "    non_silent = maf[maf.Variant_Classification != 'Silent'] # remove silent mutations\n",
    "    print (\"Removed {} (of {}) mutations because they are silent\".format(maf.shape[0]-non_silent.shape[0],\n",
    "                                                                         maf.shape[0]))\n",
    "    non_silent.Tumor_Sample_Barcode = non_silent.Tumor_Sample_Barcode.map(trim_fun)\n",
    "\n",
    "    # remove ultra-mutators\n",
    "    ultra_mutators = pd.read_csv(ultra_mutators, header=None, names=['Tumor_IDs'])\n",
    "    ultra_mutators.Tumor_IDs = ultra_mutators.Tumor_IDs.map(trim_fun)\n",
    "    maf_no_ultra = non_silent[~non_silent.Tumor_Sample_Barcode.isin(ultra_mutators.Tumor_IDs)]\n",
    "    print (\"Left with {} SNVs after removing {} mutations in hyper-mutated samples\".format(maf_no_ultra.shape[0], non_silent.shape[0]-maf_no_ultra.shape[0]))\n",
    "    \n",
    "    # compute gene x sample matrix\n",
    "    gene_barcode_mat = maf_no_ultra.groupby(['Hugo_Symbol', 'Tumor_Sample_Barcode']).size().reset_index().rename(columns={0:'count'})\n",
    "    assert ((gene_barcode_mat.pivot(index='Hugo_Symbol',\n",
    "                                    columns='Tumor_Sample_Barcode',\n",
    "                                    values='count'\n",
    "                                   ).sum() == maf_no_ultra.groupby('Tumor_Sample_Barcode').count().Hugo_Symbol).all())\n",
    "    assert ((gene_barcode_mat.pivot(index='Hugo_Symbol',\n",
    "                                    columns='Tumor_Sample_Barcode',\n",
    "                                    values='count'\n",
    "                                   ).sum(axis=1) == maf_no_ultra.groupby('Hugo_Symbol').count().Tumor_Sample_Barcode).all())\n",
    "    gene_sample_matrix = gene_barcode_mat.pivot(index='Hugo_Symbol', columns='Tumor_Sample_Barcode', values='count').replace(np.NaN, 0)\n",
    "    \n",
    "    # lastly, normalize for gene length if requested\n",
    "    if not gene_lengths is None:\n",
    "        gene_sample_matrix_length = gene_sample_matrix.join(gene_lengths).fillna(1) # join with length (to enforce same order)\n",
    "        gene_sample_matrix_normalized = gene_sample_matrix_length.divide(gene_sample_matrix_length.length.values, axis=0) # normalize\n",
    "        assert ((gene_sample_matrix_normalized.length == 1).all()) # assert that length is now 1 (divided by itself)\n",
    "        gene_sample_matrix_normalized.drop('length', axis=1, inplace=True) # remove the length\n",
    "        return gene_sample_matrix_normalized\n",
    "    else:\n",
    "        return gene_sample_matrix"
   ]
  },
  {
   "cell_type": "code",
   "execution_count": 4,
   "metadata": {},
   "outputs": [
    {
     "data": {
      "text/html": [
       "<div>\n",
       "<table border=\"1\" class=\"dataframe\">\n",
       "  <thead>\n",
       "    <tr style=\"text-align: right;\">\n",
       "      <th></th>\n",
       "      <th>length</th>\n",
       "    </tr>\n",
       "    <tr>\n",
       "      <th>Hugo_Symbol</th>\n",
       "      <th></th>\n",
       "    </tr>\n",
       "  </thead>\n",
       "  <tbody>\n",
       "    <tr>\n",
       "      <th>DDX11L1</th>\n",
       "      <td>2540</td>\n",
       "    </tr>\n",
       "    <tr>\n",
       "      <th>WASH7P</th>\n",
       "      <td>15166</td>\n",
       "    </tr>\n",
       "    <tr>\n",
       "      <th>MIR6859-1</th>\n",
       "      <td>67</td>\n",
       "    </tr>\n",
       "    <tr>\n",
       "      <th>RP11-34P13.3</th>\n",
       "      <td>1555</td>\n",
       "    </tr>\n",
       "    <tr>\n",
       "      <th>MIR1302-2</th>\n",
       "      <td>137</td>\n",
       "    </tr>\n",
       "  </tbody>\n",
       "</table>\n",
       "</div>"
      ],
      "text/plain": [
       "              length\n",
       "Hugo_Symbol         \n",
       "DDX11L1         2540\n",
       "WASH7P         15166\n",
       "MIR6859-1         67\n",
       "RP11-34P13.3    1555\n",
       "MIR1302-2        137"
      ]
     },
     "execution_count": 4,
     "metadata": {},
     "output_type": "execute_result"
    }
   ],
   "source": [
    "if NORMALIZE_FOR_GENE_LENGTH:\n",
    "    annotation_gencode = pd.read_csv('../../data/pancancer/gencode/gencode.v28.basic.annotation.gff3',\n",
    "                                     comment='#', sep='\\t', skiprows=7,header=None,\n",
    "                                     names=['chr', 'source', 'type', 'start', 'end', 'score', 'strand', 'phase', 'attr']\n",
    "                                    )\n",
    "    annotation_gencode = annotation_gencode[annotation_gencode.type == 'gene']\n",
    "    annotation_gencode['length'] = np.abs(annotation_gencode.end - annotation_gencode.start)\n",
    "    def get_hugo_symbol(row):\n",
    "        s = row.attr\n",
    "        for elem in s.split(';'):\n",
    "            if elem.startswith('gene_name'):\n",
    "                return elem.split('=')[1].strip()\n",
    "        return None\n",
    "    annotation_gencode['Hugo_Symbol'] = annotation_gencode.apply(get_hugo_symbol, axis=1)\n",
    "    gene_lengths = annotation_gencode[['Hugo_Symbol', 'length']].drop_duplicates(subset='Hugo_Symbol').set_index('Hugo_Symbol')\n",
    "    gene_lengths.head()\n",
    "else:\n",
    "    gene_lengths = None"
   ]
  },
  {
   "cell_type": "code",
   "execution_count": 7,
   "metadata": {},
   "outputs": [
    {
     "name": "stderr",
     "output_type": "stream",
     "text": [
      "/pkg/python-3.6.0-0/lib/python3.6/site-packages/IPython/core/interactiveshell.py:2821: DtypeWarning: Columns (87,98,118) have mixed types. Specify dtype option on import or set low_memory=False.\n",
      "  if self.run_code(code, result):\n"
     ]
    },
    {
     "name": "stdout",
     "output_type": "stream",
     "text": [
      "Removed 11029 (of 64804) mutations because they are silent\n",
      "Left with 50113 SNVs after removing 3662 mutations in hyper-mutated samples\n"
     ]
    },
    {
     "name": "stderr",
     "output_type": "stream",
     "text": [
      "/pkg/python-3.6.0-0/lib/python3.6/site-packages/pandas/core/generic.py:2773: SettingWithCopyWarning: \n",
      "A value is trying to be set on a copy of a slice from a DataFrame.\n",
      "Try using .loc[row_indexer,col_indexer] = value instead\n",
      "\n",
      "See the caveats in the documentation: http://pandas.pydata.org/pandas-docs/stable/indexing.html#indexing-view-versus-copy\n",
      "  self[name] = value\n"
     ]
    },
    {
     "name": "stdout",
     "output_type": "stream",
     "text": [
      "Processed READ with 135 samples\n"
     ]
    },
    {
     "name": "stderr",
     "output_type": "stream",
     "text": [
      "/pkg/python-3.6.0-0/lib/python3.6/site-packages/IPython/core/interactiveshell.py:2821: DtypeWarning: Columns (87,88,98,118) have mixed types. Specify dtype option on import or set low_memory=False.\n",
      "  if self.run_code(code, result):\n"
     ]
    },
    {
     "name": "stdout",
     "output_type": "stream",
     "text": [
      "Removed 44644 (of 213144) mutations because they are silent\n",
      "Left with 168500 SNVs after removing 0 mutations in hyper-mutated samples\n",
      "Processed STAD with 437 samples\n"
     ]
    },
    {
     "name": "stderr",
     "output_type": "stream",
     "text": [
      "/pkg/python-3.6.0-0/lib/python3.6/site-packages/IPython/core/interactiveshell.py:2821: DtypeWarning: Columns (87,88,118) have mixed types. Specify dtype option on import or set low_memory=False.\n",
      "  if self.run_code(code, result):\n"
     ]
    },
    {
     "name": "stdout",
     "output_type": "stream",
     "text": [
      "Removed 41350 (of 208180) mutations because they are silent\n",
      "Left with 164350 SNVs after removing 2480 mutations in hyper-mutated samples\n",
      "Processed LUAD with 563 samples\n"
     ]
    },
    {
     "name": "stderr",
     "output_type": "stream",
     "text": [
      "/pkg/python-3.6.0-0/lib/python3.6/site-packages/IPython/core/interactiveshell.py:2821: DtypeWarning: Columns (19,20,28,87,88) have mixed types. Specify dtype option on import or set low_memory=False.\n",
      "  if self.run_code(code, result):\n"
     ]
    },
    {
     "name": "stdout",
     "output_type": "stream",
     "text": [
      "Removed 18759 (of 103405) mutations because they are silent\n",
      "Left with 84646 SNVs after removing 0 mutations in hyper-mutated samples\n",
      "Processed CESC with 289 samples\n"
     ]
    },
    {
     "name": "stderr",
     "output_type": "stream",
     "text": [
      "/pkg/python-3.6.0-0/lib/python3.6/site-packages/IPython/core/interactiveshell.py:2821: DtypeWarning: Columns (87) have mixed types. Specify dtype option on import or set low_memory=False.\n",
      "  if self.run_code(code, result):\n"
     ]
    },
    {
     "name": "stdout",
     "output_type": "stream",
     "text": [
      "Removed 7505 (of 45313) mutations because they are silent\n",
      "Left with 37808 SNVs after removing 0 mutations in hyper-mutated samples\n",
      "Processed ESCA with 184 samples\n",
      "Removed 150337 (of 886377) mutations because they are silent\n",
      "Left with 595030 SNVs after removing 141010 mutations in hyper-mutated samples\n",
      "Processed UCEC with 512 samples\n",
      "Removed 22391 (of 120988) mutations because they are silent\n",
      "Left with 95408 SNVs after removing 3189 mutations in hyper-mutated samples\n",
      "Processed BRCA with 977 samples\n"
     ]
    },
    {
     "name": "stderr",
     "output_type": "stream",
     "text": [
      "/pkg/python-3.6.0-0/lib/python3.6/site-packages/IPython/core/interactiveshell.py:2821: DtypeWarning: Columns (88,118) have mixed types. Specify dtype option on import or set low_memory=False.\n",
      "  if self.run_code(code, result):\n"
     ]
    },
    {
     "name": "stdout",
     "output_type": "stream",
     "text": [
      "Removed 10010 (of 54238) mutations because they are silent\n",
      "Left with 44228 SNVs after removing 0 mutations in hyper-mutated samples\n",
      "Processed LIHC with 364 samples\n",
      "Removed 4192 (of 23765) mutations because they are silent\n",
      "Left with 19573 SNVs after removing 0 mutations in hyper-mutated samples\n",
      "Processed KIRP with 281 samples\n",
      "Removed 50029 (of 264786) mutations because they are silent\n",
      "Left with 167053 SNVs after removing 47704 mutations in hyper-mutated samples\n",
      "Processed COAD with 381 samples\n",
      "Removed 37375 (of 181116) mutations because they are silent\n",
      "Left with 137321 SNVs after removing 6420 mutations in hyper-mutated samples\n",
      "Processed LUSC with 488 samples\n"
     ]
    },
    {
     "name": "stderr",
     "output_type": "stream",
     "text": [
      "/pkg/python-3.6.0-0/lib/python3.6/site-packages/IPython/core/interactiveshell.py:2821: DtypeWarning: Columns (87,118) have mixed types. Specify dtype option on import or set low_memory=False.\n",
      "  if self.run_code(code, result):\n"
     ]
    },
    {
     "name": "stdout",
     "output_type": "stream",
     "text": [
      "Removed 22272 (of 102309) mutations because they are silent\n",
      "Left with 75872 SNVs after removing 4165 mutations in hyper-mutated samples\n",
      "Processed HNSC with 504 samples\n"
     ]
    },
    {
     "name": "stderr",
     "output_type": "stream",
     "text": [
      "/pkg/python-3.6.0-0/lib/python3.6/site-packages/IPython/core/interactiveshell.py:2821: DtypeWarning: Columns (88,98) have mixed types. Specify dtype option on import or set low_memory=False.\n",
      "  if self.run_code(code, result):\n"
     ]
    },
    {
     "name": "stdout",
     "output_type": "stream",
     "text": [
      "Removed 1519 (of 10899) mutations because they are silent\n",
      "Left with 9380 SNVs after removing 0 mutations in hyper-mutated samples\n",
      "Processed THCA with 491 samples\n",
      "Removed 29267 (of 134513) mutations because they are silent\n",
      "Left with 103792 SNVs after removing 1454 mutations in hyper-mutated samples\n",
      "Processed BLCA with 411 samples\n",
      "Removed 4467 (of 26693) mutations because they are silent\n",
      "Left with 22226 SNVs after removing 0 mutations in hyper-mutated samples\n",
      "Processed KIRC with 336 samples\n",
      "Removed 6620 (of 29286) mutations because they are silent\n",
      "Left with 22666 SNVs after removing 0 mutations in hyper-mutated samples\n",
      "Processed PRAD with 495 samples\n"
     ]
    }
   ],
   "source": [
    "base_dir = '../../data/pancancer/TCGA/mutation/download_new/'\n",
    "ultra_mutator_file = '../../data/pancancer/TCGA/mutation/ultramutated_tumor_ids'\n",
    "all_matrices = []\n",
    "ctypes = []\n",
    "for dname in os.listdir(base_dir):\n",
    "    ctype_dir = os.path.join(base_dir, dname)\n",
    "    if os.path.isdir(ctype_dir):\n",
    "        for maffile in os.listdir(ctype_dir):\n",
    "            if maffile.endswith('.maf.gz'):\n",
    "                gene_sample_matrix = get_gene_sample_matrix(os.path.join(ctype_dir, maffile),\n",
    "                                                            ultra_mutators=ultra_mutator_file,\n",
    "                                                            gene_lengths=gene_lengths\n",
    "                                                           )\n",
    "                all_matrices.append(gene_sample_matrix)\n",
    "                ctype = maffile.split('.')[1]\n",
    "                print (\"Processed {} with {} samples\".format(ctype, gene_sample_matrix.shape[1]))\n",
    "                ctypes.append(ctype)"
   ]
  },
  {
   "cell_type": "code",
   "execution_count": 8,
   "metadata": {},
   "outputs": [
    {
     "name": "stdout",
     "output_type": "stream",
     "text": [
      "Samples with mutations per Cancer Type:\n",
      "READ: (15181, 135) Samples\n",
      "STAD: (18897, 437) Samples\n",
      "LUAD: (18540, 563) Samples\n",
      "CESC: (18445, 289) Samples\n",
      "ESCA: (14161, 184) Samples\n",
      "UCEC: (21117, 512) Samples\n",
      "BRCA: (18291, 977) Samples\n",
      "LIHC: (14984, 364) Samples\n",
      "KIRP: (10503, 281) Samples\n",
      "COAD: (19304, 381) Samples\n",
      "LUSC: (18316, 488) Samples\n",
      "HNSC: (16939, 504) Samples\n",
      "THCA: (5814, 491) Samples\n",
      "BLCA: (18066, 411) Samples\n",
      "KIRC: (10985, 336) Samples\n",
      "PRAD: (11114, 495) Samples\n"
     ]
    }
   ],
   "source": [
    "print (\"Samples with mutations per Cancer Type:\")\n",
    "for i in range(len(all_matrices)):\n",
    "    print (\"{}: {} Samples\".format(ctypes[i], all_matrices[i].shape))"
   ]
  },
  {
   "cell_type": "code",
   "execution_count": 9,
   "metadata": {},
   "outputs": [
    {
     "data": {
      "text/plain": [
       "(21668, 6848)"
      ]
     },
     "execution_count": 9,
     "metadata": {},
     "output_type": "execute_result"
    }
   ],
   "source": [
    "# get the big gene x sample matrix for all cancer types\n",
    "whole_gene_sample_matrix = all_matrices[0].join(all_matrices[1:], how='outer').fillna(0)\n",
    "np.save('../../data/pancancer/TCGA/mutation/gene_sample_snvs.npy', whole_gene_sample_matrix)\n",
    "whole_gene_sample_matrix.shape"
   ]
  },
  {
   "cell_type": "code",
   "execution_count": 10,
   "metadata": {},
   "outputs": [
    {
     "data": {
      "text/html": [
       "<div>\n",
       "<table border=\"1\" class=\"dataframe\">\n",
       "  <thead>\n",
       "    <tr style=\"text-align: right;\">\n",
       "      <th></th>\n",
       "      <th>READ</th>\n",
       "      <th>STAD</th>\n",
       "      <th>LUAD</th>\n",
       "      <th>CESC</th>\n",
       "      <th>ESCA</th>\n",
       "      <th>UCEC</th>\n",
       "      <th>BRCA</th>\n",
       "      <th>LIHC</th>\n",
       "      <th>KIRP</th>\n",
       "      <th>COAD</th>\n",
       "      <th>LUSC</th>\n",
       "      <th>HNSC</th>\n",
       "      <th>THCA</th>\n",
       "      <th>BLCA</th>\n",
       "      <th>KIRC</th>\n",
       "      <th>PRAD</th>\n",
       "    </tr>\n",
       "  </thead>\n",
       "  <tbody>\n",
       "    <tr>\n",
       "      <th>A1BG</th>\n",
       "      <td>1.780413e-06</td>\n",
       "      <td>2.200052e-06</td>\n",
       "      <td>1.921138e-06</td>\n",
       "      <td>1.247521e-06</td>\n",
       "      <td>0.000000e+00</td>\n",
       "      <td>6.572227e-06</td>\n",
       "      <td>3.690211e-07</td>\n",
       "      <td>9.904769e-07</td>\n",
       "      <td>4.276792e-07</td>\n",
       "      <td>3.469702e-06</td>\n",
       "      <td>1.231331e-06</td>\n",
       "      <td>1.907585e-06</td>\n",
       "      <td>0.000000e+00</td>\n",
       "      <td>2.339228e-06</td>\n",
       "      <td>3.576722e-07</td>\n",
       "      <td>2.427836e-07</td>\n",
       "    </tr>\n",
       "    <tr>\n",
       "      <th>A1CF</th>\n",
       "      <td>1.717341e-07</td>\n",
       "      <td>2.652644e-07</td>\n",
       "      <td>3.294367e-07</td>\n",
       "      <td>2.406654e-07</td>\n",
       "      <td>0.000000e+00</td>\n",
       "      <td>7.245033e-07</td>\n",
       "      <td>1.067845e-07</td>\n",
       "      <td>1.273852e-07</td>\n",
       "      <td>0.000000e+00</td>\n",
       "      <td>2.738280e-07</td>\n",
       "      <td>4.988383e-07</td>\n",
       "      <td>2.070009e-07</td>\n",
       "      <td>0.000000e+00</td>\n",
       "      <td>1.128180e-07</td>\n",
       "      <td>1.035005e-07</td>\n",
       "      <td>1.873463e-07</td>\n",
       "    </tr>\n",
       "    <tr>\n",
       "      <th>A2M</th>\n",
       "      <td>1.677782e-06</td>\n",
       "      <td>1.319329e-06</td>\n",
       "      <td>9.509147e-07</td>\n",
       "      <td>3.562450e-07</td>\n",
       "      <td>4.476296e-07</td>\n",
       "      <td>2.614087e-06</td>\n",
       "      <td>2.107570e-07</td>\n",
       "      <td>2.262743e-07</td>\n",
       "      <td>2.198323e-07</td>\n",
       "      <td>1.405157e-06</td>\n",
       "      <td>8.438918e-07</td>\n",
       "      <td>2.451305e-07</td>\n",
       "      <td>4.193678e-08</td>\n",
       "      <td>7.013953e-07</td>\n",
       "      <td>3.064131e-07</td>\n",
       "      <td>1.247937e-07</td>\n",
       "    </tr>\n",
       "    <tr>\n",
       "      <th>A2ML1</th>\n",
       "      <td>9.183353e-07</td>\n",
       "      <td>9.574749e-07</td>\n",
       "      <td>6.606142e-07</td>\n",
       "      <td>4.289802e-07</td>\n",
       "      <td>8.422233e-08</td>\n",
       "      <td>1.573905e-06</td>\n",
       "      <td>1.744790e-07</td>\n",
       "      <td>1.702957e-07</td>\n",
       "      <td>5.514914e-08</td>\n",
       "      <td>1.504949e-06</td>\n",
       "      <td>6.351192e-07</td>\n",
       "      <td>2.767305e-07</td>\n",
       "      <td>0.000000e+00</td>\n",
       "      <td>4.524645e-07</td>\n",
       "      <td>9.224350e-08</td>\n",
       "      <td>3.130689e-08</td>\n",
       "    </tr>\n",
       "    <tr>\n",
       "      <th>A3GALT2</th>\n",
       "      <td>0.000000e+00</td>\n",
       "      <td>7.983287e-07</td>\n",
       "      <td>1.239324e-07</td>\n",
       "      <td>4.828646e-07</td>\n",
       "      <td>3.792062e-07</td>\n",
       "      <td>1.362772e-07</td>\n",
       "      <td>0.000000e+00</td>\n",
       "      <td>0.000000e+00</td>\n",
       "      <td>0.000000e+00</td>\n",
       "      <td>9.156684e-07</td>\n",
       "      <td>1.429794e-07</td>\n",
       "      <td>0.000000e+00</td>\n",
       "      <td>0.000000e+00</td>\n",
       "      <td>1.697663e-07</td>\n",
       "      <td>0.000000e+00</td>\n",
       "      <td>0.000000e+00</td>\n",
       "    </tr>\n",
       "  </tbody>\n",
       "</table>\n",
       "</div>"
      ],
      "text/plain": [
       "                 READ          STAD          LUAD          CESC          ESCA  \\\n",
       "A1BG     1.780413e-06  2.200052e-06  1.921138e-06  1.247521e-06  0.000000e+00   \n",
       "A1CF     1.717341e-07  2.652644e-07  3.294367e-07  2.406654e-07  0.000000e+00   \n",
       "A2M      1.677782e-06  1.319329e-06  9.509147e-07  3.562450e-07  4.476296e-07   \n",
       "A2ML1    9.183353e-07  9.574749e-07  6.606142e-07  4.289802e-07  8.422233e-08   \n",
       "A3GALT2  0.000000e+00  7.983287e-07  1.239324e-07  4.828646e-07  3.792062e-07   \n",
       "\n",
       "                 UCEC          BRCA          LIHC          KIRP          COAD  \\\n",
       "A1BG     6.572227e-06  3.690211e-07  9.904769e-07  4.276792e-07  3.469702e-06   \n",
       "A1CF     7.245033e-07  1.067845e-07  1.273852e-07  0.000000e+00  2.738280e-07   \n",
       "A2M      2.614087e-06  2.107570e-07  2.262743e-07  2.198323e-07  1.405157e-06   \n",
       "A2ML1    1.573905e-06  1.744790e-07  1.702957e-07  5.514914e-08  1.504949e-06   \n",
       "A3GALT2  1.362772e-07  0.000000e+00  0.000000e+00  0.000000e+00  9.156684e-07   \n",
       "\n",
       "                 LUSC          HNSC          THCA          BLCA          KIRC  \\\n",
       "A1BG     1.231331e-06  1.907585e-06  0.000000e+00  2.339228e-06  3.576722e-07   \n",
       "A1CF     4.988383e-07  2.070009e-07  0.000000e+00  1.128180e-07  1.035005e-07   \n",
       "A2M      8.438918e-07  2.451305e-07  4.193678e-08  7.013953e-07  3.064131e-07   \n",
       "A2ML1    6.351192e-07  2.767305e-07  0.000000e+00  4.524645e-07  9.224350e-08   \n",
       "A3GALT2  1.429794e-07  0.000000e+00  0.000000e+00  1.697663e-07  0.000000e+00   \n",
       "\n",
       "                 PRAD  \n",
       "A1BG     2.427836e-07  \n",
       "A1CF     1.873463e-07  \n",
       "A2M      1.247937e-07  \n",
       "A2ML1    3.130689e-08  \n",
       "A3GALT2  0.000000e+00  "
      ]
     },
     "execution_count": 10,
     "metadata": {},
     "output_type": "execute_result"
    }
   ],
   "source": [
    "# get the mean matrices\n",
    "mean_mutations = []\n",
    "for df in all_matrices:\n",
    "    mean_mutations.append(df.mean(axis=1))\n",
    "mean_mutation_matrix = pd.DataFrame(mean_mutations, index=ctypes).T\n",
    "mean_mutation_matrix.fillna(0, inplace=True)\n",
    "mean_mutation_matrix.head()"
   ]
  },
  {
   "cell_type": "code",
   "execution_count": 11,
   "metadata": {},
   "outputs": [],
   "source": [
    "mean_mutation_matrix.to_csv('../../data/pancancer/TCGA/mutation/gene_ctype_snvs.tsv', sep='\\t')"
   ]
  },
  {
   "cell_type": "code",
   "execution_count": 12,
   "metadata": {},
   "outputs": [
    {
     "data": {
      "text/html": [
       "<div>\n",
       "<table border=\"1\" class=\"dataframe\">\n",
       "  <thead>\n",
       "    <tr style=\"text-align: right;\">\n",
       "      <th></th>\n",
       "      <th>TCGA-AF-2687-01A</th>\n",
       "      <th>TCGA-AF-2690-01A</th>\n",
       "      <th>TCGA-AF-2693-01A</th>\n",
       "      <th>TCGA-AF-3911-01A</th>\n",
       "      <th>TCGA-AF-3913-01A</th>\n",
       "      <th>TCGA-AF-3914-01A</th>\n",
       "      <th>TCGA-AF-4110-01A</th>\n",
       "      <th>TCGA-AF-5654-01A</th>\n",
       "      <th>TCGA-AF-6136-01A</th>\n",
       "      <th>TCGA-AF-6655-01A</th>\n",
       "      <th>...</th>\n",
       "      <th>TCGA-ZG-A9LN-01A</th>\n",
       "      <th>TCGA-ZG-A9LS-01A</th>\n",
       "      <th>TCGA-ZG-A9LU-01A</th>\n",
       "      <th>TCGA-ZG-A9LY-01A</th>\n",
       "      <th>TCGA-ZG-A9LZ-01A</th>\n",
       "      <th>TCGA-ZG-A9M4-01A</th>\n",
       "      <th>TCGA-ZG-A9MC-01A</th>\n",
       "      <th>TCGA-ZG-A9N3-01A</th>\n",
       "      <th>TCGA-ZG-A9ND-01A</th>\n",
       "      <th>TCGA-ZG-A9NI-01A</th>\n",
       "    </tr>\n",
       "  </thead>\n",
       "  <tbody>\n",
       "    <tr>\n",
       "      <th>A1BG</th>\n",
       "      <td>0.0</td>\n",
       "      <td>0.0</td>\n",
       "      <td>0.0</td>\n",
       "      <td>0.0</td>\n",
       "      <td>0.0</td>\n",
       "      <td>0.0</td>\n",
       "      <td>0.0</td>\n",
       "      <td>0.0</td>\n",
       "      <td>0.0</td>\n",
       "      <td>0.0</td>\n",
       "      <td>...</td>\n",
       "      <td>0.0</td>\n",
       "      <td>0.0</td>\n",
       "      <td>0.0</td>\n",
       "      <td>0.0</td>\n",
       "      <td>0.0</td>\n",
       "      <td>0.0</td>\n",
       "      <td>0.0</td>\n",
       "      <td>0.0</td>\n",
       "      <td>0.0</td>\n",
       "      <td>0.0</td>\n",
       "    </tr>\n",
       "    <tr>\n",
       "      <th>A1CF</th>\n",
       "      <td>0.0</td>\n",
       "      <td>0.0</td>\n",
       "      <td>0.0</td>\n",
       "      <td>0.0</td>\n",
       "      <td>0.0</td>\n",
       "      <td>0.0</td>\n",
       "      <td>0.0</td>\n",
       "      <td>0.0</td>\n",
       "      <td>0.0</td>\n",
       "      <td>0.0</td>\n",
       "      <td>...</td>\n",
       "      <td>0.0</td>\n",
       "      <td>0.0</td>\n",
       "      <td>0.0</td>\n",
       "      <td>0.0</td>\n",
       "      <td>0.0</td>\n",
       "      <td>0.0</td>\n",
       "      <td>0.0</td>\n",
       "      <td>0.0</td>\n",
       "      <td>0.0</td>\n",
       "      <td>0.0</td>\n",
       "    </tr>\n",
       "    <tr>\n",
       "      <th>A2M</th>\n",
       "      <td>0.0</td>\n",
       "      <td>0.0</td>\n",
       "      <td>0.0</td>\n",
       "      <td>0.0</td>\n",
       "      <td>0.0</td>\n",
       "      <td>0.0</td>\n",
       "      <td>0.0</td>\n",
       "      <td>0.0</td>\n",
       "      <td>0.0</td>\n",
       "      <td>0.0</td>\n",
       "      <td>...</td>\n",
       "      <td>0.0</td>\n",
       "      <td>0.0</td>\n",
       "      <td>0.0</td>\n",
       "      <td>0.0</td>\n",
       "      <td>0.0</td>\n",
       "      <td>0.0</td>\n",
       "      <td>0.0</td>\n",
       "      <td>0.0</td>\n",
       "      <td>0.0</td>\n",
       "      <td>0.0</td>\n",
       "    </tr>\n",
       "    <tr>\n",
       "      <th>A2ML1</th>\n",
       "      <td>0.0</td>\n",
       "      <td>0.0</td>\n",
       "      <td>0.0</td>\n",
       "      <td>0.0</td>\n",
       "      <td>0.0</td>\n",
       "      <td>0.0</td>\n",
       "      <td>0.0</td>\n",
       "      <td>0.0</td>\n",
       "      <td>0.0</td>\n",
       "      <td>0.0</td>\n",
       "      <td>...</td>\n",
       "      <td>0.0</td>\n",
       "      <td>0.0</td>\n",
       "      <td>0.0</td>\n",
       "      <td>0.0</td>\n",
       "      <td>0.0</td>\n",
       "      <td>0.0</td>\n",
       "      <td>0.0</td>\n",
       "      <td>0.0</td>\n",
       "      <td>0.0</td>\n",
       "      <td>0.0</td>\n",
       "    </tr>\n",
       "    <tr>\n",
       "      <th>A3GALT2</th>\n",
       "      <td>0.0</td>\n",
       "      <td>0.0</td>\n",
       "      <td>0.0</td>\n",
       "      <td>0.0</td>\n",
       "      <td>0.0</td>\n",
       "      <td>0.0</td>\n",
       "      <td>0.0</td>\n",
       "      <td>0.0</td>\n",
       "      <td>0.0</td>\n",
       "      <td>0.0</td>\n",
       "      <td>...</td>\n",
       "      <td>0.0</td>\n",
       "      <td>0.0</td>\n",
       "      <td>0.0</td>\n",
       "      <td>0.0</td>\n",
       "      <td>0.0</td>\n",
       "      <td>0.0</td>\n",
       "      <td>0.0</td>\n",
       "      <td>0.0</td>\n",
       "      <td>0.0</td>\n",
       "      <td>0.0</td>\n",
       "    </tr>\n",
       "  </tbody>\n",
       "</table>\n",
       "<p>5 rows × 6848 columns</p>\n",
       "</div>"
      ],
      "text/plain": [
       "         TCGA-AF-2687-01A  TCGA-AF-2690-01A  TCGA-AF-2693-01A  \\\n",
       "A1BG                  0.0               0.0               0.0   \n",
       "A1CF                  0.0               0.0               0.0   \n",
       "A2M                   0.0               0.0               0.0   \n",
       "A2ML1                 0.0               0.0               0.0   \n",
       "A3GALT2               0.0               0.0               0.0   \n",
       "\n",
       "         TCGA-AF-3911-01A  TCGA-AF-3913-01A  TCGA-AF-3914-01A  \\\n",
       "A1BG                  0.0               0.0               0.0   \n",
       "A1CF                  0.0               0.0               0.0   \n",
       "A2M                   0.0               0.0               0.0   \n",
       "A2ML1                 0.0               0.0               0.0   \n",
       "A3GALT2               0.0               0.0               0.0   \n",
       "\n",
       "         TCGA-AF-4110-01A  TCGA-AF-5654-01A  TCGA-AF-6136-01A  \\\n",
       "A1BG                  0.0               0.0               0.0   \n",
       "A1CF                  0.0               0.0               0.0   \n",
       "A2M                   0.0               0.0               0.0   \n",
       "A2ML1                 0.0               0.0               0.0   \n",
       "A3GALT2               0.0               0.0               0.0   \n",
       "\n",
       "         TCGA-AF-6655-01A        ...         TCGA-ZG-A9LN-01A  \\\n",
       "A1BG                  0.0        ...                      0.0   \n",
       "A1CF                  0.0        ...                      0.0   \n",
       "A2M                   0.0        ...                      0.0   \n",
       "A2ML1                 0.0        ...                      0.0   \n",
       "A3GALT2               0.0        ...                      0.0   \n",
       "\n",
       "         TCGA-ZG-A9LS-01A  TCGA-ZG-A9LU-01A  TCGA-ZG-A9LY-01A  \\\n",
       "A1BG                  0.0               0.0               0.0   \n",
       "A1CF                  0.0               0.0               0.0   \n",
       "A2M                   0.0               0.0               0.0   \n",
       "A2ML1                 0.0               0.0               0.0   \n",
       "A3GALT2               0.0               0.0               0.0   \n",
       "\n",
       "         TCGA-ZG-A9LZ-01A  TCGA-ZG-A9M4-01A  TCGA-ZG-A9MC-01A  \\\n",
       "A1BG                  0.0               0.0               0.0   \n",
       "A1CF                  0.0               0.0               0.0   \n",
       "A2M                   0.0               0.0               0.0   \n",
       "A2ML1                 0.0               0.0               0.0   \n",
       "A3GALT2               0.0               0.0               0.0   \n",
       "\n",
       "         TCGA-ZG-A9N3-01A  TCGA-ZG-A9ND-01A  TCGA-ZG-A9NI-01A  \n",
       "A1BG                  0.0               0.0               0.0  \n",
       "A1CF                  0.0               0.0               0.0  \n",
       "A2M                   0.0               0.0               0.0  \n",
       "A2ML1                 0.0               0.0               0.0  \n",
       "A3GALT2               0.0               0.0               0.0  \n",
       "\n",
       "[5 rows x 6848 columns]"
      ]
     },
     "execution_count": 12,
     "metadata": {},
     "output_type": "execute_result"
    }
   ],
   "source": [
    "whole_gene_sample_matrix.columns = whole_gene_sample_matrix.columns.map(trim_fun)\n",
    "whole_gene_sample_matrix.head()"
   ]
  },
  {
   "cell_type": "markdown",
   "metadata": {},
   "source": [
    "## Preprocessing CNAs\n",
    "This section loads the CNA mean matrix computed by `preprocess_cnas.ipynb` and incorporates that additional information into our model.\n",
    "The CNAs are also preprocessed a little. This involves the following steps:\n",
    "1. Load the CNA files\n",
    "2. Remove ultra-mutated samples"
   ]
  },
  {
   "cell_type": "code",
   "execution_count": 13,
   "metadata": {
    "collapsed": false,
    "deletable": true,
    "editable": true
   },
   "outputs": [
    {
     "data": {
      "text/html": [
       "<div>\n",
       "<table border=\"1\" class=\"dataframe\">\n",
       "  <thead>\n",
       "    <tr style=\"text-align: right;\">\n",
       "      <th></th>\n",
       "      <th>TCGA-05-4244-01A</th>\n",
       "      <th>TCGA-05-4249-01A</th>\n",
       "      <th>TCGA-05-4250-01A</th>\n",
       "      <th>TCGA-05-4382-01A</th>\n",
       "      <th>TCGA-05-4384-01A</th>\n",
       "      <th>TCGA-05-4389-01A</th>\n",
       "      <th>TCGA-05-4390-01A</th>\n",
       "      <th>TCGA-05-4395-01A</th>\n",
       "      <th>TCGA-05-4396-01A</th>\n",
       "      <th>TCGA-05-4397-01A</th>\n",
       "      <th>...</th>\n",
       "      <th>TCGA-ZP-A9D1-01A</th>\n",
       "      <th>TCGA-ZP-A9D2-01A</th>\n",
       "      <th>TCGA-ZP-A9D4-01A</th>\n",
       "      <th>TCGA-ZQ-A9CR-01A</th>\n",
       "      <th>TCGA-ZR-A9CJ-01B</th>\n",
       "      <th>TCGA-ZS-A9CD-01A</th>\n",
       "      <th>TCGA-ZS-A9CE-01A</th>\n",
       "      <th>TCGA-ZS-A9CF-01A</th>\n",
       "      <th>TCGA-ZS-A9CG-01A</th>\n",
       "      <th>TCGA-ZX-AA5X-01A</th>\n",
       "    </tr>\n",
       "    <tr>\n",
       "      <th>Name</th>\n",
       "      <th></th>\n",
       "      <th></th>\n",
       "      <th></th>\n",
       "      <th></th>\n",
       "      <th></th>\n",
       "      <th></th>\n",
       "      <th></th>\n",
       "      <th></th>\n",
       "      <th></th>\n",
       "      <th></th>\n",
       "      <th></th>\n",
       "      <th></th>\n",
       "      <th></th>\n",
       "      <th></th>\n",
       "      <th></th>\n",
       "      <th></th>\n",
       "      <th></th>\n",
       "      <th></th>\n",
       "      <th></th>\n",
       "      <th></th>\n",
       "      <th></th>\n",
       "    </tr>\n",
       "  </thead>\n",
       "  <tbody>\n",
       "    <tr>\n",
       "      <th>7SK</th>\n",
       "      <td>0</td>\n",
       "      <td>0</td>\n",
       "      <td>0</td>\n",
       "      <td>0</td>\n",
       "      <td>0</td>\n",
       "      <td>0</td>\n",
       "      <td>0</td>\n",
       "      <td>0</td>\n",
       "      <td>0</td>\n",
       "      <td>0</td>\n",
       "      <td>...</td>\n",
       "      <td>0</td>\n",
       "      <td>0</td>\n",
       "      <td>0</td>\n",
       "      <td>0</td>\n",
       "      <td>0</td>\n",
       "      <td>0</td>\n",
       "      <td>0</td>\n",
       "      <td>0</td>\n",
       "      <td>0</td>\n",
       "      <td>0</td>\n",
       "    </tr>\n",
       "    <tr>\n",
       "      <th>A1BG</th>\n",
       "      <td>0</td>\n",
       "      <td>0</td>\n",
       "      <td>0</td>\n",
       "      <td>0</td>\n",
       "      <td>0</td>\n",
       "      <td>0</td>\n",
       "      <td>0</td>\n",
       "      <td>0</td>\n",
       "      <td>0</td>\n",
       "      <td>0</td>\n",
       "      <td>...</td>\n",
       "      <td>0</td>\n",
       "      <td>0</td>\n",
       "      <td>0</td>\n",
       "      <td>0</td>\n",
       "      <td>0</td>\n",
       "      <td>0</td>\n",
       "      <td>0</td>\n",
       "      <td>0</td>\n",
       "      <td>0</td>\n",
       "      <td>0</td>\n",
       "    </tr>\n",
       "    <tr>\n",
       "      <th>A1CF</th>\n",
       "      <td>0</td>\n",
       "      <td>0</td>\n",
       "      <td>0</td>\n",
       "      <td>0</td>\n",
       "      <td>0</td>\n",
       "      <td>0</td>\n",
       "      <td>0</td>\n",
       "      <td>0</td>\n",
       "      <td>0</td>\n",
       "      <td>0</td>\n",
       "      <td>...</td>\n",
       "      <td>0</td>\n",
       "      <td>0</td>\n",
       "      <td>0</td>\n",
       "      <td>0</td>\n",
       "      <td>0</td>\n",
       "      <td>0</td>\n",
       "      <td>0</td>\n",
       "      <td>0</td>\n",
       "      <td>0</td>\n",
       "      <td>0</td>\n",
       "    </tr>\n",
       "    <tr>\n",
       "      <th>A2M</th>\n",
       "      <td>0</td>\n",
       "      <td>0</td>\n",
       "      <td>0</td>\n",
       "      <td>0</td>\n",
       "      <td>0</td>\n",
       "      <td>0</td>\n",
       "      <td>0</td>\n",
       "      <td>0</td>\n",
       "      <td>0</td>\n",
       "      <td>0</td>\n",
       "      <td>...</td>\n",
       "      <td>0</td>\n",
       "      <td>0</td>\n",
       "      <td>0</td>\n",
       "      <td>0</td>\n",
       "      <td>0</td>\n",
       "      <td>0</td>\n",
       "      <td>0</td>\n",
       "      <td>0</td>\n",
       "      <td>0</td>\n",
       "      <td>0</td>\n",
       "    </tr>\n",
       "    <tr>\n",
       "      <th>A2ML1</th>\n",
       "      <td>0</td>\n",
       "      <td>0</td>\n",
       "      <td>0</td>\n",
       "      <td>0</td>\n",
       "      <td>0</td>\n",
       "      <td>0</td>\n",
       "      <td>0</td>\n",
       "      <td>0</td>\n",
       "      <td>0</td>\n",
       "      <td>0</td>\n",
       "      <td>...</td>\n",
       "      <td>0</td>\n",
       "      <td>0</td>\n",
       "      <td>0</td>\n",
       "      <td>0</td>\n",
       "      <td>0</td>\n",
       "      <td>0</td>\n",
       "      <td>0</td>\n",
       "      <td>0</td>\n",
       "      <td>0</td>\n",
       "      <td>0</td>\n",
       "    </tr>\n",
       "  </tbody>\n",
       "</table>\n",
       "<p>5 rows × 7279 columns</p>\n",
       "</div>"
      ],
      "text/plain": [
       "       TCGA-05-4244-01A  TCGA-05-4249-01A  TCGA-05-4250-01A  TCGA-05-4382-01A  \\\n",
       "Name                                                                            \n",
       "7SK                   0                 0                 0                 0   \n",
       "A1BG                  0                 0                 0                 0   \n",
       "A1CF                  0                 0                 0                 0   \n",
       "A2M                   0                 0                 0                 0   \n",
       "A2ML1                 0                 0                 0                 0   \n",
       "\n",
       "       TCGA-05-4384-01A  TCGA-05-4389-01A  TCGA-05-4390-01A  TCGA-05-4395-01A  \\\n",
       "Name                                                                            \n",
       "7SK                   0                 0                 0                 0   \n",
       "A1BG                  0                 0                 0                 0   \n",
       "A1CF                  0                 0                 0                 0   \n",
       "A2M                   0                 0                 0                 0   \n",
       "A2ML1                 0                 0                 0                 0   \n",
       "\n",
       "       TCGA-05-4396-01A  TCGA-05-4397-01A        ...         TCGA-ZP-A9D1-01A  \\\n",
       "Name                                             ...                            \n",
       "7SK                   0                 0        ...                        0   \n",
       "A1BG                  0                 0        ...                        0   \n",
       "A1CF                  0                 0        ...                        0   \n",
       "A2M                   0                 0        ...                        0   \n",
       "A2ML1                 0                 0        ...                        0   \n",
       "\n",
       "       TCGA-ZP-A9D2-01A  TCGA-ZP-A9D4-01A  TCGA-ZQ-A9CR-01A  TCGA-ZR-A9CJ-01B  \\\n",
       "Name                                                                            \n",
       "7SK                   0                 0                 0                 0   \n",
       "A1BG                  0                 0                 0                 0   \n",
       "A1CF                  0                 0                 0                 0   \n",
       "A2M                   0                 0                 0                 0   \n",
       "A2ML1                 0                 0                 0                 0   \n",
       "\n",
       "       TCGA-ZS-A9CD-01A  TCGA-ZS-A9CE-01A  TCGA-ZS-A9CF-01A  TCGA-ZS-A9CG-01A  \\\n",
       "Name                                                                            \n",
       "7SK                   0                 0                 0                 0   \n",
       "A1BG                  0                 0                 0                 0   \n",
       "A1CF                  0                 0                 0                 0   \n",
       "A2M                   0                 0                 0                 0   \n",
       "A2ML1                 0                 0                 0                 0   \n",
       "\n",
       "       TCGA-ZX-AA5X-01A  \n",
       "Name                     \n",
       "7SK                   0  \n",
       "A1BG                  0  \n",
       "A1CF                  0  \n",
       "A2M                   0  \n",
       "A2ML1                 0  \n",
       "\n",
       "[5 rows x 7279 columns]"
      ]
     },
     "execution_count": 13,
     "metadata": {},
     "output_type": "execute_result"
    }
   ],
   "source": [
    "# load CNAs\n",
    "cna_sample_matrix = pd.read_csv('../../data/pancancer/TCGA/mutation/firehose_cnas_sample_20160128.tsv')\n",
    "cna_sample_matrix.rename(columns={'Unnamed: 0':'Name'}, inplace=True)\n",
    "cna_sample_matrix.set_index('Name', inplace=True)\n",
    "cna_sample_matrix.columns = cna_sample_matrix.columns.map(trim_fun)\n",
    "\n",
    "cna_mean_matrix = pd.read_csv('../../data/pancancer/TCGA/mutation/firehose_cnas_meancancertypes_20160128.tsv', sep='\\t')\n",
    "cna_mean_matrix.rename(columns={'Unnamed: 0':'Name'}, inplace=True)\n",
    "cna_mean_matrix.set_index('Name', inplace=True)\n",
    "\n",
    "cna_sample_matrix.head()"
   ]
  },
  {
   "cell_type": "code",
   "execution_count": 14,
   "metadata": {
    "collapsed": false,
    "deletable": true,
    "editable": true,
    "scrolled": false
   },
   "outputs": [
    {
     "name": "stdout",
     "output_type": "stream",
     "text": [
      "Found 6848 samples in MAF files\n",
      "Found 7279 samples in CNA file\n",
      "Found 6709 samples in both, CNA and MAF\n"
     ]
    }
   ],
   "source": [
    "print (\"Found {} samples in MAF files\".format(whole_gene_sample_matrix.shape[1]))\n",
    "print (\"Found {} samples in CNA file\".format(cna_sample_matrix.shape[1]))\n",
    "samples_in_both = whole_gene_sample_matrix.columns.isin(cna_sample_matrix.columns).sum()\n",
    "print (\"Found {} samples in both, CNA and MAF\".format(samples_in_both))"
   ]
  },
  {
   "cell_type": "code",
   "execution_count": 15,
   "metadata": {},
   "outputs": [
    {
     "name": "stdout",
     "output_type": "stream",
     "text": [
      "Removed 68 CNA samples that belong to ultra-mutated samples\n"
     ]
    }
   ],
   "source": [
    "# remove CNAs for ultra-mutated samples\n",
    "ultra_mutators = pd.read_csv('../../data/pancancer/TCGA/mutation/ultramutated_tumor_ids', header=None, names=['Tumor_IDs'])\n",
    "ultra_mutators.Tumor_IDs = ultra_mutators.Tumor_IDs.map(trim_fun)\n",
    "cna_sample_matrix_no_ultra = cna_sample_matrix.loc[:, ~cna_sample_matrix.columns.isin(ultra_mutators.Tumor_IDs)]\n",
    "print (\"Removed {} CNA samples that belong to ultra-mutated samples\".format(cna_sample_matrix.shape[1] - cna_sample_matrix_no_ultra.shape[1]))"
   ]
  },
  {
   "cell_type": "markdown",
   "metadata": {
    "deletable": true,
    "editable": true
   },
   "source": [
    "## Preprocess both together\n",
    "As next step, let's **remove samples that have a very high number of mutations when adding CNAs and SNVs** and afterwords **remove all samples that only have CNAs but no SNVs.**"
   ]
  },
  {
   "cell_type": "code",
   "execution_count": 16,
   "metadata": {
    "collapsed": false,
    "deletable": true,
    "editable": true
   },
   "outputs": [
    {
     "name": "stdout",
     "output_type": "stream",
     "text": [
      "Removing 4 samples because they have more than 1000 CNAs + SNVs\n",
      "--> 7207 samples with CNAs left\n",
      "--> 6844 samples with SNVs left\n"
     ]
    }
   ],
   "source": [
    "snvs_per_sample = whole_gene_sample_matrix.sum(axis=0)\n",
    "mut_counts = cna_sample_matrix_no_ultra.sum(axis=0) + snvs_per_sample\n",
    "mut_counts.fillna(0, inplace=True)\n",
    "mut_counts = pd.DataFrame(mut_counts, columns=['num_mutations'])\n",
    "mut_counts = mut_counts.groupby(mut_counts.index).sum() # sum duplicate samples\n",
    "samples_with_many_mutations = mut_counts[mut_counts.num_mutations > ULTRA_MUTATED_SAMPLES_THRESHOLD]\n",
    "print (\"Removing {} samples because they have more than {} CNAs + SNVs\".format(samples_with_many_mutations.shape[0], ULTRA_MUTATED_SAMPLES_THRESHOLD))\n",
    "\n",
    "cna_sample_matrix_filtered = cna_sample_matrix_no_ultra.loc[:, ~cna_sample_matrix_no_ultra.columns.isin(samples_with_many_mutations.index)]\n",
    "print (\"--> {} samples with CNAs left\".format(cna_sample_matrix_filtered.shape[1]))\n",
    "snv_gene_sample_matrix = whole_gene_sample_matrix.loc[:,~whole_gene_sample_matrix.columns.isin(samples_with_many_mutations.index)]\n",
    "print (\"--> {} samples with SNVs left\".format(snv_gene_sample_matrix.shape[1]))"
   ]
  },
  {
   "cell_type": "code",
   "execution_count": 17,
   "metadata": {
    "collapsed": false,
    "deletable": true,
    "editable": true
   },
   "outputs": [
    {
     "name": "stdout",
     "output_type": "stream",
     "text": [
      "Removed 502 samples with CNAs because they had no SNVs\n",
      "--> 6705 CNA samples left\n"
     ]
    }
   ],
   "source": [
    "# remove CNAs that have no SNVs\n",
    "final_cna_matrix = cna_sample_matrix_filtered.loc[:, cna_sample_matrix_filtered.columns.isin(snv_gene_sample_matrix.columns)]\n",
    "print (\"Removed {} samples with CNAs because they had no SNVs\".format(cna_sample_matrix_filtered.shape[1] - final_cna_matrix.shape[1]))\n",
    "print (\"--> {} CNA samples left\".format(final_cna_matrix.shape[1]))"
   ]
  },
  {
   "cell_type": "code",
   "execution_count": 18,
   "metadata": {
    "collapsed": false,
    "scrolled": false
   },
   "outputs": [
    {
     "data": {
      "text/plain": [
       "((25826, 6844), 17788)"
      ]
     },
     "execution_count": 18,
     "metadata": {},
     "output_type": "execute_result"
    }
   ],
   "source": [
    "# put the two matrices together by appending them, replacing NAs with 0 and then summing the genes present in both, CNA and SNV\n",
    "# I have to make sure that the columns of both matrices are in the same order. Do that by indexing\n",
    "cna_mat_reindexed = final_cna_matrix.reindex(columns=snv_gene_sample_matrix.columns).dropna(axis=1)\n",
    "assert ((snv_gene_sample_matrix.loc[:, snv_gene_sample_matrix.columns.isin(final_cna_matrix.columns)].columns == cna_mat_reindexed.columns).all())\n",
    "cna_snv_sample_mat = snv_gene_sample_matrix.append(cna_mat_reindexed)\n",
    "cna_snv_sample_mat.fillna(0, inplace=True)\n",
    "cna_snv_sample_mat = cna_snv_sample_mat.groupby(cna_snv_sample_mat.index).sum()\n",
    "cna_snv_sample_mat.shape, snv_gene_sample_matrix.index.isin(final_cna_matrix.index).sum()"
   ]
  },
  {
   "cell_type": "markdown",
   "metadata": {
    "deletable": true,
    "editable": true
   },
   "source": [
    "## Plot distributions\n",
    "We now have obtained two gene-sample matrices $S_{SNV} \\in \\mathbb{R}^{N \\times M_1}$ and $S_{CNA} \\in \\mathbb{R}^{N \\times M_2}$, containing mutation frequencies for genes $N$ per sample ($M_1$ for SNVs and $M_2$ for CNAs).\n",
    "\n",
    "Next, I want to plot some distributions and add the two together."
   ]
  },
  {
   "cell_type": "code",
   "execution_count": 19,
   "metadata": {
    "collapsed": false
   },
   "outputs": [
    {
     "data": {
      "text/plain": [
       "Text(0.5, 0, 'Mutation Frequency')"
      ]
     },
     "execution_count": 19,
     "metadata": {},
     "output_type": "execute_result"
    },
    {
     "data": {
      "image/png": "[encoded data removed]",
      "text/plain": [
       "<Figure size 1008x576 with 1 Axes>"
      ]
     },
     "metadata": {},
     "output_type": "display_data"
    }
   ],
   "source": [
    "ax = final_cna_matrix.sum(axis=1).plot('hist', bins=np.linspace(0, 100, 100), figsize=(14, 8))\n",
    "ax.set_ylabel('Number of Genes', fontsize=15)\n",
    "ax.set_title('Distribution of CNA Mutation Frequencies', fontsize=20)\n",
    "ax.set_xlabel('Mutation Frequency', fontsize=15)"
   ]
  },
  {
   "cell_type": "code",
   "execution_count": 20,
   "metadata": {
    "collapsed": false,
    "deletable": true,
    "editable": true
   },
   "outputs": [
    {
     "data": {
      "text/plain": [
       "Text(0.5, 0, 'Number of Mutations')"
      ]
     },
     "execution_count": 20,
     "metadata": {},
     "output_type": "execute_result"
    },
    {
     "data": {
      "image/png": "[encoded data removed]",
      "text/plain": [
       "<Figure size 1008x576 with 1 Axes>"
      ]
     },
     "metadata": {},
     "output_type": "display_data"
    }
   ],
   "source": [
    "ax = snv_gene_sample_matrix.sum(axis=1).plot('hist', bins=np.linspace(0, 200, 200), figsize=(14, 8))\n",
    "ax.set_ylabel('Number of Genes', fontsize=15)\n",
    "ax.set_title('Distribution of SNV Mutation Frequencies', fontsize=20)\n",
    "ax.set_xlabel('Number of Mutations', fontsize=15)"
   ]
  },
  {
   "cell_type": "code",
   "execution_count": 21,
   "metadata": {
    "collapsed": false
   },
   "outputs": [
    {
     "name": "stdout",
     "output_type": "stream",
     "text": [
      "Number of genes in joint matrix: 25826\n"
     ]
    },
    {
     "data": {
      "image/png": "[encoded data removed]",
      "text/plain": [
       "<Figure size 1008x576 with 1 Axes>"
      ]
     },
     "metadata": {},
     "output_type": "display_data"
    }
   ],
   "source": [
    "ax = cna_snv_sample_mat.sum(axis=1).plot('hist', bins=np.linspace(0, 200, 200), figsize=(14, 8))\n",
    "ax.set_ylabel('Number of Genes', fontsize=15)\n",
    "ax.set_title('Distribution of both Mutation Frequencies', fontsize=20)\n",
    "ax.set_xlabel('Mutation Frequency', fontsize=15)\n",
    "print (\"Number of genes in joint matrix: {}\".format(cna_snv_sample_mat.shape[0]))"
   ]
  },
  {
   "cell_type": "code",
   "execution_count": 22,
   "metadata": {
    "collapsed": false,
    "deletable": true,
    "editable": true
   },
   "outputs": [],
   "source": [
    "if USE_CNAS:\n",
    "    final_matrix = cna_snv_sample_mat\n",
    "else:\n",
    "    final_matrix = snv_gene_sample_matrix"
   ]
  },
  {
   "cell_type": "markdown",
   "metadata": {
    "deletable": true,
    "editable": true
   },
   "source": [
    "## Convert Gene Names to Ensembl IDs\n",
    "I finally have one big gene $\\times$ sample matrix. I next want to get ensembl IDs for each of the genes to be able to compare with nodes in the networks afterwards."
   ]
  },
  {
   "cell_type": "code",
   "execution_count": 23,
   "metadata": {
    "collapsed": false,
    "deletable": true,
    "editable": true
   },
   "outputs": [
    {
     "name": "stdout",
     "output_type": "stream",
     "text": [
      "querying 1-1000...done.\n",
      "querying 1001-2000...done.\n",
      "querying 2001-3000...done.\n",
      "querying 3001-4000...done.\n",
      "querying 4001-5000...done.\n",
      "querying 5001-6000...done.\n",
      "querying 6001-7000...done.\n",
      "querying 7001-8000...done.\n",
      "querying 8001-9000...done.\n",
      "querying 9001-10000...done.\n",
      "querying 10001-11000...done.\n",
      "querying 11001-12000...done.\n",
      "querying 12001-13000...done.\n",
      "querying 13001-14000...done.\n",
      "querying 14001-15000...done.\n",
      "querying 15001-16000...done.\n",
      "querying 16001-17000...done.\n",
      "querying 17001-18000...done.\n",
      "querying 18001-19000...done.\n",
      "querying 19001-20000...done.\n",
      "querying 20001-21000...done.\n",
      "querying 21001-21668...done.\n",
      "Finished.\n",
      "875 input query terms found dup hits:\n",
      "\t[('AADACL2-AS1', 3), ('ABCC6P1', 2), ('ABHD17AP6', 2), ('ACE3P', 2), ('ACTR3BP2', 2), ('ADAM5', 2), \n",
      "1538 input query terms found no hit:\n",
      "\t['AAED1', 'AATK-AS1', 'AC000036.4', 'AC002519.6', 'AC003002.6', 'AC003958.2', 'AC004076.7', 'AC00407\n",
      "1574 (of 21668) genes had no mapping Ensembl ID\n"
     ]
    }
   ],
   "source": [
    "# use mygene to get ensembl IDs from Hugo Symbols\n",
    "mg = mygene.MyGeneInfo()\n",
    "res = mg.querymany(final_matrix.index,\n",
    "                   scopes='symbol',\n",
    "                   fields='ensembl.gene, symbol',\n",
    "                   species='human', returnall=True\n",
    "                  )\n",
    "\n",
    "# now, retrieve the names and IDs from a dictionary and put in DF\n",
    "def get_name_and_id(x):\n",
    "    ens_id = x['ensembl'][0]['gene'] if type(x['ensembl']) is list else x['ensembl']['gene']\n",
    "    name = x['symbol']\n",
    "    query = x['query']\n",
    "    if not name == query:\n",
    "        print (\"Error: \", name, query)\n",
    "    return [ens_id, name]\n",
    "\n",
    "ens_ids = [get_name_and_id(x) for x in res['out'] if 'ensembl' in x]\n",
    "mapping = pd.DataFrame(ens_ids, columns=['Ensembl_ID', 'Name'])\n",
    "mapping.set_index('Name', inplace=True)\n",
    "mapping = mapping[~mapping.index.duplicated(keep='first')]\n",
    "\n",
    "# join mutation frequencies with our derived mapping\n",
    "mut_freq_sample = final_matrix.join(mapping)\n",
    "print (\"{} (of {}) genes had no mapping Ensembl ID\".format(mut_freq_sample.Ensembl_ID.isnull().sum(),\n",
    "                                                           mut_freq_sample.shape[0]))\n",
    "mut_freq_sample.dropna(inplace=True) # remove unmapped genes simply\n",
    "\n",
    "# make Ensembl ID the index and move Hugo Symbols to column\n",
    "mut_freq_sample['Name'] = mut_freq_sample.index\n",
    "mut_freq_sample.set_index('Ensembl_ID', inplace=True)"
   ]
  },
  {
   "cell_type": "code",
   "execution_count": 24,
   "metadata": {
    "collapsed": false,
    "deletable": true,
    "editable": true
   },
   "outputs": [
    {
     "data": {
      "text/plain": [
       "19704.451662543826"
      ]
     },
     "execution_count": 24,
     "metadata": {},
     "output_type": "execute_result"
    }
   ],
   "source": [
    "mut_freq_sample.drop('Name', axis=1).sum().sum()"
   ]
  },
  {
   "cell_type": "markdown",
   "metadata": {
    "deletable": true,
    "editable": true
   },
   "source": [
    "## Mean across cancer types & write to file\n",
    "Finally, I want to compute the mean mutation frequency per cancer type and write the resulting $Gene \\times Ctype$ matrix to a _csv_ file."
   ]
  },
  {
   "cell_type": "code",
   "execution_count": 25,
   "metadata": {},
   "outputs": [
    {
     "data": {
      "text/html": [
       "<div>\n",
       "<table border=\"1\" class=\"dataframe\">\n",
       "  <thead>\n",
       "    <tr style=\"text-align: right;\">\n",
       "      <th></th>\n",
       "      <th>TCGA-AF-2687</th>\n",
       "      <th>TCGA-AF-2690</th>\n",
       "      <th>TCGA-AF-2693</th>\n",
       "      <th>TCGA-AF-3911</th>\n",
       "      <th>TCGA-AF-3913</th>\n",
       "      <th>TCGA-AF-3914</th>\n",
       "      <th>TCGA-AF-4110</th>\n",
       "      <th>TCGA-AF-5654</th>\n",
       "      <th>TCGA-AF-6136</th>\n",
       "      <th>TCGA-AF-6655</th>\n",
       "      <th>...</th>\n",
       "      <th>TCGA-ZG-A9LS</th>\n",
       "      <th>TCGA-ZG-A9LU</th>\n",
       "      <th>TCGA-ZG-A9LY</th>\n",
       "      <th>TCGA-ZG-A9LZ</th>\n",
       "      <th>TCGA-ZG-A9M4</th>\n",
       "      <th>TCGA-ZG-A9MC</th>\n",
       "      <th>TCGA-ZG-A9N3</th>\n",
       "      <th>TCGA-ZG-A9ND</th>\n",
       "      <th>TCGA-ZG-A9NI</th>\n",
       "      <th>Name</th>\n",
       "    </tr>\n",
       "    <tr>\n",
       "      <th>Ensembl_ID</th>\n",
       "      <th></th>\n",
       "      <th></th>\n",
       "      <th></th>\n",
       "      <th></th>\n",
       "      <th></th>\n",
       "      <th></th>\n",
       "      <th></th>\n",
       "      <th></th>\n",
       "      <th></th>\n",
       "      <th></th>\n",
       "      <th></th>\n",
       "      <th></th>\n",
       "      <th></th>\n",
       "      <th></th>\n",
       "      <th></th>\n",
       "      <th></th>\n",
       "      <th></th>\n",
       "      <th></th>\n",
       "      <th></th>\n",
       "      <th></th>\n",
       "      <th></th>\n",
       "    </tr>\n",
       "  </thead>\n",
       "  <tbody>\n",
       "    <tr>\n",
       "      <th>ENSG00000121410</th>\n",
       "      <td>0.0</td>\n",
       "      <td>0.0</td>\n",
       "      <td>0.0</td>\n",
       "      <td>0.0</td>\n",
       "      <td>0.0</td>\n",
       "      <td>0.0</td>\n",
       "      <td>0.0</td>\n",
       "      <td>0.0</td>\n",
       "      <td>0.0</td>\n",
       "      <td>0.0</td>\n",
       "      <td>...</td>\n",
       "      <td>0.0</td>\n",
       "      <td>0.0</td>\n",
       "      <td>0.0</td>\n",
       "      <td>0.0</td>\n",
       "      <td>0.0</td>\n",
       "      <td>0.0</td>\n",
       "      <td>0.0</td>\n",
       "      <td>0.0</td>\n",
       "      <td>0.0</td>\n",
       "      <td>A1BG</td>\n",
       "    </tr>\n",
       "    <tr>\n",
       "      <th>ENSG00000148584</th>\n",
       "      <td>0.0</td>\n",
       "      <td>0.0</td>\n",
       "      <td>0.0</td>\n",
       "      <td>0.0</td>\n",
       "      <td>0.0</td>\n",
       "      <td>0.0</td>\n",
       "      <td>0.0</td>\n",
       "      <td>0.0</td>\n",
       "      <td>0.0</td>\n",
       "      <td>0.0</td>\n",
       "      <td>...</td>\n",
       "      <td>0.0</td>\n",
       "      <td>0.0</td>\n",
       "      <td>0.0</td>\n",
       "      <td>0.0</td>\n",
       "      <td>0.0</td>\n",
       "      <td>0.0</td>\n",
       "      <td>0.0</td>\n",
       "      <td>0.0</td>\n",
       "      <td>0.0</td>\n",
       "      <td>A1CF</td>\n",
       "    </tr>\n",
       "    <tr>\n",
       "      <th>ENSG00000175899</th>\n",
       "      <td>0.0</td>\n",
       "      <td>0.0</td>\n",
       "      <td>0.0</td>\n",
       "      <td>0.0</td>\n",
       "      <td>0.0</td>\n",
       "      <td>0.0</td>\n",
       "      <td>0.0</td>\n",
       "      <td>0.0</td>\n",
       "      <td>0.0</td>\n",
       "      <td>0.0</td>\n",
       "      <td>...</td>\n",
       "      <td>0.0</td>\n",
       "      <td>0.0</td>\n",
       "      <td>0.0</td>\n",
       "      <td>0.0</td>\n",
       "      <td>0.0</td>\n",
       "      <td>0.0</td>\n",
       "      <td>0.0</td>\n",
       "      <td>0.0</td>\n",
       "      <td>0.0</td>\n",
       "      <td>A2M</td>\n",
       "    </tr>\n",
       "    <tr>\n",
       "      <th>ENSG00000166535</th>\n",
       "      <td>0.0</td>\n",
       "      <td>0.0</td>\n",
       "      <td>0.0</td>\n",
       "      <td>0.0</td>\n",
       "      <td>0.0</td>\n",
       "      <td>0.0</td>\n",
       "      <td>0.0</td>\n",
       "      <td>0.0</td>\n",
       "      <td>0.0</td>\n",
       "      <td>0.0</td>\n",
       "      <td>...</td>\n",
       "      <td>0.0</td>\n",
       "      <td>0.0</td>\n",
       "      <td>0.0</td>\n",
       "      <td>0.0</td>\n",
       "      <td>0.0</td>\n",
       "      <td>0.0</td>\n",
       "      <td>0.0</td>\n",
       "      <td>0.0</td>\n",
       "      <td>0.0</td>\n",
       "      <td>A2ML1</td>\n",
       "    </tr>\n",
       "    <tr>\n",
       "      <th>ENSG00000184389</th>\n",
       "      <td>0.0</td>\n",
       "      <td>0.0</td>\n",
       "      <td>0.0</td>\n",
       "      <td>0.0</td>\n",
       "      <td>0.0</td>\n",
       "      <td>0.0</td>\n",
       "      <td>0.0</td>\n",
       "      <td>0.0</td>\n",
       "      <td>0.0</td>\n",
       "      <td>0.0</td>\n",
       "      <td>...</td>\n",
       "      <td>0.0</td>\n",
       "      <td>0.0</td>\n",
       "      <td>0.0</td>\n",
       "      <td>0.0</td>\n",
       "      <td>0.0</td>\n",
       "      <td>0.0</td>\n",
       "      <td>0.0</td>\n",
       "      <td>0.0</td>\n",
       "      <td>0.0</td>\n",
       "      <td>A3GALT2</td>\n",
       "    </tr>\n",
       "  </tbody>\n",
       "</table>\n",
       "<p>5 rows × 6845 columns</p>\n",
       "</div>"
      ],
      "text/plain": [
       "                 TCGA-AF-2687  TCGA-AF-2690  TCGA-AF-2693  TCGA-AF-3911  \\\n",
       "Ensembl_ID                                                                \n",
       "ENSG00000121410           0.0           0.0           0.0           0.0   \n",
       "ENSG00000148584           0.0           0.0           0.0           0.0   \n",
       "ENSG00000175899           0.0           0.0           0.0           0.0   \n",
       "ENSG00000166535           0.0           0.0           0.0           0.0   \n",
       "ENSG00000184389           0.0           0.0           0.0           0.0   \n",
       "\n",
       "                 TCGA-AF-3913  TCGA-AF-3914  TCGA-AF-4110  TCGA-AF-5654  \\\n",
       "Ensembl_ID                                                                \n",
       "ENSG00000121410           0.0           0.0           0.0           0.0   \n",
       "ENSG00000148584           0.0           0.0           0.0           0.0   \n",
       "ENSG00000175899           0.0           0.0           0.0           0.0   \n",
       "ENSG00000166535           0.0           0.0           0.0           0.0   \n",
       "ENSG00000184389           0.0           0.0           0.0           0.0   \n",
       "\n",
       "                 TCGA-AF-6136  TCGA-AF-6655   ...     TCGA-ZG-A9LS  \\\n",
       "Ensembl_ID                                    ...                    \n",
       "ENSG00000121410           0.0           0.0   ...              0.0   \n",
       "ENSG00000148584           0.0           0.0   ...              0.0   \n",
       "ENSG00000175899           0.0           0.0   ...              0.0   \n",
       "ENSG00000166535           0.0           0.0   ...              0.0   \n",
       "ENSG00000184389           0.0           0.0   ...              0.0   \n",
       "\n",
       "                 TCGA-ZG-A9LU  TCGA-ZG-A9LY  TCGA-ZG-A9LZ  TCGA-ZG-A9M4  \\\n",
       "Ensembl_ID                                                                \n",
       "ENSG00000121410           0.0           0.0           0.0           0.0   \n",
       "ENSG00000148584           0.0           0.0           0.0           0.0   \n",
       "ENSG00000175899           0.0           0.0           0.0           0.0   \n",
       "ENSG00000166535           0.0           0.0           0.0           0.0   \n",
       "ENSG00000184389           0.0           0.0           0.0           0.0   \n",
       "\n",
       "                 TCGA-ZG-A9MC  TCGA-ZG-A9N3  TCGA-ZG-A9ND  TCGA-ZG-A9NI  \\\n",
       "Ensembl_ID                                                                \n",
       "ENSG00000121410           0.0           0.0           0.0           0.0   \n",
       "ENSG00000148584           0.0           0.0           0.0           0.0   \n",
       "ENSG00000175899           0.0           0.0           0.0           0.0   \n",
       "ENSG00000166535           0.0           0.0           0.0           0.0   \n",
       "ENSG00000184389           0.0           0.0           0.0           0.0   \n",
       "\n",
       "                    Name  \n",
       "Ensembl_ID                \n",
       "ENSG00000121410     A1BG  \n",
       "ENSG00000148584     A1CF  \n",
       "ENSG00000175899      A2M  \n",
       "ENSG00000166535    A2ML1  \n",
       "ENSG00000184389  A3GALT2  \n",
       "\n",
       "[5 rows x 6845 columns]"
      ]
     },
     "execution_count": 25,
     "metadata": {},
     "output_type": "execute_result"
    }
   ],
   "source": [
    "submitter_project_mapping = pd.read_json('../../data/pancancer/TCGA/mutation/download_new/cases_all_cancers.2018-11-26.json')\n",
    "submitter_project_mapping.head()\n",
    "submitter_project_mapping['Cancer_Type'] = [dict(i)['project_id'] for i in submitter_project_mapping.project]\n",
    "submitter_project_mapping = submitter_project_mapping[['submitter_id', 'Cancer_Type']].set_index('submitter_id')\n",
    "submitter_project_mapping.head()\n",
    "\n",
    "trim_to_submitter = lambda x: '-'.join(str(x).split('-')[:3]) # TCGA barcode until patient\n",
    "mut_freq_sample.columns = mut_freq_sample.columns.map(trim_to_submitter)\n",
    "mut_freq_sample.head()"
   ]
  },
  {
   "cell_type": "code",
   "execution_count": 26,
   "metadata": {},
   "outputs": [
    {
     "name": "stdout",
     "output_type": "stream",
     "text": [
      "46.66132493334234\n"
     ]
    },
    {
     "data": {
      "text/html": [
       "<div>\n",
       "<table border=\"1\" class=\"dataframe\">\n",
       "  <thead>\n",
       "    <tr style=\"text-align: right;\">\n",
       "      <th></th>\n",
       "      <th>BLCA</th>\n",
       "      <th>BRCA</th>\n",
       "      <th>CESC</th>\n",
       "      <th>COAD</th>\n",
       "      <th>ESCA</th>\n",
       "      <th>HNSC</th>\n",
       "      <th>KIRC</th>\n",
       "      <th>KIRP</th>\n",
       "      <th>LIHC</th>\n",
       "      <th>LUAD</th>\n",
       "      <th>LUSC</th>\n",
       "      <th>PRAD</th>\n",
       "      <th>READ</th>\n",
       "      <th>STAD</th>\n",
       "      <th>THCA</th>\n",
       "      <th>UCEC</th>\n",
       "      <th>Name</th>\n",
       "    </tr>\n",
       "  </thead>\n",
       "  <tbody>\n",
       "    <tr>\n",
       "      <th>ENSG00000121410</th>\n",
       "      <td>2.339228e-06</td>\n",
       "      <td>3.690211e-07</td>\n",
       "      <td>1.247521e-06</td>\n",
       "      <td>3.469702e-06</td>\n",
       "      <td>0.000000e+00</td>\n",
       "      <td>1.907585e-06</td>\n",
       "      <td>3.587399e-07</td>\n",
       "      <td>4.276792e-07</td>\n",
       "      <td>9.904769e-07</td>\n",
       "      <td>1.921138e-06</td>\n",
       "      <td>1.231331e-06</td>\n",
       "      <td>2.432750e-07</td>\n",
       "      <td>1.807186e-06</td>\n",
       "      <td>2.200052e-06</td>\n",
       "      <td>0.000000e+00</td>\n",
       "      <td>6.572227e-06</td>\n",
       "      <td>A1BG</td>\n",
       "    </tr>\n",
       "    <tr>\n",
       "      <th>ENSG00000148584</th>\n",
       "      <td>1.128180e-07</td>\n",
       "      <td>1.067845e-07</td>\n",
       "      <td>2.406654e-07</td>\n",
       "      <td>2.738280e-07</td>\n",
       "      <td>0.000000e+00</td>\n",
       "      <td>2.070009e-07</td>\n",
       "      <td>1.038094e-07</td>\n",
       "      <td>0.000000e+00</td>\n",
       "      <td>1.273852e-07</td>\n",
       "      <td>3.294367e-07</td>\n",
       "      <td>4.988383e-07</td>\n",
       "      <td>1.877255e-07</td>\n",
       "      <td>1.743166e-07</td>\n",
       "      <td>2.652644e-07</td>\n",
       "      <td>0.000000e+00</td>\n",
       "      <td>7.245033e-07</td>\n",
       "      <td>A1CF</td>\n",
       "    </tr>\n",
       "    <tr>\n",
       "      <th>ENSG00000175899</th>\n",
       "      <td>7.013953e-07</td>\n",
       "      <td>2.107570e-07</td>\n",
       "      <td>3.562450e-07</td>\n",
       "      <td>1.405157e-06</td>\n",
       "      <td>4.476296e-07</td>\n",
       "      <td>2.451305e-07</td>\n",
       "      <td>3.073278e-07</td>\n",
       "      <td>2.198323e-07</td>\n",
       "      <td>2.262743e-07</td>\n",
       "      <td>9.509147e-07</td>\n",
       "      <td>8.438918e-07</td>\n",
       "      <td>1.250463e-07</td>\n",
       "      <td>1.703012e-06</td>\n",
       "      <td>1.319329e-06</td>\n",
       "      <td>4.193678e-08</td>\n",
       "      <td>2.614087e-06</td>\n",
       "      <td>A2M</td>\n",
       "    </tr>\n",
       "    <tr>\n",
       "      <th>ENSG00000166535</th>\n",
       "      <td>4.524645e-07</td>\n",
       "      <td>1.744790e-07</td>\n",
       "      <td>4.289802e-07</td>\n",
       "      <td>1.504949e-06</td>\n",
       "      <td>8.422233e-08</td>\n",
       "      <td>2.767305e-07</td>\n",
       "      <td>9.251886e-08</td>\n",
       "      <td>5.514914e-08</td>\n",
       "      <td>1.702957e-07</td>\n",
       "      <td>6.606142e-07</td>\n",
       "      <td>6.351192e-07</td>\n",
       "      <td>3.137026e-08</td>\n",
       "      <td>9.321449e-07</td>\n",
       "      <td>9.574749e-07</td>\n",
       "      <td>0.000000e+00</td>\n",
       "      <td>1.573905e-06</td>\n",
       "      <td>A2ML1</td>\n",
       "    </tr>\n",
       "    <tr>\n",
       "      <th>ENSG00000184389</th>\n",
       "      <td>1.697663e-07</td>\n",
       "      <td>0.000000e+00</td>\n",
       "      <td>4.828646e-07</td>\n",
       "      <td>9.156684e-07</td>\n",
       "      <td>3.792062e-07</td>\n",
       "      <td>0.000000e+00</td>\n",
       "      <td>0.000000e+00</td>\n",
       "      <td>0.000000e+00</td>\n",
       "      <td>0.000000e+00</td>\n",
       "      <td>1.239324e-07</td>\n",
       "      <td>1.429794e-07</td>\n",
       "      <td>0.000000e+00</td>\n",
       "      <td>0.000000e+00</td>\n",
       "      <td>7.983287e-07</td>\n",
       "      <td>0.000000e+00</td>\n",
       "      <td>1.362772e-07</td>\n",
       "      <td>A3GALT2</td>\n",
       "    </tr>\n",
       "  </tbody>\n",
       "</table>\n",
       "</div>"
      ],
      "text/plain": [
       "                         BLCA          BRCA          CESC          COAD  \\\n",
       "ENSG00000121410  2.339228e-06  3.690211e-07  1.247521e-06  3.469702e-06   \n",
       "ENSG00000148584  1.128180e-07  1.067845e-07  2.406654e-07  2.738280e-07   \n",
       "ENSG00000175899  7.013953e-07  2.107570e-07  3.562450e-07  1.405157e-06   \n",
       "ENSG00000166535  4.524645e-07  1.744790e-07  4.289802e-07  1.504949e-06   \n",
       "ENSG00000184389  1.697663e-07  0.000000e+00  4.828646e-07  9.156684e-07   \n",
       "\n",
       "                         ESCA          HNSC          KIRC          KIRP  \\\n",
       "ENSG00000121410  0.000000e+00  1.907585e-06  3.587399e-07  4.276792e-07   \n",
       "ENSG00000148584  0.000000e+00  2.070009e-07  1.038094e-07  0.000000e+00   \n",
       "ENSG00000175899  4.476296e-07  2.451305e-07  3.073278e-07  2.198323e-07   \n",
       "ENSG00000166535  8.422233e-08  2.767305e-07  9.251886e-08  5.514914e-08   \n",
       "ENSG00000184389  3.792062e-07  0.000000e+00  0.000000e+00  0.000000e+00   \n",
       "\n",
       "                         LIHC          LUAD          LUSC          PRAD  \\\n",
       "ENSG00000121410  9.904769e-07  1.921138e-06  1.231331e-06  2.432750e-07   \n",
       "ENSG00000148584  1.273852e-07  3.294367e-07  4.988383e-07  1.877255e-07   \n",
       "ENSG00000175899  2.262743e-07  9.509147e-07  8.438918e-07  1.250463e-07   \n",
       "ENSG00000166535  1.702957e-07  6.606142e-07  6.351192e-07  3.137026e-08   \n",
       "ENSG00000184389  0.000000e+00  1.239324e-07  1.429794e-07  0.000000e+00   \n",
       "\n",
       "                         READ          STAD          THCA          UCEC  \\\n",
       "ENSG00000121410  1.807186e-06  2.200052e-06  0.000000e+00  6.572227e-06   \n",
       "ENSG00000148584  1.743166e-07  2.652644e-07  0.000000e+00  7.245033e-07   \n",
       "ENSG00000175899  1.703012e-06  1.319329e-06  4.193678e-08  2.614087e-06   \n",
       "ENSG00000166535  9.321449e-07  9.574749e-07  0.000000e+00  1.573905e-06   \n",
       "ENSG00000184389  0.000000e+00  7.983287e-07  0.000000e+00  1.362772e-07   \n",
       "\n",
       "                    Name  \n",
       "ENSG00000121410     A1BG  \n",
       "ENSG00000148584     A1CF  \n",
       "ENSG00000175899      A2M  \n",
       "ENSG00000166535    A2ML1  \n",
       "ENSG00000184389  A3GALT2  "
      ]
     },
     "execution_count": 26,
     "metadata": {},
     "output_type": "execute_result"
    }
   ],
   "source": [
    "# join with mapping and compute the mean across cancer types\n",
    "no_names = mut_freq_sample.drop('Name', axis=1)\n",
    "matrix_with_cancer_types = no_names.T.join(submitter_project_mapping)\n",
    "mean_mut_freqs = matrix_with_cancer_types.groupby('Cancer_Type').mean().T\n",
    "print (mean_mut_freqs.sum().sum())\n",
    "mean_mut_freqs.columns = [i.split('-')[1] for i in mean_mut_freqs.columns]\n",
    "\n",
    "# get back the gene names\n",
    "assert((mean_mut_freqs.index == mut_freq_sample.index).all())\n",
    "mean_mut_freqs['Name'] = mut_freq_sample.Name\n",
    "\n",
    "# write to disk\n",
    "mean_mut_freqs.to_csv('../../data/pancancer/TCGA/mutation/mutation_frequencies_mean.tsv', sep='\\t')\n",
    "\n",
    "mean_mut_freqs.head()"
   ]
  },
  {
   "cell_type": "markdown",
   "metadata": {},
   "source": [
    "## Plot information on the collected mutation frequencies"
   ]
  },
  {
   "cell_type": "code",
   "execution_count": 33,
   "metadata": {},
   "outputs": [
    {
     "data": {
      "text/plain": [
       "(-1e-06, 1e-05)"
      ]
     },
     "execution_count": 33,
     "metadata": {},
     "output_type": "execute_result"
    },
    {
     "data": {
      "image/png": "[encoded data removed]",
      "text/plain": [
       "<Figure size 1440x720 with 1 Axes>"
      ]
     },
     "metadata": {},
     "output_type": "display_data"
    }
   ],
   "source": [
    "fig = plt.figure(figsize=(20, 10))\n",
    "sns.boxplot(x='variable', y='value', data=pd.melt(mean_mut_freqs, id_vars='Name'))\n",
    "plt.ylim([-0.000001, 0.00001])"
   ]
  },
  {
   "cell_type": "code",
   "execution_count": 34,
   "metadata": {
    "collapsed": false,
    "deletable": true,
    "editable": true
   },
   "outputs": [
    {
     "data": {
      "text/plain": [
       "Text(0.5, 0, 'Mutation Frequency')"
      ]
     },
     "execution_count": 34,
     "metadata": {},
     "output_type": "execute_result"
    },
    {
     "data": {
      "image/png": "[encoded data removed]",
      "text/plain": [
       "<Figure size 1008x576 with 1 Axes>"
      ]
     },
     "metadata": {},
     "output_type": "display_data"
    }
   ],
   "source": [
    "ax = mean_mut_freqs.sum(axis=1).plot(kind='hist', bins=np.linspace(0, 2, 200), figsize=(14, 8))\n",
    "plt.xlim([0, 2])\n",
    "ax.set_ylabel('Number of Genes', fontsize=15)\n",
    "ax.set_title('Distribution of both Mutation Frequencies', fontsize=20)\n",
    "ax.set_xlabel('Mutation Frequency', fontsize=15)"
   ]
  },
  {
   "cell_type": "markdown",
   "metadata": {
    "deletable": true,
    "editable": true
   },
   "source": [
    "## Write a HDF container with the \"raw\" mutation frequencies\n",
    "In the HDF5 container, I want to write the following:\n",
    "\n",
    "* $Gene \\times Sample$ matrix (for both, CNAs and SNVs)\n",
    "* CNA matrix ($Gene \\times Samples$)\n",
    "* SNV matrix ($Gene \\times Samples$)"
   ]
  },
  {
   "cell_type": "code",
   "execution_count": null,
   "metadata": {
    "collapsed": false,
    "deletable": true,
    "editable": true
   },
   "outputs": [
    {
     "name": "stdout",
     "output_type": "stream",
     "text": [
      "Raw information written to ../../data/pancancer/TCGA/mutation/mutation_frequencies_raw.h5\n"
     ]
    }
   ],
   "source": [
    "fname = '../../data/pancancer/TCGA/mutation/mutation_frequencies_raw.h5'\n",
    "snv_gene_sample_matrix.to_hdf(fname, 'snv_sample_matrix', mode='a')\n",
    "final_cna_matrix.to_hdf(fname, 'cna_sample_matrix', mode='a')\n",
    "cna_snv_sample_mat.to_hdf(fname, 'gene_sample_matrix', mode='a')\n",
    "print (\"Raw information written to {}\".format(fname))"
   ]
  },
  {
   "cell_type": "markdown",
   "metadata": {},
   "source": [
    "## T-SNE plot of the data"
   ]
  },
  {
   "cell_type": "code",
   "execution_count": null,
   "metadata": {},
   "outputs": [],
   "source": [
    "mut_sample_mat = matrix_with_cancer_types.set_index('Cancer_Type')\n",
    "embedding = TSNE(n_components=2).fit_transform(mut_sample_mat.drop(['Cancer_Type'], axis=1, errors='ignore'))"
   ]
  },
  {
   "cell_type": "code",
   "execution_count": null,
   "metadata": {},
   "outputs": [],
   "source": [
    "long = pd.DataFrame(embedding, columns=['pc1', 'pc2'], index=mut_sample_mat.index)\n",
    "cancer_type = [i.split('-')[1] for i in mut_sample_mat.index]\n",
    "long['cancertype'] = cancer_type\n",
    "g = sns.lmplot(x='pc1', y='pc2', data=long, hue='cancertype', fit_reg=False, legend=False)\n",
    "g.fig.set_size_inches(20, 12)\n",
    "g.ax.set_xlabel('Component 1', fontsize=25)\n",
    "g.ax.set_ylabel('Component 2', fontsize=25)\n",
    "g.ax.legend(loc='lower right', fontsize=20, title='Cancer Type')\n",
    "plt.setp(g.ax.get_legend().get_title(), fontsize=20)\n",
    "plt.title('T-SNE Embedding of Mutation Frequencies for Samples', fontsize=30)\n",
    "g.fig.savefig('../../data/pancancer/TCGA/mutation/tsne_tumortypes.png', dpi=300)"
   ]
  },
  {
   "cell_type": "code",
   "execution_count": null,
   "metadata": {},
   "outputs": [],
   "source": []
  }
 ],
 "metadata": {
  "kernelspec": {
   "display_name": "Python 3",
   "language": "python",
   "name": "python3"
  },
  "language_info": {
   "codemirror_mode": {
    "name": "ipython",
    "version": 3
   },
   "file_extension": ".py",
   "mimetype": "text/x-python",
   "name": "python",
   "nbconvert_exporter": "python",
   "pygments_lexer": "ipython3",
   "version": "3.6.8"
  }
 },
 "nbformat": 4,
 "nbformat_minor": 2
}
