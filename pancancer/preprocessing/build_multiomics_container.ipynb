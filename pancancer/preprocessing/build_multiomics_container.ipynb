{
 "cells": [
  {
   "cell_type": "markdown",
   "metadata": {},
   "source": [
    "# Build a Multi-Omics Container for GCN Training\n",
    "The goal of this little notebook is to create one HDF5 container that contains a feature matrix consisting of our multi-omics data:\n",
    "* Mutation Frequencies\n",
    "* Gene Expression\n",
    "* Methylation\n",
    "We then can train our network using the iref PPI and these different data sources."
   ]
  },
  {
   "cell_type": "code",
   "execution_count": 1,
   "metadata": {},
   "outputs": [
    {
     "name": "stderr",
     "output_type": "stream",
     "text": [
      "/home/sasse/.local/lib/python3.6/site-packages/h5py/__init__.py:34: FutureWarning: Conversion of the second argument of issubdtype from `float` to `np.floating` is deprecated. In future, it will be treated as `np.float64 == np.dtype(float).type`.\n",
      "  from ._conv import register_converters as _register_converters\n"
     ]
    }
   ],
   "source": [
    "import h5py\n",
    "import pandas as pd\n",
    "import numpy as np"
   ]
  },
  {
   "cell_type": "markdown",
   "metadata": {},
   "source": [
    "## Load the Data from three containers"
   ]
  },
  {
   "cell_type": "code",
   "execution_count": 9,
   "metadata": {},
   "outputs": [],
   "source": [
    "# mutation frequencies\n",
    "with h5py.File('../../data/pancancer/mutfreq_iref_unbalanced_syn.h5', 'r') as f:\n",
    "    network = f['network'][:]\n",
    "    mutfreq_features = f['features_mean'][:]\n",
    "    #features_mean = f['features_mean'][:]\n",
    "    node_names = f['gene_names'][:]\n",
    "    y_train = f['y_train'][:]\n",
    "    y_test = f['y_test'][:]\n",
    "    if 'y_val' in f:\n",
    "        y_val = f['y_val'][:]\n",
    "    else:\n",
    "        y_val = None\n",
    "    train_mask = f['mask_train'][:]\n",
    "    test_mask = f['mask_test'][:]\n",
    "    if 'mask_val' in f:\n",
    "        val_mask = f['mask_val'][:]\n",
    "    else:\n",
    "        val_mask = None\n",
    "\n",
    "# methylation levels\n",
    "with h5py.File('../../data/pancancer/iref_methylation_450k_unbalanced.h5', 'r') as f:\n",
    "    meth_features = f['features'][:]\n",
    "\n",
    "# gene expression\n",
    "with h5py.File('../../data/pancancer/hotnet_iref_vec_input_unbalanced.h5', 'r') as f:\n",
    "    ge_features = f['features'][:]"
   ]
  },
  {
   "cell_type": "markdown",
   "metadata": {},
   "source": [
    "## Join Multi-Omics to form one feature matrix"
   ]
  },
  {
   "cell_type": "code",
   "execution_count": 13,
   "metadata": {},
   "outputs": [
    {
     "data": {
      "text/plain": [
       "(12129, 47)"
      ]
     },
     "execution_count": 13,
     "metadata": {},
     "output_type": "execute_result"
    }
   ],
   "source": [
    "multi_omics_features = np.concatenate((mutfreq_features, meth_features, ge_features), axis=1)\n",
    "multi_omics_features.shape"
   ]
  },
  {
   "cell_type": "markdown",
   "metadata": {},
   "source": [
    "## Write back everything to container"
   ]
  },
  {
   "cell_type": "code",
   "execution_count": 18,
   "metadata": {},
   "outputs": [],
   "source": [
    "def write_hdf5_container(fname, adj, F, node_names, y_train, y_test, train_mask, test_mask):\n",
    "    f = h5py.File(fname, 'w')\n",
    "    string_dt = h5py.special_dtype(vlen=str)\n",
    "    f.create_dataset('network', data=adj, shape=adj.shape)\n",
    "    f.create_dataset('features', data=F, shape=F.shape)\n",
    "    f.create_dataset('gene_names', data=node_names, dtype=string_dt)\n",
    "    f.create_dataset('y_train', data=y_train, shape=y_train.shape)\n",
    "    f.create_dataset('y_test', data=y_test, shape=y_test.shape)\n",
    "    f.create_dataset('mask_train', data=train_mask, shape=train_mask.shape)\n",
    "    f.create_dataset('mask_test', data=test_mask, shape=test_mask.shape)\n",
    "    f.close()\n",
    "\n",
    "    print (\"Container written to {}\".format(fname))"
   ]
  },
  {
   "cell_type": "code",
   "execution_count": 17,
   "metadata": {},
   "outputs": [
    {
     "name": "stdout",
     "output_type": "stream",
     "text": [
      "Container written to ../../data/pancancer/iref_multiomics_unbal.h5\n"
     ]
    }
   ],
   "source": [
    "multi_omics_features = np.concatenate((mutfreq_features, meth_features, ge_features), axis=1)\n",
    "write_hdf5_container('../../data/pancancer/iref_multiomics_unbal.h5', network,\n",
    "                     multi_omics_features, node_names, y_train, y_test, train_mask, test_mask)"
   ]
  },
  {
   "cell_type": "markdown",
   "metadata": {},
   "source": [
    "## Compute Containers for combinations of two omics data"
   ]
  },
  {
   "cell_type": "code",
   "execution_count": 19,
   "metadata": {},
   "outputs": [
    {
     "name": "stdout",
     "output_type": "stream",
     "text": [
      "Container written to ../../data/pancancer/iref_meth_and_ge.h5\n"
     ]
    }
   ],
   "source": [
    "meth_ge_features = np.concatenate((meth_features, ge_features), axis=1)\n",
    "write_hdf5_container('../../data/pancancer/iref_meth_and_ge.h5', network,\n",
    "                     meth_ge_features, node_names, y_train, y_test, train_mask, test_mask)"
   ]
  },
  {
   "cell_type": "code",
   "execution_count": 20,
   "metadata": {},
   "outputs": [
    {
     "name": "stdout",
     "output_type": "stream",
     "text": [
      "Container written to ../../data/pancancer/iref_meth_and_mutfreq.h5\n"
     ]
    }
   ],
   "source": [
    "meth_mutfreq_features = np.concatenate((meth_features, mutfreq_features), axis=1)\n",
    "write_hdf5_container('../../data/pancancer/iref_meth_and_mutfreq.h5', network,\n",
    "                     meth_mutfreq_features, node_names, y_train, y_test, train_mask, test_mask)"
   ]
  },
  {
   "cell_type": "code",
   "execution_count": 21,
   "metadata": {},
   "outputs": [
    {
     "name": "stdout",
     "output_type": "stream",
     "text": [
      "Container written to ../../data/pancancer/iref_mutfreq_and_ge.h5\n"
     ]
    }
   ],
   "source": [
    "mutfreq_ge_features = np.concatenate((mutfreq_features, ge_features), axis=1)\n",
    "write_hdf5_container('../../data/pancancer/iref_mutfreq_and_ge.h5', network,\n",
    "                     mutfreq_ge_features, node_names, y_train, y_test, train_mask, test_mask)"
   ]
  },
  {
   "cell_type": "code",
   "execution_count": null,
   "metadata": {},
   "outputs": [],
   "source": []
  }
 ],
 "metadata": {
  "kernelspec": {
   "display_name": "Python 3",
   "language": "python",
   "name": "python3"
  },
  "language_info": {
   "codemirror_mode": {
    "name": "ipython",
    "version": 3
   },
   "file_extension": ".py",
   "mimetype": "text/x-python",
   "name": "python",
   "nbconvert_exporter": "python",
   "pygments_lexer": "ipython3",
   "version": "3.6.1"
  }
 },
 "nbformat": 4,
 "nbformat_minor": 2
}
