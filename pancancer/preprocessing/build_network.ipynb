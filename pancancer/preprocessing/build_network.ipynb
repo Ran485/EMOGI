{
 "cells": [
  {
   "cell_type": "markdown",
   "metadata": {},
   "source": [
    "# Build Hotnet2 Network Container\n",
    "In this notebook, I want to construct the network container for the Hotnet2 data. In order to do that, I have to do the following:\n",
    "1. Construct a network from heat scores and edgelist (data in Hotnet2 github repo) or from network and mutation frequencies directly from TCGA.\n",
    "2. Get labels (positive and negative) from OMIM\n",
    "3. Do train/test split and save the whole thing\n"
   ]
  },
  {
   "cell_type": "code",
   "execution_count": 1,
   "metadata": {},
   "outputs": [
    {
     "name": "stderr",
     "output_type": "stream",
     "text": [
      "/home/sasse/.local/lib/python3.6/site-packages/h5py/__init__.py:34: FutureWarning: Conversion of the second argument of issubdtype from `float` to `np.floating` is deprecated. In future, it will be treated as `np.float64 == np.dtype(float).type`.\n",
      "  from ._conv import register_converters as _register_converters\n",
      "/home/sasse/.local/lib/python3.6/site-packages/matplotlib/__init__.py:886: MatplotlibDeprecationWarning: \n",
      "examples.directory is deprecated; in the future, examples will be found relative to the 'datapath' directory.\n",
      "  \"found relative to the 'datapath' directory.\".format(key))\n"
     ]
    }
   ],
   "source": [
    "import pandas as pd\n",
    "import numpy as np\n",
    "import h5py\n",
    "import networkx as nx\n",
    "import matplotlib.pyplot as plt\n",
    "import seaborn\n",
    "from sklearn.model_selection import train_test_split\n",
    "\n",
    "import mygene\n",
    "from goatools.base import download_go_basic_obo, download_ncbi_associations\n",
    "from goatools.associations import read_ncbi_gene2go\n",
    "from goatools.go_search import GoSearch\n",
    "\n",
    "%matplotlib inline"
   ]
  },
  {
   "cell_type": "code",
   "execution_count": 2,
   "metadata": {
    "collapsed": true
   },
   "outputs": [],
   "source": [
    "VAL_SIZE = 0\n",
    "TEST_RATIO = 0.4\n",
    "BALANCE = False\n",
    "USE_HEAT_SCORES = False\n",
    "NETWORK_TO_USE = 'cpdb' # can be either CPDB or iref"
   ]
  },
  {
   "cell_type": "code",
   "execution_count": 3,
   "metadata": {},
   "outputs": [],
   "source": [
    "def get_gene_symbols(list_of_ensembl_ids):\n",
    "    # get Ensembl IDs for gene names\n",
    "    mg = mygene.MyGeneInfo()\n",
    "    res = mg.querymany(list_of_ensembl_ids,\n",
    "                       scopes='ensembl.gene',\n",
    "                       fields='symbol',\n",
    "                       species='human', returnall=True\n",
    "                      )\n",
    "\n",
    "    def get_symbol_and_ensembl(d):\n",
    "        if 'symbol' in d:\n",
    "            return [d['query'], d['symbol']]\n",
    "        else:\n",
    "            return [d['query'], None]\n",
    "\n",
    "    node_names = [get_symbol_and_ensembl(d) for d in res['out']]\n",
    "    # now, retrieve the names and IDs from a dictionary and put in DF\n",
    "    #print (\"{} gene names (symbols) mapped successfully\".format(len(ens_ids)))\n",
    "    node_names = pd.DataFrame(node_names, columns=['Ensembl_ID', 'Symbol']).set_index('Ensembl_ID')\n",
    "    node_names.dropna(axis=0, inplace=True)\n",
    "    return node_names"
   ]
  },
  {
   "cell_type": "markdown",
   "metadata": {},
   "source": [
    "## 1. Construct Network"
   ]
  },
  {
   "cell_type": "code",
   "execution_count": 5,
   "metadata": {},
   "outputs": [
    {
     "name": "stdout",
     "output_type": "stream",
     "text": [
      "querying 1-1000...done.\n",
      "querying 1001-2000...done.\n",
      "querying 2001-3000...done.\n",
      "querying 3001-4000...done.\n",
      "querying 4001-5000...done.\n",
      "querying 5001-6000...done.\n",
      "querying 6001-7000...done.\n",
      "querying 7001-8000...done.\n",
      "querying 8001-9000...done.\n",
      "querying 9001-10000...done.\n",
      "querying 10001-11000...done.\n",
      "querying 11001-12000...done.\n",
      "querying 12001-13000...done.\n",
      "querying 13001-14000...done.\n",
      "querying 14001-14212...done.\n",
      "Finished.\n",
      "3 input query terms found no hit:\n",
      "\t['ENSG00000116957', 'ENSG00000133808', 'ENSG00000284413']\n"
     ]
    }
   ],
   "source": [
    "# read edgelist and names\n",
    "if NETWORK_TO_USE.lower() == 'iref':\n",
    "    net_file = '../data/pancancer/hotnet2/networks/irefindex9/irefindex9_edge_list'\n",
    "    name_file = '../data/pancancer/hotnet2/networks/irefindex9/irefindex9_index_gene'\n",
    "    edgelist = pd.read_csv(net_file, sep=' ', header=None,\n",
    "                           names=['from', 'to', 'weight'])\n",
    "    index = pd.read_csv(name_file, sep=' ', header=None, names=['name'])\n",
    "\n",
    "    # build network and relabel nodes to match with real names\n",
    "    G = nx.from_pandas_dataframe(edgelist, source='from', target='to', edge_attr=None)\n",
    "    print (\"Edges: {}\\tNodes: {}\".format(G.number_of_edges(), G.number_of_nodes()))\n",
    "    _ = nx.relabel_nodes(G, index.to_dict()['name'], copy=False)\n",
    "elif NETWORK_TO_USE == 'cpdb':\n",
    "    # load CPDB network from file\n",
    "    edgelist = pd.read_csv('../../data/networks/CPDB_ensg_edgelist.tsv', sep='\\t')\n",
    "    # construct networkx graph\n",
    "    G = nx.from_pandas_edgelist(df=edgelist, source='partner1', target='partner2', edge_attr='confidence')\n",
    "    node_list = list(G.nodes())\n",
    "    node_names = get_gene_symbols(node_list)"
   ]
  },
  {
   "cell_type": "code",
   "execution_count": 6,
   "metadata": {},
   "outputs": [
    {
     "data": {
      "text/plain": [
       "Text(0.5, 1.0, 'Node Degree Distribution of Genes in PPI')"
      ]
     },
     "execution_count": 6,
     "metadata": {},
     "output_type": "execute_result"
    },
    {
     "data": {
      "image/png": "[encoded data removed]",
      "text/plain": [
       "<Figure size 1008x576 with 1 Axes>"
      ]
     },
     "metadata": {},
     "output_type": "display_data"
    }
   ],
   "source": [
    "# plot node degree to check if distribution follows power law\n",
    "node_degrees = np.array([i[1] for i in list(G.degree())])\n",
    "fig = plt.figure(figsize=(14, 8))\n",
    "bins = np.linspace(1, 100, 100)\n",
    "ax = plt.hist(node_degrees, bins)\n",
    "plt.xlabel('Node Degree')\n",
    "plt.ylabel('Number of genes with node degree')\n",
    "plt.title('Node Degree Distribution of Genes in PPI')"
   ]
  },
  {
   "cell_type": "code",
   "execution_count": 7,
   "metadata": {
    "collapsed": true
   },
   "outputs": [],
   "source": [
    "# self interactions?\n",
    "assert (np.diag(nx.to_numpy_array(G)).sum() == 0)"
   ]
  },
  {
   "cell_type": "markdown",
   "metadata": {},
   "source": [
    "## 2. Get Features\n",
    "Have a look at the HotNet2 heat scores and gene expression data for the cancer types."
   ]
  },
  {
   "cell_type": "code",
   "execution_count": 55,
   "metadata": {},
   "outputs": [
    {
     "name": "stdout",
     "output_type": "stream",
     "text": [
      "# genes with heat scores: 11565\n"
     ]
    }
   ],
   "source": [
    "# get edgelist with names from the networkx graph\n",
    "l = nx.to_edgelist(G)\n",
    "f = [i[0] for i in l]\n",
    "t = [i[1] for i in l]\n",
    "edges_names = pd.DataFrame(np.array([f, t]).T, columns=['from_node', 'to_node'])\n",
    "node_list = pd.DataFrame(list(set().union(f, t)), columns=['name'])\n",
    "\n",
    "# get features and see which ones are in the network\n",
    "\n",
    "# get heat scores and see which ones are in our network\n",
    "heat_file = '../../data/pancancer/hotnet2/heats/pan12.gene2freq.txt'\n",
    "heat_scores = pd.read_csv(heat_file, header=None, sep=' ',\n",
    "                          names=['gene_name', 'heat'], index_col=0)\n",
    "nx.set_node_attributes(G, 0, name='heat')\n",
    "nx.set_node_attributes(G, heat_scores.to_dict()['heat'], name='heat')\n",
    "print (\"# genes with heat scores: {}\".format(len(heat_scores)))"
   ]
  },
  {
   "cell_type": "code",
   "execution_count": null,
   "metadata": {},
   "outputs": [],
   "source": []
  },
  {
   "cell_type": "code",
   "execution_count": 56,
   "metadata": {},
   "outputs": [
    {
     "name": "stdout",
     "output_type": "stream",
     "text": [
      "# genes with gene expression: 8934\n"
     ]
    }
   ],
   "source": [
    "features = pd.read_csv('../../data/pancancer/TCGA/expression/pancan12_rsem_matrix_tumor_type_means.tsv', sep='\\t')\n",
    "features.set_index('#Gene', inplace=True)\n",
    "genes_with_features = features[features.index.isin(node_names.Symbol)]\n",
    "print (\"# genes with gene expression: {}\".format(genes_with_features.shape[0]))\n",
    "default_val = np.zeros(12) # 12 different cancers\n",
    "nx.set_node_attributes(G, default_val, 'features')\n",
    "nx.set_node_attributes(G, genes_with_features.T.to_dict('list'), 'features')\n",
    "assert (len(nx.get_node_attributes(G, 'features')) == len(G.nodes()))"
   ]
  },
  {
   "cell_type": "markdown",
   "metadata": {},
   "source": [
    "## 3. Get Labels\n",
    "The positives can come from the list of Vogelstein et al. while the negatives can be those genes not present in OMIM, not in the list of Vogelstein and with a low score in COSMIC."
   ]
  },
  {
   "cell_type": "code",
   "execution_count": 58,
   "metadata": {
    "scrolled": true
   },
   "outputs": [
    {
     "name": "stdout",
     "output_type": "stream",
     "text": [
      "Got 125 cancer genes\n",
      "Got 54 oncogenes and 66 tumour suppressors\n"
     ]
    }
   ],
   "source": [
    "cancer_gene_list = pd.read_csv('../../data/pancancer/vogelstein/table_s2a.csv', sep='\\t', header=0)\n",
    "print (\"Got {} cancer genes\".format(cancer_gene_list.shape[0]))\n",
    "cancer_gene_list.columns = [i.strip('*') for i in cancer_gene_list.columns]\n",
    "cancer_genes = cancer_gene_list[cancer_gene_list['Gene Symbol'].isin(node_names.Symbol)]\n",
    "oncogenes = cancer_genes[cancer_genes.Classification == \"Oncogene\"]\n",
    "suppressors = cancer_genes[cancer_genes.Classification == \"TSG\"]\n",
    "print (\"Got {} oncogenes and {} tumour suppressors\".format(oncogenes.shape[0], suppressors.shape[0]))"
   ]
  },
  {
   "cell_type": "code",
   "execution_count": 59,
   "metadata": {
    "collapsed": true
   },
   "outputs": [],
   "source": [
    "#cancer_gene_list.head(10)"
   ]
  },
  {
   "cell_type": "code",
   "execution_count": 64,
   "metadata": {
    "scrolled": true
   },
   "outputs": [
    {
     "name": "stdout",
     "output_type": "stream",
     "text": [
      "14082 genes are in network but not in Vogelstein list (oncogenes)\n",
      "2582 genes are in network but not in oncogenes and not in OMIM\n",
      "2531 genes in network but not in oncogenes, OMIM and COSMIC cancer gene census.\n"
     ]
    }
   ],
   "source": [
    "# get rid of the vogelstein cancer genes\n",
    "not_positives = node_names[~node_names.Symbol.isin(cancer_gene_list['Gene Symbol'])]\n",
    "print (\"{} genes are in network but not in Vogelstein list (oncogenes)\".format(not_positives.shape[0]))\n",
    "\n",
    "# get rid of the OMIM disease genes\n",
    "omim_genes = pd.read_csv('../../data/pancancer/OMIM/genemap2.txt', sep='\\t', comment='#', header=None)\n",
    "omim_genes.columns = ['Chromosome', 'Genomic Position Start', 'Genomic Position End', 'Cyto Location',\n",
    "                      'Computed Cyto Location', 'Mim Number', 'Gene Symbol', 'Gene Name',\n",
    "                      'Approved Symbol', 'Entrez Gene ID', 'Ensembl Gene ID', 'Comments',\n",
    "                      'Phenotypes', 'Mouse Gene Symbol/ID']\n",
    "omim_gene_names = []\n",
    "for idx, row in omim_genes.iterrows():\n",
    "    gene_names = row['Gene Symbol'].strip().split(',')\n",
    "    omim_gene_names += gene_names\n",
    "omim_gene_names = list(set(omim_gene_names))\n",
    "not_omim_not_pos = not_positives[~not_positives.Symbol.isin(omim_gene_names)]\n",
    "print (\"{} genes are in network but not in oncogenes and not in OMIM\".format(not_omim_not_pos.shape[0]))\n",
    "\n",
    "# get rid of genes that are not in COSMIC\n",
    "cosmic_gene_scores = pd.read_csv('../../data/pancancer/cosmic/cancer_gene_census.csv', header=0)\n",
    "negatives = not_omim_not_pos[~not_omim_not_pos.Symbol.isin(cosmic_gene_scores['Gene Symbol'])]\n",
    "print (\"{} genes in network but not in oncogenes, OMIM and COSMIC cancer gene census.\".format(negatives.shape[0]))"
   ]
  },
  {
   "cell_type": "markdown",
   "metadata": {},
   "source": [
    "## 4. Train / Test Split"
   ]
  },
  {
   "cell_type": "code",
   "execution_count": 65,
   "metadata": {
    "collapsed": true
   },
   "outputs": [],
   "source": [
    "def build_mask(nodes_with_labels, X):\n",
    "    mask = np.array(nodes_with_labels.name.isin(X.name), dtype=np.uint8)\n",
    "    # verify that all nodes from mask are in X and vice versa\n",
    "    t = nodes_with_labels[mask.astype(bool)] # df for the mask\n",
    "    assert (np.all(t.name.isin(X.name)) and np.all(X.name.isin(t.name)))\n",
    "    return mask\n",
    "\n",
    "def build_y(nodes_with_labels, X):\n",
    "    y_t = np.array([node_list.name.isin(X.name) & node_list.cancer_gene], dtype=np.uint8).T\n",
    "    return y_t\n",
    "\n",
    "def balanced_stratified_split(X, test_ratio):\n",
    "    # calculate number of labels for both sets\n",
    "    num_labels_total = X.label.sum()\n",
    "    num_labels_train = int(num_labels_total * (1-test_ratio))\n",
    "    num_labels_test = num_labels_total - num_labels_train\n",
    "    num_positives = X.cancer_gene.sum()\n",
    "    num_pos_train = int(num_positives*(1-test_ratio))\n",
    "    num_pos_test = num_positives - num_pos_train\n",
    "    # select random training set (size 2*num_labels_train)\n",
    "    X_train = X[X.cancer_gene].sample(n=num_pos_train)\n",
    "    X_train = X_train.append(X[X.non_cancer_gene].sample(n=num_pos_train))\n",
    "    # rest is test\n",
    "    X_test = X[X.label & ~X.index.isin(X_train.index)]\n",
    "    return X_train, X_test"
   ]
  },
  {
   "cell_type": "code",
   "execution_count": 12,
   "metadata": {},
   "outputs": [
    {
     "name": "stdout",
     "output_type": "stream",
     "text": [
      "Split Training and Testing with 40.0% test nodes\n",
      "Training Nodes: 1428\t#Positive Genes in Train Set: 74\n",
      "Testing Nodes: 952\t#Positive Genes in Test Set: 49\n"
     ]
    }
   ],
   "source": [
    "# add columns for positives and negatives\n",
    "node_list = pd.DataFrame(nx.to_pandas_adjacency(G).index, columns=['name'])\n",
    "node_list['cancer_gene'] = node_list.name.isin(cancer_gene_list['Gene Symbol'])\n",
    "node_list['non_cancer_gene'] = node_list.name.isin(negatives.name)\n",
    "# add column for label in general\n",
    "node_list['label'] = node_list.cancer_gene | node_list.non_cancer_gene\n",
    "# assert that labels are set correctly\n",
    "assert (node_list[node_list.cancer_gene | node_list.non_cancer_gene].equals(node_list[node_list.label]))\n",
    "\n",
    "# split for training, testing & validation\n",
    "if BALANCE:\n",
    "    X_train, X_test = balanced_stratified_split(node_list, TEST_RATIO)\n",
    "else:\n",
    "    X_train, X_test = train_test_split(node_list[node_list.label],\n",
    "                                       test_size=TEST_RATIO,\n",
    "                                       stratify=node_list[node_list.label].cancer_gene\n",
    "                                      )\n",
    "if VAL_SIZE > 0:\n",
    "    X_val = X_train[-VAL_SIZE:]\n",
    "    X_train = X_train[:-VAL_SIZE]\n",
    "else:\n",
    "    X_val = None\n",
    "print (\"Split Training and Testing with {}% test nodes\".format(TEST_RATIO*100.))\n",
    "print (\"Training Nodes: {}\\t#Positive Genes in Train Set: {}\".format(X_train.shape[0],\n",
    "                                                                 X_train.cancer_gene.sum())\n",
    "      )\n",
    "print (\"Testing Nodes: {}\\t#Positive Genes in Test Set: {}\".format(X_test.shape[0],\n",
    "                                                               X_test.cancer_gene.sum())\n",
    "      )\n",
    "\n",
    "# construct masks\n",
    "train_mask = build_mask(node_list, X_train)\n",
    "test_mask = build_mask(node_list, X_test)\n",
    "if X_val is not None:\n",
    "    val_mask = build_mask(node_list, X_val)\n",
    "\n",
    "# construct labels\n",
    "y_train = build_y(node_list, X_train)\n",
    "y_test = build_y(node_list, X_test)\n",
    "if X_val is not None:\n",
    "    y_val = build_y(node_list, X_val)"
   ]
  },
  {
   "cell_type": "markdown",
   "metadata": {},
   "source": [
    "## 5. Get Ensembl IDs for Gene Names"
   ]
  },
  {
   "cell_type": "code",
   "execution_count": 13,
   "metadata": {},
   "outputs": [
    {
     "name": "stdout",
     "output_type": "stream",
     "text": [
      "querying 1-1000...done.\n",
      "querying 1001-2000...done.\n",
      "querying 2001-3000...done.\n",
      "querying 3001-4000...done.\n",
      "querying 4001-5000...done.\n",
      "querying 5001-6000...done.\n",
      "querying 6001-7000...done.\n",
      "querying 7001-8000...done.\n",
      "querying 8001-9000...done.\n",
      "querying 9001-10000...done.\n",
      "querying 10001-11000...done.\n",
      "querying 11001-12000...done.\n",
      "querying 12001-12129...done.\n",
      "Finished.\n",
      "32 input query terms found dup hits:\n",
      "\t[('TIMM22', 4), ('ARMCX5-GPRASP2', 2), ('GNAZ', 2), ('DNAJB3', 2), ('C9orf163', 2), ('XKRY2', 2), ('\n",
      "638 input query terms found no hit:\n",
      "\t['DBC1', 'ANKRD57', 'SGK196', 'IL8', 'C7orf42', 'FAM40B', 'EIF2C4', 'LPPR3', 'FAM127B', 'FAM40A', 'F\n",
      "11499 gene names (symbols) mapped successfully\n"
     ]
    }
   ],
   "source": [
    "# get Ensembl IDs for gene names\n",
    "mg = mygene.MyGeneInfo()\n",
    "res = mg.querymany(node_list.name,\n",
    "                   scopes='symbol, refseq, uniprot',\n",
    "                   fields='ensembl.gene',\n",
    "                   species='human', returnall=True\n",
    "                  )\n",
    "\n",
    "# now, retrieve the names and IDs from a dictionary and put in DF\n",
    "def get_name_and_id(x):\n",
    "    ens_id = x['ensembl'][0]['gene'] if type(x['ensembl']) is list else x['ensembl']['gene']\n",
    "    name = x['query']\n",
    "    return [name, ens_id]\n",
    "\n",
    "ens_ids = [get_name_and_id(x) for x in res['out'] if 'ensembl' in x]\n",
    "node_names_ids = pd.DataFrame(ens_ids, columns=['name', 'ID'])\n",
    "node_names_ids.set_index('name', inplace=True)\n",
    "node_names_ids = node_names_ids[~node_names_ids.index.duplicated(keep='first')]\n",
    "\n",
    "# join with node list to have the correct order and derive gene names\n",
    "nodes_with_ids = node_list.join(node_names_ids, on='name')\n",
    "nodes_with_ids.loc[nodes_with_ids.ID.isnull(), 'ID'] = nodes_with_ids[nodes_with_ids.ID.isnull()].name\n",
    "gene_names = np.vstack((np.array(nodes_with_ids.ID), np.array(nodes_with_ids.name))).transpose(1, 0)\n",
    "\n",
    "print (\"{} gene names (symbols) mapped successfully\".format(len(ens_ids)))"
   ]
  },
  {
   "cell_type": "markdown",
   "metadata": {},
   "source": [
    "## 6. Save To hdf5"
   ]
  },
  {
   "cell_type": "code",
   "execution_count": null,
   "metadata": {
    "scrolled": false
   },
   "outputs": [],
   "source": [
    "ppi_network = nx.to_numpy_array(G)\n",
    "# test if ppi_network (A) has the same degree as the graph\n",
    "# this should test if the features have the same ordering as the network\n",
    "assert (np.all(np.equal(ppi_network.sum(axis=0), np.array([d[1] for d in list(nx.degree(G))]))))\n",
    "\n",
    "# only one dim output (not one-hot)\n",
    "#y_train = np.array([y_train[:, 0]]).T\n",
    "#y_test = np.array([y_test[:, 0]]).T\n",
    "#if X_val is not None:\n",
    "#    y_val = np.array([y_val[:, 0]]).T\n",
    "\n",
    "# build feature vector\n",
    "node_index = nx.to_pandas_adjacency(G).index\n",
    "if USE_HEAT_SCORES:\n",
    "    attributes = nx.get_node_attributes(G, 'heat')\n",
    "    features = np.array([[attributes[i] for i in node_index]]).T\n",
    "else:\n",
    "    attributes = nx.get_node_attributes(G, 'features')\n",
    "    features = np.array([attributes[i] for i in node_index])\n",
    "\n",
    "# create gene names\n",
    "string_dt = h5py.special_dtype(vlen=str)\n",
    "\n",
    "# determine file name by parameters\n",
    "b = 'balanced' if BALANCE else 'unbalanced'\n",
    "f = 'heat' if USE_HEAT_SCORES else 'vec'\n",
    "fname = '../data/pancancer/hotnet_iref_{}_input_{}.h5'.format(f, b)\n",
    "f = h5py.File(fname, 'w')\n",
    "\n",
    "# add ppi network\n",
    "f.create_dataset('network', data=ppi_network, shape=ppi_network.shape)\n",
    "\n",
    "# add features\n",
    "f.create_dataset('features', data=features, shape=features.shape)\n",
    "# add gene names (same order as features & network)\n",
    "f.create_dataset('gene_names', data=gene_names, dtype=string_dt)\n",
    "# add labels\n",
    "f.create_dataset('y_train', data=y_train, shape=y_train.shape)\n",
    "f.create_dataset('y_test', data=y_test, shape=y_test.shape)\n",
    "if X_val is not None:\n",
    "    f.create_dataset('y_val', data=y_val, shape=y_val.shape)\n",
    "\n",
    "f.create_dataset('mask_train', data=train_mask, shape=train_mask.shape)\n",
    "f.create_dataset('mask_test', data=test_mask, shape=test_mask.shape)\n",
    "if X_val is not None:\n",
    "    f.create_dataset('mask_val', data=val_mask, shape=val_mask.shape)\n",
    "f.close()\n",
    "print (\"Container written to {}\".format(fname))"
   ]
  },
  {
   "cell_type": "code",
   "execution_count": 59,
   "metadata": {
    "collapsed": true
   },
   "outputs": [],
   "source": [
    "assert (np.alltrue([gene_names[i] == node_index[i] for i in range(node_index.shape[0])]))"
   ]
  }
 ],
 "metadata": {
  "kernelspec": {
   "display_name": "Python 3",
   "language": "python",
   "name": "python3"
  },
  "language_info": {
   "codemirror_mode": {
    "name": "ipython",
    "version": 3
   },
   "file_extension": ".py",
   "mimetype": "text/x-python",
   "name": "python",
   "nbconvert_exporter": "python",
   "pygments_lexer": "ipython3",
   "version": "3.6.8"
  }
 },
 "nbformat": 4,
 "nbformat_minor": 2
}
