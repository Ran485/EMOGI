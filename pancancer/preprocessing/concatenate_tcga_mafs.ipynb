{
 "cells": [
  {
   "cell_type": "markdown",
   "metadata": {},
   "source": [
    "# Concatenate TCGA MAF Files\n",
    "This notebook loads all the MAF files downloaded from the TCGA data portal and joins them. Duplicates are removed prior to analyzing the data."
   ]
  },
  {
   "cell_type": "code",
   "execution_count": 1,
   "metadata": {
    "collapsed": true
   },
   "outputs": [],
   "source": [
    "import pandas as pd\n",
    "import numpy as np\n",
    "import matplotlib.pyplot as plt\n",
    "\n",
    "import os\n",
    "\n",
    "%matplotlib inline"
   ]
  },
  {
   "cell_type": "markdown",
   "metadata": {},
   "source": [
    "## Joining all MAF Files\n",
    "First, let's try to read all the MAF files and concatenate them. After that, I should be left with one big MAF that I can write to file."
   ]
  },
  {
   "cell_type": "code",
   "execution_count": 77,
   "metadata": {
    "collapsed": false
   },
   "outputs": [
    {
     "name": "stdout",
     "output_type": "stream",
     "text": [
      "[1] Got 4858 mutations and 90 common columns\n",
      "Lost 69 columns reading ../data/cancer/TCGA/downloads/08f8c62e-4a47-45f1-8b87-35acee6956c1/genome.wustl.edu_OV.ABI.26.0.0.somatic.maf\n",
      "Lost columns: ['Match_Norm_Seq_Allele1', 'Match_Norm_Seq_Allele2', 'Tumor_Validation_Allele1', 'Tumor_Validation_Allele2', 'Match_Norm_Validation_Allele1', 'Match_Norm_Validation_Allele2', 'Verification_Status', 'Sequence_Source', 'Score', 'BAM_file', 'Sequencer', 'Tumor_Sample_UUID', 'Matched_Norm_Sample_UUID', 'Genome_Change', 'Annotation_Transcript', 'Transcript_Strand', 'Transcript_Exon', 'Transcript_Position', 'cDNA_Change', 'Codon_Change', 'Protein_Change', 'Other_Transcripts', 'Refseq_mRNA_Id', 'Refseq_prot_Id', 'SwissProt_acc_Id', 'SwissProt_entry_Id', 'Description', 'UniProt_AApos', 'UniProt_Region', 'UniProt_Site', 'UniProt_Natural_Variations', 'UniProt_Experimental_Info', 'GO_Biological_Process', 'GO_Cellular_Component', 'GO_Molecular_Function', 'COSMIC_overlapping_mutations', 'COSMIC_fusion_genes', 'COSMIC_tissue_types_affected', 'COSMIC_total_alterations_in_gene', 'Tumorscape_Amplification_Peaks', 'Tumorscape_Deletion_Peaks', 'TCGAscape_Amplification_Peaks', 'TCGAscape_Deletion_Peaks', 'DrugBank', 'ref_context', 'gc_content', 'CCLE_ONCOMAP_overlapping_mutations', 'CCLE_ONCOMAP_total_mutations_in_gene', 'CGC_Mutation_Type', 'CGC_Translocation_Partner', 'CGC_Tumor_Types_Somatic', 'CGC_Tumor_Types_Germline', 'CGC_Other_Diseases', 'DNARepairGenes_Role', 'FamilialCancerDatabase_Syndromes', 'MUTSIG_Published_Results', 'OREGANNO_ID', 'OREGANNO_Values', 't_alt_count', 't_ref_count', 'validation_alt_allele', 'validation_method', 'validation_status', 'validation_tumor_sample', 'pox', 'qox', 'pox_cutoff', 'isArtifactMode', 'oxoGCut']\n",
      "New Maf cols: Index(['Hugo_Symbol', 'Entrez_Gene_Id', 'Center', 'NCBI_Build', 'Chromosome',\n",
      "       'Start_position', 'End_position', 'Strand', 'Variant_Classification',\n",
      "       'Variant_TypeReference_Allele', 'Tumor_Seq_Allele1',\n",
      "       'Tumor_Seq_Allele2', 'dbSNP_RS', 'dbSNP_Val_Status', 'Entrez_Gene_Id.1',\n",
      "       'Center.1', 'NCBI_Build.1', 'Chromosome.1', 'Start_position.1',\n",
      "       'End_position.1', 'Strand.1', 'Variant_Classification.1',\n",
      "       'Variant_Type', 'Reference_Allele', 'Tumor_Seq_Allele1.1',\n",
      "       'Tumor_Seq_Allele2.1', 'dbSNP_RS.1', 'dbSNP_Val_Status.1',\n",
      "       'Tumor_Sample_Barcode', 'Matched_Norm_Sample_Barcode',\n",
      "       'Match_Norm_Seq_Allele1', 'Match_Norm_Seq_Allele2',\n",
      "       'Tumor_Validation_Allele1', 'Tumor_Validation_Allele2',\n",
      "       'Match_Norm_Validation_Allele1', 'Match_Norm_Validation_Allele2',\n",
      "       'Verification_Status', 'Validation_Status', 'Mutation_Status',\n",
      "       'Sequencing_Phase', 'Validation_Method', 'Transcript',\n",
      "       'Prot_String_Short'],\n",
      "      dtype='object')\n",
      "Old MAF cols: Index(['Hugo_Symbol', 'Entrez_Gene_Id', 'Center', 'NCBI_Build', 'Chromosome',\n",
      "       'Start_position', 'End_position', 'Strand', 'Variant_Classification',\n",
      "       'Variant_Type', 'Reference_Allele', 'Tumor_Seq_Allele1',\n",
      "       'Tumor_Seq_Allele2', 'dbSNP_RS', 'dbSNP_Val_Status',\n",
      "       'Tumor_Sample_Barcode', 'Matched_Norm_Sample_Barcode',\n",
      "       'Match_Norm_Seq_Allele1', 'Match_Norm_Seq_Allele2',\n",
      "       'Tumor_Validation_Allele1', 'Tumor_Validation_Allele2',\n",
      "       'Match_Norm_Validation_Allele1', 'Match_Norm_Validation_Allele2',\n",
      "       'Verification_Status', 'Validation_Status', 'Mutation_Status',\n",
      "       'Sequencing_Phase', 'Sequence_Source', 'Validation_Method', 'Score',\n",
      "       'BAM_file', 'Sequencer', 'Tumor_Sample_UUID',\n",
      "       'Matched_Norm_Sample_UUID', 'Genome_Change', 'Annotation_Transcript',\n",
      "       'Transcript_Strand', 'Transcript_Exon', 'Transcript_Position',\n",
      "       'cDNA_Change', 'Codon_Change', 'Protein_Change', 'Other_Transcripts',\n",
      "       'Refseq_mRNA_Id', 'Refseq_prot_Id', 'SwissProt_acc_Id',\n",
      "       'SwissProt_entry_Id', 'Description', 'UniProt_AApos', 'UniProt_Region',\n",
      "       'UniProt_Site', 'UniProt_Natural_Variations',\n",
      "       'UniProt_Experimental_Info', 'GO_Biological_Process',\n",
      "       'GO_Cellular_Component', 'GO_Molecular_Function',\n",
      "       'COSMIC_overlapping_mutations', 'COSMIC_fusion_genes',\n",
      "       'COSMIC_tissue_types_affected', 'COSMIC_total_alterations_in_gene',\n",
      "       'Tumorscape_Amplification_Peaks', 'Tumorscape_Deletion_Peaks',\n",
      "       'TCGAscape_Amplification_Peaks', 'TCGAscape_Deletion_Peaks', 'DrugBank',\n",
      "       'ref_context', 'gc_content', 'CCLE_ONCOMAP_overlapping_mutations',\n",
      "       'CCLE_ONCOMAP_total_mutations_in_gene', 'CGC_Mutation_Type',\n",
      "       'CGC_Translocation_Partner', 'CGC_Tumor_Types_Somatic',\n",
      "       'CGC_Tumor_Types_Germline', 'CGC_Other_Diseases', 'DNARepairGenes_Role',\n",
      "       'FamilialCancerDatabase_Syndromes', 'MUTSIG_Published_Results',\n",
      "       'OREGANNO_ID', 'OREGANNO_Values', 't_alt_count', 't_ref_count',\n",
      "       'validation_alt_allele', 'validation_method', 'validation_status',\n",
      "       'validation_tumor_sample', 'pox', 'qox', 'pox_cutoff', 'isArtifactMode',\n",
      "       'oxoGCut'],\n",
      "      dtype='object')\n",
      "Join MAF cols: Index(['Hugo_Symbol', 'Entrez_Gene_Id', 'Center', 'NCBI_Build', 'Chromosome',\n",
      "       'Start_position', 'End_position', 'Strand', 'Variant_Classification',\n",
      "       'Tumor_Seq_Allele1', 'Tumor_Seq_Allele2', 'dbSNP_RS',\n",
      "       'dbSNP_Val_Status', 'Variant_Type', 'Reference_Allele',\n",
      "       'Tumor_Sample_Barcode', 'Matched_Norm_Sample_Barcode',\n",
      "       'Validation_Status', 'Mutation_Status', 'Sequencing_Phase',\n",
      "       'Validation_Method'],\n",
      "      dtype='object')\n",
      "[2] Got 4918 mutations and 21 common columns\n",
      "Lost 71 columns reading ../data/cancer/TCGA/downloads/2d5adafa-f7a8-4f60-9716-76eec87e14cb/ucsc.edu_UVM.IlluminaGA_DNASeq_automated.Level_2.1.0.0.somatic.maf\n",
      "Lost columns: ['Start_position', 'End_position', 'Match_Norm_Seq_Allele1', 'Match_Norm_Seq_Allele2', 'Tumor_Validation_Allele1', 'Tumor_Validation_Allele2', 'Match_Norm_Validation_Allele1', 'Match_Norm_Validation_Allele2', 'Verification_Status', 'Sequence_Source', 'Score', 'BAM_file', 'Sequencer', 'Tumor_Sample_UUID', 'Matched_Norm_Sample_UUID', 'Genome_Change', 'Annotation_Transcript', 'Transcript_Strand', 'Transcript_Exon', 'Transcript_Position', 'cDNA_Change', 'Codon_Change', 'Protein_Change', 'Other_Transcripts', 'Refseq_mRNA_Id', 'Refseq_prot_Id', 'SwissProt_acc_Id', 'SwissProt_entry_Id', 'Description', 'UniProt_AApos', 'UniProt_Region', 'UniProt_Site', 'UniProt_Natural_Variations', 'UniProt_Experimental_Info', 'GO_Biological_Process', 'GO_Cellular_Component', 'GO_Molecular_Function', 'COSMIC_overlapping_mutations', 'COSMIC_fusion_genes', 'COSMIC_tissue_types_affected', 'COSMIC_total_alterations_in_gene', 'Tumorscape_Amplification_Peaks', 'Tumorscape_Deletion_Peaks', 'TCGAscape_Amplification_Peaks', 'TCGAscape_Deletion_Peaks', 'DrugBank', 'ref_context', 'gc_content', 'CCLE_ONCOMAP_overlapping_mutations', 'CCLE_ONCOMAP_total_mutations_in_gene', 'CGC_Mutation_Type', 'CGC_Translocation_Partner', 'CGC_Tumor_Types_Somatic', 'CGC_Tumor_Types_Germline', 'CGC_Other_Diseases', 'DNARepairGenes_Role', 'FamilialCancerDatabase_Syndromes', 'MUTSIG_Published_Results', 'OREGANNO_ID', 'OREGANNO_Values', 't_alt_count', 't_ref_count', 'validation_alt_allele', 'validation_method', 'validation_status', 'validation_tumor_sample', 'pox', 'qox', 'pox_cutoff', 'isArtifactMode', 'oxoGCut']\n",
      "New Maf cols: Index(['Hugo_Symbol', 'Entrez_Gene_Id', 'Center', 'NCBI_Build', 'Chromosome',\n",
      "       'Start_Position', 'End_Position', 'Strand', 'Variant_Classification',\n",
      "       'Variant_Type', 'Reference_Allele', 'Tumor_Seq_Allele1',\n",
      "       'Tumor_Seq_Allele2', 'dbSNP_RS', 'dbSNP_Val_Status',\n",
      "       'Tumor_Sample_Barcode', 'Matched_Norm_Sample_Barcode',\n",
      "       'Match_Norm_Seq_Allele1', 'Match_Norm_Seq_Allele2',\n",
      "       'Tumor_Validation_Allele1', 'Tumor_Validation_Allele2',\n",
      "       'Match_Norm_Validation_Allele1', 'Match_Norm_Validation_Allele2',\n",
      "       'Verification_Status', 'Validation_Status', 'Mutation_Status',\n",
      "       'Sequencing_Phase', 'Sequence_Source', 'Validation_Method', 'Score',\n",
      "       'BAM_File', 'Sequencer', 'Tumor_Sample_UUID',\n",
      "       'Matched_Norm_Sample_UUID', 'RNA_Tumor_Sample_Barcode',\n",
      "       'RNA_Tumor_Sample_UUID', 'RNA_Tumor_Seq_Allele1',\n",
      "       'RNA_Tumor_Seq_Allele2', 'RNA_Normal_Sample_Barcode',\n",
      "       'RNA_Normal_Sample_UUID', 'RNA_Normal_Seq_Allele1',\n",
      "       'RNA_Normal_Seq_Allele2', 'Match_Norm_Ref_Count',\n",
      "       'Match_Norm_Alt_Count', 'Tumor_Ref_Count', 'Tumor_Alt_Count',\n",
      "       'RNA_Norm_Ref_Count', 'RNA_Norm_Alt_Count', 'RNA_Tumor_Ref_Count',\n",
      "       'RNA_Tumor_Alt_Count'],\n",
      "      dtype='object')\n",
      "Old MAF cols: Index(['Hugo_Symbol', 'Entrez_Gene_Id', 'Center', 'NCBI_Build', 'Chromosome',\n",
      "       'Start_position', 'End_position', 'Strand', 'Variant_Classification',\n",
      "       'Tumor_Seq_Allele1', 'Tumor_Seq_Allele2', 'dbSNP_RS',\n",
      "       'dbSNP_Val_Status', 'Variant_Type', 'Reference_Allele',\n",
      "       'Tumor_Sample_Barcode', 'Matched_Norm_Sample_Barcode',\n",
      "       'Validation_Status', 'Mutation_Status', 'Sequencing_Phase',\n",
      "       'Validation_Method'],\n",
      "      dtype='object')\n",
      "Join MAF cols: Index(['Hugo_Symbol', 'Entrez_Gene_Id', 'Center', 'NCBI_Build', 'Chromosome',\n",
      "       'Strand', 'Variant_Classification', 'Variant_Type', 'Reference_Allele',\n",
      "       'Tumor_Seq_Allele1', 'Tumor_Seq_Allele2', 'dbSNP_RS',\n",
      "       'dbSNP_Val_Status', 'Tumor_Sample_Barcode',\n",
      "       'Matched_Norm_Sample_Barcode', 'Validation_Status', 'Mutation_Status',\n",
      "       'Sequencing_Phase', 'Validation_Method'],\n",
      "      dtype='object')\n",
      "[3] Got 6493 mutations and 19 common columns\n",
      "File contains not all columns needed or is empty ../data/cancer/TCGA/downloads/608c8237-eb00-488b-be43-630d6b09a417/hgsc.bcm.edu_OV.ABI.1.somatic.maf\n",
      "[4] Got 6493 mutations and 19 common columns\n",
      "Lost 3 columns reading ../data/cancer/TCGA/downloads/9e660e62-9768-4f75-9c1d-07dbe2651af1/broad.mit.edu_OV.ABI.2.somatic.maf\n",
      "Lost columns: ['Center', 'Start_position', 'End_position']\n",
      "New Maf cols: Index(['Hugo_Symbol', 'Entrez_Gene_Id', 'GSC_Center', 'NCBI_Build',\n",
      "       'Chromosome', 'Start_position', 'End_position', 'Strand',\n",
      "       'Variant_Classification', 'Variant_Type', 'Reference_Allele',\n",
      "       'Tumor_Seq_Allele1', 'Tumor_Seq_Allele2', 'dbSNP_RS',\n",
      "       'dbSNP_Val_Status', 'Tumor_Sample_Barcode',\n",
      "       'Matched_Norm_Sample_Barcode', 'Match_Norm_Seq_Allele1',\n",
      "       'Match_Norm_Seq_Allele2', 'Tumor_Validation_Allele1',\n",
      "       'Tumor_Validation_Allele2', 'Match_Norm_Validation_Allele1',\n",
      "       'Match_Norm_Validation_Allele2', 'Verification_Status',\n",
      "       'Validation_Status', 'Mutation_Status', 'Validation_Method',\n",
      "       'Sequencing_Phase'],\n",
      "      dtype='object')\n",
      "Old MAF cols: Index(['Hugo_Symbol', 'Entrez_Gene_Id', 'Center', 'NCBI_Build', 'Chromosome',\n",
      "       'Strand', 'Variant_Classification', 'Variant_Type', 'Reference_Allele',\n",
      "       'Tumor_Seq_Allele1', 'Tumor_Seq_Allele2', 'dbSNP_RS',\n",
      "       'dbSNP_Val_Status', 'Tumor_Sample_Barcode',\n",
      "       'Matched_Norm_Sample_Barcode', 'Validation_Status', 'Mutation_Status',\n",
      "       'Sequencing_Phase', 'Validation_Method'],\n",
      "      dtype='object')\n",
      "Join MAF cols: Index(['Hugo_Symbol', 'Entrez_Gene_Id', 'NCBI_Build', 'Chromosome', 'Strand',\n",
      "       'Variant_Classification', 'Variant_Type', 'Reference_Allele',\n",
      "       'Tumor_Seq_Allele1', 'Tumor_Seq_Allele2', 'dbSNP_RS',\n",
      "       'dbSNP_Val_Status', 'Tumor_Sample_Barcode',\n",
      "       'Matched_Norm_Sample_Barcode', 'Validation_Status', 'Mutation_Status',\n",
      "       'Validation_Method', 'Sequencing_Phase'],\n",
      "      dtype='object')\n",
      "[5] Got 6560 mutations and 18 common columns\n",
      "Lost 1 columns reading ../data/cancer/TCGA/downloads/68d30cc7-ca55-4c8b-a426-92549e465e9a/ucsc.edu_THYM.IlluminaGA_DNASeq_automated.Level_2.1.0.0.somatic.maf\n",
      "Lost columns: ['Center']\n",
      "New Maf cols: Index(['Hugo_Symbol', 'Entrez_Gene_Id', 'Center', 'NCBI_Build', 'Chromosome',\n",
      "       'Start_Position', 'End_Position', 'Strand', 'Variant_Classification',\n",
      "       'Variant_Type', 'Reference_Allele', 'Tumor_Seq_Allele1',\n",
      "       'Tumor_Seq_Allele2', 'dbSNP_RS', 'dbSNP_Val_Status',\n",
      "       'Tumor_Sample_Barcode', 'Matched_Norm_Sample_Barcode',\n",
      "       'Match_Norm_Seq_Allele1', 'Match_Norm_Seq_Allele2',\n",
      "       'Tumor_Validation_Allele1', 'Tumor_Validation_Allele2',\n",
      "       'Match_Norm_Validation_Allele1', 'Match_Norm_Validation_Allele2',\n",
      "       'Verification_Status', 'Validation_Status', 'Mutation_Status',\n",
      "       'Sequencing_Phase', 'Sequence_Source', 'Validation_Method', 'Score',\n",
      "       'BAM_File', 'Sequencer', 'Tumor_Sample_UUID',\n",
      "       'Matched_Norm_Sample_UUID', 'RNA_Tumor_Sample_Barcode',\n",
      "       'RNA_Tumor_Sample_UUID', 'RNA_Tumor_Seq_Allele1',\n",
      "       'RNA_Tumor_Seq_Allele2', 'RNA_Normal_Sample_Barcode',\n",
      "       'RNA_Normal_Sample_UUID', 'RNA_Normal_Seq_Allele1',\n",
      "       'RNA_Normal_Seq_Allele2', 'Match_Norm_Ref_Count',\n",
      "       'Match_Norm_Alt_Count', 'Tumor_Ref_Count', 'Tumor_Alt_Count',\n",
      "       'RNA_Norm_Ref_Count', 'RNA_Norm_Alt_Count', 'RNA_Tumor_Ref_Count',\n",
      "       'RNA_Tumor_Alt_Count'],\n",
      "      dtype='object')\n",
      "Old MAF cols: Index(['Hugo_Symbol', 'Entrez_Gene_Id', 'NCBI_Build', 'Chromosome', 'Strand',\n",
      "       'Variant_Classification', 'Variant_Type', 'Reference_Allele',\n",
      "       'Tumor_Seq_Allele1', 'Tumor_Seq_Allele2', 'dbSNP_RS',\n",
      "       'dbSNP_Val_Status', 'Tumor_Sample_Barcode',\n",
      "       'Matched_Norm_Sample_Barcode', 'Validation_Status', 'Mutation_Status',\n",
      "       'Validation_Method', 'Sequencing_Phase'],\n",
      "      dtype='object')\n",
      "Join MAF cols: Index(['Hugo_Symbol', 'Entrez_Gene_Id', 'NCBI_Build', 'Chromosome', 'Strand',\n",
      "       'Variant_Classification', 'Variant_Type', 'Reference_Allele',\n",
      "       'Tumor_Seq_Allele1', 'Tumor_Seq_Allele2', 'dbSNP_RS',\n",
      "       'dbSNP_Val_Status', 'Tumor_Sample_Barcode',\n",
      "       'Matched_Norm_Sample_Barcode', 'Validation_Status', 'Mutation_Status',\n",
      "       'Sequencing_Phase', 'Validation_Method'],\n",
      "      dtype='object')\n",
      "[6] Got 11537 mutations and 18 common columns\n",
      "[7] Got 18995 mutations and 18 common columns\n",
      "[8] Got 47822 mutations and 18 common columns\n",
      "[9] Got 51657 mutations and 18 common columns\n",
      "[10] Got 73823 mutations and 18 common columns\n"
     ]
    },
    {
     "name": "stderr",
     "output_type": "stream",
     "text": [
      "/pkg/python-3.6.0-0/lib/python3.6/site-packages/IPython/core/interactiveshell.py:2717: DtypeWarning: Columns (86,87) have mixed types. Specify dtype option on import or set low_memory=False.\n",
      "  interactivity=interactivity, compiler=compiler, result=result)\n"
     ]
    },
    {
     "name": "stdout",
     "output_type": "stream",
     "text": [
      "[11] Got 113135 mutations and 18 common columns\n",
      "[12] Got 116199 mutations and 18 common columns\n"
     ]
    },
    {
     "name": "stderr",
     "output_type": "stream",
     "text": [
      "/pkg/python-3.6.0-0/lib/python3.6/site-packages/IPython/core/interactiveshell.py:2717: DtypeWarning: Columns (38,50,81,82,83,84) have mixed types. Specify dtype option on import or set low_memory=False.\n",
      "  interactivity=interactivity, compiler=compiler, result=result)\n"
     ]
    },
    {
     "name": "stdout",
     "output_type": "stream",
     "text": [
      "[13] Got 127600 mutations and 18 common columns\n",
      "[14] Got 131155 mutations and 18 common columns\n"
     ]
    },
    {
     "name": "stderr",
     "output_type": "stream",
     "text": [
      "/pkg/python-3.6.0-0/lib/python3.6/site-packages/IPython/core/interactiveshell.py:2717: DtypeWarning: Columns (81,82,83,84) have mixed types. Specify dtype option on import or set low_memory=False.\n",
      "  interactivity=interactivity, compiler=compiler, result=result)\n"
     ]
    },
    {
     "name": "stdout",
     "output_type": "stream",
     "text": [
      "[15] Got 182954 mutations and 18 common columns\n",
      "[16] Got 201832 mutations and 18 common columns\n",
      "[17] Got 204463 mutations and 18 common columns\n",
      "[18] Got 229594 mutations and 18 common columns\n"
     ]
    },
    {
     "name": "stderr",
     "output_type": "stream",
     "text": [
      "/pkg/python-3.6.0-0/lib/python3.6/site-packages/IPython/core/interactiveshell.py:2717: DtypeWarning: Columns (82,83,84,85) have mixed types. Specify dtype option on import or set low_memory=False.\n",
      "  interactivity=interactivity, compiler=compiler, result=result)\n"
     ]
    },
    {
     "name": "stdout",
     "output_type": "stream",
     "text": [
      "[19] Got 302135 mutations and 18 common columns\n",
      "[20] Got 330555 mutations and 18 common columns\n"
     ]
    },
    {
     "name": "stderr",
     "output_type": "stream",
     "text": [
      "/pkg/python-3.6.0-0/lib/python3.6/site-packages/IPython/core/interactiveshell.py:2717: DtypeWarning: Columns (38,81,82,83,84) have mixed types. Specify dtype option on import or set low_memory=False.\n",
      "  interactivity=interactivity, compiler=compiler, result=result)\n"
     ]
    },
    {
     "name": "stdout",
     "output_type": "stream",
     "text": [
      "[21] Got 342918 mutations and 18 common columns\n",
      "[22] Got 405978 mutations and 18 common columns\n",
      "[23] Got 423720 mutations and 18 common columns\n"
     ]
    },
    {
     "name": "stderr",
     "output_type": "stream",
     "text": [
      "/pkg/python-3.6.0-0/lib/python3.6/site-packages/IPython/core/interactiveshell.py:2717: DtypeWarning: Columns (38,50,67,81,82,83,84) have mixed types. Specify dtype option on import or set low_memory=False.\n",
      "  interactivity=interactivity, compiler=compiler, result=result)\n"
     ]
    },
    {
     "name": "stdout",
     "output_type": "stream",
     "text": [
      "[24] Got 440671 mutations and 18 common columns\n",
      "[25] Got 487914 mutations and 18 common columns\n",
      "[26] Got 504832 mutations and 18 common columns\n",
      "[27] Got 507895 mutations and 18 common columns\n",
      "[28] Got 510480 mutations and 18 common columns\n",
      "[29] Got 518366 mutations and 18 common columns\n",
      "[30] Got 572408 mutations and 18 common columns\n",
      "[31] Got 601128 mutations and 18 common columns\n",
      "[32] Got 671175 mutations and 18 common columns\n",
      "[33] Got 675820 mutations and 18 common columns\n",
      "[34] Got 698746 mutations and 18 common columns\n"
     ]
    },
    {
     "name": "stderr",
     "output_type": "stream",
     "text": [
      "/pkg/python-3.6.0-0/lib/python3.6/site-packages/IPython/core/interactiveshell.py:2717: DtypeWarning: Columns (38,50,67,79,81,82,84) have mixed types. Specify dtype option on import or set low_memory=False.\n",
      "  interactivity=interactivity, compiler=compiler, result=result)\n"
     ]
    },
    {
     "name": "stdout",
     "output_type": "stream",
     "text": [
      "[35] Got 726491 mutations and 18 common columns\n"
     ]
    },
    {
     "name": "stderr",
     "output_type": "stream",
     "text": [
      "/pkg/python-3.6.0-0/lib/python3.6/site-packages/IPython/core/interactiveshell.py:2717: DtypeWarning: Columns (54) have mixed types. Specify dtype option on import or set low_memory=False.\n",
      "  interactivity=interactivity, compiler=compiler, result=result)\n"
     ]
    },
    {
     "name": "stdout",
     "output_type": "stream",
     "text": [
      "[36] Got 735640 mutations and 18 common columns\n"
     ]
    },
    {
     "name": "stderr",
     "output_type": "stream",
     "text": [
      "/pkg/python-3.6.0-0/lib/python3.6/site-packages/IPython/core/interactiveshell.py:2717: DtypeWarning: Columns (4,38,57,63,74,78) have mixed types. Specify dtype option on import or set low_memory=False.\n",
      "  interactivity=interactivity, compiler=compiler, result=result)\n"
     ]
    },
    {
     "name": "stdout",
     "output_type": "stream",
     "text": [
      "[37] Got 765997 mutations and 18 common columns\n",
      "[38] Got 775434 mutations and 18 common columns\n",
      "[39] Got 779960 mutations and 18 common columns\n",
      "[40] Got 795545 mutations and 18 common columns\n",
      "[41] Got 814518 mutations and 18 common columns\n",
      "[42] Got 874158 mutations and 18 common columns\n",
      "[43] Got 900046 mutations and 18 common columns\n",
      "[44] Got 929654 mutations and 18 common columns\n",
      "Exception occured while reading ../data/cancer/TCGA/downloads/0aaab448-a53f-4c40-a7d5-3e9e3e7ccc6e/SKCM_pairs.aggregated.capture.tcga.uuid.automated.somatic.maf... Skipping!\n",
      "[44] Got 929654 mutations and 18 common columns\n",
      "[45] Got 932407 mutations and 18 common columns\n",
      "[46] Got 938578 mutations and 18 common columns\n",
      "Exception occured while reading ../data/cancer/TCGA/downloads/2ec6bad8-3dba-4c5d-9fda-8074ab960b1b/genome.wustl.edu_STAD.IlluminaHiSeq_DNASeq_automated.1.3.0.somatic.maf... Skipping!\n",
      "[46] Got 938578 mutations and 18 common columns\n",
      "[47] Got 1036511 mutations and 18 common columns\n",
      "[48] Got 1047439 mutations and 18 common columns\n",
      "[49] Got 1060468 mutations and 18 common columns\n",
      "[50] Got 1064837 mutations and 18 common columns\n",
      "[51] Got 1100106 mutations and 18 common columns\n",
      "Exception occured while reading ../data/cancer/TCGA/downloads/9218c7f6-b78d-45ef-9dcc-eecff55784cd/PR_TCGA_LUAD_PAIR_Capture_All_Pairs_QCPASS_v3.aggregated.capture.tcga.uuid.somatic.maf... Skipping!\n",
      "[51] Got 1100106 mutations and 18 common columns\n",
      "[52] Got 1127827 mutations and 18 common columns\n",
      "[53] Got 1135386 mutations and 18 common columns\n",
      "Exception occured while reading ../data/cancer/TCGA/downloads/5852b5d1-c26a-48e4-a740-31a957cf023d/gsc_OV_pairs.aggregated.capture.tcga.uuid.automated.somatic.maf... Skipping!\n",
      "[53] Got 1135386 mutations and 18 common columns\n"
     ]
    },
    {
     "name": "stderr",
     "output_type": "stream",
     "text": [
      "/pkg/python-3.6.0-0/lib/python3.6/site-packages/IPython/core/interactiveshell.py:2717: DtypeWarning: Columns (19,20,21,22) have mixed types. Specify dtype option on import or set low_memory=False.\n",
      "  interactivity=interactivity, compiler=compiler, result=result)\n"
     ]
    },
    {
     "name": "stdout",
     "output_type": "stream",
     "text": [
      "[54] Got 1174079 mutations and 18 common columns\n",
      "[55] Got 1194215 mutations and 18 common columns\n",
      "[56] Got 1210123 mutations and 18 common columns\n",
      "Exception occured while reading ../data/cancer/TCGA/downloads/42084331-06c4-42c6-8d40-a1a89141c809/step4_LUSC_Paper_v8.aggregated.tcga.maf2.4.migrated.somatic.maf... Skipping!\n",
      "[56] Got 1210123 mutations and 18 common columns\n",
      "Exception occured while reading ../data/cancer/TCGA/downloads/d7e90ea9-49b5-4efc-9f78-bd5244cd6367/gsc_LUSC_pairs.aggregated.capture.tcga.uuid.automated.somatic.maf... Skipping!\n",
      "[56] Got 1210123 mutations and 18 common columns\n",
      "[57] Got 1257366 mutations and 18 common columns\n",
      "[58] Got 1303243 mutations and 18 common columns\n",
      "[59] Got 1312895 mutations and 18 common columns\n",
      "[60] Got 1354467 mutations and 18 common columns\n"
     ]
    },
    {
     "name": "stderr",
     "output_type": "stream",
     "text": [
      "/pkg/python-3.6.0-0/lib/python3.6/site-packages/IPython/core/interactiveshell.py:2717: DtypeWarning: Columns (38,67,81,82,83,84) have mixed types. Specify dtype option on import or set low_memory=False.\n",
      "  interactivity=interactivity, compiler=compiler, result=result)\n"
     ]
    },
    {
     "name": "stdout",
     "output_type": "stream",
     "text": [
      "[61] Got 1385997 mutations and 18 common columns\n",
      "[62] Got 1393554 mutations and 18 common columns\n",
      "[63] Got 1447331 mutations and 18 common columns\n"
     ]
    },
    {
     "name": "stderr",
     "output_type": "stream",
     "text": [
      "/pkg/python-3.6.0-0/lib/python3.6/site-packages/IPython/core/interactiveshell.py:2717: DtypeWarning: Columns (38,39,40,41) have mixed types. Specify dtype option on import or set low_memory=False.\n",
      "  interactivity=interactivity, compiler=compiler, result=result)\n"
     ]
    },
    {
     "name": "stdout",
     "output_type": "stream",
     "text": [
      "[64] Got 1467990 mutations and 18 common columns\n",
      "Exception occured while reading ../data/cancer/TCGA/downloads/059c40fa-f329-46dc-a095-d0cb23bc7342/HNSC_pairs.aggregated.capture.tcga.uuid.automated.somatic.maf... Skipping!\n",
      "[64] Got 1467990 mutations and 18 common columns\n"
     ]
    },
    {
     "name": "stderr",
     "output_type": "stream",
     "text": [
      "/pkg/python-3.6.0-0/lib/python3.6/site-packages/IPython/core/interactiveshell.py:2717: DtypeWarning: Columns (50,67,79,80,81) have mixed types. Specify dtype option on import or set low_memory=False.\n",
      "  interactivity=interactivity, compiler=compiler, result=result)\n"
     ]
    },
    {
     "name": "stdout",
     "output_type": "stream",
     "text": [
      "[65] Got 1541998 mutations and 18 common columns\n",
      "[66] Got 1590195 mutations and 18 common columns\n",
      "[67] Got 1598385 mutations and 18 common columns\n",
      "[68] Got 1618143 mutations and 18 common columns\n",
      "[69] Got 1624850 mutations and 18 common columns\n"
     ]
    },
    {
     "name": "stderr",
     "output_type": "stream",
     "text": [
      "/pkg/python-3.6.0-0/lib/python3.6/site-packages/IPython/core/interactiveshell.py:2717: DtypeWarning: Columns (48,50,67) have mixed types. Specify dtype option on import or set low_memory=False.\n",
      "  interactivity=interactivity, compiler=compiler, result=result)\n"
     ]
    },
    {
     "name": "stdout",
     "output_type": "stream",
     "text": [
      "[70] Got 1773370 mutations and 18 common columns\n",
      "[71] Got 1788042 mutations and 18 common columns\n",
      "[72] Got 1801171 mutations and 18 common columns\n",
      "[73] Got 1829384 mutations and 18 common columns\n"
     ]
    },
    {
     "name": "stderr",
     "output_type": "stream",
     "text": [
      "/pkg/python-3.6.0-0/lib/python3.6/site-packages/IPython/core/interactiveshell.py:2717: DtypeWarning: Columns (67,81,82,83,84) have mixed types. Specify dtype option on import or set low_memory=False.\n",
      "  interactivity=interactivity, compiler=compiler, result=result)\n"
     ]
    },
    {
     "name": "stdout",
     "output_type": "stream",
     "text": [
      "[74] Got 1839404 mutations and 18 common columns\n",
      "[75] Got 1850319 mutations and 18 common columns\n",
      "[76] Got 1855678 mutations and 18 common columns\n"
     ]
    },
    {
     "name": "stderr",
     "output_type": "stream",
     "text": [
      "/pkg/python-3.6.0-0/lib/python3.6/site-packages/IPython/core/interactiveshell.py:2717: DtypeWarning: Columns (4) have mixed types. Specify dtype option on import or set low_memory=False.\n",
      "  interactivity=interactivity, compiler=compiler, result=result)\n"
     ]
    },
    {
     "name": "stdout",
     "output_type": "stream",
     "text": [
      "[77] Got 2040539 mutations and 18 common columns\n",
      "[78] Got 2050424 mutations and 18 common columns\n",
      "[79] Got 2056866 mutations and 18 common columns\n",
      "[80] Got 2063621 mutations and 18 common columns\n",
      "[81] Got 2068283 mutations and 18 common columns\n",
      "[82] Got 2093286 mutations and 18 common columns\n",
      "[83] Got 2208643 mutations and 18 common columns\n",
      "[84] Got 2236535 mutations and 18 common columns\n",
      "[85] Got 2421396 mutations and 18 common columns\n",
      "[86] Got 2425631 mutations and 18 common columns\n",
      "[87] Got 2445797 mutations and 18 common columns\n",
      "[88] Got 2454022 mutations and 18 common columns\n",
      "Exception occured while reading ../data/cancer/TCGA/downloads/35fd32b4-e725-4c6b-9711-5dc43dcc0cee/gsc_KIRC_pairs.aggregated.capture.tcga.uuid.automated.somatic.maf... Skipping!\n",
      "[88] Got 2454022 mutations and 18 common columns\n",
      "[89] Got 2478141 mutations and 18 common columns\n",
      "[90] Got 2546762 mutations and 18 common columns\n"
     ]
    },
    {
     "name": "stderr",
     "output_type": "stream",
     "text": [
      "/pkg/python-3.6.0-0/lib/python3.6/site-packages/IPython/core/interactiveshell.py:2717: DtypeWarning: Columns (38,50,79,81,82,84) have mixed types. Specify dtype option on import or set low_memory=False.\n",
      "  interactivity=interactivity, compiler=compiler, result=result)\n"
     ]
    },
    {
     "name": "stdout",
     "output_type": "stream",
     "text": [
      "[91] Got 2556791 mutations and 18 common columns\n",
      "Exception occured while reading ../data/cancer/TCGA/downloads/7abdba45-acfd-4e8d-a297-3f4af85362ad/gsc_GBM_pairs.aggregated.capture.tcga.uuid.automated.somatic.maf... Skipping!\n",
      "[91] Got 2556791 mutations and 18 common columns\n",
      "[92] Got 2565368 mutations and 18 common columns\n",
      "[93] Got 2575119 mutations and 18 common columns\n",
      "[94] Got 2625374 mutations and 18 common columns\n",
      "Exception occured while reading ../data/cancer/TCGA/downloads/b2e25bdf-f2b5-4a37-b330-05251ea09f2c/gsc_LUAD_pairs.aggregated.capture.tcga.uuid.automated.somatic.maf... Skipping!\n",
      "[94] Got 2625374 mutations and 18 common columns\n"
     ]
    },
    {
     "name": "stderr",
     "output_type": "stream",
     "text": [
      "/pkg/python-3.6.0-0/lib/python3.6/site-packages/IPython/core/interactiveshell.py:2717: DtypeWarning: Columns (38,67,79,81,82,84) have mixed types. Specify dtype option on import or set low_memory=False.\n",
      "  interactivity=interactivity, compiler=compiler, result=result)\n"
     ]
    },
    {
     "name": "stdout",
     "output_type": "stream",
     "text": [
      "[95] Got 2652689 mutations and 18 common columns\n",
      "[96] Got 2761946 mutations and 18 common columns\n",
      "[97] Got 2894358 mutations and 18 common columns\n",
      "Exception occured while reading ../data/cancer/TCGA/downloads/87ac6b5b-806e-4de0-b8d8-ae6888759667/gsc_BRCA_pairs.aggregated.capture.tcga.uuid.automated.somatic.maf... Skipping!\n",
      "[97] Got 2894358 mutations and 18 common columns\n",
      "File contains not all columns needed or is empty ../data/cancer/TCGA/downloads/7e05d87e-966c-4321-84b0-19983dddcf8a/hgsc.bcm.edu_GBM.ABI.1.somatic.maf\n",
      "[98] Got 2894358 mutations and 18 common columns\n",
      "Exception occured while reading ../data/cancer/TCGA/downloads/1cc660a2-7c88-4ce5-8dad-8f8ba0115694/step4_An_UCEC_194.aggregated.tcga.maf2.4.migrated.somatic.maf... Skipping!\n",
      "[98] Got 2894358 mutations and 18 common columns\n",
      "[99] Got 2905700 mutations and 18 common columns\n",
      "Exception occured while reading ../data/cancer/TCGA/downloads/15ce66c6-0211-4f03-bd41-568d0818a044/gsc_LIHC_pairs.aggregated.capture.tcga.uuid.automated.somatic.maf... Skipping!\n",
      "[99] Got 2905700 mutations and 18 common columns\n",
      "[100] Got 2948885 mutations and 18 common columns\n",
      "[101] Got 2988749 mutations and 18 common columns\n",
      "[102] Got 3013270 mutations and 18 common columns\n",
      "[103] Got 3015714 mutations and 18 common columns\n",
      "[104] Got 3019310 mutations and 18 common columns\n",
      "[105] Got 3021810 mutations and 18 common columns\n",
      "Exception occured while reading ../data/cancer/TCGA/downloads/1c0382a7-c3ca-40fd-ba3c-029c4529214f/gsc_BLCA_pairs.aggregated.capture.tcga.uuid.automated.somatic.maf... Skipping!\n",
      "[105] Got 3021810 mutations and 18 common columns\n",
      "Exception occured while reading ../data/cancer/TCGA/downloads/2c5be287-97cd-4466-8662-796fa00bb0ff/gsc_UCEC_pairs.aggregated.capture.tcga.uuid.automated.somatic.maf... Skipping!\n",
      "[105] Got 3021810 mutations and 18 common columns\n",
      "[106] Got 3028252 mutations and 18 common columns\n",
      "[107] Got 3048351 mutations and 18 common columns\n",
      "[108] Got 3050936 mutations and 18 common columns\n",
      "[109] Got 3053452 mutations and 18 common columns\n",
      "Lost 2 columns reading ../data/cancer/TCGA/downloads/9adf3f6d-5ad3-42a8-a0f9-cb5f241d2322/genome.wustl.edu_GBM.ABI.53.somatic.maf\n",
      "Lost columns: ['Validation_Method', 'Sequencing_Phase']\n",
      "New Maf cols: Index(['Hugo_Symbol', 'Entrez_Gene_Id', 'Center', 'NCBI_Build', 'Chromosome',\n",
      "       'Start_position', 'End_position', 'Strand', 'Variant_Classification',\n",
      "       'Variant_Type', 'Reference_Allele', 'Tumor_Seq_Allele1',\n",
      "       'Tumor_Seq_Allele2', 'dbSNP_RS', 'dbSNP_Val_Status',\n",
      "       'Tumor_Sample_Barcode', 'Matched_Norm_Sample_Barcode',\n",
      "       'Match_Norm_Seq_Allele1', 'Match_Norm_Seq_Allele2',\n",
      "       'Tumor_Validation_Allele1', 'Tumor_Validation_Allele2',\n",
      "       'Match_Norm_Validation_Allele1', 'Match_Norm_Validation_Allele2',\n",
      "       'Verification_Status', 'Validation_Status', 'Mutation_Status',\n",
      "       'Comments'],\n",
      "      dtype='object')\n",
      "Old MAF cols: Index(['Hugo_Symbol', 'Entrez_Gene_Id', 'NCBI_Build', 'Chromosome', 'Strand',\n",
      "       'Variant_Classification', 'Variant_Type', 'Reference_Allele',\n",
      "       'Tumor_Seq_Allele1', 'Tumor_Seq_Allele2', 'dbSNP_RS',\n",
      "       'dbSNP_Val_Status', 'Tumor_Sample_Barcode',\n",
      "       'Matched_Norm_Sample_Barcode', 'Validation_Status', 'Mutation_Status',\n",
      "       'Sequencing_Phase', 'Validation_Method'],\n",
      "      dtype='object')\n",
      "Join MAF cols: Index(['Hugo_Symbol', 'Entrez_Gene_Id', 'NCBI_Build', 'Chromosome', 'Strand',\n",
      "       'Variant_Classification', 'Variant_Type', 'Reference_Allele',\n",
      "       'Tumor_Seq_Allele1', 'Tumor_Seq_Allele2', 'dbSNP_RS',\n",
      "       'dbSNP_Val_Status', 'Tumor_Sample_Barcode',\n",
      "       'Matched_Norm_Sample_Barcode', 'Validation_Status', 'Mutation_Status'],\n",
      "      dtype='object')\n",
      "[110] Got 3055493 mutations and 16 common columns\n",
      "Lost 2 columns reading ../data/cancer/TCGA/downloads/e80cb61a-578b-4fb6-98bc-6b4c088415f3/gsc_STAD_pairs.aggregated.capture.tcga.uuid.automated.somatic.maf\n",
      "Lost columns: ['Sequencing_Phase', 'Validation_Method']\n",
      "New Maf cols: Index(['Hugo_Symbol', 'Entrez_Gene_Id', 'Center', 'NCBI_Build', 'Chromosome',\n",
      "       'Start_position', 'End_position', 'Strand', 'Variant_Classification',\n",
      "       'Variant_Type', 'Reference_Allele', 'Tumor_Seq_Allele1',\n",
      "       'Tumor_Seq_Allele2', 'dbSNP_RS', 'dbSNP_Val_Status',\n",
      "       'Tumor_Sample_Barcode', 'Matched_Norm_Sample_Barcode',\n",
      "       'Match_Norm_Seq_Allele1', 'Match_Norm_Seq_Allele2',\n",
      "       'Tumor_Validation_Allele1', 'Tumor_Validation_Allele2',\n",
      "       'Match_Norm_Validation_Allele1', 'Match_Norm_Validation_Allele2',\n",
      "       'Verification_Status', 'Validation_Status', 'Mutation_Status',\n",
      "       'Sequencing_Phase', 'Sequence_Source', 'Validation_Method', 'Score',\n",
      "       'BAM_file', 'Sequencer', 'Tumor_Sample_UUID',\n",
      "       'Matched_Norm_Sample_UUID', 'Genome_Change', 'Annotation_Transcript',\n",
      "       'Transcript_Strand', 'Transcript_Exon', 'Transcript_Position',\n",
      "       'cDNA_Change', 'Codon_Change', 'Protein_Change', 'Other_Transcripts',\n",
      "       'Refseq_mRNA_Id', 'Refseq_prot_Id', 'SwissProt_acc_Id',\n",
      "       'SwissProt_entry_Id', 'Description', 'UniProt_AApos', 'UniProt_Region',\n",
      "       'UniProt_Site', 'UniProt_Natural_Variations',\n",
      "       'UniProt_Experimental_Info', 'GO_Biological_Process',\n",
      "       'GO_Cellular_Component', 'GO_Molecular_Function',\n",
      "       'COSMIC_overlapping_mutations', 'COSMIC_fusion_genes',\n",
      "       'COSMIC_tissue_types_affected', 'COSMIC_total_alterations_in_gene',\n",
      "       'Tumorscape_Amplification_Peaks', 'Tumorscape_Deletion_Peaks',\n",
      "       'TCGAscape_Amplification_Peaks', 'TCGAscape_Deletion_Peaks', 'DrugBank',\n",
      "       'ref_context', 'gc_content', 'CCLE_ONCOMAP_overlapping_mutations',\n",
      "       'CCLE_ONCOMAP_total_mutations_in_gene', 'CGC_Mutation_Type',\n",
      "       'CGC_Translocation_Partner', 'CGC_Tumor_Types_Somatic',\n",
      "       'CGC_Tumor_Types_Germline', 'CGC_Other_Diseases', 'DNARepairGenes_Role',\n",
      "       'FamilialCancerDatabase_Syndromes', 'MUTSIG_Published_Results',\n",
      "       'OREGANNO_ID', 'OREGANNO_Values', 't_alt_count', 't_ref_count',\n",
      "       'validation_alt_allele', 'validation_method', 'validation_status',\n",
      "       'validation_tumor_sample', 'pox', 'qox', 'pox_cutoff', 'isArtifactMode',\n",
      "       'oxoGCut'],\n",
      "      dtype='object')\n",
      "Old MAF cols: Index(['Hugo_Symbol', 'Entrez_Gene_Id', 'NCBI_Build', 'Chromosome', 'Strand',\n",
      "       'Variant_Classification', 'Variant_Type', 'Reference_Allele',\n",
      "       'Tumor_Seq_Allele1', 'Tumor_Seq_Allele2', 'dbSNP_RS',\n",
      "       'dbSNP_Val_Status', 'Tumor_Sample_Barcode',\n",
      "       'Matched_Norm_Sample_Barcode', 'Validation_Status', 'Mutation_Status'],\n",
      "      dtype='object')\n",
      "Join MAF cols: Index(['Hugo_Symbol', 'Entrez_Gene_Id', 'NCBI_Build', 'Chromosome', 'Strand',\n",
      "       'Variant_Classification', 'Variant_Type', 'Reference_Allele',\n",
      "       'Tumor_Seq_Allele1', 'Tumor_Seq_Allele2', 'dbSNP_RS',\n",
      "       'dbSNP_Val_Status', 'Tumor_Sample_Barcode',\n",
      "       'Matched_Norm_Sample_Barcode', 'Validation_Status', 'Mutation_Status'],\n",
      "      dtype='object')\n",
      "[111] Got 3318200 mutations and 16 common columns\n",
      "Exception occured while reading ../data/cancer/TCGA/downloads/3437ecf9-355d-4d35-afb4-ffe1a705c206/gsc_COAD_pairs.aggregated.capture.tcga.uuid.automated.somatic.maf... Skipping!\n",
      "[111] Got 3318200 mutations and 16 common columns\n",
      "[112] Got 3340385 mutations and 16 common columns\n",
      "[113] Got 3344080 mutations and 16 common columns\n",
      "Exception occured while reading ../data/cancer/TCGA/downloads/7c3e8456-c39f-4292-8cc2-374b14c75446/gsc_READ_pairs.aggregated.capture.tcga.uuid.automated.somatic.maf... Skipping!\n",
      "[113] Got 3344080 mutations and 16 common columns\n",
      "[114] Got 3347637 mutations and 16 common columns\n"
     ]
    },
    {
     "name": "stderr",
     "output_type": "stream",
     "text": [
      "/pkg/python-3.6.0-0/lib/python3.6/site-packages/IPython/core/interactiveshell.py:2717: DtypeWarning: Columns (14) have mixed types. Specify dtype option on import or set low_memory=False.\n",
      "  interactivity=interactivity, compiler=compiler, result=result)\n"
     ]
    },
    {
     "name": "stdout",
     "output_type": "stream",
     "text": [
      "[115] Got 3381260 mutations and 16 common columns\n"
     ]
    },
    {
     "name": "stderr",
     "output_type": "stream",
     "text": [
      "/pkg/python-3.6.0-0/lib/python3.6/site-packages/IPython/core/interactiveshell.py:2717: DtypeWarning: Columns (50,67) have mixed types. Specify dtype option on import or set low_memory=False.\n",
      "  interactivity=interactivity, compiler=compiler, result=result)\n"
     ]
    },
    {
     "name": "stdout",
     "output_type": "stream",
     "text": [
      "[116] Got 3390913 mutations and 16 common columns\n",
      "[117] Got 3437460 mutations and 16 common columns\n",
      "[118] Got 3437536 mutations and 16 common columns\n",
      "[119] Got 3463236 mutations and 16 common columns\n",
      "[120] Got 3465024 mutations and 16 common columns\n",
      "[121] Got 3467277 mutations and 16 common columns\n",
      "[122] Got 3540139 mutations and 16 common columns\n",
      "[123] Got 3546447 mutations and 16 common columns\n",
      "[124] Got 3605049 mutations and 16 common columns\n"
     ]
    },
    {
     "name": "stderr",
     "output_type": "stream",
     "text": [
      "/pkg/python-3.6.0-0/lib/python3.6/site-packages/IPython/core/interactiveshell.py:2717: DtypeWarning: Columns (38,50) have mixed types. Specify dtype option on import or set low_memory=False.\n",
      "  interactivity=interactivity, compiler=compiler, result=result)\n"
     ]
    },
    {
     "name": "stdout",
     "output_type": "stream",
     "text": [
      "[125] Got 3617397 mutations and 16 common columns\n",
      "[126] Got 3707887 mutations and 16 common columns\n",
      "[127] Got 3717143 mutations and 16 common columns\n",
      "[128] Got 3719669 mutations and 16 common columns\n",
      "[129] Got 3722603 mutations and 16 common columns\n"
     ]
    },
    {
     "data": {
      "text/plain": [
       "130"
      ]
     },
     "execution_count": 77,
     "metadata": {},
     "output_type": "execute_result"
    }
   ],
   "source": [
    "count = 0\n",
    "maf_all = None\n",
    "col_names = None\n",
    "root_dir = '../data/pancancer/TCGA/downloads/'\n",
    "for subdir, d, files in os.walk(root_dir):\n",
    "    for fname in files:\n",
    "        if fname.endswith('.maf'):\n",
    "            p = os.path.join(subdir, fname)\n",
    "            if maf_all is None:\n",
    "                maf_all = pd.read_csv(p, sep='\\t', comment='#', header=0)\n",
    "                col_names = maf_all.columns\n",
    "            else:\n",
    "                print (\"[{}] Got {} mutations and {} common columns\".format(count, maf_all.shape[0], maf_all.shape[1]))\n",
    "                try:\n",
    "                    maf_new = pd.read_csv(p, sep='\\t', comment='#', header=0)\n",
    "                except:\n",
    "                    print (\"Exception occured while reading {}... Skipping!\".format(p))\n",
    "                    continue\n",
    "                if {'Hugo_Symbol', 'Variant_Classification', 'Tumor_Sample_Barcode'}.issubset(maf_new.columns):\n",
    "                    maf_join = pd.concat([maf_all, maf_new], ignore_index=True, join='inner')\n",
    "                    maf_join.dropna(axis=1, inplace=True, how='all') # remove stupid all-na columns\n",
    "                    if len(maf_join.columns) < len(col_names):\n",
    "                        print (\"Lost {} columns reading {}\".format(len(col_names)-maf_join.shape[1], p))\n",
    "                        print (\"Lost columns: {}\".format([c for c in col_names if not c in maf_join.columns]))\n",
    "                        print (\"New Maf cols: {}\".format(maf_new.columns))\n",
    "                        print (\"Old MAF cols: {}\".format(maf_all.columns))\n",
    "                        print (\"Join MAF cols: {}\".format(maf_join.columns))\n",
    "                        col_names = maf_all.columns\n",
    "                    maf_all = maf_join\n",
    "                else:\n",
    "                    print (\"File contains not all columns needed or is empty {}\".format(p))\n",
    "            count += 1\n",
    "count"
   ]
  },
  {
   "cell_type": "markdown",
   "metadata": {},
   "source": [
    "## Do Some Preprocessing\n",
    "After I now have one big DataFrame with all the MAF files concatenated, I want to clean it a little.\n",
    "\n",
    "I will do the following:\n",
    "* Remove all mutations without `Hugo_Symbol`. Mutations that are not in genes can't help me to compute mutation frequencies.\n",
    "* Remove duplicated rows. If a mutation is an exact duplicate of another, remove it."
   ]
  },
  {
   "cell_type": "code",
   "execution_count": 78,
   "metadata": {
    "collapsed": false
   },
   "outputs": [],
   "source": [
    "maf_no_nas = maf_all.loc[~maf_all.Hugo_Symbol.isnull()]"
   ]
  },
  {
   "cell_type": "code",
   "execution_count": 75,
   "metadata": {
    "collapsed": false
   },
   "outputs": [
    {
     "name": "stdout",
     "output_type": "stream",
     "text": [
      "Joined MAF contained 1859965 duplicates. Left with 1864774 out of 3724739 mutations\n"
     ]
    },
    {
     "name": "stderr",
     "output_type": "stream",
     "text": [
      "/pkg/python-3.6.0-0/lib/python3.6/site-packages/pandas/util/decorators.py:91: SettingWithCopyWarning: \n",
      "A value is trying to be set on a copy of a slice from a DataFrame\n",
      "\n",
      "See the caveats in the documentation: http://pandas.pydata.org/pandas-docs/stable/indexing.html#indexing-view-versus-copy\n",
      "  return func(*args, **kwargs)\n"
     ]
    }
   ],
   "source": [
    "no_mut_dup = maf_no_nas.shape[0]\n",
    "maf_no_nas.drop_duplicates(subset=['Hugo_Symbol', 'Variant_Classification', 'Tumor_Sample_Barcode'], inplace=True)\n",
    "print (\"Joined MAF contained {} duplicates. Left with {} out of {} mutations\".format(no_mut_dup-maf_no_nas.shape[0],\n",
    "                                                                                  maf_no_nas.shape[0], no_mut_dup))"
   ]
  },
  {
   "cell_type": "code",
   "execution_count": 79,
   "metadata": {
    "collapsed": false
   },
   "outputs": [
    {
     "data": {
      "text/plain": [
       "(3724739, 16)"
      ]
     },
     "execution_count": 79,
     "metadata": {},
     "output_type": "execute_result"
    }
   ],
   "source": [
    "maf_no_nas.isnull()."
   ]
  },
  {
   "cell_type": "markdown",
   "metadata": {},
   "source": [
    "## Write Back To File"
   ]
  },
  {
   "cell_type": "code",
   "execution_count": null,
   "metadata": {
    "collapsed": false
   },
   "outputs": [],
   "source": [
    "maf_no_nas.to_csv('../data/pancancer/TCGA/all_mutations.maf')"
   ]
  },
  {
   "cell_type": "code",
   "execution_count": 15,
   "metadata": {
    "collapsed": false
   },
   "outputs": [
    {
     "data": {
      "text/plain": [
       "((60, 43), (1575, 50), 1635)"
      ]
     },
     "execution_count": 15,
     "metadata": {},
     "output_type": "execute_result"
    }
   ],
   "source": []
  },
  {
   "cell_type": "code",
   "execution_count": null,
   "metadata": {
    "collapsed": true
   },
   "outputs": [],
   "source": []
  }
 ],
 "metadata": {
  "kernelspec": {
   "display_name": "Python 3",
   "language": "python",
   "name": "python3"
  },
  "language_info": {
   "codemirror_mode": {
    "name": "ipython",
    "version": 3
   },
   "file_extension": ".py",
   "mimetype": "text/x-python",
   "name": "python",
   "nbconvert_exporter": "python",
   "pygments_lexer": "ipython3",
   "version": "3.6.1"
  }
 },
 "nbformat": 4,
 "nbformat_minor": 2
}
