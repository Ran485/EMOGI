{
 "cells": [
  {
   "cell_type": "code",
   "execution_count": 1,
   "metadata": {},
   "outputs": [],
   "source": [
    "import pandas as pd\n",
    "import os, sys\n",
    "import collections\n",
    "import matplotlib.pyplot as plt\n",
    "import seaborn as sns\n",
    "import numpy as np\n",
    "%matplotlib inline"
   ]
  },
  {
   "cell_type": "code",
   "execution_count": 7,
   "metadata": {},
   "outputs": [
    {
     "name": "stdout",
     "output_type": "stream",
     "text": [
      "UCEC\n",
      "ESCA\n",
      "KIRC\n",
      "CESC\n",
      "LIHC\n",
      "BLCA\n",
      "STAD\n",
      "COAD\n",
      "READ\n",
      "PRAD\n",
      "LUAD\n",
      "THCA\n",
      "HNSC\n",
      "BRCA\n"
     ]
    }
   ],
   "source": [
    "base_dir = '/project/gcn/diseasegcn/data/pancancer/digSEE/methylation/'\n",
    "pan_cancer_genes = []\n",
    "for f in os.listdir(base_dir):\n",
    "    ctype = f.split('.')[0].split('_')[1]\n",
    "    print (ctype)\n",
    "    fname = os.path.join(base_dir, f)\n",
    "    evidence = pd.read_csv(fname, sep='\\t')\n",
    "    high_scores = evidence[evidence['EVIDENCE SENTENCE SCORE'] >= 0.3]\n",
    "    pan_cancer_genes += high_scores['GENE SYMBOL'].tolist()"
   ]
  },
  {
   "cell_type": "code",
   "execution_count": 8,
   "metadata": {},
   "outputs": [
    {
     "name": "stdout",
     "output_type": "stream",
     "text": [
      "43 43\n"
     ]
    }
   ],
   "source": [
    "pan_cancer_genes_raw = [item for item, count in collections.Counter(pan_cancer_genes).items() if count >= 1] # only select true pan-cancer genes\n",
    "pan_cancer_genes = [i for i in pan_cancer_genes_raw if type(i) == str]\n",
    "print (len(pan_cancer_genes), len(pan_cancer_genes_raw))"
   ]
  },
  {
   "cell_type": "code",
   "execution_count": 9,
   "metadata": {},
   "outputs": [],
   "source": [
    "for gene in pan_cancer_genes:\n",
    "    if not type(gene) == str:\n",
    "        print (gene)"
   ]
  },
  {
   "cell_type": "code",
   "execution_count": 10,
   "metadata": {},
   "outputs": [],
   "source": [
    "with open(os.path.join(base_dir, 'pan_cancer_genes.txt'), 'w') as out_f:\n",
    "    for gene in pan_cancer_genes:\n",
    "        out_f.write('{}\\n'.format(gene))"
   ]
  },
  {
   "cell_type": "code",
   "execution_count": 61,
   "metadata": {},
   "outputs": [
    {
     "data": {
      "text/html": [
       "<div>\n",
       "<style scoped>\n",
       "    .dataframe tbody tr th:only-of-type {\n",
       "        vertical-align: middle;\n",
       "    }\n",
       "\n",
       "    .dataframe tbody tr th {\n",
       "        vertical-align: top;\n",
       "    }\n",
       "\n",
       "    .dataframe thead th {\n",
       "        text-align: right;\n",
       "    }\n",
       "</style>\n",
       "<table border=\"1\" class=\"dataframe\">\n",
       "  <thead>\n",
       "    <tr style=\"text-align: right;\">\n",
       "      <th></th>\n",
       "      <th>PubMed ID</th>\n",
       "      <th>TITLE</th>\n",
       "      <th>EVIDENCE SENTENCE</th>\n",
       "      <th>GENE SYMBOL</th>\n",
       "      <th>GENE TERM</th>\n",
       "      <th>EVENT CLASS</th>\n",
       "      <th>EVENT TERM</th>\n",
       "      <th>SEARCHED DISEASE</th>\n",
       "      <th>EVIDENCE SENTENCE SCORE</th>\n",
       "      <th>RELATED GENES</th>\n",
       "      <th>Unnamed: 10</th>\n",
       "    </tr>\n",
       "  </thead>\n",
       "  <tbody>\n",
       "  </tbody>\n",
       "</table>\n",
       "</div>"
      ],
      "text/plain": [
       "Empty DataFrame\n",
       "Columns: [PubMed ID, TITLE, EVIDENCE SENTENCE, GENE SYMBOL, GENE TERM, EVENT CLASS, EVENT TERM, SEARCHED DISEASE, EVIDENCE SENTENCE SCORE, RELATED GENES, Unnamed: 10]\n",
       "Index: []"
      ]
     },
     "execution_count": 61,
     "metadata": {},
     "output_type": "execute_result"
    }
   ],
   "source": [
    "def is_number(x):\n",
    "    try:\n",
    "        float(x)\n",
    "        return True\n",
    "    except ValueError:\n",
    "        return False\n",
    "\n",
    "evidence[[not is_number(i) for i in evidence['EVIDENCE SENTENCE SCORE']]]"
   ]
  },
  {
   "cell_type": "code",
   "execution_count": 55,
   "metadata": {},
   "outputs": [
    {
     "data": {
      "text/plain": [
       "['CDH1',\n",
       " 'ESR1',\n",
       " 'HOXD13',\n",
       " 'KL',\n",
       " 'CCND2',\n",
       " 'NOTCH1',\n",
       " 'BRMS1',\n",
       " 'ESR1',\n",
       " 'RASSF2',\n",
       " 'TET1',\n",
       " 'LCN2',\n",
       " 'FHIT',\n",
       " 'KLF4',\n",
       " 'NKD2',\n",
       " 'CDKN2A',\n",
       " 'AKT1',\n",
       " 'GPER',\n",
       " 'NEFH',\n",
       " 'SOX17',\n",
       " 'HIST1H3A',\n",
       " 'BRCA1P1',\n",
       " 'IGF1R',\n",
       " 'BRCA1P1']"
      ]
     },
     "execution_count": 55,
     "metadata": {},
     "output_type": "execute_result"
    }
   ],
   "source": [
    "high_scores['GENE SYMBOL'].tolist()"
   ]
  },
  {
   "cell_type": "code",
   "execution_count": null,
   "metadata": {},
   "outputs": [],
   "source": []
  }
 ],
 "metadata": {
  "kernelspec": {
   "display_name": "Python 3",
   "language": "python",
   "name": "python3"
  },
  "language_info": {
   "codemirror_mode": {
    "name": "ipython",
    "version": 3
   },
   "file_extension": ".py",
   "mimetype": "text/x-python",
   "name": "python",
   "nbconvert_exporter": "python",
   "pygments_lexer": "ipython3",
   "version": "3.7.3"
  }
 },
 "nbformat": 4,
 "nbformat_minor": 2
}
