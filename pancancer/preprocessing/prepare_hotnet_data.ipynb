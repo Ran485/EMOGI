{
 "cells": [
  {
   "cell_type": "markdown",
   "metadata": {},
   "source": [
    "# Prepare Hotnet2 data"
   ]
  },
  {
   "cell_type": "code",
   "execution_count": 39,
   "metadata": {
    "collapsed": true
   },
   "outputs": [],
   "source": [
    "import pandas as pd\n",
    "import numpy as np\n",
    "import os, sys"
   ]
  },
  {
   "cell_type": "code",
   "execution_count": 40,
   "metadata": {
    "collapsed": true
   },
   "outputs": [],
   "source": [
    "out_dir = '../data/pancancer/hotnet2/'"
   ]
  },
  {
   "cell_type": "markdown",
   "metadata": {},
   "source": [
    "## 1. Prepare CNAs and SNVs in Hotnet2 required format"
   ]
  },
  {
   "cell_type": "code",
   "execution_count": 41,
   "metadata": {
    "collapsed": false
   },
   "outputs": [],
   "source": [
    "# first, load CNAs to pandas\n",
    "cnas = pd.read_csv('../data/pancancer/TCGA/cna_samples_syn.tsv', sep='\\t')\n",
    "cnas.set_index('Name', inplace=True)\n",
    "cnas = cnas.loc[:, cnas.sum(axis=0) > 0] # remove samples without CNAs\n",
    "\n",
    "# then, load SNVs as well\n",
    "snvs = pd.read_csv('../data/pancancer/TCGA/snv_samples_syn.tsv', sep='\\t')\n",
    "snvs.set_index('Hugo_Symbol', inplace=True)"
   ]
  },
  {
   "cell_type": "code",
   "execution_count": 43,
   "metadata": {
    "collapsed": false
   },
   "outputs": [],
   "source": [
    "with open(os.path.join(out_dir, 'cna_makeheat_input.txt'), 'w') as f:\n",
    "    for sample in cnas.columns:\n",
    "        aff_genes = cnas[cnas[sample] == 1].index\n",
    "        # HACKY: Treating all CNAs here as AMPs because I lost track of what they were...\n",
    "        row = sample + '\\t' + '(A)\\t'.join(aff_genes) + ' (A)\\n'\n",
    "        f.write(row)\n",
    "\n",
    "with open(os.path.join(out_dir, 'snv_makeheat_input.txt'), 'w') as f:\n",
    "    for sample in snvs.columns:\n",
    "        aff_genes = snvs[snvs[sample] > 0].index\n",
    "        row = sample + '\\t' + '\\t'.join(aff_genes) + '\\n'\n",
    "        f.write(row)"
   ]
  },
  {
   "cell_type": "markdown",
   "metadata": {},
   "source": [
    "## 2. Run Hotnet2 script to generate heat file\n",
    "Use the following command on python2, assuming the hotnet2 directory to be located in the same directory as the GCN (legionella):\n",
    "\n",
    "**python makeHeatFile.py mutation --cna_file ../legionella/data/cancer/hotnet2/cna_makeheat_input.txt --snv_file ../legionella/data/cancer/hotet2/snv_makeheat_input.txt -o heat_syn_cnasnv.json**\n",
    "\n",
    "For the network, use:\n",
    "\n",
    "**python makeNetworkFiles.py -e ../legionella/data/cancer/hotnet2/networks/irefindex9/irefindex9_edge_list -i ../legionella/data/cancer/hotnet2/networks/irefindex9/irefindex9_index_gene -nn irefindex9 -p irefindex9 -b 0.45 -o network/ -c 20**"
   ]
  },
  {
   "cell_type": "code",
   "execution_count": null,
   "metadata": {
    "collapsed": true
   },
   "outputs": [],
   "source": []
  },
  {
   "cell_type": "markdown",
   "metadata": {},
   "source": [
    "## 3. Run Hotnet2"
   ]
  }
 ],
 "metadata": {
  "kernelspec": {
   "display_name": "Python 3",
   "language": "python",
   "name": "python3"
  },
  "language_info": {
   "codemirror_mode": {
    "name": "ipython",
    "version": 3
   },
   "file_extension": ".py",
   "mimetype": "text/x-python",
   "name": "python",
   "nbconvert_exporter": "python",
   "pygments_lexer": "ipython3",
   "version": "3.6.1"
  }
 },
 "nbformat": 4,
 "nbformat_minor": 2
}
