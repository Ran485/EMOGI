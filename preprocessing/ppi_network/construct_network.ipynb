{
 "cells": [
  {
   "cell_type": "markdown",
   "metadata": {
    "deletable": true,
    "editable": true
   },
   "source": [
    "# Prepare PPI Network"
   ]
  },
  {
   "cell_type": "code",
   "execution_count": 7,
   "metadata": {
    "collapsed": false,
    "deletable": true,
    "editable": true
   },
   "outputs": [],
   "source": [
    "import pandas as pd\n",
    "import numpy as np"
   ]
  },
  {
   "cell_type": "code",
   "execution_count": 8,
   "metadata": {
    "collapsed": false,
    "deletable": true,
    "editable": true
   },
   "outputs": [],
   "source": [
    "interactions = pd.DataFrame.from_csv('ConsensusPathDB_human_PPI.csv', header=1, sep='\\t', encoding='utf8')"
   ]
  },
  {
   "cell_type": "code",
   "execution_count": 9,
   "metadata": {
    "collapsed": false,
    "deletable": true,
    "editable": true
   },
   "outputs": [],
   "source": [
    "interactions_nona = interactions.dropna()"
   ]
  },
  {
   "cell_type": "markdown",
   "metadata": {
    "deletable": true,
    "editable": true
   },
   "source": [
    "## Get  all proteins involvec in interactions"
   ]
  },
  {
   "cell_type": "code",
   "execution_count": 10,
   "metadata": {
    "collapsed": false,
    "deletable": true,
    "editable": true
   },
   "outputs": [
    {
     "name": "stdout",
     "output_type": "stream",
     "text": [
      "Processed 10000 rows\n",
      "Processed 20000 rows\n",
      "Processed 30000 rows\n",
      "Processed 40000 rows\n",
      "Processed 50000 rows\n",
      "Processed 60000 rows\n",
      "Processed 70000 rows\n",
      "Processed 80000 rows\n",
      "Processed 90000 rows\n",
      "Processed 100000 rows\n",
      "Processed 110000 rows\n",
      "Processed 120000 rows\n",
      "Processed 130000 rows\n",
      "Processed 140000 rows\n",
      "Processed 150000 rows\n",
      "Processed 160000 rows\n",
      "Processed 170000 rows\n",
      "Processed 180000 rows\n",
      "Processed 190000 rows\n",
      "Processed 200000 rows\n",
      "Processed 210000 rows\n",
      "Processed 220000 rows\n",
      "Processed 230000 rows\n",
      "Processed 240000 rows\n",
      "Processed 250000 rows\n",
      "Processed 260000 rows\n",
      "Processed 270000 rows\n",
      "Processed 356690 interactions involving 12762 different proteins\n"
     ]
    }
   ],
   "source": [
    "all_proteins = []\n",
    "count = 0\n",
    "for index, row in interactions_nona.iterrows():\n",
    "    if row.interaction_confidence > 0.5:\n",
    "        for prot in row.interaction_participants.split(','):\n",
    "            all_proteins.append(prot.strip())\n",
    "    count += 1\n",
    "    if count % 10000 == 0:\n",
    "        print (\"Processed {} rows\".format(count))\n",
    "print (\"Processed {} interactions involving {} different proteins\".format(len(all_proteins), len(set(all_proteins))))"
   ]
  },
  {
   "cell_type": "code",
   "execution_count": null,
   "metadata": {
    "collapsed": false,
    "deletable": true,
    "editable": true
   },
   "outputs": [],
   "source": []
  },
  {
   "cell_type": "markdown",
   "metadata": {
    "deletable": true,
    "editable": true
   },
   "source": [
    "## Construct Adjacency Matrix"
   ]
  },
  {
   "cell_type": "code",
   "execution_count": 11,
   "metadata": {
    "collapsed": true,
    "deletable": true,
    "editable": true
   },
   "outputs": [],
   "source": [
    "all_proteins_unique = set(all_proteins)\n",
    "N = len(all_proteins_unique)\n",
    "adjacency_matrix = np.zeros((N, N), np.uint8)\n",
    "adj_df = pd.DataFrame(adjacency_matrix, index=all_proteins_unique, columns=all_proteins_unique)"
   ]
  },
  {
   "cell_type": "code",
   "execution_count": 12,
   "metadata": {
    "collapsed": false,
    "deletable": true,
    "editable": true
   },
   "outputs": [
    {
     "name": "stdout",
     "output_type": "stream",
     "text": [
      "Processed 10000 out of 272744 rows\n",
      "Processed 20000 out of 272744 rows\n",
      "Processed 30000 out of 272744 rows\n",
      "Processed 40000 out of 272744 rows\n",
      "Processed 50000 out of 272744 rows\n",
      "Processed 60000 out of 272744 rows\n",
      "Processed 70000 out of 272744 rows\n",
      "Processed 80000 out of 272744 rows\n",
      "Processed 90000 out of 272744 rows\n",
      "Processed 100000 out of 272744 rows\n",
      "Processed 110000 out of 272744 rows\n",
      "Processed 120000 out of 272744 rows\n",
      "Processed 130000 out of 272744 rows\n",
      "Processed 140000 out of 272744 rows\n",
      "Processed 150000 out of 272744 rows\n",
      "Processed 160000 out of 272744 rows\n",
      "Processed 170000 out of 272744 rows\n",
      "Processed 180000 out of 272744 rows\n",
      "Processed 190000 out of 272744 rows\n",
      "Processed 200000 out of 272744 rows\n",
      "Processed 210000 out of 272744 rows\n",
      "Processed 220000 out of 272744 rows\n",
      "Processed 230000 out of 272744 rows\n",
      "Processed 240000 out of 272744 rows\n",
      "Processed 250000 out of 272744 rows\n",
      "Processed 260000 out of 272744 rows\n",
      "Processed 270000 out of 272744 rows\n"
     ]
    }
   ],
   "source": [
    "count = 0\n",
    "for index, row in interactions_nona.iterrows():\n",
    "    if row.interaction_confidence > 0.5:\n",
    "        interaction_partners = row.interaction_participants.split(',')\n",
    "        if len(interaction_partners) == 2:\n",
    "            adj_df.ix[interaction_partners[0], interaction_partners[1]] = 1\n",
    "            adj_df.ix[interaction_partners[1], interaction_partners[0]] = 1\n",
    "            \n",
    "    count += 1\n",
    "    if count % 10000 == 0:\n",
    "        print (\"Processed {} out of {} rows\".format(count, interactions_nona.shape[0]))"
   ]
  },
  {
   "cell_type": "code",
   "execution_count": 23,
   "metadata": {
    "collapsed": false,
    "deletable": true,
    "editable": true
   },
   "outputs": [
    {
     "data": {
      "text/plain": [
       "356690"
      ]
     },
     "execution_count": 23,
     "metadata": {},
     "output_type": "execute_result"
    }
   ],
   "source": [
    "np.sum(adj_df).sum()"
   ]
  },
  {
   "cell_type": "markdown",
   "metadata": {
    "deletable": true,
    "editable": true
   },
   "source": [
    "## Store Adjacency matrix on Disk"
   ]
  },
  {
   "cell_type": "code",
   "execution_count": 14,
   "metadata": {
    "collapsed": false,
    "deletable": true,
    "editable": true
   },
   "outputs": [],
   "source": [
    "f = h5py.File('ppi_networks.h5', 'w')\n",
    "f.create_dataset('consensusPathDB_ppi', data=adj_df, shape=adj_df.shape)\n",
    "f.close()"
   ]
  },
  {
   "cell_type": "code",
   "execution_count": null,
   "metadata": {
    "collapsed": false,
    "deletable": true,
    "editable": true
   },
   "outputs": [],
   "source": []
  },
  {
   "cell_type": "code",
   "execution_count": null,
   "metadata": {
    "collapsed": true,
    "deletable": true,
    "editable": true
   },
   "outputs": [],
   "source": []
  }
 ],
 "metadata": {
  "kernelspec": {
   "display_name": "Python 3",
   "language": "python",
   "name": "python3"
  },
  "language_info": {
   "codemirror_mode": {
    "name": "ipython",
    "version": 3
   },
   "file_extension": ".py",
   "mimetype": "text/x-python",
   "name": "python",
   "nbconvert_exporter": "python",
   "pygments_lexer": "ipython3",
   "version": "3.6.0"
  }
 },
 "nbformat": 4,
 "nbformat_minor": 2
}
