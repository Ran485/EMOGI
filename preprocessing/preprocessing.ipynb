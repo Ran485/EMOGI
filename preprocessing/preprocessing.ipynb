{
 "cells": [
  {
   "cell_type": "markdown",
   "metadata": {
    "deletable": true,
    "editable": true
   },
   "source": [
    "# Join Adjacency Matrix, Gene Expression & Labels"
   ]
  },
  {
   "cell_type": "code",
   "execution_count": 1,
   "metadata": {
    "collapsed": false,
    "deletable": true,
    "editable": true
   },
   "outputs": [],
   "source": [
    "import pandas\n",
    "import numpy as np\n",
    "from sklearn.decomposition import PCA\n",
    "from sklearn import preprocessing\n",
    "import matplotlib.pyplot as plt\n",
    "np.set_printoptions(suppress=True)\n",
    "import h5py\n",
    "import mygene\n",
    "%matplotlib inline"
   ]
  },
  {
   "cell_type": "markdown",
   "metadata": {
    "deletable": true,
    "editable": true
   },
   "source": [
    "## Get Gene Expression"
   ]
  },
  {
   "cell_type": "code",
   "execution_count": 2,
   "metadata": {
    "collapsed": true,
    "deletable": true,
    "editable": true
   },
   "outputs": [],
   "source": [
    "# params\n",
    "TIMES_STD_THRESHOLD = 10.\n",
    "MAX_ZEROS_ALLOWED = .5"
   ]
  },
  {
   "cell_type": "code",
   "execution_count": 3,
   "metadata": {
    "collapsed": false,
    "deletable": true,
    "editable": true,
    "scrolled": true
   },
   "outputs": [
    {
     "name": "stdout",
     "output_type": "stream",
     "text": [
      "Had gene expression for 41424 genes in the beginning.\n",
      "kicked out 9 super highly expressed genes\n",
      "Kicked out 15021 genes with more than 50.0% zeros\n",
      "==> Left with gene expression for 26394 genes\n"
     ]
    }
   ],
   "source": [
    "# load data\n",
    "gene_expression = pandas.DataFrame.from_csv('gene_expression/normalized-counts-labels.csv',\n",
    "                                            encoding='utf-8', sep=',')\n",
    "ge_nonames = gene_expression.drop('Name', axis=1)\n",
    "\n",
    "# kick out super highly expressed genes\n",
    "threshold = ge_nonames.mean(axis=1).std()*TIMES_STD_THRESHOLD\n",
    "#print (\"Threshold Gene Expression: {}\".format(threshold))\n",
    "anomalies = gene_expression[ge_nonames.mean(axis=1) > threshold]\n",
    "ge_anomalies_removed = ge_nonames.drop(anomalies.index)\n",
    "\n",
    "# kick out genes with too many zeros\n",
    "ge_zeros_removed = ge_anomalies_removed[ge_anomalies_removed.astype('bool').mean(axis=1)>=(1-MAX_ZEROS_ALLOWED)]\n",
    "\n",
    "# scaling\n",
    "scaler = preprocessing.StandardScaler()\n",
    "scaled_features = scaler.fit_transform(ge_zeros_removed)\n",
    "ge_scaled = pandas.DataFrame(scaled_features,\n",
    "                             index=ge_zeros_removed.index,\n",
    "                             columns=ge_zeros_removed.columns)\n",
    "\n",
    "# print some information\n",
    "print (\"Had gene expression for {} genes in the beginning.\".format(ge_nonames.shape[0]))\n",
    "print (\"kicked out {} super highly expressed genes\".format(ge_nonames.shape[0] - ge_anomalies_removed.shape[0]))\n",
    "print (\"Kicked out {} genes with more than {}% zeros\".format(ge_anomalies_removed.shape[0]-ge_zeros_removed.shape[0],\n",
    "                                                             MAX_ZEROS_ALLOWED*100.\n",
    "                                                            ))\n",
    "print (\"==> Left with gene expression for {} genes\".format(ge_scaled.shape[0]))"
   ]
  },
  {
   "cell_type": "code",
   "execution_count": 4,
   "metadata": {
    "collapsed": false,
    "deletable": true,
    "editable": true
   },
   "outputs": [
    {
     "data": {
      "text/html": [
       "<div>\n",
       "<table border=\"1\" class=\"dataframe\">\n",
       "  <thead>\n",
       "    <tr style=\"text-align: right;\">\n",
       "      <th></th>\n",
       "      <th>Name</th>\n",
       "      <th>Pam3T16</th>\n",
       "      <th>Pam3T8</th>\n",
       "      <th>Pam3T16.1</th>\n",
       "      <th>Pam3T8.1</th>\n",
       "      <th>Pam3T16.2</th>\n",
       "      <th>Pam3T8.2</th>\n",
       "      <th>ControlT8</th>\n",
       "      <th>ControlT16</th>\n",
       "      <th>ControlT8.1</th>\n",
       "      <th>...</th>\n",
       "      <th>gfpmT8.1</th>\n",
       "      <th>gfpmT16.1</th>\n",
       "      <th>gfpmT8.2</th>\n",
       "      <th>gfpmT16.2</th>\n",
       "      <th>gfppT8</th>\n",
       "      <th>gfppT16</th>\n",
       "      <th>gfppT8.1</th>\n",
       "      <th>gfppT16.1</th>\n",
       "      <th>gfppT8.2</th>\n",
       "      <th>gfppT16.2</th>\n",
       "    </tr>\n",
       "    <tr>\n",
       "      <th>Ensembl-ID</th>\n",
       "      <th></th>\n",
       "      <th></th>\n",
       "      <th></th>\n",
       "      <th></th>\n",
       "      <th></th>\n",
       "      <th></th>\n",
       "      <th></th>\n",
       "      <th></th>\n",
       "      <th></th>\n",
       "      <th></th>\n",
       "      <th></th>\n",
       "      <th></th>\n",
       "      <th></th>\n",
       "      <th></th>\n",
       "      <th></th>\n",
       "      <th></th>\n",
       "      <th></th>\n",
       "      <th></th>\n",
       "      <th></th>\n",
       "      <th></th>\n",
       "      <th></th>\n",
       "    </tr>\n",
       "  </thead>\n",
       "  <tbody>\n",
       "    <tr>\n",
       "      <th>ENSG00000000003</th>\n",
       "      <td>TSPAN6</td>\n",
       "      <td>6.736327</td>\n",
       "      <td>8.519666</td>\n",
       "      <td>10.773706</td>\n",
       "      <td>10.813725</td>\n",
       "      <td>2.427830</td>\n",
       "      <td>7.425264</td>\n",
       "      <td>9.417385</td>\n",
       "      <td>7.920964</td>\n",
       "      <td>10.812953</td>\n",
       "      <td>...</td>\n",
       "      <td>12.529836</td>\n",
       "      <td>6.769370</td>\n",
       "      <td>13.440488</td>\n",
       "      <td>5.248289</td>\n",
       "      <td>14.583375</td>\n",
       "      <td>13.538040</td>\n",
       "      <td>18.220493</td>\n",
       "      <td>14.908853</td>\n",
       "      <td>16.156797</td>\n",
       "      <td>30.745221</td>\n",
       "    </tr>\n",
       "    <tr>\n",
       "      <th>ENSG00000000419</th>\n",
       "      <td>DPM1</td>\n",
       "      <td>97.676739</td>\n",
       "      <td>73.025712</td>\n",
       "      <td>132.362676</td>\n",
       "      <td>110.840686</td>\n",
       "      <td>87.401897</td>\n",
       "      <td>87.865624</td>\n",
       "      <td>92.725018</td>\n",
       "      <td>105.132797</td>\n",
       "      <td>121.218890</td>\n",
       "      <td>...</td>\n",
       "      <td>127.983328</td>\n",
       "      <td>147.421826</td>\n",
       "      <td>104.163784</td>\n",
       "      <td>86.596770</td>\n",
       "      <td>298.959192</td>\n",
       "      <td>239.172041</td>\n",
       "      <td>268.101547</td>\n",
       "      <td>155.611158</td>\n",
       "      <td>283.898001</td>\n",
       "      <td>247.298513</td>\n",
       "    </tr>\n",
       "    <tr>\n",
       "      <th>ENSG00000000457</th>\n",
       "      <td>SCYL3</td>\n",
       "      <td>84.204085</td>\n",
       "      <td>74.242807</td>\n",
       "      <td>61.564035</td>\n",
       "      <td>68.486928</td>\n",
       "      <td>78.499852</td>\n",
       "      <td>92.815800</td>\n",
       "      <td>86.929705</td>\n",
       "      <td>72.728852</td>\n",
       "      <td>66.585024</td>\n",
       "      <td>...</td>\n",
       "      <td>76.074006</td>\n",
       "      <td>63.180782</td>\n",
       "      <td>117.604272</td>\n",
       "      <td>94.469203</td>\n",
       "      <td>83.125239</td>\n",
       "      <td>79.724014</td>\n",
       "      <td>76.786365</td>\n",
       "      <td>62.430824</td>\n",
       "      <td>85.400212</td>\n",
       "      <td>93.572410</td>\n",
       "    </tr>\n",
       "    <tr>\n",
       "      <th>ENSG00000000460</th>\n",
       "      <td>C1orf112</td>\n",
       "      <td>61.468982</td>\n",
       "      <td>48.683808</td>\n",
       "      <td>70.798641</td>\n",
       "      <td>63.080065</td>\n",
       "      <td>63.123592</td>\n",
       "      <td>76.727728</td>\n",
       "      <td>68.819350</td>\n",
       "      <td>68.408327</td>\n",
       "      <td>77.397977</td>\n",
       "      <td>...</td>\n",
       "      <td>56.384263</td>\n",
       "      <td>72.958761</td>\n",
       "      <td>81.482960</td>\n",
       "      <td>51.608176</td>\n",
       "      <td>24.791738</td>\n",
       "      <td>33.092987</td>\n",
       "      <td>29.933668</td>\n",
       "      <td>59.635414</td>\n",
       "      <td>30.005480</td>\n",
       "      <td>26.734974</td>\n",
       "    </tr>\n",
       "    <tr>\n",
       "      <th>ENSG00000000938</th>\n",
       "      <td>FGR</td>\n",
       "      <td>53.890614</td>\n",
       "      <td>150.919804</td>\n",
       "      <td>143.136382</td>\n",
       "      <td>362.259802</td>\n",
       "      <td>156.999704</td>\n",
       "      <td>160.880721</td>\n",
       "      <td>62.299622</td>\n",
       "      <td>61.207450</td>\n",
       "      <td>189.511222</td>\n",
       "      <td>...</td>\n",
       "      <td>333.830638</td>\n",
       "      <td>257.988195</td>\n",
       "      <td>186.486774</td>\n",
       "      <td>70.851902</td>\n",
       "      <td>129.792040</td>\n",
       "      <td>97.774734</td>\n",
       "      <td>272.005939</td>\n",
       "      <td>245.996082</td>\n",
       "      <td>140.794944</td>\n",
       "      <td>101.592903</td>\n",
       "    </tr>\n",
       "  </tbody>\n",
       "</table>\n",
       "<p>5 rows × 25 columns</p>\n",
       "</div>"
      ],
      "text/plain": [
       "                     Name    Pam3T16      Pam3T8   Pam3T16.1    Pam3T8.1  \\\n",
       "Ensembl-ID                                                                 \n",
       "ENSG00000000003    TSPAN6   6.736327    8.519666   10.773706   10.813725   \n",
       "ENSG00000000419      DPM1  97.676739   73.025712  132.362676  110.840686   \n",
       "ENSG00000000457     SCYL3  84.204085   74.242807   61.564035   68.486928   \n",
       "ENSG00000000460  C1orf112  61.468982   48.683808   70.798641   63.080065   \n",
       "ENSG00000000938       FGR  53.890614  150.919804  143.136382  362.259802   \n",
       "\n",
       "                  Pam3T16.2    Pam3T8.2  ControlT8  ControlT16  ControlT8.1  \\\n",
       "Ensembl-ID                                                                    \n",
       "ENSG00000000003    2.427830    7.425264   9.417385    7.920964    10.812953   \n",
       "ENSG00000000419   87.401897   87.865624  92.725018  105.132797   121.218890   \n",
       "ENSG00000000457   78.499852   92.815800  86.929705   72.728852    66.585024   \n",
       "ENSG00000000460   63.123592   76.727728  68.819350   68.408327    77.397977   \n",
       "ENSG00000000938  156.999704  160.880721  62.299622   61.207450   189.511222   \n",
       "\n",
       "                    ...        gfpmT8.1   gfpmT16.1    gfpmT8.2  gfpmT16.2  \\\n",
       "Ensembl-ID          ...                                                      \n",
       "ENSG00000000003     ...       12.529836    6.769370   13.440488   5.248289   \n",
       "ENSG00000000419     ...      127.983328  147.421826  104.163784  86.596770   \n",
       "ENSG00000000457     ...       76.074006   63.180782  117.604272  94.469203   \n",
       "ENSG00000000460     ...       56.384263   72.958761   81.482960  51.608176   \n",
       "ENSG00000000938     ...      333.830638  257.988195  186.486774  70.851902   \n",
       "\n",
       "                     gfppT8     gfppT16    gfppT8.1   gfppT16.1    gfppT8.2  \\\n",
       "Ensembl-ID                                                                    \n",
       "ENSG00000000003   14.583375   13.538040   18.220493   14.908853   16.156797   \n",
       "ENSG00000000419  298.959192  239.172041  268.101547  155.611158  283.898001   \n",
       "ENSG00000000457   83.125239   79.724014   76.786365   62.430824   85.400212   \n",
       "ENSG00000000460   24.791738   33.092987   29.933668   59.635414   30.005480   \n",
       "ENSG00000000938  129.792040   97.774734  272.005939  245.996082  140.794944   \n",
       "\n",
       "                  gfppT16.2  \n",
       "Ensembl-ID                   \n",
       "ENSG00000000003   30.745221  \n",
       "ENSG00000000419  247.298513  \n",
       "ENSG00000000457   93.572410  \n",
       "ENSG00000000460   26.734974  \n",
       "ENSG00000000938  101.592903  \n",
       "\n",
       "[5 rows x 25 columns]"
      ]
     },
     "execution_count": 4,
     "metadata": {},
     "output_type": "execute_result"
    }
   ],
   "source": [
    "gene_names = gene_expression.loc[ge_scaled.index].Name.values\n",
    "gene_ids = ge_scaled.index\n",
    "gene_expression.head()"
   ]
  },
  {
   "cell_type": "markdown",
   "metadata": {
    "deletable": true,
    "editable": true
   },
   "source": [
    "## ConsensusPathDB: Get PPI Network\n",
    "I want to construct an adjacency matrix from the interactions in ConsensusPathDB.\n",
    "However, I only want it for the genes for which I have gene expression data. If not both genes are involved in an interaction, I don't want to save the interaction."
   ]
  },
  {
   "cell_type": "code",
   "execution_count": 93,
   "metadata": {
    "collapsed": false,
    "deletable": true,
    "editable": true,
    "scrolled": false
   },
   "outputs": [
    {
     "name": "stdout",
     "output_type": "stream",
     "text": [
      "26394\n",
      "Processed 10000 out of 174225 rows\n",
      "Processed 20000 out of 174225 rows\n",
      "Processed 30000 out of 174225 rows\n",
      "Processed 40000 out of 174225 rows\n",
      "Processed 50000 out of 174225 rows\n",
      "Processed 60000 out of 174225 rows\n",
      "Processed 70000 out of 174225 rows\n",
      "Processed 80000 out of 174225 rows\n",
      "Processed 90000 out of 174225 rows\n",
      "Processed 100000 out of 174225 rows\n",
      "Processed 110000 out of 174225 rows\n",
      "Processed 120000 out of 174225 rows\n",
      "Processed 130000 out of 174225 rows\n",
      "Processed 140000 out of 174225 rows\n",
      "Processed 150000 out of 174225 rows\n",
      "Processed 160000 out of 174225 rows\n",
      "Processed 170000 out of 174225 rows\n"
     ]
    }
   ],
   "source": [
    "# read interaction data (implicit threshold of 0.5 for interaction confidence)\n",
    "interactions = pandas.read_csv('../data/networks/oneToOne-highConf-geneNames-CPDB.sif',\n",
    "                               header=None,\n",
    "                               sep='\\(interacts\\)',\n",
    "                               encoding='utf8',\n",
    "                               engine='python',\n",
    "                               names=['gene1', 'gene2']\n",
    "                              )\n",
    "\n",
    "# construct Adjacency Matrix\n",
    "N = len(gene_names)\n",
    "print (N)\n",
    "adjacency_matrix = np.zeros((N, N), np.uint8)\n",
    "adj_df = pandas.DataFrame(adjacency_matrix, index=gene_names, columns=gene_names)\n",
    "\n",
    "count = 0\n",
    "gene_names_set = set(gene_names)\n",
    "for index, row in interactions.iterrows():\n",
    "    i1 = row.gene1.strip()\n",
    "    i2 = row.gene2.strip()\n",
    "    if i1 in gene_names_set and i2 in gene_names_set:\n",
    "        adj_df.ix[i1, i2] = 1\n",
    "        adj_df.ix[i2, i1] = 1\n",
    "            \n",
    "    count += 1\n",
    "    if count % 10000 == 0:\n",
    "        print (\"Processed {} out of {} rows\".format(count, interactions_nona.shape[0]))"
   ]
  },
  {
   "cell_type": "code",
   "execution_count": 94,
   "metadata": {
    "collapsed": false
   },
   "outputs": [
    {
     "data": {
      "text/plain": [
       "313102"
      ]
     },
     "execution_count": 94,
     "metadata": {},
     "output_type": "execute_result"
    }
   ],
   "source": [
    "adj_df.sum().sum()"
   ]
  },
  {
   "cell_type": "markdown",
   "metadata": {},
   "source": [
    "## STRING DB: Get PPI network\n",
    "I also want to construct the adjacency matrix for the STRING DB PPI network because it seems as if ConsensusPathDB is lacking some interactions I am interested in."
   ]
  },
  {
   "cell_type": "code",
   "execution_count": 63,
   "metadata": {
    "collapsed": false
   },
   "outputs": [
    {
     "ename": "KeyboardInterrupt",
     "evalue": "",
     "output_type": "error",
     "traceback": [
      "\u001b[0;31m---------------------------------------------------------------------------\u001b[0m",
      "\u001b[0;31mKeyboardInterrupt\u001b[0m                         Traceback (most recent call last)",
      "\u001b[0;32m<ipython-input-63-552bd6f7b850>\u001b[0m in \u001b[0;36m<module>\u001b[0;34m()\u001b[0m\n\u001b[1;32m      8\u001b[0m \u001b[0minteractions_nona\u001b[0m \u001b[0;34m=\u001b[0m \u001b[0minteractions\u001b[0m\u001b[0;34m.\u001b[0m\u001b[0mdropna\u001b[0m\u001b[0;34m(\u001b[0m\u001b[0;34m)\u001b[0m\u001b[0;34m\u001b[0m\u001b[0m\n\u001b[1;32m      9\u001b[0m \u001b[0minteractions_nona\u001b[0m\u001b[0;34m.\u001b[0m\u001b[0mprotein1\u001b[0m \u001b[0;34m=\u001b[0m \u001b[0minteractions_nona\u001b[0m\u001b[0;34m.\u001b[0m\u001b[0mprotein1\u001b[0m\u001b[0;34m.\u001b[0m\u001b[0mstr\u001b[0m\u001b[0;34m.\u001b[0m\u001b[0mreplace\u001b[0m\u001b[0;34m(\u001b[0m\u001b[0;34m'9606.'\u001b[0m\u001b[0;34m,\u001b[0m \u001b[0;34m''\u001b[0m\u001b[0;34m)\u001b[0m\u001b[0;34m\u001b[0m\u001b[0m\n\u001b[0;32m---> 10\u001b[0;31m \u001b[0minteractions_nona\u001b[0m\u001b[0;34m.\u001b[0m\u001b[0mprotein2\u001b[0m \u001b[0;34m=\u001b[0m \u001b[0minteractions_nona\u001b[0m\u001b[0;34m.\u001b[0m\u001b[0mprotein2\u001b[0m\u001b[0;34m.\u001b[0m\u001b[0mstr\u001b[0m\u001b[0;34m.\u001b[0m\u001b[0mreplace\u001b[0m\u001b[0;34m(\u001b[0m\u001b[0;34m'9606.'\u001b[0m\u001b[0;34m,\u001b[0m \u001b[0;34m''\u001b[0m\u001b[0;34m)\u001b[0m\u001b[0;34m\u001b[0m\u001b[0m\n\u001b[0m\u001b[1;32m     11\u001b[0m \u001b[0;34m\u001b[0m\u001b[0m\n\u001b[1;32m     12\u001b[0m \u001b[0;31m# plot distribution of scores\u001b[0m\u001b[0;34m\u001b[0m\u001b[0;34m\u001b[0m\u001b[0m\n",
      "\u001b[0;32m/pkg/python-3.6.0-0/lib/python3.6/site-packages/pandas/core/strings.py\u001b[0m in \u001b[0;36mreplace\u001b[0;34m(self, pat, repl, n, case, flags)\u001b[0m\n\u001b[1;32m   1504\u001b[0m     \u001b[0;32mdef\u001b[0m \u001b[0mreplace\u001b[0m\u001b[0;34m(\u001b[0m\u001b[0mself\u001b[0m\u001b[0;34m,\u001b[0m \u001b[0mpat\u001b[0m\u001b[0;34m,\u001b[0m \u001b[0mrepl\u001b[0m\u001b[0;34m,\u001b[0m \u001b[0mn\u001b[0m\u001b[0;34m=\u001b[0m\u001b[0;34m-\u001b[0m\u001b[0;36m1\u001b[0m\u001b[0;34m,\u001b[0m \u001b[0mcase\u001b[0m\u001b[0;34m=\u001b[0m\u001b[0;32mTrue\u001b[0m\u001b[0;34m,\u001b[0m \u001b[0mflags\u001b[0m\u001b[0;34m=\u001b[0m\u001b[0;36m0\u001b[0m\u001b[0;34m)\u001b[0m\u001b[0;34m:\u001b[0m\u001b[0;34m\u001b[0m\u001b[0m\n\u001b[1;32m   1505\u001b[0m         result = str_replace(self._data, pat, repl, n=n, case=case,\n\u001b[0;32m-> 1506\u001b[0;31m                              flags=flags)\n\u001b[0m\u001b[1;32m   1507\u001b[0m         \u001b[0;32mreturn\u001b[0m \u001b[0mself\u001b[0m\u001b[0;34m.\u001b[0m\u001b[0m_wrap_result\u001b[0m\u001b[0;34m(\u001b[0m\u001b[0mresult\u001b[0m\u001b[0;34m)\u001b[0m\u001b[0;34m\u001b[0m\u001b[0m\n\u001b[1;32m   1508\u001b[0m \u001b[0;34m\u001b[0m\u001b[0m\n",
      "\u001b[0;32m/pkg/python-3.6.0-0/lib/python3.6/site-packages/pandas/core/strings.py\u001b[0m in \u001b[0;36mstr_replace\u001b[0;34m(arr, pat, repl, n, case, flags)\u001b[0m\n\u001b[1;32m    334\u001b[0m         \u001b[0mf\u001b[0m \u001b[0;34m=\u001b[0m \u001b[0;32mlambda\u001b[0m \u001b[0mx\u001b[0m\u001b[0;34m:\u001b[0m \u001b[0mx\u001b[0m\u001b[0;34m.\u001b[0m\u001b[0mreplace\u001b[0m\u001b[0;34m(\u001b[0m\u001b[0mpat\u001b[0m\u001b[0;34m,\u001b[0m \u001b[0mrepl\u001b[0m\u001b[0;34m,\u001b[0m \u001b[0mn\u001b[0m\u001b[0;34m)\u001b[0m\u001b[0;34m\u001b[0m\u001b[0m\n\u001b[1;32m    335\u001b[0m \u001b[0;34m\u001b[0m\u001b[0m\n\u001b[0;32m--> 336\u001b[0;31m     \u001b[0;32mreturn\u001b[0m \u001b[0m_na_map\u001b[0m\u001b[0;34m(\u001b[0m\u001b[0mf\u001b[0m\u001b[0;34m,\u001b[0m \u001b[0marr\u001b[0m\u001b[0;34m)\u001b[0m\u001b[0;34m\u001b[0m\u001b[0m\n\u001b[0m\u001b[1;32m    337\u001b[0m \u001b[0;34m\u001b[0m\u001b[0m\n\u001b[1;32m    338\u001b[0m \u001b[0;34m\u001b[0m\u001b[0m\n",
      "\u001b[0;32m/pkg/python-3.6.0-0/lib/python3.6/site-packages/pandas/core/strings.py\u001b[0m in \u001b[0;36m_na_map\u001b[0;34m(f, arr, na_result, dtype)\u001b[0m\n\u001b[1;32m    152\u001b[0m \u001b[0;32mdef\u001b[0m \u001b[0m_na_map\u001b[0m\u001b[0;34m(\u001b[0m\u001b[0mf\u001b[0m\u001b[0;34m,\u001b[0m \u001b[0marr\u001b[0m\u001b[0;34m,\u001b[0m \u001b[0mna_result\u001b[0m\u001b[0;34m=\u001b[0m\u001b[0mnp\u001b[0m\u001b[0;34m.\u001b[0m\u001b[0mnan\u001b[0m\u001b[0;34m,\u001b[0m \u001b[0mdtype\u001b[0m\u001b[0;34m=\u001b[0m\u001b[0mobject\u001b[0m\u001b[0;34m)\u001b[0m\u001b[0;34m:\u001b[0m\u001b[0;34m\u001b[0m\u001b[0m\n\u001b[1;32m    153\u001b[0m     \u001b[0;31m# should really _check_ for NA\u001b[0m\u001b[0;34m\u001b[0m\u001b[0;34m\u001b[0m\u001b[0m\n\u001b[0;32m--> 154\u001b[0;31m     \u001b[0;32mreturn\u001b[0m \u001b[0m_map\u001b[0m\u001b[0;34m(\u001b[0m\u001b[0mf\u001b[0m\u001b[0;34m,\u001b[0m \u001b[0marr\u001b[0m\u001b[0;34m,\u001b[0m \u001b[0mna_mask\u001b[0m\u001b[0;34m=\u001b[0m\u001b[0;32mTrue\u001b[0m\u001b[0;34m,\u001b[0m \u001b[0mna_value\u001b[0m\u001b[0;34m=\u001b[0m\u001b[0mna_result\u001b[0m\u001b[0;34m,\u001b[0m \u001b[0mdtype\u001b[0m\u001b[0;34m=\u001b[0m\u001b[0mdtype\u001b[0m\u001b[0;34m)\u001b[0m\u001b[0;34m\u001b[0m\u001b[0m\n\u001b[0m\u001b[1;32m    155\u001b[0m \u001b[0;34m\u001b[0m\u001b[0m\n\u001b[1;32m    156\u001b[0m \u001b[0;34m\u001b[0m\u001b[0m\n",
      "\u001b[0;32m/pkg/python-3.6.0-0/lib/python3.6/site-packages/pandas/core/strings.py\u001b[0m in \u001b[0;36m_map\u001b[0;34m(f, arr, na_mask, na_value, dtype)\u001b[0m\n\u001b[1;32m    167\u001b[0m         \u001b[0;32mtry\u001b[0m\u001b[0;34m:\u001b[0m\u001b[0;34m\u001b[0m\u001b[0m\n\u001b[1;32m    168\u001b[0m             \u001b[0mconvert\u001b[0m \u001b[0;34m=\u001b[0m \u001b[0;32mnot\u001b[0m \u001b[0mall\u001b[0m\u001b[0;34m(\u001b[0m\u001b[0mmask\u001b[0m\u001b[0;34m)\u001b[0m\u001b[0;34m\u001b[0m\u001b[0m\n\u001b[0;32m--> 169\u001b[0;31m             \u001b[0mresult\u001b[0m \u001b[0;34m=\u001b[0m \u001b[0mlib\u001b[0m\u001b[0;34m.\u001b[0m\u001b[0mmap_infer_mask\u001b[0m\u001b[0;34m(\u001b[0m\u001b[0marr\u001b[0m\u001b[0;34m,\u001b[0m \u001b[0mf\u001b[0m\u001b[0;34m,\u001b[0m \u001b[0mmask\u001b[0m\u001b[0;34m.\u001b[0m\u001b[0mview\u001b[0m\u001b[0;34m(\u001b[0m\u001b[0mnp\u001b[0m\u001b[0;34m.\u001b[0m\u001b[0muint8\u001b[0m\u001b[0;34m)\u001b[0m\u001b[0;34m,\u001b[0m \u001b[0mconvert\u001b[0m\u001b[0;34m)\u001b[0m\u001b[0;34m\u001b[0m\u001b[0m\n\u001b[0m\u001b[1;32m    170\u001b[0m         \u001b[0;32mexcept\u001b[0m \u001b[0;34m(\u001b[0m\u001b[0mTypeError\u001b[0m\u001b[0;34m,\u001b[0m \u001b[0mAttributeError\u001b[0m\u001b[0;34m)\u001b[0m\u001b[0;34m:\u001b[0m\u001b[0;34m\u001b[0m\u001b[0m\n\u001b[1;32m    171\u001b[0m \u001b[0;34m\u001b[0m\u001b[0m\n",
      "\u001b[0;32mpandas/src/inference.pyx\u001b[0m in \u001b[0;36mpandas.lib.map_infer_mask (pandas/lib.c:65674)\u001b[0;34m()\u001b[0m\n",
      "\u001b[0;32m/pkg/python-3.6.0-0/lib/python3.6/site-packages/pandas/core/strings.py\u001b[0m in \u001b[0;36mf\u001b[0;34m(x)\u001b[0m\n\u001b[1;32m    330\u001b[0m \u001b[0;34m\u001b[0m\u001b[0m\n\u001b[1;32m    331\u001b[0m         \u001b[0;32mdef\u001b[0m \u001b[0mf\u001b[0m\u001b[0;34m(\u001b[0m\u001b[0mx\u001b[0m\u001b[0;34m)\u001b[0m\u001b[0;34m:\u001b[0m\u001b[0;34m\u001b[0m\u001b[0m\n\u001b[0;32m--> 332\u001b[0;31m             \u001b[0;32mreturn\u001b[0m \u001b[0mregex\u001b[0m\u001b[0;34m.\u001b[0m\u001b[0msub\u001b[0m\u001b[0;34m(\u001b[0m\u001b[0mrepl\u001b[0m\u001b[0;34m,\u001b[0m \u001b[0mx\u001b[0m\u001b[0;34m,\u001b[0m \u001b[0mcount\u001b[0m\u001b[0;34m=\u001b[0m\u001b[0mn\u001b[0m\u001b[0;34m)\u001b[0m\u001b[0;34m\u001b[0m\u001b[0m\n\u001b[0m\u001b[1;32m    333\u001b[0m     \u001b[0;32melse\u001b[0m\u001b[0;34m:\u001b[0m\u001b[0;34m\u001b[0m\u001b[0m\n\u001b[1;32m    334\u001b[0m         \u001b[0mf\u001b[0m \u001b[0;34m=\u001b[0m \u001b[0;32mlambda\u001b[0m \u001b[0mx\u001b[0m\u001b[0;34m:\u001b[0m \u001b[0mx\u001b[0m\u001b[0;34m.\u001b[0m\u001b[0mreplace\u001b[0m\u001b[0;34m(\u001b[0m\u001b[0mpat\u001b[0m\u001b[0;34m,\u001b[0m \u001b[0mrepl\u001b[0m\u001b[0;34m,\u001b[0m \u001b[0mn\u001b[0m\u001b[0;34m)\u001b[0m\u001b[0;34m\u001b[0m\u001b[0m\n",
      "\u001b[0;31mKeyboardInterrupt\u001b[0m: "
     ]
    }
   ],
   "source": [
    "# load data\n",
    "interactions = pandas.read_csv('../data/networks/9606_stringdb_v10_5.txt.gz',\n",
    "                                         header=0,\n",
    "                                         sep=' ',\n",
    "                                         encoding='utf8'\n",
    "                                        )\n",
    "# remove NAs and the trailing species name\n",
    "interactions_nona = interactions.dropna()\n",
    "interactions_nona.protein1 = interactions_nona.protein1.str.replace('9606.', '')\n",
    "interactions_nona.protein2 = interactions_nona.protein2.str.replace('9606.', '')\n",
    "\n",
    "# plot distribution of scores\n",
    "fig = plt.figure(figsize=(14, 8))\n",
    "ax = interactions_nona.combined_score.plot.hist(bins=50, title='Distribution of Scores')\n",
    "plt.xlabel('Combined Scores (STRING DB)')"
   ]
  },
  {
   "cell_type": "code",
   "execution_count": 55,
   "metadata": {
    "collapsed": false
   },
   "outputs": [
    {
     "name": "stdout",
     "output_type": "stream",
     "text": [
      "querying 1-20...done.\n",
      "querying 1-20...done.\n"
     ]
    }
   ],
   "source": [
    "# use bioMart to convert protein and gene IDs\n",
    "mg = mygene.MyGeneInfo()\n",
    "f = lambda x: x['ensembl'][0]['gene'] if type(x['ensembl']) is list else x['ensembl']['gene']\n",
    "res = mg.getgenes(interactions_nona.protein1, 'symbol,ensembl.gene', scopes='ensembl.protein')\n",
    "proteins1 = [f(x) for x in res]\n",
    "res = mg.getgenes(interactions_nona.protein2, 'symbol,ensembl.gene', scopes='ensembl.protein')\n",
    "proteins2 = [f(x) for x in res]\n",
    "\n",
    "# put into dataframe\n",
    "interactions_nona['gene1'] = proteins1\n",
    "interactions_nona['gene2'] = proteins2"
   ]
  },
  {
   "cell_type": "code",
   "execution_count": 56,
   "metadata": {
    "collapsed": false
   },
   "outputs": [
    {
     "data": {
      "text/html": [
       "<div>\n",
       "<table border=\"1\" class=\"dataframe\">\n",
       "  <thead>\n",
       "    <tr style=\"text-align: right;\">\n",
       "      <th></th>\n",
       "      <th>protein1</th>\n",
       "      <th>protein2</th>\n",
       "      <th>combined_score</th>\n",
       "      <th>gene1</th>\n",
       "      <th>gene2</th>\n",
       "    </tr>\n",
       "  </thead>\n",
       "  <tbody>\n",
       "    <tr>\n",
       "      <th>0</th>\n",
       "      <td>ENSP00000000233</td>\n",
       "      <td>ENSP00000263431</td>\n",
       "      <td>260</td>\n",
       "      <td>ENSG00000004059</td>\n",
       "      <td>ENSG00000126583</td>\n",
       "    </tr>\n",
       "    <tr>\n",
       "      <th>1</th>\n",
       "      <td>ENSP00000000233</td>\n",
       "      <td>ENSP00000353863</td>\n",
       "      <td>164</td>\n",
       "      <td>ENSG00000004059</td>\n",
       "      <td>ENSG00000163848</td>\n",
       "    </tr>\n",
       "    <tr>\n",
       "      <th>2</th>\n",
       "      <td>ENSP00000000233</td>\n",
       "      <td>ENSP00000342026</td>\n",
       "      <td>159</td>\n",
       "      <td>ENSG00000004059</td>\n",
       "      <td>ENSG00000117592</td>\n",
       "    </tr>\n",
       "    <tr>\n",
       "      <th>3</th>\n",
       "      <td>ENSP00000000233</td>\n",
       "      <td>ENSP00000240874</td>\n",
       "      <td>194</td>\n",
       "      <td>ENSG00000004059</td>\n",
       "      <td>ENSG00000160145</td>\n",
       "    </tr>\n",
       "    <tr>\n",
       "      <th>4</th>\n",
       "      <td>ENSP00000000233</td>\n",
       "      <td>ENSP00000379847</td>\n",
       "      <td>164</td>\n",
       "      <td>ENSG00000004059</td>\n",
       "      <td>ENSG00000166478</td>\n",
       "    </tr>\n",
       "    <tr>\n",
       "      <th>5</th>\n",
       "      <td>ENSP00000000233</td>\n",
       "      <td>ENSP00000400088</td>\n",
       "      <td>189</td>\n",
       "      <td>ENSG00000004059</td>\n",
       "      <td>ENSG00000250506</td>\n",
       "    </tr>\n",
       "    <tr>\n",
       "      <th>6</th>\n",
       "      <td>ENSP00000000233</td>\n",
       "      <td>ENSP00000362465</td>\n",
       "      <td>240</td>\n",
       "      <td>ENSG00000004059</td>\n",
       "      <td>ENSG00000102383</td>\n",
       "    </tr>\n",
       "    <tr>\n",
       "      <th>7</th>\n",
       "      <td>ENSP00000000233</td>\n",
       "      <td>ENSP00000415070</td>\n",
       "      <td>164</td>\n",
       "      <td>ENSG00000004059</td>\n",
       "      <td>ENSG00000270011</td>\n",
       "    </tr>\n",
       "    <tr>\n",
       "      <th>8</th>\n",
       "      <td>ENSP00000000233</td>\n",
       "      <td>ENSP00000379387</td>\n",
       "      <td>164</td>\n",
       "      <td>ENSG00000004059</td>\n",
       "      <td>ENSG00000283034</td>\n",
       "    </tr>\n",
       "    <tr>\n",
       "      <th>9</th>\n",
       "      <td>ENSP00000000233</td>\n",
       "      <td>ENSP00000335632</td>\n",
       "      <td>224</td>\n",
       "      <td>ENSG00000004059</td>\n",
       "      <td>ENSG00000187446</td>\n",
       "    </tr>\n",
       "    <tr>\n",
       "      <th>10</th>\n",
       "      <td>ENSP00000000233</td>\n",
       "      <td>ENSP00000356143</td>\n",
       "      <td>255</td>\n",
       "      <td>ENSG00000004059</td>\n",
       "      <td>ENSG00000170382</td>\n",
       "    </tr>\n",
       "    <tr>\n",
       "      <th>11</th>\n",
       "      <td>ENSP00000000233</td>\n",
       "      <td>ENSP00000284957</td>\n",
       "      <td>320</td>\n",
       "      <td>ENSG00000004059</td>\n",
       "      <td>ENSG00000154710</td>\n",
       "    </tr>\n",
       "    <tr>\n",
       "      <th>12</th>\n",
       "      <td>ENSP00000000233</td>\n",
       "      <td>ENSP00000332668</td>\n",
       "      <td>255</td>\n",
       "      <td>ENSG00000004059</td>\n",
       "      <td>ENSG00000182704</td>\n",
       "    </tr>\n",
       "    <tr>\n",
       "      <th>13</th>\n",
       "      <td>ENSP00000000233</td>\n",
       "      <td>ENSP00000371734</td>\n",
       "      <td>190</td>\n",
       "      <td>ENSG00000004059</td>\n",
       "      <td>ENSG00000107104</td>\n",
       "    </tr>\n",
       "    <tr>\n",
       "      <th>14</th>\n",
       "      <td>ENSP00000000233</td>\n",
       "      <td>ENSP00000350331</td>\n",
       "      <td>190</td>\n",
       "      <td>ENSG00000004059</td>\n",
       "      <td>ENSG00000196372</td>\n",
       "    </tr>\n",
       "    <tr>\n",
       "      <th>15</th>\n",
       "      <td>ENSP00000000233</td>\n",
       "      <td>ENSP00000251412</td>\n",
       "      <td>266</td>\n",
       "      <td>ENSG00000004059</td>\n",
       "      <td>ENSG00000037042</td>\n",
       "    </tr>\n",
       "    <tr>\n",
       "      <th>16</th>\n",
       "      <td>ENSP00000000233</td>\n",
       "      <td>ENSP00000270451</td>\n",
       "      <td>164</td>\n",
       "      <td>ENSG00000004059</td>\n",
       "      <td>ENSG00000171425</td>\n",
       "    </tr>\n",
       "    <tr>\n",
       "      <th>17</th>\n",
       "      <td>ENSP00000000233</td>\n",
       "      <td>ENSP00000301744</td>\n",
       "      <td>164</td>\n",
       "      <td>ENSG00000004059</td>\n",
       "      <td>ENSG00000167981</td>\n",
       "    </tr>\n",
       "    <tr>\n",
       "      <th>18</th>\n",
       "      <td>ENSP00000000233</td>\n",
       "      <td>ENSP00000269571</td>\n",
       "      <td>164</td>\n",
       "      <td>ENSG00000004059</td>\n",
       "      <td>ENSG00000141736</td>\n",
       "    </tr>\n",
       "    <tr>\n",
       "      <th>19</th>\n",
       "      <td>ENSP00000000233</td>\n",
       "      <td>ENSP00000471417</td>\n",
       "      <td>190</td>\n",
       "      <td>ENSG00000004059</td>\n",
       "      <td>ENSG00000189045</td>\n",
       "    </tr>\n",
       "  </tbody>\n",
       "</table>\n",
       "</div>"
      ],
      "text/plain": [
       "           protein1         protein2  combined_score            gene1  \\\n",
       "0   ENSP00000000233  ENSP00000263431             260  ENSG00000004059   \n",
       "1   ENSP00000000233  ENSP00000353863             164  ENSG00000004059   \n",
       "2   ENSP00000000233  ENSP00000342026             159  ENSG00000004059   \n",
       "3   ENSP00000000233  ENSP00000240874             194  ENSG00000004059   \n",
       "4   ENSP00000000233  ENSP00000379847             164  ENSG00000004059   \n",
       "5   ENSP00000000233  ENSP00000400088             189  ENSG00000004059   \n",
       "6   ENSP00000000233  ENSP00000362465             240  ENSG00000004059   \n",
       "7   ENSP00000000233  ENSP00000415070             164  ENSG00000004059   \n",
       "8   ENSP00000000233  ENSP00000379387             164  ENSG00000004059   \n",
       "9   ENSP00000000233  ENSP00000335632             224  ENSG00000004059   \n",
       "10  ENSP00000000233  ENSP00000356143             255  ENSG00000004059   \n",
       "11  ENSP00000000233  ENSP00000284957             320  ENSG00000004059   \n",
       "12  ENSP00000000233  ENSP00000332668             255  ENSG00000004059   \n",
       "13  ENSP00000000233  ENSP00000371734             190  ENSG00000004059   \n",
       "14  ENSP00000000233  ENSP00000350331             190  ENSG00000004059   \n",
       "15  ENSP00000000233  ENSP00000251412             266  ENSG00000004059   \n",
       "16  ENSP00000000233  ENSP00000270451             164  ENSG00000004059   \n",
       "17  ENSP00000000233  ENSP00000301744             164  ENSG00000004059   \n",
       "18  ENSP00000000233  ENSP00000269571             164  ENSG00000004059   \n",
       "19  ENSP00000000233  ENSP00000471417             190  ENSG00000004059   \n",
       "\n",
       "              gene2  \n",
       "0   ENSG00000126583  \n",
       "1   ENSG00000163848  \n",
       "2   ENSG00000117592  \n",
       "3   ENSG00000160145  \n",
       "4   ENSG00000166478  \n",
       "5   ENSG00000250506  \n",
       "6   ENSG00000102383  \n",
       "7   ENSG00000270011  \n",
       "8   ENSG00000283034  \n",
       "9   ENSG00000187446  \n",
       "10  ENSG00000170382  \n",
       "11  ENSG00000154710  \n",
       "12  ENSG00000182704  \n",
       "13  ENSG00000107104  \n",
       "14  ENSG00000196372  \n",
       "15  ENSG00000037042  \n",
       "16  ENSG00000171425  \n",
       "17  ENSG00000167981  \n",
       "18  ENSG00000141736  \n",
       "19  ENSG00000189045  "
      ]
     },
     "execution_count": 56,
     "metadata": {},
     "output_type": "execute_result"
    }
   ],
   "source": [
    "interactions_nona"
   ]
  },
  {
   "cell_type": "code",
   "execution_count": 62,
   "metadata": {
    "collapsed": false,
    "scrolled": false
   },
   "outputs": [
    {
     "name": "stdout",
     "output_type": "stream",
     "text": [
      "not found ENSG00000004059 -> ENSG00000126583\n",
      "not found ENSG00000004059 -> ENSG00000283034\n"
     ]
    }
   ],
   "source": [
    "INTERACTION_SCORE_THRESHOLD = 1\n",
    "\n",
    "# extract adjacency matrix from interactions\n",
    "N = len(gene_names)\n",
    "adjacency_matrix = np.zeros((N, N), np.uint8)\n",
    "adj_df = pandas.DataFrame(adjacency_matrix, index=gene_ids, columns=gene_ids)\n",
    "\n",
    "count = 0\n",
    "for index, row in interactions_nona.iterrows():\n",
    "    if row.combined_score > INTERACTION_SCORE_THRESHOLD:\n",
    "        i1 = row.gene1\n",
    "        i2 = row.gene2\n",
    "        if i1 in gene_ids and i2 in gene_ids:\n",
    "            adj_df.ix[i1, i2] = 1\n",
    "            adj_df.ix[i2, i1] = 1\n",
    "        else:\n",
    "            print (\"not found {} -> {}\".format(i1, i2))\n",
    "            \n",
    "    count += 1\n",
    "    if count % 10000 == 0:\n",
    "        print (\"Processed {} out of {} rows\".format(count, interactions_nona.shape[0]))"
   ]
  },
  {
   "cell_type": "code",
   "execution_count": 61,
   "metadata": {
    "collapsed": false
   },
   "outputs": [
    {
     "data": {
      "text/plain": [
       "Ensembl-ID\n",
       "ENSG00000004059    18\n",
       "ENSG00000037042     1\n",
       "ENSG00000102383     1\n",
       "ENSG00000107104     1\n",
       "ENSG00000117592     1\n",
       "ENSG00000141736     1\n",
       "ENSG00000154710     1\n",
       "ENSG00000160145     1\n",
       "ENSG00000163848     1\n",
       "ENSG00000166478     1\n",
       "ENSG00000167981     1\n",
       "ENSG00000170382     1\n",
       "ENSG00000171425     1\n",
       "ENSG00000182704     1\n",
       "ENSG00000187446     1\n",
       "ENSG00000189045     1\n",
       "ENSG00000196372     1\n",
       "ENSG00000250506     1\n",
       "ENSG00000270011     1\n",
       "dtype: int64"
      ]
     },
     "execution_count": 61,
     "metadata": {},
     "output_type": "execute_result"
    }
   ],
   "source": [
    "test = adj_df.sum()\n",
    "test[test >= 1]"
   ]
  },
  {
   "cell_type": "markdown",
   "metadata": {
    "deletable": true,
    "editable": true
   },
   "source": [
    "## Remove isolated genes from network & gene expression"
   ]
  },
  {
   "cell_type": "code",
   "execution_count": 95,
   "metadata": {
    "collapsed": false,
    "deletable": true,
    "editable": true,
    "scrolled": true
   },
   "outputs": [
    {
     "data": {
      "text/html": [
       "<div>\n",
       "<table border=\"1\" class=\"dataframe\">\n",
       "  <thead>\n",
       "    <tr style=\"text-align: right;\">\n",
       "      <th></th>\n",
       "      <th>Pam3T16</th>\n",
       "      <th>Pam3T8</th>\n",
       "      <th>Pam3T16.1</th>\n",
       "      <th>Pam3T8.1</th>\n",
       "      <th>Pam3T16.2</th>\n",
       "      <th>Pam3T8.2</th>\n",
       "      <th>ControlT8</th>\n",
       "      <th>ControlT16</th>\n",
       "      <th>ControlT8.1</th>\n",
       "      <th>ControlT16.1</th>\n",
       "      <th>...</th>\n",
       "      <th>gfpmT8.1</th>\n",
       "      <th>gfpmT16.1</th>\n",
       "      <th>gfpmT8.2</th>\n",
       "      <th>gfpmT16.2</th>\n",
       "      <th>gfppT8</th>\n",
       "      <th>gfppT16</th>\n",
       "      <th>gfppT8.1</th>\n",
       "      <th>gfppT16.1</th>\n",
       "      <th>gfppT8.2</th>\n",
       "      <th>gfppT16.2</th>\n",
       "    </tr>\n",
       "    <tr>\n",
       "      <th>Ensembl-ID</th>\n",
       "      <th></th>\n",
       "      <th></th>\n",
       "      <th></th>\n",
       "      <th></th>\n",
       "      <th></th>\n",
       "      <th></th>\n",
       "      <th></th>\n",
       "      <th></th>\n",
       "      <th></th>\n",
       "      <th></th>\n",
       "      <th></th>\n",
       "      <th></th>\n",
       "      <th></th>\n",
       "      <th></th>\n",
       "      <th></th>\n",
       "      <th></th>\n",
       "      <th></th>\n",
       "      <th></th>\n",
       "      <th></th>\n",
       "      <th></th>\n",
       "      <th></th>\n",
       "    </tr>\n",
       "  </thead>\n",
       "  <tbody>\n",
       "    <tr>\n",
       "      <th>ENSG00000000003</th>\n",
       "      <td>-0.112112</td>\n",
       "      <td>-0.116104</td>\n",
       "      <td>-0.066323</td>\n",
       "      <td>-0.129456</td>\n",
       "      <td>-0.128630</td>\n",
       "      <td>-0.085007</td>\n",
       "      <td>-0.119097</td>\n",
       "      <td>-0.132638</td>\n",
       "      <td>-0.137808</td>\n",
       "      <td>-0.116562</td>\n",
       "      <td>...</td>\n",
       "      <td>-0.124763</td>\n",
       "      <td>-0.137221</td>\n",
       "      <td>-0.091480</td>\n",
       "      <td>-0.122248</td>\n",
       "      <td>-0.071886</td>\n",
       "      <td>-0.076810</td>\n",
       "      <td>-0.049512</td>\n",
       "      <td>-0.101443</td>\n",
       "      <td>-0.071697</td>\n",
       "      <td>-0.067789</td>\n",
       "    </tr>\n",
       "    <tr>\n",
       "      <th>ENSG00000000419</th>\n",
       "      <td>-0.019636</td>\n",
       "      <td>-0.055894</td>\n",
       "      <td>-0.014149</td>\n",
       "      <td>-0.026348</td>\n",
       "      <td>-0.034298</td>\n",
       "      <td>-0.031775</td>\n",
       "      <td>-0.027954</td>\n",
       "      <td>-0.010898</td>\n",
       "      <td>0.011211</td>\n",
       "      <td>0.011268</td>\n",
       "      <td>...</td>\n",
       "      <td>-0.003864</td>\n",
       "      <td>0.022521</td>\n",
       "      <td>-0.018581</td>\n",
       "      <td>-0.039281</td>\n",
       "      <td>0.048819</td>\n",
       "      <td>0.030559</td>\n",
       "      <td>0.013568</td>\n",
       "      <td>0.014119</td>\n",
       "      <td>0.039539</td>\n",
       "      <td>0.028876</td>\n",
       "    </tr>\n",
       "    <tr>\n",
       "      <th>ENSG00000000457</th>\n",
       "      <td>-0.033336</td>\n",
       "      <td>-0.054758</td>\n",
       "      <td>-0.044529</td>\n",
       "      <td>-0.070006</td>\n",
       "      <td>-0.044180</td>\n",
       "      <td>-0.028499</td>\n",
       "      <td>-0.034294</td>\n",
       "      <td>-0.051478</td>\n",
       "      <td>-0.062530</td>\n",
       "      <td>-0.056726</td>\n",
       "      <td>...</td>\n",
       "      <td>-0.058222</td>\n",
       "      <td>-0.073153</td>\n",
       "      <td>-0.007781</td>\n",
       "      <td>-0.031252</td>\n",
       "      <td>-0.042793</td>\n",
       "      <td>-0.045315</td>\n",
       "      <td>-0.034728</td>\n",
       "      <td>-0.062412</td>\n",
       "      <td>-0.042929</td>\n",
       "      <td>-0.039745</td>\n",
       "    </tr>\n",
       "    <tr>\n",
       "      <th>ENSG00000000938</th>\n",
       "      <td>-0.064162</td>\n",
       "      <td>0.016814</td>\n",
       "      <td>-0.009526</td>\n",
       "      <td>0.232816</td>\n",
       "      <td>0.042965</td>\n",
       "      <td>0.016543</td>\n",
       "      <td>-0.061241</td>\n",
       "      <td>-0.065906</td>\n",
       "      <td>0.103387</td>\n",
       "      <td>-0.027715</td>\n",
       "      <td>...</td>\n",
       "      <td>0.211692</td>\n",
       "      <td>0.148093</td>\n",
       "      <td>0.047569</td>\n",
       "      <td>-0.055339</td>\n",
       "      <td>-0.022985</td>\n",
       "      <td>-0.036726</td>\n",
       "      <td>0.014554</td>\n",
       "      <td>0.088354</td>\n",
       "      <td>-0.019915</td>\n",
       "      <td>-0.036164</td>\n",
       "    </tr>\n",
       "    <tr>\n",
       "      <th>ENSG00000000971</th>\n",
       "      <td>-0.100125</td>\n",
       "      <td>-0.103608</td>\n",
       "      <td>-0.052454</td>\n",
       "      <td>-0.085798</td>\n",
       "      <td>-0.098084</td>\n",
       "      <td>-0.074361</td>\n",
       "      <td>-0.124645</td>\n",
       "      <td>-0.138950</td>\n",
       "      <td>-0.131663</td>\n",
       "      <td>-0.112935</td>\n",
       "      <td>...</td>\n",
       "      <td>-0.125700</td>\n",
       "      <td>-0.125262</td>\n",
       "      <td>-0.096880</td>\n",
       "      <td>-0.120464</td>\n",
       "      <td>-0.075600</td>\n",
       "      <td>-0.079674</td>\n",
       "      <td>-0.052798</td>\n",
       "      <td>-0.104504</td>\n",
       "      <td>-0.078409</td>\n",
       "      <td>-0.080917</td>\n",
       "    </tr>\n",
       "  </tbody>\n",
       "</table>\n",
       "<p>5 rows × 24 columns</p>\n",
       "</div>"
      ],
      "text/plain": [
       "                  Pam3T16    Pam3T8  Pam3T16.1  Pam3T8.1  Pam3T16.2  Pam3T8.2  \\\n",
       "Ensembl-ID                                                                      \n",
       "ENSG00000000003 -0.112112 -0.116104  -0.066323 -0.129456  -0.128630 -0.085007   \n",
       "ENSG00000000419 -0.019636 -0.055894  -0.014149 -0.026348  -0.034298 -0.031775   \n",
       "ENSG00000000457 -0.033336 -0.054758  -0.044529 -0.070006  -0.044180 -0.028499   \n",
       "ENSG00000000938 -0.064162  0.016814  -0.009526  0.232816   0.042965  0.016543   \n",
       "ENSG00000000971 -0.100125 -0.103608  -0.052454 -0.085798  -0.098084 -0.074361   \n",
       "\n",
       "                 ControlT8  ControlT16  ControlT8.1  ControlT16.1    ...      \\\n",
       "Ensembl-ID                                                           ...       \n",
       "ENSG00000000003  -0.119097   -0.132638    -0.137808     -0.116562    ...       \n",
       "ENSG00000000419  -0.027954   -0.010898     0.011211      0.011268    ...       \n",
       "ENSG00000000457  -0.034294   -0.051478    -0.062530     -0.056726    ...       \n",
       "ENSG00000000938  -0.061241   -0.065906     0.103387     -0.027715    ...       \n",
       "ENSG00000000971  -0.124645   -0.138950    -0.131663     -0.112935    ...       \n",
       "\n",
       "                 gfpmT8.1  gfpmT16.1  gfpmT8.2  gfpmT16.2    gfppT8   gfppT16  \\\n",
       "Ensembl-ID                                                                      \n",
       "ENSG00000000003 -0.124763  -0.137221 -0.091480  -0.122248 -0.071886 -0.076810   \n",
       "ENSG00000000419 -0.003864   0.022521 -0.018581  -0.039281  0.048819  0.030559   \n",
       "ENSG00000000457 -0.058222  -0.073153 -0.007781  -0.031252 -0.042793 -0.045315   \n",
       "ENSG00000000938  0.211692   0.148093  0.047569  -0.055339 -0.022985 -0.036726   \n",
       "ENSG00000000971 -0.125700  -0.125262 -0.096880  -0.120464 -0.075600 -0.079674   \n",
       "\n",
       "                 gfppT8.1  gfppT16.1  gfppT8.2  gfppT16.2  \n",
       "Ensembl-ID                                                 \n",
       "ENSG00000000003 -0.049512  -0.101443 -0.071697  -0.067789  \n",
       "ENSG00000000419  0.013568   0.014119  0.039539   0.028876  \n",
       "ENSG00000000457 -0.034728  -0.062412 -0.042929  -0.039745  \n",
       "ENSG00000000938  0.014554   0.088354 -0.019915  -0.036164  \n",
       "ENSG00000000971 -0.052798  -0.104504 -0.078409  -0.080917  \n",
       "\n",
       "[5 rows x 24 columns]"
      ]
     },
     "execution_count": 95,
     "metadata": {},
     "output_type": "execute_result"
    }
   ],
   "source": [
    "# kick out all genes without interactions (isolated nodes)\n",
    "genes_with_interactions = adj_df.sum(axis=1) > 0\n",
    "ppi_network = adj_df.ix[genes_with_interactions, genes_with_interactions]\n",
    "\n",
    "# remove gene expression for isolated genes\n",
    "gene_names = ppi_network.index\n",
    "gene_expression_short = ge_scaled.loc[gene_expression['Name'].isin(gene_names)]\n",
    "# build list of gene names and ids\n",
    "gene_names_ids = np.stack([np.array(gene_expression_short.index),\n",
    "                           np.array(gene_names)],\n",
    "                          axis=1\n",
    "                         )\n"
   ]
  },
  {
   "cell_type": "markdown",
   "metadata": {
    "deletable": true,
    "editable": true
   },
   "source": [
    "## Get Labels"
   ]
  },
  {
   "cell_type": "code",
   "execution_count": 98,
   "metadata": {
    "collapsed": false,
    "deletable": true,
    "editable": true
   },
   "outputs": [
    {
     "data": {
      "text/plain": [
       "(10367, 10367)"
      ]
     },
     "execution_count": 98,
     "metadata": {},
     "output_type": "execute_result"
    }
   ],
   "source": [
    "ppi_network.shape"
   ]
  },
  {
   "cell_type": "markdown",
   "metadata": {
    "deletable": true,
    "editable": true
   },
   "source": [
    "## Generate Training, Testing & Validation Splits"
   ]
  },
  {
   "cell_type": "markdown",
   "metadata": {
    "deletable": true,
    "editable": true
   },
   "source": [
    "## Write to hdf5 File on Disk"
   ]
  },
  {
   "cell_type": "code",
   "execution_count": 99,
   "metadata": {
    "collapsed": false,
    "deletable": true,
    "editable": true
   },
   "outputs": [],
   "source": [
    "# create gene names\n",
    "string_dt = h5py.special_dtype(vlen=str)\n",
    "\n",
    "f = h5py.File('../data/preprocessing/ppi_networks.h5', 'w')\n",
    "f.create_dataset('consensusPathDB_ppi', data=ppi_network, shape=ppi_network.shape)\n",
    "f.create_dataset('gene_expression', data=gene_expression_short, shape=gene_expression_short.shape)\n",
    "f.create_dataset('gene_names', data=gene_names_ids, dtype=string_dt)\n",
    "\n",
    "# doesn't exist yet :-(\n",
    "#f.create_dataset('y_train', data=y_train, shape=y_train.shape)\n",
    "#f.create_dataset('y_test', data=y_test, shape=y_test.shape)\n",
    "#f.create_dataset('y_val', data=y_val, shape=y_val.shape)\n",
    "\n",
    "#f.create_dataset('mask_train', data=mask_train, shape=mask_train.shape)\n",
    "#f.create_dataset('mask_test', data=mask_test, shape=mask_test.shape)\n",
    "#f.create_dataset('mask_val', data=mask_val, shape=mask_val.shape)\n",
    "f.close()"
   ]
  },
  {
   "cell_type": "code",
   "execution_count": 25,
   "metadata": {
    "collapsed": true,
    "deletable": true,
    "editable": true
   },
   "outputs": [],
   "source": [
    "f.close()"
   ]
  },
  {
   "cell_type": "code",
   "execution_count": 3,
   "metadata": {
    "collapsed": false,
    "deletable": true,
    "editable": true
   },
   "outputs": [],
   "source": [
    "fname = '../data/preprocessing/ppi_networks.h5'\n",
    "with h5py.File(fname, 'r') as f:\n",
    "    gene_expression_data = f['gene_expression'][:]\n",
    "    ppi_network = f['consensusPathDB_ppi'][:]\n",
    "    gene_names = f['gene_names'][:]"
   ]
  },
  {
   "cell_type": "code",
   "execution_count": 4,
   "metadata": {
    "collapsed": false,
    "deletable": true,
    "editable": true
   },
   "outputs": [
    {
     "data": {
      "text/plain": [
       "array(['DPM1', 'FGR', 'NFYA', ..., 'MRM1', 'DGCR6', 'MATR3'], dtype=object)"
      ]
     },
     "execution_count": 4,
     "metadata": {},
     "output_type": "execute_result"
    }
   ],
   "source": [
    "gene_names"
   ]
  },
  {
   "cell_type": "code",
   "execution_count": 121,
   "metadata": {
    "collapsed": true,
    "deletable": true,
    "editable": true
   },
   "outputs": [],
   "source": [
    "pr_val = np.array([3, 1, 2])\n",
    "gene_names = np.array(['g1', 'g2', 'g3'])\n",
    "sort_idx = pr_val.argsort()\n",
    "gene_names_sorted = gene_names[sort_idx[::-1]]"
   ]
  },
  {
   "cell_type": "code",
   "execution_count": 122,
   "metadata": {
    "collapsed": false,
    "deletable": true,
    "editable": true
   },
   "outputs": [
    {
     "data": {
      "text/plain": [
       "array(['g1', 'g3', 'g2'],\n",
       "      dtype='<U2')"
      ]
     },
     "execution_count": 122,
     "metadata": {},
     "output_type": "execute_result"
    }
   ],
   "source": [
    "gene_names_sorted"
   ]
  },
  {
   "cell_type": "code",
   "execution_count": 124,
   "metadata": {
    "collapsed": true,
    "deletable": true,
    "editable": true
   },
   "outputs": [],
   "source": [
    "import networkx as nx"
   ]
  },
  {
   "cell_type": "code",
   "execution_count": 125,
   "metadata": {
    "collapsed": true,
    "deletable": true,
    "editable": true
   },
   "outputs": [],
   "source": [
    "G = nx.DiGraph(nx.path_graph(4))\n",
    "pr = nx.pagerank(G)"
   ]
  },
  {
   "cell_type": "code",
   "execution_count": 126,
   "metadata": {
    "collapsed": false,
    "deletable": true,
    "editable": true
   },
   "outputs": [
    {
     "data": {
      "text/plain": [
       "{0: 0.17543839772251535,\n",
       " 1: 0.32456160227748465,\n",
       " 2: 0.32456160227748465,\n",
       " 3: 0.17543839772251535}"
      ]
     },
     "execution_count": 126,
     "metadata": {},
     "output_type": "execute_result"
    }
   ],
   "source": [
    "pr"
   ]
  },
  {
   "cell_type": "code",
   "execution_count": 128,
   "metadata": {
    "collapsed": false,
    "deletable": true,
    "editable": true
   },
   "outputs": [],
   "source": [
    "import operator\n",
    "pr_s = sorted(pr.items(), key=operator.itemgetter(1))[::-1]"
   ]
  },
  {
   "cell_type": "code",
   "execution_count": 131,
   "metadata": {
    "collapsed": false,
    "deletable": true,
    "editable": true
   },
   "outputs": [
    {
     "data": {
      "text/plain": [
       "array([['TSPAN6', 'ENSG00000000003'],\n",
       "       ['DPM1', 'ENSG00000000419'],\n",
       "       ['SCYL3', 'ENSG00000000457'],\n",
       "       ..., \n",
       "       ['CH17-132F21.5', 'ENSG00000281904'],\n",
       "       ['RP11-439M15.1', 'ENSG00000281909'],\n",
       "       ['LINC01144', 'ENSG00000281912']], dtype=object)"
      ]
     },
     "execution_count": 131,
     "metadata": {},
     "output_type": "execute_result"
    }
   ],
   "source": [
    "gene_names_both"
   ]
  },
  {
   "cell_type": "code",
   "execution_count": 135,
   "metadata": {
    "collapsed": false,
    "deletable": true,
    "editable": true
   },
   "outputs": [
    {
     "name": "stdout",
     "output_type": "stream",
     "text": [
      "ENSG00000000457\tSCYL3\t1\t0.32456160227748465\n",
      "\n",
      "ENSG00000000419\tDPM1\t2\t0.32456160227748465\n",
      "\n",
      "ENSG00000000460\tC1orf112\t3\t0.17543839772251535\n",
      "\n",
      "ENSG00000000003\tTSPAN6\t4\t0.17543839772251535\n",
      "\n"
     ]
    }
   ],
   "source": [
    "count = 1\n",
    "for gene_idx, pr in pr_s:\n",
    "    print (\"{}\\t{}\\t{}\\t{}\\n\".format(gene_names_both[gene_idx][1], gene_names_both[gene_idx][0], count, pr))\n",
    "    count += 1"
   ]
  },
  {
   "cell_type": "code",
   "execution_count": 12,
   "metadata": {
    "collapsed": false,
    "deletable": true,
    "editable": true
   },
   "outputs": [
    {
     "ename": "ModuleNotFoundError",
     "evalue": "No module named 'tables'",
     "output_type": "error",
     "traceback": [
      "\u001b[0;31m---------------------------------------------------------------------------\u001b[0m",
      "\u001b[0;31mModuleNotFoundError\u001b[0m                       Traceback (most recent call last)",
      "\u001b[0;32m<ipython-input-12-389ecae14f10>\u001b[0m in \u001b[0;36m<module>\u001b[0;34m()\u001b[0m\n\u001b[0;32m----> 1\u001b[0;31m \u001b[0;32mimport\u001b[0m \u001b[0mtables\u001b[0m\u001b[0;34m\u001b[0m\u001b[0m\n\u001b[0m",
      "\u001b[0;31mModuleNotFoundError\u001b[0m: No module named 'tables'"
     ]
    }
   ],
   "source": [
    "import tables"
   ]
  },
  {
   "cell_type": "code",
   "execution_count": null,
   "metadata": {
    "collapsed": true,
    "deletable": true,
    "editable": true
   },
   "outputs": [],
   "source": []
  }
 ],
 "metadata": {
  "kernelspec": {
   "display_name": "Python 3",
   "language": "python",
   "name": "python3"
  },
  "language_info": {
   "codemirror_mode": {
    "name": "ipython",
    "version": 3
   },
   "file_extension": ".py",
   "mimetype": "text/x-python",
   "name": "python",
   "nbconvert_exporter": "python",
   "pygments_lexer": "ipython3",
   "version": "3.6.1"
  }
 },
 "nbformat": 4,
 "nbformat_minor": 2
}
