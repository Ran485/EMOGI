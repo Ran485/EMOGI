{
 "cells": [
  {
   "cell_type": "markdown",
   "metadata": {
    "deletable": true,
    "editable": true
   },
   "source": [
    "# Preprocess Legionella Data & PPI to Form GCN Input\n",
    "In this notebook, I want to join the PPI network from ConsensusPathDB, the gene expression derived from the dual RNA-seq experiments and the labels to form one dataset. The goal is a hdf5 container with all the information to train a GCN on the data.\n",
    "\n",
    "This involves the following steps:\n",
    "* Preprocess the gene expression data\n",
    "* Calculate an adjacency matrix from the protein-protein-interactions\n",
    "* Only use genes in network for which we have gene expression\n",
    "* Check if the node degree follows a power law distribution\n",
    "* Load the labels and split into training and testing\n",
    "* Create hdf5 container"
   ]
  },
  {
   "cell_type": "code",
   "execution_count": 1,
   "metadata": {
    "collapsed": false,
    "deletable": true,
    "editable": true
   },
   "outputs": [
    {
     "name": "stderr",
     "output_type": "stream",
     "text": [
      "/home/sasse/.local/lib/python3.6/site-packages/h5py/__init__.py:34: FutureWarning: Conversion of the second argument of issubdtype from `float` to `np.floating` is deprecated. In future, it will be treated as `np.float64 == np.dtype(float).type`.\n",
      "  from ._conv import register_converters as _register_converters\n"
     ]
    }
   ],
   "source": [
    "import pandas as pd\n",
    "import numpy as np\n",
    "#from sklearn.decomposition import PCA\n",
    "from sklearn import preprocessing\n",
    "import matplotlib.pyplot as plt\n",
    "np.set_printoptions(suppress=True)\n",
    "import h5py\n",
    "import mygene\n",
    "from sklearn.model_selection import train_test_split\n",
    "import networkx as nx\n",
    "%matplotlib inline"
   ]
  },
  {
   "cell_type": "markdown",
   "metadata": {
    "deletable": true,
    "editable": true
   },
   "source": [
    "## Parameters for the Notebook\n",
    "* **TIMES_STD_THRESHOLD:** How many times over the standard deviation does a gene have to show expression to be considered as an outlier.\n",
    "* **MAX_ZEROS_ALLOWED:** The ratio of zeros of gene expressions for a gene that is permitted before the gene gets kicked out.\n",
    "* **SCALE:** Do we normalize the gene expression using a standard min/max scaler?\n",
    "* **VAL_SIZE:** The size of our validation data set (0 means no validation data set).\n",
    "* **TEST_RATIO:** The ratio of the data that is used for testing the model.\n",
    "* **BALANCE:** Do we want the training set to contain as many positives as negatives or not?\n",
    "* **MIN_VAR_THRESHOLD:** When we derive a set of negative genes (those definitely not involved in Legionella infection), we select them using the genes which show low variance over the course of infection."
   ]
  },
  {
   "cell_type": "code",
   "execution_count": 24,
   "metadata": {
    "collapsed": true,
    "deletable": true,
    "editable": true
   },
   "outputs": [],
   "source": [
    "# params\n",
    "TIMES_STD_THRESHOLD = 10.\n",
    "MAX_ZEROS_ALLOWED = .7\n",
    "SCALE = False\n",
    "VAL_SIZE = 0\n",
    "TEST_RATIO = 0.4\n",
    "BALANCE = False\n",
    "MIN_VAR_THRESHOLD = 0.5\n",
    "NEGATIVE_SET_LOWVAR = True"
   ]
  },
  {
   "cell_type": "markdown",
   "metadata": {
    "deletable": true,
    "editable": true
   },
   "source": [
    "## Preprocess Gene Expression\n",
    "Let's start by preprocessing the gene expression values. We have the counts already normalized, which is good. But we might want to kick out those genes that show a unrealistically high gene expression or that do contain lots of zeros."
   ]
  },
  {
   "cell_type": "code",
   "execution_count": 25,
   "metadata": {
    "collapsed": false,
    "deletable": true,
    "editable": true,
    "scrolled": true
   },
   "outputs": [
    {
     "name": "stdout",
     "output_type": "stream",
     "text": [
      "Had gene expression for 41424 genes in the beginning.\n",
      "kicked out 9 super highly expressed genes\n",
      "Kicked out 11344 genes with more than 70.0% zeros\n",
      "==> Left with gene expression for 30071 genes\n"
     ]
    }
   ],
   "source": [
    "# load data\n",
    "gene_expression = pd.DataFrame.from_csv('../data/preprocessing/normalized-counts-labels.csv',\n",
    "                                        encoding='utf-8', sep=','\n",
    "                                       )\n",
    "ge_nonames = gene_expression.drop('Name', axis=1)\n",
    "\n",
    "# kick out super highly expressed genes\n",
    "threshold = ge_nonames.mean(axis=1).std()*TIMES_STD_THRESHOLD\n",
    "#print (\"Threshold Gene Expression: {}\".format(threshold))\n",
    "anomalies = gene_expression[ge_nonames.mean(axis=1) > threshold]\n",
    "ge_anomalies_removed = ge_nonames.drop(anomalies.index)\n",
    "\n",
    "# kick out genes with too many zeros\n",
    "ge_zeros_removed = ge_anomalies_removed[ge_anomalies_removed.astype('bool').mean(axis=1)>=(1-MAX_ZEROS_ALLOWED)]\n",
    "\n",
    "# write gene expression to file to perform differential expression analysis on it\n",
    "ge_zeros_removed.to_csv('../data/preprocessing/gene_expression_counts.tsv', sep='\\t')\n",
    "\n",
    "# scaling\n",
    "if SCALE:\n",
    "    scaler = preprocessing.StandardScaler()\n",
    "    scaled_features = scaler.fit_transform(ge_zeros_removed)\n",
    "    ge_final = pd.DataFrame(scaled_features,\n",
    "                            index=ge_zeros_removed.index,\n",
    "                            columns=ge_zeros_removed.columns\n",
    "                           )\n",
    "else:\n",
    "    ge_final = ge_zeros_removed\n",
    "\n",
    "# get the name column back\n",
    "ge_final = gene_expression[gene_expression.index.isin(ge_final.index)]\n",
    "\n",
    "# print some information\n",
    "print (\"Had gene expression for {} genes in the beginning.\".format(ge_nonames.shape[0]))\n",
    "print (\"kicked out {} super highly expressed genes\".format(ge_nonames.shape[0] - ge_anomalies_removed.shape[0]))\n",
    "print (\"Kicked out {} genes with more than {}% zeros\".format(ge_anomalies_removed.shape[0]-ge_zeros_removed.shape[0],\n",
    "                                                             MAX_ZEROS_ALLOWED*100.\n",
    "                                                            ))\n",
    "print (\"==> Left with gene expression for {} genes\".format(ge_final.shape[0]))"
   ]
  },
  {
   "cell_type": "markdown",
   "metadata": {
    "deletable": true,
    "editable": true
   },
   "source": [
    "## ConsensusPathDB: Get PPI Network\n",
    "I want to construct an adjacency matrix from the interactions in ConsensusPathDB.\n",
    "However, I only want it for the genes for which I have gene expression data. If not both genes are involved in an interaction, I don't want to save the interaction."
   ]
  },
  {
   "cell_type": "code",
   "execution_count": 26,
   "metadata": {
    "collapsed": false,
    "deletable": true,
    "editable": true,
    "scrolled": false
   },
   "outputs": [
    {
     "name": "stdout",
     "output_type": "stream",
     "text": [
      "We lose 53664 interactions by removing those where not both genes have expression\n",
      "Still keeping 164708 interactions\n"
     ]
    }
   ],
   "source": [
    "# read interaction data (implicit threshold of 0.5 for interaction confidence)\n",
    "interactions = pd.read_csv('../data/networks/CPDB_ensg_edgelist.tsv',\n",
    "                           header=0,\n",
    "                           sep='\\t',\n",
    "                           names=['number', 'gene1', 'gene2', 'score']\n",
    "                          )\n",
    "\n",
    "# kick out interactions for which we don't have gene expression\n",
    "lost = interactions[~interactions.gene1.isin(ge_final.index) | ~interactions.gene2.isin(ge_final.index)].shape[0]\n",
    "print (\"We lose {} interactions by removing those where not both genes have expression\".format(lost))\n",
    "interactions_ge = interactions[interactions.gene1.isin(ge_final.index) & interactions.gene2.isin(ge_final.index)]\n",
    "print (\"Still keeping {} interactions\".format(interactions_ge.shape[0]))"
   ]
  },
  {
   "cell_type": "code",
   "execution_count": 27,
   "metadata": {
    "collapsed": false,
    "deletable": true,
    "editable": true
   },
   "outputs": [
    {
     "name": "stdout",
     "output_type": "stream",
     "text": [
      "Constructed Adjacency Matrix with average node degree of: 30.425020789060333\n",
      "Adjacency matrix has 329290.0 edges in total\n",
      "Network has 10823 nodes in total\n"
     ]
    }
   ],
   "source": [
    "# construct adjacency matrix (memory consuming)\n",
    "G = nx.from_pandas_dataframe(interactions_ge, source='gene1', target='gene2', edge_attr=None)\n",
    "ppi_network = nx.to_pandas_dataframe(G)\n",
    "\n",
    "# sanity check (matrix symmetric?)\n",
    "assert (np.allclose(ppi_network, ppi_network.T))\n",
    "\n",
    "# output some statistics\n",
    "avg_node_degree = ppi_network.sum().mean()\n",
    "total_num_of_connections = ppi_network.sum().sum()\n",
    "\n",
    "print (\"Constructed Adjacency Matrix with average node degree of: {}\".format(avg_node_degree))\n",
    "print (\"Adjacency matrix has {} edges in total\".format(total_num_of_connections))\n",
    "print (\"Network has {} nodes in total\".format(ppi_network.index.shape[0]))"
   ]
  },
  {
   "cell_type": "code",
   "execution_count": 28,
   "metadata": {
    "collapsed": false,
    "deletable": true,
    "editable": true
   },
   "outputs": [
    {
     "data": {
      "text/plain": [
       "<matplotlib.text.Text at 0x7f272f170400>"
      ]
     },
     "execution_count": 28,
     "metadata": {},
     "output_type": "execute_result"
    },
    {
     "data": {
      "image/png": "[encoded data removed]",
      "text/plain": [
       "<matplotlib.figure.Figure at 0x7f2788f9aba8>"
      ]
     },
     "metadata": {},
     "output_type": "display_data"
    }
   ],
   "source": [
    "# plot node degree to check if distribution follows power law\n",
    "node_degrees = ppi_network.sum()\n",
    "fig = plt.figure(figsize=(14, 8))\n",
    "bins = np.linspace(1,node_degrees.max(), 100)\n",
    "ax = plt.hist(node_degrees, bins)\n",
    "plt.xlabel('Node Degree')\n",
    "plt.ylabel('Number of genes with node degree')\n",
    "plt.title('Node Degree Distribution of Genes in PPI')"
   ]
  },
  {
   "cell_type": "markdown",
   "metadata": {
    "deletable": true,
    "editable": true
   },
   "source": [
    "## Remove gene expression for non-nodes\n",
    "Genes that have no interactions reported are not relevant for any network algorithm. I can kick out those genes for now."
   ]
  },
  {
   "cell_type": "code",
   "execution_count": 29,
   "metadata": {
    "collapsed": false,
    "deletable": true,
    "editable": true,
    "scrolled": true
   },
   "outputs": [
    {
     "name": "stdout",
     "output_type": "stream",
     "text": [
      "Discard gene expression for 19248 genes because they are not in network\n",
      "Left with 10823 genes for which we have GE and interactions\n"
     ]
    }
   ],
   "source": [
    "# remove all genes that are not present in network\n",
    "gene_expression_short = ge_final[ge_final.index.isin(ppi_network.index)]\n",
    "print (\"Discard gene expression for {} genes because they are not in network\".\\\n",
    "       format(ge_final.shape[0]-gene_expression_short.shape[0])\n",
    "      )\n",
    "print (\"Left with {} genes for which we have GE and interactions\".format(gene_expression_short.shape[0]))"
   ]
  },
  {
   "cell_type": "markdown",
   "metadata": {
    "deletable": true,
    "editable": true
   },
   "source": [
    "## Split Replicates for Agreement Test\n",
    "The features (gene expression) comes from a dual RNA-seq experiment with three replicates.\n",
    "In order to evaluate the GCN performance, it is helpful to see how consistent the results are for each of the replicates."
   ]
  },
  {
   "cell_type": "code",
   "execution_count": 30,
   "metadata": {
    "collapsed": false,
    "deletable": true,
    "editable": true
   },
   "outputs": [
    {
     "data": {
      "text/plain": [
       "((10823, 8), (10823, 8), (10823, 8))"
      ]
     },
     "execution_count": 30,
     "metadata": {},
     "output_type": "execute_result"
    }
   ],
   "source": [
    "# select columns for replicates 2 and 3 easily by suffix .1/.2\n",
    "rep2 = gene_expression_short.filter(regex=\"\\.1$\", axis=1)\n",
    "rep3 = gene_expression_short.filter(regex=\"\\.2$\", axis=1)\n",
    "# select columns for replicate 1 by using all left over cols\n",
    "cond = ~(gene_expression_short.columns.isin(rep2) | gene_expression_short.columns.isin(rep3))\n",
    "rep1 = gene_expression_short.loc[:,cond].drop('Name', axis=1) # drop gene name\n",
    "rep1.shape, rep2.shape, rep3.shape"
   ]
  },
  {
   "cell_type": "markdown",
   "metadata": {
    "deletable": true,
    "editable": true
   },
   "source": [
    "## Get Negatives for Training\n",
    "I want to maybe use the low-variance genes as negatives for a training and testing set. Or, I could use the genes that are expressed in GFP-minus but not in GFP-plus instead."
   ]
  },
  {
   "cell_type": "code",
   "execution_count": 31,
   "metadata": {
    "collapsed": false,
    "deletable": true,
    "editable": true
   },
   "outputs": [
    {
     "data": {
      "text/plain": [
       "(141, 25)"
      ]
     },
     "execution_count": 31,
     "metadata": {},
     "output_type": "execute_result"
    }
   ],
   "source": [
    "low_var_genes = gene_expression_short[gene_expression_short.var(axis=1) < .5]\n",
    "low_var_genes.shape"
   ]
  },
  {
   "cell_type": "code",
   "execution_count": 32,
   "metadata": {
    "collapsed": false,
    "deletable": true,
    "editable": true
   },
   "outputs": [
    {
     "name": "stdout",
     "output_type": "stream",
     "text": [
      "(396, 25)\n",
      "In the list, there are 33 duplicates!\n",
      "After merge with IDs, there are 33 duplicates!\n"
     ]
    }
   ],
   "source": [
    "\n",
    "# read negatives and add some information (names and numbers)\n",
    "negative_gene_names = pd.DataFrame.from_csv('../data/labels/non_involved_gfpm_ctrl.txt', header=0)\n",
    "negative_gene_names['index'] = np.arange(0, negative_gene_names.shape[0])\n",
    "negative_gene_names['gene_name'] = negative_gene_names.index\n",
    "negative_gene_names.set_index('index', inplace=True)\n",
    "\n",
    "# merge with gene expression to find the genes we actually have in the network\n",
    "negatives_all = gene_expression[gene_expression.Name.isin(negative_gene_names.gene_name)]\n",
    "print (negatives_all.shape)\n",
    "\n",
    "no_duplicates_names = negatives_all.Name.duplicated().sum()\n",
    "print (\"In the list, there are {} duplicates!\".format(no_duplicates_names))\n",
    "no_duplicates_merge = negatives_all.Name.duplicated().sum()\n",
    "print (\"After merge with IDs, there are {} duplicates!\".format(no_duplicates_merge))"
   ]
  },
  {
   "cell_type": "code",
   "execution_count": 33,
   "metadata": {
    "collapsed": false,
    "deletable": true,
    "editable": true,
    "scrolled": true
   },
   "outputs": [
    {
     "name": "stdout",
     "output_type": "stream",
     "text": [
      "querying 1-366...done.\n",
      "Finished.\n",
      "33 input query terms found dup hits:\n",
      "\t[('SNORA20', 4), ('SCARNA20', 7), ('FTH1P10', 2), ('SCARNA11', 4), ('EPS15P1', 2), ('RNU6-15P', 2), \n",
      "72 input query terms found no hit:\n",
      "\t['FAM65B', 'AC022816.2', 'RP4-799D16.1', 'SNORA34', 'AC007099.1', 'CH17-76K2.6', 'RP11-292D4.3', 'RP\n",
      "Pass \"returnall=True\" to return complete lists of duplicate or missing query terms.\n",
      "Converted 366 gene names to IDs and received 341 Ensembl IDs\n",
      "Of these 341 IDs, I define 141 negatives that have gene expression\n"
     ]
    }
   ],
   "source": [
    "# convert the list of names to proper Ensembl IDs\n",
    "mg = mygene.MyGeneInfo()\n",
    "list_of_neg_genenames = negative_gene_names.gene_name.tolist()\n",
    "f = lambda x: x['ensembl'][0]['gene'] if type(x['ensembl']) is list else x['ensembl']['gene']\n",
    "res = mg.querymany(list_of_neg_genenames, scopes='symbol', fields='ensembl.gene', species='human')\n",
    "list_of_neg_ids = [f(x) for x in res if 'ensembl' in x]\n",
    "print (\"Converted {} gene names to IDs and received {} Ensembl IDs\".format(len(list_of_neg_genenames),\n",
    "                                                                           len(list_of_neg_ids))\n",
    "      )\n",
    "\n",
    "# finally, define the negatives\n",
    "if NEGATIVE_SET_LOWVAR:\n",
    "    negatives = gene_expression_short[gene_expression_short.index.isin(low_var_genes.index)]\n",
    "else:\n",
    "    negatives = gene_expression_short[gene_expression_short.index.isin(negatives_all.index)]\n",
    "print (\"Of these {} IDs, I define {} negatives that have gene expression\".format(len(list_of_neg_ids),\n",
    "                                                                                 negatives.shape[0])\n",
    "      )"
   ]
  },
  {
   "cell_type": "markdown",
   "metadata": {
    "deletable": true,
    "editable": true
   },
   "source": [
    "## Load the Labels and Do Train Test Split\n",
    "Finally, I want to load the labels that I obtained by literature search and that I got from Wigo.\n",
    "Once loaded and joined, I derive one big dataframe with a label column to make sure they are in the same order as the rest of the data, especially the PPI network.\n",
    "Then, I calculate train and test splits (**but I have to be careful because of the extremely high class imbalance**).\n",
    "And last but not least, I have to build the training and testing masks that are needed by the GCN algorithm."
   ]
  },
  {
   "cell_type": "code",
   "execution_count": 34,
   "metadata": {
    "collapsed": false,
    "deletable": true,
    "editable": true
   },
   "outputs": [],
   "source": [
    "def build_mask(names_labeled, X):\n",
    "    mask = names_labeled[names_labeled.isin(X)].label\n",
    "    # NaN means not being in the set\n",
    "    mask[~mask.isnull()] = 1\n",
    "    mask[mask.isnull()] = 0\n",
    "    # sanity check\n",
    "    assert (np.all(mask.index == names_labeled.index))\n",
    "    return mask.values\n",
    "\n",
    "def build_y(names_labeled, X):\n",
    "    y = names_labeled[names_labeled.isin(X)].infection_gene\n",
    "    # NaN means not being in the set\n",
    "    y[y.isnull()] = 0\n",
    "    # sanity check\n",
    "    assert (np.all(y.index == names_labeled.index))\n",
    "    y_onehot = pd.get_dummies(y).values\n",
    "    return y_onehot[:, [1,0]] # switch the positive and negative columns\n",
    "\n",
    "def balanced_stratified_split(X, test_ratio):\n",
    "    # calculate number of labels for both sets\n",
    "    num_labels_total = X.label.sum()\n",
    "    num_labels_train = int(num_labels_total * (1-test_ratio))\n",
    "    num_labels_test = num_labels_total - num_labels_train\n",
    "    num_infection_genes = X.infection_gene.sum()\n",
    "    num_infection_train = int(num_infection_genes*(1-test_ratio))\n",
    "    num_infection_test = num_infection_genes - num_infection_train\n",
    "    print (num_labels_total, num_labels_train, num_labels_test)\n",
    "    print (num_infection_genes, num_infection_train, num_infection_test)\n",
    "    # select random training set (size 2*num_labels_train)\n",
    "    X_train = X[X.infection_gene].sample(n=num_infection_train)\n",
    "    print (X_train.shape)\n",
    "    X_train = X_train.append(X[X.label & ~X.infection_gene].sample(n=num_infection_train))\n",
    "    print (X_train.shape)\n",
    "    # rest is test\n",
    "    X_test = X[~X.index.isin(X_train.index)]\n",
    "    return X_train, X_test\n",
    "    "
   ]
  },
  {
   "cell_type": "code",
   "execution_count": null,
   "metadata": {
    "collapsed": false,
    "deletable": true,
    "editable": true
   },
   "outputs": [],
   "source": []
  },
  {
   "cell_type": "code",
   "execution_count": 35,
   "metadata": {
    "collapsed": false,
    "deletable": true,
    "editable": true,
    "scrolled": false
   },
   "outputs": [
    {
     "name": "stdout",
     "output_type": "stream",
     "text": [
      "Collected 46 genes involved in legionella infection\n",
      "Out of the 46 infection genes, 38 are in the network\n",
      "Split Training and Testing with 40.0% test nodes\n",
      "Training Nodes: 107\t#Infection Genes in Train Set: 23\n",
      "Testing Nodes: 72\t#Infection Genes in Test Set: 15\n"
     ]
    }
   ],
   "source": [
    "# load the labels from Wigos list and my literature search (together with Wigos extension)\n",
    "infection_genes = pd.DataFrame.from_csv('../data/labels/labels_wigo_codingonly.csv', sep='\\t', index_col=3)\n",
    "my_infection_genes = pd.DataFrame.from_csv('../data/labels/labels_wigo_extended.tsv',\n",
    "                                           sep='\\t',\n",
    "                                           index_col=1\n",
    "                                          )\n",
    "infection_genes = infection_genes.append(my_infection_genes)\n",
    "print (\"Collected {} genes involved in legionella infection\".format(infection_genes.shape[0]))\n",
    "\n",
    "# load the gene names and add label column to it\n",
    "names_labeled = pd.DataFrame(gene_expression_short.Name)\n",
    "names_labeled['infection_gene'] = names_labeled.index.isin(infection_genes.index) # positive for infection genes\n",
    "names_labeled['label'] = False\n",
    "names_labeled.loc[names_labeled.index.isin(negatives.index), 'label'] = True # negatives are only labels\n",
    "names_labeled.label = names_labeled.label | names_labeled.infection_gene # both infection and negatives are labels\n",
    "\n",
    "print (\"Out of the {} infection genes, {} are in the network\".format(infection_genes.shape[0],\n",
    "                                                                     names_labeled.infection_gene.sum())\n",
    "      )\n",
    "\n",
    "# split for training, testing & validation\n",
    "if BALANCE:\n",
    "    X_train, X_test = balanced_stratified_split(names_labeled, TEST_RATIO)\n",
    "else:\n",
    "    X_train, X_test = train_test_split(names_labeled[names_labeled.label],\n",
    "                                       test_size=TEST_RATIO,\n",
    "                                       stratify=names_labeled[names_labeled.label].infection_gene\n",
    "                                      )\n",
    "if VAL_SIZE > 0:\n",
    "    X_val = X_train[-VAL_SIZE:]\n",
    "    X_train = X_train[:-VAL_SIZE]\n",
    "else:\n",
    "    X_val = None\n",
    "print (\"Split Training and Testing with {}% test nodes\".format(TEST_RATIO*100.))\n",
    "print (\"Training Nodes: {}\\t#Infection Genes in Train Set: {}\".format(X_train.shape[0],\n",
    "                                                                 X_train.infection_gene.sum())\n",
    "      )\n",
    "print (\"Testing Nodes: {}\\t#Infection Genes in Test Set: {}\".format(X_test.shape[0],\n",
    "                                                               X_test.infection_gene.sum())\n",
    "      )\n",
    "\n",
    "# construct masks\n",
    "train_mask = build_mask(names_labeled, X_train)\n",
    "test_mask = build_mask(names_labeled, X_test)\n",
    "if X_val is not None:\n",
    "    val_mask = build_mask(features_labeled, X_val)\n",
    "\n",
    "# construct labels\n",
    "y_train = build_y(names_labeled, X_train)\n",
    "y_test = build_y(names_labeled, X_test)\n",
    "if X_val is not None:\n",
    "    y_val = pd.get_dummies(features_labeled[features_labeled.isin(X_val)].label).values"
   ]
  },
  {
   "cell_type": "markdown",
   "metadata": {
    "deletable": true,
    "editable": true
   },
   "source": [
    "## Write to hdf5 File on Disk\n",
    "The last thing to do is to write the data to disk, using the fast and efficient hdf5 format."
   ]
  },
  {
   "cell_type": "code",
   "execution_count": 36,
   "metadata": {
    "collapsed": false,
    "deletable": true,
    "editable": true
   },
   "outputs": [
    {
     "data": {
      "text/html": [
       "<div>\n",
       "<table border=\"1\" class=\"dataframe\">\n",
       "  <thead>\n",
       "    <tr style=\"text-align: right;\">\n",
       "      <th></th>\n",
       "      <th>Name</th>\n",
       "      <th>Pam3T16</th>\n",
       "      <th>Pam3T8</th>\n",
       "      <th>Pam3T16.1</th>\n",
       "      <th>Pam3T8.1</th>\n",
       "      <th>Pam3T16.2</th>\n",
       "      <th>Pam3T8.2</th>\n",
       "      <th>ControlT8</th>\n",
       "      <th>ControlT16</th>\n",
       "      <th>ControlT8.1</th>\n",
       "      <th>...</th>\n",
       "      <th>gfpmT8.1</th>\n",
       "      <th>gfpmT16.1</th>\n",
       "      <th>gfpmT8.2</th>\n",
       "      <th>gfpmT16.2</th>\n",
       "      <th>gfppT8</th>\n",
       "      <th>gfppT16</th>\n",
       "      <th>gfppT8.1</th>\n",
       "      <th>gfppT16.1</th>\n",
       "      <th>gfppT8.2</th>\n",
       "      <th>gfppT16.2</th>\n",
       "    </tr>\n",
       "    <tr>\n",
       "      <th>Ensembl-ID</th>\n",
       "      <th></th>\n",
       "      <th></th>\n",
       "      <th></th>\n",
       "      <th></th>\n",
       "      <th></th>\n",
       "      <th></th>\n",
       "      <th></th>\n",
       "      <th></th>\n",
       "      <th></th>\n",
       "      <th></th>\n",
       "      <th></th>\n",
       "      <th></th>\n",
       "      <th></th>\n",
       "      <th></th>\n",
       "      <th></th>\n",
       "      <th></th>\n",
       "      <th></th>\n",
       "      <th></th>\n",
       "      <th></th>\n",
       "      <th></th>\n",
       "      <th></th>\n",
       "    </tr>\n",
       "  </thead>\n",
       "  <tbody>\n",
       "    <tr>\n",
       "      <th>ENSG00000000003</th>\n",
       "      <td>TSPAN6</td>\n",
       "      <td>6.736327</td>\n",
       "      <td>8.519666</td>\n",
       "      <td>10.773706</td>\n",
       "      <td>10.813725</td>\n",
       "      <td>2.427830</td>\n",
       "      <td>7.425264</td>\n",
       "      <td>9.417385</td>\n",
       "      <td>7.920964</td>\n",
       "      <td>10.812953</td>\n",
       "      <td>...</td>\n",
       "      <td>12.529836</td>\n",
       "      <td>6.769370</td>\n",
       "      <td>13.440488</td>\n",
       "      <td>5.248289</td>\n",
       "      <td>14.583375</td>\n",
       "      <td>13.538040</td>\n",
       "      <td>18.220493</td>\n",
       "      <td>14.908853</td>\n",
       "      <td>16.156797</td>\n",
       "      <td>30.745221</td>\n",
       "    </tr>\n",
       "    <tr>\n",
       "      <th>ENSG00000000419</th>\n",
       "      <td>DPM1</td>\n",
       "      <td>97.676739</td>\n",
       "      <td>73.025712</td>\n",
       "      <td>132.362676</td>\n",
       "      <td>110.840686</td>\n",
       "      <td>87.401897</td>\n",
       "      <td>87.865624</td>\n",
       "      <td>92.725018</td>\n",
       "      <td>105.132797</td>\n",
       "      <td>121.218890</td>\n",
       "      <td>...</td>\n",
       "      <td>127.983328</td>\n",
       "      <td>147.421826</td>\n",
       "      <td>104.163784</td>\n",
       "      <td>86.596770</td>\n",
       "      <td>298.959192</td>\n",
       "      <td>239.172041</td>\n",
       "      <td>268.101547</td>\n",
       "      <td>155.611158</td>\n",
       "      <td>283.898001</td>\n",
       "      <td>247.298513</td>\n",
       "    </tr>\n",
       "    <tr>\n",
       "      <th>ENSG00000000457</th>\n",
       "      <td>SCYL3</td>\n",
       "      <td>84.204085</td>\n",
       "      <td>74.242807</td>\n",
       "      <td>61.564035</td>\n",
       "      <td>68.486928</td>\n",
       "      <td>78.499852</td>\n",
       "      <td>92.815800</td>\n",
       "      <td>86.929705</td>\n",
       "      <td>72.728852</td>\n",
       "      <td>66.585024</td>\n",
       "      <td>...</td>\n",
       "      <td>76.074006</td>\n",
       "      <td>63.180782</td>\n",
       "      <td>117.604272</td>\n",
       "      <td>94.469203</td>\n",
       "      <td>83.125239</td>\n",
       "      <td>79.724014</td>\n",
       "      <td>76.786365</td>\n",
       "      <td>62.430824</td>\n",
       "      <td>85.400212</td>\n",
       "      <td>93.572410</td>\n",
       "    </tr>\n",
       "    <tr>\n",
       "      <th>ENSG00000000938</th>\n",
       "      <td>FGR</td>\n",
       "      <td>53.890614</td>\n",
       "      <td>150.919804</td>\n",
       "      <td>143.136382</td>\n",
       "      <td>362.259802</td>\n",
       "      <td>156.999704</td>\n",
       "      <td>160.880721</td>\n",
       "      <td>62.299622</td>\n",
       "      <td>61.207450</td>\n",
       "      <td>189.511222</td>\n",
       "      <td>...</td>\n",
       "      <td>333.830638</td>\n",
       "      <td>257.988195</td>\n",
       "      <td>186.486774</td>\n",
       "      <td>70.851902</td>\n",
       "      <td>129.792040</td>\n",
       "      <td>97.774734</td>\n",
       "      <td>272.005939</td>\n",
       "      <td>245.996082</td>\n",
       "      <td>140.794944</td>\n",
       "      <td>101.592903</td>\n",
       "    </tr>\n",
       "    <tr>\n",
       "      <th>ENSG00000000971</th>\n",
       "      <td>CFH</td>\n",
       "      <td>18.524899</td>\n",
       "      <td>21.907714</td>\n",
       "      <td>43.094825</td>\n",
       "      <td>53.167483</td>\n",
       "      <td>29.943242</td>\n",
       "      <td>23.513336</td>\n",
       "      <td>4.346485</td>\n",
       "      <td>2.880351</td>\n",
       "      <td>15.365775</td>\n",
       "      <td>...</td>\n",
       "      <td>11.634848</td>\n",
       "      <td>17.299500</td>\n",
       "      <td>6.720244</td>\n",
       "      <td>6.997719</td>\n",
       "      <td>5.833350</td>\n",
       "      <td>7.521133</td>\n",
       "      <td>5.205855</td>\n",
       "      <td>11.181640</td>\n",
       "      <td>0.000000</td>\n",
       "      <td>1.336749</td>\n",
       "    </tr>\n",
       "  </tbody>\n",
       "</table>\n",
       "<p>5 rows × 25 columns</p>\n",
       "</div>"
      ],
      "text/plain": [
       "                   Name    Pam3T16      Pam3T8   Pam3T16.1    Pam3T8.1  \\\n",
       "Ensembl-ID                                                               \n",
       "ENSG00000000003  TSPAN6   6.736327    8.519666   10.773706   10.813725   \n",
       "ENSG00000000419    DPM1  97.676739   73.025712  132.362676  110.840686   \n",
       "ENSG00000000457   SCYL3  84.204085   74.242807   61.564035   68.486928   \n",
       "ENSG00000000938     FGR  53.890614  150.919804  143.136382  362.259802   \n",
       "ENSG00000000971     CFH  18.524899   21.907714   43.094825   53.167483   \n",
       "\n",
       "                  Pam3T16.2    Pam3T8.2  ControlT8  ControlT16  ControlT8.1  \\\n",
       "Ensembl-ID                                                                    \n",
       "ENSG00000000003    2.427830    7.425264   9.417385    7.920964    10.812953   \n",
       "ENSG00000000419   87.401897   87.865624  92.725018  105.132797   121.218890   \n",
       "ENSG00000000457   78.499852   92.815800  86.929705   72.728852    66.585024   \n",
       "ENSG00000000938  156.999704  160.880721  62.299622   61.207450   189.511222   \n",
       "ENSG00000000971   29.943242   23.513336   4.346485    2.880351    15.365775   \n",
       "\n",
       "                    ...        gfpmT8.1   gfpmT16.1    gfpmT8.2  gfpmT16.2  \\\n",
       "Ensembl-ID          ...                                                      \n",
       "ENSG00000000003     ...       12.529836    6.769370   13.440488   5.248289   \n",
       "ENSG00000000419     ...      127.983328  147.421826  104.163784  86.596770   \n",
       "ENSG00000000457     ...       76.074006   63.180782  117.604272  94.469203   \n",
       "ENSG00000000938     ...      333.830638  257.988195  186.486774  70.851902   \n",
       "ENSG00000000971     ...       11.634848   17.299500    6.720244   6.997719   \n",
       "\n",
       "                     gfppT8     gfppT16    gfppT8.1   gfppT16.1    gfppT8.2  \\\n",
       "Ensembl-ID                                                                    \n",
       "ENSG00000000003   14.583375   13.538040   18.220493   14.908853   16.156797   \n",
       "ENSG00000000419  298.959192  239.172041  268.101547  155.611158  283.898001   \n",
       "ENSG00000000457   83.125239   79.724014   76.786365   62.430824   85.400212   \n",
       "ENSG00000000938  129.792040   97.774734  272.005939  245.996082  140.794944   \n",
       "ENSG00000000971    5.833350    7.521133    5.205855   11.181640    0.000000   \n",
       "\n",
       "                  gfppT16.2  \n",
       "Ensembl-ID                   \n",
       "ENSG00000000003   30.745221  \n",
       "ENSG00000000419  247.298513  \n",
       "ENSG00000000457   93.572410  \n",
       "ENSG00000000938  101.592903  \n",
       "ENSG00000000971    1.336749  \n",
       "\n",
       "[5 rows x 25 columns]"
      ]
     },
     "execution_count": 36,
     "metadata": {},
     "output_type": "execute_result"
    }
   ],
   "source": [
    "gene_expression_short.head()"
   ]
  },
  {
   "cell_type": "code",
   "execution_count": 37,
   "metadata": {
    "collapsed": false,
    "deletable": true,
    "editable": true
   },
   "outputs": [
    {
     "name": "stdout",
     "output_type": "stream",
     "text": [
      "Writing container to ../data/preprocessing/legionella_neglowvar_unbalanced.h5\n"
     ]
    }
   ],
   "source": [
    "# remove second column of labels\n",
    "y_train_one = y_train[:, 0].reshape(-1, 1)\n",
    "y_test_one = y_test[:, 0].reshape(-1, 1)\n",
    "\n",
    "# create gene names\n",
    "gene_names_ids = np.vstack((gene_expression_short.index, gene_expression_short.Name)).transpose(1, 0)\n",
    "\n",
    "# remove name column from gene expression because otherwise hdf5 can't save it\n",
    "features = gene_expression_short.drop('Name', axis=1)\n",
    "string_dt = h5py.special_dtype(vlen=str)\n",
    "\n",
    "fname = '../data/preprocessing/legionella_{}_{}.h5'\n",
    "fname = fname.format('neglowvar' if NEGATIVE_SET_LOWVAR else 'negnopam', 'balanced' if BALANCE else 'unbalanced')\n",
    "print (\"Writing container to {}\".format(fname))\n",
    "f = h5py.File(fname, 'w')\n",
    "# add ppi network\n",
    "f.create_dataset('network', data=ppi_network, shape=ppi_network.shape)\n",
    "# add features and replicates\n",
    "f.create_dataset('features', data=features, shape=features.shape)\n",
    "f.create_dataset('features_rep1', data=rep1, shape=rep1.shape)\n",
    "f.create_dataset('features_rep2', data=rep2, shape=rep2.shape)\n",
    "f.create_dataset('features_rep3', data=rep3, shape=rep3.shape)\n",
    "# add gene names (same order as features & network)\n",
    "f.create_dataset('gene_names', data=gene_names_ids, dtype=string_dt)\n",
    "# add labels\n",
    "f.create_dataset('y_train', data=y_train_one, shape=y_train_one.shape)\n",
    "f.create_dataset('y_test', data=y_test_one, shape=y_test_one.shape)\n",
    "if X_val is not None:\n",
    "    f.create_dataset('y_val', data=y_val, shape=y_val.shape)\n",
    "\n",
    "f.create_dataset('mask_train', data=train_mask, shape=train_mask.shape)\n",
    "f.create_dataset('mask_test', data=test_mask, shape=test_mask.shape)\n",
    "if X_val is not None:\n",
    "    f.create_dataset('mask_val', data=val_mask, shape=val_mask.shape)\n",
    "f.close()"
   ]
  },
  {
   "cell_type": "code",
   "execution_count": 22,
   "metadata": {
    "collapsed": false,
    "deletable": true,
    "editable": true
   },
   "outputs": [
    {
     "ename": "ValueError",
     "evalue": "Not a file id (Not a file id)",
     "output_type": "error",
     "traceback": [
      "\u001b[0;31m---------------------------------------------------------------------------\u001b[0m",
      "\u001b[0;31mValueError\u001b[0m                                Traceback (most recent call last)",
      "\u001b[0;32m<ipython-input-22-fa01cc0d8510>\u001b[0m in \u001b[0;36m<module>\u001b[0;34m()\u001b[0m\n\u001b[0;32m----> 1\u001b[0;31m \u001b[0mf\u001b[0m\u001b[0;34m.\u001b[0m\u001b[0mclose\u001b[0m\u001b[0;34m(\u001b[0m\u001b[0;34m)\u001b[0m\u001b[0;34m\u001b[0m\u001b[0m\n\u001b[0m",
      "\u001b[0;32m/home/sasse/.local/lib/python3.6/site-packages/h5py/_hl/files.py\u001b[0m in \u001b[0;36mclose\u001b[0;34m(self)\u001b[0m\n\u001b[1;32m    285\u001b[0m             \u001b[0;31m# Close file-resident objects first, then the files.\u001b[0m\u001b[0;34m\u001b[0m\u001b[0;34m\u001b[0m\u001b[0m\n\u001b[1;32m    286\u001b[0m             \u001b[0;31m# Otherwise we get errors in MPI mode.\u001b[0m\u001b[0;34m\u001b[0m\u001b[0;34m\u001b[0m\u001b[0m\n\u001b[0;32m--> 287\u001b[0;31m             \u001b[0mid_list\u001b[0m \u001b[0;34m=\u001b[0m \u001b[0mh5f\u001b[0m\u001b[0;34m.\u001b[0m\u001b[0mget_obj_ids\u001b[0m\u001b[0;34m(\u001b[0m\u001b[0mself\u001b[0m\u001b[0;34m.\u001b[0m\u001b[0mid\u001b[0m\u001b[0;34m,\u001b[0m \u001b[0;34m~\u001b[0m\u001b[0mh5f\u001b[0m\u001b[0;34m.\u001b[0m\u001b[0mOBJ_FILE\u001b[0m\u001b[0;34m)\u001b[0m\u001b[0;34m\u001b[0m\u001b[0m\n\u001b[0m\u001b[1;32m    288\u001b[0m             \u001b[0mfile_list\u001b[0m \u001b[0;34m=\u001b[0m \u001b[0mh5f\u001b[0m\u001b[0;34m.\u001b[0m\u001b[0mget_obj_ids\u001b[0m\u001b[0;34m(\u001b[0m\u001b[0mself\u001b[0m\u001b[0;34m.\u001b[0m\u001b[0mid\u001b[0m\u001b[0;34m,\u001b[0m \u001b[0mh5f\u001b[0m\u001b[0;34m.\u001b[0m\u001b[0mOBJ_FILE\u001b[0m\u001b[0;34m)\u001b[0m\u001b[0;34m\u001b[0m\u001b[0m\n\u001b[1;32m    289\u001b[0m \u001b[0;34m\u001b[0m\u001b[0m\n",
      "\u001b[0;32mh5py/_objects.pyx\u001b[0m in \u001b[0;36mh5py._objects.with_phil.wrapper (/tmp/pip-s_7obrrg-build/h5py/_objects.c:2840)\u001b[0;34m()\u001b[0m\n",
      "\u001b[0;32mh5py/_objects.pyx\u001b[0m in \u001b[0;36mh5py._objects.with_phil.wrapper (/tmp/pip-s_7obrrg-build/h5py/_objects.c:2798)\u001b[0;34m()\u001b[0m\n",
      "\u001b[0;32mh5py/h5f.pyx\u001b[0m in \u001b[0;36mh5py.h5f.get_obj_ids (/tmp/pip-s_7obrrg-build/h5py/h5f.c:3419)\u001b[0;34m()\u001b[0m\n",
      "\u001b[0;31mValueError\u001b[0m: Not a file id (Not a file id)"
     ]
    }
   ],
   "source": [
    "f.close()"
   ]
  },
  {
   "cell_type": "code",
   "execution_count": 29,
   "metadata": {
    "collapsed": false,
    "deletable": true,
    "editable": true
   },
   "outputs": [
    {
     "data": {
      "text/plain": [
       "(10823, 1)"
      ]
     },
     "execution_count": 29,
     "metadata": {},
     "output_type": "execute_result"
    }
   ],
   "source": [
    "y_train_one.shape"
   ]
  },
  {
   "cell_type": "code",
   "execution_count": 25,
   "metadata": {
    "collapsed": false,
    "deletable": true,
    "editable": true
   },
   "outputs": [
    {
     "data": {
      "text/plain": [
       "(10823, 2)"
      ]
     },
     "execution_count": 25,
     "metadata": {},
     "output_type": "execute_result"
    }
   ],
   "source": [
    "gene_names_ids = np.vstack((gene_expression_short.index, gene_expression_short.Name)).transpose(1, 0)"
   ]
  },
  {
   "cell_type": "code",
   "execution_count": 23,
   "metadata": {
    "collapsed": false,
    "deletable": true,
    "editable": true
   },
   "outputs": [
    {
     "data": {
      "text/plain": [
       "(array([   22, 10801], dtype=uint64),\n",
       " array([   16, 10807], dtype=uint64),\n",
       " (10823,),\n",
       " (10823,))"
      ]
     },
     "execution_count": 23,
     "metadata": {},
     "output_type": "execute_result"
    }
   ],
   "source": [
    "y_train.sum(axis=0), y_test.sum(axis=0), train_mask.shape, test_mask.shape"
   ]
  },
  {
   "cell_type": "code",
   "execution_count": null,
   "metadata": {
    "collapsed": true,
    "deletable": true,
    "editable": true
   },
   "outputs": [],
   "source": []
  }
 ],
 "metadata": {
  "kernelspec": {
   "display_name": "Python 3",
   "language": "python",
   "name": "python3"
  },
  "language_info": {
   "codemirror_mode": {
    "name": "ipython",
    "version": 3
   },
   "file_extension": ".py",
   "mimetype": "text/x-python",
   "name": "python",
   "nbconvert_exporter": "python",
   "pygments_lexer": "ipython3",
   "version": "3.6.1"
  }
 },
 "nbformat": 4,
 "nbformat_minor": 2
}
