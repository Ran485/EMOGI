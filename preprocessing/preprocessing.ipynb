{
 "cells": [
  {
   "cell_type": "markdown",
   "metadata": {
    "deletable": true,
    "editable": true
   },
   "source": [
    "# Preprocess Legionella Data & PPI to Form GCN Input\n",
    "In this notebook, I want to join the PPI network from ConsensusPathDB, the gene expression derived from the dual RNA-seq experiments and the labels to form one dataset. The goal is a hdf5 container with all the information to train a GCN on the data.\n",
    "\n",
    "This involves the following steps:\n",
    "* Preprocess the gene expression data\n",
    "* Calculate an adjacency matrix from the protein-protein-interactions\n",
    "* Only use genes in network for which we have gene expression\n",
    "* Check if the node degree follows a power law distribution\n",
    "* Load the labels and split into training and testing\n",
    "* Create hdf5 container"
   ]
  },
  {
   "cell_type": "code",
   "execution_count": 3,
   "metadata": {
    "collapsed": true,
    "deletable": true,
    "editable": true
   },
   "outputs": [],
   "source": [
    "import pandas as pd\n",
    "import numpy as np\n",
    "#from sklearn.decomposition import PCA\n",
    "from sklearn import preprocessing\n",
    "import matplotlib.pyplot as plt\n",
    "np.set_printoptions(suppress=True)\n",
    "import h5py\n",
    "import mygene\n",
    "from sklearn.model_selection import train_test_split\n",
    "%matplotlib inline"
   ]
  },
  {
   "cell_type": "markdown",
   "metadata": {},
   "source": [
    "## Parameters for the Notebook\n",
    "* **TIMES_STD_THRESHOLD:** How many times over the standard deviation does a gene have to show expression to be considered as an outlier.\n",
    "* **MAX_ZEROS_ALLOWED:** The ratio of zeros of gene expressions for a gene that is permitted before the gene gets kicked out.\n",
    "* **SCALE:** Do we normalize the gene expression using a standard min/max scaler?\n",
    "* **VAL_SIZE:** The size of our validation data set (0 means no validation data set).\n",
    "* **TEST_RATIO:** The ratio of the data that is used for testing the model."
   ]
  },
  {
   "cell_type": "code",
   "execution_count": 4,
   "metadata": {
    "collapsed": true,
    "deletable": true,
    "editable": true
   },
   "outputs": [],
   "source": [
    "# params\n",
    "TIMES_STD_THRESHOLD = 10.\n",
    "MAX_ZEROS_ALLOWED = .7\n",
    "SCALE = False\n",
    "VAL_SIZE = 0\n",
    "TEST_RATIO = 0.4"
   ]
  },
  {
   "cell_type": "markdown",
   "metadata": {
    "deletable": true,
    "editable": true
   },
   "source": [
    "## Preprocess Gene Expression\n",
    "Let's start by preprocessing the gene expression values. We have the counts already normalized, which is good. But we might want to kick out those genes that show a unrealistically high gene expression or that do contain lots of zeros."
   ]
  },
  {
   "cell_type": "code",
   "execution_count": 5,
   "metadata": {
    "collapsed": false,
    "deletable": true,
    "editable": true,
    "scrolled": true
   },
   "outputs": [
    {
     "name": "stdout",
     "output_type": "stream",
     "text": [
      "Had gene expression for 41424 genes in the beginning.\n",
      "kicked out 9 super highly expressed genes\n",
      "Kicked out 11344 genes with more than 70.0% zeros\n",
      "==> Left with gene expression for 30071 genes\n"
     ]
    }
   ],
   "source": [
    "# load data\n",
    "gene_expression = pd.DataFrame.from_csv('../data/preprocessing/normalized-counts-labels.csv',\n",
    "                                        encoding='utf-8', sep=','\n",
    "                                       )\n",
    "ge_nonames = gene_expression.drop('Name', axis=1)\n",
    "\n",
    "# kick out super highly expressed genes\n",
    "threshold = ge_nonames.mean(axis=1).std()*TIMES_STD_THRESHOLD\n",
    "#print (\"Threshold Gene Expression: {}\".format(threshold))\n",
    "anomalies = gene_expression[ge_nonames.mean(axis=1) > threshold]\n",
    "ge_anomalies_removed = ge_nonames.drop(anomalies.index)\n",
    "\n",
    "# kick out genes with too many zeros\n",
    "ge_zeros_removed = ge_anomalies_removed[ge_anomalies_removed.astype('bool').mean(axis=1)>=(1-MAX_ZEROS_ALLOWED)]\n",
    "\n",
    "# write gene expression to file to perform differential expression analysis on it\n",
    "ge_zeros_removed.to_csv('../data/preprocessing/gene_expression_counts.tsv', sep='\\t')\n",
    "\n",
    "# scaling\n",
    "if SCALE:\n",
    "    scaler = preprocessing.StandardScaler()\n",
    "    scaled_features = scaler.fit_transform(ge_zeros_removed)\n",
    "    ge_final = pd.DataFrame(scaled_features,\n",
    "                            index=ge_zeros_removed.index,\n",
    "                            columns=ge_zeros_removed.columns\n",
    "                           )\n",
    "else:\n",
    "    ge_final = ge_zeros_removed\n",
    "\n",
    "# print some information\n",
    "print (\"Had gene expression for {} genes in the beginning.\".format(ge_nonames.shape[0]))\n",
    "print (\"kicked out {} super highly expressed genes\".format(ge_nonames.shape[0] - ge_anomalies_removed.shape[0]))\n",
    "print (\"Kicked out {} genes with more than {}% zeros\".format(ge_anomalies_removed.shape[0]-ge_zeros_removed.shape[0],\n",
    "                                                             MAX_ZEROS_ALLOWED*100.\n",
    "                                                            ))\n",
    "print (\"==> Left with gene expression for {} genes\".format(ge_final.shape[0]))"
   ]
  },
  {
   "cell_type": "code",
   "execution_count": 6,
   "metadata": {
    "collapsed": false,
    "deletable": true,
    "editable": true
   },
   "outputs": [
    {
     "data": {
      "text/html": [
       "<div>\n",
       "<table border=\"1\" class=\"dataframe\">\n",
       "  <thead>\n",
       "    <tr style=\"text-align: right;\">\n",
       "      <th></th>\n",
       "      <th>Name</th>\n",
       "      <th>Pam3T16</th>\n",
       "      <th>Pam3T8</th>\n",
       "      <th>Pam3T16.1</th>\n",
       "      <th>Pam3T8.1</th>\n",
       "      <th>Pam3T16.2</th>\n",
       "      <th>Pam3T8.2</th>\n",
       "      <th>ControlT8</th>\n",
       "      <th>ControlT16</th>\n",
       "      <th>ControlT8.1</th>\n",
       "      <th>...</th>\n",
       "      <th>gfpmT8.1</th>\n",
       "      <th>gfpmT16.1</th>\n",
       "      <th>gfpmT8.2</th>\n",
       "      <th>gfpmT16.2</th>\n",
       "      <th>gfppT8</th>\n",
       "      <th>gfppT16</th>\n",
       "      <th>gfppT8.1</th>\n",
       "      <th>gfppT16.1</th>\n",
       "      <th>gfppT8.2</th>\n",
       "      <th>gfppT16.2</th>\n",
       "    </tr>\n",
       "    <tr>\n",
       "      <th>Ensembl-ID</th>\n",
       "      <th></th>\n",
       "      <th></th>\n",
       "      <th></th>\n",
       "      <th></th>\n",
       "      <th></th>\n",
       "      <th></th>\n",
       "      <th></th>\n",
       "      <th></th>\n",
       "      <th></th>\n",
       "      <th></th>\n",
       "      <th></th>\n",
       "      <th></th>\n",
       "      <th></th>\n",
       "      <th></th>\n",
       "      <th></th>\n",
       "      <th></th>\n",
       "      <th></th>\n",
       "      <th></th>\n",
       "      <th></th>\n",
       "      <th></th>\n",
       "      <th></th>\n",
       "    </tr>\n",
       "  </thead>\n",
       "  <tbody>\n",
       "    <tr>\n",
       "      <th>ENSG00000000003</th>\n",
       "      <td>TSPAN6</td>\n",
       "      <td>6.736327</td>\n",
       "      <td>8.519666</td>\n",
       "      <td>10.773706</td>\n",
       "      <td>10.813725</td>\n",
       "      <td>2.427830</td>\n",
       "      <td>7.425264</td>\n",
       "      <td>9.417385</td>\n",
       "      <td>7.920964</td>\n",
       "      <td>10.812953</td>\n",
       "      <td>...</td>\n",
       "      <td>12.529836</td>\n",
       "      <td>6.769370</td>\n",
       "      <td>13.440488</td>\n",
       "      <td>5.248289</td>\n",
       "      <td>14.583375</td>\n",
       "      <td>13.538040</td>\n",
       "      <td>18.220493</td>\n",
       "      <td>14.908853</td>\n",
       "      <td>16.156797</td>\n",
       "      <td>30.745221</td>\n",
       "    </tr>\n",
       "    <tr>\n",
       "      <th>ENSG00000000419</th>\n",
       "      <td>DPM1</td>\n",
       "      <td>97.676739</td>\n",
       "      <td>73.025712</td>\n",
       "      <td>132.362676</td>\n",
       "      <td>110.840686</td>\n",
       "      <td>87.401897</td>\n",
       "      <td>87.865624</td>\n",
       "      <td>92.725018</td>\n",
       "      <td>105.132797</td>\n",
       "      <td>121.218890</td>\n",
       "      <td>...</td>\n",
       "      <td>127.983328</td>\n",
       "      <td>147.421826</td>\n",
       "      <td>104.163784</td>\n",
       "      <td>86.596770</td>\n",
       "      <td>298.959192</td>\n",
       "      <td>239.172041</td>\n",
       "      <td>268.101547</td>\n",
       "      <td>155.611158</td>\n",
       "      <td>283.898001</td>\n",
       "      <td>247.298513</td>\n",
       "    </tr>\n",
       "    <tr>\n",
       "      <th>ENSG00000000457</th>\n",
       "      <td>SCYL3</td>\n",
       "      <td>84.204085</td>\n",
       "      <td>74.242807</td>\n",
       "      <td>61.564035</td>\n",
       "      <td>68.486928</td>\n",
       "      <td>78.499852</td>\n",
       "      <td>92.815800</td>\n",
       "      <td>86.929705</td>\n",
       "      <td>72.728852</td>\n",
       "      <td>66.585024</td>\n",
       "      <td>...</td>\n",
       "      <td>76.074006</td>\n",
       "      <td>63.180782</td>\n",
       "      <td>117.604272</td>\n",
       "      <td>94.469203</td>\n",
       "      <td>83.125239</td>\n",
       "      <td>79.724014</td>\n",
       "      <td>76.786365</td>\n",
       "      <td>62.430824</td>\n",
       "      <td>85.400212</td>\n",
       "      <td>93.572410</td>\n",
       "    </tr>\n",
       "    <tr>\n",
       "      <th>ENSG00000000460</th>\n",
       "      <td>C1orf112</td>\n",
       "      <td>61.468982</td>\n",
       "      <td>48.683808</td>\n",
       "      <td>70.798641</td>\n",
       "      <td>63.080065</td>\n",
       "      <td>63.123592</td>\n",
       "      <td>76.727728</td>\n",
       "      <td>68.819350</td>\n",
       "      <td>68.408327</td>\n",
       "      <td>77.397977</td>\n",
       "      <td>...</td>\n",
       "      <td>56.384263</td>\n",
       "      <td>72.958761</td>\n",
       "      <td>81.482960</td>\n",
       "      <td>51.608176</td>\n",
       "      <td>24.791738</td>\n",
       "      <td>33.092987</td>\n",
       "      <td>29.933668</td>\n",
       "      <td>59.635414</td>\n",
       "      <td>30.005480</td>\n",
       "      <td>26.734974</td>\n",
       "    </tr>\n",
       "    <tr>\n",
       "      <th>ENSG00000000938</th>\n",
       "      <td>FGR</td>\n",
       "      <td>53.890614</td>\n",
       "      <td>150.919804</td>\n",
       "      <td>143.136382</td>\n",
       "      <td>362.259802</td>\n",
       "      <td>156.999704</td>\n",
       "      <td>160.880721</td>\n",
       "      <td>62.299622</td>\n",
       "      <td>61.207450</td>\n",
       "      <td>189.511222</td>\n",
       "      <td>...</td>\n",
       "      <td>333.830638</td>\n",
       "      <td>257.988195</td>\n",
       "      <td>186.486774</td>\n",
       "      <td>70.851902</td>\n",
       "      <td>129.792040</td>\n",
       "      <td>97.774734</td>\n",
       "      <td>272.005939</td>\n",
       "      <td>245.996082</td>\n",
       "      <td>140.794944</td>\n",
       "      <td>101.592903</td>\n",
       "    </tr>\n",
       "  </tbody>\n",
       "</table>\n",
       "<p>5 rows × 25 columns</p>\n",
       "</div>"
      ],
      "text/plain": [
       "                     Name    Pam3T16      Pam3T8   Pam3T16.1    Pam3T8.1  \\\n",
       "Ensembl-ID                                                                 \n",
       "ENSG00000000003    TSPAN6   6.736327    8.519666   10.773706   10.813725   \n",
       "ENSG00000000419      DPM1  97.676739   73.025712  132.362676  110.840686   \n",
       "ENSG00000000457     SCYL3  84.204085   74.242807   61.564035   68.486928   \n",
       "ENSG00000000460  C1orf112  61.468982   48.683808   70.798641   63.080065   \n",
       "ENSG00000000938       FGR  53.890614  150.919804  143.136382  362.259802   \n",
       "\n",
       "                  Pam3T16.2    Pam3T8.2  ControlT8  ControlT16  ControlT8.1  \\\n",
       "Ensembl-ID                                                                    \n",
       "ENSG00000000003    2.427830    7.425264   9.417385    7.920964    10.812953   \n",
       "ENSG00000000419   87.401897   87.865624  92.725018  105.132797   121.218890   \n",
       "ENSG00000000457   78.499852   92.815800  86.929705   72.728852    66.585024   \n",
       "ENSG00000000460   63.123592   76.727728  68.819350   68.408327    77.397977   \n",
       "ENSG00000000938  156.999704  160.880721  62.299622   61.207450   189.511222   \n",
       "\n",
       "                    ...        gfpmT8.1   gfpmT16.1    gfpmT8.2  gfpmT16.2  \\\n",
       "Ensembl-ID          ...                                                      \n",
       "ENSG00000000003     ...       12.529836    6.769370   13.440488   5.248289   \n",
       "ENSG00000000419     ...      127.983328  147.421826  104.163784  86.596770   \n",
       "ENSG00000000457     ...       76.074006   63.180782  117.604272  94.469203   \n",
       "ENSG00000000460     ...       56.384263   72.958761   81.482960  51.608176   \n",
       "ENSG00000000938     ...      333.830638  257.988195  186.486774  70.851902   \n",
       "\n",
       "                     gfppT8     gfppT16    gfppT8.1   gfppT16.1    gfppT8.2  \\\n",
       "Ensembl-ID                                                                    \n",
       "ENSG00000000003   14.583375   13.538040   18.220493   14.908853   16.156797   \n",
       "ENSG00000000419  298.959192  239.172041  268.101547  155.611158  283.898001   \n",
       "ENSG00000000457   83.125239   79.724014   76.786365   62.430824   85.400212   \n",
       "ENSG00000000460   24.791738   33.092987   29.933668   59.635414   30.005480   \n",
       "ENSG00000000938  129.792040   97.774734  272.005939  245.996082  140.794944   \n",
       "\n",
       "                  gfppT16.2  \n",
       "Ensembl-ID                   \n",
       "ENSG00000000003   30.745221  \n",
       "ENSG00000000419  247.298513  \n",
       "ENSG00000000457   93.572410  \n",
       "ENSG00000000460   26.734974  \n",
       "ENSG00000000938  101.592903  \n",
       "\n",
       "[5 rows x 25 columns]"
      ]
     },
     "execution_count": 6,
     "metadata": {},
     "output_type": "execute_result"
    }
   ],
   "source": [
    "gene_names = gene_expression.loc[ge_final.index].Name.values\n",
    "gene_ids = ge_final.index\n",
    "gene_expression.head()"
   ]
  },
  {
   "cell_type": "markdown",
   "metadata": {
    "deletable": true,
    "editable": true
   },
   "source": [
    "## ConsensusPathDB: Get PPI Network\n",
    "I want to construct an adjacency matrix from the interactions in ConsensusPathDB.\n",
    "However, I only want it for the genes for which I have gene expression data. If not both genes are involved in an interaction, I don't want to save the interaction."
   ]
  },
  {
   "cell_type": "code",
   "execution_count": 7,
   "metadata": {
    "collapsed": false,
    "deletable": true,
    "editable": true,
    "scrolled": false
   },
   "outputs": [
    {
     "name": "stdout",
     "output_type": "stream",
     "text": [
      "We lose 53664 interactions by removing those where not both genes have expression\n",
      "Still keeping 164708 interactions\n"
     ]
    }
   ],
   "source": [
    "# read interaction data (implicit threshold of 0.5 for interaction confidence)\n",
    "interactions = pd.read_csv('../data/networks/CPDB_ensg_edgelist.tsv',\n",
    "                           header=0,\n",
    "                           sep='\\t',\n",
    "                           names=['number', 'gene1', 'gene2', 'score']\n",
    "                          )\n",
    "\n",
    "# kick out interactions for which we don't have gene expression\n",
    "lost = interactions[~interactions.gene1.isin(ge_final.index) | ~interactions.gene2.isin(ge_final.index)].shape[0]\n",
    "print (\"We lose {} interactions by removing those where not both genes have expression\".format(lost))\n",
    "interactions_ge = interactions[interactions.gene1.isin(ge_final.index) & interactions.gene2.isin(ge_final.index)]\n",
    "print (\"Still keeping {} interactions\".format(interactions_ge.shape[0]))"
   ]
  },
  {
   "cell_type": "code",
   "execution_count": 8,
   "metadata": {
    "collapsed": false,
    "deletable": true,
    "editable": true
   },
   "outputs": [
    {
     "name": "stdout",
     "output_type": "stream",
     "text": [
      "Constructed Adjacency Matrix with average node degree of: 15.218331331423819\n",
      "Adjacency matrix has 164708.0 edges in total\n",
      "Network has 10823 nodes in total\n"
     ]
    }
   ],
   "source": [
    "# construct adjacency matrix (memory consuming)\n",
    "ppi_network = interactions_ge.pivot('gene1', 'gene2', 'score')\n",
    "ppi_network[~ppi_network.isnull()] = 1\n",
    "ppi_network[ppi_network.isnull()] = 0\n",
    "\n",
    "# add genes for which no interactions are present\n",
    "index = ppi_network.index.union(ppi_network.columns)\n",
    "ppi_network = ppi_network.reindex(index=index, columns=index, fill_value=0)\n",
    "\n",
    "# output some statistics\n",
    "avg_node_degree = ppi_network.sum().mean()\n",
    "total_num_of_connections = ppi_network.sum().sum()\n",
    "\n",
    "print (\"Constructed Adjacency Matrix with average node degree of: {}\".format(avg_node_degree))\n",
    "print (\"Adjacency matrix has {} edges in total\".format(total_num_of_connections))\n",
    "print (\"Network has {} nodes in total\".format(ppi_network.index.shape[0]))"
   ]
  },
  {
   "cell_type": "code",
   "execution_count": 9,
   "metadata": {
    "collapsed": false,
    "deletable": true,
    "editable": true
   },
   "outputs": [
    {
     "data": {
      "text/plain": [
       "<matplotlib.text.Text at 0x7f260201ae80>"
      ]
     },
     "execution_count": 9,
     "metadata": {},
     "output_type": "execute_result"
    },
    {
     "data": {
      "image/png": "[encoded data removed]",
      "text/plain": [
       "<matplotlib.figure.Figure at 0x7f26030ecc88>"
      ]
     },
     "metadata": {},
     "output_type": "display_data"
    }
   ],
   "source": [
    "# plot node degree to check if distribution follows power law\n",
    "node_degrees = ppi_network.sum()\n",
    "fig = plt.figure(figsize=(14, 8))\n",
    "bins = np.linspace(1,node_degrees.max(), 100)\n",
    "ax = plt.hist(node_degrees, bins)\n",
    "plt.xlabel('Node Degree')\n",
    "plt.ylabel('Number of genes with node degree')\n",
    "plt.title('Node Degree Distribution of Genes in PPI')"
   ]
  },
  {
   "cell_type": "markdown",
   "metadata": {
    "deletable": true,
    "editable": true
   },
   "source": [
    "## Remove isolated genes from network & gene expression\n",
    "Genes that have no interactions reported are not relevant for any network algorithm. I can kick out those genes for now."
   ]
  },
  {
   "cell_type": "code",
   "execution_count": 10,
   "metadata": {
    "collapsed": false,
    "deletable": true,
    "editable": true,
    "scrolled": true
   },
   "outputs": [
    {
     "name": "stdout",
     "output_type": "stream",
     "text": [
      "(9991, 9991)\n"
     ]
    }
   ],
   "source": [
    "# kick out all genes without interactions (isolated nodes)\n",
    "genes_with_interactions = ppi_network.sum(axis=1) > 0\n",
    "ppi_network = ppi_network.ix[genes_with_interactions, genes_with_interactions]\n",
    "print (ppi_network.shape)\n",
    "\n",
    "# build list of gene names and ids\n",
    "gene_names_ids = ppi_network.join(gene_expression['Name']).Name\n",
    "gene_names_ids = pd.DataFrame(gene_names_ids)\n",
    "gene_names_ids = np.vstack([gene_names_ids.index, gene_names_ids.Name])\n",
    "gene_names_ids = gene_names_ids.transpose(1, 0)\n",
    "\n",
    "# remove gene expression for isolated genes\n",
    "gene_expression_short = ge_final[ge_final.index.isin(ppi_network.index)]"
   ]
  },
  {
   "cell_type": "markdown",
   "metadata": {
    "deletable": true,
    "editable": true
   },
   "source": [
    "## Load the Labels and Do Train Test Split\n",
    "Finally, I want to load the labels that I obtained by literature search and that I got from Wigo.\n",
    "Once loaded and joined, I derive one big dataframe with a label column to make sure they are in the same order as the rest of the data, especially the PPI network.\n",
    "Then, I calculate train and test splits (**but I have to be careful because of the extremely high class imbalance**).\n",
    "And last but not least, I have to build the training and testing masks that are needed by the GCN algorithm."
   ]
  },
  {
   "cell_type": "code",
   "execution_count": 85,
   "metadata": {
    "collapsed": true
   },
   "outputs": [],
   "source": [
    "def build_mask(names_labeled, X):\n",
    "    mask = names_labeled[names_labeled.isin(X)].label\n",
    "    # NaN means not being in the set\n",
    "    mask[~mask.isnull()] = 1\n",
    "    mask[mask.isnull()] = 0\n",
    "    # sanity check\n",
    "    assert (np.all(mask.index == gene_names_ids[:, 0]))\n",
    "    return mask.values\n",
    "\n",
    "def build_y(names_labeled, X):\n",
    "    y = names_labeled[names_labeled.isin(X)].label\n",
    "    # NaN means not being in the set\n",
    "    y[y.isnull()] = 0\n",
    "    # sanity check\n",
    "    assert (np.all(y.index == gene_names_ids[:, 0]))\n",
    "    y_onehot = pd.get_dummies(y).values\n",
    "    return y_onehot[:, [1,0]] # switch the positive and negative columns\n",
    "\n",
    "def balanced_stratified_split(X, test_ratio):\n",
    "    # calculate number of labels for both sets\n",
    "    num_labels_total = X.label.sum()\n",
    "    num_labels_train = int(num_labels_total * (1-test_ratio))\n",
    "    num_labels_test = num_labels_total - num_labels_train\n",
    "    # select random training set (size 2*num_labels_train)\n",
    "    X_train = X[X.label].sample(n=num_labels_train).append(X[~X.label].sample(n=num_labels_train))\n",
    "    # rest is test\n",
    "    X_test = X[~X.index.isin(X_train.index)]\n",
    "    return X_train, X_test\n",
    "    "
   ]
  },
  {
   "cell_type": "code",
   "execution_count": 86,
   "metadata": {
    "collapsed": false,
    "deletable": true,
    "editable": true,
    "scrolled": false
   },
   "outputs": [
    {
     "name": "stdout",
     "output_type": "stream",
     "text": [
      "Collected 46 genes involved in legionella infection\n",
      "Out of the 46 infection genes, 37 are in the network\n",
      "Split Training and Testing with 40.0% test nodes\n",
      "Training Nodes: 44\t# of Labels in Train Set: 22\n",
      "Testing Nodes: 9947\t# of Labels in Test Set: 15\n"
     ]
    }
   ],
   "source": [
    "# load the labels from Wigos list and my literature search (together with Wigos extension)\n",
    "infection_genes = pd.DataFrame.from_csv('../data/labels/labels_wigo_codingonly.csv', sep='\\t', index_col=3)\n",
    "my_infection_genes = pd.DataFrame.from_csv('../data/labels/labels_wigo_extended.tsv',\n",
    "                                           sep='\\t',\n",
    "                                           index_col=1\n",
    "                                          )\n",
    "infection_genes = infection_genes.append(my_infection_genes)\n",
    "print (\"Collected {} genes involved in legionella infection\".format(infection_genes.shape[0]))\n",
    "\n",
    "# load the gene names and add label column to it\n",
    "gene_names_df = pd.DataFrame(gene_names_ids,\n",
    "                             index=gene_names_ids[:, 0],\n",
    "                             columns=['ID', 'name']\n",
    "                            ).drop('ID', axis=1)\n",
    "names_labeled = gene_names_df\n",
    "names_labeled['label'] = gene_names_df.index.isin(infection_genes.index)\n",
    "print (\"Out of the {} infection genes, {} are in the network\".format(infection_genes.shape[0],\n",
    "                                                                     names_labeled.label.sum())\n",
    "      )\n",
    "\n",
    "# split for training, testing & validation\n",
    "X_train, X_test = balanced_stratified_split(names_labeled, TEST_RATIO)\n",
    "if VAL_SIZE > 0:\n",
    "    X_val = X_train[-VAL_SIZE:]\n",
    "    X_train = X_train[:-VAL_SIZE]\n",
    "else:\n",
    "    X_val = None\n",
    "print (\"Split Training and Testing with {}% test nodes\".format(TEST_RATIO*100.))\n",
    "print (\"Training Nodes: {}\\t# of Labels in Train Set: {}\".format(X_train.shape[0],\n",
    "                                                                 X_train.label.sum())\n",
    "      )\n",
    "print (\"Testing Nodes: {}\\t# of Labels in Test Set: {}\".format(X_test.shape[0],\n",
    "                                                               X_test.label.sum())\n",
    "      )\n",
    "\n",
    "# construct masks\n",
    "train_mask = build_mask(names_labeled, X_train)\n",
    "test_mask = build_mask(names_labeled, X_test)\n",
    "if X_val is not None:\n",
    "    val_mask = build_mask(features_labeled, X_val)\n",
    "\n",
    "# construct labels\n",
    "y_train = build_y(names_labeled, X_train)\n",
    "y_test = build_y(names_labeled, X_test)\n",
    "if X_val is not None:\n",
    "    y_val = pd.get_dummies(features_labeled[features_labeled.isin(X_val)].label).values"
   ]
  },
  {
   "cell_type": "markdown",
   "metadata": {
    "deletable": true,
    "editable": true
   },
   "source": [
    "## Write to hdf5 File on Disk\n",
    "The last thing to do is to write the data to disk, using the fast and efficient hdf5 format."
   ]
  },
  {
   "cell_type": "code",
   "execution_count": 87,
   "metadata": {
    "collapsed": true,
    "deletable": true,
    "editable": true
   },
   "outputs": [],
   "source": [
    "# create gene names\n",
    "string_dt = h5py.special_dtype(vlen=str)\n",
    "\n",
    "f = h5py.File('../data/preprocessing/legionella_gcn_input.h5', 'w')\n",
    "f.create_dataset('network', data=ppi_network, shape=ppi_network.shape)\n",
    "f.create_dataset('features', data=gene_expression_short, shape=gene_expression_short.shape)\n",
    "f.create_dataset('gene_names', data=gene_names_ids, dtype=string_dt)\n",
    "\n",
    "f.create_dataset('y_train', data=y_train, shape=y_train.shape)\n",
    "f.create_dataset('y_test', data=y_test, shape=y_test.shape)\n",
    "if X_val is not None:\n",
    "    f.create_dataset('y_val', data=y_val, shape=y_val.shape)\n",
    "\n",
    "f.create_dataset('mask_train', data=train_mask, shape=train_mask.shape)\n",
    "f.create_dataset('mask_test', data=test_mask, shape=test_mask.shape)\n",
    "if X_val is not None:\n",
    "    f.create_dataset('mask_val', data=val_mask, shape=val_mask.shape)\n",
    "f.close()"
   ]
  }
 ],
 "metadata": {
  "kernelspec": {
   "display_name": "Python 3",
   "language": "python",
   "name": "python3"
  },
  "language_info": {
   "codemirror_mode": {
    "name": "ipython",
    "version": 3
   },
   "file_extension": ".py",
   "mimetype": "text/x-python",
   "name": "python",
   "nbconvert_exporter": "python",
   "pygments_lexer": "ipython3",
   "version": "3.6.1"
  }
 },
 "nbformat": 4,
 "nbformat_minor": 2
}
