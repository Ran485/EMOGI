{
 "cells": [
  {
   "cell_type": "markdown",
   "metadata": {
    "deletable": true,
    "editable": true
   },
   "source": [
    "# Join Adjacency Matrix, Gene Expression & Labels"
   ]
  },
  {
   "cell_type": "code",
   "execution_count": 1,
   "metadata": {
    "collapsed": true,
    "deletable": true,
    "editable": true
   },
   "outputs": [],
   "source": [
    "import pandas\n",
    "import numpy as np\n",
    "from sklearn.decomposition import PCA\n",
    "from sklearn import preprocessing\n",
    "import matplotlib.pyplot as plt\n",
    "np.set_printoptions(suppress=True)\n",
    "import h5py"
   ]
  },
  {
   "cell_type": "markdown",
   "metadata": {
    "deletable": true,
    "editable": true
   },
   "source": [
    "## Get Gene Expression"
   ]
  },
  {
   "cell_type": "code",
   "execution_count": 2,
   "metadata": {
    "collapsed": true,
    "deletable": true,
    "editable": true
   },
   "outputs": [],
   "source": [
    "# params\n",
    "TIMES_STD_THRESHOLD = 10.\n",
    "MAX_ZEROS_ALLOWED = .5"
   ]
  },
  {
   "cell_type": "code",
   "execution_count": 3,
   "metadata": {
    "collapsed": false,
    "deletable": true,
    "editable": true
   },
   "outputs": [
    {
     "name": "stdout",
     "output_type": "stream",
     "text": [
      "Had gene expression for 41424 genes in the beginning.\n",
      "kicked out 9 super highly expressed genes\n",
      "Kicked out 15021 genes with more than 50.0% zeros\n",
      "==> Left with gene expression for 26394 genes\n"
     ]
    }
   ],
   "source": [
    "# load data\n",
    "gene_expression = pandas.DataFrame.from_csv('gene_expression/normalized-counts-labels.csv',\n",
    "                                            encoding='utf-8', sep=',')\n",
    "ge_nonames = gene_expression.drop('Name', axis=1)\n",
    "\n",
    "# kick out super highly expressed genes\n",
    "threshold = ge_nonames.mean(axis=1).std()*TIMES_STD_THRESHOLD\n",
    "#print (\"Threshold Gene Expression: {}\".format(threshold))\n",
    "anomalies = gene_expression[ge_nonames.mean(axis=1) > threshold]\n",
    "ge_anomalies_removed = ge_nonames.drop(anomalies.index)\n",
    "\n",
    "# kick out genes with too many zeros\n",
    "ge_zeros_removed = ge_anomalies_removed[ge_anomalies_removed.astype('bool').mean(axis=1)>=(1-MAX_ZEROS_ALLOWED)]\n",
    "\n",
    "# scaling\n",
    "scaler = preprocessing.StandardScaler()\n",
    "scaled_features = scaler.fit_transform(ge_zeros_removed)\n",
    "ge_scaled = pandas.DataFrame(scaled_features,\n",
    "                             index=ge_zeros_removed.index,\n",
    "                             columns=ge_zeros_removed.columns)\n",
    "\n",
    "# print some information\n",
    "print (\"Had gene expression for {} genes in the beginning.\".format(ge_nonames.shape[0]))\n",
    "print (\"kicked out {} super highly expressed genes\".format(ge_nonames.shape[0] - ge_anomalies_removed.shape[0]))\n",
    "print (\"Kicked out {} genes with more than {}% zeros\".format(ge_anomalies_removed.shape[0]-ge_zeros_removed.shape[0],\n",
    "                                                             MAX_ZEROS_ALLOWED*100.\n",
    "                                                            ))\n",
    "print (\"==> Left with gene expression for {} genes\".format(ge_scaled.shape[0]))"
   ]
  },
  {
   "cell_type": "markdown",
   "metadata": {
    "deletable": true,
    "editable": true
   },
   "source": [
    "## Get PPI Network according to Gene Expression Data"
   ]
  },
  {
   "cell_type": "code",
   "execution_count": 4,
   "metadata": {
    "collapsed": false,
    "deletable": true,
    "editable": true
   },
   "outputs": [
    {
     "name": "stdout",
     "output_type": "stream",
     "text": [
      "(26394,) (26394,)\n"
     ]
    }
   ],
   "source": [
    "gene_names = gene_expression.loc[ge_scaled.index].Name.values\n",
    "gene_ids = ge_scaled.index\n",
    "print (gene_names.shape, gene_ids.shape)"
   ]
  },
  {
   "cell_type": "code",
   "execution_count": 5,
   "metadata": {
    "collapsed": false,
    "deletable": true,
    "editable": true,
    "scrolled": false
   },
   "outputs": [
    {
     "name": "stdout",
     "output_type": "stream",
     "text": [
      "26394\n",
      "Processed 10000 out of 272744 rows\n",
      "Processed 20000 out of 272744 rows\n",
      "Processed 30000 out of 272744 rows\n",
      "Processed 40000 out of 272744 rows\n",
      "Processed 50000 out of 272744 rows\n",
      "Processed 60000 out of 272744 rows\n",
      "Processed 70000 out of 272744 rows\n",
      "Processed 80000 out of 272744 rows\n",
      "Processed 90000 out of 272744 rows\n",
      "Processed 100000 out of 272744 rows\n",
      "Processed 110000 out of 272744 rows\n",
      "Processed 120000 out of 272744 rows\n",
      "Processed 130000 out of 272744 rows\n",
      "Processed 140000 out of 272744 rows\n",
      "Processed 150000 out of 272744 rows\n",
      "Processed 160000 out of 272744 rows\n",
      "Processed 170000 out of 272744 rows\n",
      "Processed 180000 out of 272744 rows\n",
      "Processed 190000 out of 272744 rows\n",
      "Processed 200000 out of 272744 rows\n",
      "Processed 210000 out of 272744 rows\n",
      "Processed 220000 out of 272744 rows\n",
      "Processed 230000 out of 272744 rows\n",
      "Processed 240000 out of 272744 rows\n",
      "Processed 250000 out of 272744 rows\n",
      "Processed 260000 out of 272744 rows\n",
      "Processed 270000 out of 272744 rows\n"
     ]
    }
   ],
   "source": [
    "# read interaction data\n",
    "interactions = pandas.DataFrame.from_csv('ppi_network/ConsensusPathDB_human_PPI.csv',\n",
    "                                         header=1,\n",
    "                                         sep='\\t',\n",
    "                                         encoding='utf8'\n",
    "                                        )\n",
    "interactions_nona = interactions.dropna()\n",
    "\n",
    "# construct Adjacency Matrix\n",
    "N = len(gene_names)\n",
    "print (N)\n",
    "adjacency_matrix = np.zeros((N, N), np.uint8)\n",
    "adj_df = pandas.DataFrame(adjacency_matrix, index=gene_names, columns=gene_names)\n",
    "\n",
    "count = 0\n",
    "for index, row in interactions_nona.iterrows():\n",
    "    if row.interaction_confidence > 0.5:\n",
    "        interaction_partners = row.interaction_participants.split(',')\n",
    "        if len(interaction_partners) == 2:\n",
    "            i1 = interaction_partners[0].split('_')[0].strip() # get rid of \"_HUMAN\" at end of prot name\n",
    "            i2 = interaction_partners[1].split('_')[0].strip()\n",
    "            if i1 in gene_names and i2 in gene_names:\n",
    "                adj_df.ix[i1, i2] = 1\n",
    "                adj_df.ix[i2, i1] = 1\n",
    "            \n",
    "    count += 1\n",
    "    if count % 10000 == 0:\n",
    "        print (\"Processed {} out of {} rows\".format(count, interactions_nona.shape[0]))"
   ]
  },
  {
   "cell_type": "code",
   "execution_count": 6,
   "metadata": {
    "collapsed": false,
    "deletable": true,
    "editable": true
   },
   "outputs": [
    {
     "data": {
      "text/plain": [
       "87244"
      ]
     },
     "execution_count": 6,
     "metadata": {},
     "output_type": "execute_result"
    }
   ],
   "source": [
    "adj_df.sum().sum()"
   ]
  },
  {
   "cell_type": "markdown",
   "metadata": {
    "deletable": true,
    "editable": true
   },
   "source": [
    "## Get Labels"
   ]
  },
  {
   "cell_type": "markdown",
   "metadata": {
    "deletable": true,
    "editable": true
   },
   "source": [
    "## Generate Training, Testing & Validation Splits"
   ]
  },
  {
   "cell_type": "markdown",
   "metadata": {
    "deletable": true,
    "editable": true
   },
   "source": [
    "## Write to hdf5 File on Disk"
   ]
  },
  {
   "cell_type": "code",
   "execution_count": 117,
   "metadata": {
    "collapsed": false,
    "deletable": true,
    "editable": true
   },
   "outputs": [
    {
     "ename": "ImportError",
     "evalue": "HDFStore requires PyTables, \"No module named 'tables'\" problem importing",
     "output_type": "error",
     "traceback": [
      "\u001b[0;31m---------------------------------------------------------------------------\u001b[0m",
      "\u001b[0;31mModuleNotFoundError\u001b[0m                       Traceback (most recent call last)",
      "\u001b[0;32m/pkg/python-3.6.0-0/lib/python3.6/site-packages/pandas/io/pytables.py\u001b[0m in \u001b[0;36m__init__\u001b[0;34m(self, path, mode, complevel, complib, fletcher32, **kwargs)\u001b[0m\n\u001b[1;32m    429\u001b[0m         \u001b[0;32mtry\u001b[0m\u001b[0;34m:\u001b[0m\u001b[0;34m\u001b[0m\u001b[0m\n\u001b[0;32m--> 430\u001b[0;31m             \u001b[0;32mimport\u001b[0m \u001b[0mtables\u001b[0m  \u001b[0;31m# noqa\u001b[0m\u001b[0;34m\u001b[0m\u001b[0m\n\u001b[0m\u001b[1;32m    431\u001b[0m         \u001b[0;32mexcept\u001b[0m \u001b[0mImportError\u001b[0m \u001b[0;32mas\u001b[0m \u001b[0mex\u001b[0m\u001b[0;34m:\u001b[0m  \u001b[0;31m# pragma: no cover\u001b[0m\u001b[0;34m\u001b[0m\u001b[0m\n",
      "\u001b[0;31mModuleNotFoundError\u001b[0m: No module named 'tables'",
      "\nDuring handling of the above exception, another exception occurred:\n",
      "\u001b[0;31mImportError\u001b[0m                               Traceback (most recent call last)",
      "\u001b[0;32m<ipython-input-117-6021ac0f321c>\u001b[0m in \u001b[0;36m<module>\u001b[0;34m()\u001b[0m\n\u001b[0;32m----> 1\u001b[0;31m \u001b[0madj_df\u001b[0m\u001b[0;34m.\u001b[0m\u001b[0mto_hdf\u001b[0m\u001b[0;34m(\u001b[0m\u001b[0mpath_or_buf\u001b[0m\u001b[0;34m=\u001b[0m\u001b[0;34m'ppi_network.h5'\u001b[0m\u001b[0;34m,\u001b[0m \u001b[0mkey\u001b[0m\u001b[0;34m=\u001b[0m\u001b[0;34m'consensusPathDB_ppi'\u001b[0m\u001b[0;34m)\u001b[0m\u001b[0;34m\u001b[0m\u001b[0m\n\u001b[0m\u001b[1;32m      2\u001b[0m \u001b[0;34m\u001b[0m\u001b[0m\n\u001b[1;32m      3\u001b[0m \u001b[0;31m#f.create_dataset('consensusPathDB_ppi', data=adj_df, shape=adj_df.shape)\u001b[0m\u001b[0;34m\u001b[0m\u001b[0;34m\u001b[0m\u001b[0m\n\u001b[1;32m      4\u001b[0m \u001b[0;31m#f.create_dataset('gene_expression', data=ge_scaled, shape=ge_scaled.shape)\u001b[0m\u001b[0;34m\u001b[0m\u001b[0;34m\u001b[0m\u001b[0m\n\u001b[1;32m      5\u001b[0m \u001b[0;31m#f.create_dataset('gene_names', data=gene_names_both, dtype=string_dt)\u001b[0m\u001b[0;34m\u001b[0m\u001b[0;34m\u001b[0m\u001b[0m\n",
      "\u001b[0;32m/pkg/python-3.6.0-0/lib/python3.6/site-packages/pandas/core/generic.py\u001b[0m in \u001b[0;36mto_hdf\u001b[0;34m(self, path_or_buf, key, **kwargs)\u001b[0m\n\u001b[1;32m   1136\u001b[0m \u001b[0;34m\u001b[0m\u001b[0m\n\u001b[1;32m   1137\u001b[0m         \u001b[0;32mfrom\u001b[0m \u001b[0mpandas\u001b[0m\u001b[0;34m.\u001b[0m\u001b[0mio\u001b[0m \u001b[0;32mimport\u001b[0m \u001b[0mpytables\u001b[0m\u001b[0;34m\u001b[0m\u001b[0m\n\u001b[0;32m-> 1138\u001b[0;31m         \u001b[0;32mreturn\u001b[0m \u001b[0mpytables\u001b[0m\u001b[0;34m.\u001b[0m\u001b[0mto_hdf\u001b[0m\u001b[0;34m(\u001b[0m\u001b[0mpath_or_buf\u001b[0m\u001b[0;34m,\u001b[0m \u001b[0mkey\u001b[0m\u001b[0;34m,\u001b[0m \u001b[0mself\u001b[0m\u001b[0;34m,\u001b[0m \u001b[0;34m**\u001b[0m\u001b[0mkwargs\u001b[0m\u001b[0;34m)\u001b[0m\u001b[0;34m\u001b[0m\u001b[0m\n\u001b[0m\u001b[1;32m   1139\u001b[0m \u001b[0;34m\u001b[0m\u001b[0m\n\u001b[1;32m   1140\u001b[0m     \u001b[0;32mdef\u001b[0m \u001b[0mto_msgpack\u001b[0m\u001b[0;34m(\u001b[0m\u001b[0mself\u001b[0m\u001b[0;34m,\u001b[0m \u001b[0mpath_or_buf\u001b[0m\u001b[0;34m=\u001b[0m\u001b[0;32mNone\u001b[0m\u001b[0;34m,\u001b[0m \u001b[0mencoding\u001b[0m\u001b[0;34m=\u001b[0m\u001b[0;34m'utf-8'\u001b[0m\u001b[0;34m,\u001b[0m \u001b[0;34m**\u001b[0m\u001b[0mkwargs\u001b[0m\u001b[0;34m)\u001b[0m\u001b[0;34m:\u001b[0m\u001b[0;34m\u001b[0m\u001b[0m\n",
      "\u001b[0;32m/pkg/python-3.6.0-0/lib/python3.6/site-packages/pandas/io/pytables.py\u001b[0m in \u001b[0;36mto_hdf\u001b[0;34m(path_or_buf, key, value, mode, complevel, complib, append, **kwargs)\u001b[0m\n\u001b[1;32m    267\u001b[0m     \u001b[0;32mif\u001b[0m \u001b[0misinstance\u001b[0m\u001b[0;34m(\u001b[0m\u001b[0mpath_or_buf\u001b[0m\u001b[0;34m,\u001b[0m \u001b[0mstring_types\u001b[0m\u001b[0;34m)\u001b[0m\u001b[0;34m:\u001b[0m\u001b[0;34m\u001b[0m\u001b[0m\n\u001b[1;32m    268\u001b[0m         with HDFStore(path_or_buf, mode=mode, complevel=complevel,\n\u001b[0;32m--> 269\u001b[0;31m                       complib=complib) as store:\n\u001b[0m\u001b[1;32m    270\u001b[0m             \u001b[0mf\u001b[0m\u001b[0;34m(\u001b[0m\u001b[0mstore\u001b[0m\u001b[0;34m)\u001b[0m\u001b[0;34m\u001b[0m\u001b[0m\n\u001b[1;32m    271\u001b[0m     \u001b[0;32melse\u001b[0m\u001b[0;34m:\u001b[0m\u001b[0;34m\u001b[0m\u001b[0m\n",
      "\u001b[0;32m/pkg/python-3.6.0-0/lib/python3.6/site-packages/pandas/io/pytables.py\u001b[0m in \u001b[0;36m__init__\u001b[0;34m(self, path, mode, complevel, complib, fletcher32, **kwargs)\u001b[0m\n\u001b[1;32m    431\u001b[0m         \u001b[0;32mexcept\u001b[0m \u001b[0mImportError\u001b[0m \u001b[0;32mas\u001b[0m \u001b[0mex\u001b[0m\u001b[0;34m:\u001b[0m  \u001b[0;31m# pragma: no cover\u001b[0m\u001b[0;34m\u001b[0m\u001b[0m\n\u001b[1;32m    432\u001b[0m             raise ImportError('HDFStore requires PyTables, \"{ex}\" problem '\n\u001b[0;32m--> 433\u001b[0;31m                               'importing'.format(ex=str(ex)))\n\u001b[0m\u001b[1;32m    434\u001b[0m \u001b[0;34m\u001b[0m\u001b[0m\n\u001b[1;32m    435\u001b[0m         \u001b[0;32mif\u001b[0m \u001b[0mcomplib\u001b[0m \u001b[0;32mnot\u001b[0m \u001b[0;32min\u001b[0m \u001b[0;34m(\u001b[0m\u001b[0;32mNone\u001b[0m\u001b[0;34m,\u001b[0m \u001b[0;34m'blosc'\u001b[0m\u001b[0;34m,\u001b[0m \u001b[0;34m'bzip2'\u001b[0m\u001b[0;34m,\u001b[0m \u001b[0;34m'lzo'\u001b[0m\u001b[0;34m,\u001b[0m \u001b[0;34m'zlib'\u001b[0m\u001b[0;34m)\u001b[0m\u001b[0;34m:\u001b[0m\u001b[0;34m\u001b[0m\u001b[0m\n",
      "\u001b[0;31mImportError\u001b[0m: HDFStore requires PyTables, \"No module named 'tables'\" problem importing"
     ]
    }
   ],
   "source": [
    "f = h5py.File('../data/preprocessing/ppi_networks.h5', 'w')\n",
    "f.create_dataset('consensusPathDB_ppi', data=adj_df, shape=adj_df.shape)\n",
    "f.create_dataset('gene_expression', data=ge_scaled, shape=ge_scaled.shape)\n",
    "f.create_dataset('gene_names', data=gene_names_both, dtype=string_dt)\n",
    "\n",
    "# doesn't exist yet :-(\n",
    "#f.create_dataset('y_train', data=y_train, shape=y_train.shape)\n",
    "#f.create_dataset('y_test', data=y_test, shape=y_test.shape)\n",
    "#f.create_dataset('y_val', data=y_val, shape=y_val.shape)\n",
    "\n",
    "#f.create_dataset('mask_train', data=mask_train, shape=mask_train.shape)\n",
    "#f.create_dataset('mask_test', data=mask_test, shape=mask_test.shape)\n",
    "#f.create_dataset('mask_val', data=mask_val, shape=mask_val.shape)\n",
    "f.close()"
   ]
  },
  {
   "cell_type": "code",
   "execution_count": 118,
   "metadata": {
    "collapsed": false,
    "deletable": true,
    "editable": true
   },
   "outputs": [],
   "source": [
    "fname = 'ppi_networks.h5'\n",
    "with h5py.File(fname, 'r') as f:\n",
    "    gene_expression_data = f['gene_expression'][:]\n",
    "    ppi_network = f['consensusPathDB_ppi'][:]\n",
    "    gene_names = f['gene_names'][:]"
   ]
  },
  {
   "cell_type": "code",
   "execution_count": 120,
   "metadata": {
    "collapsed": false,
    "deletable": true,
    "editable": true
   },
   "outputs": [
    {
     "data": {
      "text/plain": [
       "numpy.ndarray"
      ]
     },
     "execution_count": 120,
     "metadata": {},
     "output_type": "execute_result"
    }
   ],
   "source": [
    "type(ppi_network)"
   ]
  },
  {
   "cell_type": "code",
   "execution_count": 121,
   "metadata": {
    "collapsed": true,
    "deletable": true,
    "editable": true
   },
   "outputs": [],
   "source": [
    "pr_val = np.array([3, 1, 2])\n",
    "gene_names = np.array(['g1', 'g2', 'g3'])\n",
    "sort_idx = pr_val.argsort()\n",
    "gene_names_sorted = gene_names[sort_idx[::-1]]"
   ]
  },
  {
   "cell_type": "code",
   "execution_count": 122,
   "metadata": {
    "collapsed": false,
    "deletable": true,
    "editable": true
   },
   "outputs": [
    {
     "data": {
      "text/plain": [
       "array(['g1', 'g3', 'g2'],\n",
       "      dtype='<U2')"
      ]
     },
     "execution_count": 122,
     "metadata": {},
     "output_type": "execute_result"
    }
   ],
   "source": [
    "gene_names_sorted"
   ]
  },
  {
   "cell_type": "code",
   "execution_count": 124,
   "metadata": {
    "collapsed": true,
    "deletable": true,
    "editable": true
   },
   "outputs": [],
   "source": [
    "import networkx as nx"
   ]
  },
  {
   "cell_type": "code",
   "execution_count": 125,
   "metadata": {
    "collapsed": true,
    "deletable": true,
    "editable": true
   },
   "outputs": [],
   "source": [
    "G = nx.DiGraph(nx.path_graph(4))\n",
    "pr = nx.pagerank(G)"
   ]
  },
  {
   "cell_type": "code",
   "execution_count": 126,
   "metadata": {
    "collapsed": false,
    "deletable": true,
    "editable": true
   },
   "outputs": [
    {
     "data": {
      "text/plain": [
       "{0: 0.17543839772251535,\n",
       " 1: 0.32456160227748465,\n",
       " 2: 0.32456160227748465,\n",
       " 3: 0.17543839772251535}"
      ]
     },
     "execution_count": 126,
     "metadata": {},
     "output_type": "execute_result"
    }
   ],
   "source": [
    "pr"
   ]
  },
  {
   "cell_type": "code",
   "execution_count": 128,
   "metadata": {
    "collapsed": false,
    "deletable": true,
    "editable": true
   },
   "outputs": [],
   "source": [
    "import operator\n",
    "pr_s = sorted(pr.items(), key=operator.itemgetter(1))[::-1]"
   ]
  },
  {
   "cell_type": "code",
   "execution_count": 131,
   "metadata": {
    "collapsed": false,
    "deletable": true,
    "editable": true
   },
   "outputs": [
    {
     "data": {
      "text/plain": [
       "array([['TSPAN6', 'ENSG00000000003'],\n",
       "       ['DPM1', 'ENSG00000000419'],\n",
       "       ['SCYL3', 'ENSG00000000457'],\n",
       "       ..., \n",
       "       ['CH17-132F21.5', 'ENSG00000281904'],\n",
       "       ['RP11-439M15.1', 'ENSG00000281909'],\n",
       "       ['LINC01144', 'ENSG00000281912']], dtype=object)"
      ]
     },
     "execution_count": 131,
     "metadata": {},
     "output_type": "execute_result"
    }
   ],
   "source": [
    "gene_names_both"
   ]
  },
  {
   "cell_type": "code",
   "execution_count": 135,
   "metadata": {
    "collapsed": false,
    "deletable": true,
    "editable": true
   },
   "outputs": [
    {
     "name": "stdout",
     "output_type": "stream",
     "text": [
      "ENSG00000000457\tSCYL3\t1\t0.32456160227748465\n",
      "\n",
      "ENSG00000000419\tDPM1\t2\t0.32456160227748465\n",
      "\n",
      "ENSG00000000460\tC1orf112\t3\t0.17543839772251535\n",
      "\n",
      "ENSG00000000003\tTSPAN6\t4\t0.17543839772251535\n",
      "\n"
     ]
    }
   ],
   "source": [
    "count = 1\n",
    "for gene_idx, pr in pr_s:\n",
    "    print (\"{}\\t{}\\t{}\\t{}\\n\".format(gene_names_both[gene_idx][1], gene_names_both[gene_idx][0], count, pr))\n",
    "    count += 1"
   ]
  },
  {
   "cell_type": "code",
   "execution_count": 12,
   "metadata": {
    "collapsed": false,
    "deletable": true,
    "editable": true
   },
   "outputs": [
    {
     "ename": "ModuleNotFoundError",
     "evalue": "No module named 'tables'",
     "output_type": "error",
     "traceback": [
      "\u001b[0;31m---------------------------------------------------------------------------\u001b[0m",
      "\u001b[0;31mModuleNotFoundError\u001b[0m                       Traceback (most recent call last)",
      "\u001b[0;32m<ipython-input-12-389ecae14f10>\u001b[0m in \u001b[0;36m<module>\u001b[0;34m()\u001b[0m\n\u001b[0;32m----> 1\u001b[0;31m \u001b[0;32mimport\u001b[0m \u001b[0mtables\u001b[0m\u001b[0;34m\u001b[0m\u001b[0m\n\u001b[0m",
      "\u001b[0;31mModuleNotFoundError\u001b[0m: No module named 'tables'"
     ]
    }
   ],
   "source": [
    "import tables"
   ]
  },
  {
   "cell_type": "code",
   "execution_count": null,
   "metadata": {
    "collapsed": true,
    "deletable": true,
    "editable": true
   },
   "outputs": [],
   "source": []
  }
 ],
 "metadata": {
  "kernelspec": {
   "display_name": "Python 3",
   "language": "python",
   "name": "python3"
  },
  "language_info": {
   "codemirror_mode": {
    "name": "ipython",
    "version": 3
   },
   "file_extension": ".py",
   "mimetype": "text/x-python",
   "name": "python",
   "nbconvert_exporter": "python",
   "pygments_lexer": "ipython3",
   "version": "3.6.0"
  }
 },
 "nbformat": 4,
 "nbformat_minor": 2
}
