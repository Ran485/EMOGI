{
 "cells": [
  {
   "cell_type": "markdown",
   "metadata": {},
   "source": [
    "# Join Adjacency Matrix, Gene Expression & Labels"
   ]
  },
  {
   "cell_type": "code",
   "execution_count": 26,
   "metadata": {
    "collapsed": true
   },
   "outputs": [],
   "source": [
    "import pandas\n",
    "import numpy as np\n",
    "from sklearn.decomposition import PCA\n",
    "from sklearn import preprocessing\n",
    "import matplotlib.pyplot as plt\n",
    "np.set_printoptions(suppress=True)\n",
    "import h5py"
   ]
  },
  {
   "cell_type": "markdown",
   "metadata": {},
   "source": [
    "## Get Gene Expression"
   ]
  },
  {
   "cell_type": "code",
   "execution_count": 5,
   "metadata": {
    "collapsed": true
   },
   "outputs": [],
   "source": [
    "# params\n",
    "TIMES_STD_THRESHOLD = 10.\n",
    "MAX_ZEROS_ALLOWED = .5"
   ]
  },
  {
   "cell_type": "code",
   "execution_count": 8,
   "metadata": {
    "collapsed": false
   },
   "outputs": [
    {
     "name": "stdout",
     "output_type": "stream",
     "text": [
      "Had gene expression for 41424 genes in the beginning.\n",
      "kicked out 9 super highly expressed genes\n",
      "Kicked out 15021 genes with more than 50.0% zeros\n",
      "==> Left with gene expression for 26394 genes\n"
     ]
    }
   ],
   "source": [
    "# load data\n",
    "gene_expression = pandas.DataFrame.from_csv('gene_expression/normalized-counts-labels.csv',\n",
    "                                            encoding='utf-8', sep=',')\n",
    "ge_nonames = gene_expression.drop('Name', axis=1)\n",
    "\n",
    "# kick out super highly expressed genes\n",
    "threshold = ge_nonames.mean(axis=1).std()*TIMES_STD_THRESHOLD\n",
    "#print (\"Threshold Gene Expression: {}\".format(threshold))\n",
    "anomalies = gene_expression[ge_nonames.mean(axis=1) > threshold]\n",
    "ge_anomalies_removed = ge_nonames.drop(anomalies.index)\n",
    "\n",
    "# kick out genes with too many zeros\n",
    "ge_zeros_removed = ge_anomalies_removed[ge_anomalies_removed.astype('bool').mean(axis=1)>=(1-MAX_ZEROS_ALLOWED)]\n",
    "\n",
    "# scaling\n",
    "scaler = preprocessing.StandardScaler()\n",
    "scaled_features = scaler.fit_transform(ge_zeros_removed)\n",
    "ge_scaled = pandas.DataFrame(scaled_features,\n",
    "                             index=ge_zeros_removed.index,\n",
    "                             columns=ge_zeros_removed.columns)\n",
    "\n",
    "# print some information\n",
    "print (\"Had gene expression for {} genes in the beginning.\".format(ge_nonames.shape[0]))\n",
    "print (\"kicked out {} super highly expressed genes\".format(ge_nonames.shape[0] - ge_anomalies_removed.shape[0]))\n",
    "print (\"Kicked out {} genes with more than {}% zeros\".format(ge_anomalies_removed.shape[0]-ge_zeros_removed.shape[0],\n",
    "                                                             MAX_ZEROS_ALLOWED*100.\n",
    "                                                            ))\n",
    "print (\"==> Left with gene expression for {} genes\".format(ge_scaled.shape[0]))"
   ]
  },
  {
   "cell_type": "markdown",
   "metadata": {},
   "source": [
    "## Get PPI Network according to Gene Expression Data"
   ]
  },
  {
   "cell_type": "code",
   "execution_count": 16,
   "metadata": {
    "collapsed": false
   },
   "outputs": [],
   "source": [
    "gene_names = gene_expression.loc[ge_scaled.index].Name.values"
   ]
  },
  {
   "cell_type": "code",
   "execution_count": 22,
   "metadata": {
    "collapsed": false
   },
   "outputs": [
    {
     "name": "stdout",
     "output_type": "stream",
     "text": [
      "26394\n",
      "Processed 10000 out of 272744 rows\n",
      "Processed 20000 out of 272744 rows\n",
      "Processed 30000 out of 272744 rows\n",
      "Processed 40000 out of 272744 rows\n",
      "Processed 50000 out of 272744 rows\n",
      "Processed 60000 out of 272744 rows\n",
      "Processed 70000 out of 272744 rows\n",
      "Processed 80000 out of 272744 rows\n",
      "Processed 90000 out of 272744 rows\n",
      "Processed 100000 out of 272744 rows\n",
      "Processed 110000 out of 272744 rows\n",
      "Processed 120000 out of 272744 rows\n",
      "Processed 130000 out of 272744 rows\n",
      "Processed 140000 out of 272744 rows\n",
      "Processed 150000 out of 272744 rows\n",
      "Processed 160000 out of 272744 rows\n",
      "Processed 170000 out of 272744 rows\n",
      "Processed 180000 out of 272744 rows\n",
      "Processed 190000 out of 272744 rows\n",
      "Processed 200000 out of 272744 rows\n",
      "Processed 210000 out of 272744 rows\n",
      "Processed 220000 out of 272744 rows\n",
      "Processed 230000 out of 272744 rows\n",
      "Processed 240000 out of 272744 rows\n",
      "Processed 250000 out of 272744 rows\n",
      "Processed 260000 out of 272744 rows\n",
      "Processed 270000 out of 272744 rows\n"
     ]
    }
   ],
   "source": [
    "# read interaction data\n",
    "interactions = pandas.DataFrame.from_csv('ppi_network/ConsensusPathDB_human_PPI.csv',\n",
    "                                         header=1,\n",
    "                                         sep='\\t',\n",
    "                                         encoding='utf8'\n",
    "                                        )\n",
    "interactions_nona = interactions.dropna()\n",
    "\n",
    "# construct Adjacency Matrix\n",
    "N = len(gene_names)\n",
    "print (N)\n",
    "adjacency_matrix = np.zeros((N, N), np.uint8)\n",
    "adj_df = pandas.DataFrame(adjacency_matrix, index=gene_names, columns=gene_names)\n",
    "\n",
    "count = 0\n",
    "for index, row in interactions_nona.iterrows():\n",
    "    if row.interaction_confidence > 0.5:\n",
    "        interaction_partners = row.interaction_participants.split(',')\n",
    "        if len(interaction_partners) == 2:\n",
    "            i1 = interaction_partners[0].split('_')[0].strip() # get rid of \"_HUMAN\" at end of prot name\n",
    "            i2 = interaction_partners[1].split('_')[0].strip()\n",
    "            if i1 in gene_names and i2 in gene_names:\n",
    "                adj_df.ix[i1, i2] = 1\n",
    "                adj_df.ix[i2, i1] = 1\n",
    "            \n",
    "    count += 1\n",
    "    if count % 10000 == 0:\n",
    "        print (\"Processed {} out of {} rows\".format(count, interactions_nona.shape[0]))"
   ]
  },
  {
   "cell_type": "code",
   "execution_count": 24,
   "metadata": {
    "collapsed": false
   },
   "outputs": [
    {
     "data": {
      "text/plain": [
       "87244"
      ]
     },
     "execution_count": 24,
     "metadata": {},
     "output_type": "execute_result"
    }
   ],
   "source": [
    "adj_df.sum().sum()"
   ]
  },
  {
   "cell_type": "markdown",
   "metadata": {},
   "source": [
    "## Get Labels"
   ]
  },
  {
   "cell_type": "markdown",
   "metadata": {},
   "source": [
    "## Generate Training, Testing & Validation Splits"
   ]
  },
  {
   "cell_type": "markdown",
   "metadata": {},
   "source": [
    "## Write to hdf5 File on Disk"
   ]
  },
  {
   "cell_type": "code",
   "execution_count": null,
   "metadata": {
    "collapsed": true
   },
   "outputs": [],
   "source": [
    "f = h5py.File('ppi_networks.h5', 'w')\n",
    "f.create_dataset('consensusPathDB_ppi', data=adj_df, shape=adj_df.shape)\n",
    "f.create_dataset('gene_expression', data=ge_scaled, shape=ge_scaled.shape)\n",
    "\n",
    "f.create_dataset('y_train', data=y_train, shape=y_train.shape)\n",
    "f.create_dataset('y_test', data=y_test, shape=y_test.shape)\n",
    "f.create_dataset('y_val', data=y_val, shape=y_val.shape)\n",
    "\n",
    "f.create_dataset('mask_train', data=mask_train, shape=mask_train.shape)\n",
    "f.create_dataset('mask_test', data=mask_test, shape=mask_test.shape)\n",
    "f.create_dataset('mask_val', data=mask_val, shape=mask_val.shape)\n",
    "f.close()"
   ]
  }
 ],
 "metadata": {
  "kernelspec": {
   "display_name": "Python 3",
   "language": "python",
   "name": "python3"
  },
  "language_info": {
   "codemirror_mode": {
    "name": "ipython",
    "version": 3
   },
   "file_extension": ".py",
   "mimetype": "text/x-python",
   "name": "python",
   "nbconvert_exporter": "python",
   "pygments_lexer": "ipython3",
   "version": "3.6.0"
  }
 },
 "nbformat": 4,
 "nbformat_minor": 2
}
