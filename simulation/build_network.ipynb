{
 "cells": [
  {
   "cell_type": "markdown",
   "metadata": {},
   "source": [
    "# Build Network\n",
    "With NetSim, I have a tool that is capable of simulating a network. with implanted subnetworks.\n",
    "Now, I want to use it already generated networks to build the input for training datafor a GCN.\n",
    "\n",
    "This notebook will take a network and some RNA-seq counts to form a data set that can serve as input to a GCN model.\n",
    "What it does:\n",
    "1. Loading network, RNA-seq counts & differential expression\n",
    "2. Using the insert positions from the network to assign the insert nodes with the most differentially expressed feature vectors\n",
    "3. Form a h5py file that can serve as input for the GCN"
   ]
  },
  {
   "cell_type": "code",
   "execution_count": 97,
   "metadata": {
    "collapsed": true
   },
   "outputs": [],
   "source": [
    "import pandas as pd\n",
    "import networkx as nx\n",
    "import numpy as np\n",
    "import h5py"
   ]
  },
  {
   "cell_type": "markdown",
   "metadata": {
    "collapsed": true
   },
   "source": [
    "## Loading the Data"
   ]
  },
  {
   "cell_type": "code",
   "execution_count": 98,
   "metadata": {
    "collapsed": true
   },
   "outputs": [],
   "source": [
    "# read the network and insert positions\n",
    "network = nx.read_edgelist('../simulation/network.edgelist')\n",
    "insert_positions = []\n",
    "with open('../simulation/implant_positions.txt', 'r') as f:\n",
    "    for line in f.readlines():\n",
    "        if line.startswith('#'): # comment\n",
    "            pass\n",
    "        elif line.startswith('Subnetwork'):\n",
    "            positions = line.split(':')[1].strip().split('\\t')\n",
    "            insert_positions.append([int(i) for i in positions])\n",
    "\n",
    "# read differential expression (to get log2FoldChange as ranking)\n",
    "de = pd.DataFrame.from_csv('../data/differential_expression/deseq2_gfppT16_vs_ControlT16.csv')\n",
    "de.dropna(axis=0, inplace=True)\n",
    "\n",
    "# read features (RNA-seq counts) & train/test masks\n",
    "data_file = '../data/preprocessing/legionella_gcn_input.h5'\n",
    "with h5py.File(data_file, 'r') as f:\n",
    "    features = f['features'][:]\n",
    "    node_names = f['gene_names'][:]\n",
    "    y_train = f['y_train'][:]\n",
    "    y_test = f['y_test'][:]\n",
    "    if 'y_val' in f:\n",
    "        y_val = f['y_val'][:]\n",
    "    else:\n",
    "        y_val = None\n",
    "    train_mask = f['mask_train'][:]\n",
    "    test_mask = f['mask_test'][:]\n",
    "    if 'mask_val' in f:\n",
    "        val_mask = f['mask_val'][:]\n",
    "    else:\n",
    "        val_mask = None\n",
    "features_df = pd.DataFrame(features, index=node_names[:, 0])\n",
    "# build label column for features\n",
    "features_df['label'] = y_train[:, 0] | y_test[:, 0]\n",
    "assert (features_df.label.sum() == len(insert_positions))"
   ]
  },
  {
   "cell_type": "markdown",
   "metadata": {},
   "source": [
    "## Assign Real Features to Simulated Nodes"
   ]
  },
  {
   "cell_type": "code",
   "execution_count": 131,
   "metadata": {
    "scrolled": true
   },
   "outputs": [],
   "source": [
    "# assign disease genes to first nodes of subnetworks\n",
    "features_df['node'] = np.nan\n",
    "first_nodes = [i[0] for i in insert_positions]\n",
    "features_df.loc[features_df.label == 1, 'node'] = first_nodes\n",
    "\n",
    "# for each of the other nodes, assign the gene with highest differential expression\n",
    "# first, remove disease genes from DE\n",
    "labels = features_df[features_df.label == 1].index\n",
    "diff_expr = de[de.index.isin(features_df.index) & ~de.index.isin(labels)]\n",
    "sorted_de = diff_expr.sort_values(by='log2FoldChange', ascending=False)\n",
    "\n",
    "# Now, use the DE log2FoldChange to find genes for neighbors of disease genes\n",
    "idx = 0\n",
    "assigned_nodes = list(features_df[~features_df.node.isnull()].node.values)\n",
    "assert (len(assigned_nodes) == len(set(assigned_nodes))) # no duplicates here\n",
    "for node_position in range(1, len(insert_positions[0])):\n",
    "    for subnet in range(len(insert_positions)):\n",
    "        ens_id = sorted_de.iloc[[idx]].index\n",
    "        features_df.loc[ens_id, 'node'] = insert_positions[subnet][node_position]\n",
    "        assigned_nodes.append(insert_positions[subnet][node_position])\n",
    "        idx += 1"
   ]
  },
  {
   "cell_type": "code",
   "execution_count": 127,
   "metadata": {},
   "outputs": [
    {
     "data": {
      "text/plain": [
       "(1850, 26)"
      ]
     },
     "execution_count": 127,
     "metadata": {},
     "output_type": "execute_result"
    }
   ],
   "source": [
    "# Now, randomly assign features to the other nodes\n",
    "features_not_assigned = features_df[features_df.node.isnull()]\n",
    "already_assigned = np.array(insert_positions).flatten()\n",
    "node_assignments = np.random.choice(list(network.nodes()),\n",
    "                                    size=nx.number_of_nodes(network),\n",
    "                                    replace=False)\n",
    "node_assignments = [int(i) for i in node_assignments if not int(i) in already_assigned]\n",
    "\n",
    "to_assign = features_df[features_df.node.isnull()].sample(n=len(node_assignments), replace=False).index\n",
    "features_df.loc[features_df.index.isin(to_assign), 'node'] = node_assignments\n",
    "assigned_features = features_df[~features_df.node.isnull()]\n",
    "features_df[~features_df.node.isnull()].shape\n",
    "\n",
    "# finally, remove remaining features and then we're done\n",
    "final_features = features_df.dropna(axis=0)\n",
    "final_features = final_features.set_index('node')\n",
    "final_features = final_features.drop('label', axis=1)\n",
    "final_features.shape"
   ]
  },
  {
   "cell_type": "markdown",
   "metadata": {},
   "source": [
    "## Write To Container"
   ]
  },
  {
   "cell_type": "code",
   "execution_count": 150,
   "metadata": {},
   "outputs": [],
   "source": [
    "network_np = nx.to_pandas_dataframe(network)\n",
    "node_names = final_features.index\n",
    "real_disease_genes = np.array([i[0] for i in insert_positions])\n",
    "\n",
    "f = h5py.File('../data/simulation/simulated_input_legionella.h5', 'w')\n",
    "f.create_dataset('network', data=network_np, shape=network_np.shape)\n",
    "f.create_dataset('features', data=final_features, shape=final_features.shape)\n",
    "f.create_dataset('gene_names', data=node_names, shape=node_names.shape)\n",
    "f.create_dataset('real_disease_genes', data=real_disease_genes, shape=real_disease_genes.shape)\n",
    "\n",
    "f.create_dataset('y_train', data=y_train, shape=y_train.shape)\n",
    "f.create_dataset('y_test', data=y_test, shape=y_test.shape)\n",
    "f.create_dataset('mask_train', data=train_mask, shape=train_mask.shape)\n",
    "f.create_dataset('mask_test', data=test_mask, shape=test_mask.shape)\n",
    "f.close()"
   ]
  }
 ],
 "metadata": {
  "kernelspec": {
   "display_name": "Python 3",
   "language": "python",
   "name": "python3"
  },
  "language_info": {
   "codemirror_mode": {
    "name": "ipython",
    "version": 3
   },
   "file_extension": ".py",
   "mimetype": "text/x-python",
   "name": "python",
   "nbconvert_exporter": "python",
   "pygments_lexer": "ipython3",
   "version": "3.5.2"
  }
 },
 "nbformat": 4,
 "nbformat_minor": 2
}
