{
 "cells": [
  {
   "cell_type": "markdown",
   "metadata": {},
   "source": [
    "# Creating Container for Simulated Data\n",
    "In this notebook, I want to derive a HDF5 container for a given simulated network (simulated by `NetSim`). For that, I have to create simulated feature vectors and a training and test split.\n",
    "The results should then be put in a HDF5 container."
   ]
  },
  {
   "cell_type": "code",
   "execution_count": 1,
   "metadata": {
    "collapsed": false
   },
   "outputs": [
    {
     "name": "stderr",
     "output_type": "stream",
     "text": [
      "/home/sasse/.local/lib/python3.6/site-packages/h5py/__init__.py:34: FutureWarning: Conversion of the second argument of issubdtype from `float` to `np.floating` is deprecated. In future, it will be treated as `np.float64 == np.dtype(float).type`.\n",
      "  from ._conv import register_converters as _register_converters\n"
     ]
    }
   ],
   "source": [
    "import pandas as pd\n",
    "import networkx as nx\n",
    "import numpy as np\n",
    "import h5py\n",
    "np.set_printoptions(precision=1, suppress=True)\n",
    "from sklearn.model_selection import train_test_split\n",
    "\n",
    "import matplotlib.pyplot as plt\n",
    "import seaborn\n",
    "%matplotlib inline"
   ]
  },
  {
   "cell_type": "code",
   "execution_count": 16,
   "metadata": {
    "collapsed": true
   },
   "outputs": [],
   "source": [
    "# params\n",
    "test_ratio = .3\n",
    "pos_distr = (20, 70) # mean and variance\n",
    "neg_distr = (20, 70) # mean and variance\n",
    "num_features = 24"
   ]
  },
  {
   "cell_type": "markdown",
   "metadata": {},
   "source": [
    "## Load Network and Insert Positions from Disk"
   ]
  },
  {
   "cell_type": "code",
   "execution_count": 17,
   "metadata": {
    "collapsed": false
   },
   "outputs": [
    {
     "name": "stdout",
     "output_type": "stream",
     "text": [
      "1053 2275\n"
     ]
    }
   ],
   "source": [
    "# read the network and insert positions\n",
    "network = nx.read_edgelist('../data/simulation/network.edgelist')\n",
    "insert_positions = []\n",
    "with open('../data/simulation/implant_positions.txt', 'r') as f:\n",
    "    for line in f.readlines():\n",
    "        if line.startswith('#'): # comment\n",
    "            pass\n",
    "        elif line.startswith('Subnetwork'):\n",
    "            positions = line.split(':')[1].strip().split('\\t')\n",
    "            insert_positions.append([int(i) for i in positions])\n",
    "print (network.number_of_nodes(), network.number_of_edges())"
   ]
  },
  {
   "cell_type": "code",
   "execution_count": 18,
   "metadata": {},
   "outputs": [
    {
     "name": "stdout",
     "output_type": "stream",
     "text": [
      "Found 38 cliques in insert positions and in the network\n"
     ]
    }
   ],
   "source": [
    "list_of_cliques = list(nx.find_cliques(network))\n",
    "count = 0\n",
    "for c in list_of_cliques:\n",
    "    c_i = [int(j) for j in c]\n",
    "    for i in insert_positions:\n",
    "        if set(c_i) == set(i):\n",
    "            count += 1\n",
    "print (\"Found {} cliques in insert positions and in the network\".format(count))"
   ]
  },
  {
   "cell_type": "code",
   "execution_count": null,
   "metadata": {},
   "outputs": [],
   "source": []
  },
  {
   "cell_type": "markdown",
   "metadata": {},
   "source": [
    "## Assign Feature Vector"
   ]
  },
  {
   "cell_type": "code",
   "execution_count": 19,
   "metadata": {
    "collapsed": false
   },
   "outputs": [],
   "source": [
    "num_nodes = network.number_of_nodes()\n",
    "all_clique_nodes = np.array(insert_positions).reshape(-1)\n",
    "features = np.random.normal(loc=neg_distr[0], scale=np.sqrt(neg_distr[1]),\n",
    "                            size=(num_nodes, num_features))\n",
    "features[all_clique_nodes] = np.random.normal(loc=pos_distr[0], scale=np.sqrt(pos_distr[1]),\n",
    "                                              size=(all_clique_nodes.shape[0], num_features))\n",
    "not_clique_mems = np.array([i for i in np.arange(num_nodes) if not i in all_clique_nodes])\n",
    "features[features < 0] = 0 # no negative gene expression"
   ]
  },
  {
   "cell_type": "code",
   "execution_count": 20,
   "metadata": {
    "collapsed": false
   },
   "outputs": [
    {
     "data": {
      "image/png": "[encoded data removed]",
      "text/plain": [
       "<matplotlib.figure.Figure at 0x7fce17321f28>"
      ]
     },
     "metadata": {},
     "output_type": "display_data"
    }
   ],
   "source": [
    "fig = plt.figure(figsize=(14, 8))\n",
    "bins = np.linspace(features.min(), features.max(), 100)\n",
    "_ = plt.hist(features[not_clique_mems].reshape(-1), bins=bins, label='Not in Cliques', normed=False, alpha=.7)\n",
    "_ = plt.hist(features[all_clique_nodes].reshape(-1), bins=bins, label='In Cliques', normed=False, alpha=.7)\n",
    "_ = plt.legend()"
   ]
  },
  {
   "cell_type": "markdown",
   "metadata": {},
   "source": [
    "## Compute Split"
   ]
  },
  {
   "cell_type": "code",
   "execution_count": 21,
   "metadata": {
    "collapsed": false
   },
   "outputs": [
    {
     "name": "stdout",
     "output_type": "stream",
     "text": [
      "(1053,) 190\n"
     ]
    }
   ],
   "source": [
    "y = np.array([1 if i in all_clique_nodes else 0 for i in np.arange(num_nodes)])\n",
    "print (y.shape, y.sum())\n",
    "train_nodes, test_nodes = train_test_split(np.arange(num_nodes), test_size=test_ratio, stratify=y)"
   ]
  },
  {
   "cell_type": "code",
   "execution_count": 22,
   "metadata": {
    "collapsed": false
   },
   "outputs": [
    {
     "data": {
      "text/plain": [
       "True"
      ]
     },
     "execution_count": 22,
     "metadata": {},
     "output_type": "execute_result"
    }
   ],
   "source": [
    "import collections\n",
    "collections.Counter(np.arange(num_nodes)[y == 1]) == collections.Counter(all_clique_nodes)"
   ]
  },
  {
   "cell_type": "code",
   "execution_count": 23,
   "metadata": {
    "collapsed": false
   },
   "outputs": [
    {
     "data": {
      "text/plain": [
       "[]"
      ]
     },
     "execution_count": 23,
     "metadata": {},
     "output_type": "execute_result"
    }
   ],
   "source": [
    "[i for i in train_nodes if i in test_nodes] # no overlap"
   ]
  },
  {
   "cell_type": "code",
   "execution_count": 24,
   "metadata": {
    "collapsed": false
   },
   "outputs": [],
   "source": [
    "# define masks as all train/test nodes\n",
    "train_mask = np.zeros_like(y)\n",
    "test_mask = np.zeros_like(y)\n",
    "train_mask[train_nodes] = 1\n",
    "test_mask[test_nodes] = 1\n",
    "\n",
    "# define labels as all the labels that are also in train/test mask\n",
    "y_train = np.logical_and(train_mask, y)\n",
    "y_test = np.logical_and(test_mask, y)"
   ]
  },
  {
   "cell_type": "code",
   "execution_count": 25,
   "metadata": {
    "collapsed": false
   },
   "outputs": [
    {
     "data": {
      "text/plain": [
       "<matplotlib.text.Text at 0x7fce19ad86a0>"
      ]
     },
     "execution_count": 25,
     "metadata": {},
     "output_type": "execute_result"
    },
    {
     "data": {
      "image/png": "[encoded data removed]",
      "text/plain": [
       "<matplotlib.figure.Figure at 0x7fce14b3ea58>"
      ]
     },
     "metadata": {},
     "output_type": "display_data"
    }
   ],
   "source": [
    "fig = plt.figure(figsize=(14, 8))\n",
    "bins = np.linspace(features.min(), features.max(), 100)\n",
    "_ = plt.hist(features[np.logical_and(y_train == 0, train_mask)].reshape(-1), bins=bins,\n",
    "             label='Negative Nodes', normed=False, alpha=.7)\n",
    "_ = plt.hist(features[np.logical_and(y_train == 1, train_mask)].reshape(-1), bins=bins,\n",
    "             label='Positive Nodes', normed=False, alpha=.7)\n",
    "_ = plt.legend()\n",
    "plt.title('Training Features Distribution')"
   ]
  },
  {
   "cell_type": "code",
   "execution_count": 26,
   "metadata": {
    "collapsed": false
   },
   "outputs": [
    {
     "data": {
      "text/plain": [
       "<matplotlib.text.Text at 0x7fce149fcac8>"
      ]
     },
     "execution_count": 26,
     "metadata": {},
     "output_type": "execute_result"
    },
    {
     "data": {
      "image/png": "[encoded data removed]",
      "text/plain": [
       "<matplotlib.figure.Figure at 0x7fce14b2e0f0>"
      ]
     },
     "metadata": {},
     "output_type": "display_data"
    }
   ],
   "source": [
    "fig = plt.figure(figsize=(14, 8))\n",
    "bins = np.linspace(features.min(), features.max(), 100)\n",
    "_ = plt.hist(features[np.logical_and(y_test == 0, test_mask)].reshape(-1), bins=bins,\n",
    "             label='Negative Nodes', normed=False, alpha=.7)\n",
    "_ = plt.hist(features[np.logical_and(y_test == 1, test_mask)].reshape(-1), bins=bins,\n",
    "             label='Positive Nodes', normed=False, alpha=.7)\n",
    "_ = plt.legend()\n",
    "plt.title('Test Features Distribution')"
   ]
  },
  {
   "cell_type": "markdown",
   "metadata": {},
   "source": [
    "## Write to HDF5 container"
   ]
  },
  {
   "cell_type": "code",
   "execution_count": 27,
   "metadata": {
    "collapsed": false
   },
   "outputs": [
    {
     "data": {
      "text/plain": [
       "array([[   0,    0],\n",
       "       [   1,    1],\n",
       "       [   2,    2],\n",
       "       ...,\n",
       "       [1050, 1050],\n",
       "       [1051, 1051],\n",
       "       [1052, 1052]])"
      ]
     },
     "execution_count": 27,
     "metadata": {},
     "output_type": "execute_result"
    }
   ],
   "source": [
    "node_names = np.arange(num_nodes)\n",
    "node_names = np.vstack([node_names, node_names]).transpose(1, 0) # just stack node numbers\n",
    "node_names"
   ]
  },
  {
   "cell_type": "code",
   "execution_count": 28,
   "metadata": {
    "collapsed": false
   },
   "outputs": [],
   "source": [
    "y_train = y_train.reshape(num_nodes, 1)\n",
    "y_test = y_test.reshape(num_nodes, 1)\n",
    "\n",
    "network_np = nx.to_numpy_matrix(network, nodelist=[str(i[0]) for i in node_names])\n",
    "node_names = np.arange(num_nodes)\n",
    "node_names = np.vstack([node_names, node_names]).transpose(1, 0) # just stack node numbers\n",
    "\n",
    "f = h5py.File('../data/simulation/simulated_all_unbalanced.h5', 'w')\n",
    "f.create_dataset('network', data=network_np, shape=network_np.shape)\n",
    "f.create_dataset('features', data=features, shape=features.shape)\n",
    "f.create_dataset('gene_names', data=node_names, shape=node_names.shape)\n",
    "\n",
    "f.create_dataset('y_train', data=y_train, shape=y_train.shape)\n",
    "f.create_dataset('y_test', data=y_test, shape=y_test.shape)\n",
    "f.create_dataset('mask_train', data=train_mask, shape=train_mask.shape)\n",
    "f.create_dataset('mask_test', data=test_mask, shape=test_mask.shape)\n",
    "f.close()"
   ]
  },
  {
   "cell_type": "markdown",
   "metadata": {},
   "source": [
    "## Make sure that Data is Correct"
   ]
  },
  {
   "cell_type": "code",
   "execution_count": null,
   "metadata": {},
   "outputs": [],
   "source": [
    "network_recon = nx.from_numpy_matrix(nx.to_numpy_matrix(network,\n",
    "                                                        nodelist=[str(i[0]) for i in node_names]))\n",
    "list_of_cliques = np.array([i for i in list(nx.find_cliques(network)) if len(i) >= 5],\n",
    "                           dtype=np.int64).flatten()\n",
    "fig = plt.figure(figsize=(14, 8))\n",
    "mask = np.zeros(features.shape[0])\n",
    "mask[list_of_cliques] = 1\n",
    "mask = mask.astype(np.bool)\n",
    "#mask = np.logical_or(y_train, y_test)\n",
    "df_f = pd.DataFrame(features)\n",
    "seaborn.distplot(df_f[mask].values.flatten(), norm_hist=False, label='Positive')\n",
    "seaborn.distplot(df_f[~mask].values.flatten(), norm_hist=False, label='Negative')\n",
    "plt.legend()"
   ]
  },
  {
   "cell_type": "code",
   "execution_count": null,
   "metadata": {
    "collapsed": false
   },
   "outputs": [],
   "source": [
    "from sklearn.decomposition import PCA\n",
    "fig = plt.figure(figsize=(20, 20))\n",
    "\n",
    "plt.subplot(2, 1, 1)\n",
    "F_train = features[train_mask == 1]\n",
    "emb = PCA(n_components=2).fit_transform(F_train)\n",
    "plt.scatter(emb[:, 0], emb[:, 1], c=y_train[train_mask == 1], cmap=plt.cm.copper)\n",
    "\n",
    "plt.subplot(2, 1, 2)\n",
    "F_test = features[test_mask == 1]\n",
    "emb = PCA(n_components=2).fit_transform(F_test)\n",
    "plt.scatter(emb[:, 0], emb[:, 1], c=y_test[test_mask == 1], cmap=plt.cm.copper)"
   ]
  },
  {
   "cell_type": "code",
   "execution_count": null,
   "metadata": {
    "collapsed": false
   },
   "outputs": [],
   "source": [
    "df = pd.DataFrame(features)\n",
    "df[y == 1].mean().mean(), df[y == 1].var().mean()\n",
    "df[y == 0].mean().mean(), df[y == 0].var().mean()\n",
    "df['degree'] = network_np.sum(axis=1)\n",
    "df['label'] = y\n",
    "\n",
    "# get betweenness\n",
    "bet = nx.betweenness_centrality(network)\n",
    "df['betweenness'] = 0\n",
    "for k, v in bet.items():\n",
    "    df.loc[int(k), 'betweenness'] = v\n",
    "\n",
    "# get core number\n",
    "core = nx.core_number(network)\n",
    "df['core'] = 0\n",
    "for k, v in core.items():\n",
    "    df.loc[int(k), 'core'] = v\n",
    "\n",
    "# plot\n",
    "fig = plt.figure(figsize=(14, 8))\n",
    "seaborn.violinplot(x='label', y='core', data=df)"
   ]
  }
 ],
 "metadata": {
  "kernelspec": {
   "display_name": "Python 3",
   "language": "python",
   "name": "python3"
  },
  "language_info": {
   "codemirror_mode": {
    "name": "ipython",
    "version": 3
   },
   "file_extension": ".py",
   "mimetype": "text/x-python",
   "name": "python",
   "nbconvert_exporter": "python",
   "pygments_lexer": "ipython3",
   "version": "3.6.1"
  }
 },
 "nbformat": 4,
 "nbformat_minor": 2
}
