{
 "cells": [
  {
   "cell_type": "markdown",
   "metadata": {
    "deletable": true,
    "editable": true
   },
   "source": [
    "# Analysis of Simulation Data\n",
    "In this notebook, I want to see how many of the simulated cliques are predicted by the GCN algorithm."
   ]
  },
  {
   "cell_type": "code",
   "execution_count": 4,
   "metadata": {
    "collapsed": true,
    "deletable": true,
    "editable": true
   },
   "outputs": [],
   "source": [
    "import pandas as pd\n",
    "import numpy as np\n",
    "import os\n",
    "from sklearn.metrics import roc_auc_score, roc_curve\n",
    "from sklearn.metrics import precision_recall_curve, average_precision_score\n",
    "import matplotlib.pyplot as plt\n",
    "#import seaborn\n",
    "\n",
    "%matplotlib inline"
   ]
  },
  {
   "cell_type": "markdown",
   "metadata": {
    "deletable": true,
    "editable": true
   },
   "source": [
    "### basic definitions"
   ]
  },
  {
   "cell_type": "code",
   "execution_count": 5,
   "metadata": {
    "collapsed": true,
    "deletable": true,
    "editable": true
   },
   "outputs": [],
   "source": [
    "def read_implant_positions(file):\n",
    "    with open(file, 'r') as f:\n",
    "        subnetworks = []\n",
    "        disease_genes = []\n",
    "        for subnet in f.readlines():\n",
    "            if subnet.startswith('#'):\n",
    "                continue\n",
    "            vals = [int(i.strip()) for i in subnet.strip().split(':')[1].strip().split('\\t')]\n",
    "            subnetworks.append(vals)\n",
    "            disease_genes.append(vals[0])\n",
    "    return pd.DataFrame(subnetworks), disease_genes\n",
    "\n",
    "def get_top_n_both(scores, disease_genes, n):\n",
    "    return scores.head(n)[scores.head(n).index.isin(disease_genes)]\n",
    "\n",
    "def get_recovered_nodes(scores, subnets):\n",
    "    idx = []\n",
    "    for score in scores.index:\n",
    "        if subnets[subnets.isin([int(score)]).any(axis=1)].shape[0] > 0:\n",
    "            idx.append(score)\n",
    "    return scores.loc[idx]"
   ]
  },
  {
   "cell_type": "code",
   "execution_count": 7,
   "metadata": {
    "collapsed": true,
    "deletable": true,
    "editable": true
   },
   "outputs": [
    {
     "name": "stderr",
     "output_type": "stream",
     "text": [
      "/home/sasse/anaconda3/lib/python3.7/site-packages/ipykernel/__main__.py:1: FutureWarning: from_csv is deprecated. Please use read_csv(...) instead. Note that some of the default arguments are different, so please refer to the documentation for from_csv when changing your function calls\n",
      "  if __name__ == '__main__':\n"
     ]
    }
   ],
   "source": [
    "pagerank_scores = pd.DataFrame.from_csv('../data/simulation/pagerank_scores_sim.txt', sep='\\t')\n",
    "subnets, disease_genes = read_implant_positions('../data/simulation/clique_network/implant_positions.txt')"
   ]
  },
  {
   "cell_type": "code",
   "execution_count": 8,
   "metadata": {
    "collapsed": false,
    "deletable": true,
    "editable": true
   },
   "outputs": [
    {
     "data": {
      "text/html": [
       "<div>\n",
       "<style scoped>\n",
       "    .dataframe tbody tr th:only-of-type {\n",
       "        vertical-align: middle;\n",
       "    }\n",
       "\n",
       "    .dataframe tbody tr th {\n",
       "        vertical-align: top;\n",
       "    }\n",
       "\n",
       "    .dataframe thead th {\n",
       "        text-align: right;\n",
       "    }\n",
       "</style>\n",
       "<table border=\"1\" class=\"dataframe\">\n",
       "  <thead>\n",
       "    <tr style=\"text-align: right;\">\n",
       "      <th></th>\n",
       "      <th>Gene_Name</th>\n",
       "      <th>Rank</th>\n",
       "      <th>NetRank_Score</th>\n",
       "    </tr>\n",
       "    <tr>\n",
       "      <th>Gene_ID</th>\n",
       "      <th></th>\n",
       "      <th></th>\n",
       "      <th></th>\n",
       "    </tr>\n",
       "  </thead>\n",
       "  <tbody>\n",
       "    <tr>\n",
       "      <th>0.0</th>\n",
       "      <td>0.0</td>\n",
       "      <td>681</td>\n",
       "      <td>0.000528</td>\n",
       "    </tr>\n",
       "    <tr>\n",
       "      <th>1.0</th>\n",
       "      <td>1.0</td>\n",
       "      <td>853</td>\n",
       "      <td>0.000502</td>\n",
       "    </tr>\n",
       "    <tr>\n",
       "      <th>2.0</th>\n",
       "      <td>2.0</td>\n",
       "      <td>932</td>\n",
       "      <td>0.000490</td>\n",
       "    </tr>\n",
       "    <tr>\n",
       "      <th>3.0</th>\n",
       "      <td>3.0</td>\n",
       "      <td>946</td>\n",
       "      <td>0.000487</td>\n",
       "    </tr>\n",
       "    <tr>\n",
       "      <th>4.0</th>\n",
       "      <td>4.0</td>\n",
       "      <td>985</td>\n",
       "      <td>0.000479</td>\n",
       "    </tr>\n",
       "  </tbody>\n",
       "</table>\n",
       "</div>"
      ],
      "text/plain": [
       "         Gene_Name  Rank  NetRank_Score\n",
       "Gene_ID                                \n",
       "0.0            0.0   681       0.000528\n",
       "1.0            1.0   853       0.000502\n",
       "2.0            2.0   932       0.000490\n",
       "3.0            3.0   946       0.000487\n",
       "4.0            4.0   985       0.000479"
      ]
     },
     "execution_count": 8,
     "metadata": {},
     "output_type": "execute_result"
    }
   ],
   "source": [
    "pagerank_scores[pagerank_scores.index.isin(subnets)]"
   ]
  },
  {
   "cell_type": "code",
   "execution_count": 9,
   "metadata": {
    "collapsed": false,
    "deletable": true,
    "editable": true
   },
   "outputs": [
    {
     "data": {
      "text/html": [
       "<div>\n",
       "<style scoped>\n",
       "    .dataframe tbody tr th:only-of-type {\n",
       "        vertical-align: middle;\n",
       "    }\n",
       "\n",
       "    .dataframe tbody tr th {\n",
       "        vertical-align: top;\n",
       "    }\n",
       "\n",
       "    .dataframe thead th {\n",
       "        text-align: right;\n",
       "    }\n",
       "</style>\n",
       "<table border=\"1\" class=\"dataframe\">\n",
       "  <thead>\n",
       "    <tr style=\"text-align: right;\">\n",
       "      <th></th>\n",
       "      <th>Gene_Name</th>\n",
       "      <th>Rank</th>\n",
       "      <th>NetRank_Score</th>\n",
       "    </tr>\n",
       "    <tr>\n",
       "      <th>Gene_ID</th>\n",
       "      <th></th>\n",
       "      <th></th>\n",
       "      <th></th>\n",
       "    </tr>\n",
       "  </thead>\n",
       "  <tbody>\n",
       "    <tr>\n",
       "      <th>525.0</th>\n",
       "      <td>525.0</td>\n",
       "      <td>5</td>\n",
       "      <td>0.009391</td>\n",
       "    </tr>\n",
       "    <tr>\n",
       "      <th>924.0</th>\n",
       "      <td>924.0</td>\n",
       "      <td>9</td>\n",
       "      <td>0.006083</td>\n",
       "    </tr>\n",
       "    <tr>\n",
       "      <th>641.0</th>\n",
       "      <td>641.0</td>\n",
       "      <td>10</td>\n",
       "      <td>0.005996</td>\n",
       "    </tr>\n",
       "    <tr>\n",
       "      <th>879.0</th>\n",
       "      <td>879.0</td>\n",
       "      <td>86</td>\n",
       "      <td>0.001710</td>\n",
       "    </tr>\n",
       "    <tr>\n",
       "      <th>286.0</th>\n",
       "      <td>286.0</td>\n",
       "      <td>118</td>\n",
       "      <td>0.001427</td>\n",
       "    </tr>\n",
       "    <tr>\n",
       "      <th>149.0</th>\n",
       "      <td>149.0</td>\n",
       "      <td>124</td>\n",
       "      <td>0.001402</td>\n",
       "    </tr>\n",
       "    <tr>\n",
       "      <th>701.0</th>\n",
       "      <td>701.0</td>\n",
       "      <td>135</td>\n",
       "      <td>0.001356</td>\n",
       "    </tr>\n",
       "    <tr>\n",
       "      <th>723.0</th>\n",
       "      <td>723.0</td>\n",
       "      <td>160</td>\n",
       "      <td>0.001266</td>\n",
       "    </tr>\n",
       "    <tr>\n",
       "      <th>744.0</th>\n",
       "      <td>744.0</td>\n",
       "      <td>174</td>\n",
       "      <td>0.001183</td>\n",
       "    </tr>\n",
       "    <tr>\n",
       "      <th>369.0</th>\n",
       "      <td>369.0</td>\n",
       "      <td>201</td>\n",
       "      <td>0.001126</td>\n",
       "    </tr>\n",
       "    <tr>\n",
       "      <th>815.0</th>\n",
       "      <td>815.0</td>\n",
       "      <td>213</td>\n",
       "      <td>0.001094</td>\n",
       "    </tr>\n",
       "    <tr>\n",
       "      <th>30.0</th>\n",
       "      <td>30.0</td>\n",
       "      <td>224</td>\n",
       "      <td>0.000998</td>\n",
       "    </tr>\n",
       "    <tr>\n",
       "      <th>547.0</th>\n",
       "      <td>547.0</td>\n",
       "      <td>226</td>\n",
       "      <td>0.000995</td>\n",
       "    </tr>\n",
       "    <tr>\n",
       "      <th>431.0</th>\n",
       "      <td>431.0</td>\n",
       "      <td>254</td>\n",
       "      <td>0.000954</td>\n",
       "    </tr>\n",
       "    <tr>\n",
       "      <th>964.0</th>\n",
       "      <td>964.0</td>\n",
       "      <td>268</td>\n",
       "      <td>0.000937</td>\n",
       "    </tr>\n",
       "    <tr>\n",
       "      <th>716.0</th>\n",
       "      <td>716.0</td>\n",
       "      <td>292</td>\n",
       "      <td>0.000917</td>\n",
       "    </tr>\n",
       "    <tr>\n",
       "      <th>904.0</th>\n",
       "      <td>904.0</td>\n",
       "      <td>294</td>\n",
       "      <td>0.000915</td>\n",
       "    </tr>\n",
       "    <tr>\n",
       "      <th>989.0</th>\n",
       "      <td>989.0</td>\n",
       "      <td>296</td>\n",
       "      <td>0.000915</td>\n",
       "    </tr>\n",
       "  </tbody>\n",
       "</table>\n",
       "</div>"
      ],
      "text/plain": [
       "         Gene_Name  Rank  NetRank_Score\n",
       "Gene_ID                                \n",
       "525.0        525.0     5       0.009391\n",
       "924.0        924.0     9       0.006083\n",
       "641.0        641.0    10       0.005996\n",
       "879.0        879.0    86       0.001710\n",
       "286.0        286.0   118       0.001427\n",
       "149.0        149.0   124       0.001402\n",
       "701.0        701.0   135       0.001356\n",
       "723.0        723.0   160       0.001266\n",
       "744.0        744.0   174       0.001183\n",
       "369.0        369.0   201       0.001126\n",
       "815.0        815.0   213       0.001094\n",
       "30.0          30.0   224       0.000998\n",
       "547.0        547.0   226       0.000995\n",
       "431.0        431.0   254       0.000954\n",
       "964.0        964.0   268       0.000937\n",
       "716.0        716.0   292       0.000917\n",
       "904.0        904.0   294       0.000915\n",
       "989.0        989.0   296       0.000915"
      ]
     },
     "execution_count": 9,
     "metadata": {},
     "output_type": "execute_result"
    }
   ],
   "source": [
    "recovered_disease_genes = get_top_n_both(pagerank_scores, disease_genes, 300)\n",
    "recovered_disease_genes"
   ]
  },
  {
   "cell_type": "code",
   "execution_count": 10,
   "metadata": {
    "collapsed": false,
    "deletable": true,
    "editable": true
   },
   "outputs": [
    {
     "name": "stdout",
     "output_type": "stream",
     "text": [
      "Recovered 18 disease genes within first 300 Ranks\n"
     ]
    }
   ],
   "source": [
    "print (\"Recovered {} disease genes within first 300 Ranks\".format(recovered_disease_genes.shape[0]))"
   ]
  },
  {
   "cell_type": "code",
   "execution_count": 11,
   "metadata": {
    "collapsed": false,
    "deletable": true,
    "editable": true
   },
   "outputs": [
    {
     "name": "stdout",
     "output_type": "stream",
     "text": [
      "Recovered 54 implanted nodes within the first 300 Ranks\n"
     ]
    }
   ],
   "source": [
    "pr_scores_subnets = get_recovered_nodes(pagerank_scores, subnets)\n",
    "n = 300\n",
    "recovered_pr = pr_scores_subnets[pr_scores_subnets.Rank <= n]\n",
    "print (\"Recovered {} implanted nodes within the first {} Ranks\".format(recovered_pr.shape[0], n))"
   ]
  },
  {
   "cell_type": "markdown",
   "metadata": {
    "deletable": true,
    "editable": true
   },
   "source": [
    "# GCN"
   ]
  },
  {
   "cell_type": "code",
   "execution_count": 31,
   "metadata": {
    "collapsed": false,
    "deletable": true,
    "editable": true
   },
   "outputs": [
    {
     "name": "stderr",
     "output_type": "stream",
     "text": [
      "/home/sasse/anaconda3/lib/python3.7/site-packages/ipykernel/__main__.py:3: FutureWarning: from_csv is deprecated. Please use read_csv(...) instead. Note that some of the default arguments are different, so please refer to the documentation for from_csv when changing your function calls\n",
      "  app.launch_new_instance()\n"
     ]
    },
    {
     "data": {
      "text/plain": [
       "(1053, 15)"
      ]
     },
     "execution_count": 31,
     "metadata": {},
     "output_type": "execute_result"
    }
   ],
   "source": [
    "#model_dir = '../data/GCN/training/2018_03_29_11_46_50/'\n",
    "model_dir = '../data/GCN/training/2020_06_17_12_22_22/'\n",
    "gcn_pred = pd.DataFrame.from_csv(os.path.join(model_dir, 'ensemble_predictions.tsv'), sep='\\t')\n",
    "gcn_pred.shape"
   ]
  },
  {
   "cell_type": "code",
   "execution_count": 32,
   "metadata": {
    "collapsed": false,
    "deletable": true,
    "editable": true
   },
   "outputs": [
    {
     "name": "stdout",
     "output_type": "stream",
     "text": [
      "Recovered 38 disease genes with 636 positive predictions\n"
     ]
    }
   ],
   "source": [
    "scores_diseasegenes_gcn = gcn_pred[gcn_pred.index.isin(disease_genes)]\n",
    "recovered_diseasegenes_gcn = scores_diseasegenes_gcn[scores_diseasegenes_gcn.Mean_Pred > 0.5]\n",
    "no_dg_gcn = recovered_diseasegenes_gcn.shape[0]\n",
    "no_pos_pred = gcn_pred[gcn_pred.Mean_Pred > 0.5].shape[0]\n",
    "print (\"Recovered {} disease genes with {} positive predictions\".format(no_dg_gcn, no_pos_pred))"
   ]
  },
  {
   "cell_type": "code",
   "execution_count": 33,
   "metadata": {
    "collapsed": true,
    "deletable": true,
    "editable": true
   },
   "outputs": [],
   "source": [
    "gcn_idx = []\n",
    "for score in gcn_pred.index:\n",
    "    if subnets[subnets.isin([int(score)]).any(axis=1)].shape[0] > 0:\n",
    "        gcn_idx.append(score)"
   ]
  },
  {
   "cell_type": "code",
   "execution_count": 34,
   "metadata": {
    "collapsed": false,
    "deletable": true,
    "editable": true
   },
   "outputs": [
    {
     "data": {
      "text/plain": [
       "(190, 15)"
      ]
     },
     "execution_count": 34,
     "metadata": {},
     "output_type": "execute_result"
    }
   ],
   "source": [
    "gcn_pred_for_subnets = gcn_pred.loc[gcn_idx]\n",
    "gcn_pred_for_subnets.shape"
   ]
  },
  {
   "cell_type": "code",
   "execution_count": 35,
   "metadata": {
    "collapsed": false,
    "deletable": true,
    "editable": true,
    "scrolled": true
   },
   "outputs": [
    {
     "data": {
      "text/plain": [
       "(190,)"
      ]
     },
     "execution_count": 35,
     "metadata": {},
     "output_type": "execute_result"
    }
   ],
   "source": [
    "(gcn_pred.loc[gcn_idx].Mean_Pred > .5).shape"
   ]
  },
  {
   "cell_type": "code",
   "execution_count": 36,
   "metadata": {
    "collapsed": true,
    "deletable": true,
    "editable": true
   },
   "outputs": [],
   "source": [
    "recovered_gcn = gcn_pred_for_subnets[gcn_pred_for_subnets.Mean_Pred > .5]"
   ]
  },
  {
   "cell_type": "code",
   "execution_count": 37,
   "metadata": {
    "collapsed": false,
    "deletable": true,
    "editable": true
   },
   "outputs": [
    {
     "data": {
      "text/plain": [
       "((190, 15), (636, 15))"
      ]
     },
     "execution_count": 37,
     "metadata": {},
     "output_type": "execute_result"
    }
   ],
   "source": [
    "recovered_gcn.shape, gcn_pred[gcn_pred.Mean_Pred > 0.5].shape"
   ]
  },
  {
   "cell_type": "code",
   "execution_count": 38,
   "metadata": {
    "collapsed": false,
    "deletable": true,
    "editable": true
   },
   "outputs": [
    {
     "data": {
      "text/plain": [
       "<matplotlib.legend.Legend at 0x7fafac9c74a8>"
      ]
     },
     "execution_count": 38,
     "metadata": {},
     "output_type": "execute_result"
    },
    {
     "data": {
      "image/png": "[encoded data removed]",
      "text/plain": [
       "<Figure size 1008x576 with 1 Axes>"
      ]
     },
     "metadata": {
      "needs_background": "light"
     },
     "output_type": "display_data"
    }
   ],
   "source": [
    "subnet_entries = subnets.values.flatten()\n",
    "y_true = gcn_pred.index.isin(subnet_entries)\n",
    "y_score = gcn_pred.Mean_Pred\n",
    "tpr, fpr, _ = roc_curve(y_score=y_score, y_true=y_true)\n",
    "auc = roc_auc_score(y_score=y_score, y_true=y_true)\n",
    "fig = plt.figure(figsize=(14, 8))\n",
    "plt.plot(tpr, fpr, lw=4, color='orange', label='GCN (AUC {0:.2f})'.format(auc))\n",
    "plt.plot([0, 1], [0, 1], color='gray', lw=4, linestyle='--', label='Random (AUC 0.5)')\n",
    "plt.legend(loc='lower right')\n",
    "#fig.savefig(model_dir + 'roc_curve_cliquemems_allnodes.png', dpi=300)"
   ]
  },
  {
   "cell_type": "code",
   "execution_count": 39,
   "metadata": {
    "collapsed": false,
    "deletable": true,
    "editable": true,
    "scrolled": false
   },
   "outputs": [
    {
     "name": "stdout",
     "output_type": "stream",
     "text": [
      "0.18043684710351376 190 863\n"
     ]
    },
    {
     "data": {
      "text/plain": [
       "<matplotlib.legend.Legend at 0x7fafad352208>"
      ]
     },
     "execution_count": 39,
     "metadata": {},
     "output_type": "execute_result"
    },
    {
     "data": {
      "image/png": "[encoded data removed]",
      "text/plain": [
       "<Figure size 1008x576 with 1 Axes>"
      ]
     },
     "metadata": {
      "needs_background": "light"
     },
     "output_type": "display_data"
    }
   ],
   "source": [
    "\n",
    "aupr = average_precision_score(y_true, y_score)\n",
    "pr, rec, thr = precision_recall_curve(y_true, y_score)\n",
    "\n",
    "fig = plt.figure(figsize=(14, 8))\n",
    "plt.plot(rec, pr, lw=4, color='orange', label='GCN (AUPR = {0:.2f})'.format(aupr))\n",
    "random_y = y_true.sum() / (y_true.sum() + y_true.shape[0] - y_true.sum())\n",
    "print (random_y, y_true.sum(), y_true.shape[0]-y_true.sum())\n",
    "plt.plot([0, 1], [random_y, random_y], color='gray', lw=4, linestyle='--', label='Random')\n",
    "plt.xlabel('Recall')\n",
    "plt.ylabel('Precision')\n",
    "plt.title('Precision-Recall Curve')\n",
    "plt.legend()\n",
    "#fig.savefig(os.path.join(model_dir, 'prec_recall_cliquemems_allnodes.png'))\n",
    "\n"
   ]
  },
  {
   "cell_type": "code",
   "execution_count": 40,
   "metadata": {
    "collapsed": false,
    "deletable": true,
    "editable": true
   },
   "outputs": [
    {
     "name": "stdout",
     "output_type": "stream",
     "text": [
      "[Threshold: 0.994] Precision: 0.0\tRecall: 0.0\n"
     ]
    },
    {
     "name": "stderr",
     "output_type": "stream",
     "text": [
      "/home/sasse/anaconda3/lib/python3.7/site-packages/sklearn/metrics/classification.py:1143: UndefinedMetricWarning: Precision is ill-defined and being set to 0.0 due to no predicted samples.\n",
      "  'precision', 'predicted', average, warn_for)\n"
     ]
    }
   ],
   "source": [
    "from sklearn.metrics import precision_score, recall_score\n",
    "THRESHOLD = .994\n",
    "pr_s = precision_score(y_true=y_true, y_pred=y_score >= THRESHOLD)\n",
    "rec_s = recall_score(y_true=y_true, y_pred=y_score >= THRESHOLD)\n",
    "print (\"[Threshold: {}] Precision: {}\\tRecall: {}\".format(THRESHOLD, pr_s, rec_s))"
   ]
  },
  {
   "cell_type": "code",
   "execution_count": 41,
   "metadata": {
    "collapsed": false,
    "scrolled": false
   },
   "outputs": [
    {
     "data": {
      "text/plain": [
       "Text(0.5, 1.0, 'Thresholds')"
      ]
     },
     "execution_count": 41,
     "metadata": {},
     "output_type": "execute_result"
    },
    {
     "data": {
      "image/png": "[encoded data removed]",
      "text/plain": [
       "<Figure size 1008x576 with 3 Axes>"
      ]
     },
     "metadata": {
      "needs_background": "light"
     },
     "output_type": "display_data"
    }
   ],
   "source": [
    "fig = plt.figure(figsize=(14, 8))\n",
    "plt.subplot(2, 2, 1)\n",
    "plt.plot(rec)\n",
    "plt.title('Recall')\n",
    "plt.subplot(2, 2, 2)\n",
    "plt.plot(pr)\n",
    "plt.title('Precision')\n",
    "plt.subplot(2, 2, 3)\n",
    "plt.plot(thr)\n",
    "plt.title('Thresholds')"
   ]
  },
  {
   "cell_type": "code",
   "execution_count": null,
   "metadata": {},
   "outputs": [],
   "source": []
  }
 ],
 "metadata": {
  "kernelspec": {
   "display_name": "Python 3",
   "language": "python",
   "name": "python3"
  },
  "language_info": {
   "codemirror_mode": {
    "name": "ipython",
    "version": 3
   },
   "file_extension": ".py",
   "mimetype": "text/x-python",
   "name": "python",
   "nbconvert_exporter": "python",
   "pygments_lexer": "ipython3",
   "version": "3.7.3"
  }
 },
 "nbformat": 4,
 "nbformat_minor": 2
}
