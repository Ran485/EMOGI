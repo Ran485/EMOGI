{
 "cells": [
  {
   "cell_type": "markdown",
   "metadata": {
    "deletable": true,
    "editable": true
   },
   "source": [
    "# Analysis of Simulation Data\n",
    "In this notebook, I want to see how many of the simulated cliques are predicted by the GCN algorithm."
   ]
  },
  {
   "cell_type": "code",
   "execution_count": 51,
   "metadata": {
    "collapsed": true,
    "deletable": true,
    "editable": true
   },
   "outputs": [],
   "source": [
    "import pandas as pd\n",
    "import numpy as np\n",
    "import os\n",
    "from sklearn.metrics import roc_auc_score, roc_curve\n",
    "from sklearn.metrics import precision_recall_curve, average_precision_score\n",
    "import matplotlib.pyplot as plt\n",
    "#import seaborn\n",
    "\n",
    "%matplotlib inline"
   ]
  },
  {
   "cell_type": "markdown",
   "metadata": {
    "deletable": true,
    "editable": true
   },
   "source": [
    "### basic definitions"
   ]
  },
  {
   "cell_type": "code",
   "execution_count": 52,
   "metadata": {
    "collapsed": true,
    "deletable": true,
    "editable": true
   },
   "outputs": [],
   "source": [
    "def read_implant_positions(file):\n",
    "    with open(file, 'r') as f:\n",
    "        subnetworks = []\n",
    "        disease_genes = []\n",
    "        for subnet in f.readlines():\n",
    "            if subnet.startswith('#'):\n",
    "                continue\n",
    "            vals = [int(i.strip()) for i in subnet.strip().split(':')[1].strip().split('\\t')]\n",
    "            subnetworks.append(vals)\n",
    "            disease_genes.append(vals[0])\n",
    "    return pd.DataFrame(subnetworks), disease_genes\n",
    "\n",
    "def get_top_n_both(scores, disease_genes, n):\n",
    "    return scores.head(n)[scores.head(n).index.isin(disease_genes)]\n",
    "\n",
    "def get_recovered_nodes(scores, subnets):\n",
    "    idx = []\n",
    "    for score in scores.index:\n",
    "        if subnets[subnets.isin([int(score)]).any(axis=1)].shape[0] > 0:\n",
    "            idx.append(score)\n",
    "    return scores.loc[idx]"
   ]
  },
  {
   "cell_type": "code",
   "execution_count": 53,
   "metadata": {
    "collapsed": true,
    "deletable": true,
    "editable": true
   },
   "outputs": [],
   "source": [
    "pagerank_scores = pd.DataFrame.from_csv('../data/simulation/pagerank_scores_sim.txt', sep='\\t')\n",
    "subnets, disease_genes = read_implant_positions('../data/simulation/implant_positions.txt')"
   ]
  },
  {
   "cell_type": "code",
   "execution_count": 54,
   "metadata": {
    "collapsed": false,
    "deletable": true,
    "editable": true
   },
   "outputs": [
    {
     "data": {
      "text/html": [
       "<div>\n",
       "<table border=\"1\" class=\"dataframe\">\n",
       "  <thead>\n",
       "    <tr style=\"text-align: right;\">\n",
       "      <th></th>\n",
       "      <th>Gene_Name</th>\n",
       "      <th>Rank</th>\n",
       "      <th>NetRank_Score</th>\n",
       "    </tr>\n",
       "    <tr>\n",
       "      <th>Gene_ID</th>\n",
       "      <th></th>\n",
       "      <th></th>\n",
       "      <th></th>\n",
       "    </tr>\n",
       "  </thead>\n",
       "  <tbody>\n",
       "    <tr>\n",
       "      <th>0.0</th>\n",
       "      <td>0.0</td>\n",
       "      <td>681</td>\n",
       "      <td>0.000528</td>\n",
       "    </tr>\n",
       "    <tr>\n",
       "      <th>1.0</th>\n",
       "      <td>1.0</td>\n",
       "      <td>853</td>\n",
       "      <td>0.000502</td>\n",
       "    </tr>\n",
       "    <tr>\n",
       "      <th>2.0</th>\n",
       "      <td>2.0</td>\n",
       "      <td>932</td>\n",
       "      <td>0.000490</td>\n",
       "    </tr>\n",
       "    <tr>\n",
       "      <th>3.0</th>\n",
       "      <td>3.0</td>\n",
       "      <td>946</td>\n",
       "      <td>0.000487</td>\n",
       "    </tr>\n",
       "    <tr>\n",
       "      <th>4.0</th>\n",
       "      <td>4.0</td>\n",
       "      <td>985</td>\n",
       "      <td>0.000479</td>\n",
       "    </tr>\n",
       "  </tbody>\n",
       "</table>\n",
       "</div>"
      ],
      "text/plain": [
       "         Gene_Name  Rank  NetRank_Score\n",
       "Gene_ID                                \n",
       "0.0            0.0   681       0.000528\n",
       "1.0            1.0   853       0.000502\n",
       "2.0            2.0   932       0.000490\n",
       "3.0            3.0   946       0.000487\n",
       "4.0            4.0   985       0.000479"
      ]
     },
     "execution_count": 54,
     "metadata": {},
     "output_type": "execute_result"
    }
   ],
   "source": [
    "pagerank_scores[pagerank_scores.index.isin(subnets)]"
   ]
  },
  {
   "cell_type": "code",
   "execution_count": 125,
   "metadata": {
    "collapsed": false,
    "deletable": true,
    "editable": true
   },
   "outputs": [
    {
     "data": {
      "text/html": [
       "<div>\n",
       "<table border=\"1\" class=\"dataframe\">\n",
       "  <thead>\n",
       "    <tr style=\"text-align: right;\">\n",
       "      <th></th>\n",
       "      <th>Gene_Name</th>\n",
       "      <th>Rank</th>\n",
       "      <th>NetRank_Score</th>\n",
       "    </tr>\n",
       "    <tr>\n",
       "      <th>Gene_ID</th>\n",
       "      <th></th>\n",
       "      <th></th>\n",
       "      <th></th>\n",
       "    </tr>\n",
       "  </thead>\n",
       "  <tbody>\n",
       "    <tr>\n",
       "      <th>525.0</th>\n",
       "      <td>525.0</td>\n",
       "      <td>5</td>\n",
       "      <td>0.009391</td>\n",
       "    </tr>\n",
       "    <tr>\n",
       "      <th>924.0</th>\n",
       "      <td>924.0</td>\n",
       "      <td>9</td>\n",
       "      <td>0.006083</td>\n",
       "    </tr>\n",
       "    <tr>\n",
       "      <th>641.0</th>\n",
       "      <td>641.0</td>\n",
       "      <td>10</td>\n",
       "      <td>0.005996</td>\n",
       "    </tr>\n",
       "    <tr>\n",
       "      <th>879.0</th>\n",
       "      <td>879.0</td>\n",
       "      <td>86</td>\n",
       "      <td>0.001710</td>\n",
       "    </tr>\n",
       "    <tr>\n",
       "      <th>286.0</th>\n",
       "      <td>286.0</td>\n",
       "      <td>118</td>\n",
       "      <td>0.001427</td>\n",
       "    </tr>\n",
       "    <tr>\n",
       "      <th>149.0</th>\n",
       "      <td>149.0</td>\n",
       "      <td>124</td>\n",
       "      <td>0.001402</td>\n",
       "    </tr>\n",
       "    <tr>\n",
       "      <th>701.0</th>\n",
       "      <td>701.0</td>\n",
       "      <td>135</td>\n",
       "      <td>0.001356</td>\n",
       "    </tr>\n",
       "    <tr>\n",
       "      <th>723.0</th>\n",
       "      <td>723.0</td>\n",
       "      <td>160</td>\n",
       "      <td>0.001266</td>\n",
       "    </tr>\n",
       "    <tr>\n",
       "      <th>744.0</th>\n",
       "      <td>744.0</td>\n",
       "      <td>174</td>\n",
       "      <td>0.001183</td>\n",
       "    </tr>\n",
       "    <tr>\n",
       "      <th>369.0</th>\n",
       "      <td>369.0</td>\n",
       "      <td>201</td>\n",
       "      <td>0.001126</td>\n",
       "    </tr>\n",
       "    <tr>\n",
       "      <th>815.0</th>\n",
       "      <td>815.0</td>\n",
       "      <td>213</td>\n",
       "      <td>0.001094</td>\n",
       "    </tr>\n",
       "    <tr>\n",
       "      <th>30.0</th>\n",
       "      <td>30.0</td>\n",
       "      <td>224</td>\n",
       "      <td>0.000998</td>\n",
       "    </tr>\n",
       "    <tr>\n",
       "      <th>547.0</th>\n",
       "      <td>547.0</td>\n",
       "      <td>226</td>\n",
       "      <td>0.000995</td>\n",
       "    </tr>\n",
       "    <tr>\n",
       "      <th>431.0</th>\n",
       "      <td>431.0</td>\n",
       "      <td>254</td>\n",
       "      <td>0.000954</td>\n",
       "    </tr>\n",
       "    <tr>\n",
       "      <th>964.0</th>\n",
       "      <td>964.0</td>\n",
       "      <td>268</td>\n",
       "      <td>0.000937</td>\n",
       "    </tr>\n",
       "    <tr>\n",
       "      <th>716.0</th>\n",
       "      <td>716.0</td>\n",
       "      <td>292</td>\n",
       "      <td>0.000917</td>\n",
       "    </tr>\n",
       "    <tr>\n",
       "      <th>904.0</th>\n",
       "      <td>904.0</td>\n",
       "      <td>294</td>\n",
       "      <td>0.000915</td>\n",
       "    </tr>\n",
       "    <tr>\n",
       "      <th>989.0</th>\n",
       "      <td>989.0</td>\n",
       "      <td>296</td>\n",
       "      <td>0.000915</td>\n",
       "    </tr>\n",
       "  </tbody>\n",
       "</table>\n",
       "</div>"
      ],
      "text/plain": [
       "         Gene_Name  Rank  NetRank_Score\n",
       "Gene_ID                                \n",
       "525.0        525.0     5       0.009391\n",
       "924.0        924.0     9       0.006083\n",
       "641.0        641.0    10       0.005996\n",
       "879.0        879.0    86       0.001710\n",
       "286.0        286.0   118       0.001427\n",
       "149.0        149.0   124       0.001402\n",
       "701.0        701.0   135       0.001356\n",
       "723.0        723.0   160       0.001266\n",
       "744.0        744.0   174       0.001183\n",
       "369.0        369.0   201       0.001126\n",
       "815.0        815.0   213       0.001094\n",
       "30.0          30.0   224       0.000998\n",
       "547.0        547.0   226       0.000995\n",
       "431.0        431.0   254       0.000954\n",
       "964.0        964.0   268       0.000937\n",
       "716.0        716.0   292       0.000917\n",
       "904.0        904.0   294       0.000915\n",
       "989.0        989.0   296       0.000915"
      ]
     },
     "execution_count": 125,
     "metadata": {},
     "output_type": "execute_result"
    }
   ],
   "source": [
    "recovered_disease_genes = get_top_n_both(pagerank_scores, disease_genes, 300)\n",
    "recovered_disease_genes"
   ]
  },
  {
   "cell_type": "code",
   "execution_count": null,
   "metadata": {
    "collapsed": false,
    "deletable": true,
    "editable": true
   },
   "outputs": [],
   "source": []
  },
  {
   "cell_type": "code",
   "execution_count": null,
   "metadata": {
    "collapsed": false,
    "deletable": true,
    "editable": true
   },
   "outputs": [],
   "source": []
  },
  {
   "cell_type": "code",
   "execution_count": 126,
   "metadata": {
    "collapsed": false,
    "deletable": true,
    "editable": true
   },
   "outputs": [
    {
     "name": "stdout",
     "output_type": "stream",
     "text": [
      "Recovered 18 disease genes within first 300 Ranks\n"
     ]
    }
   ],
   "source": [
    "print (\"Recovered {} disease genes within first 300 Ranks\".format(recovered_disease_genes.shape[0]))"
   ]
  },
  {
   "cell_type": "code",
   "execution_count": 56,
   "metadata": {
    "collapsed": false,
    "deletable": true,
    "editable": true
   },
   "outputs": [
    {
     "name": "stdout",
     "output_type": "stream",
     "text": [
      "Recovered 54 implanted nodes within the first 300 Ranks\n"
     ]
    }
   ],
   "source": [
    "pr_scores_subnets = get_recovered_nodes(pagerank_scores, subnets)\n",
    "n = 300\n",
    "recovered_pr = pr_scores_subnets[pr_scores_subnets.Rank <= n]\n",
    "print (\"Recovered {} implanted nodes within the first {} Ranks\".format(recovered_pr.shape[0], n))"
   ]
  },
  {
   "cell_type": "markdown",
   "metadata": {
    "deletable": true,
    "editable": true
   },
   "source": [
    "# GCN"
   ]
  },
  {
   "cell_type": "code",
   "execution_count": 129,
   "metadata": {
    "collapsed": false,
    "deletable": true,
    "editable": true
   },
   "outputs": [
    {
     "data": {
      "text/plain": [
       "(1053, 2)"
      ]
     },
     "execution_count": 129,
     "metadata": {},
     "output_type": "execute_result"
    }
   ],
   "source": [
    "model_dir = '../data/GCN/training/2018_03_29_11_46_50/'\n",
    "gcn_pred = pd.DataFrame.from_csv(model_dir + 'predictions.tsv', sep='\\t')\n",
    "gcn_pred.shape"
   ]
  },
  {
   "cell_type": "code",
   "execution_count": 130,
   "metadata": {
    "collapsed": false,
    "deletable": true,
    "editable": true
   },
   "outputs": [
    {
     "name": "stdout",
     "output_type": "stream",
     "text": [
      "Recovered 33 disease genes with 211 positive predictions\n"
     ]
    }
   ],
   "source": [
    "scores_diseasegenes_gcn = gcn_pred[gcn_pred.index.isin(disease_genes)]\n",
    "recovered_diseasegenes_gcn = scores_diseasegenes_gcn[scores_diseasegenes_gcn.Prob_pos > 0.5]\n",
    "no_dg_gcn = recovered_diseasegenes_gcn.shape[0]\n",
    "no_pos_pred = gcn_pred[gcn_pred.Prob_pos > 0.5].shape[0]\n",
    "print (\"Recovered {} disease genes with {} positive predictions\".format(no_dg_gcn, no_pos_pred))"
   ]
  },
  {
   "cell_type": "code",
   "execution_count": 131,
   "metadata": {
    "collapsed": true,
    "deletable": true,
    "editable": true
   },
   "outputs": [],
   "source": [
    "gcn_idx = []\n",
    "for score in gcn_pred.index:\n",
    "    if subnets[subnets.isin([int(score)]).any(axis=1)].shape[0] > 0:\n",
    "        gcn_idx.append(score)"
   ]
  },
  {
   "cell_type": "code",
   "execution_count": 132,
   "metadata": {
    "collapsed": false,
    "deletable": true,
    "editable": true
   },
   "outputs": [
    {
     "data": {
      "text/plain": [
       "(190, 2)"
      ]
     },
     "execution_count": 132,
     "metadata": {},
     "output_type": "execute_result"
    }
   ],
   "source": [
    "gcn_pred_for_subnets = gcn_pred.loc[gcn_idx]\n",
    "gcn_pred_for_subnets.shape"
   ]
  },
  {
   "cell_type": "code",
   "execution_count": 133,
   "metadata": {
    "collapsed": false,
    "deletable": true,
    "editable": true,
    "scrolled": true
   },
   "outputs": [
    {
     "data": {
      "text/plain": [
       "(190,)"
      ]
     },
     "execution_count": 133,
     "metadata": {},
     "output_type": "execute_result"
    }
   ],
   "source": [
    "(gcn_pred.loc[gcn_idx].Prob_pos > .5).shape"
   ]
  },
  {
   "cell_type": "code",
   "execution_count": 134,
   "metadata": {
    "collapsed": true,
    "deletable": true,
    "editable": true
   },
   "outputs": [],
   "source": [
    "recovered_gcn = gcn_pred_for_subnets[gcn_pred_for_subnets.Prob_pos > .5]"
   ]
  },
  {
   "cell_type": "code",
   "execution_count": 135,
   "metadata": {
    "collapsed": false,
    "deletable": true,
    "editable": true
   },
   "outputs": [
    {
     "data": {
      "text/plain": [
       "((154, 2), (211, 2))"
      ]
     },
     "execution_count": 135,
     "metadata": {},
     "output_type": "execute_result"
    }
   ],
   "source": [
    "recovered_gcn.shape, gcn_pred[gcn_pred.Prob_pos > 0.5].shape"
   ]
  },
  {
   "cell_type": "code",
   "execution_count": 139,
   "metadata": {
    "collapsed": false,
    "deletable": true,
    "editable": true
   },
   "outputs": [
    {
     "data": {
      "image/png": "[encoded data removed]",
      "text/plain": [
       "<matplotlib.figure.Figure at 0x7f5487be6b38>"
      ]
     },
     "metadata": {},
     "output_type": "display_data"
    }
   ],
   "source": [
    "subnet_entries = subnets.values.flatten()\n",
    "y_true = gcn_pred.index.isin(subnet_entries)\n",
    "y_score = gcn_pred.Prob_pos\n",
    "tpr, fpr, _ = roc_curve(y_score=y_score, y_true=y_true)\n",
    "auc = roc_auc_score(y_score=y_score, y_true=y_true)\n",
    "fig = plt.figure(figsize=(14, 8))\n",
    "plt.plot(tpr, fpr, lw=4, color='orange', label='GCN (AUC {0:.2f})'.format(auc))\n",
    "plt.plot([0, 1], [0, 1], color='gray', lw=4, linestyle='--', label='Random (AUC 0.5)')\n",
    "plt.legend(loc='lower right')\n",
    "fig.savefig(model_dir + 'roc_curve_cliquemems_allnodes.png', dpi=300)"
   ]
  },
  {
   "cell_type": "code",
   "execution_count": 138,
   "metadata": {
    "collapsed": false,
    "deletable": true,
    "editable": true,
    "scrolled": false
   },
   "outputs": [
    {
     "name": "stdout",
     "output_type": "stream",
     "text": [
      "0.18043684710351376 190 863\n"
     ]
    },
    {
     "data": {
      "image/png": "[encoded data removed]",
      "text/plain": [
       "<matplotlib.figure.Figure at 0x7f5487dc3eb8>"
      ]
     },
     "metadata": {},
     "output_type": "display_data"
    }
   ],
   "source": [
    "\n",
    "aupr = average_precision_score(y_true, y_score)\n",
    "pr, rec, thr = precision_recall_curve(y_true, y_score)\n",
    "\n",
    "fig = plt.figure(figsize=(14, 8))\n",
    "plt.plot(rec, pr, lw=4, color='orange', label='GCN (AUPR = {0:.2f})'.format(aupr))\n",
    "random_y = y_true.sum() / (y_true.sum() + y_true.shape[0] - y_true.sum())\n",
    "print (random_y, y_true.sum(), y_true.shape[0]-y_true.sum())\n",
    "plt.plot([0, 1], [random_y, random_y], color='gray', lw=4, linestyle='--', label='Random')\n",
    "plt.xlabel('Recall')\n",
    "plt.ylabel('Precision')\n",
    "plt.title('Precision-Recall Curve')\n",
    "plt.legend()\n",
    "fig.savefig(os.path.join(model_dir, 'prec_recall_cliquemems_allnodes.png'))\n",
    "\n"
   ]
  },
  {
   "cell_type": "code",
   "execution_count": 104,
   "metadata": {
    "collapsed": false,
    "deletable": true,
    "editable": true
   },
   "outputs": [
    {
     "name": "stdout",
     "output_type": "stream",
     "text": [
      "[Threshold: 0.994] Precision: 0.9243697478991597\tRecall: 0.5789473684210527\n"
     ]
    }
   ],
   "source": [
    "from sklearn.metrics import precision_score, recall_score\n",
    "THRESHOLD = .994\n",
    "pr_s = precision_score(y_true=y_true, y_pred=y_score >= THRESHOLD)\n",
    "rec_s = recall_score(y_true=y_true, y_pred=y_score >= THRESHOLD)\n",
    "print (\"[Threshold: {}] Precision: {}\\tRecall: {}\".format(THRESHOLD, pr_s, rec_s))"
   ]
  },
  {
   "cell_type": "code",
   "execution_count": 80,
   "metadata": {
    "collapsed": false,
    "scrolled": false
   },
   "outputs": [
    {
     "data": {
      "text/plain": [
       "<matplotlib.text.Text at 0x7f54dc20bda0>"
      ]
     },
     "execution_count": 80,
     "metadata": {},
     "output_type": "execute_result"
    },
    {
     "data": {
      "image/png": "[encoded data removed]",
      "text/plain": [
       "<matplotlib.figure.Figure at 0x7f5487d77e80>"
      ]
     },
     "metadata": {},
     "output_type": "display_data"
    }
   ],
   "source": [
    "fig = plt.figure(figsize=(14, 8))\n",
    "plt.subplot(2, 2, 1)\n",
    "plt.plot(rec)\n",
    "plt.title('Recall')\n",
    "plt.subplot(2, 2, 2)\n",
    "plt.plot(pr)\n",
    "plt.title('Precision')\n",
    "plt.subplot(2, 2, 3)\n",
    "plt.plot(thr)\n",
    "plt.title('Thresholds')"
   ]
  },
  {
   "cell_type": "code",
   "execution_count": 39,
   "metadata": {
    "collapsed": false
   },
   "outputs": [
    {
     "data": {
      "text/plain": [
       "array([0.01597387, 0.01605777, 0.01612183, 0.01618466, 0.01629305,\n",
       "       0.01637949, 0.0164389 , 0.01651894, 0.0165625 , 0.01662427,\n",
       "       0.01662766, 0.01665636, 0.01670912, 0.01677639, 0.01690035,\n",
       "       0.01699995, 0.01700123, 0.01708458, 0.01710941, 0.01723233,\n",
       "       0.0174985 , 0.01789105, 0.01804454, 0.01820722, 0.01826766,\n",
       "       0.0187988 , 0.01882798, 0.01890487, 0.01913605, 0.01914875,\n",
       "       0.01937949, 0.01953175, 0.01967727, 0.01974925, 0.01977106,\n",
       "       0.01982487, 0.01986804, 0.02006872, 0.02058304, 0.02073857,\n",
       "       0.02076815, 0.02086925, 0.02095744, 0.0210292 , 0.02107989,\n",
       "       0.02117049, 0.02141857, 0.02142929, 0.02153186, 0.02158589,\n",
       "       0.02174143, 0.02175838, 0.02178118, 0.0218557 , 0.0220234 ,\n",
       "       0.02204586, 0.02256748, 0.02291184, 0.02292377, 0.02292506,\n",
       "       0.02294204, 0.02324907, 0.02325888, 0.02333881, 0.02351733,\n",
       "       0.02367194, 0.02382044, 0.02408329, 0.02410014, 0.0244325 ,\n",
       "       0.02514866, 0.02533307, 0.02558716, 0.02577395, 0.02592635,\n",
       "       0.02599248, 0.02620223, 0.02624829, 0.02627552, 0.02628657,\n",
       "       0.02639984, 0.02642795, 0.02644028, 0.02644199, 0.02644379,\n",
       "       0.02665533, 0.02691965, 0.02708916, 0.02711562, 0.02721698,\n",
       "       0.02724766, 0.02750646, 0.02751919, 0.02752753, 0.02754632,\n",
       "       0.02760333, 0.02762318, 0.02764814, 0.02773172, 0.02791792,\n",
       "       0.02857816, 0.02865335, 0.02872028, 0.02877002, 0.02889402,\n",
       "       0.02899328, 0.02904804, 0.02935378, 0.02947982, 0.0294959 ,\n",
       "       0.03002829, 0.0301338 , 0.03037591, 0.03056923, 0.03060887,\n",
       "       0.03081247, 0.0311491 , 0.03119947, 0.03133954, 0.03152581,\n",
       "       0.03194381, 0.03195319, 0.03202577, 0.03236706, 0.03239149,\n",
       "       0.03249998, 0.03266644, 0.03271724, 0.03280187, 0.03300659,\n",
       "       0.03333015, 0.03343085, 0.03349886, 0.03356754, 0.03394837,\n",
       "       0.03399229, 0.03408339, 0.034444  , 0.03464667, 0.03481976,\n",
       "       0.0349013 , 0.03491032, 0.03494598, 0.03495217, 0.03511366,\n",
       "       0.03516708, 0.03537347, 0.03553068, 0.0356881 , 0.03577909,\n",
       "       0.03613032, 0.03649845, 0.03675736, 0.03676742, 0.03715464,\n",
       "       0.03716377, 0.03737859, 0.03750032, 0.03757548, 0.03760872,\n",
       "       0.037971  , 0.03853731, 0.03857062, 0.03863045, 0.03992144,\n",
       "       0.03993763, 0.03995973, 0.04000745, 0.04025409, 0.0403593 ,\n",
       "       0.04060827, 0.04089493, 0.04094751, 0.04095174, 0.0411963 ,\n",
       "       0.04128544, 0.04134249, 0.04156483, 0.04162261, 0.04175828,\n",
       "       0.04188223, 0.04210725, 0.04211868, 0.04212175, 0.04216979,\n",
       "       0.04262108, 0.04286735, 0.0437641 , 0.04383471, 0.04422309,\n",
       "       0.04433945, 0.04441444, 0.04476453, 0.04498911, 0.04559616,\n",
       "       0.04601014, 0.04648416, 0.04668591, 0.04676735, 0.04684374,\n",
       "       0.04702516, 0.04706695, 0.04716996, 0.04719267, 0.0471967 ,\n",
       "       0.04763704, 0.04792224, 0.0480701 , 0.04889452, 0.04919382,\n",
       "       0.04943961, 0.04957729, 0.04958682, 0.04961528, 0.05049583,\n",
       "       0.05055335, 0.05064556, 0.05074432, 0.05117439, 0.05160997,\n",
       "       0.05169631, 0.05183792, 0.05225956, 0.05259386, 0.05312217,\n",
       "       0.05324313, 0.05343827, 0.0534756 , 0.05377674, 0.05378002,\n",
       "       0.05410791, 0.05445318, 0.05465502, 0.05478935, 0.05497274,\n",
       "       0.05511754, 0.0551698 , 0.05534709, 0.05552524, 0.05553669,\n",
       "       0.05565574, 0.05590543, 0.05593285, 0.05600292, 0.05602241,\n",
       "       0.05610196, 0.05615158, 0.05636745, 0.05641734, 0.05647798,\n",
       "       0.05666083, 0.05669786, 0.05670414, 0.05690218, 0.0570356 ,\n",
       "       0.05776956, 0.05797014, 0.05818545, 0.05834026, 0.05840432,\n",
       "       0.05867484, 0.05901673, 0.05928897, 0.05931241, 0.05934079,\n",
       "       0.05975664, 0.05985424, 0.05991748, 0.06002636, 0.06032285,\n",
       "       0.06038854, 0.06074409, 0.06089436, 0.060944  , 0.06112779,\n",
       "       0.06120801, 0.06160247, 0.06174748, 0.0618413 , 0.0618671 ,\n",
       "       0.06263282, 0.06270789, 0.06293662, 0.06337905, 0.06344631,\n",
       "       0.06374436, 0.06390134, 0.06400328, 0.06491732, 0.06497845,\n",
       "       0.06527413, 0.06589725, 0.06595246, 0.06608414, 0.06647547,\n",
       "       0.06721196, 0.0676118 , 0.06762595, 0.06775896, 0.06809417,\n",
       "       0.06855122, 0.06879711, 0.06880738, 0.0692852 , 0.06965244,\n",
       "       0.06992697, 0.07037719, 0.07059622, 0.07062392, 0.0709985 ,\n",
       "       0.07102784, 0.07130904, 0.07145466, 0.07156269, 0.07167546,\n",
       "       0.07183094, 0.07216956, 0.07218632, 0.07234582, 0.07255939,\n",
       "       0.0727715 , 0.07293619, 0.0731815 , 0.07329908, 0.07337359,\n",
       "       0.07406848, 0.07419596, 0.0747429 , 0.07489401, 0.0759634 ,\n",
       "       0.07599421, 0.07637335, 0.07757839, 0.07760264, 0.07795356,\n",
       "       0.07795996, 0.07805411, 0.07813562, 0.07814261, 0.07822423,\n",
       "       0.07845666, 0.07845781, 0.07878495, 0.07899389, 0.07904719,\n",
       "       0.07905215, 0.07911511, 0.07940114, 0.07940137, 0.07999241,\n",
       "       0.08023439, 0.08042639, 0.08053824, 0.08086836, 0.08135797,\n",
       "       0.08167813, 0.08175998, 0.08212478, 0.08255116, 0.08290118,\n",
       "       0.08290715, 0.0829474 , 0.08318146, 0.08396825, 0.08404113,\n",
       "       0.0840726 , 0.08417121, 0.08440456, 0.08452751, 0.08529051,\n",
       "       0.08630976, 0.08677782, 0.08688387, 0.08705164, 0.08754937,\n",
       "       0.08760212, 0.08760363, 0.08872198, 0.0900379 , 0.09051794,\n",
       "       0.09056531, 0.09064686, 0.09069411, 0.09088502, 0.09112383,\n",
       "       0.09409361, 0.09541221, 0.09576093, 0.09697916, 0.09709676,\n",
       "       0.09719859, 0.09807231, 0.09866305, 0.09896908, 0.09971612,\n",
       "       0.10003241, 0.10006168, 0.10007748, 0.10018245, 0.10023073,\n",
       "       0.10064842, 0.10089283, 0.101505  , 0.10159489, 0.10196713,\n",
       "       0.10301161, 0.10400441, 0.10404202, 0.10524026, 0.10670228,\n",
       "       0.10778915, 0.1078008 , 0.10814457, 0.10821816, 0.10909238,\n",
       "       0.10910519, 0.10967849, 0.10990409, 0.11061855, 0.11191329,\n",
       "       0.11241148, 0.11428566, 0.11500044, 0.11537635, 0.11557379,\n",
       "       0.11598294, 0.11686654, 0.11827829, 0.11885935, 0.11910324,\n",
       "       0.11923804, 0.11961852, 0.12029047, 0.12190144, 0.12211055,\n",
       "       0.12232293, 0.12317415, 0.1232811 , 0.12373216, 0.12373695,\n",
       "       0.12455883, 0.12462696, 0.1248372 , 0.12495293, 0.12525772,\n",
       "       0.12528506, 0.12559316, 0.12585443, 0.12604491, 0.12653553,\n",
       "       0.12662205, 0.12842664, 0.12887812, 0.12888797, 0.12902381,\n",
       "       0.13036607, 0.13263832, 0.13293685, 0.13642831, 0.13735808,\n",
       "       0.13753641, 0.1386641 , 0.13953342, 0.14037429, 0.14121962,\n",
       "       0.14122771, 0.1419    , 0.14206   , 0.14247836, 0.14301977,\n",
       "       0.14309469, 0.14328387, 0.14371973, 0.14382342, 0.14424512,\n",
       "       0.14426813, 0.14598791, 0.14608897, 0.14628547, 0.14837271,\n",
       "       0.14926757, 0.15143639, 0.15237892, 0.15355912, 0.1553238 ,\n",
       "       0.15649465, 0.15905985, 0.16157562, 0.16313872, 0.16314541,\n",
       "       0.16350752, 0.16507991, 0.16537215, 0.16561666, 0.16629346,\n",
       "       0.16723132, 0.16876331, 0.17119366, 0.17383939, 0.17411453,\n",
       "       0.17414176, 0.17419361, 0.17558303, 0.17650393, 0.17817736,\n",
       "       0.17892727, 0.1789729 , 0.17913893, 0.17947246, 0.18036565,\n",
       "       0.18255071, 0.18338434, 0.18428703, 0.18433805, 0.18483165,\n",
       "       0.1854756 , 0.18593168, 0.18615289, 0.18764201, 0.18766725,\n",
       "       0.18961005, 0.189989  , 0.19243705, 0.19268849, 0.19403447,\n",
       "       0.19501075, 0.19612908, 0.19654933, 0.19801906, 0.20010568,\n",
       "       0.20178875, 0.20298907, 0.20425248, 0.20491707, 0.20681624,\n",
       "       0.20719217, 0.20898454, 0.21076843, 0.21264172, 0.2126949 ,\n",
       "       0.2137903 , 0.21391538, 0.21405278, 0.21414126, 0.21501133,\n",
       "       0.2155889 , 0.21594249, 0.21621296, 0.21648794, 0.21680646,\n",
       "       0.21756239, 0.21825184, 0.22141066, 0.22218037, 0.22374108,\n",
       "       0.22478501, 0.22546522, 0.23108202, 0.23454918, 0.23605673,\n",
       "       0.2362854 , 0.23635781, 0.23838601, 0.23870762, 0.24094832,\n",
       "       0.24216941, 0.24225836, 0.24554487, 0.24588595, 0.24631396,\n",
       "       0.24734776, 0.24791965, 0.25023869, 0.25271317, 0.25458241,\n",
       "       0.25479883, 0.25507835, 0.25827166, 0.25933343, 0.26108462,\n",
       "       0.26212537, 0.26216072, 0.26218933, 0.26314604, 0.26417512,\n",
       "       0.26430821, 0.26431793, 0.26469198, 0.26562157, 0.26740536,\n",
       "       0.26743701, 0.26749209, 0.2679767 , 0.26824036, 0.26826686,\n",
       "       0.26869166, 0.26923421, 0.27210981, 0.27220118, 0.2772361 ,\n",
       "       0.27943721, 0.28044525, 0.29338211, 0.29360408, 0.29921225,\n",
       "       0.30039051, 0.30590031, 0.30624196, 0.30669433, 0.30911559,\n",
       "       0.31028077, 0.31253007, 0.31293038, 0.31396517, 0.3141228 ,\n",
       "       0.31417394, 0.31490934, 0.31665793, 0.31667539, 0.31870067,\n",
       "       0.32216758, 0.32309756, 0.32428202, 0.32529676, 0.32573831,\n",
       "       0.32755715, 0.32932177, 0.32939005, 0.32976225, 0.332468  ,\n",
       "       0.33679003, 0.33909702, 0.34026694, 0.34149733, 0.34226367,\n",
       "       0.34341285, 0.34422722, 0.34916592, 0.35380182, 0.35439891,\n",
       "       0.35487348, 0.35682282, 0.35817257, 0.35828283, 0.36200896,\n",
       "       0.36426845, 0.36711451, 0.36832401, 0.37259462, 0.37405187,\n",
       "       0.37513185, 0.37584275, 0.37640065, 0.39556032, 0.39607677,\n",
       "       0.40285793, 0.40388215, 0.40560445, 0.40851474, 0.41073057,\n",
       "       0.41252089, 0.41600689, 0.41814157, 0.41877586, 0.42072204,\n",
       "       0.42276227, 0.42360312, 0.42694521, 0.42787346, 0.42954001,\n",
       "       0.43130499, 0.43165055, 0.43590924, 0.4371033 , 0.43719614,\n",
       "       0.44114158, 0.44197926, 0.44201207, 0.44659391, 0.44900963,\n",
       "       0.45112926, 0.45167616, 0.45181572, 0.45190659, 0.45373139,\n",
       "       0.45390978, 0.45391598, 0.45406801, 0.45478171, 0.45535299,\n",
       "       0.45537958, 0.45602292, 0.45693079, 0.46507165, 0.46681541,\n",
       "       0.4729273 , 0.47409871, 0.47508174, 0.47525099, 0.47575405,\n",
       "       0.47604257, 0.47818348, 0.47944701, 0.48170891, 0.48670703,\n",
       "       0.48683187, 0.49043435, 0.49067193, 0.49164984, 0.4930748 ,\n",
       "       0.49330744, 0.49408752, 0.49983564, 0.50084448, 0.50090671,\n",
       "       0.50683355, 0.51012599, 0.51345122, 0.51435488, 0.51555777,\n",
       "       0.51563275, 0.51614743, 0.52449369, 0.52608353, 0.52672052,\n",
       "       0.52822119, 0.53368706, 0.53487635, 0.53718007, 0.53797263,\n",
       "       0.54144919, 0.54248124, 0.54380214, 0.54500973, 0.54532814,\n",
       "       0.54753709, 0.55439466, 0.55454016, 0.55459738, 0.55493897,\n",
       "       0.55625129, 0.55941349, 0.5611949 , 0.56238985, 0.56734461,\n",
       "       0.57042319, 0.57737297, 0.58112466, 0.58427304, 0.58723116,\n",
       "       0.60179931, 0.6040768 , 0.60892427, 0.61036235, 0.61238885,\n",
       "       0.61817127, 0.62292767, 0.62416863, 0.62667471, 0.63501698,\n",
       "       0.63610786, 0.63716924, 0.63752794, 0.63921815, 0.64054686,\n",
       "       0.64103818, 0.64154977, 0.64157802, 0.64213634, 0.65274608,\n",
       "       0.65852588, 0.66326201, 0.66380179, 0.6697377 , 0.67152697,\n",
       "       0.67202401, 0.67400205, 0.67643195, 0.68338478, 0.68418604,\n",
       "       0.6845876 , 0.6861034 , 0.68684971, 0.68857962, 0.69046199,\n",
       "       0.69174618, 0.69263709, 0.69287634, 0.695279  , 0.69556999,\n",
       "       0.69594675, 0.69809163, 0.70077217, 0.70238537, 0.70347393,\n",
       "       0.70421249, 0.7067641 , 0.70961148, 0.71787244, 0.71826881,\n",
       "       0.72046125, 0.72309035, 0.72403294, 0.72803068, 0.73046583,\n",
       "       0.73097438, 0.73392469, 0.73398191, 0.73684919, 0.73777235,\n",
       "       0.74565595, 0.74673772, 0.7486099 , 0.74930358, 0.75112391,\n",
       "       0.75422549, 0.75511777, 0.75545031, 0.75760698, 0.75982451,\n",
       "       0.76069033, 0.76159996, 0.76161093, 0.76524222, 0.76710117,\n",
       "       0.77773649, 0.7789042 , 0.78797823, 0.78838938, 0.78904712,\n",
       "       0.79387051, 0.79750705, 0.80074209, 0.80354071, 0.80731601,\n",
       "       0.80775774, 0.80902284, 0.81129831, 0.81577224, 0.8160975 ,\n",
       "       0.81720155, 0.8172546 , 0.81955415, 0.8206436 , 0.8223595 ,\n",
       "       0.82314336, 0.82427663, 0.82754582, 0.83731502, 0.83732212,\n",
       "       0.83891851, 0.84051549, 0.84053522, 0.84116501, 0.84339821,\n",
       "       0.84341609, 0.84370321, 0.84573084, 0.84752452, 0.85257167,\n",
       "       0.85555893, 0.8574903 , 0.86188048, 0.8638972 , 0.86572027,\n",
       "       0.8666389 , 0.86739749, 0.86805272, 0.87331456, 0.87855577,\n",
       "       0.88045859, 0.88224632, 0.8827616 , 0.88626844, 0.88747358,\n",
       "       0.89109862, 0.89168245, 0.89552593, 0.89559954, 0.89756101,\n",
       "       0.90514004, 0.91217452, 0.91357112, 0.91786093, 0.92173362,\n",
       "       0.92224979, 0.92421973, 0.9262467 , 0.93078578, 0.93168652,\n",
       "       0.93419307, 0.93449342, 0.93755829, 0.93831861, 0.93950659,\n",
       "       0.9403621 , 0.94115949, 0.94149262, 0.94328433, 0.94665533,\n",
       "       0.94669122, 0.94722623, 0.94732291, 0.94899821, 0.94938648,\n",
       "       0.94975871, 0.95002538, 0.95090991, 0.95143461, 0.95285189,\n",
       "       0.95319706, 0.95452344, 0.9547174 , 0.9550724 , 0.95590258,\n",
       "       0.95610458, 0.95612371, 0.95689595, 0.95714343, 0.95737678,\n",
       "       0.95801169, 0.95865303, 0.9590295 , 0.96056759, 0.96523196,\n",
       "       0.96575046, 0.96578169, 0.9659977 , 0.96619153, 0.96636081,\n",
       "       0.96685421, 0.97071868, 0.9716295 , 0.97167486, 0.97320932,\n",
       "       0.97366828, 0.97407442, 0.97490406, 0.97724426, 0.97739571,\n",
       "       0.97783375, 0.97861493, 0.9795782 , 0.98118103, 0.9819774 ,\n",
       "       0.98289281, 0.98322821, 0.9832598 , 0.98449785, 0.98701143,\n",
       "       0.98752487, 0.98908091, 0.99075913, 0.99186349, 0.99221426,\n",
       "       0.9928382 , 0.99293184, 0.99321693, 0.99552238, 0.99564481,\n",
       "       0.9963243 , 0.99656624, 0.99719113, 0.99927908, 0.99944109])"
      ]
     },
     "execution_count": 39,
     "metadata": {},
     "output_type": "execute_result"
    }
   ],
   "source": [
    "thr"
   ]
  },
  {
   "cell_type": "code",
   "execution_count": null,
   "metadata": {
    "collapsed": true
   },
   "outputs": [],
   "source": []
  }
 ],
 "metadata": {
  "kernelspec": {
   "display_name": "Python 3",
   "language": "python",
   "name": "python3"
  },
  "language_info": {
   "codemirror_mode": {
    "name": "ipython",
    "version": 3
   },
   "file_extension": ".py",
   "mimetype": "text/x-python",
   "name": "python",
   "nbconvert_exporter": "python",
   "pygments_lexer": "ipython3",
   "version": "3.6.1"
  }
 },
 "nbformat": 4,
 "nbformat_minor": 2
}
