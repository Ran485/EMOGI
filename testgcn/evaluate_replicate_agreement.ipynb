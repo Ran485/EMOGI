{
 "cells": [
  {
   "cell_type": "markdown",
   "metadata": {
    "deletable": true,
    "editable": true
   },
   "source": [
    "# Evalution of Replicate Agreement\n",
    "In this notebook, I want to explore how well the replicates of the dual RNA-seq experiements agree with one another.\n",
    "For that purpose, I'll load three different runs of the GCN for the three different replicates.\n",
    "Then, I'll see how much they have in common."
   ]
  },
  {
   "cell_type": "code",
   "execution_count": 1,
   "metadata": {
    "collapsed": false,
    "deletable": true,
    "editable": true
   },
   "outputs": [],
   "source": [
    "import numpy as np\n",
    "import pandas as pd\n",
    "import h5py\n",
    "\n",
    "np.set_printoptions(suppress=True)\n",
    "pd.set_option('display.float_format', lambda x: '%.3f' % x)\n",
    "import matplotlib.pyplot as plt\n",
    "import matplotlib.patches as mpatches\n",
    "import seaborn\n",
    "\n",
    "from statsmodels.stats.inter_rater import fleiss_kappa, cohens_kappa\n",
    "%matplotlib inline"
   ]
  },
  {
   "cell_type": "markdown",
   "metadata": {
    "deletable": true,
    "editable": true
   },
   "source": [
    "## Loading GCN Predictions"
   ]
  },
  {
   "cell_type": "code",
   "execution_count": 2,
   "metadata": {
    "collapsed": true,
    "deletable": true,
    "editable": true
   },
   "outputs": [],
   "source": [
    "model_dir_rep1 = '../data/GCN/training/replicate1/'\n",
    "model_dir_rep2 = '../data/GCN/training/replicate2/'\n",
    "model_dir_rep3 = '../data/GCN/training/replicate3/'\n",
    "data_file = '../data/preprocessing/legionella_gcn_input.h5'\n",
    "CLASSIFICATION_THRESHOLD = 0.5\n",
    "\n",
    "with h5py.File(data_file, 'r') as f:\n",
    "    network = f['network'][:]\n",
    "    features = f['features'][:]\n",
    "    node_names = f['gene_names'][:]\n",
    "    y_train = f['y_train'][:]\n",
    "    y_test = f['y_test'][:]\n",
    "    if 'y_val' in f:\n",
    "        y_val = f['y_val'][:]\n",
    "    else:\n",
    "        y_val = None\n",
    "    train_mask = f['mask_train'][:]\n",
    "    test_mask = f['mask_test'][:]\n",
    "    if 'mask_val' in f:\n",
    "        val_mask = f['mask_val'][:]\n",
    "    else:\n",
    "        val_mask = None\n",
    "\n",
    "# get a label dataframe\n",
    "labels_df = pd.DataFrame(node_names, index=node_names[:, 0], columns=['ID', 'name']).drop('ID', axis=1)\n",
    "labels_df['label'] = (y_train[:,0] | y_test[:,0])\n",
    "labels_df['train_label'] = y_train[:, 0]\n",
    "labels_df['test_label'] = y_test[:, 0]\n",
    "\n",
    "def load_predictions(model_dir):\n",
    "    # load predictions\n",
    "    predictions = pd.DataFrame.from_csv(model_dir + '/predictions.tsv', sep='\\t', header=0)\n",
    "    pos_predicted = predictions[predictions.Prob_pos > CLASSIFICATION_THRESHOLD]\n",
    "\n",
    "    print (\"Predicted {} genes of {} total to be involved in infection\".format(pos_predicted.shape[0], predictions.shape[0]))\n",
    "    pos_predicted.sort_values(by='Prob_pos', ascending=False).to_csv(model_dir + '/positive_prediction.txt', sep='\\t')\n",
    "    return predictions, pos_predicted\n",
    "\n",
    "def prediction_stats(predictions, labels_df):\n",
    "    labels_with_pred = labels_df.join(predictions)\n",
    "    predictions_for_knowns = labels_with_pred[labels_with_pred.label == 1]\n",
    "    pos_pred = predictions_for_knowns[predictions_for_knowns.Prob_pos > CLASSIFICATION_THRESHOLD]\n",
    "    known_pos_predictions = pos_pred.shape[0]\n",
    "    number_of_knowns = predictions_for_knowns.shape[0]\n",
    "    pred_test = pos_pred[pos_pred.test_label == 1]\n",
    "    pred_train = pos_pred[pos_pred.train_label == 1]\n",
    "\n",
    "    print (\"Predicted {} out of {} known infection genes\".format(known_pos_predictions,\n",
    "                                                                 number_of_knowns)\n",
    "          )\n",
    "    print (\"Out of these {}, {} were not shown during training.\".format(number_of_knowns,\n",
    "                                                                        y_test[:, 0].sum())\n",
    "          )\n",
    "    print (\"Predicted {} out of {} test genes ({}%)\".format(pred_test.shape[0],\n",
    "                                                            y_test[:,0].sum(),\n",
    "                                                            pred_test.shape[0]/y_test[:,0].sum()*100.)\n",
    "          )\n",
    "    print (\"Predicted {} out of {} train genes ({}%)\".format(pred_train.shape[0],\n",
    "                                                             y_train[:,0].sum(),\n",
    "                                                             pred_train.shape[0]/y_train[:,0].sum()*100.)\n",
    "          )\n",
    "    predictions_for_knowns.sort_values(by='Prob_pos', ascending=False)\n",
    "    return predictions_for_knowns"
   ]
  },
  {
   "cell_type": "markdown",
   "metadata": {
    "deletable": true,
    "editable": true
   },
   "source": [
    "## Basic Statistics over Replicates"
   ]
  },
  {
   "cell_type": "code",
   "execution_count": 3,
   "metadata": {
    "collapsed": false,
    "deletable": true,
    "editable": true
   },
   "outputs": [
    {
     "name": "stdout",
     "output_type": "stream",
     "text": [
      "Predicted 1487 genes of 10823 total to be involved in infection\n",
      "Predicted 1984 genes of 10823 total to be involved in infection\n",
      "Predicted 792 genes of 10823 total to be involved in infection\n"
     ]
    }
   ],
   "source": [
    "pred_rep1, pospred_rep1 = load_predictions(model_dir_rep1)\n",
    "pred_rep2, pospred_rep2 = load_predictions(model_dir_rep2)\n",
    "pred_rep3, pospred_rep3 = load_predictions(model_dir_rep3)"
   ]
  },
  {
   "cell_type": "code",
   "execution_count": 4,
   "metadata": {
    "collapsed": false,
    "deletable": true,
    "editable": true
   },
   "outputs": [
    {
     "name": "stdout",
     "output_type": "stream",
     "text": [
      "Predicted 30 out of 38 known infection genes\n",
      "Out of these 38, 16 were not shown during training.\n",
      "Predicted 11 out of 16 test genes (68.75%)\n",
      "Predicted 19 out of 22 train genes (86.36363636363636%)\n",
      "\n",
      "Predicted 29 out of 38 known infection genes\n",
      "Out of these 38, 16 were not shown during training.\n",
      "Predicted 12 out of 16 test genes (75.0%)\n",
      "Predicted 17 out of 22 train genes (77.27272727272727%)\n",
      "\n",
      "Predicted 20 out of 38 known infection genes\n",
      "Out of these 38, 16 were not shown during training.\n",
      "Predicted 7 out of 16 test genes (43.75%)\n",
      "Predicted 13 out of 22 train genes (59.09090909090909%)\n"
     ]
    }
   ],
   "source": [
    "pred_knowns_rep1 = prediction_stats(pred_rep1, labels_df)\n",
    "print()\n",
    "pred_knowns_rep2 = prediction_stats(pred_rep2, labels_df)\n",
    "print()\n",
    "pred_knowns_rep3 = prediction_stats(pred_rep3, labels_df)"
   ]
  },
  {
   "cell_type": "markdown",
   "metadata": {
    "deletable": true,
    "editable": true
   },
   "source": [
    "## Similarity of Predictions\n",
    "A lot of research has been done already to measure the extend to which different raters agree on an observation.\n",
    "This is called **inter-rater reliability** and can be used here to determine how well the predictions for the three replicates differ."
   ]
  },
  {
   "cell_type": "markdown",
   "metadata": {
    "deletable": true,
    "editable": true
   },
   "source": [
    "### Fleiss' Kappa Statistics\n",
    "That  is a measure usable for categorical predictions and any number of raters. It's thus perfect for me."
   ]
  },
  {
   "cell_type": "code",
   "execution_count": 5,
   "metadata": {
    "collapsed": false,
    "deletable": true,
    "editable": true
   },
   "outputs": [
    {
     "name": "stdout",
     "output_type": "stream",
     "text": [
      "Fleiss' Kappa Value: 0.43914760925238777\n"
     ]
    }
   ],
   "source": [
    "all_pos = pd.concat([pred_rep1.Prob_pos > CLASSIFICATION_THRESHOLD,\n",
    "                     pred_rep2.Prob_pos > CLASSIFICATION_THRESHOLD,\n",
    "                     pred_rep3.Prob_pos > CLASSIFICATION_THRESHOLD], axis=1)\n",
    "all_pos.columns = ['predicted_rep1', 'predicted_rep2', 'predicted_rep3']\n",
    "all_neg = pd.concat([pred_rep1.Prob_pos <= CLASSIFICATION_THRESHOLD,\n",
    "                     pred_rep2.Prob_pos <= CLASSIFICATION_THRESHOLD,\n",
    "                     pred_rep3.Prob_pos <= CLASSIFICATION_THRESHOLD], axis=1)\n",
    "all_neg.columns = ['not_predicted_rep1', 'not_predicted_rep2', 'not_predicted_rep3']\n",
    "count_table = pd.concat([all_pos.sum(axis=1), all_neg.sum(axis=1)], axis=1)\n",
    "count_table.columns = ['Num_Pos', 'Num_Neg']\n",
    "print (\"Fleiss' Kappa Value: {}\".format(fleiss_kappa(count_table)))"
   ]
  },
  {
   "cell_type": "markdown",
   "metadata": {
    "deletable": true,
    "editable": true
   },
   "source": [
    "### Agreement Statistics\n",
    "Just print some basic statistics as to how many genes are predicted by all replicates and how many replicates make the same prediction. Also state the number of deviating genes and which of the replicates is most responsible for that."
   ]
  },
  {
   "cell_type": "code",
   "execution_count": 6,
   "metadata": {
    "collapsed": false,
    "deletable": true,
    "editable": true
   },
   "outputs": [
    {
     "name": "stdout",
     "output_type": "stream",
     "text": [
      "Number of genes predicted by all replicates: 560\n",
      "Number of genes predicted in at least one replicate: 2637\n",
      "All Replicates agreeing on 8746 genes\n"
     ]
    },
    {
     "data": {
      "text/html": [
       "<div>\n",
       "<table border=\"1\" class=\"dataframe\">\n",
       "  <thead>\n",
       "    <tr style=\"text-align: right;\">\n",
       "      <th></th>\n",
       "      <th>predicted_rep1</th>\n",
       "      <th>predicted_rep2</th>\n",
       "      <th>predicted_rep3</th>\n",
       "    </tr>\n",
       "  </thead>\n",
       "  <tbody>\n",
       "    <tr>\n",
       "      <th>predicted_rep1</th>\n",
       "      <td>1.000</td>\n",
       "      <td>0.447</td>\n",
       "      <td>0.559</td>\n",
       "    </tr>\n",
       "    <tr>\n",
       "      <th>predicted_rep2</th>\n",
       "      <td>0.447</td>\n",
       "      <td>1.000</td>\n",
       "      <td>0.434</td>\n",
       "    </tr>\n",
       "    <tr>\n",
       "      <th>predicted_rep3</th>\n",
       "      <td>0.559</td>\n",
       "      <td>0.434</td>\n",
       "      <td>1.000</td>\n",
       "    </tr>\n",
       "  </tbody>\n",
       "</table>\n",
       "</div>"
      ],
      "text/plain": [
       "                predicted_rep1  predicted_rep2  predicted_rep3\n",
       "predicted_rep1           1.000           0.447           0.559\n",
       "predicted_rep2           0.447           1.000           0.434\n",
       "predicted_rep3           0.559           0.434           1.000"
      ]
     },
     "execution_count": 6,
     "metadata": {},
     "output_type": "execute_result"
    }
   ],
   "source": [
    "num_all_pos = count_table[count_table.Num_Pos == 3].shape[0]\n",
    "print (\"Number of genes predicted by all replicates: {}\".format(num_all_pos))\n",
    "num_one_pos = count_table[count_table.Num_Pos >= 1].shape[0]\n",
    "print (\"Number of genes predicted in at least one replicate: {}\".format(num_one_pos))\n",
    "agreeing = all_pos[all_pos.apply(lambda x: min(x) == max(x), 1)]\n",
    "print (\"All Replicates agreeing on {} genes\".format(agreeing.shape[0]))\n",
    "\n",
    "correlations = all_pos.corr()\n",
    "correlations"
   ]
  },
  {
   "cell_type": "code",
   "execution_count": 10,
   "metadata": {
    "collapsed": false,
    "deletable": true,
    "editable": true,
    "scrolled": false
   },
   "outputs": [
    {
     "data": {
      "text/plain": [
       "<matplotlib.axes._subplots.AxesSubplot at 0x7f614704f9e8>"
      ]
     },
     "execution_count": 10,
     "metadata": {},
     "output_type": "execute_result"
    },
    {
     "data": {
      "image/png": "[encoded data removed]",
      "text/plain": [
       "<matplotlib.figure.Figure at 0x7f614704f710>"
      ]
     },
     "metadata": {},
     "output_type": "display_data"
    }
   ],
   "source": [
    "fig = plt.figure(figsize=(14, 8))\n",
    "#plt.hist(count_table.Num_Pos, bins=np.arange(0, 4, 1))\n",
    "count_table.Num_Pos.plot(kind='hist')"
   ]
  },
  {
   "cell_type": "code",
   "execution_count": null,
   "metadata": {
    "collapsed": true,
    "deletable": true,
    "editable": true
   },
   "outputs": [],
   "source": []
  }
 ],
 "metadata": {
  "kernelspec": {
   "display_name": "Python 3",
   "language": "python",
   "name": "python3"
  },
  "language_info": {
   "codemirror_mode": {
    "name": "ipython",
    "version": 3
   },
   "file_extension": ".py",
   "mimetype": "text/x-python",
   "name": "python",
   "nbconvert_exporter": "python",
   "pygments_lexer": "ipython3",
   "version": "3.6.1"
  }
 },
 "nbformat": 4,
 "nbformat_minor": 2
}
