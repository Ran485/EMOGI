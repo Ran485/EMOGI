{
 "cells": [
  {
   "cell_type": "markdown",
   "metadata": {},
   "source": [
    "# Prediction of Transcription Factors using GCNs\n",
    "To evaluate the quality of graph convolutional networks on PPI networks and gene expression, I'll use the dual RNA-seq gene expression from humans. I want to predict if a gene is a transcription factor (TF) or not, using only that information and a limited number of genes as training set.\n",
    "\n",
    "**In this notebook, I want to prepare the data for use with the GCN.**"
   ]
  },
  {
   "cell_type": "code",
   "execution_count": 9,
   "metadata": {
    "collapsed": true
   },
   "outputs": [],
   "source": [
    "import pandas as pd\n",
    "import numpy as np\n",
    "import h5py, os\n",
    "import mygene\n",
    "\n",
    "from goatools.base import download_go_basic_obo, download_ncbi_associations\n",
    "from goatools.associations import read_ncbi_gene2go\n",
    "from goatools.go_search import GoSearch"
   ]
  },
  {
   "cell_type": "markdown",
   "metadata": {},
   "source": [
    "## 1. Load PPI network with Gene Expression\n",
    "We first need the PPI network and gene expression which was already processed by the preprocessing steps."
   ]
  },
  {
   "cell_type": "code",
   "execution_count": 2,
   "metadata": {
    "collapsed": true
   },
   "outputs": [],
   "source": [
    "fname = '../data/preprocessing/ppi_networks.h5'\n",
    "with h5py.File(fname, 'r') as f:\n",
    "    gene_expression_data = pd.DataFrame(f['gene_expression'][:])\n",
    "    ppi_network = f['consensusPathDB_ppi'][:]\n",
    "    gene_names = f['gene_names'][:]"
   ]
  },
  {
   "cell_type": "markdown",
   "metadata": {},
   "source": [
    "## 2. Get Labels if a Gene is a TF or Not for all Genes\n",
    "I will do that using goatools which is a library and part of bioconda. This involves multiple steps. First, I have to get the IDs of genes that annotated to the TF GO term or one of it's children.\n",
    "Then, I have to convert the entrez IDs to Ensembl IDs."
   ]
  },
  {
   "cell_type": "code",
   "execution_count": 15,
   "metadata": {
    "collapsed": false
   },
   "outputs": [
    {
     "name": "stdout",
     "output_type": "stream",
     "text": [
      "  EXISTS: go-basic.obo\n",
      "  EXISTS: gene2go\n",
      "  READ: gene2go\n",
      "17529 GO terms associated with human NCBI Entrez GeneIDs\n",
      "load obo file go-basic.obo\n",
      "go-basic.obo: fmt(1.2) rel(2017-11-02) 47,030 GO Terms\n",
      "1248 human NCBI Entrez GeneIDs under Transcription Factors found.\n"
     ]
    }
   ],
   "source": [
    "\n",
    "\n",
    "# download GO terms and associations\n",
    "obo_fname = download_go_basic_obo()\n",
    "gene2go = download_ncbi_associations()\n",
    "# get all GO terms associated with human genes (maybe only the ones contained in gene_names?)\n",
    "go2geneids_human = read_ncbi_gene2go(\"gene2go\", taxids=[9606], go2geneids=True)\n",
    "print(\"{N} GO terms associated with human NCBI Entrez GeneIDs\".format(N=len(go2geneids_human)))\n",
    "\n",
    "# search in there for GO ID GO:0003700 (DNA binding TF activity)\n",
    "srchhelp = GoSearch(\"go-basic.obo\", go2items=go2geneids_human)\n",
    "# Details of search are written to a log file\n",
    "fout_allgos = \"TF_GO_search.log\" \n",
    "with open(fout_allgos, \"w\") as log:\n",
    "    # Add children GOs of TF\n",
    "    tf_with_children = srchhelp.add_children_gos(['GO:0003700', 'GO:0000130'])\n",
    "    # Get Entrez GeneIDs for cell cycle GOs\n",
    "    entrez_ids = list(srchhelp.get_items(tf_with_children))\n",
    "print(\"{N} human NCBI Entrez GeneIDs under Transcription Factors found.\".format(N=len(entrez_ids)))"
   ]
  },
  {
   "cell_type": "code",
   "execution_count": 39,
   "metadata": {
    "collapsed": false
   },
   "outputs": [
    {
     "name": "stdout",
     "output_type": "stream",
     "text": [
      "querying 1-1000...done.\n",
      "querying 1001-1248...done.\n",
      "Finished.\n",
      "1232 human transcription factors with corresponding Ensembl ID\n"
     ]
    }
   ],
   "source": [
    "mg = mygene.MyGeneInfo()\n",
    "res = mg.querymany(entrez_ids, scopes='entrezgene', fields='ensembl.gene', species='human')\n",
    "f = lambda x: x['ensembl'][0]['gene'] if type(x['ensembl']) is list else x['ensembl']['gene']\n",
    "ens_ids = [f(x) for x in res if 'ensembl' in x]\n",
    "print (\"{} human transcription factors with corresponding Ensembl ID\".format(len(ens_ids)))"
   ]
  },
  {
   "cell_type": "markdown",
   "metadata": {},
   "source": [
    "## 3. Split genes into training, testing and validation sets"
   ]
  },
  {
   "cell_type": "code",
   "execution_count": null,
   "metadata": {
    "collapsed": true
   },
   "outputs": [],
   "source": []
  },
  {
   "cell_type": "markdown",
   "metadata": {},
   "source": [
    "## 4. Write PPI Network, Gene Expression & Label Information to HDF5 Container"
   ]
  },
  {
   "cell_type": "code",
   "execution_count": null,
   "metadata": {
    "collapsed": true
   },
   "outputs": [],
   "source": []
  }
 ],
 "metadata": {
  "kernelspec": {
   "display_name": "Python 3",
   "language": "python",
   "name": "python3"
  },
  "language_info": {
   "codemirror_mode": {
    "name": "ipython",
    "version": 3
   },
   "file_extension": ".py",
   "mimetype": "text/x-python",
   "name": "python",
   "nbconvert_exporter": "python",
   "pygments_lexer": "ipython3",
   "version": "3.6.1"
  }
 },
 "nbformat": 4,
 "nbformat_minor": 2
}
